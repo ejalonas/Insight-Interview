{
 "cells": [
  {
   "cell_type": "markdown",
   "metadata": {},
   "source": [
    "# Importing data"
   ]
  },
  {
   "cell_type": "code",
   "execution_count": 1,
   "metadata": {
    "collapsed": true
   },
   "outputs": [],
   "source": [
    "import pandas as pd\n",
    "import numpy as np\n",
    "import sqlite3"
   ]
  },
  {
   "cell_type": "code",
   "execution_count": 2,
   "metadata": {
    "collapsed": false
   },
   "outputs": [],
   "source": [
    "db = sqlite3.connect('winequal.db')\n",
    "cur = db.cursor()\n",
    "\n",
    "\n",
    "cur.execute(\"ALTER TABLE red ADD COLUMN color INT DEFAULT 0\")\n",
    "cur.execute(\"ALTER TABLE white ADD COLUMN color INT DEFAULT 1\")\n",
    "\n",
    "cur.execute('SELECT * from red')\n",
    "red_data = cur.fetchall()\n",
    "\n",
    "db.commit()\n",
    "db.close()\n",
    "\n",
    "db = sqlite3.connect('winequal.db')\n",
    "cur = db.cursor()\n",
    "\n",
    "cur.execute('SELECT * from white')\n",
    "white_data = cur.fetchall()\n",
    "\n",
    "db.commit()\n",
    "db.close()\n",
    "\n",
    " "
   ]
  },
  {
   "cell_type": "code",
   "execution_count": 3,
   "metadata": {
    "collapsed": false
   },
   "outputs": [
    {
     "data": {
      "text/html": [
       "<div>\n",
       "<table border=\"1\" class=\"dataframe\">\n",
       "  <thead>\n",
       "    <tr style=\"text-align: right;\">\n",
       "      <th></th>\n",
       "      <th>fixed acidity</th>\n",
       "      <th>volatile acidity</th>\n",
       "      <th>citric acid</th>\n",
       "      <th>residual sugar</th>\n",
       "      <th>chlorides</th>\n",
       "      <th>free sulfur dioxide</th>\n",
       "      <th>total sulfur dioxide</th>\n",
       "      <th>density</th>\n",
       "      <th>pH</th>\n",
       "      <th>sulphates</th>\n",
       "      <th>alcohol</th>\n",
       "      <th>quality</th>\n",
       "      <th>white?</th>\n",
       "    </tr>\n",
       "  </thead>\n",
       "  <tbody>\n",
       "    <tr>\n",
       "      <th>0</th>\n",
       "      <td>7.4</td>\n",
       "      <td>0.70</td>\n",
       "      <td>0.00</td>\n",
       "      <td>1.9</td>\n",
       "      <td>0.076</td>\n",
       "      <td>11.0</td>\n",
       "      <td>34.0</td>\n",
       "      <td>0.9978</td>\n",
       "      <td>3.51</td>\n",
       "      <td>0.56</td>\n",
       "      <td>9.4</td>\n",
       "      <td>5</td>\n",
       "      <td>0</td>\n",
       "    </tr>\n",
       "    <tr>\n",
       "      <th>1</th>\n",
       "      <td>7.8</td>\n",
       "      <td>0.88</td>\n",
       "      <td>0.00</td>\n",
       "      <td>2.6</td>\n",
       "      <td>0.098</td>\n",
       "      <td>25.0</td>\n",
       "      <td>67.0</td>\n",
       "      <td>0.9968</td>\n",
       "      <td>3.20</td>\n",
       "      <td>0.68</td>\n",
       "      <td>9.8</td>\n",
       "      <td>5</td>\n",
       "      <td>0</td>\n",
       "    </tr>\n",
       "    <tr>\n",
       "      <th>2</th>\n",
       "      <td>7.8</td>\n",
       "      <td>0.76</td>\n",
       "      <td>0.04</td>\n",
       "      <td>2.3</td>\n",
       "      <td>0.092</td>\n",
       "      <td>15.0</td>\n",
       "      <td>54.0</td>\n",
       "      <td>0.9970</td>\n",
       "      <td>3.26</td>\n",
       "      <td>0.65</td>\n",
       "      <td>9.8</td>\n",
       "      <td>5</td>\n",
       "      <td>0</td>\n",
       "    </tr>\n",
       "    <tr>\n",
       "      <th>3</th>\n",
       "      <td>11.2</td>\n",
       "      <td>0.28</td>\n",
       "      <td>0.56</td>\n",
       "      <td>1.9</td>\n",
       "      <td>0.075</td>\n",
       "      <td>17.0</td>\n",
       "      <td>60.0</td>\n",
       "      <td>0.9980</td>\n",
       "      <td>3.16</td>\n",
       "      <td>0.58</td>\n",
       "      <td>9.8</td>\n",
       "      <td>6</td>\n",
       "      <td>0</td>\n",
       "    </tr>\n",
       "    <tr>\n",
       "      <th>4</th>\n",
       "      <td>7.4</td>\n",
       "      <td>0.70</td>\n",
       "      <td>0.00</td>\n",
       "      <td>1.9</td>\n",
       "      <td>0.076</td>\n",
       "      <td>11.0</td>\n",
       "      <td>34.0</td>\n",
       "      <td>0.9978</td>\n",
       "      <td>3.51</td>\n",
       "      <td>0.56</td>\n",
       "      <td>9.4</td>\n",
       "      <td>5</td>\n",
       "      <td>0</td>\n",
       "    </tr>\n",
       "  </tbody>\n",
       "</table>\n",
       "</div>"
      ],
      "text/plain": [
       "   fixed acidity  volatile acidity  citric acid  residual sugar  chlorides  \\\n",
       "0            7.4              0.70         0.00             1.9      0.076   \n",
       "1            7.8              0.88         0.00             2.6      0.098   \n",
       "2            7.8              0.76         0.04             2.3      0.092   \n",
       "3           11.2              0.28         0.56             1.9      0.075   \n",
       "4            7.4              0.70         0.00             1.9      0.076   \n",
       "\n",
       "   free sulfur dioxide  total sulfur dioxide  density    pH  sulphates  \\\n",
       "0                 11.0                  34.0   0.9978  3.51       0.56   \n",
       "1                 25.0                  67.0   0.9968  3.20       0.68   \n",
       "2                 15.0                  54.0   0.9970  3.26       0.65   \n",
       "3                 17.0                  60.0   0.9980  3.16       0.58   \n",
       "4                 11.0                  34.0   0.9978  3.51       0.56   \n",
       "\n",
       "   alcohol  quality  white?  \n",
       "0      9.4        5       0  \n",
       "1      9.8        5       0  \n",
       "2      9.8        5       0  \n",
       "3      9.8        6       0  \n",
       "4      9.4        5       0  "
      ]
     },
     "execution_count": 3,
     "metadata": {},
     "output_type": "execute_result"
    }
   ],
   "source": [
    "df = pd.DataFrame(red_data, columns=red_data[0])\n",
    "df = df.drop(df.index[0])\n",
    "df.head()\n",
    "red = df.rename(columns={0:'white?'});\n",
    "red.reset_index(drop=True, inplace=True)\n",
    "\n",
    "red2=pd.DataFrame()\n",
    "for key in red.keys():\n",
    "    red2[key]=pd.to_numeric(red[key])\n",
    "\n",
    "red2.head()"
   ]
  },
  {
   "cell_type": "code",
   "execution_count": 4,
   "metadata": {
    "collapsed": false
   },
   "outputs": [],
   "source": [
    "df2 = pd.DataFrame(white_data, columns=white_data[0])\n",
    "df2 = df2.drop(df2.index[0])\n",
    "white = df2.rename(columns={1:'white?'});\n",
    "white.reset_index(drop=True, inplace=True)\n",
    "\n",
    "white2=pd.DataFrame()\n",
    "for key in white.keys():\n",
    "    white2[key]=pd.to_numeric(white[key])\n"
   ]
  },
  {
   "cell_type": "code",
   "execution_count": 5,
   "metadata": {
    "collapsed": false
   },
   "outputs": [],
   "source": [
    "comp_data = pd.concat([white2, red2])\n",
    "comp_data.reset_index(drop=True, inplace=True)"
   ]
  },
  {
   "cell_type": "markdown",
   "metadata": {},
   "source": [
    "# Exploring data"
   ]
  },
  {
   "cell_type": "code",
   "execution_count": 6,
   "metadata": {
    "collapsed": false
   },
   "outputs": [
    {
     "data": {
      "text/html": [
       "\n",
       "    <div class=\"bk-root\">\n",
       "        <a href=\"http://bokeh.pydata.org\" target=\"_blank\" class=\"bk-logo bk-logo-small bk-logo-notebook\"></a>\n",
       "        <span id=\"2f6fe662-d7ac-42aa-b9fa-5aa11c7d7e45\">Loading BokehJS ...</span>\n",
       "    </div>"
      ]
     },
     "metadata": {},
     "output_type": "display_data"
    },
    {
     "data": {
      "application/javascript": [
       "\n",
       "(function(global) {\n",
       "  function now() {\n",
       "    return new Date();\n",
       "  }\n",
       "\n",
       "  if (typeof (window._bokeh_onload_callbacks) === \"undefined\") {\n",
       "    window._bokeh_onload_callbacks = [];\n",
       "  }\n",
       "\n",
       "  function run_callbacks() {\n",
       "    window._bokeh_onload_callbacks.forEach(function(callback) { callback() });\n",
       "    delete window._bokeh_onload_callbacks\n",
       "    console.info(\"Bokeh: all callbacks have finished\");\n",
       "  }\n",
       "\n",
       "  function load_libs(js_urls, callback) {\n",
       "    window._bokeh_onload_callbacks.push(callback);\n",
       "    if (window._bokeh_is_loading > 0) {\n",
       "      console.log(\"Bokeh: BokehJS is being loaded, scheduling callback at\", now());\n",
       "      return null;\n",
       "    }\n",
       "    if (js_urls == null || js_urls.length === 0) {\n",
       "      run_callbacks();\n",
       "      return null;\n",
       "    }\n",
       "    console.log(\"Bokeh: BokehJS not loaded, scheduling load and callback at\", now());\n",
       "    window._bokeh_is_loading = js_urls.length;\n",
       "    for (var i = 0; i < js_urls.length; i++) {\n",
       "      var url = js_urls[i];\n",
       "      var s = document.createElement('script');\n",
       "      s.src = url;\n",
       "      s.async = false;\n",
       "      s.onreadystatechange = s.onload = function() {\n",
       "        window._bokeh_is_loading--;\n",
       "        if (window._bokeh_is_loading === 0) {\n",
       "          console.log(\"Bokeh: all BokehJS libraries loaded\");\n",
       "          run_callbacks()\n",
       "        }\n",
       "      };\n",
       "      s.onerror = function() {\n",
       "        console.warn(\"failed to load library \" + url);\n",
       "      };\n",
       "      console.log(\"Bokeh: injecting script tag for BokehJS library: \", url);\n",
       "      document.getElementsByTagName(\"head\")[0].appendChild(s);\n",
       "    }\n",
       "  };\n",
       "\n",
       "  var js_urls = ['https://cdn.pydata.org/bokeh/release/bokeh-0.12.0.min.js', 'https://cdn.pydata.org/bokeh/release/bokeh-widgets-0.12.0.min.js', 'https://cdn.pydata.org/bokeh/release/bokeh-compiler-0.12.0.min.js'];\n",
       "\n",
       "  var inline_js = [\n",
       "    function(Bokeh) {\n",
       "      Bokeh.set_log_level(\"info\");\n",
       "    },\n",
       "    \n",
       "    function(Bokeh) {\n",
       "      Bokeh.$(\"#2f6fe662-d7ac-42aa-b9fa-5aa11c7d7e45\").text(\"BokehJS successfully loaded\");\n",
       "    },\n",
       "    function(Bokeh) {\n",
       "      console.log(\"Bokeh: injecting CSS: https://cdn.pydata.org/bokeh/release/bokeh-0.12.0.min.css\");\n",
       "      Bokeh.embed.inject_css(\"https://cdn.pydata.org/bokeh/release/bokeh-0.12.0.min.css\");\n",
       "      console.log(\"Bokeh: injecting CSS: https://cdn.pydata.org/bokeh/release/bokeh-widgets-0.12.0.min.css\");\n",
       "      Bokeh.embed.inject_css(\"https://cdn.pydata.org/bokeh/release/bokeh-widgets-0.12.0.min.css\");\n",
       "    }\n",
       "  ];\n",
       "\n",
       "  function run_inline_js() {\n",
       "    for (var i = 0; i < inline_js.length; i++) {\n",
       "      inline_js[i](window.Bokeh);\n",
       "    }\n",
       "  }\n",
       "\n",
       "  if (window._bokeh_is_loading === 0) {\n",
       "    console.log(\"Bokeh: BokehJS loaded, going straight to plotting\");\n",
       "    run_inline_js();\n",
       "  } else {\n",
       "    load_libs(js_urls, function() {\n",
       "      console.log(\"Bokeh: BokehJS plotting callback run at\", now());\n",
       "      run_inline_js();\n",
       "    });\n",
       "  }\n",
       "}(this));"
      ]
     },
     "metadata": {},
     "output_type": "display_data"
    }
   ],
   "source": [
    "from bokeh.charts import Histogram\n",
    "from bokeh.charts import Bar\n",
    "from bokeh.io import output_notebook, output_file, output_server, show\n",
    "from bokeh.layouts import gridplot\n",
    "from bokeh.plotting import figure\n",
    "from bokeh.charts import BoxPlot\n",
    "import bokeh.plotting as bplt\n",
    "output_notebook()"
   ]
  },
  {
   "cell_type": "code",
   "execution_count": null,
   "metadata": {
    "collapsed": true
   },
   "outputs": [],
   "source": []
  },
  {
   "cell_type": "code",
   "execution_count": 8,
   "metadata": {
    "collapsed": false
   },
   "outputs": [
    {
     "data": {
      "text/html": [
       "\n",
       "\n",
       "    <div class=\"bk-root\">\n",
       "        <div class=\"plotdiv\" id=\"14498038-2b5e-42c1-abbe-117fb2459da7\"></div>\n",
       "    </div>\n",
       "<script type=\"text/javascript\">\n",
       "  \n",
       "  (function(global) {\n",
       "    function now() {\n",
       "      return new Date();\n",
       "    }\n",
       "  \n",
       "    if (typeof (window._bokeh_onload_callbacks) === \"undefined\") {\n",
       "      window._bokeh_onload_callbacks = [];\n",
       "    }\n",
       "  \n",
       "    function run_callbacks() {\n",
       "      window._bokeh_onload_callbacks.forEach(function(callback) { callback() });\n",
       "      delete window._bokeh_onload_callbacks\n",
       "      console.info(\"Bokeh: all callbacks have finished\");\n",
       "    }\n",
       "  \n",
       "    function load_libs(js_urls, callback) {\n",
       "      window._bokeh_onload_callbacks.push(callback);\n",
       "      if (window._bokeh_is_loading > 0) {\n",
       "        console.log(\"Bokeh: BokehJS is being loaded, scheduling callback at\", now());\n",
       "        return null;\n",
       "      }\n",
       "      if (js_urls == null || js_urls.length === 0) {\n",
       "        run_callbacks();\n",
       "        return null;\n",
       "      }\n",
       "      console.log(\"Bokeh: BokehJS not loaded, scheduling load and callback at\", now());\n",
       "      window._bokeh_is_loading = js_urls.length;\n",
       "      for (var i = 0; i < js_urls.length; i++) {\n",
       "        var url = js_urls[i];\n",
       "        var s = document.createElement('script');\n",
       "        s.src = url;\n",
       "        s.async = false;\n",
       "        s.onreadystatechange = s.onload = function() {\n",
       "          window._bokeh_is_loading--;\n",
       "          if (window._bokeh_is_loading === 0) {\n",
       "            console.log(\"Bokeh: all BokehJS libraries loaded\");\n",
       "            run_callbacks()\n",
       "          }\n",
       "        };\n",
       "        s.onerror = function() {\n",
       "          console.warn(\"failed to load library \" + url);\n",
       "        };\n",
       "        console.log(\"Bokeh: injecting script tag for BokehJS library: \", url);\n",
       "        document.getElementsByTagName(\"head\")[0].appendChild(s);\n",
       "      }\n",
       "    };var element = document.getElementById(\"14498038-2b5e-42c1-abbe-117fb2459da7\");\n",
       "    if (element == null) {\n",
       "      console.log(\"Bokeh: ERROR: autoload.js configured with elementid '14498038-2b5e-42c1-abbe-117fb2459da7' but no matching script tag was found. \")\n",
       "      return false;\n",
       "    }\n",
       "  \n",
       "    var js_urls = [];\n",
       "  \n",
       "    var inline_js = [\n",
       "      function(Bokeh) {\n",
       "        Bokeh.$(function() {\n",
       "            var docs_json = {\"1c10bc28-09bd-4f4f-b819-c966fa956ad2\":{\"roots\":{\"references\":[{\"attributes\":{\"data_source\":{\"id\":\"c1feca6f-bf9c-4a74-8059-f32f724c0c65\",\"type\":\"ColumnDataSource\"},\"glyph\":{\"id\":\"6cd8eed4-8eb2-40b9-aa0b-d7eba2160fa4\",\"type\":\"Rect\"},\"hover_glyph\":null,\"nonselection_glyph\":null,\"selection_glyph\":null},\"id\":\"82306fc0-aaa9-497f-a266-e18208c56c80\",\"type\":\"GlyphRenderer\"},{\"attributes\":{\"data_source\":{\"id\":\"0fd349fa-0f11-471d-a3ee-159fe66f18c6\",\"type\":\"ColumnDataSource\"},\"glyph\":{\"id\":\"858097e2-ff15-4b61-be1a-8bddae95271e\",\"type\":\"Rect\"},\"hover_glyph\":null,\"nonselection_glyph\":null,\"selection_glyph\":null},\"id\":\"f15c8758-b2cd-47b1-9386-b8aa7fb817e9\",\"type\":\"GlyphRenderer\"},{\"attributes\":{\"fill_alpha\":{\"field\":\"fill_alpha\"},\"fill_color\":{\"field\":\"color\"},\"height\":{\"field\":\"height\",\"units\":\"data\"},\"line_color\":{\"field\":\"line_color\"},\"width\":{\"field\":\"width\",\"units\":\"data\"},\"x\":{\"field\":\"x\"},\"y\":{\"field\":\"y\"}},\"id\":\"80ab668d-621e-4049-85e2-2321db87d8ac\",\"type\":\"Rect\"},{\"attributes\":{\"data_source\":{\"id\":\"05e21e7f-0beb-4c24-b3c1-fe3cca28dddd\",\"type\":\"ColumnDataSource\"},\"glyph\":{\"id\":\"a05beccc-f09b-432f-a910-be86b9db3251\",\"type\":\"Rect\"},\"hover_glyph\":null,\"nonselection_glyph\":null,\"selection_glyph\":null},\"id\":\"cdb2e007-7ac5-4f49-95b0-56de58df70de\",\"type\":\"GlyphRenderer\"},{\"attributes\":{\"data_source\":{\"id\":\"32dee336-44fa-4528-8f40-3b03e292abbe\",\"type\":\"ColumnDataSource\"},\"glyph\":{\"id\":\"d6ca1ce1-830b-4765-abe2-e0ba6d5de4d4\",\"type\":\"Rect\"},\"hover_glyph\":null,\"nonselection_glyph\":null,\"selection_glyph\":null},\"id\":\"de0a6d7f-47b2-49fd-a1d2-5d8f29217a20\",\"type\":\"GlyphRenderer\"},{\"attributes\":{\"data_source\":{\"id\":\"ae11a1a3-6004-4892-b6fd-355ed04e68ed\",\"type\":\"ColumnDataSource\"},\"glyph\":{\"id\":\"b6e7a8bb-f035-43b6-9f0a-d15bf3c310e6\",\"type\":\"Rect\"},\"hover_glyph\":null,\"nonselection_glyph\":null,\"selection_glyph\":null},\"id\":\"a6d4e6eb-0353-441e-a3b3-84e920d2198a\",\"type\":\"GlyphRenderer\"},{\"attributes\":{\"callback\":null,\"column_names\":[\"line_color\",\"label\",\"width\",\"color\",\"line_alpha\",\"fill_alpha\",\"y\",\"x\",\"height\"],\"data\":{\"chart_index\":[\"(6.2, 6.3]\"],\"color\":[\"#f22c40\"],\"fill_alpha\":[0.6],\"height\":[0.0],\"label\":[\"(6.2, 6.3]\"],\"line_alpha\":[1.0],\"line_color\":[\"black\"],\"width\":[0.16666666666666696],\"x\":[\"6.25\"],\"y\":[0.0]}},\"id\":\"34b8c61e-3350-4603-ac7a-18ec3dcaeb5e\",\"type\":\"ColumnDataSource\"},{\"attributes\":{\"fill_alpha\":{\"field\":\"fill_alpha\"},\"fill_color\":{\"field\":\"color\"},\"height\":{\"field\":\"height\",\"units\":\"data\"},\"line_color\":{\"field\":\"line_color\"},\"width\":{\"field\":\"width\",\"units\":\"data\"},\"x\":{\"field\":\"x\"},\"y\":{\"field\":\"y\"}},\"id\":\"0c720117-efc1-4f83-8d30-9ce47e216e00\",\"type\":\"Rect\"},{\"attributes\":{\"callback\":null,\"column_names\":[\"line_color\",\"label\",\"width\",\"color\",\"line_alpha\",\"fill_alpha\",\"y\",\"x\",\"height\"],\"data\":{\"chart_index\":[\"(6.8, 7.0]\"],\"color\":[\"#f22c40\"],\"fill_alpha\":[0.6],\"height\":[0.0],\"label\":[\"(6.8, 7.0]\"],\"line_alpha\":[1.0],\"line_color\":[\"black\"],\"width\":[0.16666666666666696],\"x\":[\"6.9\"],\"y\":[0.0]}},\"id\":\"136e78a5-6843-48ed-a436-de9ad64fcfc4\",\"type\":\"ColumnDataSource\"},{\"attributes\":{\"fill_alpha\":{\"field\":\"fill_alpha\"},\"fill_color\":{\"field\":\"color\"},\"height\":{\"field\":\"height\",\"units\":\"data\"},\"line_color\":{\"field\":\"line_color\"},\"width\":{\"field\":\"width\",\"units\":\"data\"},\"x\":{\"field\":\"x\"},\"y\":{\"field\":\"y\"}},\"id\":\"1c30a0b1-412e-46b2-8338-69f7deb28107\",\"type\":\"Rect\"},{\"attributes\":{\"callback\":null,\"column_names\":[\"line_color\",\"label\",\"width\",\"color\",\"line_alpha\",\"fill_alpha\",\"y\",\"x\",\"height\"],\"data\":{\"chart_index\":[\"(7.9, 8.1]\"],\"color\":[\"#5ab738\"],\"fill_alpha\":[0.6],\"height\":[175.0],\"label\":[\"(7.9, 8.1]\"],\"line_alpha\":[1.0],\"line_color\":[\"black\"],\"width\":[0.117647058823529],\"x\":[\"8.0\"],\"y\":[87.5]}},\"id\":\"d51084f8-6575-4ef3-9356-6b5ffc3243cc\",\"type\":\"ColumnDataSource\"},{\"attributes\":{\"data_source\":{\"id\":\"df46e3fe-b52d-4cf8-9c58-1f33aa504915\",\"type\":\"ColumnDataSource\"},\"glyph\":{\"id\":\"77bdd74d-91d0-4aed-9340-e36ba9d9f241\",\"type\":\"Rect\"},\"hover_glyph\":null,\"nonselection_glyph\":null,\"selection_glyph\":null},\"id\":\"4fb30f51-5d91-472c-8f0e-fbcfd4b42e7d\",\"type\":\"GlyphRenderer\"},{\"attributes\":{\"data_source\":{\"id\":\"6bdc6443-e0f7-4405-bafd-693434f74025\",\"type\":\"ColumnDataSource\"},\"glyph\":{\"id\":\"eb0bb650-83f7-43c0-8b35-b568894ec0e5\",\"type\":\"Rect\"},\"hover_glyph\":null,\"nonselection_glyph\":null,\"selection_glyph\":null},\"id\":\"92048241-253d-497d-bd48-ea80439fd288\",\"type\":\"GlyphRenderer\"},{\"attributes\":{\"fill_alpha\":{\"field\":\"fill_alpha\"},\"fill_color\":{\"field\":\"color\"},\"height\":{\"field\":\"height\",\"units\":\"data\"},\"line_color\":{\"field\":\"line_color\"},\"width\":{\"field\":\"width\",\"units\":\"data\"},\"x\":{\"field\":\"x\"},\"y\":{\"field\":\"y\"}},\"id\":\"383d18ba-5f99-4a7d-b020-2888f507cf07\",\"type\":\"Rect\"},{\"attributes\":{\"fill_alpha\":{\"field\":\"fill_alpha\"},\"fill_color\":{\"field\":\"color\"},\"height\":{\"field\":\"height\",\"units\":\"data\"},\"line_color\":{\"field\":\"line_color\"},\"width\":{\"field\":\"width\",\"units\":\"data\"},\"x\":{\"field\":\"x\"},\"y\":{\"field\":\"y\"}},\"id\":\"ced36334-bf17-49d0-ab05-dd12fbbfb281\",\"type\":\"Rect\"},{\"attributes\":{\"fill_alpha\":{\"field\":\"fill_alpha\"},\"fill_color\":{\"field\":\"color\"},\"height\":{\"field\":\"height\",\"units\":\"data\"},\"line_color\":{\"field\":\"line_color\"},\"width\":{\"field\":\"width\",\"units\":\"data\"},\"x\":{\"field\":\"x\"},\"y\":{\"field\":\"y\"}},\"id\":\"6fe43773-e86d-4ec0-a804-98d546d8923a\",\"type\":\"Rect\"},{\"attributes\":{\"fill_alpha\":{\"field\":\"fill_alpha\"},\"fill_color\":{\"field\":\"color\"},\"height\":{\"field\":\"height\",\"units\":\"data\"},\"line_color\":{\"field\":\"line_color\"},\"width\":{\"field\":\"width\",\"units\":\"data\"},\"x\":{\"field\":\"x\"},\"y\":{\"field\":\"y\"}},\"id\":\"2796c469-f8ca-45e6-95c9-2a657ee19bc9\",\"type\":\"Rect\"},{\"attributes\":{\"bottom_units\":\"screen\",\"fill_alpha\":{\"value\":0.5},\"fill_color\":{\"value\":\"lightgrey\"},\"left_units\":\"screen\",\"level\":\"overlay\",\"line_alpha\":{\"value\":1.0},\"line_color\":{\"value\":\"black\"},\"line_dash\":[4,4],\"line_width\":{\"value\":2},\"plot\":null,\"render_mode\":\"css\",\"right_units\":\"screen\",\"top_units\":\"screen\"},\"id\":\"741a87a3-349b-4280-948a-e06c9f2a8e76\",\"type\":\"BoxAnnotation\"},{\"attributes\":{\"callback\":null,\"column_names\":[\"line_color\",\"label\",\"width\",\"color\",\"line_alpha\",\"fill_alpha\",\"y\",\"x\",\"height\"],\"data\":{\"chart_index\":[\"(3.7, 3.8]\"],\"color\":[\"#f22c40\"],\"fill_alpha\":[0.6],\"height\":[0.0],\"label\":[\"(3.7, 3.8]\"],\"line_alpha\":[1.0],\"line_color\":[\"black\"],\"width\":[0.16666666666666652],\"x\":[\"3.75\"],\"y\":[0.0]}},\"id\":\"0dd95d7a-c0a9-470f-baaa-eee81abd66c8\",\"type\":\"ColumnDataSource\"},{\"attributes\":{},\"id\":\"f0a3fd33-a2d9-4a7b-802f-66c11cee9a1d\",\"type\":\"BasicTickFormatter\"},{\"attributes\":{\"fill_alpha\":{\"field\":\"fill_alpha\"},\"fill_color\":{\"field\":\"color\"},\"height\":{\"field\":\"height\",\"units\":\"data\"},\"line_color\":{\"field\":\"line_color\"},\"width\":{\"field\":\"width\",\"units\":\"data\"},\"x\":{\"field\":\"x\"},\"y\":{\"field\":\"y\"}},\"id\":\"ff10e89a-72a3-46bb-aedf-51167c8d4ea8\",\"type\":\"Rect\"},{\"attributes\":{\"callback\":null,\"column_names\":[\"line_color\",\"label\",\"width\",\"color\",\"line_alpha\",\"fill_alpha\",\"y\",\"x\",\"height\"],\"data\":{\"chart_index\":[\"(7.2, 7.4]\"],\"color\":[\"#5ab738\"],\"fill_alpha\":[0.6],\"height\":[0.0],\"label\":[\"(7.2, 7.4]\"],\"line_alpha\":[1.0],\"line_color\":[\"black\"],\"width\":[0.117647058823529],\"x\":[\"7.300000000000001\"],\"y\":[0.0]}},\"id\":\"05e21e7f-0beb-4c24-b3c1-fe3cca28dddd\",\"type\":\"ColumnDataSource\"},{\"attributes\":{\"data_source\":{\"id\":\"268ab842-c21a-4c42-a584-aa5ef5b1cd5d\",\"type\":\"ColumnDataSource\"},\"glyph\":{\"id\":\"94451740-cad9-4373-a528-a65b6e313bd5\",\"type\":\"Rect\"},\"hover_glyph\":null,\"nonselection_glyph\":null,\"selection_glyph\":null},\"id\":\"5478ae32-a099-4c69-954d-823e950aa448\",\"type\":\"GlyphRenderer\"},{\"attributes\":{\"callback\":null,\"column_names\":[\"line_color\",\"label\",\"width\",\"color\",\"line_alpha\",\"fill_alpha\",\"y\",\"x\",\"height\"],\"data\":{\"chart_index\":[\"(4.9, 5.0]\"],\"color\":[\"#5ab738\"],\"fill_alpha\":[0.6],\"height\":[0.0],\"label\":[\"(4.9, 5.0]\"],\"line_alpha\":[1.0],\"line_color\":[\"black\"],\"width\":[0.117647058823529],\"x\":[\"4.95\"],\"y\":[0.0]}},\"id\":\"c4032f3f-ebc0-45b9-8c1f-ed2ae99fc2b4\",\"type\":\"ColumnDataSource\"},{\"attributes\":{\"plot\":null,\"text\":null},\"id\":\"b855336c-d651-4856-84b0-f254dfdaf5c8\",\"type\":\"Title\"},{\"attributes\":{\"fill_alpha\":{\"field\":\"fill_alpha\"},\"fill_color\":{\"field\":\"color\"},\"height\":{\"field\":\"height\",\"units\":\"data\"},\"line_color\":{\"field\":\"line_color\"},\"width\":{\"field\":\"width\",\"units\":\"data\"},\"x\":{\"field\":\"x\"},\"y\":{\"field\":\"y\"}},\"id\":\"6cd8eed4-8eb2-40b9-aa0b-d7eba2160fa4\",\"type\":\"Rect\"},{\"attributes\":{\"data_source\":{\"id\":\"b43f323e-fff1-4384-960c-2d479535cea1\",\"type\":\"ColumnDataSource\"},\"glyph\":{\"id\":\"e09aae2f-c953-47b9-a923-a0b2586279ca\",\"type\":\"Rect\"},\"hover_glyph\":null,\"nonselection_glyph\":null,\"selection_glyph\":null},\"id\":\"cef3261c-7b57-4724-9113-0977f0720000\",\"type\":\"GlyphRenderer\"},{\"attributes\":{\"callback\":null,\"column_names\":[\"line_color\",\"label\",\"width\",\"color\",\"line_alpha\",\"fill_alpha\",\"y\",\"x\",\"height\"],\"data\":{\"chart_index\":[\"(6.5, 6.6]\"],\"color\":[\"#5ab738\"],\"fill_alpha\":[0.6],\"height\":[0.0],\"label\":[\"(6.5, 6.6]\"],\"line_alpha\":[1.0],\"line_color\":[\"black\"],\"width\":[0.117647058823529],\"x\":[\"6.55\"],\"y\":[0.0]}},\"id\":\"f2b6429e-733f-4370-bc1f-abb84429139d\",\"type\":\"ColumnDataSource\"},{\"attributes\":{\"fill_alpha\":{\"field\":\"fill_alpha\"},\"fill_color\":{\"field\":\"color\"},\"height\":{\"field\":\"height\",\"units\":\"data\"},\"line_color\":{\"field\":\"line_color\"},\"width\":{\"field\":\"width\",\"units\":\"data\"},\"x\":{\"field\":\"x\"},\"y\":{\"field\":\"y\"}},\"id\":\"77bdd74d-91d0-4aed-9340-e36ba9d9f241\",\"type\":\"Rect\"},{\"attributes\":{\"callback\":null,\"column_names\":[\"line_color\",\"label\",\"width\",\"color\",\"line_alpha\",\"fill_alpha\",\"y\",\"x\",\"height\"],\"data\":{\"chart_index\":[\"(5.9, 6.1]\"],\"color\":[\"#5ab738\"],\"fill_alpha\":[0.6],\"height\":[2198.0],\"label\":[\"(5.9, 6.1]\"],\"line_alpha\":[1.0],\"line_color\":[\"black\"],\"width\":[0.117647058823529],\"x\":[\"6.0\"],\"y\":[1099.0]}},\"id\":\"9d9f82cf-0edd-469b-b8e6-541261e6e375\",\"type\":\"ColumnDataSource\"},{\"attributes\":{\"data_source\":{\"id\":\"f460d100-2888-476b-970c-0d8810850682\",\"type\":\"ColumnDataSource\"},\"glyph\":{\"id\":\"112d38dc-cc45-4956-954c-f53e4b7f3856\",\"type\":\"Rect\"},\"hover_glyph\":null,\"nonselection_glyph\":null,\"selection_glyph\":null},\"id\":\"d672de17-d03b-4f24-abce-f7ad08bb8b2c\",\"type\":\"GlyphRenderer\"},{\"attributes\":{\"callback\":null,\"column_names\":[\"line_color\",\"label\",\"width\",\"color\",\"line_alpha\",\"fill_alpha\",\"y\",\"x\",\"height\"],\"data\":{\"chart_index\":[\"(5.8, 6.0]\"],\"color\":[\"#f22c40\"],\"fill_alpha\":[0.6],\"height\":[0.0],\"label\":[\"(5.8, 6.0]\"],\"line_alpha\":[1.0],\"line_color\":[\"black\"],\"width\":[0.16666666666666696],\"x\":[\"5.9\"],\"y\":[0.0]}},\"id\":\"ffcdfee6-05cc-4ab4-b00b-24c4f62cf516\",\"type\":\"ColumnDataSource\"},{\"attributes\":{\"fill_alpha\":{\"field\":\"fill_alpha\"},\"fill_color\":{\"field\":\"color\"},\"height\":{\"field\":\"height\",\"units\":\"data\"},\"line_color\":{\"field\":\"line_color\"},\"width\":{\"field\":\"width\",\"units\":\"data\"},\"x\":{\"field\":\"x\"},\"y\":{\"field\":\"y\"}},\"id\":\"9f374b2d-5068-4a96-9612-28d61e4748b5\",\"type\":\"Rect\"},{\"attributes\":{},\"id\":\"85dc7b2b-c3c3-4458-b1aa-80e30a7854a6\",\"type\":\"BasicTicker\"},{\"attributes\":{\"callback\":null,\"column_names\":[\"line_color\",\"label\",\"width\",\"color\",\"line_alpha\",\"fill_alpha\",\"y\",\"x\",\"height\"],\"data\":{\"chart_index\":[\"(7.6, 7.7]\"],\"color\":[\"#5ab738\"],\"fill_alpha\":[0.6],\"height\":[0.0],\"label\":[\"(7.6, 7.7]\"],\"line_alpha\":[1.0],\"line_color\":[\"black\"],\"width\":[0.11764705882352988],\"x\":[\"7.65\"],\"y\":[0.0]}},\"id\":\"e6233d24-dcf2-4a18-ba8a-91443ca66d3f\",\"type\":\"ColumnDataSource\"},{\"attributes\":{\"callback\":null,\"column_names\":[\"line_color\",\"label\",\"width\",\"color\",\"line_alpha\",\"fill_alpha\",\"y\",\"x\",\"height\"],\"data\":{\"chart_index\":[\"(4.2, 4.3]\"],\"color\":[\"#f22c40\"],\"fill_alpha\":[0.6],\"height\":[0.0],\"label\":[\"(4.2, 4.3]\"],\"line_alpha\":[1.0],\"line_color\":[\"black\"],\"width\":[0.16666666666666696],\"x\":[\"4.25\"],\"y\":[0.0]}},\"id\":\"b43f323e-fff1-4384-960c-2d479535cea1\",\"type\":\"ColumnDataSource\"},{\"attributes\":{\"sizing_mode\":\"scale_width\",\"toolbar_location\":\"above\",\"tools\":[{\"id\":\"9c81963c-980e-4c9d-9325-ba579f2a27ce\",\"type\":\"PanTool\"},{\"id\":\"fe015709-cf0a-41b3-bb0a-5b98aa0cf0b0\",\"type\":\"ResetTool\"},{\"id\":\"6368fceb-c2c0-4655-a6a3-1da2e8e23ec7\",\"type\":\"BoxZoomTool\"},{\"id\":\"e25e0c60-709f-4d18-94e1-eee869131833\",\"type\":\"PanTool\"},{\"id\":\"c0097263-47e6-4944-a70b-4ee841512adf\",\"type\":\"ResetTool\"},{\"id\":\"491a07c5-c53c-4acd-9e59-216959c13050\",\"type\":\"BoxZoomTool\"}]},\"id\":\"7dec0f7a-fbb3-4270-b4ef-97fb7d4a08de\",\"type\":\"ToolbarBox\"},{\"attributes\":{\"fill_alpha\":{\"field\":\"fill_alpha\"},\"fill_color\":{\"field\":\"color\"},\"height\":{\"field\":\"height\",\"units\":\"data\"},\"line_color\":{\"field\":\"line_color\"},\"width\":{\"field\":\"width\",\"units\":\"data\"},\"x\":{\"field\":\"x\"},\"y\":{\"field\":\"y\"}},\"id\":\"e6e3c306-6c87-437b-b4bb-a8d9f0a5ae74\",\"type\":\"Rect\"},{\"attributes\":{\"fill_alpha\":{\"field\":\"fill_alpha\"},\"fill_color\":{\"field\":\"color\"},\"height\":{\"field\":\"height\",\"units\":\"data\"},\"line_color\":{\"field\":\"line_color\"},\"width\":{\"field\":\"width\",\"units\":\"data\"},\"x\":{\"field\":\"x\"},\"y\":{\"field\":\"y\"}},\"id\":\"85cdcd40-d6b0-4498-92f8-0ec2d4beb4a5\",\"type\":\"Rect\"},{\"attributes\":{\"callback\":null,\"column_names\":[\"line_color\",\"label\",\"width\",\"color\",\"line_alpha\",\"fill_alpha\",\"y\",\"x\",\"height\"],\"data\":{\"chart_index\":[\"(7.7, 7.8]\"],\"color\":[\"#f22c40\"],\"fill_alpha\":[0.6],\"height\":[0.0],\"label\":[\"(7.7, 7.8]\"],\"line_alpha\":[1.0],\"line_color\":[\"black\"],\"width\":[0.16666666666666696],\"x\":[\"7.75\"],\"y\":[0.0]}},\"id\":\"6ea376d1-743a-4e30-85ef-e3753ff8be97\",\"type\":\"ColumnDataSource\"},{\"attributes\":{\"data_source\":{\"id\":\"f5891e89-301e-41e4-a337-f2f62aaae7c5\",\"type\":\"ColumnDataSource\"},\"glyph\":{\"id\":\"17d196ee-98d4-4b75-9925-ff893b544e6a\",\"type\":\"Rect\"},\"hover_glyph\":null,\"nonselection_glyph\":null,\"selection_glyph\":null},\"id\":\"9fdfdbe5-881a-42e0-8718-c9244f131b84\",\"type\":\"GlyphRenderer\"},{\"attributes\":{\"plot\":{\"id\":\"1c615a98-60e5-4df7-96e3-1dcb49eca02d\",\"subtype\":\"Chart\",\"type\":\"Plot\"}},\"id\":\"9c81963c-980e-4c9d-9325-ba579f2a27ce\",\"type\":\"PanTool\"},{\"attributes\":{\"data_source\":{\"id\":\"078d88db-9a14-4b07-af4b-b9e2593ee3eb\",\"type\":\"ColumnDataSource\"},\"glyph\":{\"id\":\"11b1c28a-59ca-4d0d-82dd-a01a94d84ede\",\"type\":\"Rect\"},\"hover_glyph\":null,\"nonselection_glyph\":null,\"selection_glyph\":null},\"id\":\"56f2b506-decb-4e87-8fd7-663e66a1b9c3\",\"type\":\"GlyphRenderer\"},{\"attributes\":{\"dimension\":1,\"plot\":{\"id\":\"1c615a98-60e5-4df7-96e3-1dcb49eca02d\",\"subtype\":\"Chart\",\"type\":\"Plot\"},\"ticker\":{\"id\":\"fdab5d79-54d4-46ce-8c43-37958be1aa5b\",\"type\":\"BasicTicker\"}},\"id\":\"cfd159f1-1f59-403a-962d-13d5a25214f6\",\"type\":\"Grid\"},{\"attributes\":{\"callback\":null,\"column_names\":[\"line_color\",\"label\",\"width\",\"color\",\"line_alpha\",\"fill_alpha\",\"y\",\"x\",\"height\"],\"data\":{\"chart_index\":[\"(4.7, 4.8]\"],\"color\":[\"#f22c40\"],\"fill_alpha\":[0.6],\"height\":[0.0],\"label\":[\"(4.7, 4.8]\"],\"line_alpha\":[1.0],\"line_color\":[\"black\"],\"width\":[0.16666666666666696],\"x\":[\"4.75\"],\"y\":[0.0]}},\"id\":\"877dd285-c619-4a47-a0ac-9e65085c0072\",\"type\":\"ColumnDataSource\"},{\"attributes\":{\"fill_alpha\":{\"field\":\"fill_alpha\"},\"fill_color\":{\"field\":\"color\"},\"height\":{\"field\":\"height\",\"units\":\"data\"},\"line_color\":{\"field\":\"line_color\"},\"width\":{\"field\":\"width\",\"units\":\"data\"},\"x\":{\"field\":\"x\"},\"y\":{\"field\":\"y\"}},\"id\":\"992444d5-30e8-4428-b5c0-b0d1b3a29ca6\",\"type\":\"Rect\"},{\"attributes\":{\"axis_label\":\"quality\",\"formatter\":{\"id\":\"f0a3fd33-a2d9-4a7b-802f-66c11cee9a1d\",\"type\":\"BasicTickFormatter\"},\"minor_tick_line_color\":{\"value\":null},\"plot\":{\"id\":\"bf3185a8-c5ce-4651-99dd-83041457a91d\",\"subtype\":\"Chart\",\"type\":\"Plot\"},\"ticker\":{\"id\":\"85dc7b2b-c3c3-4458-b1aa-80e30a7854a6\",\"type\":\"BasicTicker\"}},\"id\":\"e465b39b-3552-4032-b3f3-fa58b82d4e48\",\"type\":\"LinearAxis\"},{\"attributes\":{\"callback\":null,\"end\":5142.9},\"id\":\"b8a0f292-f08e-4d7a-945a-d735486ce1fd\",\"type\":\"Range1d\"},{\"attributes\":{\"data_source\":{\"id\":\"1580cbfc-28c4-4447-8252-61a960c592ed\",\"type\":\"ColumnDataSource\"},\"glyph\":{\"id\":\"095e6751-8aa3-4fda-a7c0-f7a77a86d9fb\",\"type\":\"Rect\"},\"hover_glyph\":null,\"nonselection_glyph\":null,\"selection_glyph\":null},\"id\":\"885bd52d-d791-4911-ae21-167acb3b881b\",\"type\":\"GlyphRenderer\"},{\"attributes\":{\"fill_alpha\":{\"field\":\"fill_alpha\"},\"fill_color\":{\"field\":\"color\"},\"height\":{\"field\":\"height\",\"units\":\"data\"},\"line_color\":{\"field\":\"line_color\"},\"width\":{\"field\":\"width\",\"units\":\"data\"},\"x\":{\"field\":\"x\"},\"y\":{\"field\":\"y\"}},\"id\":\"c8bcb759-5e88-4c52-af49-693d2938623d\",\"type\":\"Rect\"},{\"attributes\":{\"fill_alpha\":{\"field\":\"fill_alpha\"},\"fill_color\":{\"field\":\"color\"},\"height\":{\"field\":\"height\",\"units\":\"data\"},\"line_color\":{\"field\":\"line_color\"},\"width\":{\"field\":\"width\",\"units\":\"data\"},\"x\":{\"field\":\"x\"},\"y\":{\"field\":\"y\"}},\"id\":\"850604a9-da3c-41e1-9013-ab3ee3cee967\",\"type\":\"Rect\"},{\"attributes\":{\"fill_alpha\":{\"field\":\"fill_alpha\"},\"fill_color\":{\"field\":\"color\"},\"height\":{\"field\":\"height\",\"units\":\"data\"},\"line_color\":{\"field\":\"line_color\"},\"width\":{\"field\":\"width\",\"units\":\"data\"},\"x\":{\"field\":\"x\"},\"y\":{\"field\":\"y\"}},\"id\":\"125377ff-36d5-48bc-a2b5-d103010bcf8e\",\"type\":\"Rect\"},{\"attributes\":{\"callback\":null,\"column_names\":[\"line_color\",\"label\",\"width\",\"color\",\"line_alpha\",\"fill_alpha\",\"y\",\"x\",\"height\"],\"data\":{\"chart_index\":[\"(7.7, 7.8]\"],\"color\":[\"#5ab738\"],\"fill_alpha\":[0.6],\"height\":[0.0],\"label\":[\"(7.7, 7.8]\"],\"line_alpha\":[1.0],\"line_color\":[\"black\"],\"width\":[0.117647058823529],\"x\":[\"7.75\"],\"y\":[0.0]}},\"id\":\"f460d100-2888-476b-970c-0d8810850682\",\"type\":\"ColumnDataSource\"},{\"attributes\":{\"active_drag\":\"auto\",\"active_scroll\":\"auto\",\"active_tap\":\"auto\",\"tools\":[{\"id\":\"9c81963c-980e-4c9d-9325-ba579f2a27ce\",\"type\":\"PanTool\"},{\"id\":\"fe015709-cf0a-41b3-bb0a-5b98aa0cf0b0\",\"type\":\"ResetTool\"},{\"id\":\"6368fceb-c2c0-4655-a6a3-1da2e8e23ec7\",\"type\":\"BoxZoomTool\"}]},\"id\":\"f0ff3c2e-0d52-454a-b341-61ffcf3edfec\",\"type\":\"Toolbar\"},{\"attributes\":{\"callback\":null,\"end\":9.308823529411764,\"start\":2.6911764705882355},\"id\":\"31c2c0bc-1941-4220-9341-2c321dba9e0e\",\"type\":\"Range1d\"},{\"attributes\":{\"data_source\":{\"id\":\"28c5dccc-2712-42c8-bf9d-f3dd961abec0\",\"type\":\"ColumnDataSource\"},\"glyph\":{\"id\":\"c1907d77-7bf0-499a-bb8c-0661f6f7dcf0\",\"type\":\"Rect\"},\"hover_glyph\":null,\"nonselection_glyph\":null,\"selection_glyph\":null},\"id\":\"e66bf695-e9af-467a-802c-645d46c76a6e\",\"type\":\"GlyphRenderer\"},{\"attributes\":{\"data_source\":{\"id\":\"c38f144c-be81-4f05-98bf-47dba4f65faf\",\"type\":\"ColumnDataSource\"},\"glyph\":{\"id\":\"b57c1813-fbaa-45e1-9049-e14df53c7dae\",\"type\":\"Rect\"},\"hover_glyph\":null,\"nonselection_glyph\":null,\"selection_glyph\":null},\"id\":\"7f691482-a59a-4199-9d4b-6eca91bb8c0e\",\"type\":\"GlyphRenderer\"},{\"attributes\":{\"callback\":null,\"column_names\":[\"line_color\",\"label\",\"width\",\"color\",\"line_alpha\",\"fill_alpha\",\"y\",\"x\",\"height\"],\"data\":{\"chart_index\":[\"(5.2, 5.3]\"],\"color\":[\"#f22c40\"],\"fill_alpha\":[0.6],\"height\":[0.0],\"label\":[\"(5.2, 5.3]\"],\"line_alpha\":[1.0],\"line_color\":[\"black\"],\"width\":[0.16666666666666696],\"x\":[\"5.25\"],\"y\":[0.0]}},\"id\":\"08a8881a-9efe-4a0c-932e-7b6eae2fa470\",\"type\":\"ColumnDataSource\"},{\"attributes\":{\"callback\":null,\"column_names\":[\"line_color\",\"label\",\"width\",\"color\",\"line_alpha\",\"fill_alpha\",\"y\",\"x\",\"height\"],\"data\":{\"chart_index\":[\"(8.5, 8.6]\"],\"color\":[\"#5ab738\"],\"fill_alpha\":[0.6],\"height\":[0.0],\"label\":[\"(8.5, 8.6]\"],\"line_alpha\":[1.0],\"line_color\":[\"black\"],\"width\":[0.117647058823529],\"x\":[\"8.55\"],\"y\":[0.0]}},\"id\":\"adba060b-37d7-4997-9016-6459846cc30a\",\"type\":\"ColumnDataSource\"},{\"attributes\":{\"data_source\":{\"id\":\"d51084f8-6575-4ef3-9356-6b5ffc3243cc\",\"type\":\"ColumnDataSource\"},\"glyph\":{\"id\":\"95dc731f-6bd4-49bc-9142-679a637ff6db\",\"type\":\"Rect\"},\"hover_glyph\":null,\"nonselection_glyph\":null,\"selection_glyph\":null},\"id\":\"910e3ddf-7410-4376-9999-441e824e0df4\",\"type\":\"GlyphRenderer\"},{\"attributes\":{\"callback\":null,\"column_names\":[\"line_color\",\"label\",\"width\",\"color\",\"line_alpha\",\"fill_alpha\",\"y\",\"x\",\"height\"],\"data\":{\"chart_index\":[\"(4.2, 4.3]\"],\"color\":[\"#5ab738\"],\"fill_alpha\":[0.6],\"height\":[0.0],\"label\":[\"(4.2, 4.3]\"],\"line_alpha\":[1.0],\"line_color\":[\"black\"],\"width\":[0.117647058823529],\"x\":[\"4.25\"],\"y\":[0.0]}},\"id\":\"81633f41-9592-4f68-905b-7a75412eb43b\",\"type\":\"ColumnDataSource\"},{\"attributes\":{},\"id\":\"f205e1ed-b3c2-439b-8dbe-4f8afd2ae096\",\"type\":\"ToolEvents\"},{\"attributes\":{\"data_source\":{\"id\":\"df0fcafb-e3bf-4223-974f-9393616a0d7d\",\"type\":\"ColumnDataSource\"},\"glyph\":{\"id\":\"be1b0199-7397-4088-b302-4b0af5ab0e07\",\"type\":\"Rect\"},\"hover_glyph\":null,\"nonselection_glyph\":null,\"selection_glyph\":null},\"id\":\"1abc904e-4c5f-4ac4-88b7-511be18c15a1\",\"type\":\"GlyphRenderer\"},{\"attributes\":{\"data_source\":{\"id\":\"dfd9bfb9-34de-426d-ac47-fb809464fe0f\",\"type\":\"ColumnDataSource\"},\"glyph\":{\"id\":\"a7547c98-0f9d-4a11-8280-441bdee7067e\",\"type\":\"Rect\"},\"hover_glyph\":null,\"nonselection_glyph\":null,\"selection_glyph\":null},\"id\":\"4d2043a5-39f7-451d-9a6d-c685844f5408\",\"type\":\"GlyphRenderer\"},{\"attributes\":{\"fill_alpha\":{\"field\":\"fill_alpha\"},\"fill_color\":{\"field\":\"color\"},\"height\":{\"field\":\"height\",\"units\":\"data\"},\"line_color\":{\"field\":\"line_color\"},\"width\":{\"field\":\"width\",\"units\":\"data\"},\"x\":{\"field\":\"x\"},\"y\":{\"field\":\"y\"}},\"id\":\"2aad5963-18de-45e2-87c8-9a1787f399af\",\"type\":\"Rect\"},{\"attributes\":{\"data_source\":{\"id\":\"7528ab34-7855-46a4-943f-4a3f43507c93\",\"type\":\"ColumnDataSource\"},\"glyph\":{\"id\":\"93358ccc-9806-4f72-a3e6-5de19844a11b\",\"type\":\"Rect\"},\"hover_glyph\":null,\"nonselection_glyph\":null,\"selection_glyph\":null},\"id\":\"303e58f8-d9fe-452e-9e7a-75acf2cbfeab\",\"type\":\"GlyphRenderer\"},{\"attributes\":{\"callback\":null,\"column_names\":[\"line_color\",\"label\",\"width\",\"color\",\"line_alpha\",\"fill_alpha\",\"y\",\"x\",\"height\"],\"data\":{\"chart_index\":[\"(3.4, 3.5]\"],\"color\":[\"#5ab738\"],\"fill_alpha\":[0.6],\"height\":[0.0],\"label\":[\"(3.4, 3.5]\"],\"line_alpha\":[1.0],\"line_color\":[\"black\"],\"width\":[0.11764705882352944],\"x\":[\"3.45\"],\"y\":[0.0]}},\"id\":\"1b38a529-4f25-446c-bd1a-6f9b540d9606\",\"type\":\"ColumnDataSource\"},{\"attributes\":{\"callback\":null,\"column_names\":[\"line_color\",\"label\",\"width\",\"color\",\"line_alpha\",\"fill_alpha\",\"y\",\"x\",\"height\"],\"data\":{\"chart_index\":[\"(3.3, 3.5]\"],\"color\":[\"#f22c40\"],\"fill_alpha\":[0.6],\"height\":[0.0],\"label\":[\"(3.3, 3.5]\"],\"line_alpha\":[1.0],\"line_color\":[\"black\"],\"width\":[0.16666666666666652],\"x\":[\"3.4\"],\"y\":[0.0]}},\"id\":\"5a76697c-7f67-46bb-bb21-2ba079c47e09\",\"type\":\"ColumnDataSource\"},{\"attributes\":{\"data_source\":{\"id\":\"08a8881a-9efe-4a0c-932e-7b6eae2fa470\",\"type\":\"ColumnDataSource\"},\"glyph\":{\"id\":\"3ddbb484-01fc-4e4d-94d6-95b3af95ec10\",\"type\":\"Rect\"},\"hover_glyph\":null,\"nonselection_glyph\":null,\"selection_glyph\":null},\"id\":\"34b26c18-5be1-4639-89a1-f470f2c88039\",\"type\":\"GlyphRenderer\"},{\"attributes\":{\"callback\":null,\"column_names\":[\"line_color\",\"label\",\"width\",\"color\",\"line_alpha\",\"fill_alpha\",\"y\",\"x\",\"height\"],\"data\":{\"chart_index\":[\"(5.8, 5.9]\"],\"color\":[\"#5ab738\"],\"fill_alpha\":[0.6],\"height\":[0.0],\"label\":[\"(5.8, 5.9]\"],\"line_alpha\":[1.0],\"line_color\":[\"black\"],\"width\":[0.11764705882352988],\"x\":[\"5.85\"],\"y\":[0.0]}},\"id\":\"28c5dccc-2712-42c8-bf9d-f3dd961abec0\",\"type\":\"ColumnDataSource\"},{\"attributes\":{\"callback\":null,\"column_names\":[\"line_color\",\"label\",\"width\",\"color\",\"line_alpha\",\"fill_alpha\",\"y\",\"x\",\"height\"],\"data\":{\"chart_index\":[{\"white?\":1}],\"color\":[\"#f22c40\"],\"fill_alpha\":[0.8],\"height\":[4898.0],\"label\":[{\"white?\":1}],\"line_alpha\":[1.0],\"line_color\":[\"white\"],\"white?\":[1],\"width\":[0.8],\"x\":[\"1\"],\"y\":[2449.0]}},\"id\":\"f786fc4c-6700-4747-82fd-54002f78120a\",\"type\":\"ColumnDataSource\"},{\"attributes\":{\"children\":[{\"id\":\"1d37592e-6367-4e29-a02a-aa49ca9d2961\",\"type\":\"Row\"}]},\"id\":\"c3af8241-76ed-4f5e-bf41-470014ee64bf\",\"type\":\"Column\"},{\"attributes\":{\"fill_alpha\":{\"field\":\"fill_alpha\"},\"fill_color\":{\"field\":\"color\"},\"height\":{\"field\":\"height\",\"units\":\"data\"},\"line_color\":{\"field\":\"line_color\"},\"width\":{\"field\":\"width\",\"units\":\"data\"},\"x\":{\"field\":\"x\"},\"y\":{\"field\":\"y\"}},\"id\":\"e44d82f3-63ed-42a0-ad38-4bd1bcd9f87d\",\"type\":\"Rect\"},{\"attributes\":{\"callback\":null,\"column_names\":[\"line_color\",\"label\",\"width\",\"color\",\"line_alpha\",\"fill_alpha\",\"y\",\"x\",\"height\"],\"data\":{\"chart_index\":[\"(5.3, 5.5]\"],\"color\":[\"#f22c40\"],\"fill_alpha\":[0.6],\"height\":[0.0],\"label\":[\"(5.3, 5.5]\"],\"line_alpha\":[1.0],\"line_color\":[\"black\"],\"width\":[0.16666666666666696],\"x\":[\"5.4\"],\"y\":[0.0]}},\"id\":\"f6200c12-c5fc-4371-8efb-842e59d0a1b1\",\"type\":\"ColumnDataSource\"},{\"attributes\":{\"fill_alpha\":{\"field\":\"fill_alpha\"},\"fill_color\":{\"field\":\"color\"},\"height\":{\"field\":\"height\",\"units\":\"data\"},\"line_color\":{\"field\":\"line_color\"},\"width\":{\"field\":\"width\",\"units\":\"data\"},\"x\":{\"field\":\"x\"},\"y\":{\"field\":\"y\"}},\"id\":\"d6ca1ce1-830b-4765-abe2-e0ba6d5de4d4\",\"type\":\"Rect\"},{\"attributes\":{\"children\":[{\"id\":\"7dec0f7a-fbb3-4270-b4ef-97fb7d4a08de\",\"type\":\"ToolbarBox\"},{\"id\":\"c3af8241-76ed-4f5e-bf41-470014ee64bf\",\"type\":\"Column\"}]},\"id\":\"93ff5624-0ca8-41b3-aed7-cb403eb9cfbf\",\"type\":\"Column\"},{\"attributes\":{\"axis_label\":\"Count( Quality )\",\"formatter\":{\"id\":\"ed666e3d-f6e6-4503-b776-1ae9d4a1d0d9\",\"type\":\"BasicTickFormatter\"},\"plot\":{\"id\":\"bf3185a8-c5ce-4651-99dd-83041457a91d\",\"subtype\":\"Chart\",\"type\":\"Plot\"},\"ticker\":{\"id\":\"492cd364-9faf-4435-a7eb-71ffc663bf97\",\"type\":\"BasicTicker\"}},\"id\":\"43f22938-3e73-4009-a974-2062f08b082b\",\"type\":\"LinearAxis\"},{\"attributes\":{\"fill_alpha\":{\"field\":\"fill_alpha\"},\"fill_color\":{\"field\":\"color\"},\"height\":{\"field\":\"height\",\"units\":\"data\"},\"line_color\":{\"field\":\"line_color\"},\"width\":{\"field\":\"width\",\"units\":\"data\"},\"x\":{\"field\":\"x\"},\"y\":{\"field\":\"y\"}},\"id\":\"b6e7a8bb-f035-43b6-9f0a-d15bf3c310e6\",\"type\":\"Rect\"},{\"attributes\":{\"data_source\":{\"id\":\"3035ee5e-f120-4b17-b8d8-6a812c41f045\",\"type\":\"ColumnDataSource\"},\"glyph\":{\"id\":\"0ece8651-f6bd-4c57-a662-4e392ebc6f69\",\"type\":\"Rect\"},\"hover_glyph\":null,\"nonselection_glyph\":null,\"selection_glyph\":null},\"id\":\"28d66bb8-b078-4338-b457-516688232525\",\"type\":\"GlyphRenderer\"},{\"attributes\":{\"fill_alpha\":{\"field\":\"fill_alpha\"},\"fill_color\":{\"field\":\"color\"},\"height\":{\"field\":\"height\",\"units\":\"data\"},\"line_color\":{\"field\":\"line_color\"},\"width\":{\"field\":\"width\",\"units\":\"data\"},\"x\":{\"field\":\"x\"},\"y\":{\"field\":\"y\"}},\"id\":\"075095f6-310c-4953-915c-269c79a0f9a7\",\"type\":\"Rect\"},{\"attributes\":{\"fill_alpha\":{\"field\":\"fill_alpha\"},\"fill_color\":{\"field\":\"color\"},\"height\":{\"field\":\"height\",\"units\":\"data\"},\"line_color\":{\"field\":\"line_color\"},\"width\":{\"field\":\"width\",\"units\":\"data\"},\"x\":{\"field\":\"x\"},\"y\":{\"field\":\"y\"}},\"id\":\"61eddf78-f94d-454b-8664-1b5e03a9702e\",\"type\":\"Rect\"},{\"attributes\":{\"data_source\":{\"id\":\"f6200c12-c5fc-4371-8efb-842e59d0a1b1\",\"type\":\"ColumnDataSource\"},\"glyph\":{\"id\":\"0c7524ff-40b4-4578-9127-76f3082b0072\",\"type\":\"Rect\"},\"hover_glyph\":null,\"nonselection_glyph\":null,\"selection_glyph\":null},\"id\":\"8df4c183-7db8-4c11-864c-5819f9fe46c6\",\"type\":\"GlyphRenderer\"},{\"attributes\":{\"plot\":null,\"text\":null},\"id\":\"f39d4709-6325-41c5-9542-3f71d3fb2bbf\",\"type\":\"Title\"},{\"attributes\":{\"data_source\":{\"id\":\"136e78a5-6843-48ed-a436-de9ad64fcfc4\",\"type\":\"ColumnDataSource\"},\"glyph\":{\"id\":\"1c30a0b1-412e-46b2-8338-69f7deb28107\",\"type\":\"Rect\"},\"hover_glyph\":null,\"nonselection_glyph\":null,\"selection_glyph\":null},\"id\":\"829e6477-6770-4aff-8945-fb819758a850\",\"type\":\"GlyphRenderer\"},{\"attributes\":{\"fill_alpha\":{\"field\":\"fill_alpha\"},\"fill_color\":{\"field\":\"color\"},\"height\":{\"field\":\"height\",\"units\":\"data\"},\"line_color\":{\"field\":\"line_color\"},\"width\":{\"field\":\"width\",\"units\":\"data\"},\"x\":{\"field\":\"x\"},\"y\":{\"field\":\"y\"}},\"id\":\"95dc731f-6bd4-49bc-9142-679a637ff6db\",\"type\":\"Rect\"},{\"attributes\":{\"plot\":{\"id\":\"1c615a98-60e5-4df7-96e3-1dcb49eca02d\",\"subtype\":\"Chart\",\"type\":\"Plot\"}},\"id\":\"fe015709-cf0a-41b3-bb0a-5b98aa0cf0b0\",\"type\":\"ResetTool\"},{\"attributes\":{\"callback\":null,\"column_names\":[\"line_color\",\"label\",\"width\",\"color\",\"line_alpha\",\"fill_alpha\",\"y\",\"x\",\"height\"],\"data\":{\"chart_index\":[\"(3.8, 3.9]\"],\"color\":[\"#5ab738\"],\"fill_alpha\":[0.6],\"height\":[0.0],\"label\":[\"(3.8, 3.9]\"],\"line_alpha\":[1.0],\"line_color\":[\"black\"],\"width\":[0.11764705882352988],\"x\":[\"3.8499999999999996\"],\"y\":[0.0]}},\"id\":\"84c2d13c-b473-4bac-961f-5dd8f948121b\",\"type\":\"ColumnDataSource\"},{\"attributes\":{\"data_source\":{\"id\":\"4b4c8bc0-26af-4d39-916e-de2d30b29ff7\",\"type\":\"ColumnDataSource\"},\"glyph\":{\"id\":\"4ae6943e-4e17-4097-ba96-fbed1be91cef\",\"type\":\"Rect\"},\"hover_glyph\":null,\"nonselection_glyph\":null,\"selection_glyph\":null},\"id\":\"68364a38-a018-4708-afe6-a48d43a8060a\",\"type\":\"GlyphRenderer\"},{\"attributes\":{\"data_source\":{\"id\":\"3c2798ed-ad50-48e9-a5dd-a7ef99f2abc9\",\"type\":\"ColumnDataSource\"},\"glyph\":{\"id\":\"6735d6af-51da-4190-9248-d05cdccf1478\",\"type\":\"Rect\"},\"hover_glyph\":null,\"nonselection_glyph\":null,\"selection_glyph\":null},\"id\":\"096dd424-a379-42ba-aece-4fd2b02bc100\",\"type\":\"GlyphRenderer\"},{\"attributes\":{\"below\":[{\"id\":\"213dbcc7-6d19-4b58-93bd-f59d446931e1\",\"type\":\"CategoricalAxis\"}],\"left\":[{\"id\":\"7fbf3fc3-2085-4efa-9c91-c71544feef4e\",\"type\":\"LinearAxis\"}],\"plot_height\":400,\"plot_width\":400,\"renderers\":[{\"id\":\"741a87a3-349b-4280-948a-e06c9f2a8e76\",\"type\":\"BoxAnnotation\"},{\"id\":\"b431cff3-839f-4abc-9b44-be3a061e8a14\",\"type\":\"GlyphRenderer\"},{\"id\":\"eb1924dc-8c8d-446a-ba4a-d572ff55c485\",\"type\":\"GlyphRenderer\"},{\"id\":\"213dbcc7-6d19-4b58-93bd-f59d446931e1\",\"type\":\"CategoricalAxis\"},{\"id\":\"7fbf3fc3-2085-4efa-9c91-c71544feef4e\",\"type\":\"LinearAxis\"},{\"id\":\"cfd159f1-1f59-403a-962d-13d5a25214f6\",\"type\":\"Grid\"}],\"title\":{\"id\":\"b855336c-d651-4856-84b0-f254dfdaf5c8\",\"type\":\"Title\"},\"tool_events\":{\"id\":\"f205e1ed-b3c2-439b-8dbe-4f8afd2ae096\",\"type\":\"ToolEvents\"},\"toolbar\":{\"id\":\"f0ff3c2e-0d52-454a-b341-61ffcf3edfec\",\"type\":\"Toolbar\"},\"toolbar_location\":null,\"x_mapper_type\":\"auto\",\"x_range\":{\"id\":\"d126d04a-5945-4eea-aeb2-c302ac3c44f2\",\"type\":\"FactorRange\"},\"y_mapper_type\":\"auto\",\"y_range\":{\"id\":\"b8a0f292-f08e-4d7a-945a-d735486ce1fd\",\"type\":\"Range1d\"}},\"id\":\"1c615a98-60e5-4df7-96e3-1dcb49eca02d\",\"subtype\":\"Chart\",\"type\":\"Plot\"},{\"attributes\":{\"data_source\":{\"id\":\"84c2d13c-b473-4bac-961f-5dd8f948121b\",\"type\":\"ColumnDataSource\"},\"glyph\":{\"id\":\"34ab3a45-fd34-461f-b42c-5daf6bb42429\",\"type\":\"Rect\"},\"hover_glyph\":null,\"nonselection_glyph\":null,\"selection_glyph\":null},\"id\":\"21d326e6-a3e3-4fa8-ae76-c624249bebe6\",\"type\":\"GlyphRenderer\"},{\"attributes\":{\"fill_alpha\":{\"field\":\"fill_alpha\"},\"fill_color\":{\"field\":\"color\"},\"height\":{\"field\":\"height\",\"units\":\"data\"},\"line_color\":{\"field\":\"line_color\"},\"width\":{\"field\":\"width\",\"units\":\"data\"},\"x\":{\"field\":\"x\"},\"y\":{\"field\":\"y\"}},\"id\":\"70ad0f6e-8d87-4c63-84cd-def75a6718b9\",\"type\":\"Rect\"},{\"attributes\":{\"callback\":null,\"column_names\":[\"line_color\",\"label\",\"width\",\"color\",\"line_alpha\",\"fill_alpha\",\"y\",\"x\",\"height\"],\"data\":{\"chart_index\":[\"(5.2, 5.4]\"],\"color\":[\"#5ab738\"],\"fill_alpha\":[0.6],\"height\":[0.0],\"label\":[\"(5.2, 5.4]\"],\"line_alpha\":[1.0],\"line_color\":[\"black\"],\"width\":[0.11764705882352988],\"x\":[\"5.300000000000001\"],\"y\":[0.0]}},\"id\":\"dd673d39-7581-4fc9-9483-44ece78a414c\",\"type\":\"ColumnDataSource\"},{\"attributes\":{\"callback\":null,\"column_names\":[\"line_color\",\"label\",\"width\",\"color\",\"line_alpha\",\"fill_alpha\",\"y\",\"x\",\"height\"],\"data\":{\"chart_index\":[\"(7.1, 7.2]\"],\"color\":[\"#5ab738\"],\"fill_alpha\":[0.6],\"height\":[0.0],\"label\":[\"(7.1, 7.2]\"],\"line_alpha\":[1.0],\"line_color\":[\"black\"],\"width\":[0.11764705882352988],\"x\":[\"7.15\"],\"y\":[0.0]}},\"id\":\"cb722c62-153d-4c6c-810d-fee452f8bd43\",\"type\":\"ColumnDataSource\"},{\"attributes\":{\"fill_alpha\":{\"field\":\"fill_alpha\"},\"fill_color\":{\"field\":\"color\"},\"height\":{\"field\":\"height\",\"units\":\"data\"},\"line_color\":{\"field\":\"line_color\"},\"width\":{\"field\":\"width\",\"units\":\"data\"},\"x\":{\"field\":\"x\"},\"y\":{\"field\":\"y\"}},\"id\":\"8af58eb6-e031-41bb-9b7c-3fe3c1b3360b\",\"type\":\"Rect\"},{\"attributes\":{\"callback\":null,\"column_names\":[\"line_color\",\"label\",\"width\",\"color\",\"line_alpha\",\"fill_alpha\",\"y\",\"x\",\"height\"],\"data\":{\"chart_index\":[\"(8.9, 9.0]\"],\"color\":[\"#5ab738\"],\"fill_alpha\":[0.6],\"height\":[5.0],\"label\":[\"(8.9, 9.0]\"],\"line_alpha\":[1.0],\"line_color\":[\"black\"],\"width\":[0.117647058823529],\"x\":[\"8.95\"],\"y\":[2.5]}},\"id\":\"43f01eea-dc3f-4b5c-b016-57506e5cd471\",\"type\":\"ColumnDataSource\"},{\"attributes\":{\"data_source\":{\"id\":\"ddc6fbfa-cac3-4353-ad6b-a3ecaf3cc51f\",\"type\":\"ColumnDataSource\"},\"glyph\":{\"id\":\"8e6fad74-2867-4bb6-ab60-1b859c3ea0d8\",\"type\":\"Rect\"},\"hover_glyph\":null,\"nonselection_glyph\":null,\"selection_glyph\":null},\"id\":\"c812d285-42a2-42e3-b938-885763e42eae\",\"type\":\"GlyphRenderer\"},{\"attributes\":{\"data_source\":{\"id\":\"3140664a-a012-4392-ab1b-064564829b6a\",\"type\":\"ColumnDataSource\"},\"glyph\":{\"id\":\"13ff1447-6991-491c-913f-ee92bee146e4\",\"type\":\"Rect\"},\"hover_glyph\":null,\"nonselection_glyph\":null,\"selection_glyph\":null},\"id\":\"8b980133-383b-4083-ba77-2b18a8cf41af\",\"type\":\"GlyphRenderer\"},{\"attributes\":{\"overlay\":{\"id\":\"741a87a3-349b-4280-948a-e06c9f2a8e76\",\"type\":\"BoxAnnotation\"},\"plot\":{\"id\":\"1c615a98-60e5-4df7-96e3-1dcb49eca02d\",\"subtype\":\"Chart\",\"type\":\"Plot\"}},\"id\":\"6368fceb-c2c0-4655-a6a3-1da2e8e23ec7\",\"type\":\"BoxZoomTool\"},{\"attributes\":{\"fill_alpha\":{\"field\":\"fill_alpha\"},\"fill_color\":{\"field\":\"color\"},\"height\":{\"field\":\"height\",\"units\":\"data\"},\"line_color\":{\"field\":\"line_color\"},\"width\":{\"field\":\"width\",\"units\":\"data\"},\"x\":{\"field\":\"x\"},\"y\":{\"field\":\"y\"}},\"id\":\"3f6ad61f-053c-4944-8b8a-57ca8c4be0a1\",\"type\":\"Rect\"},{\"attributes\":{\"fill_alpha\":{\"field\":\"fill_alpha\"},\"fill_color\":{\"field\":\"color\"},\"height\":{\"field\":\"height\",\"units\":\"data\"},\"line_color\":{\"field\":\"line_color\"},\"width\":{\"field\":\"width\",\"units\":\"data\"},\"x\":{\"field\":\"x\"},\"y\":{\"field\":\"y\"}},\"id\":\"0c7524ff-40b4-4578-9127-76f3082b0072\",\"type\":\"Rect\"},{\"attributes\":{\"callback\":null,\"column_names\":[\"line_color\",\"label\",\"width\",\"color\",\"line_alpha\",\"fill_alpha\",\"y\",\"x\",\"height\"],\"data\":{\"chart_index\":[\"(6.5, 6.7]\"],\"color\":[\"#f22c40\"],\"fill_alpha\":[0.6],\"height\":[0.0],\"label\":[\"(6.5, 6.7]\"],\"line_alpha\":[1.0],\"line_color\":[\"black\"],\"width\":[0.16666666666666607],\"x\":[\"6.6\"],\"y\":[0.0]}},\"id\":\"897b4e25-f5dd-4281-a1fd-f30fe54b5bd7\",\"type\":\"ColumnDataSource\"},{\"attributes\":{\"fill_alpha\":{\"field\":\"fill_alpha\"},\"fill_color\":{\"field\":\"color\"},\"height\":{\"field\":\"height\",\"units\":\"data\"},\"line_color\":{\"field\":\"line_color\"},\"width\":{\"field\":\"width\",\"units\":\"data\"},\"x\":{\"field\":\"x\"},\"y\":{\"field\":\"y\"}},\"id\":\"efa57be7-a749-479f-b899-3a66b8b56fae\",\"type\":\"Rect\"},{\"attributes\":{\"fill_alpha\":{\"field\":\"fill_alpha\"},\"fill_color\":{\"field\":\"color\"},\"height\":{\"field\":\"height\",\"units\":\"data\"},\"line_color\":{\"field\":\"line_color\"},\"width\":{\"field\":\"width\",\"units\":\"data\"},\"x\":{\"field\":\"x\"},\"y\":{\"field\":\"y\"}},\"id\":\"6309b603-0dda-41e9-9f77-9f5a8977b3e8\",\"type\":\"Rect\"},{\"attributes\":{\"data_source\":{\"id\":\"bf3f8a15-4baa-4374-9d27-b1694ec570e7\",\"type\":\"ColumnDataSource\"},\"glyph\":{\"id\":\"4c2a20d9-761b-4483-9e9f-01706665721a\",\"type\":\"Rect\"},\"hover_glyph\":null,\"nonselection_glyph\":null,\"selection_glyph\":null},\"id\":\"28bddd22-5ec6-407d-8fef-2f22071e2c90\",\"type\":\"GlyphRenderer\"},{\"attributes\":{\"callback\":null,\"column_names\":[\"line_color\",\"label\",\"width\",\"color\",\"line_alpha\",\"fill_alpha\",\"y\",\"x\",\"height\"],\"data\":{\"chart_index\":[\"(8.6, 8.8]\"],\"color\":[\"#5ab738\"],\"fill_alpha\":[0.6],\"height\":[0.0],\"label\":[\"(8.6, 8.8]\"],\"line_alpha\":[1.0],\"line_color\":[\"black\"],\"width\":[0.11764705882353077],\"x\":[\"8.7\"],\"y\":[0.0]}},\"id\":\"664340f8-84de-40ca-a7e2-cd62a8db4a3d\",\"type\":\"ColumnDataSource\"},{\"attributes\":{\"callback\":null,\"factors\":[\"0\",\"1\"]},\"id\":\"d126d04a-5945-4eea-aeb2-c302ac3c44f2\",\"type\":\"FactorRange\"},{\"attributes\":{\"fill_alpha\":{\"field\":\"fill_alpha\"},\"fill_color\":{\"field\":\"color\"},\"height\":{\"field\":\"height\",\"units\":\"data\"},\"line_color\":{\"field\":\"line_color\"},\"width\":{\"field\":\"width\",\"units\":\"data\"},\"x\":{\"field\":\"x\"},\"y\":{\"field\":\"y\"}},\"id\":\"17bcae88-dda6-4aed-b65c-de00163796df\",\"type\":\"Rect\"},{\"attributes\":{\"callback\":null,\"column_names\":[\"line_color\",\"label\",\"width\",\"color\",\"line_alpha\",\"fill_alpha\",\"y\",\"x\",\"height\"],\"data\":{\"chart_index\":[\"(3.2, 3.4]\"],\"color\":[\"#5ab738\"],\"fill_alpha\":[0.6],\"height\":[0.0],\"label\":[\"(3.2, 3.4]\"],\"line_alpha\":[1.0],\"line_color\":[\"black\"],\"width\":[0.11764705882352944],\"x\":[\"3.3\"],\"y\":[0.0]}},\"id\":\"fb191941-2fb6-461d-be96-90052c0e879b\",\"type\":\"ColumnDataSource\"},{\"attributes\":{\"axis_label\":\"Count( Quality )\",\"formatter\":{\"id\":\"185892e4-1b79-496b-815d-868b1f01774d\",\"type\":\"BasicTickFormatter\"},\"plot\":{\"id\":\"1c615a98-60e5-4df7-96e3-1dcb49eca02d\",\"subtype\":\"Chart\",\"type\":\"Plot\"},\"ticker\":{\"id\":\"fdab5d79-54d4-46ce-8c43-37958be1aa5b\",\"type\":\"BasicTicker\"}},\"id\":\"7fbf3fc3-2085-4efa-9c91-c71544feef4e\",\"type\":\"LinearAxis\"},{\"attributes\":{\"fill_alpha\":{\"field\":\"fill_alpha\"},\"fill_color\":{\"field\":\"color\"},\"height\":{\"field\":\"height\",\"units\":\"data\"},\"line_color\":{\"field\":\"line_color\"},\"width\":{\"field\":\"width\",\"units\":\"data\"},\"x\":{\"field\":\"x\"},\"y\":{\"field\":\"y\"}},\"id\":\"8864949d-0cdb-4c91-a202-c01929931356\",\"type\":\"Rect\"},{\"attributes\":{\"fill_alpha\":{\"field\":\"fill_alpha\"},\"fill_color\":{\"field\":\"color\"},\"height\":{\"field\":\"height\",\"units\":\"data\"},\"line_color\":{\"field\":\"line_color\"},\"width\":{\"field\":\"width\",\"units\":\"data\"},\"x\":{\"field\":\"x\"},\"y\":{\"field\":\"y\"}},\"id\":\"185b4a91-1f19-439f-ae00-ba5da1a1c474\",\"type\":\"Rect\"},{\"attributes\":{\"callback\":null,\"column_names\":[\"line_color\",\"label\",\"width\",\"color\",\"line_alpha\",\"fill_alpha\",\"y\",\"x\",\"height\"],\"data\":{\"chart_index\":[\"(8.1, 8.2]\"],\"color\":[\"#5ab738\"],\"fill_alpha\":[0.6],\"height\":[0.0],\"label\":[\"(8.1, 8.2]\"],\"line_alpha\":[1.0],\"line_color\":[\"black\"],\"width\":[0.117647058823529],\"x\":[\"8.149999999999999\"],\"y\":[0.0]}},\"id\":\"3b6e51a7-3fb7-4a56-b7b4-3f95dccb8c10\",\"type\":\"ColumnDataSource\"},{\"attributes\":{\"data_source\":{\"id\":\"5797614a-388f-4c43-8448-f72ffbd06ab4\",\"type\":\"ColumnDataSource\"},\"glyph\":{\"id\":\"6f68b7c5-94b9-4d82-bb43-be390c2a267c\",\"type\":\"Rect\"},\"hover_glyph\":null,\"nonselection_glyph\":null,\"selection_glyph\":null},\"id\":\"751089af-1d2a-4df9-9a71-707ef20eb46d\",\"type\":\"GlyphRenderer\"},{\"attributes\":{\"below\":[{\"id\":\"e465b39b-3552-4032-b3f3-fa58b82d4e48\",\"type\":\"LinearAxis\"}],\"left\":[{\"id\":\"43f22938-3e73-4009-a974-2062f08b082b\",\"type\":\"LinearAxis\"}],\"plot_height\":400,\"plot_width\":400,\"renderers\":[{\"id\":\"da4536c8-f325-4beb-845f-0456a9d74031\",\"type\":\"BoxAnnotation\"},{\"id\":\"67137e50-528f-43ac-8cf5-569e91b17ef7\",\"type\":\"GlyphRenderer\"},{\"id\":\"604024ac-853b-49bf-a838-13297060e6b3\",\"type\":\"GlyphRenderer\"},{\"id\":\"8574db56-4de4-4165-99b7-3567c2bddadf\",\"type\":\"GlyphRenderer\"},{\"id\":\"52d37dfb-72de-49ac-bd01-c392795e1daa\",\"type\":\"GlyphRenderer\"},{\"id\":\"fba17909-12c0-4a4f-9c75-99b6655483fa\",\"type\":\"GlyphRenderer\"},{\"id\":\"3e9cce99-eb42-478f-b0d1-fccab119a009\",\"type\":\"GlyphRenderer\"},{\"id\":\"7298a048-9d76-4e01-af92-efc8bc9f503a\",\"type\":\"GlyphRenderer\"},{\"id\":\"21d326e6-a3e3-4fa8-ae76-c624249bebe6\",\"type\":\"GlyphRenderer\"},{\"id\":\"a2ee7a37-e8f3-4360-b9db-e541e9c17016\",\"type\":\"GlyphRenderer\"},{\"id\":\"4a78e154-8172-44fe-9c0a-dd2aecd3f734\",\"type\":\"GlyphRenderer\"},{\"id\":\"daff4666-8a04-48d2-a18c-944a2d1abfb3\",\"type\":\"GlyphRenderer\"},{\"id\":\"92048241-253d-497d-bd48-ea80439fd288\",\"type\":\"GlyphRenderer\"},{\"id\":\"4da75e8e-e483-42f8-812e-8d92fad58c32\",\"type\":\"GlyphRenderer\"},{\"id\":\"1abc904e-4c5f-4ac4-88b7-511be18c15a1\",\"type\":\"GlyphRenderer\"},{\"id\":\"16863eec-e8ed-44ee-b188-67315aa04870\",\"type\":\"GlyphRenderer\"},{\"id\":\"c812d285-42a2-42e3-b938-885763e42eae\",\"type\":\"GlyphRenderer\"},{\"id\":\"6c1c7384-2691-49e3-8964-0470dbcaffb4\",\"type\":\"GlyphRenderer\"},{\"id\":\"f15c8758-b2cd-47b1-9386-b8aa7fb817e9\",\"type\":\"GlyphRenderer\"},{\"id\":\"4aac92cb-c336-4f7b-abb2-544e90a883d2\",\"type\":\"GlyphRenderer\"},{\"id\":\"ccd33c32-eae7-4ed2-968e-158e90c6f549\",\"type\":\"GlyphRenderer\"},{\"id\":\"c72eccd6-df5a-4f58-ba41-564f9a1c7bee\",\"type\":\"GlyphRenderer\"},{\"id\":\"efaf18ef-83b6-4a95-b425-4b3d8a54726c\",\"type\":\"GlyphRenderer\"},{\"id\":\"751089af-1d2a-4df9-9a71-707ef20eb46d\",\"type\":\"GlyphRenderer\"},{\"id\":\"7f691482-a59a-4199-9d4b-6eca91bb8c0e\",\"type\":\"GlyphRenderer\"},{\"id\":\"e66bf695-e9af-467a-802c-645d46c76a6e\",\"type\":\"GlyphRenderer\"},{\"id\":\"a6c37ca3-408f-425e-8a6f-30434da1e993\",\"type\":\"GlyphRenderer\"},{\"id\":\"82306fc0-aaa9-497f-a266-e18208c56c80\",\"type\":\"GlyphRenderer\"},{\"id\":\"9fdfdbe5-881a-42e0-8718-c9244f131b84\",\"type\":\"GlyphRenderer\"},{\"id\":\"68364a38-a018-4708-afe6-a48d43a8060a\",\"type\":\"GlyphRenderer\"},{\"id\":\"72663794-83bc-4b49-85b5-a2b62d1cad05\",\"type\":\"GlyphRenderer\"},{\"id\":\"da2ff517-494f-44a1-be40-fe7d81c204f5\",\"type\":\"GlyphRenderer\"},{\"id\":\"2166ee92-cb00-4657-908b-0c5f94b8050a\",\"type\":\"GlyphRenderer\"},{\"id\":\"885bd52d-d791-4911-ae21-167acb3b881b\",\"type\":\"GlyphRenderer\"},{\"id\":\"a9fb8d50-1c23-47b0-b81b-9fa8419d1ed7\",\"type\":\"GlyphRenderer\"},{\"id\":\"e407e837-01dc-4177-a5dc-4d1367a1b1be\",\"type\":\"GlyphRenderer\"},{\"id\":\"6a725d7c-d6ef-4660-9535-4599ea3d73f6\",\"type\":\"GlyphRenderer\"},{\"id\":\"cdb2e007-7ac5-4f49-95b0-56de58df70de\",\"type\":\"GlyphRenderer\"},{\"id\":\"e6429ced-bff8-4f13-a614-e28b9f371eeb\",\"type\":\"GlyphRenderer\"},{\"id\":\"8b980133-383b-4083-ba77-2b18a8cf41af\",\"type\":\"GlyphRenderer\"},{\"id\":\"617b18d4-be31-4dfd-989d-c3a4f40d6a7d\",\"type\":\"GlyphRenderer\"},{\"id\":\"d672de17-d03b-4f24-abce-f7ad08bb8b2c\",\"type\":\"GlyphRenderer\"},{\"id\":\"c8079a87-34b6-43e8-a897-9a25fc0c4e11\",\"type\":\"GlyphRenderer\"},{\"id\":\"910e3ddf-7410-4376-9999-441e824e0df4\",\"type\":\"GlyphRenderer\"},{\"id\":\"aa3c00b7-7afc-460f-ad47-af5d9be8c49e\",\"type\":\"GlyphRenderer\"},{\"id\":\"28d66bb8-b078-4338-b457-516688232525\",\"type\":\"GlyphRenderer\"},{\"id\":\"88e79af3-ff7f-4364-bbda-5e6a2f11c6e1\",\"type\":\"GlyphRenderer\"},{\"id\":\"ea2f7491-cd78-4554-818f-c73003817f1e\",\"type\":\"GlyphRenderer\"},{\"id\":\"8762ecee-8248-4774-b787-ed286efd4f73\",\"type\":\"GlyphRenderer\"},{\"id\":\"2a7587f3-25b6-4684-b456-b8790aa42f44\",\"type\":\"GlyphRenderer\"},{\"id\":\"a6d4e6eb-0353-441e-a3b3-84e920d2198a\",\"type\":\"GlyphRenderer\"},{\"id\":\"51a0b802-b315-4daa-8321-492a5af50eef\",\"type\":\"GlyphRenderer\"},{\"id\":\"303e58f8-d9fe-452e-9e7a-75acf2cbfeab\",\"type\":\"GlyphRenderer\"},{\"id\":\"28bddd22-5ec6-407d-8fef-2f22071e2c90\",\"type\":\"GlyphRenderer\"},{\"id\":\"e61ba46f-7832-4678-9e3b-d8edc5e3dbf8\",\"type\":\"GlyphRenderer\"},{\"id\":\"72fe6550-43af-4ac4-94b9-cc8c9a77df3e\",\"type\":\"GlyphRenderer\"},{\"id\":\"4d14fa97-f121-444e-b5ba-6a3b86122304\",\"type\":\"GlyphRenderer\"},{\"id\":\"f559611a-acd2-49c7-9a35-9f2ff5b2f528\",\"type\":\"GlyphRenderer\"},{\"id\":\"56f2b506-decb-4e87-8fd7-663e66a1b9c3\",\"type\":\"GlyphRenderer\"},{\"id\":\"cef3261c-7b57-4724-9113-0977f0720000\",\"type\":\"GlyphRenderer\"},{\"id\":\"234d3063-b3e9-4b01-adb3-f3e1847f4e69\",\"type\":\"GlyphRenderer\"},{\"id\":\"8c4c494d-ae05-40cd-b9d2-c5b7e6bdfd36\",\"type\":\"GlyphRenderer\"},{\"id\":\"0766ca4d-06b9-4a44-bad7-c47d3605867a\",\"type\":\"GlyphRenderer\"},{\"id\":\"e6aa6fe1-6abc-4a5c-a7f0-8d2944c11807\",\"type\":\"GlyphRenderer\"},{\"id\":\"4fb30f51-5d91-472c-8f0e-fbcfd4b42e7d\",\"type\":\"GlyphRenderer\"},{\"id\":\"34b26c18-5be1-4639-89a1-f470f2c88039\",\"type\":\"GlyphRenderer\"},{\"id\":\"8df4c183-7db8-4c11-864c-5819f9fe46c6\",\"type\":\"GlyphRenderer\"},{\"id\":\"052029f7-c519-4037-9632-282b5a30e5a1\",\"type\":\"GlyphRenderer\"},{\"id\":\"de0a6d7f-47b2-49fd-a1d2-5d8f29217a20\",\"type\":\"GlyphRenderer\"},{\"id\":\"4fc2c38a-8ac7-4c08-877f-96cc495f94f9\",\"type\":\"GlyphRenderer\"},{\"id\":\"8fa1035d-1fe4-400f-a9b6-d43763985afc\",\"type\":\"GlyphRenderer\"},{\"id\":\"420eadd8-57b7-4be1-9df8-56c6fc6db48f\",\"type\":\"GlyphRenderer\"},{\"id\":\"5478ae32-a099-4c69-954d-823e950aa448\",\"type\":\"GlyphRenderer\"},{\"id\":\"037742b5-68b6-4707-bf4f-ddaa082a1a59\",\"type\":\"GlyphRenderer\"},{\"id\":\"50b3a3ac-0302-4cce-a054-74251bd38be5\",\"type\":\"GlyphRenderer\"},{\"id\":\"829e6477-6770-4aff-8945-fb819758a850\",\"type\":\"GlyphRenderer\"},{\"id\":\"a9e36702-03fb-4e5e-88e5-0a9d8a4e9cbc\",\"type\":\"GlyphRenderer\"},{\"id\":\"7c071927-147f-4a67-803c-1e6b7ed25fa1\",\"type\":\"GlyphRenderer\"},{\"id\":\"4d2043a5-39f7-451d-9a6d-c685844f5408\",\"type\":\"GlyphRenderer\"},{\"id\":\"a311b8e4-4635-4015-83d7-35499b43af58\",\"type\":\"GlyphRenderer\"},{\"id\":\"a229cc99-a79e-4f09-bc0f-c76357ab9d11\",\"type\":\"GlyphRenderer\"},{\"id\":\"096dd424-a379-42ba-aece-4fd2b02bc100\",\"type\":\"GlyphRenderer\"},{\"id\":\"1ed6e281-0dbd-4b87-872d-df131ca81267\",\"type\":\"Legend\"},{\"id\":\"e465b39b-3552-4032-b3f3-fa58b82d4e48\",\"type\":\"LinearAxis\"},{\"id\":\"43f22938-3e73-4009-a974-2062f08b082b\",\"type\":\"LinearAxis\"},{\"id\":\"105260a4-c972-4114-9c35-3ef3b392a8eb\",\"type\":\"Grid\"}],\"title\":{\"id\":\"f39d4709-6325-41c5-9542-3f71d3fb2bbf\",\"type\":\"Title\"},\"tool_events\":{\"id\":\"363f994b-0735-497b-a154-522d341cce3f\",\"type\":\"ToolEvents\"},\"toolbar\":{\"id\":\"a239ba7f-0947-445d-a53f-5528be9da421\",\"type\":\"Toolbar\"},\"toolbar_location\":null,\"x_mapper_type\":\"auto\",\"x_range\":{\"id\":\"31c2c0bc-1941-4220-9341-2c321dba9e0e\",\"type\":\"Range1d\"},\"y_mapper_type\":\"auto\",\"y_range\":{\"id\":\"e4409d4d-fc00-4f7f-93a1-9a536082ab9a\",\"type\":\"Range1d\"}},\"id\":\"bf3185a8-c5ce-4651-99dd-83041457a91d\",\"subtype\":\"Chart\",\"type\":\"Plot\"},{\"attributes\":{\"legends\":[[\"1\",[{\"id\":\"67137e50-528f-43ac-8cf5-569e91b17ef7\",\"type\":\"GlyphRenderer\"},{\"id\":\"604024ac-853b-49bf-a838-13297060e6b3\",\"type\":\"GlyphRenderer\"},{\"id\":\"8574db56-4de4-4165-99b7-3567c2bddadf\",\"type\":\"GlyphRenderer\"},{\"id\":\"52d37dfb-72de-49ac-bd01-c392795e1daa\",\"type\":\"GlyphRenderer\"},{\"id\":\"fba17909-12c0-4a4f-9c75-99b6655483fa\",\"type\":\"GlyphRenderer\"},{\"id\":\"3e9cce99-eb42-478f-b0d1-fccab119a009\",\"type\":\"GlyphRenderer\"},{\"id\":\"7298a048-9d76-4e01-af92-efc8bc9f503a\",\"type\":\"GlyphRenderer\"},{\"id\":\"21d326e6-a3e3-4fa8-ae76-c624249bebe6\",\"type\":\"GlyphRenderer\"},{\"id\":\"a2ee7a37-e8f3-4360-b9db-e541e9c17016\",\"type\":\"GlyphRenderer\"},{\"id\":\"4a78e154-8172-44fe-9c0a-dd2aecd3f734\",\"type\":\"GlyphRenderer\"},{\"id\":\"daff4666-8a04-48d2-a18c-944a2d1abfb3\",\"type\":\"GlyphRenderer\"},{\"id\":\"92048241-253d-497d-bd48-ea80439fd288\",\"type\":\"GlyphRenderer\"},{\"id\":\"4da75e8e-e483-42f8-812e-8d92fad58c32\",\"type\":\"GlyphRenderer\"},{\"id\":\"1abc904e-4c5f-4ac4-88b7-511be18c15a1\",\"type\":\"GlyphRenderer\"},{\"id\":\"16863eec-e8ed-44ee-b188-67315aa04870\",\"type\":\"GlyphRenderer\"},{\"id\":\"c812d285-42a2-42e3-b938-885763e42eae\",\"type\":\"GlyphRenderer\"},{\"id\":\"6c1c7384-2691-49e3-8964-0470dbcaffb4\",\"type\":\"GlyphRenderer\"},{\"id\":\"f15c8758-b2cd-47b1-9386-b8aa7fb817e9\",\"type\":\"GlyphRenderer\"},{\"id\":\"4aac92cb-c336-4f7b-abb2-544e90a883d2\",\"type\":\"GlyphRenderer\"},{\"id\":\"ccd33c32-eae7-4ed2-968e-158e90c6f549\",\"type\":\"GlyphRenderer\"},{\"id\":\"c72eccd6-df5a-4f58-ba41-564f9a1c7bee\",\"type\":\"GlyphRenderer\"},{\"id\":\"efaf18ef-83b6-4a95-b425-4b3d8a54726c\",\"type\":\"GlyphRenderer\"},{\"id\":\"751089af-1d2a-4df9-9a71-707ef20eb46d\",\"type\":\"GlyphRenderer\"},{\"id\":\"7f691482-a59a-4199-9d4b-6eca91bb8c0e\",\"type\":\"GlyphRenderer\"},{\"id\":\"e66bf695-e9af-467a-802c-645d46c76a6e\",\"type\":\"GlyphRenderer\"},{\"id\":\"a6c37ca3-408f-425e-8a6f-30434da1e993\",\"type\":\"GlyphRenderer\"},{\"id\":\"82306fc0-aaa9-497f-a266-e18208c56c80\",\"type\":\"GlyphRenderer\"},{\"id\":\"9fdfdbe5-881a-42e0-8718-c9244f131b84\",\"type\":\"GlyphRenderer\"},{\"id\":\"68364a38-a018-4708-afe6-a48d43a8060a\",\"type\":\"GlyphRenderer\"},{\"id\":\"72663794-83bc-4b49-85b5-a2b62d1cad05\",\"type\":\"GlyphRenderer\"},{\"id\":\"da2ff517-494f-44a1-be40-fe7d81c204f5\",\"type\":\"GlyphRenderer\"},{\"id\":\"2166ee92-cb00-4657-908b-0c5f94b8050a\",\"type\":\"GlyphRenderer\"},{\"id\":\"885bd52d-d791-4911-ae21-167acb3b881b\",\"type\":\"GlyphRenderer\"},{\"id\":\"a9fb8d50-1c23-47b0-b81b-9fa8419d1ed7\",\"type\":\"GlyphRenderer\"},{\"id\":\"e407e837-01dc-4177-a5dc-4d1367a1b1be\",\"type\":\"GlyphRenderer\"},{\"id\":\"6a725d7c-d6ef-4660-9535-4599ea3d73f6\",\"type\":\"GlyphRenderer\"},{\"id\":\"cdb2e007-7ac5-4f49-95b0-56de58df70de\",\"type\":\"GlyphRenderer\"},{\"id\":\"e6429ced-bff8-4f13-a614-e28b9f371eeb\",\"type\":\"GlyphRenderer\"},{\"id\":\"8b980133-383b-4083-ba77-2b18a8cf41af\",\"type\":\"GlyphRenderer\"},{\"id\":\"617b18d4-be31-4dfd-989d-c3a4f40d6a7d\",\"type\":\"GlyphRenderer\"},{\"id\":\"d672de17-d03b-4f24-abce-f7ad08bb8b2c\",\"type\":\"GlyphRenderer\"},{\"id\":\"c8079a87-34b6-43e8-a897-9a25fc0c4e11\",\"type\":\"GlyphRenderer\"},{\"id\":\"910e3ddf-7410-4376-9999-441e824e0df4\",\"type\":\"GlyphRenderer\"},{\"id\":\"aa3c00b7-7afc-460f-ad47-af5d9be8c49e\",\"type\":\"GlyphRenderer\"},{\"id\":\"28d66bb8-b078-4338-b457-516688232525\",\"type\":\"GlyphRenderer\"},{\"id\":\"88e79af3-ff7f-4364-bbda-5e6a2f11c6e1\",\"type\":\"GlyphRenderer\"},{\"id\":\"ea2f7491-cd78-4554-818f-c73003817f1e\",\"type\":\"GlyphRenderer\"},{\"id\":\"8762ecee-8248-4774-b787-ed286efd4f73\",\"type\":\"GlyphRenderer\"},{\"id\":\"2a7587f3-25b6-4684-b456-b8790aa42f44\",\"type\":\"GlyphRenderer\"},{\"id\":\"a6d4e6eb-0353-441e-a3b3-84e920d2198a\",\"type\":\"GlyphRenderer\"},{\"id\":\"51a0b802-b315-4daa-8321-492a5af50eef\",\"type\":\"GlyphRenderer\"}]],[\"0\",[{\"id\":\"303e58f8-d9fe-452e-9e7a-75acf2cbfeab\",\"type\":\"GlyphRenderer\"},{\"id\":\"28bddd22-5ec6-407d-8fef-2f22071e2c90\",\"type\":\"GlyphRenderer\"},{\"id\":\"e61ba46f-7832-4678-9e3b-d8edc5e3dbf8\",\"type\":\"GlyphRenderer\"},{\"id\":\"72fe6550-43af-4ac4-94b9-cc8c9a77df3e\",\"type\":\"GlyphRenderer\"},{\"id\":\"4d14fa97-f121-444e-b5ba-6a3b86122304\",\"type\":\"GlyphRenderer\"},{\"id\":\"f559611a-acd2-49c7-9a35-9f2ff5b2f528\",\"type\":\"GlyphRenderer\"},{\"id\":\"56f2b506-decb-4e87-8fd7-663e66a1b9c3\",\"type\":\"GlyphRenderer\"},{\"id\":\"cef3261c-7b57-4724-9113-0977f0720000\",\"type\":\"GlyphRenderer\"},{\"id\":\"234d3063-b3e9-4b01-adb3-f3e1847f4e69\",\"type\":\"GlyphRenderer\"},{\"id\":\"8c4c494d-ae05-40cd-b9d2-c5b7e6bdfd36\",\"type\":\"GlyphRenderer\"},{\"id\":\"0766ca4d-06b9-4a44-bad7-c47d3605867a\",\"type\":\"GlyphRenderer\"},{\"id\":\"e6aa6fe1-6abc-4a5c-a7f0-8d2944c11807\",\"type\":\"GlyphRenderer\"},{\"id\":\"4fb30f51-5d91-472c-8f0e-fbcfd4b42e7d\",\"type\":\"GlyphRenderer\"},{\"id\":\"34b26c18-5be1-4639-89a1-f470f2c88039\",\"type\":\"GlyphRenderer\"},{\"id\":\"8df4c183-7db8-4c11-864c-5819f9fe46c6\",\"type\":\"GlyphRenderer\"},{\"id\":\"052029f7-c519-4037-9632-282b5a30e5a1\",\"type\":\"GlyphRenderer\"},{\"id\":\"de0a6d7f-47b2-49fd-a1d2-5d8f29217a20\",\"type\":\"GlyphRenderer\"},{\"id\":\"4fc2c38a-8ac7-4c08-877f-96cc495f94f9\",\"type\":\"GlyphRenderer\"},{\"id\":\"8fa1035d-1fe4-400f-a9b6-d43763985afc\",\"type\":\"GlyphRenderer\"},{\"id\":\"420eadd8-57b7-4be1-9df8-56c6fc6db48f\",\"type\":\"GlyphRenderer\"},{\"id\":\"5478ae32-a099-4c69-954d-823e950aa448\",\"type\":\"GlyphRenderer\"},{\"id\":\"037742b5-68b6-4707-bf4f-ddaa082a1a59\",\"type\":\"GlyphRenderer\"},{\"id\":\"50b3a3ac-0302-4cce-a054-74251bd38be5\",\"type\":\"GlyphRenderer\"},{\"id\":\"829e6477-6770-4aff-8945-fb819758a850\",\"type\":\"GlyphRenderer\"},{\"id\":\"a9e36702-03fb-4e5e-88e5-0a9d8a4e9cbc\",\"type\":\"GlyphRenderer\"},{\"id\":\"7c071927-147f-4a67-803c-1e6b7ed25fa1\",\"type\":\"GlyphRenderer\"},{\"id\":\"4d2043a5-39f7-451d-9a6d-c685844f5408\",\"type\":\"GlyphRenderer\"},{\"id\":\"a311b8e4-4635-4015-83d7-35499b43af58\",\"type\":\"GlyphRenderer\"},{\"id\":\"a229cc99-a79e-4f09-bc0f-c76357ab9d11\",\"type\":\"GlyphRenderer\"},{\"id\":\"096dd424-a379-42ba-aece-4fd2b02bc100\",\"type\":\"GlyphRenderer\"}]]],\"location\":\"top_left\",\"plot\":{\"id\":\"bf3185a8-c5ce-4651-99dd-83041457a91d\",\"subtype\":\"Chart\",\"type\":\"Plot\"}},\"id\":\"1ed6e281-0dbd-4b87-872d-df131ca81267\",\"type\":\"Legend\"},{\"attributes\":{\"data_source\":{\"id\":\"59dfffa8-f76d-4fc9-aa86-6cc9749bc37e\",\"type\":\"ColumnDataSource\"},\"glyph\":{\"id\":\"ab768200-b25f-4be1-903b-052b290eb927\",\"type\":\"Rect\"},\"hover_glyph\":null,\"nonselection_glyph\":null,\"selection_glyph\":null},\"id\":\"7c071927-147f-4a67-803c-1e6b7ed25fa1\",\"type\":\"GlyphRenderer\"},{\"attributes\":{\"callback\":null,\"column_names\":[\"line_color\",\"label\",\"width\",\"color\",\"line_alpha\",\"fill_alpha\",\"y\",\"x\",\"height\"],\"data\":{\"chart_index\":[\"[3.0, 3.2]\"],\"color\":[\"#f22c40\"],\"fill_alpha\":[0.6],\"height\":[10.0],\"label\":[\"[3.0, 3.2]\"],\"line_alpha\":[1.0],\"line_color\":[\"black\"],\"width\":[0.16666666666666652],\"x\":[\"3.1\"],\"y\":[5.0]}},\"id\":\"7528ab34-7855-46a4-943f-4a3f43507c93\",\"type\":\"ColumnDataSource\"},{\"attributes\":{\"callback\":null,\"column_names\":[\"line_color\",\"label\",\"width\",\"color\",\"line_alpha\",\"fill_alpha\",\"y\",\"x\",\"height\"],\"data\":{\"chart_index\":[\"(3.6, 3.7]\"],\"color\":[\"#5ab738\"],\"fill_alpha\":[0.6],\"height\":[0.0],\"label\":[\"(3.6, 3.7]\"],\"line_alpha\":[1.0],\"line_color\":[\"black\"],\"width\":[0.11764705882352944],\"x\":[\"3.6500000000000004\"],\"y\":[0.0]}},\"id\":\"afe499f8-b87c-498f-90ed-f50358c724fc\",\"type\":\"ColumnDataSource\"},{\"attributes\":{\"data_source\":{\"id\":\"4131e371-6c11-4e02-8c15-092e360ceeda\",\"type\":\"ColumnDataSource\"},\"glyph\":{\"id\":\"098f15cc-4a10-4621-8b94-fd7b370473f6\",\"type\":\"Rect\"},\"hover_glyph\":null,\"nonselection_glyph\":null,\"selection_glyph\":null},\"id\":\"72fe6550-43af-4ac4-94b9-cc8c9a77df3e\",\"type\":\"GlyphRenderer\"},{\"attributes\":{\"fill_alpha\":{\"field\":\"fill_alpha\"},\"fill_color\":{\"field\":\"color\"},\"height\":{\"field\":\"height\",\"units\":\"data\"},\"line_color\":{\"field\":\"line_color\"},\"width\":{\"field\":\"width\",\"units\":\"data\"},\"x\":{\"field\":\"x\"},\"y\":{\"field\":\"y\"}},\"id\":\"9e39b574-75a4-4dc0-a3b9-6e5a6a73c304\",\"type\":\"Rect\"},{\"attributes\":{\"fill_alpha\":{\"field\":\"fill_alpha\"},\"fill_color\":{\"field\":\"color\"},\"height\":{\"field\":\"height\",\"units\":\"data\"},\"line_color\":{\"field\":\"line_color\"},\"width\":{\"field\":\"width\",\"units\":\"data\"},\"x\":{\"field\":\"x\"},\"y\":{\"field\":\"y\"}},\"id\":\"11b1c28a-59ca-4d0d-82dd-a01a94d84ede\",\"type\":\"Rect\"},{\"attributes\":{\"fill_alpha\":{\"field\":\"fill_alpha\"},\"fill_color\":{\"field\":\"color\"},\"height\":{\"field\":\"height\",\"units\":\"data\"},\"line_color\":{\"field\":\"line_color\"},\"width\":{\"field\":\"width\",\"units\":\"data\"},\"x\":{\"field\":\"x\"},\"y\":{\"field\":\"y\"}},\"id\":\"a05beccc-f09b-432f-a910-be86b9db3251\",\"type\":\"Rect\"},{\"attributes\":{\"data_source\":{\"id\":\"258f3b59-b7d8-405f-9e5a-f6b8f4db6ba0\",\"type\":\"ColumnDataSource\"},\"glyph\":{\"id\":\"9e39b574-75a4-4dc0-a3b9-6e5a6a73c304\",\"type\":\"Rect\"},\"hover_glyph\":null,\"nonselection_glyph\":null,\"selection_glyph\":null},\"id\":\"efaf18ef-83b6-4a95-b425-4b3d8a54726c\",\"type\":\"GlyphRenderer\"},{\"attributes\":{\"fill_alpha\":{\"field\":\"fill_alpha\"},\"fill_color\":{\"field\":\"color\"},\"height\":{\"field\":\"height\",\"units\":\"data\"},\"line_color\":{\"field\":\"line_color\"},\"width\":{\"field\":\"width\",\"units\":\"data\"},\"x\":{\"field\":\"x\"},\"y\":{\"field\":\"y\"}},\"id\":\"3ddbb484-01fc-4e4d-94d6-95b3af95ec10\",\"type\":\"Rect\"},{\"attributes\":{\"callback\":null,\"column_names\":[\"line_color\",\"label\",\"width\",\"color\",\"line_alpha\",\"fill_alpha\",\"y\",\"x\",\"height\"],\"data\":{\"chart_index\":[\"(7.5, 7.7]\"],\"color\":[\"#f22c40\"],\"fill_alpha\":[0.6],\"height\":[0.0],\"label\":[\"(7.5, 7.7]\"],\"line_alpha\":[1.0],\"line_color\":[\"black\"],\"width\":[0.16666666666666607],\"x\":[\"7.6\"],\"y\":[0.0]}},\"id\":\"f18d0746-29f5-4148-900d-c187883eb22a\",\"type\":\"ColumnDataSource\"},{\"attributes\":{\"plot\":{\"id\":\"bf3185a8-c5ce-4651-99dd-83041457a91d\",\"subtype\":\"Chart\",\"type\":\"Plot\"}},\"id\":\"c0097263-47e6-4944-a70b-4ee841512adf\",\"type\":\"ResetTool\"},{\"attributes\":{\"callback\":null,\"column_names\":[\"line_color\",\"label\",\"width\",\"color\",\"line_alpha\",\"fill_alpha\",\"y\",\"x\",\"height\"],\"data\":{\"chart_index\":[\"(4.1, 4.2]\"],\"color\":[\"#5ab738\"],\"fill_alpha\":[0.6],\"height\":[0.0],\"label\":[\"(4.1, 4.2]\"],\"line_alpha\":[1.0],\"line_color\":[\"black\"],\"width\":[0.11764705882352988],\"x\":[\"4.15\"],\"y\":[0.0]}},\"id\":\"59a4a20a-0c90-426a-9e4b-1e65dea31473\",\"type\":\"ColumnDataSource\"},{\"attributes\":{\"fill_alpha\":{\"field\":\"fill_alpha\"},\"fill_color\":{\"field\":\"color\"},\"height\":{\"field\":\"height\",\"units\":\"data\"},\"line_color\":{\"field\":\"line_color\"},\"width\":{\"field\":\"width\",\"units\":\"data\"},\"x\":{\"field\":\"x\"},\"y\":{\"field\":\"y\"}},\"id\":\"40347cf6-f9d1-4efd-9e98-245ff9bb4bff\",\"type\":\"Rect\"},{\"attributes\":{\"data_source\":{\"id\":\"212afaf1-52f4-4a1d-9084-6c1e8fc32fd6\",\"type\":\"ColumnDataSource\"},\"glyph\":{\"id\":\"0b9b998a-0e82-440c-9a78-6d68842b8c29\",\"type\":\"Rect\"},\"hover_glyph\":null,\"nonselection_glyph\":null,\"selection_glyph\":null},\"id\":\"67137e50-528f-43ac-8cf5-569e91b17ef7\",\"type\":\"GlyphRenderer\"},{\"attributes\":{},\"id\":\"363f994b-0735-497b-a154-522d341cce3f\",\"type\":\"ToolEvents\"},{\"attributes\":{\"data_source\":{\"id\":\"adba060b-37d7-4997-9016-6459846cc30a\",\"type\":\"ColumnDataSource\"},\"glyph\":{\"id\":\"075095f6-310c-4953-915c-269c79a0f9a7\",\"type\":\"Rect\"},\"hover_glyph\":null,\"nonselection_glyph\":null,\"selection_glyph\":null},\"id\":\"8762ecee-8248-4774-b787-ed286efd4f73\",\"type\":\"GlyphRenderer\"},{\"attributes\":{},\"id\":\"7e5ecab4-a7ed-4f7d-aac4-9ad2d733c3a0\",\"type\":\"CategoricalTickFormatter\"},{\"attributes\":{\"callback\":null,\"column_names\":[\"line_color\",\"label\",\"width\",\"color\",\"line_alpha\",\"fill_alpha\",\"y\",\"x\",\"height\"],\"data\":{\"chart_index\":[\"(4.5, 4.6]\"],\"color\":[\"#5ab738\"],\"fill_alpha\":[0.6],\"height\":[0.0],\"label\":[\"(4.5, 4.6]\"],\"line_alpha\":[1.0],\"line_color\":[\"black\"],\"width\":[0.117647058823529],\"x\":[\"4.55\"],\"y\":[0.0]}},\"id\":\"df0fcafb-e3bf-4223-974f-9393616a0d7d\",\"type\":\"ColumnDataSource\"},{\"attributes\":{\"data_source\":{\"id\":\"f18d0746-29f5-4148-900d-c187883eb22a\",\"type\":\"ColumnDataSource\"},\"glyph\":{\"id\":\"5806d591-a07e-47ee-af95-4e7bd8ad311a\",\"type\":\"Rect\"},\"hover_glyph\":null,\"nonselection_glyph\":null,\"selection_glyph\":null},\"id\":\"a311b8e4-4635-4015-83d7-35499b43af58\",\"type\":\"GlyphRenderer\"},{\"attributes\":{\"data_source\":{\"id\":\"1b38a529-4f25-446c-bd1a-6f9b540d9606\",\"type\":\"ColumnDataSource\"},\"glyph\":{\"id\":\"e661689e-dd84-4f05-8a8a-c0724bafd24b\",\"type\":\"Rect\"},\"hover_glyph\":null,\"nonselection_glyph\":null,\"selection_glyph\":null},\"id\":\"52d37dfb-72de-49ac-bd01-c392795e1daa\",\"type\":\"GlyphRenderer\"},{\"attributes\":{\"dimension\":1,\"plot\":{\"id\":\"bf3185a8-c5ce-4651-99dd-83041457a91d\",\"subtype\":\"Chart\",\"type\":\"Plot\"},\"ticker\":{\"id\":\"492cd364-9faf-4435-a7eb-71ffc663bf97\",\"type\":\"BasicTicker\"}},\"id\":\"105260a4-c972-4114-9c35-3ef3b392a8eb\",\"type\":\"Grid\"},{\"attributes\":{\"data_source\":{\"id\":\"3b6e51a7-3fb7-4a56-b7b4-3f95dccb8c10\",\"type\":\"ColumnDataSource\"},\"glyph\":{\"id\":\"27cc9450-6085-4194-94a1-ea9ea0e75714\",\"type\":\"Rect\"},\"hover_glyph\":null,\"nonselection_glyph\":null,\"selection_glyph\":null},\"id\":\"aa3c00b7-7afc-460f-ad47-af5d9be8c49e\",\"type\":\"GlyphRenderer\"},{\"attributes\":{\"fill_alpha\":{\"field\":\"fill_alpha\"},\"fill_color\":{\"field\":\"color\"},\"height\":{\"field\":\"height\",\"units\":\"data\"},\"line_color\":{\"field\":\"line_color\"},\"width\":{\"field\":\"width\",\"units\":\"data\"},\"x\":{\"field\":\"x\"},\"y\":{\"field\":\"y\"}},\"id\":\"112d38dc-cc45-4956-954c-f53e4b7f3856\",\"type\":\"Rect\"},{\"attributes\":{\"fill_alpha\":{\"field\":\"fill_alpha\"},\"fill_color\":{\"field\":\"color\"},\"height\":{\"field\":\"height\",\"units\":\"data\"},\"line_color\":{\"field\":\"line_color\"},\"width\":{\"field\":\"width\",\"units\":\"data\"},\"x\":{\"field\":\"x\"},\"y\":{\"field\":\"y\"}},\"id\":\"7602ba59-db34-45fd-a928-cdf2301a682d\",\"type\":\"Rect\"},{\"attributes\":{\"fill_alpha\":{\"field\":\"fill_alpha\"},\"fill_color\":{\"field\":\"color\"},\"height\":{\"field\":\"height\",\"units\":\"data\"},\"line_color\":{\"field\":\"line_color\"},\"width\":{\"field\":\"width\",\"units\":\"data\"},\"x\":{\"field\":\"x\"},\"y\":{\"field\":\"y\"}},\"id\":\"5806d591-a07e-47ee-af95-4e7bd8ad311a\",\"type\":\"Rect\"},{\"attributes\":{\"callback\":null,\"column_names\":[\"line_color\",\"label\",\"width\",\"color\",\"line_alpha\",\"fill_alpha\",\"y\",\"x\",\"height\"],\"data\":{\"chart_index\":[\"(3.9, 4.1]\"],\"color\":[\"#5ab738\"],\"fill_alpha\":[0.6],\"height\":[163.0],\"label\":[\"(3.9, 4.1]\"],\"line_alpha\":[1.0],\"line_color\":[\"black\"],\"width\":[0.117647058823529],\"x\":[\"4.0\"],\"y\":[81.5]}},\"id\":\"f6f2f609-1fa6-4532-9cbf-e4ece59c1154\",\"type\":\"ColumnDataSource\"},{\"attributes\":{\"fill_alpha\":{\"field\":\"fill_alpha\"},\"fill_color\":{\"field\":\"color\"},\"height\":{\"field\":\"height\",\"units\":\"data\"},\"line_color\":{\"field\":\"line_color\"},\"width\":{\"field\":\"width\",\"units\":\"data\"},\"x\":{\"field\":\"x\"},\"y\":{\"field\":\"y\"}},\"id\":\"86dfbae5-24be-4909-a11a-4da076f3c691\",\"type\":\"Rect\"},{\"attributes\":{\"data_source\":{\"id\":\"877dd285-c619-4a47-a0ac-9e65085c0072\",\"type\":\"ColumnDataSource\"},\"glyph\":{\"id\":\"8864949d-0cdb-4c91-a202-c01929931356\",\"type\":\"Rect\"},\"hover_glyph\":null,\"nonselection_glyph\":null,\"selection_glyph\":null},\"id\":\"0766ca4d-06b9-4a44-bad7-c47d3605867a\",\"type\":\"GlyphRenderer\"},{\"attributes\":{\"fill_alpha\":{\"field\":\"fill_alpha\"},\"fill_color\":{\"field\":\"color\"},\"height\":{\"field\":\"height\",\"units\":\"data\"},\"line_color\":{\"field\":\"line_color\"},\"width\":{\"field\":\"width\",\"units\":\"data\"},\"x\":{\"field\":\"x\"},\"y\":{\"field\":\"y\"}},\"id\":\"b297cde4-9d9d-43d8-82c9-61aab418c808\",\"type\":\"Rect\"},{\"attributes\":{},\"id\":\"fdab5d79-54d4-46ce-8c43-37958be1aa5b\",\"type\":\"BasicTicker\"},{\"attributes\":{\"callback\":null,\"column_names\":[\"line_color\",\"label\",\"width\",\"color\",\"line_alpha\",\"fill_alpha\",\"y\",\"x\",\"height\"],\"data\":{\"chart_index\":[\"(6.8, 6.9]\"],\"color\":[\"#5ab738\"],\"fill_alpha\":[0.6],\"height\":[0.0],\"label\":[\"(6.8, 6.9]\"],\"line_alpha\":[1.0],\"line_color\":[\"black\"],\"width\":[0.11764705882352988],\"x\":[\"6.85\"],\"y\":[0.0]}},\"id\":\"1580cbfc-28c4-4447-8252-61a960c592ed\",\"type\":\"ColumnDataSource\"},{\"attributes\":{\"callback\":null,\"column_names\":[\"line_color\",\"label\",\"width\",\"color\",\"line_alpha\",\"fill_alpha\",\"y\",\"x\",\"height\"],\"data\":{\"chart_index\":[\"(5.5, 5.6]\"],\"color\":[\"#5ab738\"],\"fill_alpha\":[0.6],\"height\":[0.0],\"label\":[\"(5.5, 5.6]\"],\"line_alpha\":[1.0],\"line_color\":[\"black\"],\"width\":[0.117647058823529],\"x\":[\"5.55\"],\"y\":[0.0]}},\"id\":\"258f3b59-b7d8-405f-9e5a-f6b8f4db6ba0\",\"type\":\"ColumnDataSource\"},{\"attributes\":{\"fill_alpha\":{\"field\":\"fill_alpha\"},\"fill_color\":{\"field\":\"color\"},\"height\":{\"field\":\"height\",\"units\":\"data\"},\"line_color\":{\"field\":\"line_color\"},\"width\":{\"field\":\"width\",\"units\":\"data\"},\"x\":{\"field\":\"x\"},\"y\":{\"field\":\"y\"}},\"id\":\"ab768200-b25f-4be1-903b-052b290eb927\",\"type\":\"Rect\"},{\"attributes\":{\"callback\":null,\"column_names\":[\"line_color\",\"label\",\"width\",\"color\",\"line_alpha\",\"fill_alpha\",\"y\",\"x\",\"height\"],\"data\":{\"chart_index\":[\"(7.4, 7.5]\"],\"color\":[\"#5ab738\"],\"fill_alpha\":[0.6],\"height\":[0.0],\"label\":[\"(7.4, 7.5]\"],\"line_alpha\":[1.0],\"line_color\":[\"black\"],\"width\":[0.11764705882352988],\"x\":[\"7.45\"],\"y\":[0.0]}},\"id\":\"c025c01d-171c-452d-96e8-7335c97a6d91\",\"type\":\"ColumnDataSource\"},{\"attributes\":{\"data_source\":{\"id\":\"a1c4e10e-7571-4e59-96ba-c28146b5cda2\",\"type\":\"ColumnDataSource\"},\"glyph\":{\"id\":\"3f6ad61f-053c-4944-8b8a-57ca8c4be0a1\",\"type\":\"Rect\"},\"hover_glyph\":null,\"nonselection_glyph\":null,\"selection_glyph\":null},\"id\":\"eb1924dc-8c8d-446a-ba4a-d572ff55c485\",\"type\":\"GlyphRenderer\"},{\"attributes\":{\"fill_alpha\":{\"field\":\"fill_alpha\"},\"fill_color\":{\"field\":\"color\"},\"height\":{\"field\":\"height\",\"units\":\"data\"},\"line_color\":{\"field\":\"line_color\"},\"width\":{\"field\":\"width\",\"units\":\"data\"},\"x\":{\"field\":\"x\"},\"y\":{\"field\":\"y\"}},\"id\":\"13ff1447-6991-491c-913f-ee92bee146e4\",\"type\":\"Rect\"},{\"attributes\":{\"callback\":null,\"column_names\":[\"line_color\",\"label\",\"width\",\"color\",\"line_alpha\",\"fill_alpha\",\"y\",\"x\",\"height\"],\"data\":{\"chart_index\":[\"(7.8, 8.0]\"],\"color\":[\"#f22c40\"],\"fill_alpha\":[0.6],\"height\":[18.0],\"label\":[\"(7.8, 8.0]\"],\"line_alpha\":[1.0],\"line_color\":[\"black\"],\"width\":[0.16666666666666696],\"x\":[\"7.9\"],\"y\":[9.0]}},\"id\":\"3c2798ed-ad50-48e9-a5dd-a7ef99f2abc9\",\"type\":\"ColumnDataSource\"},{\"attributes\":{\"fill_alpha\":{\"field\":\"fill_alpha\"},\"fill_color\":{\"field\":\"color\"},\"height\":{\"field\":\"height\",\"units\":\"data\"},\"line_color\":{\"field\":\"line_color\"},\"width\":{\"field\":\"width\",\"units\":\"data\"},\"x\":{\"field\":\"x\"},\"y\":{\"field\":\"y\"}},\"id\":\"098f15cc-4a10-4621-8b94-fd7b370473f6\",\"type\":\"Rect\"},{\"attributes\":{\"data_source\":{\"id\":\"a9ca54fe-149d-40e4-bdc6-734129a4a5d5\",\"type\":\"ColumnDataSource\"},\"glyph\":{\"id\":\"185b4a91-1f19-439f-ae00-ba5da1a1c474\",\"type\":\"Rect\"},\"hover_glyph\":null,\"nonselection_glyph\":null,\"selection_glyph\":null},\"id\":\"604024ac-853b-49bf-a838-13297060e6b3\",\"type\":\"GlyphRenderer\"},{\"attributes\":{\"callback\":null,\"column_names\":[\"line_color\",\"label\",\"width\",\"color\",\"line_alpha\",\"fill_alpha\",\"y\",\"x\",\"height\"],\"data\":{\"chart_index\":[\"(6.7, 6.8]\"],\"color\":[\"#f22c40\"],\"fill_alpha\":[0.6],\"height\":[0.0],\"label\":[\"(6.7, 6.8]\"],\"line_alpha\":[1.0],\"line_color\":[\"black\"],\"width\":[0.16666666666666696],\"x\":[\"6.75\"],\"y\":[0.0]}},\"id\":\"b65788cb-9372-4c17-8495-2abd16a99c71\",\"type\":\"ColumnDataSource\"},{\"attributes\":{\"fill_alpha\":{\"field\":\"fill_alpha\"},\"fill_color\":{\"field\":\"color\"},\"height\":{\"field\":\"height\",\"units\":\"data\"},\"line_color\":{\"field\":\"line_color\"},\"width\":{\"field\":\"width\",\"units\":\"data\"},\"x\":{\"field\":\"x\"},\"y\":{\"field\":\"y\"}},\"id\":\"6275680a-d52d-4d6e-8090-bb72ad940afd\",\"type\":\"Rect\"},{\"attributes\":{},\"id\":\"490fb40f-9a80-4c38-b96c-9e8da20ba205\",\"type\":\"CategoricalTicker\"},{\"attributes\":{\"callback\":null,\"column_names\":[\"line_color\",\"label\",\"width\",\"color\",\"line_alpha\",\"fill_alpha\",\"y\",\"x\",\"height\"],\"data\":{\"chart_index\":[\"(6.4, 6.5]\"],\"color\":[\"#5ab738\"],\"fill_alpha\":[0.6],\"height\":[0.0],\"label\":[\"(6.4, 6.5]\"],\"line_alpha\":[1.0],\"line_color\":[\"black\"],\"width\":[0.117647058823529],\"x\":[\"6.45\"],\"y\":[0.0]}},\"id\":\"998614a9-21a1-4e0d-a6fd-47c4155396af\",\"type\":\"ColumnDataSource\"},{\"attributes\":{\"data_source\":{\"id\":\"b03ff30e-cbca-44cd-a60a-772131bc6866\",\"type\":\"ColumnDataSource\"},\"glyph\":{\"id\":\"c388bce4-5b84-4be2-876c-bec306a4ce25\",\"type\":\"Rect\"},\"hover_glyph\":null,\"nonselection_glyph\":null,\"selection_glyph\":null},\"id\":\"ea2f7491-cd78-4554-818f-c73003817f1e\",\"type\":\"GlyphRenderer\"},{\"attributes\":{\"fill_alpha\":{\"field\":\"fill_alpha\"},\"fill_color\":{\"field\":\"color\"},\"height\":{\"field\":\"height\",\"units\":\"data\"},\"line_color\":{\"field\":\"line_color\"},\"width\":{\"field\":\"width\",\"units\":\"data\"},\"x\":{\"field\":\"x\"},\"y\":{\"field\":\"y\"}},\"id\":\"c388bce4-5b84-4be2-876c-bec306a4ce25\",\"type\":\"Rect\"},{\"attributes\":{\"fill_alpha\":{\"field\":\"fill_alpha\"},\"fill_color\":{\"field\":\"color\"},\"height\":{\"field\":\"height\",\"units\":\"data\"},\"line_color\":{\"field\":\"line_color\"},\"width\":{\"field\":\"width\",\"units\":\"data\"},\"x\":{\"field\":\"x\"},\"y\":{\"field\":\"y\"}},\"id\":\"fa4ad521-a042-40d1-b048-99ec558c4243\",\"type\":\"Rect\"},{\"attributes\":{\"callback\":null,\"column_names\":[\"line_color\",\"label\",\"width\",\"color\",\"line_alpha\",\"fill_alpha\",\"y\",\"x\",\"height\"],\"data\":{\"chart_index\":[\"(3.1, 3.2]\"],\"color\":[\"#5ab738\"],\"fill_alpha\":[0.6],\"height\":[0.0],\"label\":[\"(3.1, 3.2]\"],\"line_alpha\":[1.0],\"line_color\":[\"black\"],\"width\":[0.11764705882352944],\"x\":[\"3.1500000000000004\"],\"y\":[0.0]}},\"id\":\"a9ca54fe-149d-40e4-bdc6-734129a4a5d5\",\"type\":\"ColumnDataSource\"},{\"attributes\":{\"fill_alpha\":{\"field\":\"fill_alpha\"},\"fill_color\":{\"field\":\"color\"},\"height\":{\"field\":\"height\",\"units\":\"data\"},\"line_color\":{\"field\":\"line_color\"},\"width\":{\"field\":\"width\",\"units\":\"data\"},\"x\":{\"field\":\"x\"},\"y\":{\"field\":\"y\"}},\"id\":\"a7547c98-0f9d-4a11-8280-441bdee7067e\",\"type\":\"Rect\"},{\"attributes\":{\"callback\":null,\"column_names\":[\"line_color\",\"label\",\"width\",\"color\",\"line_alpha\",\"fill_alpha\",\"y\",\"x\",\"height\"],\"data\":{\"chart_index\":[\"(5.1, 5.2]\"],\"color\":[\"#5ab738\"],\"fill_alpha\":[0.6],\"height\":[0.0],\"label\":[\"(5.1, 5.2]\"],\"line_alpha\":[1.0],\"line_color\":[\"black\"],\"width\":[0.11764705882352988],\"x\":[\"5.15\"],\"y\":[0.0]}},\"id\":\"a72cc0e8-6135-4701-b5bd-7054b79412e3\",\"type\":\"ColumnDataSource\"},{\"attributes\":{\"fill_alpha\":{\"field\":\"fill_alpha\"},\"fill_color\":{\"field\":\"color\"},\"height\":{\"field\":\"height\",\"units\":\"data\"},\"line_color\":{\"field\":\"line_color\"},\"width\":{\"field\":\"width\",\"units\":\"data\"},\"x\":{\"field\":\"x\"},\"y\":{\"field\":\"y\"}},\"id\":\"be1b0199-7397-4088-b302-4b0af5ab0e07\",\"type\":\"Rect\"},{\"attributes\":{\"data_source\":{\"id\":\"ad47ecc9-630a-48d0-a7a8-5ff8bae6ad82\",\"type\":\"ColumnDataSource\"},\"glyph\":{\"id\":\"17bcae88-dda6-4aed-b65c-de00163796df\",\"type\":\"Rect\"},\"hover_glyph\":null,\"nonselection_glyph\":null,\"selection_glyph\":null},\"id\":\"7298a048-9d76-4e01-af92-efc8bc9f503a\",\"type\":\"GlyphRenderer\"},{\"attributes\":{\"data_source\":{\"id\":\"cb722c62-153d-4c6c-810d-fee452f8bd43\",\"type\":\"ColumnDataSource\"},\"glyph\":{\"id\":\"80ab668d-621e-4049-85e2-2321db87d8ac\",\"type\":\"Rect\"},\"hover_glyph\":null,\"nonselection_glyph\":null,\"selection_glyph\":null},\"id\":\"6a725d7c-d6ef-4660-9535-4599ea3d73f6\",\"type\":\"GlyphRenderer\"},{\"attributes\":{\"callback\":null,\"column_names\":[\"line_color\",\"label\",\"width\",\"color\",\"line_alpha\",\"fill_alpha\",\"y\",\"x\",\"height\"],\"data\":{\"chart_index\":[\"(4.6, 4.8]\"],\"color\":[\"#5ab738\"],\"fill_alpha\":[0.6],\"height\":[0.0],\"label\":[\"(4.6, 4.8]\"],\"line_alpha\":[1.0],\"line_color\":[\"black\"],\"width\":[0.11764705882352988],\"x\":[\"4.699999999999999\"],\"y\":[0.0]}},\"id\":\"ca9e6e6e-f41c-4df5-8b63-00c825892ee7\",\"type\":\"ColumnDataSource\"},{\"attributes\":{\"data_source\":{\"id\":\"0dd95d7a-c0a9-470f-baaa-eee81abd66c8\",\"type\":\"ColumnDataSource\"},\"glyph\":{\"id\":\"8af58eb6-e031-41bb-9b7c-3fe3c1b3360b\",\"type\":\"Rect\"},\"hover_glyph\":null,\"nonselection_glyph\":null,\"selection_glyph\":null},\"id\":\"4d14fa97-f121-444e-b5ba-6a3b86122304\",\"type\":\"GlyphRenderer\"},{\"attributes\":{\"fill_alpha\":{\"field\":\"fill_alpha\"},\"fill_color\":{\"field\":\"color\"},\"height\":{\"field\":\"height\",\"units\":\"data\"},\"line_color\":{\"field\":\"line_color\"},\"width\":{\"field\":\"width\",\"units\":\"data\"},\"x\":{\"field\":\"x\"},\"y\":{\"field\":\"y\"}},\"id\":\"43c74e43-758b-4f83-bec6-e18c4f2ec1b4\",\"type\":\"Rect\"},{\"attributes\":{\"fill_alpha\":{\"field\":\"fill_alpha\"},\"fill_color\":{\"field\":\"color\"},\"height\":{\"field\":\"height\",\"units\":\"data\"},\"line_color\":{\"field\":\"line_color\"},\"width\":{\"field\":\"width\",\"units\":\"data\"},\"x\":{\"field\":\"x\"},\"y\":{\"field\":\"y\"}},\"id\":\"0321f1ac-0859-4080-86ba-8c6b14d62e3a\",\"type\":\"Rect\"},{\"attributes\":{\"callback\":null,\"column_names\":[\"line_color\",\"label\",\"width\",\"color\",\"line_alpha\",\"fill_alpha\",\"y\",\"x\",\"height\"],\"data\":{\"chart_index\":[\"(3.2, 3.3]\"],\"color\":[\"#f22c40\"],\"fill_alpha\":[0.6],\"height\":[0.0],\"label\":[\"(3.2, 3.3]\"],\"line_alpha\":[1.0],\"line_color\":[\"black\"],\"width\":[0.16666666666666696],\"x\":[\"3.25\"],\"y\":[0.0]}},\"id\":\"bf3f8a15-4baa-4374-9d27-b1694ec570e7\",\"type\":\"ColumnDataSource\"},{\"attributes\":{\"data_source\":{\"id\":\"ffcdfee6-05cc-4ab4-b00b-24c4f62cf516\",\"type\":\"ColumnDataSource\"},\"glyph\":{\"id\":\"b46a45c4-8548-488c-9064-266a0e313041\",\"type\":\"Rect\"},\"hover_glyph\":null,\"nonselection_glyph\":null,\"selection_glyph\":null},\"id\":\"4fc2c38a-8ac7-4c08-877f-96cc495f94f9\",\"type\":\"GlyphRenderer\"},{\"attributes\":{\"callback\":null,\"column_names\":[\"line_color\",\"label\",\"width\",\"color\",\"line_alpha\",\"fill_alpha\",\"y\",\"x\",\"height\"],\"data\":{\"chart_index\":[\"(3.5, 3.6]\"],\"color\":[\"#5ab738\"],\"fill_alpha\":[0.6],\"height\":[0.0],\"label\":[\"(3.5, 3.6]\"],\"line_alpha\":[1.0],\"line_color\":[\"black\"],\"width\":[0.11764705882352944],\"x\":[\"3.55\"],\"y\":[0.0]}},\"id\":\"13b641d1-c157-4eb5-8b65-ea1dd72323b5\",\"type\":\"ColumnDataSource\"},{\"attributes\":{\"data_source\":{\"id\":\"13b641d1-c157-4eb5-8b65-ea1dd72323b5\",\"type\":\"ColumnDataSource\"},\"glyph\":{\"id\":\"713c0a8a-8323-4384-83fb-5a8f624aebf9\",\"type\":\"Rect\"},\"hover_glyph\":null,\"nonselection_glyph\":null,\"selection_glyph\":null},\"id\":\"fba17909-12c0-4a4f-9c75-99b6655483fa\",\"type\":\"GlyphRenderer\"},{\"attributes\":{\"callback\":null,\"column_names\":[\"line_color\",\"label\",\"width\",\"color\",\"line_alpha\",\"fill_alpha\",\"y\",\"x\",\"height\"],\"data\":{\"chart_index\":[\"(7.8, 7.9]\"],\"color\":[\"#5ab738\"],\"fill_alpha\":[0.6],\"height\":[0.0],\"label\":[\"(7.8, 7.9]\"],\"line_alpha\":[1.0],\"line_color\":[\"black\"],\"width\":[0.11764705882352988],\"x\":[\"7.85\"],\"y\":[0.0]}},\"id\":\"08459caf-27eb-46bf-bd55-131d220d89e5\",\"type\":\"ColumnDataSource\"},{\"attributes\":{\"data_source\":{\"id\":\"43f01eea-dc3f-4b5c-b016-57506e5cd471\",\"type\":\"ColumnDataSource\"},\"glyph\":{\"id\":\"9d3f1333-889d-42bf-a670-cc0d84c86942\",\"type\":\"Rect\"},\"hover_glyph\":null,\"nonselection_glyph\":null,\"selection_glyph\":null},\"id\":\"51a0b802-b315-4daa-8321-492a5af50eef\",\"type\":\"GlyphRenderer\"},{\"attributes\":{\"data_source\":{\"id\":\"4a38d0ee-49f4-49b1-8986-377a460999ef\",\"type\":\"ColumnDataSource\"},\"glyph\":{\"id\":\"7602ba59-db34-45fd-a928-cdf2301a682d\",\"type\":\"Rect\"},\"hover_glyph\":null,\"nonselection_glyph\":null,\"selection_glyph\":null},\"id\":\"88e79af3-ff7f-4364-bbda-5e6a2f11c6e1\",\"type\":\"GlyphRenderer\"},{\"attributes\":{\"data_source\":{\"id\":\"664340f8-84de-40ca-a7e2-cd62a8db4a3d\",\"type\":\"ColumnDataSource\"},\"glyph\":{\"id\":\"ff10e89a-72a3-46bb-aedf-51167c8d4ea8\",\"type\":\"Rect\"},\"hover_glyph\":null,\"nonselection_glyph\":null,\"selection_glyph\":null},\"id\":\"2a7587f3-25b6-4684-b456-b8790aa42f44\",\"type\":\"GlyphRenderer\"},{\"attributes\":{},\"id\":\"185892e4-1b79-496b-815d-868b1f01774d\",\"type\":\"BasicTickFormatter\"},{\"attributes\":{\"fill_alpha\":{\"field\":\"fill_alpha\"},\"fill_color\":{\"field\":\"color\"},\"height\":{\"field\":\"height\",\"units\":\"data\"},\"line_color\":{\"field\":\"line_color\"},\"width\":{\"field\":\"width\",\"units\":\"data\"},\"x\":{\"field\":\"x\"},\"y\":{\"field\":\"y\"}},\"id\":\"8e6fad74-2867-4bb6-ab60-1b859c3ea0d8\",\"type\":\"Rect\"},{\"attributes\":{\"data_source\":{\"id\":\"59a4a20a-0c90-426a-9e4b-1e65dea31473\",\"type\":\"ColumnDataSource\"},\"glyph\":{\"id\":\"e44d82f3-63ed-42a0-ad38-4bd1bcd9f87d\",\"type\":\"Rect\"},\"hover_glyph\":null,\"nonselection_glyph\":null,\"selection_glyph\":null},\"id\":\"4a78e154-8172-44fe-9c0a-dd2aecd3f734\",\"type\":\"GlyphRenderer\"},{\"attributes\":{\"data_source\":{\"id\":\"b65788cb-9372-4c17-8495-2abd16a99c71\",\"type\":\"ColumnDataSource\"},\"glyph\":{\"id\":\"2796c469-f8ca-45e6-95c9-2a657ee19bc9\",\"type\":\"Rect\"},\"hover_glyph\":null,\"nonselection_glyph\":null,\"selection_glyph\":null},\"id\":\"50b3a3ac-0302-4cce-a054-74251bd38be5\",\"type\":\"GlyphRenderer\"},{\"attributes\":{\"data_source\":{\"id\":\"255eaf3e-a7d9-496f-8e3e-b623b0c76920\",\"type\":\"ColumnDataSource\"},\"glyph\":{\"id\":\"eb3230c6-2347-416f-a19f-2bf6287cf163\",\"type\":\"Rect\"},\"hover_glyph\":null,\"nonselection_glyph\":null,\"selection_glyph\":null},\"id\":\"052029f7-c519-4037-9632-282b5a30e5a1\",\"type\":\"GlyphRenderer\"},{\"attributes\":{\"fill_alpha\":{\"field\":\"fill_alpha\"},\"fill_color\":{\"field\":\"color\"},\"height\":{\"field\":\"height\",\"units\":\"data\"},\"line_color\":{\"field\":\"line_color\"},\"width\":{\"field\":\"width\",\"units\":\"data\"},\"x\":{\"field\":\"x\"},\"y\":{\"field\":\"y\"}},\"id\":\"e09aae2f-c953-47b9-a923-a0b2586279ca\",\"type\":\"Rect\"},{\"attributes\":{\"data_source\":{\"id\":\"998614a9-21a1-4e0d-a6fd-47c4155396af\",\"type\":\"ColumnDataSource\"},\"glyph\":{\"id\":\"70ad0f6e-8d87-4c63-84cd-def75a6718b9\",\"type\":\"Rect\"},\"hover_glyph\":null,\"nonselection_glyph\":null,\"selection_glyph\":null},\"id\":\"72663794-83bc-4b49-85b5-a2b62d1cad05\",\"type\":\"GlyphRenderer\"},{\"attributes\":{\"callback\":null,\"column_names\":[\"line_color\",\"label\",\"width\",\"color\",\"line_alpha\",\"fill_alpha\",\"y\",\"x\",\"height\"],\"data\":{\"chart_index\":[\"(5.5, 5.7]\"],\"color\":[\"#f22c40\"],\"fill_alpha\":[0.6],\"height\":[0.0],\"label\":[\"(5.5, 5.7]\"],\"line_alpha\":[1.0],\"line_color\":[\"black\"],\"width\":[0.16666666666666607],\"x\":[\"5.6\"],\"y\":[0.0]}},\"id\":\"255eaf3e-a7d9-496f-8e3e-b623b0c76920\",\"type\":\"ColumnDataSource\"},{\"attributes\":{\"data_source\":{\"id\":\"f6f2f609-1fa6-4532-9cbf-e4ece59c1154\",\"type\":\"ColumnDataSource\"},\"glyph\":{\"id\":\"850604a9-da3c-41e1-9013-ab3ee3cee967\",\"type\":\"Rect\"},\"hover_glyph\":null,\"nonselection_glyph\":null,\"selection_glyph\":null},\"id\":\"a2ee7a37-e8f3-4360-b9db-e541e9c17016\",\"type\":\"GlyphRenderer\"},{\"attributes\":{\"active_drag\":\"auto\",\"active_scroll\":\"auto\",\"active_tap\":\"auto\",\"tools\":[{\"id\":\"e25e0c60-709f-4d18-94e1-eee869131833\",\"type\":\"PanTool\"},{\"id\":\"c0097263-47e6-4944-a70b-4ee841512adf\",\"type\":\"ResetTool\"},{\"id\":\"491a07c5-c53c-4acd-9e59-216959c13050\",\"type\":\"BoxZoomTool\"}]},\"id\":\"a239ba7f-0947-445d-a53f-5528be9da421\",\"type\":\"Toolbar\"},{\"attributes\":{\"plot\":{\"id\":\"bf3185a8-c5ce-4651-99dd-83041457a91d\",\"subtype\":\"Chart\",\"type\":\"Plot\"}},\"id\":\"e25e0c60-709f-4d18-94e1-eee869131833\",\"type\":\"PanTool\"},{\"attributes\":{\"callback\":null,\"column_names\":[\"line_color\",\"label\",\"width\",\"color\",\"line_alpha\",\"fill_alpha\",\"y\",\"x\",\"height\"],\"data\":{\"chart_index\":[\"(6.3, 6.4]\"],\"color\":[\"#5ab738\"],\"fill_alpha\":[0.6],\"height\":[0.0],\"label\":[\"(6.3, 6.4]\"],\"line_alpha\":[1.0],\"line_color\":[\"black\"],\"width\":[0.11764705882352988],\"x\":[\"6.35\"],\"y\":[0.0]}},\"id\":\"4b4c8bc0-26af-4d39-916e-de2d30b29ff7\",\"type\":\"ColumnDataSource\"},{\"attributes\":{\"fill_alpha\":{\"field\":\"fill_alpha\"},\"fill_color\":{\"field\":\"color\"},\"height\":{\"field\":\"height\",\"units\":\"data\"},\"line_color\":{\"field\":\"line_color\"},\"width\":{\"field\":\"width\",\"units\":\"data\"},\"x\":{\"field\":\"x\"},\"y\":{\"field\":\"y\"}},\"id\":\"eb3230c6-2347-416f-a19f-2bf6287cf163\",\"type\":\"Rect\"},{\"attributes\":{\"fill_alpha\":{\"field\":\"fill_alpha\"},\"fill_color\":{\"field\":\"color\"},\"height\":{\"field\":\"height\",\"units\":\"data\"},\"line_color\":{\"field\":\"line_color\"},\"width\":{\"field\":\"width\",\"units\":\"data\"},\"x\":{\"field\":\"x\"},\"y\":{\"field\":\"y\"}},\"id\":\"6735d6af-51da-4190-9248-d05cdccf1478\",\"type\":\"Rect\"},{\"attributes\":{},\"id\":\"492cd364-9faf-4435-a7eb-71ffc663bf97\",\"type\":\"BasicTicker\"},{\"attributes\":{},\"id\":\"ed666e3d-f6e6-4503-b776-1ae9d4a1d0d9\",\"type\":\"BasicTickFormatter\"},{\"attributes\":{\"fill_alpha\":{\"field\":\"fill_alpha\"},\"fill_color\":{\"field\":\"color\"},\"height\":{\"field\":\"height\",\"units\":\"data\"},\"line_color\":{\"field\":\"line_color\"},\"width\":{\"field\":\"width\",\"units\":\"data\"},\"x\":{\"field\":\"x\"},\"y\":{\"field\":\"y\"}},\"id\":\"17d196ee-98d4-4b75-9925-ff893b544e6a\",\"type\":\"Rect\"},{\"attributes\":{\"callback\":null,\"column_names\":[\"line_color\",\"label\",\"width\",\"color\",\"line_alpha\",\"fill_alpha\",\"y\",\"x\",\"height\"],\"data\":{\"chart_index\":[\"(8.8, 8.9]\"],\"color\":[\"#5ab738\"],\"fill_alpha\":[0.6],\"height\":[0.0],\"label\":[\"(8.8, 8.9]\"],\"line_alpha\":[1.0],\"line_color\":[\"black\"],\"width\":[0.117647058823529],\"x\":[\"8.850000000000001\"],\"y\":[0.0]}},\"id\":\"ae11a1a3-6004-4892-b6fd-355ed04e68ed\",\"type\":\"ColumnDataSource\"},{\"attributes\":{\"callback\":null,\"column_names\":[\"line_color\",\"label\",\"width\",\"color\",\"line_alpha\",\"fill_alpha\",\"y\",\"x\",\"height\"],\"data\":{\"chart_index\":[\"(5.0, 5.1]\"],\"color\":[\"#5ab738\"],\"fill_alpha\":[0.6],\"height\":[1457.0],\"label\":[\"(5.0, 5.1]\"],\"line_alpha\":[1.0],\"line_color\":[\"black\"],\"width\":[0.117647058823529],\"x\":[\"5.05\"],\"y\":[728.5]}},\"id\":\"0fd349fa-0f11-471d-a3ee-159fe66f18c6\",\"type\":\"ColumnDataSource\"},{\"attributes\":{\"callback\":null,\"column_names\":[\"line_color\",\"label\",\"width\",\"color\",\"line_alpha\",\"fill_alpha\",\"y\",\"x\",\"height\"],\"data\":{\"chart_index\":[\"(6.2, 6.3]\"],\"color\":[\"#5ab738\"],\"fill_alpha\":[0.6],\"height\":[0.0],\"label\":[\"(6.2, 6.3]\"],\"line_alpha\":[1.0],\"line_color\":[\"black\"],\"width\":[0.11764705882352988],\"x\":[\"6.25\"],\"y\":[0.0]}},\"id\":\"f5891e89-301e-41e4-a337-f2f62aaae7c5\",\"type\":\"ColumnDataSource\"},{\"attributes\":{\"fill_alpha\":{\"field\":\"fill_alpha\"},\"fill_color\":{\"field\":\"color\"},\"height\":{\"field\":\"height\",\"units\":\"data\"},\"line_color\":{\"field\":\"line_color\"},\"width\":{\"field\":\"width\",\"units\":\"data\"},\"x\":{\"field\":\"x\"},\"y\":{\"field\":\"y\"}},\"id\":\"4ae6943e-4e17-4097-ba96-fbed1be91cef\",\"type\":\"Rect\"},{\"attributes\":{\"data_source\":{\"id\":\"e6233d24-dcf2-4a18-ba8a-91443ca66d3f\",\"type\":\"ColumnDataSource\"},\"glyph\":{\"id\":\"9f374b2d-5068-4a96-9612-28d61e4748b5\",\"type\":\"Rect\"},\"hover_glyph\":null,\"nonselection_glyph\":null,\"selection_glyph\":null},\"id\":\"617b18d4-be31-4dfd-989d-c3a4f40d6a7d\",\"type\":\"GlyphRenderer\"},{\"attributes\":{\"fill_alpha\":{\"field\":\"fill_alpha\"},\"fill_color\":{\"field\":\"color\"},\"height\":{\"field\":\"height\",\"units\":\"data\"},\"line_color\":{\"field\":\"line_color\"},\"width\":{\"field\":\"width\",\"units\":\"data\"},\"x\":{\"field\":\"x\"},\"y\":{\"field\":\"y\"}},\"id\":\"6f68b7c5-94b9-4d82-bb43-be390c2a267c\",\"type\":\"Rect\"},{\"attributes\":{\"data_source\":{\"id\":\"7d63e29c-01e7-45e1-b22a-6bf31099f519\",\"type\":\"ColumnDataSource\"},\"glyph\":{\"id\":\"6fe43773-e86d-4ec0-a804-98d546d8923a\",\"type\":\"Rect\"},\"hover_glyph\":null,\"nonselection_glyph\":null,\"selection_glyph\":null},\"id\":\"e407e837-01dc-4177-a5dc-4d1367a1b1be\",\"type\":\"GlyphRenderer\"},{\"attributes\":{\"data_source\":{\"id\":\"a72cc0e8-6135-4701-b5bd-7054b79412e3\",\"type\":\"ColumnDataSource\"},\"glyph\":{\"id\":\"0c720117-efc1-4f83-8d30-9ce47e216e00\",\"type\":\"Rect\"},\"hover_glyph\":null,\"nonselection_glyph\":null,\"selection_glyph\":null},\"id\":\"4aac92cb-c336-4f7b-abb2-544e90a883d2\",\"type\":\"GlyphRenderer\"},{\"attributes\":{\"callback\":null,\"column_names\":[\"line_color\",\"label\",\"width\",\"color\",\"line_alpha\",\"fill_alpha\",\"y\",\"x\",\"height\"],\"data\":{\"chart_index\":[\"(4.8, 5.0]\"],\"color\":[\"#f22c40\"],\"fill_alpha\":[0.6],\"height\":[0.0],\"label\":[\"(4.8, 5.0]\"],\"line_alpha\":[1.0],\"line_color\":[\"black\"],\"width\":[0.16666666666666696],\"x\":[\"4.9\"],\"y\":[0.0]}},\"id\":\"b2102559-15cf-4746-9a2b-46acefa38b24\",\"type\":\"ColumnDataSource\"},{\"attributes\":{\"fill_alpha\":{\"field\":\"fill_alpha\"},\"fill_color\":{\"field\":\"color\"},\"height\":{\"field\":\"height\",\"units\":\"data\"},\"line_color\":{\"field\":\"line_color\"},\"width\":{\"field\":\"width\",\"units\":\"data\"},\"x\":{\"field\":\"x\"},\"y\":{\"field\":\"y\"}},\"id\":\"94451740-cad9-4373-a528-a65b6e313bd5\",\"type\":\"Rect\"},{\"attributes\":{\"callback\":null,\"column_names\":[\"line_color\",\"label\",\"width\",\"color\",\"line_alpha\",\"fill_alpha\",\"y\",\"x\",\"height\"],\"data\":{\"chart_index\":[\"(4.0, 4.2]\"],\"color\":[\"#f22c40\"],\"fill_alpha\":[0.6],\"height\":[53.0],\"label\":[\"(4.0, 4.2]\"],\"line_alpha\":[1.0],\"line_color\":[\"black\"],\"width\":[0.16666666666666607],\"x\":[\"4.1\"],\"y\":[26.5]}},\"id\":\"078d88db-9a14-4b07-af4b-b9e2593ee3eb\",\"type\":\"ColumnDataSource\"},{\"attributes\":{\"callback\":null,\"column_names\":[\"line_color\",\"label\",\"width\",\"color\",\"line_alpha\",\"fill_alpha\",\"y\",\"x\",\"height\"],\"data\":{\"chart_index\":[\"(7.0, 7.1]\"],\"color\":[\"#5ab738\"],\"fill_alpha\":[0.6],\"height\":[880.0],\"label\":[\"(7.0, 7.1]\"],\"line_alpha\":[1.0],\"line_color\":[\"black\"],\"width\":[0.117647058823529],\"x\":[\"7.05\"],\"y\":[440.0]}},\"id\":\"7d63e29c-01e7-45e1-b22a-6bf31099f519\",\"type\":\"ColumnDataSource\"},{\"attributes\":{\"axis_label\":\"White?\",\"formatter\":{\"id\":\"7e5ecab4-a7ed-4f7d-aac4-9ad2d733c3a0\",\"type\":\"CategoricalTickFormatter\"},\"major_label_orientation\":0.7853981633974483,\"plot\":{\"id\":\"1c615a98-60e5-4df7-96e3-1dcb49eca02d\",\"subtype\":\"Chart\",\"type\":\"Plot\"},\"ticker\":{\"id\":\"490fb40f-9a80-4c38-b96c-9e8da20ba205\",\"type\":\"CategoricalTicker\"}},\"id\":\"213dbcc7-6d19-4b58-93bd-f59d446931e1\",\"type\":\"CategoricalAxis\"},{\"attributes\":{\"data_source\":{\"id\":\"897b4e25-f5dd-4281-a1fd-f30fe54b5bd7\",\"type\":\"ColumnDataSource\"},\"glyph\":{\"id\":\"383d18ba-5f99-4a7d-b020-2888f507cf07\",\"type\":\"Rect\"},\"hover_glyph\":null,\"nonselection_glyph\":null,\"selection_glyph\":null},\"id\":\"037742b5-68b6-4707-bf4f-ddaa082a1a59\",\"type\":\"GlyphRenderer\"},{\"attributes\":{\"data_source\":{\"id\":\"5a76697c-7f67-46bb-bb21-2ba079c47e09\",\"type\":\"ColumnDataSource\"},\"glyph\":{\"id\":\"2aad5963-18de-45e2-87c8-9a1787f399af\",\"type\":\"Rect\"},\"hover_glyph\":null,\"nonselection_glyph\":null,\"selection_glyph\":null},\"id\":\"e61ba46f-7832-4678-9e3b-d8edc5e3dbf8\",\"type\":\"GlyphRenderer\"},{\"attributes\":{\"data_source\":{\"id\":\"ad83eefb-e91a-4b8a-be25-ca06d55b1e9b\",\"type\":\"ColumnDataSource\"},\"glyph\":{\"id\":\"86dfbae5-24be-4909-a11a-4da076f3c691\",\"type\":\"Rect\"},\"hover_glyph\":null,\"nonselection_glyph\":null,\"selection_glyph\":null},\"id\":\"234d3063-b3e9-4b01-adb3-f3e1847f4e69\",\"type\":\"GlyphRenderer\"},{\"attributes\":{\"data_source\":{\"id\":\"f2b6429e-733f-4370-bc1f-abb84429139d\",\"type\":\"ColumnDataSource\"},\"glyph\":{\"id\":\"efa57be7-a749-479f-b899-3a66b8b56fae\",\"type\":\"Rect\"},\"hover_glyph\":null,\"nonselection_glyph\":null,\"selection_glyph\":null},\"id\":\"da2ff517-494f-44a1-be40-fe7d81c204f5\",\"type\":\"GlyphRenderer\"},{\"attributes\":{\"callback\":null,\"column_names\":[\"line_color\",\"label\",\"width\",\"color\",\"line_alpha\",\"fill_alpha\",\"y\",\"x\",\"height\"],\"data\":{\"chart_index\":[\"(4.8, 4.9]\"],\"color\":[\"#5ab738\"],\"fill_alpha\":[0.6],\"height\":[0.0],\"label\":[\"(4.8, 4.9]\"],\"line_alpha\":[1.0],\"line_color\":[\"black\"],\"width\":[0.11764705882352988],\"x\":[\"4.85\"],\"y\":[0.0]}},\"id\":\"ddc6fbfa-cac3-4353-ad6b-a3ecaf3cc51f\",\"type\":\"ColumnDataSource\"},{\"attributes\":{\"callback\":null,\"column_names\":[\"line_color\",\"label\",\"width\",\"color\",\"line_alpha\",\"fill_alpha\",\"y\",\"x\",\"height\"],\"data\":{\"chart_index\":[\"(5.7, 5.8]\"],\"color\":[\"#5ab738\"],\"fill_alpha\":[0.6],\"height\":[0.0],\"label\":[\"(5.7, 5.8]\"],\"line_alpha\":[1.0],\"line_color\":[\"black\"],\"width\":[0.117647058823529],\"x\":[\"5.75\"],\"y\":[0.0]}},\"id\":\"c38f144c-be81-4f05-98bf-47dba4f65faf\",\"type\":\"ColumnDataSource\"},{\"attributes\":{\"fill_alpha\":{\"field\":\"fill_alpha\"},\"fill_color\":{\"field\":\"color\"},\"height\":{\"field\":\"height\",\"units\":\"data\"},\"line_color\":{\"field\":\"line_color\"},\"width\":{\"field\":\"width\",\"units\":\"data\"},\"x\":{\"field\":\"x\"},\"y\":{\"field\":\"y\"}},\"id\":\"4efe0e8e-b8ac-449f-b109-0897cbe068ca\",\"type\":\"Rect\"},{\"attributes\":{\"data_source\":{\"id\":\"6ea376d1-743a-4e30-85ef-e3753ff8be97\",\"type\":\"ColumnDataSource\"},\"glyph\":{\"id\":\"42713f85-6467-4a8f-8b58-ccac47975e9b\",\"type\":\"Rect\"},\"hover_glyph\":null,\"nonselection_glyph\":null,\"selection_glyph\":null},\"id\":\"a229cc99-a79e-4f09-bc0f-c76357ab9d11\",\"type\":\"GlyphRenderer\"},{\"attributes\":{\"callback\":null,\"column_names\":[\"line_color\",\"label\",\"width\",\"color\",\"line_alpha\",\"fill_alpha\",\"y\",\"x\",\"height\"],\"data\":{\"chart_index\":[\"(3.5, 3.7]\"],\"color\":[\"#f22c40\"],\"fill_alpha\":[0.6],\"height\":[0.0],\"label\":[\"(3.5, 3.7]\"],\"line_alpha\":[1.0],\"line_color\":[\"black\"],\"width\":[0.16666666666666652],\"x\":[\"3.6\"],\"y\":[0.0]}},\"id\":\"4131e371-6c11-4e02-8c15-092e360ceeda\",\"type\":\"ColumnDataSource\"},{\"attributes\":{\"data_source\":{\"id\":\"fa80d1d3-0224-4fcb-bea0-b9b35a23670f\",\"type\":\"ColumnDataSource\"},\"glyph\":{\"id\":\"e47abd39-a1ff-4517-97fb-496887a841f8\",\"type\":\"Rect\"},\"hover_glyph\":null,\"nonselection_glyph\":null,\"selection_glyph\":null},\"id\":\"a9e36702-03fb-4e5e-88e5-0a9d8a4e9cbc\",\"type\":\"GlyphRenderer\"},{\"attributes\":{\"callback\":null,\"column_names\":[\"line_color\",\"label\",\"width\",\"color\",\"line_alpha\",\"fill_alpha\",\"y\",\"x\",\"height\"],\"data\":{\"chart_index\":[\"[3.0, 3.1]\"],\"color\":[\"#5ab738\"],\"fill_alpha\":[0.6],\"height\":[20.0],\"label\":[\"[3.0, 3.1]\"],\"line_alpha\":[1.0],\"line_color\":[\"black\"],\"width\":[0.11764705882352944],\"x\":[\"3.05\"],\"y\":[10.0]}},\"id\":\"212afaf1-52f4-4a1d-9084-6c1e8fc32fd6\",\"type\":\"ColumnDataSource\"},{\"attributes\":{\"fill_alpha\":{\"field\":\"fill_alpha\"},\"fill_color\":{\"field\":\"color\"},\"height\":{\"field\":\"height\",\"units\":\"data\"},\"line_color\":{\"field\":\"line_color\"},\"width\":{\"field\":\"width\",\"units\":\"data\"},\"x\":{\"field\":\"x\"},\"y\":{\"field\":\"y\"}},\"id\":\"0b9b998a-0e82-440c-9a78-6d68842b8c29\",\"type\":\"Rect\"},{\"attributes\":{\"callback\":null,\"column_names\":[\"line_color\",\"label\",\"width\",\"color\",\"line_alpha\",\"fill_alpha\",\"y\",\"x\",\"height\"],\"data\":{\"chart_index\":[\"(3.7, 3.8]\"],\"color\":[\"#5ab738\"],\"fill_alpha\":[0.6],\"height\":[0.0],\"label\":[\"(3.7, 3.8]\"],\"line_alpha\":[1.0],\"line_color\":[\"black\"],\"width\":[0.117647058823529],\"x\":[\"3.75\"],\"y\":[0.0]}},\"id\":\"ad47ecc9-630a-48d0-a7a8-5ff8bae6ad82\",\"type\":\"ColumnDataSource\"},{\"attributes\":{\"callback\":null,\"column_names\":[\"line_color\",\"label\",\"width\",\"color\",\"line_alpha\",\"fill_alpha\",\"y\",\"x\",\"height\"],\"data\":{\"chart_index\":[\"(3.8, 4.0]\"],\"color\":[\"#f22c40\"],\"fill_alpha\":[0.6],\"height\":[0.0],\"label\":[\"(3.8, 4.0]\"],\"line_alpha\":[1.0],\"line_color\":[\"black\"],\"width\":[0.16666666666666696],\"x\":[\"3.9\"],\"y\":[0.0]}},\"id\":\"6a5b673f-4e6f-4430-8916-4f814299dcc7\",\"type\":\"ColumnDataSource\"},{\"attributes\":{\"fill_alpha\":{\"field\":\"fill_alpha\"},\"fill_color\":{\"field\":\"color\"},\"height\":{\"field\":\"height\",\"units\":\"data\"},\"line_color\":{\"field\":\"line_color\"},\"width\":{\"field\":\"width\",\"units\":\"data\"},\"x\":{\"field\":\"x\"},\"y\":{\"field\":\"y\"}},\"id\":\"b46a45c4-8548-488c-9064-266a0e313041\",\"type\":\"Rect\"},{\"attributes\":{\"fill_alpha\":{\"field\":\"fill_alpha\"},\"fill_color\":{\"field\":\"color\"},\"height\":{\"field\":\"height\",\"units\":\"data\"},\"line_color\":{\"field\":\"line_color\"},\"width\":{\"field\":\"width\",\"units\":\"data\"},\"x\":{\"field\":\"x\"},\"y\":{\"field\":\"y\"}},\"id\":\"095e6751-8aa3-4fda-a7c0-f7a77a86d9fb\",\"type\":\"Rect\"},{\"attributes\":{\"fill_alpha\":{\"field\":\"fill_alpha\"},\"fill_color\":{\"field\":\"color\"},\"height\":{\"field\":\"height\",\"units\":\"data\"},\"line_color\":{\"field\":\"line_color\"},\"width\":{\"field\":\"width\",\"units\":\"data\"},\"x\":{\"field\":\"x\"},\"y\":{\"field\":\"y\"}},\"id\":\"27cc9450-6085-4194-94a1-ea9ea0e75714\",\"type\":\"Rect\"},{\"attributes\":{\"data_source\":{\"id\":\"81633f41-9592-4f68-905b-7a75412eb43b\",\"type\":\"ColumnDataSource\"},\"glyph\":{\"id\":\"6309b603-0dda-41e9-9f77-9f5a8977b3e8\",\"type\":\"Rect\"},\"hover_glyph\":null,\"nonselection_glyph\":null,\"selection_glyph\":null},\"id\":\"daff4666-8a04-48d2-a18c-944a2d1abfb3\",\"type\":\"GlyphRenderer\"},{\"attributes\":{\"data_source\":{\"id\":\"9d14b33f-d2f2-4aca-b591-42997f1ba87c\",\"type\":\"ColumnDataSource\"},\"glyph\":{\"id\":\"40347cf6-f9d1-4efd-9e98-245ff9bb4bff\",\"type\":\"Rect\"},\"hover_glyph\":null,\"nonselection_glyph\":null,\"selection_glyph\":null},\"id\":\"c72eccd6-df5a-4f58-ba41-564f9a1c7bee\",\"type\":\"GlyphRenderer\"},{\"attributes\":{\"data_source\":{\"id\":\"176ebc00-4bf4-4193-87d8-98e968646d92\",\"type\":\"ColumnDataSource\"},\"glyph\":{\"id\":\"43c74e43-758b-4f83-bec6-e18c4f2ec1b4\",\"type\":\"Rect\"},\"hover_glyph\":null,\"nonselection_glyph\":null,\"selection_glyph\":null},\"id\":\"8c4c494d-ae05-40cd-b9d2-c5b7e6bdfd36\",\"type\":\"GlyphRenderer\"},{\"attributes\":{\"fill_alpha\":{\"field\":\"fill_alpha\"},\"fill_color\":{\"field\":\"color\"},\"height\":{\"field\":\"height\",\"units\":\"data\"},\"line_color\":{\"field\":\"line_color\"},\"width\":{\"field\":\"width\",\"units\":\"data\"},\"x\":{\"field\":\"x\"},\"y\":{\"field\":\"y\"}},\"id\":\"09443fb3-43e4-4a03-a50c-9b73341bf273\",\"type\":\"Rect\"},{\"attributes\":{\"bottom_units\":\"screen\",\"fill_alpha\":{\"value\":0.5},\"fill_color\":{\"value\":\"lightgrey\"},\"left_units\":\"screen\",\"level\":\"overlay\",\"line_alpha\":{\"value\":1.0},\"line_color\":{\"value\":\"black\"},\"line_dash\":[4,4],\"line_width\":{\"value\":2},\"plot\":null,\"render_mode\":\"css\",\"right_units\":\"screen\",\"top_units\":\"screen\"},\"id\":\"da4536c8-f325-4beb-845f-0456a9d74031\",\"type\":\"BoxAnnotation\"},{\"attributes\":{\"callback\":null,\"end\":2417.8},\"id\":\"e4409d4d-fc00-4f7f-93a1-9a536082ab9a\",\"type\":\"Range1d\"},{\"attributes\":{\"callback\":null,\"column_names\":[\"line_color\",\"label\",\"width\",\"color\",\"line_alpha\",\"fill_alpha\",\"y\",\"x\",\"height\"],\"data\":{\"chart_index\":[\"(4.3, 4.4]\"],\"color\":[\"#5ab738\"],\"fill_alpha\":[0.6],\"height\":[0.0],\"label\":[\"(4.3, 4.4]\"],\"line_alpha\":[1.0],\"line_color\":[\"black\"],\"width\":[0.11764705882352988],\"x\":[\"4.35\"],\"y\":[0.0]}},\"id\":\"6bdc6443-e0f7-4405-bafd-693434f74025\",\"type\":\"ColumnDataSource\"},{\"attributes\":{\"callback\":null,\"column_names\":[\"line_color\",\"label\",\"width\",\"color\",\"line_alpha\",\"fill_alpha\",\"y\",\"x\",\"height\"],\"data\":{\"chart_index\":[\"(7.2, 7.3]\"],\"color\":[\"#f22c40\"],\"fill_alpha\":[0.6],\"height\":[0.0],\"label\":[\"(7.2, 7.3]\"],\"line_alpha\":[1.0],\"line_color\":[\"black\"],\"width\":[0.16666666666666696],\"x\":[\"7.25\"],\"y\":[0.0]}},\"id\":\"59dfffa8-f76d-4fc9-aa86-6cc9749bc37e\",\"type\":\"ColumnDataSource\"},{\"attributes\":{\"data_source\":{\"id\":\"c4032f3f-ebc0-45b9-8c1f-ed2ae99fc2b4\",\"type\":\"ColumnDataSource\"},\"glyph\":{\"id\":\"4efe0e8e-b8ac-449f-b109-0897cbe068ca\",\"type\":\"Rect\"},\"hover_glyph\":null,\"nonselection_glyph\":null,\"selection_glyph\":null},\"id\":\"6c1c7384-2691-49e3-8964-0470dbcaffb4\",\"type\":\"GlyphRenderer\"},{\"attributes\":{\"fill_alpha\":{\"field\":\"fill_alpha\"},\"fill_color\":{\"field\":\"color\"},\"height\":{\"field\":\"height\",\"units\":\"data\"},\"line_color\":{\"field\":\"line_color\"},\"width\":{\"field\":\"width\",\"units\":\"data\"},\"x\":{\"field\":\"x\"},\"y\":{\"field\":\"y\"}},\"id\":\"713c0a8a-8323-4384-83fb-5a8f624aebf9\",\"type\":\"Rect\"},{\"attributes\":{\"fill_alpha\":{\"field\":\"fill_alpha\"},\"fill_color\":{\"field\":\"color\"},\"height\":{\"field\":\"height\",\"units\":\"data\"},\"line_color\":{\"field\":\"line_color\"},\"width\":{\"field\":\"width\",\"units\":\"data\"},\"x\":{\"field\":\"x\"},\"y\":{\"field\":\"y\"}},\"id\":\"4c2a20d9-761b-4483-9e9f-01706665721a\",\"type\":\"Rect\"},{\"attributes\":{\"callback\":null,\"column_names\":[\"line_color\",\"label\",\"width\",\"color\",\"line_alpha\",\"fill_alpha\",\"y\",\"x\",\"height\"],\"data\":{\"chart_index\":[\"(8.3, 8.4]\"],\"color\":[\"#5ab738\"],\"fill_alpha\":[0.6],\"height\":[0.0],\"label\":[\"(8.3, 8.4]\"],\"line_alpha\":[1.0],\"line_color\":[\"black\"],\"width\":[0.11764705882353077],\"x\":[\"8.350000000000001\"],\"y\":[0.0]}},\"id\":\"4a38d0ee-49f4-49b1-8986-377a460999ef\",\"type\":\"ColumnDataSource\"},{\"attributes\":{\"callback\":null,\"column_names\":[\"line_color\",\"label\",\"width\",\"color\",\"line_alpha\",\"fill_alpha\",\"y\",\"x\",\"height\"],\"data\":{\"chart_index\":[\"(5.4, 5.5]\"],\"color\":[\"#5ab738\"],\"fill_alpha\":[0.6],\"height\":[0.0],\"label\":[\"(5.4, 5.5]\"],\"line_alpha\":[1.0],\"line_color\":[\"black\"],\"width\":[0.117647058823529],\"x\":[\"5.45\"],\"y\":[0.0]}},\"id\":\"9d14b33f-d2f2-4aca-b591-42997f1ba87c\",\"type\":\"ColumnDataSource\"},{\"attributes\":{\"data_source\":{\"id\":\"ac73b86d-d7b3-4390-b4cb-9a6823012d3d\",\"type\":\"ColumnDataSource\"},\"glyph\":{\"id\":\"6275680a-d52d-4d6e-8090-bb72ad940afd\",\"type\":\"Rect\"},\"hover_glyph\":null,\"nonselection_glyph\":null,\"selection_glyph\":null},\"id\":\"4da75e8e-e483-42f8-812e-8d92fad58c32\",\"type\":\"GlyphRenderer\"},{\"attributes\":{\"data_source\":{\"id\":\"b2102559-15cf-4746-9a2b-46acefa38b24\",\"type\":\"ColumnDataSource\"},\"glyph\":{\"id\":\"61eddf78-f94d-454b-8664-1b5e03a9702e\",\"type\":\"Rect\"},\"hover_glyph\":null,\"nonselection_glyph\":null,\"selection_glyph\":null},\"id\":\"e6aa6fe1-6abc-4a5c-a7f0-8d2944c11807\",\"type\":\"GlyphRenderer\"},{\"attributes\":{\"callback\":null,\"column_names\":[\"line_color\",\"label\",\"width\",\"color\",\"line_alpha\",\"fill_alpha\",\"y\",\"x\",\"height\"],\"data\":{\"chart_index\":[\"(5.7, 5.8]\"],\"color\":[\"#f22c40\"],\"fill_alpha\":[0.6],\"height\":[0.0],\"label\":[\"(5.7, 5.8]\"],\"line_alpha\":[1.0],\"line_color\":[\"black\"],\"width\":[0.16666666666666696],\"x\":[\"5.75\"],\"y\":[0.0]}},\"id\":\"32dee336-44fa-4528-8f40-3b03e292abbe\",\"type\":\"ColumnDataSource\"},{\"attributes\":{\"callback\":null,\"column_names\":[\"line_color\",\"label\",\"width\",\"color\",\"line_alpha\",\"fill_alpha\",\"y\",\"x\",\"height\"],\"data\":{\"chart_index\":[\"(4.3, 4.5]\"],\"color\":[\"#f22c40\"],\"fill_alpha\":[0.6],\"height\":[0.0],\"label\":[\"(4.3, 4.5]\"],\"line_alpha\":[1.0],\"line_color\":[\"black\"],\"width\":[0.16666666666666696],\"x\":[\"4.4\"],\"y\":[0.0]}},\"id\":\"ad83eefb-e91a-4b8a-be25-ca06d55b1e9b\",\"type\":\"ColumnDataSource\"},{\"attributes\":{\"data_source\":{\"id\":\"08459caf-27eb-46bf-bd55-131d220d89e5\",\"type\":\"ColumnDataSource\"},\"glyph\":{\"id\":\"fa4ad521-a042-40d1-b048-99ec558c4243\",\"type\":\"Rect\"},\"hover_glyph\":null,\"nonselection_glyph\":null,\"selection_glyph\":null},\"id\":\"c8079a87-34b6-43e8-a897-9a25fc0c4e11\",\"type\":\"GlyphRenderer\"},{\"attributes\":{\"callback\":null,\"column_names\":[\"line_color\",\"label\",\"width\",\"color\",\"line_alpha\",\"fill_alpha\",\"y\",\"x\",\"height\"],\"data\":{\"chart_index\":[\"(6.1, 6.2]\"],\"color\":[\"#5ab738\"],\"fill_alpha\":[0.6],\"height\":[0.0],\"label\":[\"(6.1, 6.2]\"],\"line_alpha\":[1.0],\"line_color\":[\"black\"],\"width\":[0.117647058823529],\"x\":[\"6.15\"],\"y\":[0.0]}},\"id\":\"c1feca6f-bf9c-4a74-8059-f32f724c0c65\",\"type\":\"ColumnDataSource\"},{\"attributes\":{\"callback\":null,\"column_names\":[\"line_color\",\"label\",\"width\",\"color\",\"line_alpha\",\"fill_alpha\",\"y\",\"x\",\"height\"],\"data\":{\"chart_index\":[{\"white?\":0}],\"color\":[\"#f22c40\"],\"fill_alpha\":[0.8],\"height\":[1599.0],\"label\":[{\"white?\":0}],\"line_alpha\":[1.0],\"line_color\":[\"white\"],\"white?\":[0],\"width\":[0.8],\"x\":[\"0\"],\"y\":[799.5]}},\"id\":\"a1c4e10e-7571-4e59-96ba-c28146b5cda2\",\"type\":\"ColumnDataSource\"},{\"attributes\":{\"fill_alpha\":{\"field\":\"fill_alpha\"},\"fill_color\":{\"field\":\"color\"},\"height\":{\"field\":\"height\",\"units\":\"data\"},\"line_color\":{\"field\":\"line_color\"},\"width\":{\"field\":\"width\",\"units\":\"data\"},\"x\":{\"field\":\"x\"},\"y\":{\"field\":\"y\"}},\"id\":\"e47abd39-a1ff-4517-97fb-496887a841f8\",\"type\":\"Rect\"},{\"attributes\":{\"callback\":null,\"column_names\":[\"line_color\",\"label\",\"width\",\"color\",\"line_alpha\",\"fill_alpha\",\"y\",\"x\",\"height\"],\"data\":{\"chart_index\":[\"(8.4, 8.5]\"],\"color\":[\"#5ab738\"],\"fill_alpha\":[0.6],\"height\":[0.0],\"label\":[\"(8.4, 8.5]\"],\"line_alpha\":[1.0],\"line_color\":[\"black\"],\"width\":[0.117647058823529],\"x\":[\"8.45\"],\"y\":[0.0]}},\"id\":\"b03ff30e-cbca-44cd-a60a-772131bc6866\",\"type\":\"ColumnDataSource\"},{\"attributes\":{\"fill_alpha\":{\"field\":\"fill_alpha\"},\"fill_color\":{\"field\":\"color\"},\"height\":{\"field\":\"height\",\"units\":\"data\"},\"line_color\":{\"field\":\"line_color\"},\"width\":{\"field\":\"width\",\"units\":\"data\"},\"x\":{\"field\":\"x\"},\"y\":{\"field\":\"y\"}},\"id\":\"e661689e-dd84-4f05-8a8a-c0724bafd24b\",\"type\":\"Rect\"},{\"attributes\":{\"data_source\":{\"id\":\"c025c01d-171c-452d-96e8-7335c97a6d91\",\"type\":\"ColumnDataSource\"},\"glyph\":{\"id\":\"ced36334-bf17-49d0-ab05-dd12fbbfb281\",\"type\":\"Rect\"},\"hover_glyph\":null,\"nonselection_glyph\":null,\"selection_glyph\":null},\"id\":\"e6429ced-bff8-4f13-a614-e28b9f371eeb\",\"type\":\"GlyphRenderer\"},{\"attributes\":{\"fill_alpha\":{\"field\":\"fill_alpha\"},\"fill_color\":{\"field\":\"color\"},\"height\":{\"field\":\"height\",\"units\":\"data\"},\"line_color\":{\"field\":\"line_color\"},\"width\":{\"field\":\"width\",\"units\":\"data\"},\"x\":{\"field\":\"x\"},\"y\":{\"field\":\"y\"}},\"id\":\"858097e2-ff15-4b61-be1a-8bddae95271e\",\"type\":\"Rect\"},{\"attributes\":{\"data_source\":{\"id\":\"ca9e6e6e-f41c-4df5-8b63-00c825892ee7\",\"type\":\"ColumnDataSource\"},\"glyph\":{\"id\":\"125377ff-36d5-48bc-a2b5-d103010bcf8e\",\"type\":\"Rect\"},\"hover_glyph\":null,\"nonselection_glyph\":null,\"selection_glyph\":null},\"id\":\"16863eec-e8ed-44ee-b188-67315aa04870\",\"type\":\"GlyphRenderer\"},{\"attributes\":{\"data_source\":{\"id\":\"731ccb84-cf19-44a4-8f53-71e8e5601325\",\"type\":\"ColumnDataSource\"},\"glyph\":{\"id\":\"c8bcb759-5e88-4c52-af49-693d2938623d\",\"type\":\"Rect\"},\"hover_glyph\":null,\"nonselection_glyph\":null,\"selection_glyph\":null},\"id\":\"2166ee92-cb00-4657-908b-0c5f94b8050a\",\"type\":\"GlyphRenderer\"},{\"attributes\":{\"data_source\":{\"id\":\"34b8c61e-3350-4603-ac7a-18ec3dcaeb5e\",\"type\":\"ColumnDataSource\"},\"glyph\":{\"id\":\"09443fb3-43e4-4a03-a50c-9b73341bf273\",\"type\":\"Rect\"},\"hover_glyph\":null,\"nonselection_glyph\":null,\"selection_glyph\":null},\"id\":\"420eadd8-57b7-4be1-9df8-56c6fc6db48f\",\"type\":\"GlyphRenderer\"},{\"attributes\":{\"fill_alpha\":{\"field\":\"fill_alpha\"},\"fill_color\":{\"field\":\"color\"},\"height\":{\"field\":\"height\",\"units\":\"data\"},\"line_color\":{\"field\":\"line_color\"},\"width\":{\"field\":\"width\",\"units\":\"data\"},\"x\":{\"field\":\"x\"},\"y\":{\"field\":\"y\"}},\"id\":\"eb0bb650-83f7-43c0-8b35-b568894ec0e5\",\"type\":\"Rect\"},{\"attributes\":{\"data_source\":{\"id\":\"9145658c-1e8e-41d2-92e9-927b0374de23\",\"type\":\"ColumnDataSource\"},\"glyph\":{\"id\":\"992444d5-30e8-4428-b5c0-b0d1b3a29ca6\",\"type\":\"Rect\"},\"hover_glyph\":null,\"nonselection_glyph\":null,\"selection_glyph\":null},\"id\":\"8fa1035d-1fe4-400f-a9b6-d43763985afc\",\"type\":\"GlyphRenderer\"},{\"attributes\":{\"callback\":null,\"column_names\":[\"line_color\",\"label\",\"width\",\"color\",\"line_alpha\",\"fill_alpha\",\"y\",\"x\",\"height\"],\"data\":{\"chart_index\":[\"(5.6, 5.7]\"],\"color\":[\"#5ab738\"],\"fill_alpha\":[0.6],\"height\":[0.0],\"label\":[\"(5.6, 5.7]\"],\"line_alpha\":[1.0],\"line_color\":[\"black\"],\"width\":[0.11764705882352988],\"x\":[\"5.65\"],\"y\":[0.0]}},\"id\":\"5797614a-388f-4c43-8448-f72ffbd06ab4\",\"type\":\"ColumnDataSource\"},{\"attributes\":{\"callback\":null,\"column_names\":[\"line_color\",\"label\",\"width\",\"color\",\"line_alpha\",\"fill_alpha\",\"y\",\"x\",\"height\"],\"data\":{\"chart_index\":[\"(7.3, 7.5]\"],\"color\":[\"#f22c40\"],\"fill_alpha\":[0.6],\"height\":[0.0],\"label\":[\"(7.3, 7.5]\"],\"line_alpha\":[1.0],\"line_color\":[\"black\"],\"width\":[0.16666666666666696],\"x\":[\"7.4\"],\"y\":[0.0]}},\"id\":\"dfd9bfb9-34de-426d-ac47-fb809464fe0f\",\"type\":\"ColumnDataSource\"},{\"attributes\":{\"callback\":null,\"column_names\":[\"line_color\",\"label\",\"width\",\"color\",\"line_alpha\",\"fill_alpha\",\"y\",\"x\",\"height\"],\"data\":{\"chart_index\":[\"(6.0, 6.2]\"],\"color\":[\"#f22c40\"],\"fill_alpha\":[0.6],\"height\":[638.0],\"label\":[\"(6.0, 6.2]\"],\"line_alpha\":[1.0],\"line_color\":[\"black\"],\"width\":[0.16666666666666607],\"x\":[\"6.1\"],\"y\":[319.0]}},\"id\":\"9145658c-1e8e-41d2-92e9-927b0374de23\",\"type\":\"ColumnDataSource\"},{\"attributes\":{\"data_source\":{\"id\":\"afe499f8-b87c-498f-90ed-f50358c724fc\",\"type\":\"ColumnDataSource\"},\"glyph\":{\"id\":\"e6e3c306-6c87-437b-b4bb-a8d9f0a5ae74\",\"type\":\"Rect\"},\"hover_glyph\":null,\"nonselection_glyph\":null,\"selection_glyph\":null},\"id\":\"3e9cce99-eb42-478f-b0d1-fccab119a009\",\"type\":\"GlyphRenderer\"},{\"attributes\":{\"callback\":null,\"column_names\":[\"line_color\",\"label\",\"width\",\"color\",\"line_alpha\",\"fill_alpha\",\"y\",\"x\",\"height\"],\"data\":{\"chart_index\":[\"(6.6, 6.8]\"],\"color\":[\"#5ab738\"],\"fill_alpha\":[0.6],\"height\":[0.0],\"label\":[\"(6.6, 6.8]\"],\"line_alpha\":[1.0],\"line_color\":[\"black\"],\"width\":[0.11764705882352988],\"x\":[\"6.699999999999999\"],\"y\":[0.0]}},\"id\":\"731ccb84-cf19-44a4-8f53-71e8e5601325\",\"type\":\"ColumnDataSource\"},{\"attributes\":{\"overlay\":{\"id\":\"da4536c8-f325-4beb-845f-0456a9d74031\",\"type\":\"BoxAnnotation\"},\"plot\":{\"id\":\"bf3185a8-c5ce-4651-99dd-83041457a91d\",\"subtype\":\"Chart\",\"type\":\"Plot\"}},\"id\":\"491a07c5-c53c-4acd-9e59-216959c13050\",\"type\":\"BoxZoomTool\"},{\"attributes\":{\"callback\":null,\"column_names\":[\"line_color\",\"label\",\"width\",\"color\",\"line_alpha\",\"fill_alpha\",\"y\",\"x\",\"height\"],\"data\":{\"chart_index\":[\"(5.0, 5.2]\"],\"color\":[\"#f22c40\"],\"fill_alpha\":[0.6],\"height\":[681.0],\"label\":[\"(5.0, 5.2]\"],\"line_alpha\":[1.0],\"line_color\":[\"black\"],\"width\":[0.16666666666666607],\"x\":[\"5.1\"],\"y\":[340.5]}},\"id\":\"df46e3fe-b52d-4cf8-9c58-1f33aa504915\",\"type\":\"ColumnDataSource\"},{\"attributes\":{\"fill_alpha\":{\"field\":\"fill_alpha\"},\"fill_color\":{\"field\":\"color\"},\"height\":{\"field\":\"height\",\"units\":\"data\"},\"line_color\":{\"field\":\"line_color\"},\"width\":{\"field\":\"width\",\"units\":\"data\"},\"x\":{\"field\":\"x\"},\"y\":{\"field\":\"y\"}},\"id\":\"42713f85-6467-4a8f-8b58-ccac47975e9b\",\"type\":\"Rect\"},{\"attributes\":{\"fill_alpha\":{\"field\":\"fill_alpha\"},\"fill_color\":{\"field\":\"color\"},\"height\":{\"field\":\"height\",\"units\":\"data\"},\"line_color\":{\"field\":\"line_color\"},\"width\":{\"field\":\"width\",\"units\":\"data\"},\"x\":{\"field\":\"x\"},\"y\":{\"field\":\"y\"}},\"id\":\"34ab3a45-fd34-461f-b42c-5daf6bb42429\",\"type\":\"Rect\"},{\"attributes\":{\"data_source\":{\"id\":\"fb191941-2fb6-461d-be96-90052c0e879b\",\"type\":\"ColumnDataSource\"},\"glyph\":{\"id\":\"547172af-716d-47c5-98e7-a5746bd4e075\",\"type\":\"Rect\"},\"hover_glyph\":null,\"nonselection_glyph\":null,\"selection_glyph\":null},\"id\":\"8574db56-4de4-4165-99b7-3567c2bddadf\",\"type\":\"GlyphRenderer\"},{\"attributes\":{\"fill_alpha\":{\"field\":\"fill_alpha\"},\"fill_color\":{\"field\":\"color\"},\"height\":{\"field\":\"height\",\"units\":\"data\"},\"line_color\":{\"field\":\"line_color\"},\"width\":{\"field\":\"width\",\"units\":\"data\"},\"x\":{\"field\":\"x\"},\"y\":{\"field\":\"y\"}},\"id\":\"93358ccc-9806-4f72-a3e6-5de19844a11b\",\"type\":\"Rect\"},{\"attributes\":{\"callback\":null,\"column_names\":[\"line_color\",\"label\",\"width\",\"color\",\"line_alpha\",\"fill_alpha\",\"y\",\"x\",\"height\"],\"data\":{\"chart_index\":[\"(4.4, 4.5]\"],\"color\":[\"#5ab738\"],\"fill_alpha\":[0.6],\"height\":[0.0],\"label\":[\"(4.4, 4.5]\"],\"line_alpha\":[1.0],\"line_color\":[\"black\"],\"width\":[0.117647058823529],\"x\":[\"4.45\"],\"y\":[0.0]}},\"id\":\"ac73b86d-d7b3-4390-b4cb-9a6823012d3d\",\"type\":\"ColumnDataSource\"},{\"attributes\":{\"callback\":null,\"column_names\":[\"line_color\",\"label\",\"width\",\"color\",\"line_alpha\",\"fill_alpha\",\"y\",\"x\",\"height\"],\"data\":{\"chart_index\":[\"(6.3, 6.5]\"],\"color\":[\"#f22c40\"],\"fill_alpha\":[0.6],\"height\":[0.0],\"label\":[\"(6.3, 6.5]\"],\"line_alpha\":[1.0],\"line_color\":[\"black\"],\"width\":[0.16666666666666696],\"x\":[\"6.4\"],\"y\":[0.0]}},\"id\":\"268ab842-c21a-4c42-a584-aa5ef5b1cd5d\",\"type\":\"ColumnDataSource\"},{\"attributes\":{\"data_source\":{\"id\":\"f786fc4c-6700-4747-82fd-54002f78120a\",\"type\":\"ColumnDataSource\"},\"glyph\":{\"id\":\"85cdcd40-d6b0-4498-92f8-0ec2d4beb4a5\",\"type\":\"Rect\"},\"hover_glyph\":null,\"nonselection_glyph\":null,\"selection_glyph\":null},\"id\":\"b431cff3-839f-4abc-9b44-be3a061e8a14\",\"type\":\"GlyphRenderer\"},{\"attributes\":{\"children\":[{\"id\":\"1c615a98-60e5-4df7-96e3-1dcb49eca02d\",\"subtype\":\"Chart\",\"type\":\"Plot\"},{\"id\":\"bf3185a8-c5ce-4651-99dd-83041457a91d\",\"subtype\":\"Chart\",\"type\":\"Plot\"}]},\"id\":\"1d37592e-6367-4e29-a02a-aa49ca9d2961\",\"type\":\"Row\"},{\"attributes\":{\"data_source\":{\"id\":\"6a5b673f-4e6f-4430-8916-4f814299dcc7\",\"type\":\"ColumnDataSource\"},\"glyph\":{\"id\":\"b4f72a1c-fde0-46dd-a25b-12c5c7f5ee0a\",\"type\":\"Rect\"},\"hover_glyph\":null,\"nonselection_glyph\":null,\"selection_glyph\":null},\"id\":\"f559611a-acd2-49c7-9a35-9f2ff5b2f528\",\"type\":\"GlyphRenderer\"},{\"attributes\":{\"fill_alpha\":{\"field\":\"fill_alpha\"},\"fill_color\":{\"field\":\"color\"},\"height\":{\"field\":\"height\",\"units\":\"data\"},\"line_color\":{\"field\":\"line_color\"},\"width\":{\"field\":\"width\",\"units\":\"data\"},\"x\":{\"field\":\"x\"},\"y\":{\"field\":\"y\"}},\"id\":\"c1907d77-7bf0-499a-bb8c-0661f6f7dcf0\",\"type\":\"Rect\"},{\"attributes\":{\"callback\":null,\"column_names\":[\"line_color\",\"label\",\"width\",\"color\",\"line_alpha\",\"fill_alpha\",\"y\",\"x\",\"height\"],\"data\":{\"chart_index\":[\"(6.9, 7.0]\"],\"color\":[\"#5ab738\"],\"fill_alpha\":[0.6],\"height\":[0.0],\"label\":[\"(6.9, 7.0]\"],\"line_alpha\":[1.0],\"line_color\":[\"black\"],\"width\":[0.117647058823529],\"x\":[\"6.95\"],\"y\":[0.0]}},\"id\":\"d3ee7303-e7b2-4e5e-9608-dab7796d8387\",\"type\":\"ColumnDataSource\"},{\"attributes\":{\"fill_alpha\":{\"field\":\"fill_alpha\"},\"fill_color\":{\"field\":\"color\"},\"height\":{\"field\":\"height\",\"units\":\"data\"},\"line_color\":{\"field\":\"line_color\"},\"width\":{\"field\":\"width\",\"units\":\"data\"},\"x\":{\"field\":\"x\"},\"y\":{\"field\":\"y\"}},\"id\":\"b4f72a1c-fde0-46dd-a25b-12c5c7f5ee0a\",\"type\":\"Rect\"},{\"attributes\":{\"fill_alpha\":{\"field\":\"fill_alpha\"},\"fill_color\":{\"field\":\"color\"},\"height\":{\"field\":\"height\",\"units\":\"data\"},\"line_color\":{\"field\":\"line_color\"},\"width\":{\"field\":\"width\",\"units\":\"data\"},\"x\":{\"field\":\"x\"},\"y\":{\"field\":\"y\"}},\"id\":\"547172af-716d-47c5-98e7-a5746bd4e075\",\"type\":\"Rect\"},{\"attributes\":{\"fill_alpha\":{\"field\":\"fill_alpha\"},\"fill_color\":{\"field\":\"color\"},\"height\":{\"field\":\"height\",\"units\":\"data\"},\"line_color\":{\"field\":\"line_color\"},\"width\":{\"field\":\"width\",\"units\":\"data\"},\"x\":{\"field\":\"x\"},\"y\":{\"field\":\"y\"}},\"id\":\"b57c1813-fbaa-45e1-9049-e14df53c7dae\",\"type\":\"Rect\"},{\"attributes\":{\"fill_alpha\":{\"field\":\"fill_alpha\"},\"fill_color\":{\"field\":\"color\"},\"height\":{\"field\":\"height\",\"units\":\"data\"},\"line_color\":{\"field\":\"line_color\"},\"width\":{\"field\":\"width\",\"units\":\"data\"},\"x\":{\"field\":\"x\"},\"y\":{\"field\":\"y\"}},\"id\":\"0ece8651-f6bd-4c57-a662-4e392ebc6f69\",\"type\":\"Rect\"},{\"attributes\":{\"fill_alpha\":{\"field\":\"fill_alpha\"},\"fill_color\":{\"field\":\"color\"},\"height\":{\"field\":\"height\",\"units\":\"data\"},\"line_color\":{\"field\":\"line_color\"},\"width\":{\"field\":\"width\",\"units\":\"data\"},\"x\":{\"field\":\"x\"},\"y\":{\"field\":\"y\"}},\"id\":\"9d3f1333-889d-42bf-a670-cc0d84c86942\",\"type\":\"Rect\"},{\"attributes\":{\"callback\":null,\"column_names\":[\"line_color\",\"label\",\"width\",\"color\",\"line_alpha\",\"fill_alpha\",\"y\",\"x\",\"height\"],\"data\":{\"chart_index\":[\"(8.2, 8.3]\"],\"color\":[\"#5ab738\"],\"fill_alpha\":[0.6],\"height\":[0.0],\"label\":[\"(8.2, 8.3]\"],\"line_alpha\":[1.0],\"line_color\":[\"black\"],\"width\":[0.117647058823529],\"x\":[\"8.25\"],\"y\":[0.0]}},\"id\":\"3035ee5e-f120-4b17-b8d8-6a812c41f045\",\"type\":\"ColumnDataSource\"},{\"attributes\":{\"callback\":null,\"column_names\":[\"line_color\",\"label\",\"width\",\"color\",\"line_alpha\",\"fill_alpha\",\"y\",\"x\",\"height\"],\"data\":{\"chart_index\":[\"(7.0, 7.2]\"],\"color\":[\"#f22c40\"],\"fill_alpha\":[0.6],\"height\":[199.0],\"label\":[\"(7.0, 7.2]\"],\"line_alpha\":[1.0],\"line_color\":[\"black\"],\"width\":[0.16666666666666607],\"x\":[\"7.1\"],\"y\":[99.5]}},\"id\":\"fa80d1d3-0224-4fcb-bea0-b9b35a23670f\",\"type\":\"ColumnDataSource\"},{\"attributes\":{\"callback\":null,\"column_names\":[\"line_color\",\"label\",\"width\",\"color\",\"line_alpha\",\"fill_alpha\",\"y\",\"x\",\"height\"],\"data\":{\"chart_index\":[\"(4.5, 4.7]\"],\"color\":[\"#f22c40\"],\"fill_alpha\":[0.6],\"height\":[0.0],\"label\":[\"(4.5, 4.7]\"],\"line_alpha\":[1.0],\"line_color\":[\"black\"],\"width\":[0.16666666666666607],\"x\":[\"4.6\"],\"y\":[0.0]}},\"id\":\"176ebc00-4bf4-4193-87d8-98e968646d92\",\"type\":\"ColumnDataSource\"},{\"attributes\":{\"data_source\":{\"id\":\"d3ee7303-e7b2-4e5e-9608-dab7796d8387\",\"type\":\"ColumnDataSource\"},\"glyph\":{\"id\":\"41ab37f6-5305-4242-8628-c3fa949dee17\",\"type\":\"Rect\"},\"hover_glyph\":null,\"nonselection_glyph\":null,\"selection_glyph\":null},\"id\":\"a9fb8d50-1c23-47b0-b81b-9fa8419d1ed7\",\"type\":\"GlyphRenderer\"},{\"attributes\":{\"data_source\":{\"id\":\"9d9f82cf-0edd-469b-b8e6-541261e6e375\",\"type\":\"ColumnDataSource\"},\"glyph\":{\"id\":\"0321f1ac-0859-4080-86ba-8c6b14d62e3a\",\"type\":\"Rect\"},\"hover_glyph\":null,\"nonselection_glyph\":null,\"selection_glyph\":null},\"id\":\"a6c37ca3-408f-425e-8a6f-30434da1e993\",\"type\":\"GlyphRenderer\"},{\"attributes\":{\"callback\":null,\"column_names\":[\"line_color\",\"label\",\"width\",\"color\",\"line_alpha\",\"fill_alpha\",\"y\",\"x\",\"height\"],\"data\":{\"chart_index\":[\"(7.5, 7.6]\"],\"color\":[\"#5ab738\"],\"fill_alpha\":[0.6],\"height\":[0.0],\"label\":[\"(7.5, 7.6]\"],\"line_alpha\":[1.0],\"line_color\":[\"black\"],\"width\":[0.117647058823529],\"x\":[\"7.55\"],\"y\":[0.0]}},\"id\":\"3140664a-a012-4392-ab1b-064564829b6a\",\"type\":\"ColumnDataSource\"},{\"attributes\":{\"fill_alpha\":{\"field\":\"fill_alpha\"},\"fill_color\":{\"field\":\"color\"},\"height\":{\"field\":\"height\",\"units\":\"data\"},\"line_color\":{\"field\":\"line_color\"},\"width\":{\"field\":\"width\",\"units\":\"data\"},\"x\":{\"field\":\"x\"},\"y\":{\"field\":\"y\"}},\"id\":\"41ab37f6-5305-4242-8628-c3fa949dee17\",\"type\":\"Rect\"},{\"attributes\":{\"data_source\":{\"id\":\"dd673d39-7581-4fc9-9483-44ece78a414c\",\"type\":\"ColumnDataSource\"},\"glyph\":{\"id\":\"b297cde4-9d9d-43d8-82c9-61aab418c808\",\"type\":\"Rect\"},\"hover_glyph\":null,\"nonselection_glyph\":null,\"selection_glyph\":null},\"id\":\"ccd33c32-eae7-4ed2-968e-158e90c6f549\",\"type\":\"GlyphRenderer\"}],\"root_ids\":[\"93ff5624-0ca8-41b3-aed7-cb403eb9cfbf\"]},\"title\":\"Bokeh Application\",\"version\":\"0.12.0\"}};\n",
       "            var render_items = [{\"docid\":\"1c10bc28-09bd-4f4f-b819-c966fa956ad2\",\"elementid\":\"14498038-2b5e-42c1-abbe-117fb2459da7\",\"modelid\":\"93ff5624-0ca8-41b3-aed7-cb403eb9cfbf\",\"notebook_comms_target\":\"df4b2883-640b-462e-b037-7f6d7abe00f9\"}];\n",
       "            \n",
       "            Bokeh.embed.embed_items(docs_json, render_items);\n",
       "        });\n",
       "      },\n",
       "      function(Bokeh) {\n",
       "      }\n",
       "    ];\n",
       "  \n",
       "    function run_inline_js() {\n",
       "      for (var i = 0; i < inline_js.length; i++) {\n",
       "        inline_js[i](window.Bokeh);\n",
       "      }\n",
       "    }\n",
       "  \n",
       "    if (window._bokeh_is_loading === 0) {\n",
       "      console.log(\"Bokeh: BokehJS loaded, going straight to plotting\");\n",
       "      run_inline_js();\n",
       "    } else {\n",
       "      load_libs(js_urls, function() {\n",
       "        console.log(\"Bokeh: BokehJS plotting callback run at\", now());\n",
       "        run_inline_js();\n",
       "      });\n",
       "    }\n",
       "  }(this));\n",
       "</script>"
      ]
     },
     "metadata": {},
     "output_type": "display_data"
    },
    {
     "name": "stderr",
     "output_type": "stream",
     "text": [
      "/Users/ericalonas/anaconda/envs/py35/lib/python3.5/site-packages/bokeh/io.py:420: UserWarning: save() called but no resources were supplied and output_file(...) was never called, defaulting to resources.CDN\n",
      "  warnings.warn(\"save() called but no resources were supplied and output_file(...) was never called, defaulting to resources.CDN\")\n"
     ]
    },
    {
     "data": {
      "text/plain": [
       "'/Users/ericalonas/Documents/Insight-Interview/plot1.html'"
      ]
     },
     "execution_count": 8,
     "metadata": {},
     "output_type": "execute_result"
    }
   ],
   "source": [
    "\n",
    "p1 =Histogram(comp_data, values='quality', color='white?',tools='pan, reset, box_zoom')\n",
    "p1.xaxis.minor_tick_line_color=None\n",
    "\n",
    "\n",
    "p2 = Bar(comp_data, values='quality', label='white?', agg='count',tools='pan, reset, box_zoom', legend=None)\n",
    "\n",
    "p = gridplot([[p2,p1]], plot_width=400, plot_height=400)\n",
    "show(p)\n",
    "bplt.save(p,filename = 'plot1.html', title = 'Red/White Wine Descriptive Graphs')\n"
   ]
  },
  {
   "cell_type": "markdown",
   "metadata": {
    "collapsed": false
   },
   "source": [
    "# In depth with each parameter"
   ]
  },
  {
   "cell_type": "code",
   "execution_count": 10,
   "metadata": {
    "collapsed": false
   },
   "outputs": [],
   "source": [
    "import itertools"
   ]
  },
  {
   "cell_type": "code",
   "execution_count": 11,
   "metadata": {
    "collapsed": false
   },
   "outputs": [
    {
     "data": {
      "text/html": [
       "\n",
       "\n",
       "    <div class=\"bk-root\">\n",
       "        <div class=\"plotdiv\" id=\"63beae99-246b-4af8-8edf-4c293abe820d\"></div>\n",
       "    </div>\n",
       "<script type=\"text/javascript\">\n",
       "  \n",
       "  (function(global) {\n",
       "    function now() {\n",
       "      return new Date();\n",
       "    }\n",
       "  \n",
       "    if (typeof (window._bokeh_onload_callbacks) === \"undefined\") {\n",
       "      window._bokeh_onload_callbacks = [];\n",
       "    }\n",
       "  \n",
       "    function run_callbacks() {\n",
       "      window._bokeh_onload_callbacks.forEach(function(callback) { callback() });\n",
       "      delete window._bokeh_onload_callbacks\n",
       "      console.info(\"Bokeh: all callbacks have finished\");\n",
       "    }\n",
       "  \n",
       "    function load_libs(js_urls, callback) {\n",
       "      window._bokeh_onload_callbacks.push(callback);\n",
       "      if (window._bokeh_is_loading > 0) {\n",
       "        console.log(\"Bokeh: BokehJS is being loaded, scheduling callback at\", now());\n",
       "        return null;\n",
       "      }\n",
       "      if (js_urls == null || js_urls.length === 0) {\n",
       "        run_callbacks();\n",
       "        return null;\n",
       "      }\n",
       "      console.log(\"Bokeh: BokehJS not loaded, scheduling load and callback at\", now());\n",
       "      window._bokeh_is_loading = js_urls.length;\n",
       "      for (var i = 0; i < js_urls.length; i++) {\n",
       "        var url = js_urls[i];\n",
       "        var s = document.createElement('script');\n",
       "        s.src = url;\n",
       "        s.async = false;\n",
       "        s.onreadystatechange = s.onload = function() {\n",
       "          window._bokeh_is_loading--;\n",
       "          if (window._bokeh_is_loading === 0) {\n",
       "            console.log(\"Bokeh: all BokehJS libraries loaded\");\n",
       "            run_callbacks()\n",
       "          }\n",
       "        };\n",
       "        s.onerror = function() {\n",
       "          console.warn(\"failed to load library \" + url);\n",
       "        };\n",
       "        console.log(\"Bokeh: injecting script tag for BokehJS library: \", url);\n",
       "        document.getElementsByTagName(\"head\")[0].appendChild(s);\n",
       "      }\n",
       "    };var element = document.getElementById(\"63beae99-246b-4af8-8edf-4c293abe820d\");\n",
       "    if (element == null) {\n",
       "      console.log(\"Bokeh: ERROR: autoload.js configured with elementid '63beae99-246b-4af8-8edf-4c293abe820d' but no matching script tag was found. \")\n",
       "      return false;\n",
       "    }\n",
       "  \n",
       "    var js_urls = [];\n",
       "  \n",
       "    var inline_js = [\n",
       "      function(Bokeh) {\n",
       "        Bokeh.$(function() {\n",
       "            var docs_json = {\"68339829-e67a-434b-8b6b-2cbc59b0907f\":{\"roots\":{\"references\":[{\"attributes\":{\"callback\":null,\"column_names\":[\"y\",\"x\"],\"data\":{\"x\":[3.0,4.0,5.0,6.0,7.0,8.0,9.0],\"y\":[0.3042331288343557,0.3256250000000004,0.3265142857142858,0.33599999999999997,0.33765271105010347,0.33802547770700614,0.386]}},\"id\":\"41ba1fef-12e0-48b7-beb4-3d661170e665\",\"type\":\"ColumnDataSource\"},{\"attributes\":{\"callback\":null},\"id\":\"8eb071ef-ce8d-4544-b95a-3e310613db6d\",\"type\":\"DataRange1d\"},{\"attributes\":{\"plot\":null,\"text\":\"mean citric acid vs. quality\"},\"id\":\"c7b3cc04-a69a-43e6-8844-47c71be81b70\",\"type\":\"Title\"},{\"attributes\":{\"plot\":{\"id\":\"86cd4e46-fc72-4726-b96a-6c1610449e7a\",\"subtype\":\"Figure\",\"type\":\"Plot\"},\"ticker\":{\"id\":\"86de078d-cfac-414f-b879-780e94c7fa85\",\"type\":\"BasicTicker\"}},\"id\":\"1e1fda2f-78ab-4393-a955-012e9985c201\",\"type\":\"Grid\"},{\"attributes\":{\"line_alpha\":{\"value\":0.1},\"line_color\":{\"value\":\"#1f77b4\"},\"x\":{\"field\":\"x\"},\"y\":{\"field\":\"y\"}},\"id\":\"79f55bd8-d2cc-4160-bce6-90920cb90af5\",\"type\":\"Line\"},{\"attributes\":{\"legends\":[[\"white\",[{\"id\":\"7e155295-597f-4b28-bd5b-f69d46c8d2be\",\"type\":\"GlyphRenderer\"}]],[\"red\",[{\"id\":\"13ead3e4-3159-470e-b4f9-3811a6ff0bd3\",\"type\":\"GlyphRenderer\"}]]],\"location\":\"top_left\",\"plot\":{\"id\":\"86cd4e46-fc72-4726-b96a-6c1610449e7a\",\"subtype\":\"Figure\",\"type\":\"Plot\"}},\"id\":\"a4708989-fed5-47fb-a90f-59ff1a9d788c\",\"type\":\"Legend\"},{\"attributes\":{\"callback\":null},\"id\":\"554f862e-f934-41d8-b7fe-682abf13d8ff\",\"type\":\"DataRange1d\"},{\"attributes\":{\"dimension\":1,\"plot\":{\"id\":\"86cd4e46-fc72-4726-b96a-6c1610449e7a\",\"subtype\":\"Figure\",\"type\":\"Plot\"},\"ticker\":{\"id\":\"7deb181c-44b4-427a-a792-80fcad45d7f5\",\"type\":\"BasicTicker\"}},\"id\":\"14ed8785-9e8e-4a3a-893e-73c996cd72e8\",\"type\":\"Grid\"},{\"attributes\":{\"dimension\":1,\"plot\":{\"id\":\"77e8e66b-5fd4-4ab5-8096-b5f7f490cae6\",\"subtype\":\"Figure\",\"type\":\"Plot\"},\"ticker\":{\"id\":\"7aba808b-8613-476d-a7bb-92403f59242c\",\"type\":\"BasicTicker\"}},\"id\":\"9830a55c-0032-4435-ae67-9b13cdc74f6b\",\"type\":\"Grid\"},{\"attributes\":{},\"id\":\"174639bd-b07a-40a1-9ef1-cdbc7c3e8231\",\"type\":\"BasicTickFormatter\"},{\"attributes\":{\"callback\":null,\"column_names\":[\"y\",\"x\"],\"data\":{\"x\":[3.0,4.0,5.0,6.0,7.0,8.0,9.0],\"y\":[6.6571428571428575,6.7347159090909114,6.837670609645139,6.933973919011666,7.129447852760731,7.42,7.599999999999999]}},\"id\":\"c64bf151-386c-498e-b2b0-e41a2bba9b13\",\"type\":\"ColumnDataSource\"},{\"attributes\":{\"callback\":null,\"plot\":{\"id\":\"8c9a2794-187b-4e21-801e-96bdd795615c\",\"subtype\":\"Figure\",\"type\":\"Plot\"}},\"id\":\"89771507-5c53-4a62-8fca-e42543bf6130\",\"type\":\"HoverTool\"},{\"attributes\":{\"line_color\":{\"value\":\"red\"},\"x\":{\"field\":\"x\"},\"y\":{\"field\":\"y\"}},\"id\":\"33e0c60e-b878-4a87-81c0-ddac5a7cb09b\",\"type\":\"Line\"},{\"attributes\":{},\"id\":\"c9ca9321-8b73-4782-9e5e-14874b73d753\",\"type\":\"BasicTickFormatter\"},{\"attributes\":{\"data_source\":{\"id\":\"c64bf151-386c-498e-b2b0-e41a2bba9b13\",\"type\":\"ColumnDataSource\"},\"glyph\":{\"id\":\"5e425fb5-1b66-49e9-9e56-e8c957e84917\",\"type\":\"Line\"},\"hover_glyph\":null,\"nonselection_glyph\":{\"id\":\"665db375-47e3-43fb-82df-88dc2f5d5926\",\"type\":\"Line\"},\"selection_glyph\":null},\"id\":\"65846dec-997f-4040-9a7b-45d2ef62ad58\",\"type\":\"GlyphRenderer\"},{\"attributes\":{},\"id\":\"c5d5f95f-2790-42e2-8076-96d82ee302a1\",\"type\":\"ToolEvents\"},{\"attributes\":{},\"id\":\"717644e0-c964-4ebb-bf00-f09399b08ce9\",\"type\":\"BasicTicker\"},{\"attributes\":{\"children\":[{\"id\":\"ae906e3a-89e7-4545-a040-e88ba6647a33\",\"type\":\"Row\"},{\"id\":\"52e1af65-fbd4-4d98-8763-c0ed630c9c55\",\"type\":\"Row\"}]},\"id\":\"a7a3df39-b8e4-4c1d-acef-7cca564ca33a\",\"type\":\"Column\"},{\"attributes\":{\"data_source\":{\"id\":\"41ba1fef-12e0-48b7-beb4-3d661170e665\",\"type\":\"ColumnDataSource\"},\"glyph\":{\"id\":\"24b95e42-9362-43f5-b20d-e06fa3f0c0dd\",\"type\":\"Line\"},\"hover_glyph\":null,\"nonselection_glyph\":{\"id\":\"5633f3cf-5255-4c1b-96b2-c0aedca77e0c\",\"type\":\"Line\"},\"selection_glyph\":null},\"id\":\"e052ac66-086d-437e-b17e-1005af04bda9\",\"type\":\"GlyphRenderer\"},{\"attributes\":{},\"id\":\"4ac962b2-1351-46ce-890a-6f6dd54f51bd\",\"type\":\"ToolEvents\"},{\"attributes\":{\"legends\":[[\"white\",[{\"id\":\"10127e8b-21f7-4db4-b2e9-bf33201c7eca\",\"type\":\"GlyphRenderer\"}]],[\"red\",[{\"id\":\"56f8a428-a3b0-4461-8661-b158c42cd97e\",\"type\":\"GlyphRenderer\"}]]],\"location\":\"top_left\",\"plot\":{\"id\":\"cde03e32-2d10-4482-b669-408a7f680816\",\"subtype\":\"Figure\",\"type\":\"Plot\"}},\"id\":\"0f5d43f6-2d00-4e95-a393-818dd67d1203\",\"type\":\"Legend\"},{\"attributes\":{\"data_source\":{\"id\":\"66df71ce-9373-455f-9e28-263776d01ab5\",\"type\":\"ColumnDataSource\"},\"glyph\":{\"id\":\"d730886e-b5f0-4388-8540-abd52bc870bb\",\"type\":\"Line\"},\"hover_glyph\":null,\"nonselection_glyph\":{\"id\":\"943e2668-312f-46ec-9f86-1faf39a3f909\",\"type\":\"Line\"},\"selection_glyph\":null},\"id\":\"7e155295-597f-4b28-bd5b-f69d46c8d2be\",\"type\":\"GlyphRenderer\"},{\"attributes\":{},\"id\":\"d1e6ebcd-3aa2-48d3-b7cb-59ce9f6172ab\",\"type\":\"BasicTickFormatter\"},{\"attributes\":{\"callback\":null,\"plot\":{\"id\":\"77e8e66b-5fd4-4ab5-8096-b5f7f490cae6\",\"subtype\":\"Figure\",\"type\":\"Plot\"}},\"id\":\"e6b8c623-b70a-4fcb-9b3a-65ee478a3d8d\",\"type\":\"HoverTool\"},{\"attributes\":{\"line_color\":{\"value\":\"green\"},\"x\":{\"field\":\"x\"},\"y\":{\"field\":\"y\"}},\"id\":\"ad94be39-2a4a-433f-93d6-98c9dfc383af\",\"type\":\"Line\"},{\"attributes\":{\"plot\":{\"id\":\"86cd4e46-fc72-4726-b96a-6c1610449e7a\",\"subtype\":\"Figure\",\"type\":\"Plot\"}},\"id\":\"7b558fa3-9dcb-4687-bf8e-e775eed09dc1\",\"type\":\"ResetTool\"},{\"attributes\":{},\"id\":\"653e977d-b823-4582-bdee-ea4323e1eebc\",\"type\":\"BasicTickFormatter\"},{\"attributes\":{\"line_color\":{\"value\":\"green\"},\"x\":{\"field\":\"x\"},\"y\":{\"field\":\"y\"}},\"id\":\"5e425fb5-1b66-49e9-9e56-e8c957e84917\",\"type\":\"Line\"},{\"attributes\":{\"callback\":null,\"column_names\":[\"y\",\"x\"],\"data\":{\"x\":[3.0,4.0,5.0,6.0,7.0,8.0,9.0],\"y\":[0.0274,0.0381909090909091,0.03831428571428572,0.04521747042766181,0.05009815950920243,0.0515463280713795,0.054300000000000015]}},\"id\":\"044c4ce0-e953-49ff-b411-0703af558fd2\",\"type\":\"ColumnDataSource\"},{\"attributes\":{\"line_alpha\":{\"value\":0.1},\"line_color\":{\"value\":\"#1f77b4\"},\"x\":{\"field\":\"x\"},\"y\":{\"field\":\"y\"}},\"id\":\"8192eb27-d178-410e-ad3f-ca1b04bd4f5e\",\"type\":\"Line\"},{\"attributes\":{},\"id\":\"6544f957-cebb-4560-aae3-3c47b2d99c9f\",\"type\":\"BasicTicker\"},{\"attributes\":{\"axis_label\":\"chlorides\",\"formatter\":{\"id\":\"6a1f29a0-c580-4060-8fb1-29ea4ded4a9b\",\"type\":\"BasicTickFormatter\"},\"plot\":{\"id\":\"cde03e32-2d10-4482-b669-408a7f680816\",\"subtype\":\"Figure\",\"type\":\"Plot\"},\"ticker\":{\"id\":\"368c179c-0fe8-4585-a235-97bc2f791c43\",\"type\":\"BasicTicker\"}},\"id\":\"cf4d4c27-603e-4287-ad67-a0bdc6a8c50c\",\"type\":\"LinearAxis\"},{\"attributes\":{\"active_drag\":\"auto\",\"active_scroll\":\"auto\",\"active_tap\":\"auto\",\"tools\":[{\"id\":\"a3829caa-f6de-4ea6-b6d1-0363e5131e4f\",\"type\":\"HoverTool\"},{\"id\":\"7b558fa3-9dcb-4687-bf8e-e775eed09dc1\",\"type\":\"ResetTool\"},{\"id\":\"c7dfabd6-dfef-4635-8ed1-514f8a923a30\",\"type\":\"CrosshairTool\"}]},\"id\":\"6d8d389d-3339-42bb-8641-472ecd9911cc\",\"type\":\"Toolbar\"},{\"attributes\":{\"line_alpha\":{\"value\":0.1},\"line_color\":{\"value\":\"#1f77b4\"},\"x\":{\"field\":\"x\"},\"y\":{\"field\":\"y\"}},\"id\":\"943e2668-312f-46ec-9f86-1faf39a3f909\",\"type\":\"Line\"},{\"attributes\":{\"callback\":null,\"column_names\":[\"y\",\"x\"],\"data\":{\"x\":[3.0,4.0,5.0,6.0,7.0,8.0,9.0],\"y\":[0.17099999999999999,0.1741509433962264,0.24368575624082198,0.2738244514106587,0.37517587939698493,0.39111111111111113,\"NaN\"]}},\"id\":\"df9db3ab-e4d5-45f4-81fc-fcb7ef638a67\",\"type\":\"ColumnDataSource\"},{\"attributes\":{\"plot\":null,\"text\":\"mean volatile acidity vs. quality\"},\"id\":\"4c7f44b8-4d4d-455a-99cd-082dc4206a17\",\"type\":\"Title\"},{\"attributes\":{\"line_alpha\":{\"value\":0.1},\"line_color\":{\"value\":\"#1f77b4\"},\"x\":{\"field\":\"x\"},\"y\":{\"field\":\"y\"}},\"id\":\"03ee96f1-2218-44eb-816e-a7190a449e8e\",\"type\":\"Line\"},{\"attributes\":{\"callback\":null,\"column_names\":[\"y\",\"x\"],\"data\":{\"x\":[3.0,4.0,5.0,6.0,7.0,8.0,9.0],\"y\":[11.0,12.264150943396226,13.277777777777779,14.045226130653266,15.711598746081505,16.983847283406753,\"NaN\"]}},\"id\":\"41811bd0-0b1f-4638-91ca-f591bb9db34a\",\"type\":\"ColumnDataSource\"},{\"attributes\":{\"axis_label\":\"free sulfur dioxide\",\"formatter\":{\"id\":\"accdc51c-2182-47c9-8272-7412e2008d5d\",\"type\":\"BasicTickFormatter\"},\"plot\":{\"id\":\"f2f50b5e-22f8-4ee2-9754-07f6a445cfd3\",\"subtype\":\"Figure\",\"type\":\"Plot\"},\"ticker\":{\"id\":\"717644e0-c964-4ebb-bf00-f09399b08ce9\",\"type\":\"BasicTicker\"}},\"id\":\"a3d0ad46-a174-4bd4-8fbf-60214d32d210\",\"type\":\"LinearAxis\"},{\"attributes\":{\"plot\":{\"id\":\"c53beab1-9939-48c0-88d0-2310fd73087e\",\"subtype\":\"Figure\",\"type\":\"Plot\"},\"ticker\":{\"id\":\"748a682c-a31a-411b-8737-a704a24d7995\",\"type\":\"BasicTicker\"}},\"id\":\"eeeb69d0-527b-408f-b5ce-d8e8224ae053\",\"type\":\"Grid\"},{\"attributes\":{\"callback\":null,\"column_names\":[\"y\",\"x\"],\"data\":{\"x\":[3.0,4.0,5.0,6.0,7.0,8.0,9.0],\"y\":[2.477194357366772,2.528854625550658,2.5777777777777775,2.6350000000000002,2.69433962264151,2.7206030150753793,\"NaN\"]}},\"id\":\"a7a49f63-2647-436b-9bfd-63fad84a9212\",\"type\":\"ColumnDataSource\"},{\"attributes\":{\"active_drag\":\"auto\",\"active_scroll\":\"auto\",\"active_tap\":\"auto\",\"tools\":[{\"id\":\"fd9570e0-80d2-41ec-a1fe-ee00c6c17405\",\"type\":\"HoverTool\"},{\"id\":\"c9489fd6-77d0-4ed3-b048-6e6cfd61e91b\",\"type\":\"ResetTool\"},{\"id\":\"1f2aa1cf-dc1b-4e3f-a7dc-e465c63d04ab\",\"type\":\"CrosshairTool\"}]},\"id\":\"90c18d29-4c4c-445a-9b77-c65b6c15c720\",\"type\":\"Toolbar\"},{\"attributes\":{\"plot\":{\"id\":\"cde03e32-2d10-4482-b669-408a7f680816\",\"subtype\":\"Figure\",\"type\":\"Plot\"}},\"id\":\"2b137415-4f0e-4b3c-8c5b-0aa4d3afa34d\",\"type\":\"CrosshairTool\"},{\"attributes\":{\"plot\":{\"id\":\"8c9a2794-187b-4e21-801e-96bdd795615c\",\"subtype\":\"Figure\",\"type\":\"Plot\"}},\"id\":\"0b6c9d48-f063-4228-98f7-6be5b5997b2f\",\"type\":\"ResetTool\"},{\"attributes\":{\"line_color\":{\"value\":\"red\"},\"x\":{\"field\":\"x\"},\"y\":{\"field\":\"y\"}},\"id\":\"48d06d45-5926-4b4e-807e-341b455059b7\",\"type\":\"Line\"},{\"attributes\":{\"plot\":{\"id\":\"f2f50b5e-22f8-4ee2-9754-07f6a445cfd3\",\"subtype\":\"Figure\",\"type\":\"Plot\"},\"ticker\":{\"id\":\"a9282630-ddd0-4039-acb8-d9c0d8154b70\",\"type\":\"BasicTicker\"}},\"id\":\"2adcacf3-e025-4aee-aa90-8989174068d4\",\"type\":\"Grid\"},{\"attributes\":{\"plot\":{\"id\":\"8c9a2794-187b-4e21-801e-96bdd795615c\",\"subtype\":\"Figure\",\"type\":\"Plot\"},\"ticker\":{\"id\":\"01fd5c69-73a9-42fe-a116-3d3b81ba4814\",\"type\":\"BasicTicker\"}},\"id\":\"189d47ea-94f9-479e-beb7-e9fbb005d243\",\"type\":\"Grid\"},{\"attributes\":{\"callback\":null,\"column_names\":[\"y\",\"x\"],\"data\":{\"x\":[3.0,4.0,5.0,6.0,7.0,8.0,9.0],\"y\":[23.358895705521473,33.4,34.12556818181818,35.65059144676979,36.432052161976664,36.72,53.325]}},\"id\":\"3ced5d5e-e07f-44d3-a39d-6034ef9c9089\",\"type\":\"ColumnDataSource\"},{\"attributes\":{\"below\":[{\"id\":\"155b6e1f-7b42-4e4e-863c-7ba480fec15d\",\"type\":\"LinearAxis\"}],\"left\":[{\"id\":\"813bca4b-50bc-423b-b600-0dbe1bd1fe6b\",\"type\":\"LinearAxis\"}],\"plot_height\":300,\"plot_width\":300,\"renderers\":[{\"id\":\"155b6e1f-7b42-4e4e-863c-7ba480fec15d\",\"type\":\"LinearAxis\"},{\"id\":\"1e1fda2f-78ab-4393-a955-012e9985c201\",\"type\":\"Grid\"},{\"id\":\"813bca4b-50bc-423b-b600-0dbe1bd1fe6b\",\"type\":\"LinearAxis\"},{\"id\":\"14ed8785-9e8e-4a3a-893e-73c996cd72e8\",\"type\":\"Grid\"},{\"id\":\"a4708989-fed5-47fb-a90f-59ff1a9d788c\",\"type\":\"Legend\"},{\"id\":\"7e155295-597f-4b28-bd5b-f69d46c8d2be\",\"type\":\"GlyphRenderer\"},{\"id\":\"13ead3e4-3159-470e-b4f9-3811a6ff0bd3\",\"type\":\"GlyphRenderer\"}],\"title\":{\"id\":\"c9a10449-aa1c-46ab-a4bc-0fb3aa5bea2a\",\"type\":\"Title\"},\"tool_events\":{\"id\":\"8c11bde5-27ad-4730-a929-f6ec0d707ea4\",\"type\":\"ToolEvents\"},\"toolbar\":{\"id\":\"6d8d389d-3339-42bb-8641-472ecd9911cc\",\"type\":\"Toolbar\"},\"toolbar_location\":null,\"x_range\":{\"id\":\"8c4fd777-5424-4469-a094-66d43ada414f\",\"type\":\"DataRange1d\"},\"y_range\":{\"id\":\"36f484f8-304a-47c0-95c3-526e6e4fa187\",\"type\":\"DataRange1d\"}},\"id\":\"86cd4e46-fc72-4726-b96a-6c1610449e7a\",\"subtype\":\"Figure\",\"type\":\"Plot\"},{\"attributes\":{\"callback\":null,\"column_names\":[\"y\",\"x\"],\"data\":{\"x\":[3.0,4.0,5.0,6.0,7.0,8.0,9.0],\"y\":[7.779245283018868,8.167254038179149,8.347178683385575,8.36,8.566666666666665,8.872361809045225,\"NaN\"]}},\"id\":\"d98c04da-52a3-43aa-98fd-5413ad8f125a\",\"type\":\"ColumnDataSource\"},{\"attributes\":{\"callback\":null},\"id\":\"94eb47eb-d1d4-4cac-9ae1-efde325aa6f5\",\"type\":\"DataRange1d\"},{\"attributes\":{\"plot\":{\"id\":\"c53beab1-9939-48c0-88d0-2310fd73087e\",\"subtype\":\"Figure\",\"type\":\"Plot\"}},\"id\":\"c9489fd6-77d0-4ed3-b048-6e6cfd61e91b\",\"type\":\"ResetTool\"},{\"attributes\":{\"plot\":{\"id\":\"f2f50b5e-22f8-4ee2-9754-07f6a445cfd3\",\"subtype\":\"Figure\",\"type\":\"Plot\"}},\"id\":\"931a706c-b569-44c5-abc3-5ecade1a8049\",\"type\":\"ResetTool\"},{\"attributes\":{\"data_source\":{\"id\":\"d98c04da-52a3-43aa-98fd-5413ad8f125a\",\"type\":\"ColumnDataSource\"},\"glyph\":{\"id\":\"7d35a3bb-0a17-4a90-a9bb-8e2123821b34\",\"type\":\"Line\"},\"hover_glyph\":null,\"nonselection_glyph\":{\"id\":\"1b210a27-c763-40e7-9d77-1f5cf0af0e4b\",\"type\":\"Line\"},\"selection_glyph\":null},\"id\":\"ce404689-124e-4e75-aac0-81a31f6ab506\",\"type\":\"GlyphRenderer\"},{\"attributes\":{\"plot\":null,\"text\":\"mean fixed acidity vs. quality\"},\"id\":\"df15cd61-8b40-4219-a40b-f8ccbd519897\",\"type\":\"Title\"},{\"attributes\":{\"plot\":null,\"text\":\"mean free sulfur dioxide vs. quality\"},\"id\":\"c2d7a8f1-4172-4915-8489-0cd3cc6f859c\",\"type\":\"Title\"},{\"attributes\":{\"callback\":null,\"plot\":{\"id\":\"c53beab1-9939-48c0-88d0-2310fd73087e\",\"subtype\":\"Figure\",\"type\":\"Plot\"}},\"id\":\"fd9570e0-80d2-41ec-a1fe-ee00c6c17405\",\"type\":\"HoverTool\"},{\"attributes\":{\"callback\":null},\"id\":\"8c4fd777-5424-4469-a094-66d43ada414f\",\"type\":\"DataRange1d\"},{\"attributes\":{\"line_color\":{\"value\":\"red\"},\"x\":{\"field\":\"x\"},\"y\":{\"field\":\"y\"}},\"id\":\"a969dabe-8e50-42af-bef4-87417b448cb5\",\"type\":\"Line\"},{\"attributes\":{\"line_alpha\":{\"value\":0.1},\"line_color\":{\"value\":\"#1f77b4\"},\"x\":{\"field\":\"x\"},\"y\":{\"field\":\"y\"}},\"id\":\"d8fd8403-5ba1-465c-a9e1-3ce091369f23\",\"type\":\"Line\"},{\"attributes\":{\"callback\":null,\"column_names\":[\"y\",\"x\"],\"data\":{\"x\":[3.0,4.0,5.0,6.0,7.0,8.0,9.0],\"y\":[0.06844444444444445,0.07658793969849244,0.08495611285266458,0.09067924528301885,0.09273568281938328,0.12250000000000001,\"NaN\"]}},\"id\":\"0d78d7ae-5785-4e36-9f85-5e69b01f2879\",\"type\":\"ColumnDataSource\"},{\"attributes\":{\"data_source\":{\"id\":\"044c4ce0-e953-49ff-b411-0703af558fd2\",\"type\":\"ColumnDataSource\"},\"glyph\":{\"id\":\"bf99d811-e831-40bb-868b-dd8b4676a02f\",\"type\":\"Line\"},\"hover_glyph\":null,\"nonselection_glyph\":{\"id\":\"d8fd8403-5ba1-465c-a9e1-3ce091369f23\",\"type\":\"Line\"},\"selection_glyph\":null},\"id\":\"10127e8b-21f7-4db4-b2e9-bf33201c7eca\",\"type\":\"GlyphRenderer\"},{\"attributes\":{\"axis_label\":\"quality\",\"formatter\":{\"id\":\"653e977d-b823-4582-bdee-ea4323e1eebc\",\"type\":\"BasicTickFormatter\"},\"plot\":{\"id\":\"cde03e32-2d10-4482-b669-408a7f680816\",\"subtype\":\"Figure\",\"type\":\"Plot\"},\"ticker\":{\"id\":\"de494945-966b-40d0-afee-e7c4ec84758c\",\"type\":\"BasicTicker\"}},\"id\":\"279ed69f-8b6e-4a02-8a4e-af0824cbd00f\",\"type\":\"LinearAxis\"},{\"attributes\":{\"line_color\":{\"value\":\"red\"},\"x\":{\"field\":\"x\"},\"y\":{\"field\":\"y\"}},\"id\":\"9b545cf7-0350-4210-9338-60f079479616\",\"type\":\"Line\"},{\"attributes\":{\"axis_label\":\"citric acid\",\"formatter\":{\"id\":\"174639bd-b07a-40a1-9ef1-cdbc7c3e8231\",\"type\":\"BasicTickFormatter\"},\"plot\":{\"id\":\"8c9a2794-187b-4e21-801e-96bdd795615c\",\"subtype\":\"Figure\",\"type\":\"Plot\"},\"ticker\":{\"id\":\"6544f957-cebb-4560-aae3-3c47b2d99c9f\",\"type\":\"BasicTicker\"}},\"id\":\"ccfeffa8-6266-4492-9128-8a847ef0f9b2\",\"type\":\"LinearAxis\"},{\"attributes\":{},\"id\":\"a9282630-ddd0-4039-acb8-d9c0d8154b70\",\"type\":\"BasicTicker\"},{\"attributes\":{\"line_color\":{\"value\":\"green\"},\"x\":{\"field\":\"x\"},\"y\":{\"field\":\"y\"}},\"id\":\"24b95e42-9362-43f5-b20d-e06fa3f0c0dd\",\"type\":\"Line\"},{\"attributes\":{\"line_color\":{\"value\":\"red\"},\"x\":{\"field\":\"x\"},\"y\":{\"field\":\"y\"}},\"id\":\"cc73f70b-9242-4343-b718-56a3b0318ad2\",\"type\":\"Line\"},{\"attributes\":{\"callback\":null,\"plot\":{\"id\":\"86cd4e46-fc72-4726-b96a-6c1610449e7a\",\"subtype\":\"Figure\",\"type\":\"Plot\"}},\"id\":\"a3829caa-f6de-4ea6-b6d1-0363e5131e4f\",\"type\":\"HoverTool\"},{\"attributes\":{\"callback\":null},\"id\":\"d8814055-2df0-4890-a048-ea38fcc040fe\",\"type\":\"DataRange1d\"},{\"attributes\":{\"data_source\":{\"id\":\"0d78d7ae-5785-4e36-9f85-5e69b01f2879\",\"type\":\"ColumnDataSource\"},\"glyph\":{\"id\":\"33e0c60e-b878-4a87-81c0-ddac5a7cb09b\",\"type\":\"Line\"},\"hover_glyph\":null,\"nonselection_glyph\":{\"id\":\"1a6231ae-d494-4c96-8875-cd0eacecbc85\",\"type\":\"Line\"},\"selection_glyph\":null},\"id\":\"56f8a428-a3b0-4461-8661-b158c42cd97e\",\"type\":\"GlyphRenderer\"},{\"attributes\":{},\"id\":\"511d0792-f369-42a1-a979-55369a727670\",\"type\":\"BasicTickFormatter\"},{\"attributes\":{\"line_alpha\":{\"value\":0.1},\"line_color\":{\"value\":\"#1f77b4\"},\"x\":{\"field\":\"x\"},\"y\":{\"field\":\"y\"}},\"id\":\"5633f3cf-5255-4c1b-96b2-c0aedca77e0c\",\"type\":\"Line\"},{\"attributes\":{},\"id\":\"129215cc-af55-4671-b0a4-449a1a65a3a6\",\"type\":\"BasicTickFormatter\"},{\"attributes\":{},\"id\":\"f55d869b-cbec-43d1-b5b6-3d2c58165bc6\",\"type\":\"ToolEvents\"},{\"attributes\":{},\"id\":\"748a682c-a31a-411b-8737-a704a24d7995\",\"type\":\"BasicTicker\"},{\"attributes\":{\"plot\":{\"id\":\"f2f50b5e-22f8-4ee2-9754-07f6a445cfd3\",\"subtype\":\"Figure\",\"type\":\"Plot\"}},\"id\":\"e86f3402-af61-4cb5-b9ed-60dc7d21b33d\",\"type\":\"CrosshairTool\"},{\"attributes\":{\"plot\":{\"id\":\"8c9a2794-187b-4e21-801e-96bdd795615c\",\"subtype\":\"Figure\",\"type\":\"Plot\"}},\"id\":\"5bdf8cb3-4e21-445c-83f4-6a003cad8229\",\"type\":\"CrosshairTool\"},{\"attributes\":{},\"id\":\"7deb181c-44b4-427a-a792-80fcad45d7f5\",\"type\":\"BasicTicker\"},{\"attributes\":{\"legends\":[[\"white\",[{\"id\":\"e052ac66-086d-437e-b17e-1005af04bda9\",\"type\":\"GlyphRenderer\"}]],[\"red\",[{\"id\":\"b5ba4433-93e5-4b0f-8d9e-5ec0af3c6a46\",\"type\":\"GlyphRenderer\"}]]],\"location\":\"top_left\",\"plot\":{\"id\":\"8c9a2794-187b-4e21-801e-96bdd795615c\",\"subtype\":\"Figure\",\"type\":\"Plot\"}},\"id\":\"8ca2e7fe-8fc9-4ced-98c0-0c213a79b76b\",\"type\":\"Legend\"},{\"attributes\":{\"active_drag\":\"auto\",\"active_scroll\":\"auto\",\"active_tap\":\"auto\",\"tools\":[{\"id\":\"89771507-5c53-4a62-8fca-e42543bf6130\",\"type\":\"HoverTool\"},{\"id\":\"0b6c9d48-f063-4228-98f7-6be5b5997b2f\",\"type\":\"ResetTool\"},{\"id\":\"5bdf8cb3-4e21-445c-83f4-6a003cad8229\",\"type\":\"CrosshairTool\"}]},\"id\":\"4f9bc276-7fd9-4423-803f-c818c836e9fa\",\"type\":\"Toolbar\"},{\"attributes\":{\"below\":[{\"id\":\"6b19ab07-ecd4-488b-a424-900e6be248d6\",\"type\":\"LinearAxis\"}],\"left\":[{\"id\":\"a3d0ad46-a174-4bd4-8fbf-60214d32d210\",\"type\":\"LinearAxis\"}],\"plot_height\":300,\"plot_width\":300,\"renderers\":[{\"id\":\"6b19ab07-ecd4-488b-a424-900e6be248d6\",\"type\":\"LinearAxis\"},{\"id\":\"2adcacf3-e025-4aee-aa90-8989174068d4\",\"type\":\"Grid\"},{\"id\":\"a3d0ad46-a174-4bd4-8fbf-60214d32d210\",\"type\":\"LinearAxis\"},{\"id\":\"84229864-0d91-4e43-b4c6-ea7cc9b41275\",\"type\":\"Grid\"},{\"id\":\"06932c70-76c7-4296-8ffe-ffc50515adaf\",\"type\":\"Legend\"},{\"id\":\"c404f0ff-d82d-460b-908d-460380bddb7a\",\"type\":\"GlyphRenderer\"},{\"id\":\"6241a7c8-2245-43fe-905b-bc256487e29c\",\"type\":\"GlyphRenderer\"}],\"title\":{\"id\":\"c2d7a8f1-4172-4915-8489-0cd3cc6f859c\",\"type\":\"Title\"},\"tool_events\":{\"id\":\"f55d869b-cbec-43d1-b5b6-3d2c58165bc6\",\"type\":\"ToolEvents\"},\"toolbar\":{\"id\":\"7e68d145-bcc4-439b-9e6a-e6dc711c155d\",\"type\":\"Toolbar\"},\"toolbar_location\":null,\"x_range\":{\"id\":\"11588a9d-a658-4c68-98ee-b34bf3d4f6f7\",\"type\":\"DataRange1d\"},\"y_range\":{\"id\":\"b14c6f28-4f0a-486f-8a0e-5292bbdde020\",\"type\":\"DataRange1d\"}},\"id\":\"f2f50b5e-22f8-4ee2-9754-07f6a445cfd3\",\"subtype\":\"Figure\",\"type\":\"Plot\"},{\"attributes\":{\"plot\":{\"id\":\"c53beab1-9939-48c0-88d0-2310fd73087e\",\"subtype\":\"Figure\",\"type\":\"Plot\"}},\"id\":\"1f2aa1cf-dc1b-4e3f-a7dc-e465c63d04ab\",\"type\":\"CrosshairTool\"},{\"attributes\":{\"plot\":null,\"text\":\"mean chlorides vs. quality\"},\"id\":\"4c59e279-bcd6-4e83-ba64-82662d117a2b\",\"type\":\"Title\"},{\"attributes\":{\"data_source\":{\"id\":\"a7a49f63-2647-436b-9bfd-63fad84a9212\",\"type\":\"ColumnDataSource\"},\"glyph\":{\"id\":\"cc73f70b-9242-4343-b718-56a3b0318ad2\",\"type\":\"Line\"},\"hover_glyph\":null,\"nonselection_glyph\":{\"id\":\"03ee96f1-2218-44eb-816e-a7190a449e8e\",\"type\":\"Line\"},\"selection_glyph\":null},\"id\":\"13ead3e4-3159-470e-b4f9-3811a6ff0bd3\",\"type\":\"GlyphRenderer\"},{\"attributes\":{\"plot\":{\"id\":\"77e8e66b-5fd4-4ab5-8096-b5f7f490cae6\",\"subtype\":\"Figure\",\"type\":\"Plot\"}},\"id\":\"2a1ad7a5-ae20-4515-9895-5863dffc7af2\",\"type\":\"ResetTool\"},{\"attributes\":{\"plot\":{\"id\":\"cde03e32-2d10-4482-b669-408a7f680816\",\"subtype\":\"Figure\",\"type\":\"Plot\"},\"ticker\":{\"id\":\"de494945-966b-40d0-afee-e7c4ec84758c\",\"type\":\"BasicTicker\"}},\"id\":\"140910e7-4baa-47e5-892b-4d395af2e394\",\"type\":\"Grid\"},{\"attributes\":{\"data_source\":{\"id\":\"ca818137-3bff-4f49-8cc9-2ea40ce54737\",\"type\":\"ColumnDataSource\"},\"glyph\":{\"id\":\"9b545cf7-0350-4210-9338-60f079479616\",\"type\":\"Line\"},\"hover_glyph\":null,\"nonselection_glyph\":{\"id\":\"7365555b-bb2e-4209-aeea-553c68b86b35\",\"type\":\"Line\"},\"selection_glyph\":null},\"id\":\"7918ecc0-7f8a-4002-b3ab-69bc60ecd369\",\"type\":\"GlyphRenderer\"},{\"attributes\":{\"legends\":[[\"white\",[{\"id\":\"c404f0ff-d82d-460b-908d-460380bddb7a\",\"type\":\"GlyphRenderer\"}]],[\"red\",[{\"id\":\"6241a7c8-2245-43fe-905b-bc256487e29c\",\"type\":\"GlyphRenderer\"}]]],\"location\":\"top_left\",\"plot\":{\"id\":\"f2f50b5e-22f8-4ee2-9754-07f6a445cfd3\",\"subtype\":\"Figure\",\"type\":\"Plot\"}},\"id\":\"06932c70-76c7-4296-8ffe-ffc50515adaf\",\"type\":\"Legend\"},{\"attributes\":{\"below\":[{\"id\":\"279ed69f-8b6e-4a02-8a4e-af0824cbd00f\",\"type\":\"LinearAxis\"}],\"left\":[{\"id\":\"cf4d4c27-603e-4287-ad67-a0bdc6a8c50c\",\"type\":\"LinearAxis\"}],\"plot_height\":300,\"plot_width\":300,\"renderers\":[{\"id\":\"279ed69f-8b6e-4a02-8a4e-af0824cbd00f\",\"type\":\"LinearAxis\"},{\"id\":\"140910e7-4baa-47e5-892b-4d395af2e394\",\"type\":\"Grid\"},{\"id\":\"cf4d4c27-603e-4287-ad67-a0bdc6a8c50c\",\"type\":\"LinearAxis\"},{\"id\":\"91df0a9e-6626-47cb-8554-51f623943992\",\"type\":\"Grid\"},{\"id\":\"0f5d43f6-2d00-4e95-a393-818dd67d1203\",\"type\":\"Legend\"},{\"id\":\"10127e8b-21f7-4db4-b2e9-bf33201c7eca\",\"type\":\"GlyphRenderer\"},{\"id\":\"56f8a428-a3b0-4461-8661-b158c42cd97e\",\"type\":\"GlyphRenderer\"}],\"title\":{\"id\":\"4c59e279-bcd6-4e83-ba64-82662d117a2b\",\"type\":\"Title\"},\"tool_events\":{\"id\":\"c5d5f95f-2790-42e2-8076-96d82ee302a1\",\"type\":\"ToolEvents\"},\"toolbar\":{\"id\":\"85f5758c-d177-40f6-9f4e-0726ca50d5f6\",\"type\":\"Toolbar\"},\"toolbar_location\":null,\"x_range\":{\"id\":\"c99a1f26-c26c-4c96-a477-d97972f38913\",\"type\":\"DataRange1d\"},\"y_range\":{\"id\":\"0b0d1742-156f-4178-87cc-8bbfc6f8ba66\",\"type\":\"DataRange1d\"}},\"id\":\"cde03e32-2d10-4482-b669-408a7f680816\",\"subtype\":\"Figure\",\"type\":\"Plot\"},{\"attributes\":{\"callback\":null},\"id\":\"36f484f8-304a-47c0-95c3-526e6e4fa187\",\"type\":\"DataRange1d\"},{\"attributes\":{\"callback\":null},\"id\":\"b14c6f28-4f0a-486f-8a0e-5292bbdde020\",\"type\":\"DataRange1d\"},{\"attributes\":{\"line_color\":{\"value\":\"green\"},\"x\":{\"field\":\"x\"},\"y\":{\"field\":\"y\"}},\"id\":\"bf99d811-e831-40bb-868b-dd8b4676a02f\",\"type\":\"Line\"},{\"attributes\":{\"active_drag\":\"auto\",\"active_scroll\":\"auto\",\"active_tap\":\"auto\",\"tools\":[{\"id\":\"aeabd0c3-eff1-4443-9e16-d338c27cf983\",\"type\":\"HoverTool\"},{\"id\":\"37759e1f-4fc0-4e0e-9269-0289e7f2adef\",\"type\":\"ResetTool\"},{\"id\":\"2b137415-4f0e-4b3c-8c5b-0aa4d3afa34d\",\"type\":\"CrosshairTool\"}]},\"id\":\"85f5758c-d177-40f6-9f4e-0726ca50d5f6\",\"type\":\"Toolbar\"},{\"attributes\":{\"plot\":null,\"text\":\"mean residual sugar vs. quality\"},\"id\":\"c9a10449-aa1c-46ab-a4bc-0fb3aa5bea2a\",\"type\":\"Title\"},{\"attributes\":{\"callback\":null,\"plot\":{\"id\":\"f2f50b5e-22f8-4ee2-9754-07f6a445cfd3\",\"subtype\":\"Figure\",\"type\":\"Plot\"}},\"id\":\"1138c853-29b9-4fd2-8d05-1f8de1b3fb7e\",\"type\":\"HoverTool\"},{\"attributes\":{\"children\":[{\"id\":\"86cd4e46-fc72-4726-b96a-6c1610449e7a\",\"subtype\":\"Figure\",\"type\":\"Plot\"},{\"id\":\"cde03e32-2d10-4482-b669-408a7f680816\",\"subtype\":\"Figure\",\"type\":\"Plot\"},{\"id\":\"f2f50b5e-22f8-4ee2-9754-07f6a445cfd3\",\"subtype\":\"Figure\",\"type\":\"Plot\"}]},\"id\":\"52e1af65-fbd4-4d98-8763-c0ed630c9c55\",\"type\":\"Row\"},{\"attributes\":{\"callback\":null},\"id\":\"11588a9d-a658-4c68-98ee-b34bf3d4f6f7\",\"type\":\"DataRange1d\"},{\"attributes\":{\"legends\":[[\"white\",[{\"id\":\"65846dec-997f-4040-9a7b-45d2ef62ad58\",\"type\":\"GlyphRenderer\"}]],[\"red\",[{\"id\":\"ce404689-124e-4e75-aac0-81a31f6ab506\",\"type\":\"GlyphRenderer\"}]]],\"location\":\"top_left\",\"plot\":{\"id\":\"77e8e66b-5fd4-4ab5-8096-b5f7f490cae6\",\"subtype\":\"Figure\",\"type\":\"Plot\"}},\"id\":\"122075ac-1618-4b3e-bfb4-ba8ef68d2ad2\",\"type\":\"Legend\"},{\"attributes\":{\"axis_label\":\"quality\",\"formatter\":{\"id\":\"c9ca9321-8b73-4782-9e5e-14874b73d753\",\"type\":\"BasicTickFormatter\"},\"plot\":{\"id\":\"f2f50b5e-22f8-4ee2-9754-07f6a445cfd3\",\"subtype\":\"Figure\",\"type\":\"Plot\"},\"ticker\":{\"id\":\"a9282630-ddd0-4039-acb8-d9c0d8154b70\",\"type\":\"BasicTicker\"}},\"id\":\"6b19ab07-ecd4-488b-a424-900e6be248d6\",\"type\":\"LinearAxis\"},{\"attributes\":{\"plot\":{\"id\":\"77e8e66b-5fd4-4ab5-8096-b5f7f490cae6\",\"subtype\":\"Figure\",\"type\":\"Plot\"},\"ticker\":{\"id\":\"ead1f3da-3058-4db2-957c-b0609f97cb3c\",\"type\":\"BasicTicker\"}},\"id\":\"13cde351-64f1-4be9-a52c-5ae67a6db7e0\",\"type\":\"Grid\"},{\"attributes\":{\"active_drag\":\"auto\",\"active_scroll\":\"auto\",\"active_tap\":\"auto\",\"tools\":[{\"id\":\"e6b8c623-b70a-4fcb-9b3a-65ee478a3d8d\",\"type\":\"HoverTool\"},{\"id\":\"2a1ad7a5-ae20-4515-9895-5863dffc7af2\",\"type\":\"ResetTool\"},{\"id\":\"b878999e-717b-4cec-a2ae-77ddc009e7b8\",\"type\":\"CrosshairTool\"}]},\"id\":\"29a06778-1528-4bff-b00a-2a721a8776cd\",\"type\":\"Toolbar\"},{\"attributes\":{\"axis_label\":\"residual sugar\",\"formatter\":{\"id\":\"511d0792-f369-42a1-a979-55369a727670\",\"type\":\"BasicTickFormatter\"},\"plot\":{\"id\":\"86cd4e46-fc72-4726-b96a-6c1610449e7a\",\"subtype\":\"Figure\",\"type\":\"Plot\"},\"ticker\":{\"id\":\"7deb181c-44b4-427a-a792-80fcad45d7f5\",\"type\":\"BasicTicker\"}},\"id\":\"813bca4b-50bc-423b-b600-0dbe1bd1fe6b\",\"type\":\"LinearAxis\"},{\"attributes\":{\"axis_label\":\"quality\",\"formatter\":{\"id\":\"129215cc-af55-4671-b0a4-449a1a65a3a6\",\"type\":\"BasicTickFormatter\"},\"plot\":{\"id\":\"8c9a2794-187b-4e21-801e-96bdd795615c\",\"subtype\":\"Figure\",\"type\":\"Plot\"},\"ticker\":{\"id\":\"01fd5c69-73a9-42fe-a116-3d3b81ba4814\",\"type\":\"BasicTicker\"}},\"id\":\"a2aaf8dd-9cb6-414c-8772-01d30bda42c1\",\"type\":\"LinearAxis\"},{\"attributes\":{\"axis_label\":\"quality\",\"formatter\":{\"id\":\"45fab322-0cba-46f9-8e60-19f67bff821f\",\"type\":\"BasicTickFormatter\"},\"plot\":{\"id\":\"86cd4e46-fc72-4726-b96a-6c1610449e7a\",\"subtype\":\"Figure\",\"type\":\"Plot\"},\"ticker\":{\"id\":\"86de078d-cfac-414f-b879-780e94c7fa85\",\"type\":\"BasicTicker\"}},\"id\":\"155b6e1f-7b42-4e4e-863c-7ba480fec15d\",\"type\":\"LinearAxis\"},{\"attributes\":{},\"id\":\"c06dc082-998b-4a1a-b48a-bf82363acde2\",\"type\":\"BasicTickFormatter\"},{\"attributes\":{\"below\":[{\"id\":\"b92f6527-4d71-4087-835a-6b1defa781b5\",\"type\":\"LinearAxis\"}],\"left\":[{\"id\":\"27beab4b-9ff1-4c26-afb0-cd5aaddea257\",\"type\":\"LinearAxis\"}],\"plot_height\":300,\"plot_width\":300,\"renderers\":[{\"id\":\"b92f6527-4d71-4087-835a-6b1defa781b5\",\"type\":\"LinearAxis\"},{\"id\":\"13cde351-64f1-4be9-a52c-5ae67a6db7e0\",\"type\":\"Grid\"},{\"id\":\"27beab4b-9ff1-4c26-afb0-cd5aaddea257\",\"type\":\"LinearAxis\"},{\"id\":\"9830a55c-0032-4435-ae67-9b13cdc74f6b\",\"type\":\"Grid\"},{\"id\":\"122075ac-1618-4b3e-bfb4-ba8ef68d2ad2\",\"type\":\"Legend\"},{\"id\":\"65846dec-997f-4040-9a7b-45d2ef62ad58\",\"type\":\"GlyphRenderer\"},{\"id\":\"ce404689-124e-4e75-aac0-81a31f6ab506\",\"type\":\"GlyphRenderer\"}],\"title\":{\"id\":\"df15cd61-8b40-4219-a40b-f8ccbd519897\",\"type\":\"Title\"},\"tool_events\":{\"id\":\"f7459714-7010-4282-8ba7-5f6c415a5e10\",\"type\":\"ToolEvents\"},\"toolbar\":{\"id\":\"29a06778-1528-4bff-b00a-2a721a8776cd\",\"type\":\"Toolbar\"},\"toolbar_location\":null,\"x_range\":{\"id\":\"554f862e-f934-41d8-b7fe-682abf13d8ff\",\"type\":\"DataRange1d\"},\"y_range\":{\"id\":\"d8814055-2df0-4890-a048-ea38fcc040fe\",\"type\":\"DataRange1d\"}},\"id\":\"77e8e66b-5fd4-4ab5-8096-b5f7f490cae6\",\"subtype\":\"Figure\",\"type\":\"Plot\"},{\"attributes\":{\"line_alpha\":{\"value\":0.1},\"line_color\":{\"value\":\"#1f77b4\"},\"x\":{\"field\":\"x\"},\"y\":{\"field\":\"y\"}},\"id\":\"95d9913b-de54-4e59-a31f-ad63530ee62c\",\"type\":\"Line\"},{\"attributes\":{\"line_color\":{\"value\":\"red\"},\"x\":{\"field\":\"x\"},\"y\":{\"field\":\"y\"}},\"id\":\"7d35a3bb-0a17-4a90-a9bb-8e2123821b34\",\"type\":\"Line\"},{\"attributes\":{},\"id\":\"7aba808b-8613-476d-a7bb-92403f59242c\",\"type\":\"BasicTicker\"},{\"attributes\":{},\"id\":\"e2d09150-d41b-4934-8658-b0947eabc5ef\",\"type\":\"BasicTicker\"},{\"attributes\":{},\"id\":\"69289f4d-6d45-4ce1-bf00-d29736727655\",\"type\":\"ToolEvents\"},{\"attributes\":{\"data_source\":{\"id\":\"df9db3ab-e4d5-45f4-81fc-fcb7ef638a67\",\"type\":\"ColumnDataSource\"},\"glyph\":{\"id\":\"a969dabe-8e50-42af-bef4-87417b448cb5\",\"type\":\"Line\"},\"hover_glyph\":null,\"nonselection_glyph\":{\"id\":\"8192eb27-d178-410e-ad3f-ca1b04bd4f5e\",\"type\":\"Line\"},\"selection_glyph\":null},\"id\":\"b5ba4433-93e5-4b0f-8d9e-5ec0af3c6a46\",\"type\":\"GlyphRenderer\"},{\"attributes\":{},\"id\":\"86de078d-cfac-414f-b879-780e94c7fa85\",\"type\":\"BasicTicker\"},{\"attributes\":{\"line_color\":{\"value\":\"green\"},\"x\":{\"field\":\"x\"},\"y\":{\"field\":\"y\"}},\"id\":\"d730886e-b5f0-4388-8540-abd52bc870bb\",\"type\":\"Line\"},{\"attributes\":{\"callback\":null},\"id\":\"884e1a19-249d-4bca-a8e5-2df8c0ebc22e\",\"type\":\"DataRange1d\"},{\"attributes\":{},\"id\":\"ba0e736b-eb5d-49ab-afa7-8dd18224b932\",\"type\":\"BasicTickFormatter\"},{\"attributes\":{\"dimension\":1,\"plot\":{\"id\":\"c53beab1-9939-48c0-88d0-2310fd73087e\",\"subtype\":\"Figure\",\"type\":\"Plot\"},\"ticker\":{\"id\":\"e2d09150-d41b-4934-8658-b0947eabc5ef\",\"type\":\"BasicTicker\"}},\"id\":\"93f43cf1-56ac-49b2-8a2d-b15bb25e0842\",\"type\":\"Grid\"},{\"attributes\":{\"callback\":null},\"id\":\"0b0d1742-156f-4178-87cc-8bbfc6f8ba66\",\"type\":\"DataRange1d\"},{\"attributes\":{\"axis_label\":\"quality\",\"formatter\":{\"id\":\"3e96fdeb-4d0e-45cd-903f-9dc452c436c7\",\"type\":\"BasicTickFormatter\"},\"plot\":{\"id\":\"c53beab1-9939-48c0-88d0-2310fd73087e\",\"subtype\":\"Figure\",\"type\":\"Plot\"},\"ticker\":{\"id\":\"748a682c-a31a-411b-8737-a704a24d7995\",\"type\":\"BasicTicker\"}},\"id\":\"bc4dcffc-4397-49fb-a2fc-3b499ca0302e\",\"type\":\"LinearAxis\"},{\"attributes\":{\"dimension\":1,\"plot\":{\"id\":\"f2f50b5e-22f8-4ee2-9754-07f6a445cfd3\",\"subtype\":\"Figure\",\"type\":\"Plot\"},\"ticker\":{\"id\":\"717644e0-c964-4ebb-bf00-f09399b08ce9\",\"type\":\"BasicTicker\"}},\"id\":\"84229864-0d91-4e43-b4c6-ea7cc9b41275\",\"type\":\"Grid\"},{\"attributes\":{},\"id\":\"45fab322-0cba-46f9-8e60-19f67bff821f\",\"type\":\"BasicTickFormatter\"},{\"attributes\":{},\"id\":\"01fd5c69-73a9-42fe-a116-3d3b81ba4814\",\"type\":\"BasicTicker\"},{\"attributes\":{\"line_alpha\":{\"value\":0.1},\"line_color\":{\"value\":\"#1f77b4\"},\"x\":{\"field\":\"x\"},\"y\":{\"field\":\"y\"}},\"id\":\"1b210a27-c763-40e7-9d77-1f5cf0af0e4b\",\"type\":\"Line\"},{\"attributes\":{\"line_alpha\":{\"value\":0.1},\"line_color\":{\"value\":\"#1f77b4\"},\"x\":{\"field\":\"x\"},\"y\":{\"field\":\"y\"}},\"id\":\"d4fc53ef-7e22-4c6d-b871-7a6b0a391973\",\"type\":\"Line\"},{\"attributes\":{\"plot\":{\"id\":\"86cd4e46-fc72-4726-b96a-6c1610449e7a\",\"subtype\":\"Figure\",\"type\":\"Plot\"}},\"id\":\"c7dfabd6-dfef-4635-8ed1-514f8a923a30\",\"type\":\"CrosshairTool\"},{\"attributes\":{\"dimension\":1,\"plot\":{\"id\":\"cde03e32-2d10-4482-b669-408a7f680816\",\"subtype\":\"Figure\",\"type\":\"Plot\"},\"ticker\":{\"id\":\"368c179c-0fe8-4585-a235-97bc2f791c43\",\"type\":\"BasicTicker\"}},\"id\":\"91df0a9e-6626-47cb-8554-51f623943992\",\"type\":\"Grid\"},{\"attributes\":{},\"id\":\"368c179c-0fe8-4585-a235-97bc2f791c43\",\"type\":\"BasicTicker\"},{\"attributes\":{\"children\":[{\"id\":\"77e8e66b-5fd4-4ab5-8096-b5f7f490cae6\",\"subtype\":\"Figure\",\"type\":\"Plot\"},{\"id\":\"c53beab1-9939-48c0-88d0-2310fd73087e\",\"subtype\":\"Figure\",\"type\":\"Plot\"},{\"id\":\"8c9a2794-187b-4e21-801e-96bdd795615c\",\"subtype\":\"Figure\",\"type\":\"Plot\"}]},\"id\":\"ae906e3a-89e7-4545-a040-e88ba6647a33\",\"type\":\"Row\"},{\"attributes\":{},\"id\":\"f7459714-7010-4282-8ba7-5f6c415a5e10\",\"type\":\"ToolEvents\"},{\"attributes\":{\"sizing_mode\":\"scale_width\",\"toolbar_location\":\"above\",\"tools\":[{\"id\":\"e6b8c623-b70a-4fcb-9b3a-65ee478a3d8d\",\"type\":\"HoverTool\"},{\"id\":\"2a1ad7a5-ae20-4515-9895-5863dffc7af2\",\"type\":\"ResetTool\"},{\"id\":\"b878999e-717b-4cec-a2ae-77ddc009e7b8\",\"type\":\"CrosshairTool\"},{\"id\":\"fd9570e0-80d2-41ec-a1fe-ee00c6c17405\",\"type\":\"HoverTool\"},{\"id\":\"c9489fd6-77d0-4ed3-b048-6e6cfd61e91b\",\"type\":\"ResetTool\"},{\"id\":\"1f2aa1cf-dc1b-4e3f-a7dc-e465c63d04ab\",\"type\":\"CrosshairTool\"},{\"id\":\"89771507-5c53-4a62-8fca-e42543bf6130\",\"type\":\"HoverTool\"},{\"id\":\"0b6c9d48-f063-4228-98f7-6be5b5997b2f\",\"type\":\"ResetTool\"},{\"id\":\"5bdf8cb3-4e21-445c-83f4-6a003cad8229\",\"type\":\"CrosshairTool\"},{\"id\":\"a3829caa-f6de-4ea6-b6d1-0363e5131e4f\",\"type\":\"HoverTool\"},{\"id\":\"7b558fa3-9dcb-4687-bf8e-e775eed09dc1\",\"type\":\"ResetTool\"},{\"id\":\"c7dfabd6-dfef-4635-8ed1-514f8a923a30\",\"type\":\"CrosshairTool\"},{\"id\":\"aeabd0c3-eff1-4443-9e16-d338c27cf983\",\"type\":\"HoverTool\"},{\"id\":\"37759e1f-4fc0-4e0e-9269-0289e7f2adef\",\"type\":\"ResetTool\"},{\"id\":\"2b137415-4f0e-4b3c-8c5b-0aa4d3afa34d\",\"type\":\"CrosshairTool\"},{\"id\":\"1138c853-29b9-4fd2-8d05-1f8de1b3fb7e\",\"type\":\"HoverTool\"},{\"id\":\"931a706c-b569-44c5-abc3-5ecade1a8049\",\"type\":\"ResetTool\"},{\"id\":\"e86f3402-af61-4cb5-b9ed-60dc7d21b33d\",\"type\":\"CrosshairTool\"}]},\"id\":\"b90b5125-66ec-42e2-bff0-c1ce02f5ec5c\",\"type\":\"ToolbarBox\"},{\"attributes\":{\"axis_label\":\"fixed acidity\",\"formatter\":{\"id\":\"c06dc082-998b-4a1a-b48a-bf82363acde2\",\"type\":\"BasicTickFormatter\"},\"plot\":{\"id\":\"77e8e66b-5fd4-4ab5-8096-b5f7f490cae6\",\"subtype\":\"Figure\",\"type\":\"Plot\"},\"ticker\":{\"id\":\"7aba808b-8613-476d-a7bb-92403f59242c\",\"type\":\"BasicTicker\"}},\"id\":\"27beab4b-9ff1-4c26-afb0-cd5aaddea257\",\"type\":\"LinearAxis\"},{\"attributes\":{\"data_source\":{\"id\":\"3ced5d5e-e07f-44d3-a39d-6034ef9c9089\",\"type\":\"ColumnDataSource\"},\"glyph\":{\"id\":\"ad94be39-2a4a-433f-93d6-98c9dfc383af\",\"type\":\"Line\"},\"hover_glyph\":null,\"nonselection_glyph\":{\"id\":\"d4fc53ef-7e22-4c6d-b871-7a6b0a391973\",\"type\":\"Line\"},\"selection_glyph\":null},\"id\":\"c404f0ff-d82d-460b-908d-460380bddb7a\",\"type\":\"GlyphRenderer\"},{\"attributes\":{\"children\":[{\"id\":\"b90b5125-66ec-42e2-bff0-c1ce02f5ec5c\",\"type\":\"ToolbarBox\"},{\"id\":\"a7a3df39-b8e4-4c1d-acef-7cca564ca33a\",\"type\":\"Column\"}]},\"id\":\"ec0f7317-3484-4b34-85bd-6b9a29d5db4b\",\"type\":\"Column\"},{\"attributes\":{\"plot\":{\"id\":\"77e8e66b-5fd4-4ab5-8096-b5f7f490cae6\",\"subtype\":\"Figure\",\"type\":\"Plot\"}},\"id\":\"b878999e-717b-4cec-a2ae-77ddc009e7b8\",\"type\":\"CrosshairTool\"},{\"attributes\":{\"callback\":null,\"column_names\":[\"y\",\"x\"],\"data\":{\"x\":[3.0,4.0,5.0,6.0,7.0,8.0,9.0],\"y\":[0.2605641492265695,0.26276704545454554,0.27739999999999976,0.298,0.30201098146877126,0.3332500000000001,0.381226993865031]}},\"id\":\"4133c24c-3c78-40af-bc34-862062a75ad0\",\"type\":\"ColumnDataSource\"},{\"attributes\":{\"callback\":null},\"id\":\"cec83153-9bab-4046-9aa4-672daee57ad3\",\"type\":\"DataRange1d\"},{\"attributes\":{\"callback\":null},\"id\":\"c99a1f26-c26c-4c96-a477-d97972f38913\",\"type\":\"DataRange1d\"},{\"attributes\":{\"below\":[{\"id\":\"a2aaf8dd-9cb6-414c-8772-01d30bda42c1\",\"type\":\"LinearAxis\"}],\"left\":[{\"id\":\"ccfeffa8-6266-4492-9128-8a847ef0f9b2\",\"type\":\"LinearAxis\"}],\"plot_height\":300,\"plot_width\":300,\"renderers\":[{\"id\":\"a2aaf8dd-9cb6-414c-8772-01d30bda42c1\",\"type\":\"LinearAxis\"},{\"id\":\"189d47ea-94f9-479e-beb7-e9fbb005d243\",\"type\":\"Grid\"},{\"id\":\"ccfeffa8-6266-4492-9128-8a847ef0f9b2\",\"type\":\"LinearAxis\"},{\"id\":\"003d5e60-bcff-42b1-9739-697f2dcaa8af\",\"type\":\"Grid\"},{\"id\":\"8ca2e7fe-8fc9-4ced-98c0-0c213a79b76b\",\"type\":\"Legend\"},{\"id\":\"e052ac66-086d-437e-b17e-1005af04bda9\",\"type\":\"GlyphRenderer\"},{\"id\":\"b5ba4433-93e5-4b0f-8d9e-5ec0af3c6a46\",\"type\":\"GlyphRenderer\"}],\"title\":{\"id\":\"c7b3cc04-a69a-43e6-8844-47c71be81b70\",\"type\":\"Title\"},\"tool_events\":{\"id\":\"69289f4d-6d45-4ce1-bf00-d29736727655\",\"type\":\"ToolEvents\"},\"toolbar\":{\"id\":\"4f9bc276-7fd9-4423-803f-c818c836e9fa\",\"type\":\"Toolbar\"},\"toolbar_location\":null,\"x_range\":{\"id\":\"8eb071ef-ce8d-4544-b95a-3e310613db6d\",\"type\":\"DataRange1d\"},\"y_range\":{\"id\":\"884e1a19-249d-4bca-a8e5-2df8c0ebc22e\",\"type\":\"DataRange1d\"}},\"id\":\"8c9a2794-187b-4e21-801e-96bdd795615c\",\"subtype\":\"Figure\",\"type\":\"Plot\"},{\"attributes\":{\"plot\":{\"id\":\"cde03e32-2d10-4482-b669-408a7f680816\",\"subtype\":\"Figure\",\"type\":\"Plot\"}},\"id\":\"37759e1f-4fc0-4e0e-9269-0289e7f2adef\",\"type\":\"ResetTool\"},{\"attributes\":{\"callback\":null,\"column_names\":[\"y\",\"x\"],\"data\":{\"x\":[3.0,4.0,5.0,6.0,7.0,8.0,9.0],\"y\":[4.119999999999999,4.628220858895707,5.186477272727271,5.671428571428572,6.392499999999999,6.4416060054595095,7.3349691146190725]}},\"id\":\"66df71ce-9373-455f-9e28-263776d01ab5\",\"type\":\"ColumnDataSource\"},{\"attributes\":{\"callback\":null,\"column_names\":[\"y\",\"x\"],\"data\":{\"x\":[3.0,4.0,5.0,6.0,7.0,8.0,9.0],\"y\":[0.4039195979899498,0.4233333333333334,0.49748432601880965,0.5770411160058732,0.6939622641509429,0.8845000000000001,\"NaN\"]}},\"id\":\"ca818137-3bff-4f49-8cc9-2ea40ce54737\",\"type\":\"ColumnDataSource\"},{\"attributes\":{\"legends\":[[\"white\",[{\"id\":\"1c029c55-04a2-40f0-a086-3e7062bd5c52\",\"type\":\"GlyphRenderer\"}]],[\"red\",[{\"id\":\"7918ecc0-7f8a-4002-b3ab-69bc60ecd369\",\"type\":\"GlyphRenderer\"}]]],\"location\":\"top_left\",\"plot\":{\"id\":\"c53beab1-9939-48c0-88d0-2310fd73087e\",\"subtype\":\"Figure\",\"type\":\"Plot\"}},\"id\":\"f97a3e89-c3c4-45af-9322-c9844293d001\",\"type\":\"Legend\"},{\"attributes\":{},\"id\":\"3e96fdeb-4d0e-45cd-903f-9dc452c436c7\",\"type\":\"BasicTickFormatter\"},{\"attributes\":{},\"id\":\"6a1f29a0-c580-4060-8fb1-29ea4ded4a9b\",\"type\":\"BasicTickFormatter\"},{\"attributes\":{\"line_color\":{\"value\":\"green\"},\"x\":{\"field\":\"x\"},\"y\":{\"field\":\"y\"}},\"id\":\"e1b25aa4-43e3-4785-8821-d6bf3fd56641\",\"type\":\"Line\"},{\"attributes\":{},\"id\":\"ead1f3da-3058-4db2-957c-b0609f97cb3c\",\"type\":\"BasicTicker\"},{\"attributes\":{},\"id\":\"de494945-966b-40d0-afee-e7c4ec84758c\",\"type\":\"BasicTicker\"},{\"attributes\":{\"data_source\":{\"id\":\"4133c24c-3c78-40af-bc34-862062a75ad0\",\"type\":\"ColumnDataSource\"},\"glyph\":{\"id\":\"e1b25aa4-43e3-4785-8821-d6bf3fd56641\",\"type\":\"Line\"},\"hover_glyph\":null,\"nonselection_glyph\":{\"id\":\"95d9913b-de54-4e59-a31f-ad63530ee62c\",\"type\":\"Line\"},\"selection_glyph\":null},\"id\":\"1c029c55-04a2-40f0-a086-3e7062bd5c52\",\"type\":\"GlyphRenderer\"},{\"attributes\":{\"line_alpha\":{\"value\":0.1},\"line_color\":{\"value\":\"#1f77b4\"},\"x\":{\"field\":\"x\"},\"y\":{\"field\":\"y\"}},\"id\":\"1a6231ae-d494-4c96-8875-cd0eacecbc85\",\"type\":\"Line\"},{\"attributes\":{},\"id\":\"8c11bde5-27ad-4730-a929-f6ec0d707ea4\",\"type\":\"ToolEvents\"},{\"attributes\":{\"line_alpha\":{\"value\":0.1},\"line_color\":{\"value\":\"#1f77b4\"},\"x\":{\"field\":\"x\"},\"y\":{\"field\":\"y\"}},\"id\":\"7365555b-bb2e-4209-aeea-553c68b86b35\",\"type\":\"Line\"},{\"attributes\":{\"active_drag\":\"auto\",\"active_scroll\":\"auto\",\"active_tap\":\"auto\",\"tools\":[{\"id\":\"1138c853-29b9-4fd2-8d05-1f8de1b3fb7e\",\"type\":\"HoverTool\"},{\"id\":\"931a706c-b569-44c5-abc3-5ecade1a8049\",\"type\":\"ResetTool\"},{\"id\":\"e86f3402-af61-4cb5-b9ed-60dc7d21b33d\",\"type\":\"CrosshairTool\"}]},\"id\":\"7e68d145-bcc4-439b-9e6a-e6dc711c155d\",\"type\":\"Toolbar\"},{\"attributes\":{\"axis_label\":\"quality\",\"formatter\":{\"id\":\"ba0e736b-eb5d-49ab-afa7-8dd18224b932\",\"type\":\"BasicTickFormatter\"},\"plot\":{\"id\":\"77e8e66b-5fd4-4ab5-8096-b5f7f490cae6\",\"subtype\":\"Figure\",\"type\":\"Plot\"},\"ticker\":{\"id\":\"ead1f3da-3058-4db2-957c-b0609f97cb3c\",\"type\":\"BasicTicker\"}},\"id\":\"b92f6527-4d71-4087-835a-6b1defa781b5\",\"type\":\"LinearAxis\"},{\"attributes\":{\"data_source\":{\"id\":\"41811bd0-0b1f-4638-91ca-f591bb9db34a\",\"type\":\"ColumnDataSource\"},\"glyph\":{\"id\":\"48d06d45-5926-4b4e-807e-341b455059b7\",\"type\":\"Line\"},\"hover_glyph\":null,\"nonselection_glyph\":{\"id\":\"79f55bd8-d2cc-4160-bce6-90920cb90af5\",\"type\":\"Line\"},\"selection_glyph\":null},\"id\":\"6241a7c8-2245-43fe-905b-bc256487e29c\",\"type\":\"GlyphRenderer\"},{\"attributes\":{\"dimension\":1,\"plot\":{\"id\":\"8c9a2794-187b-4e21-801e-96bdd795615c\",\"subtype\":\"Figure\",\"type\":\"Plot\"},\"ticker\":{\"id\":\"6544f957-cebb-4560-aae3-3c47b2d99c9f\",\"type\":\"BasicTicker\"}},\"id\":\"003d5e60-bcff-42b1-9739-697f2dcaa8af\",\"type\":\"Grid\"},{\"attributes\":{\"axis_label\":\"volatile acidity\",\"formatter\":{\"id\":\"d1e6ebcd-3aa2-48d3-b7cb-59ce9f6172ab\",\"type\":\"BasicTickFormatter\"},\"plot\":{\"id\":\"c53beab1-9939-48c0-88d0-2310fd73087e\",\"subtype\":\"Figure\",\"type\":\"Plot\"},\"ticker\":{\"id\":\"e2d09150-d41b-4934-8658-b0947eabc5ef\",\"type\":\"BasicTicker\"}},\"id\":\"efb5c1f0-3adb-47a5-9994-79d40ec742ec\",\"type\":\"LinearAxis\"},{\"attributes\":{\"callback\":null,\"plot\":{\"id\":\"cde03e32-2d10-4482-b669-408a7f680816\",\"subtype\":\"Figure\",\"type\":\"Plot\"}},\"id\":\"aeabd0c3-eff1-4443-9e16-d338c27cf983\",\"type\":\"HoverTool\"},{\"attributes\":{\"below\":[{\"id\":\"bc4dcffc-4397-49fb-a2fc-3b499ca0302e\",\"type\":\"LinearAxis\"}],\"left\":[{\"id\":\"efb5c1f0-3adb-47a5-9994-79d40ec742ec\",\"type\":\"LinearAxis\"}],\"plot_height\":300,\"plot_width\":300,\"renderers\":[{\"id\":\"bc4dcffc-4397-49fb-a2fc-3b499ca0302e\",\"type\":\"LinearAxis\"},{\"id\":\"eeeb69d0-527b-408f-b5ce-d8e8224ae053\",\"type\":\"Grid\"},{\"id\":\"efb5c1f0-3adb-47a5-9994-79d40ec742ec\",\"type\":\"LinearAxis\"},{\"id\":\"93f43cf1-56ac-49b2-8a2d-b15bb25e0842\",\"type\":\"Grid\"},{\"id\":\"f97a3e89-c3c4-45af-9322-c9844293d001\",\"type\":\"Legend\"},{\"id\":\"1c029c55-04a2-40f0-a086-3e7062bd5c52\",\"type\":\"GlyphRenderer\"},{\"id\":\"7918ecc0-7f8a-4002-b3ab-69bc60ecd369\",\"type\":\"GlyphRenderer\"}],\"title\":{\"id\":\"4c7f44b8-4d4d-455a-99cd-082dc4206a17\",\"type\":\"Title\"},\"tool_events\":{\"id\":\"4ac962b2-1351-46ce-890a-6f6dd54f51bd\",\"type\":\"ToolEvents\"},\"toolbar\":{\"id\":\"90c18d29-4c4c-445a-9b77-c65b6c15c720\",\"type\":\"Toolbar\"},\"toolbar_location\":null,\"x_range\":{\"id\":\"cec83153-9bab-4046-9aa4-672daee57ad3\",\"type\":\"DataRange1d\"},\"y_range\":{\"id\":\"94eb47eb-d1d4-4cac-9ae1-efde325aa6f5\",\"type\":\"DataRange1d\"}},\"id\":\"c53beab1-9939-48c0-88d0-2310fd73087e\",\"subtype\":\"Figure\",\"type\":\"Plot\"},{\"attributes\":{},\"id\":\"accdc51c-2182-47c9-8272-7412e2008d5d\",\"type\":\"BasicTickFormatter\"},{\"attributes\":{\"line_alpha\":{\"value\":0.1},\"line_color\":{\"value\":\"#1f77b4\"},\"x\":{\"field\":\"x\"},\"y\":{\"field\":\"y\"}},\"id\":\"665db375-47e3-43fb-82df-88dc2f5d5926\",\"type\":\"Line\"}],\"root_ids\":[\"ec0f7317-3484-4b34-85bd-6b9a29d5db4b\"]},\"title\":\"Bokeh Application\",\"version\":\"0.12.0\"}};\n",
       "            var render_items = [{\"docid\":\"68339829-e67a-434b-8b6b-2cbc59b0907f\",\"elementid\":\"63beae99-246b-4af8-8edf-4c293abe820d\",\"modelid\":\"ec0f7317-3484-4b34-85bd-6b9a29d5db4b\",\"notebook_comms_target\":\"9c843263-6d2b-49c8-bf3d-3ffdce71394e\"}];\n",
       "            \n",
       "            Bokeh.embed.embed_items(docs_json, render_items);\n",
       "        });\n",
       "      },\n",
       "      function(Bokeh) {\n",
       "      }\n",
       "    ];\n",
       "  \n",
       "    function run_inline_js() {\n",
       "      for (var i = 0; i < inline_js.length; i++) {\n",
       "        inline_js[i](window.Bokeh);\n",
       "      }\n",
       "    }\n",
       "  \n",
       "    if (window._bokeh_is_loading === 0) {\n",
       "      console.log(\"Bokeh: BokehJS loaded, going straight to plotting\");\n",
       "      run_inline_js();\n",
       "    } else {\n",
       "      load_libs(js_urls, function() {\n",
       "        console.log(\"Bokeh: BokehJS plotting callback run at\", now());\n",
       "        run_inline_js();\n",
       "      });\n",
       "    }\n",
       "  }(this));\n",
       "</script>"
      ]
     },
     "metadata": {},
     "output_type": "display_data"
    },
    {
     "name": "stderr",
     "output_type": "stream",
     "text": [
      "/Users/ericalonas/anaconda/envs/py35/lib/python3.5/site-packages/bokeh/io.py:420: UserWarning: save() called but no resources were supplied and output_file(...) was never called, defaulting to resources.CDN\n",
      "  warnings.warn(\"save() called but no resources were supplied and output_file(...) was never called, defaulting to resources.CDN\")\n"
     ]
    },
    {
     "data": {
      "text/plain": [
       "'/Users/ericalonas/Documents/Insight-Interview/plot2.html'"
      ]
     },
     "execution_count": 11,
     "metadata": {},
     "output_type": "execute_result"
    }
   ],
   "source": [
    "red_y = np.array([])\n",
    "white_y = np.array([])\n",
    "red_x = np.array([])\n",
    "white_x = np.array([])\n",
    "\n",
    "plot_list = list()\n",
    "\n",
    "key_subset = comp_data.keys().drop(['quality', 'white?'])\n",
    "\n",
    "for key_sub in key_subset:\n",
    "    red_y = np.array([])\n",
    "    white_y = np.array([])\n",
    "    red_x = np.array([])\n",
    "    white_x = np.array([])\n",
    "    for i,j in itertools.product(comp_data['white?'].unique(), comp_data['quality'].unique()):\n",
    "        subset=comp_data[(comp_data['white?']==i)&(comp_data['quality']==j)]\n",
    "        #print(subset.head())\n",
    "        if i==1:\n",
    "            mean=subset[key_sub].mean()\n",
    "            white_y=np.append(white_y,mean)\n",
    "            white_x=np.append(white_x,j)\n",
    "        if i==0:\n",
    "            mean=subset[key_sub].mean()\n",
    "            red_y=np.append(red_y,mean)\n",
    "            red_x=np.append(red_x,j)\n",
    "\n",
    "    sorted_white= np.sort([white_x, white_y])\n",
    "\n",
    "    sorted_red = np.sort([red_x, red_y])\n",
    "\n",
    "    TOOLS = 'hover, reset, crosshair'\n",
    "    p = figure(plot_width=300, plot_height=300, tools=TOOLS)\n",
    "    \n",
    "    p.line(sorted_white[0], sorted_white[1], color = 'green', legend = 'white')\n",
    "    p.line(sorted_red[0], sorted_red[1], color='red', legend = 'red')\n",
    "    p.axis[0].axis_label='quality'\n",
    "    p.axis[1].axis_label= key_sub\n",
    "    p.title.text = 'mean %s vs. quality' %(key_sub)\n",
    "    p.legend.location = 'top_left'\n",
    "    \n",
    "    plot_list.append(p)\n",
    "\n",
    "p3=gridplot([plot_list[0:3], plot_list[3:6]])\n",
    "show(p3)\n",
    "bplt.save(p3,filename = 'plot2.html', title = 'Red/White Wine Parameter Graphs')"
   ]
  },
  {
   "cell_type": "code",
   "execution_count": 32,
   "metadata": {
    "collapsed": false
   },
   "outputs": [
    {
     "data": {
      "text/html": [
       "\n",
       "\n",
       "    <div class=\"bk-root\">\n",
       "        <div class=\"plotdiv\" id=\"d427cd9c-1043-4624-b358-54bfe2ef564a\"></div>\n",
       "    </div>\n",
       "<script type=\"text/javascript\">\n",
       "  \n",
       "  (function(global) {\n",
       "    function now() {\n",
       "      return new Date();\n",
       "    }\n",
       "  \n",
       "    if (typeof (window._bokeh_onload_callbacks) === \"undefined\") {\n",
       "      window._bokeh_onload_callbacks = [];\n",
       "    }\n",
       "  \n",
       "    function run_callbacks() {\n",
       "      window._bokeh_onload_callbacks.forEach(function(callback) { callback() });\n",
       "      delete window._bokeh_onload_callbacks\n",
       "      console.info(\"Bokeh: all callbacks have finished\");\n",
       "    }\n",
       "  \n",
       "    function load_libs(js_urls, callback) {\n",
       "      window._bokeh_onload_callbacks.push(callback);\n",
       "      if (window._bokeh_is_loading > 0) {\n",
       "        console.log(\"Bokeh: BokehJS is being loaded, scheduling callback at\", now());\n",
       "        return null;\n",
       "      }\n",
       "      if (js_urls == null || js_urls.length === 0) {\n",
       "        run_callbacks();\n",
       "        return null;\n",
       "      }\n",
       "      console.log(\"Bokeh: BokehJS not loaded, scheduling load and callback at\", now());\n",
       "      window._bokeh_is_loading = js_urls.length;\n",
       "      for (var i = 0; i < js_urls.length; i++) {\n",
       "        var url = js_urls[i];\n",
       "        var s = document.createElement('script');\n",
       "        s.src = url;\n",
       "        s.async = false;\n",
       "        s.onreadystatechange = s.onload = function() {\n",
       "          window._bokeh_is_loading--;\n",
       "          if (window._bokeh_is_loading === 0) {\n",
       "            console.log(\"Bokeh: all BokehJS libraries loaded\");\n",
       "            run_callbacks()\n",
       "          }\n",
       "        };\n",
       "        s.onerror = function() {\n",
       "          console.warn(\"failed to load library \" + url);\n",
       "        };\n",
       "        console.log(\"Bokeh: injecting script tag for BokehJS library: \", url);\n",
       "        document.getElementsByTagName(\"head\")[0].appendChild(s);\n",
       "      }\n",
       "    };var element = document.getElementById(\"d427cd9c-1043-4624-b358-54bfe2ef564a\");\n",
       "    if (element == null) {\n",
       "      console.log(\"Bokeh: ERROR: autoload.js configured with elementid 'd427cd9c-1043-4624-b358-54bfe2ef564a' but no matching script tag was found. \")\n",
       "      return false;\n",
       "    }\n",
       "  \n",
       "    var js_urls = [];\n",
       "  \n",
       "    var inline_js = [\n",
       "      function(Bokeh) {\n",
       "        Bokeh.$(function() {\n",
       "            var docs_json = {\"e1ffd8ba-1b0b-4f26-ada2-b643399438e4\":{\"roots\":{\"references\":[{\"attributes\":{\"callback\":null},\"id\":\"9ba47978-5902-4805-ade2-ab1c5ee22c99\",\"type\":\"DataRange1d\"},{\"attributes\":{\"below\":[{\"id\":\"4f914276-c788-4278-9529-c57a2304b7c0\",\"type\":\"LinearAxis\"}],\"left\":[{\"id\":\"13da5b88-17a7-4c99-bcf6-0ddd2f17b2db\",\"type\":\"LinearAxis\"}],\"plot_height\":300,\"plot_width\":300,\"renderers\":[{\"id\":\"4f914276-c788-4278-9529-c57a2304b7c0\",\"type\":\"LinearAxis\"},{\"id\":\"b736614f-5d67-4f83-8e24-56ac8e87f6d5\",\"type\":\"Grid\"},{\"id\":\"13da5b88-17a7-4c99-bcf6-0ddd2f17b2db\",\"type\":\"LinearAxis\"},{\"id\":\"79cf62d7-08ac-454a-9e4f-1466e97a8807\",\"type\":\"Grid\"},{\"id\":\"4113f08d-0eff-4d74-ae51-646844a84d77\",\"type\":\"Legend\"},{\"id\":\"6982cd49-ce4f-4d4f-901b-045a3fbb4b0d\",\"type\":\"GlyphRenderer\"},{\"id\":\"055e16f5-3fb5-4bde-8bca-25851f62b459\",\"type\":\"GlyphRenderer\"}],\"title\":{\"id\":\"3d96d627-9812-4350-bf88-c8d85988af70\",\"type\":\"Title\"},\"tool_events\":{\"id\":\"09d8d19b-eaa6-4800-ab9b-735b84ab67cd\",\"type\":\"ToolEvents\"},\"toolbar\":{\"id\":\"d4e1db73-d38b-4316-b613-d1109f1052b2\",\"type\":\"Toolbar\"},\"toolbar_location\":null,\"x_range\":{\"id\":\"49377669-cc9b-4f70-abb7-d522aad3a62f\",\"type\":\"DataRange1d\"},\"y_range\":{\"id\":\"938d99a4-ab72-4d59-8d0d-2e3866622d29\",\"type\":\"DataRange1d\"}},\"id\":\"e51ba4df-5cbe-4762-a059-75aeff004255\",\"subtype\":\"Figure\",\"type\":\"Plot\"},{\"attributes\":{\"callback\":null,\"column_names\":[\"y\",\"x\"],\"data\":{\"x\":[3.0,4.0,5.0,6.0,7.0,8.0,9.0],\"y\":[0.9952122222222223,0.9961042713567828,0.9965424528301888,0.9966150626959255,0.9971036270190888,0.9974640000000001,\"NaN\"]}},\"id\":\"7b2c7dbf-f02b-4968-8c29-6243d10d0ffe\",\"type\":\"ColumnDataSource\"},{\"attributes\":{\"plot\":{\"id\":\"f2b3b504-44d7-467b-8098-f82705254fe0\",\"subtype\":\"Figure\",\"type\":\"Plot\"},\"ticker\":{\"id\":\"e1faf6e2-9f99-43a3-b45e-8c57dfff2129\",\"type\":\"BasicTicker\"}},\"id\":\"cfd4a80f-0c61-46eb-9ac0-5bc2b430eb23\",\"type\":\"Grid\"},{\"attributes\":{\"data_source\":{\"id\":\"7b2c7dbf-f02b-4968-8c29-6243d10d0ffe\",\"type\":\"ColumnDataSource\"},\"glyph\":{\"id\":\"f9782504-52cf-4614-9d2f-aabee18c8af1\",\"type\":\"Line\"},\"hover_glyph\":null,\"nonselection_glyph\":{\"id\":\"f2708e8e-60a9-454c-8883-e5f80a4e609d\",\"type\":\"Line\"},\"selection_glyph\":null},\"id\":\"f32e8527-7f0f-4b52-8008-72978728c97f\",\"type\":\"GlyphRenderer\"},{\"attributes\":{\"line_alpha\":{\"value\":0.1},\"line_color\":{\"value\":\"#1f77b4\"},\"x\":{\"field\":\"x\"},\"y\":{\"field\":\"y\"}},\"id\":\"ee077dd3-e3a7-4694-bba8-b3d755113eda\",\"type\":\"Line\"},{\"attributes\":{\"axis_label\":\"quality\",\"formatter\":{\"id\":\"c5cd6bf3-f957-472c-9782-67952ec19ae3\",\"type\":\"BasicTickFormatter\"},\"plot\":{\"id\":\"f2b3b504-44d7-467b-8098-f82705254fe0\",\"subtype\":\"Figure\",\"type\":\"Plot\"},\"ticker\":{\"id\":\"e1faf6e2-9f99-43a3-b45e-8c57dfff2129\",\"type\":\"BasicTicker\"}},\"id\":\"f1ac8b44-70c2-4f00-b847-e109e6fcfefb\",\"type\":\"LinearAxis\"},{\"attributes\":{\"callback\":null},\"id\":\"311c7e46-5bed-4279-866b-ec9967a0de65\",\"type\":\"DataRange1d\"},{\"attributes\":{\"legends\":[[\"white\",[{\"id\":\"307f1545-b7e6-4c87-b29d-de5de95ded0f\",\"type\":\"GlyphRenderer\"}]],[\"red\",[{\"id\":\"54f26391-8c75-4772-b486-cb576d22db9e\",\"type\":\"GlyphRenderer\"}]]],\"location\":\"top_left\",\"plot\":{\"id\":\"d81b3087-5c2a-40c4-82fe-d682cdf51fcd\",\"subtype\":\"Figure\",\"type\":\"Plot\"}},\"id\":\"ef0a56a8-cb26-44d2-9830-b2bd083e5b5c\",\"type\":\"Legend\"},{\"attributes\":{\"callback\":null},\"id\":\"7d4875f3-4d67-4b9a-8554-cd9d611e816e\",\"type\":\"DataRange1d\"},{\"attributes\":{\"data_source\":{\"id\":\"761b231a-7ca7-4040-8768-a83cf6a41bab\",\"type\":\"ColumnDataSource\"},\"glyph\":{\"id\":\"90ca5001-35a0-4002-be50-1f2b1e91de49\",\"type\":\"Line\"},\"hover_glyph\":null,\"nonselection_glyph\":{\"id\":\"f157590c-186f-49b0-a505-5d7b17366223\",\"type\":\"Line\"},\"selection_glyph\":null},\"id\":\"54f26391-8c75-4772-b486-cb576d22db9e\",\"type\":\"GlyphRenderer\"},{\"attributes\":{},\"id\":\"73969b86-b163-4978-ac30-f82f76fa3cb0\",\"type\":\"BasicTickFormatter\"},{\"attributes\":{\"callback\":null,\"column_names\":[\"y\",\"x\"],\"data\":{\"x\":[3.0,4.0,5.0,6.0,7.0,8.0,9.0],\"y\":[3.2672222222222214,3.290753768844219,3.3049486049926546,3.3180721003134837,3.381509433962264,3.3979999999999997,\"NaN\"]}},\"id\":\"3100767e-cdd4-4dfc-9ec1-f3d367956890\",\"type\":\"ColumnDataSource\"},{\"attributes\":{\"active_drag\":\"auto\",\"active_scroll\":\"auto\",\"active_tap\":\"auto\",\"tools\":[{\"id\":\"cd66f4a2-adc5-4358-902f-8901a6212e05\",\"type\":\"HoverTool\"},{\"id\":\"9bb328af-b616-414e-8a05-db78df5ef499\",\"type\":\"ResetTool\"},{\"id\":\"f8e37f4b-19b9-4a05-9b31-2ea3a0d466fe\",\"type\":\"CrosshairTool\"}]},\"id\":\"6d9bb1d9-7065-4098-bc39-6f1fe2cce91c\",\"type\":\"Toolbar\"},{\"attributes\":{},\"id\":\"c5cd6bf3-f957-472c-9782-67952ec19ae3\",\"type\":\"BasicTickFormatter\"},{\"attributes\":{\"data_source\":{\"id\":\"8996f655-a98f-4ded-a5ca-e163ace8d799\",\"type\":\"ColumnDataSource\"},\"glyph\":{\"id\":\"1c382174-66ed-4bbb-8166-e097730dbc9d\",\"type\":\"Line\"},\"hover_glyph\":null,\"nonselection_glyph\":{\"id\":\"ee077dd3-e3a7-4694-bba8-b3d755113eda\",\"type\":\"Line\"},\"selection_glyph\":null},\"id\":\"88e1ec5d-e83b-4396-a808-b72ccc32758e\",\"type\":\"GlyphRenderer\"},{\"attributes\":{\"line_color\":{\"value\":\"green\"},\"x\":{\"field\":\"x\"},\"y\":{\"field\":\"y\"}},\"id\":\"cf7d601a-6ad9-4d24-9b76-80b2ca2b0f98\",\"type\":\"Line\"},{\"attributes\":{\"line_color\":{\"value\":\"green\"},\"x\":{\"field\":\"x\"},\"y\":{\"field\":\"y\"}},\"id\":\"b3ca2f2a-36e4-47e7-8cc0-67fdf7fedbd8\",\"type\":\"Line\"},{\"attributes\":{\"callback\":null},\"id\":\"971c7cb7-3c0f-495e-997c-9f69085a3afe\",\"type\":\"DataRange1d\"},{\"attributes\":{},\"id\":\"3d11f61f-4ecb-4d48-97fb-3116ff22a95a\",\"type\":\"BasicTicker\"},{\"attributes\":{\"line_alpha\":{\"value\":0.1},\"line_color\":{\"value\":\"#1f77b4\"},\"x\":{\"field\":\"x\"},\"y\":{\"field\":\"y\"}},\"id\":\"84d5d1d6-75b6-42b8-a320-7f6c7799ebe8\",\"type\":\"Line\"},{\"attributes\":{},\"id\":\"ec491d1a-09c4-42f4-9800-402f67f6ff6a\",\"type\":\"BasicTickFormatter\"},{\"attributes\":{},\"id\":\"d2eaa85c-bd5b-4575-a7fe-21a2c3b306ec\",\"type\":\"BasicTickFormatter\"},{\"attributes\":{\"below\":[{\"id\":\"f1ac8b44-70c2-4f00-b847-e109e6fcfefb\",\"type\":\"LinearAxis\"}],\"left\":[{\"id\":\"12adc431-7367-4999-b285-d8a810cd6ae8\",\"type\":\"LinearAxis\"}],\"plot_height\":300,\"plot_width\":300,\"renderers\":[{\"id\":\"f1ac8b44-70c2-4f00-b847-e109e6fcfefb\",\"type\":\"LinearAxis\"},{\"id\":\"cfd4a80f-0c61-46eb-9ac0-5bc2b430eb23\",\"type\":\"Grid\"},{\"id\":\"12adc431-7367-4999-b285-d8a810cd6ae8\",\"type\":\"LinearAxis\"},{\"id\":\"5db18513-129a-4d64-a891-b600479e4a31\",\"type\":\"Grid\"},{\"id\":\"81b17bf5-8d70-4da7-b0db-15d4632a5b03\",\"type\":\"Legend\"},{\"id\":\"e92f4ace-810e-49e4-86ee-a1eb171c5fcc\",\"type\":\"GlyphRenderer\"},{\"id\":\"011718ac-800e-4e6a-9c5f-6d48fdff0304\",\"type\":\"GlyphRenderer\"}],\"title\":{\"id\":\"cb308e23-1d6a-4919-a9cb-c227c9079738\",\"type\":\"Title\"},\"tool_events\":{\"id\":\"ece9ff10-f91f-4f01-a0a9-7e75cfad7857\",\"type\":\"ToolEvents\"},\"toolbar\":{\"id\":\"6d9bb1d9-7065-4098-bc39-6f1fe2cce91c\",\"type\":\"Toolbar\"},\"toolbar_location\":null,\"x_range\":{\"id\":\"909a1062-03fa-4bd8-aa40-d834f8b9ef33\",\"type\":\"DataRange1d\"},\"y_range\":{\"id\":\"9ba47978-5902-4805-ade2-ab1c5ee22c99\",\"type\":\"DataRange1d\"}},\"id\":\"f2b3b504-44d7-467b-8098-f82705254fe0\",\"subtype\":\"Figure\",\"type\":\"Plot\"},{\"attributes\":{\"line_alpha\":{\"value\":0.1},\"line_color\":{\"value\":\"#1f77b4\"},\"x\":{\"field\":\"x\"},\"y\":{\"field\":\"y\"}},\"id\":\"6e6512d3-ccd1-4510-9d6e-72634e26ab35\",\"type\":\"Line\"},{\"attributes\":{\"callback\":null},\"id\":\"49377669-cc9b-4f70-abb7-d522aad3a62f\",\"type\":\"DataRange1d\"},{\"attributes\":{\"children\":[{\"id\":\"d81b3087-5c2a-40c4-82fe-d682cdf51fcd\",\"subtype\":\"Figure\",\"type\":\"Plot\"},{\"id\":\"e51ba4df-5cbe-4762-a059-75aeff004255\",\"subtype\":\"Figure\",\"type\":\"Plot\"}]},\"id\":\"9b2f5bc5-0be4-4fed-8cba-57206efc5b69\",\"type\":\"Row\"},{\"attributes\":{\"plot\":null,\"text\":\"mean density vs. quality\"},\"id\":\"3aaecafc-7931-4236-aec2-125287a32909\",\"type\":\"Title\"},{\"attributes\":{\"callback\":null,\"column_names\":[\"y\",\"x\"],\"data\":{\"x\":[3.0,4.0,5.0,6.0,7.0,8.0,9.0],\"y\":[24.9,33.44444444444444,35.02010050251256,36.24528301886792,40.86990595611285,56.51395007342144,\"NaN\"]}},\"id\":\"03aed54e-3299-4ada-bd57-cd14026a7def\",\"type\":\"ColumnDataSource\"},{\"attributes\":{\"line_color\":{\"value\":\"red\"},\"x\":{\"field\":\"x\"},\"y\":{\"field\":\"y\"}},\"id\":\"f9782504-52cf-4614-9d2f-aabee18c8af1\",\"type\":\"Line\"},{\"attributes\":{},\"id\":\"e1faf6e2-9f99-43a3-b45e-8c57dfff2129\",\"type\":\"BasicTicker\"},{\"attributes\":{\"axis_label\":\"sulphates\",\"formatter\":{\"id\":\"32e4e52c-8ca7-4432-9f40-1492022972e1\",\"type\":\"BasicTickFormatter\"},\"plot\":{\"id\":\"d81b3087-5c2a-40c4-82fe-d682cdf51fcd\",\"subtype\":\"Figure\",\"type\":\"Plot\"},\"ticker\":{\"id\":\"e99f4751-154b-4c32-9de7-07b8f2887ab8\",\"type\":\"BasicTicker\"}},\"id\":\"cc8ba232-3bc3-45dc-ac51-07a7af0be787\",\"type\":\"LinearAxis\"},{\"attributes\":{\"dimension\":1,\"plot\":{\"id\":\"f2b3b504-44d7-467b-8098-f82705254fe0\",\"subtype\":\"Figure\",\"type\":\"Plot\"},\"ticker\":{\"id\":\"2dba3423-ed62-4d15-a176-d792c7c4db03\",\"type\":\"BasicTicker\"}},\"id\":\"5db18513-129a-4d64-a891-b600479e4a31\",\"type\":\"Grid\"},{\"attributes\":{},\"id\":\"f1f43eff-0107-4861-a125-f3be65f8f5d1\",\"type\":\"BasicTicker\"},{\"attributes\":{\"sizing_mode\":\"scale_width\",\"toolbar_location\":\"above\",\"tools\":[{\"id\":\"e3128060-75ee-46bc-b109-e63b5b06e4a0\",\"type\":\"HoverTool\"},{\"id\":\"51a3fd0c-19fc-4fb5-808f-d4a91bf2bf6d\",\"type\":\"ResetTool\"},{\"id\":\"1bcfdd0b-6429-46eb-b894-ce727d035a6d\",\"type\":\"CrosshairTool\"},{\"id\":\"55531638-ab55-40a1-83a7-51c7d946fb8d\",\"type\":\"HoverTool\"},{\"id\":\"bb1fa3ee-dd60-4ce9-9527-69c1bb9f7bb9\",\"type\":\"ResetTool\"},{\"id\":\"e543ea9d-a435-44cb-9c7f-0ea7d14ac34c\",\"type\":\"CrosshairTool\"},{\"id\":\"cd66f4a2-adc5-4358-902f-8901a6212e05\",\"type\":\"HoverTool\"},{\"id\":\"9bb328af-b616-414e-8a05-db78df5ef499\",\"type\":\"ResetTool\"},{\"id\":\"f8e37f4b-19b9-4a05-9b31-2ea3a0d466fe\",\"type\":\"CrosshairTool\"},{\"id\":\"f9b9cdf7-6dca-4496-adbb-d22d8e22e0a3\",\"type\":\"HoverTool\"},{\"id\":\"93ff6cc2-d2e7-4333-9516-d662aaf6cf78\",\"type\":\"ResetTool\"},{\"id\":\"7a833a95-c2e1-4b96-8f36-6920335eed20\",\"type\":\"CrosshairTool\"},{\"id\":\"1a9eaca3-d7b0-4663-bbbf-813775315d38\",\"type\":\"HoverTool\"},{\"id\":\"da5158d5-ad5c-4ca8-aeb1-40a5c397c6d1\",\"type\":\"ResetTool\"},{\"id\":\"5608ce6f-76ed-4323-a922-c75cd13eb105\",\"type\":\"CrosshairTool\"}]},\"id\":\"acbabe95-7d75-4fa0-86c1-6a5c6adf1c16\",\"type\":\"ToolbarBox\"},{\"attributes\":{\"axis_label\":\"total sulfur dioxide\",\"formatter\":{\"id\":\"3346c89f-db43-40af-918d-27ad37080d74\",\"type\":\"BasicTickFormatter\"},\"plot\":{\"id\":\"6f1eaa12-f0bc-4fb1-9e22-79eb25006ba2\",\"subtype\":\"Figure\",\"type\":\"Plot\"},\"ticker\":{\"id\":\"1e555a2d-b69c-41ad-9c11-b05b473f380a\",\"type\":\"BasicTicker\"}},\"id\":\"14eebc25-f5ac-4f66-92de-776f6f8fc754\",\"type\":\"LinearAxis\"},{\"attributes\":{\"plot\":{\"id\":\"6f1eaa12-f0bc-4fb1-9e22-79eb25006ba2\",\"subtype\":\"Figure\",\"type\":\"Plot\"}},\"id\":\"1bcfdd0b-6429-46eb-b894-ce727d035a6d\",\"type\":\"CrosshairTool\"},{\"attributes\":{\"callback\":null},\"id\":\"168e16ec-27fc-4f16-a9a8-f2c5200b43dc\",\"type\":\"DataRange1d\"},{\"attributes\":{},\"id\":\"1e555a2d-b69c-41ad-9c11-b05b473f380a\",\"type\":\"BasicTicker\"},{\"attributes\":{\"data_source\":{\"id\":\"cccc8a8c-3df9-487a-a5a1-0db537970c65\",\"type\":\"ColumnDataSource\"},\"glyph\":{\"id\":\"fa5aa1e0-bf9c-4b08-a0d7-7c93687f142b\",\"type\":\"Line\"},\"hover_glyph\":null,\"nonselection_glyph\":{\"id\":\"8af12626-1b1e-48e2-aba0-0988dc3354c1\",\"type\":\"Line\"},\"selection_glyph\":null},\"id\":\"6982cd49-ce4f-4d4f-901b-045a3fbb4b0d\",\"type\":\"GlyphRenderer\"},{\"attributes\":{},\"id\":\"f8ee2654-ae7d-43a6-8d33-347aa27fcb6f\",\"type\":\"BasicTicker\"},{\"attributes\":{\"plot\":{\"id\":\"6f1eaa12-f0bc-4fb1-9e22-79eb25006ba2\",\"subtype\":\"Figure\",\"type\":\"Plot\"}},\"id\":\"51a3fd0c-19fc-4fb5-808f-d4a91bf2bf6d\",\"type\":\"ResetTool\"},{\"attributes\":{\"data_source\":{\"id\":\"03aed54e-3299-4ada-bd57-cd14026a7def\",\"type\":\"ColumnDataSource\"},\"glyph\":{\"id\":\"66e5e252-2227-40a2-bca6-e846d725430f\",\"type\":\"Line\"},\"hover_glyph\":null,\"nonselection_glyph\":{\"id\":\"6e6512d3-ccd1-4510-9d6e-72634e26ab35\",\"type\":\"Line\"},\"selection_glyph\":null},\"id\":\"8cec8ed1-dafb-439e-978f-9de91981015d\",\"type\":\"GlyphRenderer\"},{\"attributes\":{\"callback\":null},\"id\":\"938d99a4-ab72-4d59-8d0d-2e3866622d29\",\"type\":\"DataRange1d\"},{\"attributes\":{\"callback\":null,\"column_names\":[\"y\",\"x\"],\"data\":{\"x\":[3.0,4.0,5.0,6.0,7.0,8.0,9.0],\"y\":[9.899706314243753,9.955000000000002,10.265094339622639,10.629519331243463,11.465912897822443,12.094444444444443,\"NaN\"]}},\"id\":\"4595d44e-53d0-4243-9f09-49effe497997\",\"type\":\"ColumnDataSource\"},{\"attributes\":{\"plot\":null,\"text\":\"mean alcohol vs. quality\"},\"id\":\"3d96d627-9812-4350-bf88-c8d85988af70\",\"type\":\"Title\"},{\"attributes\":{\"callback\":null},\"id\":\"3e5bd451-b5d0-4295-8cf7-948f91b3c2a8\",\"type\":\"DataRange1d\"},{\"attributes\":{\"line_color\":{\"value\":\"green\"},\"x\":{\"field\":\"x\"},\"y\":{\"field\":\"y\"}},\"id\":\"fa5aa1e0-bf9c-4b08-a0d7-7c93687f142b\",\"type\":\"Line\"},{\"attributes\":{\"active_drag\":\"auto\",\"active_scroll\":\"auto\",\"active_tap\":\"auto\",\"tools\":[{\"id\":\"55531638-ab55-40a1-83a7-51c7d946fb8d\",\"type\":\"HoverTool\"},{\"id\":\"bb1fa3ee-dd60-4ce9-9527-69c1bb9f7bb9\",\"type\":\"ResetTool\"},{\"id\":\"e543ea9d-a435-44cb-9c7f-0ea7d14ac34c\",\"type\":\"CrosshairTool\"}]},\"id\":\"c90a326b-c56a-42e9-aa88-c874ed6f0232\",\"type\":\"Toolbar\"},{\"attributes\":{},\"id\":\"2dba3423-ed62-4d15-a176-d792c7c4db03\",\"type\":\"BasicTicker\"},{\"attributes\":{\"data_source\":{\"id\":\"2658704e-9a2b-434f-b2c5-04b54b3f4fe2\",\"type\":\"ColumnDataSource\"},\"glyph\":{\"id\":\"b3ca2f2a-36e4-47e7-8cc0-67fdf7fedbd8\",\"type\":\"Line\"},\"hover_glyph\":null,\"nonselection_glyph\":{\"id\":\"a9844b60-8b40-4ff8-b277-03bf6a2afd91\",\"type\":\"Line\"},\"selection_glyph\":null},\"id\":\"beeb8a20-2fcb-4822-b323-42fb06887f50\",\"type\":\"GlyphRenderer\"},{\"attributes\":{\"below\":[{\"id\":\"0f30d804-67a8-499f-a437-f6f4a133fefb\",\"type\":\"LinearAxis\"}],\"left\":[{\"id\":\"4154052b-f413-453b-97ed-f70203b0a51f\",\"type\":\"LinearAxis\"}],\"plot_height\":300,\"plot_width\":300,\"renderers\":[{\"id\":\"0f30d804-67a8-499f-a437-f6f4a133fefb\",\"type\":\"LinearAxis\"},{\"id\":\"c636224a-d403-4886-b613-c720d62f1ef6\",\"type\":\"Grid\"},{\"id\":\"4154052b-f413-453b-97ed-f70203b0a51f\",\"type\":\"LinearAxis\"},{\"id\":\"3a5bc7e2-d9a6-4e50-8ec7-c138fbad3472\",\"type\":\"Grid\"},{\"id\":\"555f6430-ce76-4f33-af4c-8bc8c68ed10f\",\"type\":\"Legend\"},{\"id\":\"88e1ec5d-e83b-4396-a808-b72ccc32758e\",\"type\":\"GlyphRenderer\"},{\"id\":\"f32e8527-7f0f-4b52-8008-72978728c97f\",\"type\":\"GlyphRenderer\"}],\"title\":{\"id\":\"3aaecafc-7931-4236-aec2-125287a32909\",\"type\":\"Title\"},\"tool_events\":{\"id\":\"5ee2db9b-d962-4377-8b4e-35f70e43b6cc\",\"type\":\"ToolEvents\"},\"toolbar\":{\"id\":\"c90a326b-c56a-42e9-aa88-c874ed6f0232\",\"type\":\"Toolbar\"},\"toolbar_location\":null,\"x_range\":{\"id\":\"4625d5cf-e520-46e1-b5ef-b860036d9ceb\",\"type\":\"DataRange1d\"},\"y_range\":{\"id\":\"971c7cb7-3c0f-495e-997c-9f69085a3afe\",\"type\":\"DataRange1d\"}},\"id\":\"4d8e050c-9791-4761-a70a-844a55ffc0f1\",\"subtype\":\"Figure\",\"type\":\"Plot\"},{\"attributes\":{\"callback\":null,\"column_names\":[\"y\",\"x\"],\"data\":{\"x\":[3.0,4.0,5.0,6.0,7.0,8.0,9.0],\"y\":[0.99146,0.9922359428571438,0.9924523977272738,0.9939613489535942,0.9942766871165644,0.9948840000000002,0.9952625703500351]}},\"id\":\"8996f655-a98f-4ded-a5ca-e163ace8d799\",\"type\":\"ColumnDataSource\"},{\"attributes\":{\"line_alpha\":{\"value\":0.1},\"line_color\":{\"value\":\"#1f77b4\"},\"x\":{\"field\":\"x\"},\"y\":{\"field\":\"y\"}},\"id\":\"0e5f36f6-817a-4097-8194-b0b3a6518d3c\",\"type\":\"Line\"},{\"attributes\":{\"callback\":null,\"column_names\":[\"y\",\"x\"],\"data\":{\"x\":[3.0,4.0,5.0,6.0,7.0,8.0,9.0],\"y\":[116.0,125.11477272727272,125.27914110429448,126.16571428571429,137.04731574158325,150.90459849004804,170.6]}},\"id\":\"2658704e-9a2b-434f-b2c5-04b54b3f4fe2\",\"type\":\"ColumnDataSource\"},{\"attributes\":{\"plot\":null,\"text\":\"mean total sulfur dioxide vs. quality\"},\"id\":\"b8355575-faf3-4705-8abf-983db63f525e\",\"type\":\"Title\"},{\"attributes\":{\"data_source\":{\"id\":\"5eba18b4-34fa-4cb1-8e31-5d84d0934810\",\"type\":\"ColumnDataSource\"},\"glyph\":{\"id\":\"f77592f3-fc9d-47da-9a04-f0b239ffb105\",\"type\":\"Line\"},\"hover_glyph\":null,\"nonselection_glyph\":{\"id\":\"84d5d1d6-75b6-42b8-a320-7f6c7799ebe8\",\"type\":\"Line\"},\"selection_glyph\":null},\"id\":\"307f1545-b7e6-4c87-b29d-de5de95ded0f\",\"type\":\"GlyphRenderer\"},{\"attributes\":{\"axis_label\":\"quality\",\"formatter\":{\"id\":\"0c09f9b9-58ba-4869-841a-c7bcb8c3adbe\",\"type\":\"BasicTickFormatter\"},\"plot\":{\"id\":\"4d8e050c-9791-4761-a70a-844a55ffc0f1\",\"subtype\":\"Figure\",\"type\":\"Plot\"},\"ticker\":{\"id\":\"0e6e2f48-afb8-40a6-ab38-c358583cf33d\",\"type\":\"BasicTicker\"}},\"id\":\"0f30d804-67a8-499f-a437-f6f4a133fefb\",\"type\":\"LinearAxis\"},{\"attributes\":{},\"id\":\"22b0d636-b4aa-4812-9711-d8aaaa7b1b27\",\"type\":\"BasicTicker\"},{\"attributes\":{\"callback\":null,\"column_names\":[\"y\",\"x\"],\"data\":{\"x\":[3.0,4.0,5.0,6.0,7.0,8.0,9.0],\"y\":[0.5700000000000001,0.5964150943396227,0.6209691629955947,0.6753291536050158,0.7412562814070353,0.7677777777777778,\"NaN\"]}},\"id\":\"761b231a-7ca7-4040-8768-a83cf6a41bab\",\"type\":\"ColumnDataSource\"},{\"attributes\":{\"line_alpha\":{\"value\":0.1},\"line_color\":{\"value\":\"#1f77b4\"},\"x\":{\"field\":\"x\"},\"y\":{\"field\":\"y\"}},\"id\":\"f157590c-186f-49b0-a505-5d7b17366223\",\"type\":\"Line\"},{\"attributes\":{\"line_alpha\":{\"value\":0.1},\"line_color\":{\"value\":\"#1f77b4\"},\"x\":{\"field\":\"x\"},\"y\":{\"field\":\"y\"}},\"id\":\"a9844b60-8b40-4ff8-b277-03bf6a2afd91\",\"type\":\"Line\"},{\"attributes\":{\"data_source\":{\"id\":\"4595d44e-53d0-4243-9f09-49effe497997\",\"type\":\"ColumnDataSource\"},\"glyph\":{\"id\":\"e040932f-7eee-4a71-833a-75f35ef36c5c\",\"type\":\"Line\"},\"hover_glyph\":null,\"nonselection_glyph\":{\"id\":\"0e5f36f6-817a-4097-8194-b0b3a6518d3c\",\"type\":\"Line\"},\"selection_glyph\":null},\"id\":\"055e16f5-3fb5-4bde-8bca-25851f62b459\",\"type\":\"GlyphRenderer\"},{\"attributes\":{\"axis_label\":\"quality\",\"formatter\":{\"id\":\"e21acfec-495f-4c02-8e8a-0671ef9bceec\",\"type\":\"BasicTickFormatter\"},\"plot\":{\"id\":\"6f1eaa12-f0bc-4fb1-9e22-79eb25006ba2\",\"subtype\":\"Figure\",\"type\":\"Plot\"},\"ticker\":{\"id\":\"6360b0ed-26f4-45f1-adf0-bd27c0038882\",\"type\":\"BasicTicker\"}},\"id\":\"b008d59a-4692-4ed8-9f14-2ec71da64e2d\",\"type\":\"LinearAxis\"},{\"attributes\":{\"line_color\":{\"value\":\"green\"},\"x\":{\"field\":\"x\"},\"y\":{\"field\":\"y\"}},\"id\":\"1c382174-66ed-4bbb-8166-e097730dbc9d\",\"type\":\"Line\"},{\"attributes\":{},\"id\":\"0c09f9b9-58ba-4869-841a-c7bcb8c3adbe\",\"type\":\"BasicTickFormatter\"},{\"attributes\":{\"line_alpha\":{\"value\":0.1},\"line_color\":{\"value\":\"#1f77b4\"},\"x\":{\"field\":\"x\"},\"y\":{\"field\":\"y\"}},\"id\":\"802dde40-3cdc-4f8b-9f1e-ede6dda7d7a3\",\"type\":\"Line\"},{\"attributes\":{\"plot\":{\"id\":\"d81b3087-5c2a-40c4-82fe-d682cdf51fcd\",\"subtype\":\"Figure\",\"type\":\"Plot\"},\"ticker\":{\"id\":\"22b0d636-b4aa-4812-9711-d8aaaa7b1b27\",\"type\":\"BasicTicker\"}},\"id\":\"34dfb7cf-c5ac-4015-aa8a-ec4cd928aabc\",\"type\":\"Grid\"},{\"attributes\":{},\"id\":\"32e4e52c-8ca7-4432-9f40-1492022972e1\",\"type\":\"BasicTickFormatter\"},{\"attributes\":{},\"id\":\"36efca0c-db9f-4fba-84c0-57cf23dcb77b\",\"type\":\"ToolEvents\"},{\"attributes\":{\"plot\":{\"id\":\"e51ba4df-5cbe-4762-a059-75aeff004255\",\"subtype\":\"Figure\",\"type\":\"Plot\"}},\"id\":\"5608ce6f-76ed-4323-a922-c75cd13eb105\",\"type\":\"CrosshairTool\"},{\"attributes\":{\"active_drag\":\"auto\",\"active_scroll\":\"auto\",\"active_tap\":\"auto\",\"tools\":[{\"id\":\"f9b9cdf7-6dca-4496-adbb-d22d8e22e0a3\",\"type\":\"HoverTool\"},{\"id\":\"93ff6cc2-d2e7-4333-9516-d662aaf6cf78\",\"type\":\"ResetTool\"},{\"id\":\"7a833a95-c2e1-4b96-8f36-6920335eed20\",\"type\":\"CrosshairTool\"}]},\"id\":\"5b28c6e3-2176-4478-ac95-6aa4142b564a\",\"type\":\"Toolbar\"},{\"attributes\":{\"below\":[{\"id\":\"d1e24c31-8b68-4059-8d7b-6b0ca72aff4c\",\"type\":\"LinearAxis\"}],\"left\":[{\"id\":\"cc8ba232-3bc3-45dc-ac51-07a7af0be787\",\"type\":\"LinearAxis\"}],\"plot_height\":300,\"plot_width\":300,\"renderers\":[{\"id\":\"d1e24c31-8b68-4059-8d7b-6b0ca72aff4c\",\"type\":\"LinearAxis\"},{\"id\":\"34dfb7cf-c5ac-4015-aa8a-ec4cd928aabc\",\"type\":\"Grid\"},{\"id\":\"cc8ba232-3bc3-45dc-ac51-07a7af0be787\",\"type\":\"LinearAxis\"},{\"id\":\"343b500c-9376-4e23-b271-409fe65f9b8e\",\"type\":\"Grid\"},{\"id\":\"ef0a56a8-cb26-44d2-9830-b2bd083e5b5c\",\"type\":\"Legend\"},{\"id\":\"307f1545-b7e6-4c87-b29d-de5de95ded0f\",\"type\":\"GlyphRenderer\"},{\"id\":\"54f26391-8c75-4772-b486-cb576d22db9e\",\"type\":\"GlyphRenderer\"}],\"title\":{\"id\":\"c4448862-78ca-4d13-a259-5ca37aec9272\",\"type\":\"Title\"},\"tool_events\":{\"id\":\"36efca0c-db9f-4fba-84c0-57cf23dcb77b\",\"type\":\"ToolEvents\"},\"toolbar\":{\"id\":\"5b28c6e3-2176-4478-ac95-6aa4142b564a\",\"type\":\"Toolbar\"},\"toolbar_location\":null,\"x_range\":{\"id\":\"7d4875f3-4d67-4b9a-8554-cd9d611e816e\",\"type\":\"DataRange1d\"},\"y_range\":{\"id\":\"168e16ec-27fc-4f16-a9a8-f2c5200b43dc\",\"type\":\"DataRange1d\"}},\"id\":\"d81b3087-5c2a-40c4-82fe-d682cdf51fcd\",\"subtype\":\"Figure\",\"type\":\"Plot\"},{\"attributes\":{\"children\":[{\"id\":\"acbabe95-7d75-4fa0-86c1-6a5c6adf1c16\",\"type\":\"ToolbarBox\"},{\"id\":\"d59d847c-1054-4782-a4a4-34215810afee\",\"type\":\"Column\"}]},\"id\":\"594beb37-8e1c-457e-a1e2-be142774193b\",\"type\":\"Column\"},{\"attributes\":{},\"id\":\"5ee2db9b-d962-4377-8b4e-35f70e43b6cc\",\"type\":\"ToolEvents\"},{\"attributes\":{},\"id\":\"e21acfec-495f-4c02-8e8a-0671ef9bceec\",\"type\":\"BasicTickFormatter\"},{\"attributes\":{\"axis_label\":\"density\",\"formatter\":{\"id\":\"c0336571-4683-4e9d-bad4-eddf20db8761\",\"type\":\"BasicTickFormatter\"},\"plot\":{\"id\":\"4d8e050c-9791-4761-a70a-844a55ffc0f1\",\"subtype\":\"Figure\",\"type\":\"Plot\"},\"ticker\":{\"id\":\"f8ee2654-ae7d-43a6-8d33-347aa27fcb6f\",\"type\":\"BasicTicker\"}},\"id\":\"4154052b-f413-453b-97ed-f70203b0a51f\",\"type\":\"LinearAxis\"},{\"attributes\":{\"callback\":null},\"id\":\"4625d5cf-e520-46e1-b5ef-b860036d9ceb\",\"type\":\"DataRange1d\"},{\"attributes\":{},\"id\":\"09d8d19b-eaa6-4800-ab9b-735b84ab67cd\",\"type\":\"ToolEvents\"},{\"attributes\":{},\"id\":\"ece9ff10-f91f-4f01-a0a9-7e75cfad7857\",\"type\":\"ToolEvents\"},{\"attributes\":{\"plot\":{\"id\":\"e51ba4df-5cbe-4762-a059-75aeff004255\",\"subtype\":\"Figure\",\"type\":\"Plot\"},\"ticker\":{\"id\":\"f1f43eff-0107-4861-a125-f3be65f8f5d1\",\"type\":\"BasicTicker\"}},\"id\":\"b736614f-5d67-4f83-8e24-56ac8e87f6d5\",\"type\":\"Grid\"},{\"attributes\":{\"data_source\":{\"id\":\"25683c6e-4517-4789-84c8-b50516e33f1f\",\"type\":\"ColumnDataSource\"},\"glyph\":{\"id\":\"cf7d601a-6ad9-4d24-9b76-80b2ca2b0f98\",\"type\":\"Line\"},\"hover_glyph\":null,\"nonselection_glyph\":{\"id\":\"7be0f736-aa19-4b65-beea-6f2488b1c8b5\",\"type\":\"Line\"},\"selection_glyph\":null},\"id\":\"e92f4ace-810e-49e4-86ee-a1eb171c5fcc\",\"type\":\"GlyphRenderer\"},{\"attributes\":{\"legends\":[[\"white\",[{\"id\":\"beeb8a20-2fcb-4822-b323-42fb06887f50\",\"type\":\"GlyphRenderer\"}]],[\"red\",[{\"id\":\"8cec8ed1-dafb-439e-978f-9de91981015d\",\"type\":\"GlyphRenderer\"}]]],\"location\":\"top_left\",\"plot\":{\"id\":\"6f1eaa12-f0bc-4fb1-9e22-79eb25006ba2\",\"subtype\":\"Figure\",\"type\":\"Plot\"}},\"id\":\"4c69df56-63a7-4ee9-998d-b7a94c9afc5f\",\"type\":\"Legend\"},{\"attributes\":{\"plot\":null,\"text\":\"mean pH vs. quality\"},\"id\":\"cb308e23-1d6a-4919-a9cb-c227c9079738\",\"type\":\"Title\"},{\"attributes\":{\"line_color\":{\"value\":\"green\"},\"x\":{\"field\":\"x\"},\"y\":{\"field\":\"y\"}},\"id\":\"f77592f3-fc9d-47da-9a04-f0b239ffb105\",\"type\":\"Line\"},{\"attributes\":{},\"id\":\"0e6e2f48-afb8-40a6-ab38-c358583cf33d\",\"type\":\"BasicTicker\"},{\"attributes\":{\"data_source\":{\"id\":\"3100767e-cdd4-4dfc-9ec1-f3d367956890\",\"type\":\"ColumnDataSource\"},\"glyph\":{\"id\":\"8e6a7f71-be8d-4f76-a60d-6150730f830d\",\"type\":\"Line\"},\"hover_glyph\":null,\"nonselection_glyph\":{\"id\":\"802dde40-3cdc-4f8b-9f1e-ede6dda7d7a3\",\"type\":\"Line\"},\"selection_glyph\":null},\"id\":\"011718ac-800e-4e6a-9c5f-6d48fdff0304\",\"type\":\"GlyphRenderer\"},{\"attributes\":{},\"id\":\"3346c89f-db43-40af-918d-27ad37080d74\",\"type\":\"BasicTickFormatter\"},{\"attributes\":{\"line_alpha\":{\"value\":0.1},\"line_color\":{\"value\":\"#1f77b4\"},\"x\":{\"field\":\"x\"},\"y\":{\"field\":\"y\"}},\"id\":\"f2708e8e-60a9-454c-8883-e5f80a4e609d\",\"type\":\"Line\"},{\"attributes\":{\"line_color\":{\"value\":\"red\"},\"x\":{\"field\":\"x\"},\"y\":{\"field\":\"y\"}},\"id\":\"8e6a7f71-be8d-4f76-a60d-6150730f830d\",\"type\":\"Line\"},{\"attributes\":{\"line_alpha\":{\"value\":0.1},\"line_color\":{\"value\":\"#1f77b4\"},\"x\":{\"field\":\"x\"},\"y\":{\"field\":\"y\"}},\"id\":\"7be0f736-aa19-4b65-beea-6f2488b1c8b5\",\"type\":\"Line\"},{\"attributes\":{\"below\":[{\"id\":\"b008d59a-4692-4ed8-9f14-2ec71da64e2d\",\"type\":\"LinearAxis\"}],\"left\":[{\"id\":\"14eebc25-f5ac-4f66-92de-776f6f8fc754\",\"type\":\"LinearAxis\"}],\"plot_height\":300,\"plot_width\":300,\"renderers\":[{\"id\":\"b008d59a-4692-4ed8-9f14-2ec71da64e2d\",\"type\":\"LinearAxis\"},{\"id\":\"6c38f17b-215c-4517-865f-39231199c606\",\"type\":\"Grid\"},{\"id\":\"14eebc25-f5ac-4f66-92de-776f6f8fc754\",\"type\":\"LinearAxis\"},{\"id\":\"2130b801-5dbf-44f9-ab03-a7a6152a20c9\",\"type\":\"Grid\"},{\"id\":\"4c69df56-63a7-4ee9-998d-b7a94c9afc5f\",\"type\":\"Legend\"},{\"id\":\"beeb8a20-2fcb-4822-b323-42fb06887f50\",\"type\":\"GlyphRenderer\"},{\"id\":\"8cec8ed1-dafb-439e-978f-9de91981015d\",\"type\":\"GlyphRenderer\"}],\"title\":{\"id\":\"b8355575-faf3-4705-8abf-983db63f525e\",\"type\":\"Title\"},\"tool_events\":{\"id\":\"fe9260a4-b7f6-4daa-b4a0-4389ac5895da\",\"type\":\"ToolEvents\"},\"toolbar\":{\"id\":\"06561687-eb51-494c-b4ac-7e5cf76a9f10\",\"type\":\"Toolbar\"},\"toolbar_location\":null,\"x_range\":{\"id\":\"311c7e46-5bed-4279-866b-ec9967a0de65\",\"type\":\"DataRange1d\"},\"y_range\":{\"id\":\"3e5bd451-b5d0-4295-8cf7-948f91b3c2a8\",\"type\":\"DataRange1d\"}},\"id\":\"6f1eaa12-f0bc-4fb1-9e22-79eb25006ba2\",\"subtype\":\"Figure\",\"type\":\"Plot\"},{\"attributes\":{\"callback\":null,\"plot\":{\"id\":\"e51ba4df-5cbe-4762-a059-75aeff004255\",\"subtype\":\"Figure\",\"type\":\"Plot\"}},\"id\":\"1a9eaca3-d7b0-4663-bbbf-813775315d38\",\"type\":\"HoverTool\"},{\"attributes\":{\"callback\":null,\"column_names\":[\"y\",\"x\"],\"data\":{\"x\":[3.0,4.0,5.0,6.0,7.0,8.0,9.0],\"y\":[0.466,0.4745000000000001,0.47613496932515353,0.4822031571722726,0.4862285714285713,0.4911055505004552,0.5031022727272721]}},\"id\":\"5eba18b4-34fa-4cb1-8e31-5d84d0934810\",\"type\":\"ColumnDataSource\"},{\"attributes\":{\"active_drag\":\"auto\",\"active_scroll\":\"auto\",\"active_tap\":\"auto\",\"tools\":[{\"id\":\"1a9eaca3-d7b0-4663-bbbf-813775315d38\",\"type\":\"HoverTool\"},{\"id\":\"da5158d5-ad5c-4ca8-aeb1-40a5c397c6d1\",\"type\":\"ResetTool\"},{\"id\":\"5608ce6f-76ed-4323-a922-c75cd13eb105\",\"type\":\"CrosshairTool\"}]},\"id\":\"d4e1db73-d38b-4316-b613-d1109f1052b2\",\"type\":\"Toolbar\"},{\"attributes\":{},\"id\":\"e99f4751-154b-4c32-9de7-07b8f2887ab8\",\"type\":\"BasicTicker\"},{\"attributes\":{\"plot\":{\"id\":\"f2b3b504-44d7-467b-8098-f82705254fe0\",\"subtype\":\"Figure\",\"type\":\"Plot\"}},\"id\":\"9bb328af-b616-414e-8a05-db78df5ef499\",\"type\":\"ResetTool\"},{\"attributes\":{\"line_color\":{\"value\":\"red\"},\"x\":{\"field\":\"x\"},\"y\":{\"field\":\"y\"}},\"id\":\"e040932f-7eee-4a71-833a-75f35ef36c5c\",\"type\":\"Line\"},{\"attributes\":{},\"id\":\"6360b0ed-26f4-45f1-adf0-bd27c0038882\",\"type\":\"BasicTicker\"},{\"attributes\":{},\"id\":\"c0336571-4683-4e9d-bad4-eddf20db8761\",\"type\":\"BasicTickFormatter\"},{\"attributes\":{\"children\":[{\"id\":\"6f1eaa12-f0bc-4fb1-9e22-79eb25006ba2\",\"subtype\":\"Figure\",\"type\":\"Plot\"},{\"id\":\"4d8e050c-9791-4761-a70a-844a55ffc0f1\",\"subtype\":\"Figure\",\"type\":\"Plot\"},{\"id\":\"f2b3b504-44d7-467b-8098-f82705254fe0\",\"subtype\":\"Figure\",\"type\":\"Plot\"}]},\"id\":\"82775bf5-f515-4936-89df-9e240406ddeb\",\"type\":\"Row\"},{\"attributes\":{\"callback\":null,\"plot\":{\"id\":\"6f1eaa12-f0bc-4fb1-9e22-79eb25006ba2\",\"subtype\":\"Figure\",\"type\":\"Plot\"}},\"id\":\"e3128060-75ee-46bc-b109-e63b5b06e4a0\",\"type\":\"HoverTool\"},{\"attributes\":{\"plot\":{\"id\":\"d81b3087-5c2a-40c4-82fe-d682cdf51fcd\",\"subtype\":\"Figure\",\"type\":\"Plot\"}},\"id\":\"93ff6cc2-d2e7-4333-9516-d662aaf6cf78\",\"type\":\"ResetTool\"},{\"attributes\":{\"callback\":null,\"plot\":{\"id\":\"f2b3b504-44d7-467b-8098-f82705254fe0\",\"subtype\":\"Figure\",\"type\":\"Plot\"}},\"id\":\"cd66f4a2-adc5-4358-902f-8901a6212e05\",\"type\":\"HoverTool\"},{\"attributes\":{\"line_alpha\":{\"value\":0.1},\"line_color\":{\"value\":\"#1f77b4\"},\"x\":{\"field\":\"x\"},\"y\":{\"field\":\"y\"}},\"id\":\"8af12626-1b1e-48e2-aba0-0988dc3354c1\",\"type\":\"Line\"},{\"attributes\":{\"legends\":[[\"white\",[{\"id\":\"6982cd49-ce4f-4d4f-901b-045a3fbb4b0d\",\"type\":\"GlyphRenderer\"}]],[\"red\",[{\"id\":\"055e16f5-3fb5-4bde-8bca-25851f62b459\",\"type\":\"GlyphRenderer\"}]]],\"location\":\"top_left\",\"plot\":{\"id\":\"e51ba4df-5cbe-4762-a059-75aeff004255\",\"subtype\":\"Figure\",\"type\":\"Plot\"}},\"id\":\"4113f08d-0eff-4d74-ae51-646844a84d77\",\"type\":\"Legend\"},{\"attributes\":{\"dimension\":1,\"plot\":{\"id\":\"4d8e050c-9791-4761-a70a-844a55ffc0f1\",\"subtype\":\"Figure\",\"type\":\"Plot\"},\"ticker\":{\"id\":\"f8ee2654-ae7d-43a6-8d33-347aa27fcb6f\",\"type\":\"BasicTicker\"}},\"id\":\"3a5bc7e2-d9a6-4e50-8ec7-c138fbad3472\",\"type\":\"Grid\"},{\"attributes\":{\"line_color\":{\"value\":\"red\"},\"x\":{\"field\":\"x\"},\"y\":{\"field\":\"y\"}},\"id\":\"90ca5001-35a0-4002-be50-1f2b1e91de49\",\"type\":\"Line\"},{\"attributes\":{\"plot\":{\"id\":\"4d8e050c-9791-4761-a70a-844a55ffc0f1\",\"subtype\":\"Figure\",\"type\":\"Plot\"},\"ticker\":{\"id\":\"0e6e2f48-afb8-40a6-ab38-c358583cf33d\",\"type\":\"BasicTicker\"}},\"id\":\"c636224a-d403-4886-b613-c720d62f1ef6\",\"type\":\"Grid\"},{\"attributes\":{\"children\":[{\"id\":\"82775bf5-f515-4936-89df-9e240406ddeb\",\"type\":\"Row\"},{\"id\":\"9b2f5bc5-0be4-4fed-8cba-57206efc5b69\",\"type\":\"Row\"}]},\"id\":\"d59d847c-1054-4782-a4a4-34215810afee\",\"type\":\"Column\"},{\"attributes\":{\"plot\":{\"id\":\"4d8e050c-9791-4761-a70a-844a55ffc0f1\",\"subtype\":\"Figure\",\"type\":\"Plot\"}},\"id\":\"bb1fa3ee-dd60-4ce9-9527-69c1bb9f7bb9\",\"type\":\"ResetTool\"},{\"attributes\":{\"active_drag\":\"auto\",\"active_scroll\":\"auto\",\"active_tap\":\"auto\",\"tools\":[{\"id\":\"e3128060-75ee-46bc-b109-e63b5b06e4a0\",\"type\":\"HoverTool\"},{\"id\":\"51a3fd0c-19fc-4fb5-808f-d4a91bf2bf6d\",\"type\":\"ResetTool\"},{\"id\":\"1bcfdd0b-6429-46eb-b894-ce727d035a6d\",\"type\":\"CrosshairTool\"}]},\"id\":\"06561687-eb51-494c-b4ac-7e5cf76a9f10\",\"type\":\"Toolbar\"},{\"attributes\":{\"dimension\":1,\"plot\":{\"id\":\"e51ba4df-5cbe-4762-a059-75aeff004255\",\"subtype\":\"Figure\",\"type\":\"Plot\"},\"ticker\":{\"id\":\"3d11f61f-4ecb-4d48-97fb-3116ff22a95a\",\"type\":\"BasicTicker\"}},\"id\":\"79cf62d7-08ac-454a-9e4f-1466e97a8807\",\"type\":\"Grid\"},{\"attributes\":{\"dimension\":1,\"plot\":{\"id\":\"6f1eaa12-f0bc-4fb1-9e22-79eb25006ba2\",\"subtype\":\"Figure\",\"type\":\"Plot\"},\"ticker\":{\"id\":\"1e555a2d-b69c-41ad-9c11-b05b473f380a\",\"type\":\"BasicTicker\"}},\"id\":\"2130b801-5dbf-44f9-ab03-a7a6152a20c9\",\"type\":\"Grid\"},{\"attributes\":{\"callback\":null,\"column_names\":[\"y\",\"x\"],\"data\":{\"x\":[3.0,4.0,5.0,6.0,7.0,8.0,9.0],\"y\":[3.168833218943034,3.1828834355828244,3.1874999999999996,3.1885987261146482,3.2138977272727316,3.2186857142857175,3.308]}},\"id\":\"25683c6e-4517-4789-84c8-b50516e33f1f\",\"type\":\"ColumnDataSource\"},{\"attributes\":{\"callback\":null,\"plot\":{\"id\":\"4d8e050c-9791-4761-a70a-844a55ffc0f1\",\"subtype\":\"Figure\",\"type\":\"Plot\"}},\"id\":\"55531638-ab55-40a1-83a7-51c7d946fb8d\",\"type\":\"HoverTool\"},{\"attributes\":{\"axis_label\":\"alcohol\",\"formatter\":{\"id\":\"ec491d1a-09c4-42f4-9800-402f67f6ff6a\",\"type\":\"BasicTickFormatter\"},\"plot\":{\"id\":\"e51ba4df-5cbe-4762-a059-75aeff004255\",\"subtype\":\"Figure\",\"type\":\"Plot\"},\"ticker\":{\"id\":\"3d11f61f-4ecb-4d48-97fb-3116ff22a95a\",\"type\":\"BasicTicker\"}},\"id\":\"13da5b88-17a7-4c99-bcf6-0ddd2f17b2db\",\"type\":\"LinearAxis\"},{\"attributes\":{\"callback\":null,\"column_names\":[\"y\",\"x\"],\"data\":{\"x\":[3.0,4.0,5.0,6.0,7.0,8.0,9.0],\"y\":[9.808840082361009,10.15245398773007,10.345,10.575371549893866,11.367935606060604,11.636000000000003,12.18]}},\"id\":\"cccc8a8c-3df9-487a-a5a1-0db537970c65\",\"type\":\"ColumnDataSource\"},{\"attributes\":{\"legends\":[[\"white\",[{\"id\":\"88e1ec5d-e83b-4396-a808-b72ccc32758e\",\"type\":\"GlyphRenderer\"}]],[\"red\",[{\"id\":\"f32e8527-7f0f-4b52-8008-72978728c97f\",\"type\":\"GlyphRenderer\"}]]],\"location\":\"top_left\",\"plot\":{\"id\":\"4d8e050c-9791-4761-a70a-844a55ffc0f1\",\"subtype\":\"Figure\",\"type\":\"Plot\"}},\"id\":\"555f6430-ce76-4f33-af4c-8bc8c68ed10f\",\"type\":\"Legend\"},{\"attributes\":{\"axis_label\":\"pH\",\"formatter\":{\"id\":\"b1435f5b-295d-400d-a056-df1b4c4bdab5\",\"type\":\"BasicTickFormatter\"},\"plot\":{\"id\":\"f2b3b504-44d7-467b-8098-f82705254fe0\",\"subtype\":\"Figure\",\"type\":\"Plot\"},\"ticker\":{\"id\":\"2dba3423-ed62-4d15-a176-d792c7c4db03\",\"type\":\"BasicTicker\"}},\"id\":\"12adc431-7367-4999-b285-d8a810cd6ae8\",\"type\":\"LinearAxis\"},{\"attributes\":{\"axis_label\":\"quality\",\"formatter\":{\"id\":\"d2eaa85c-bd5b-4575-a7fe-21a2c3b306ec\",\"type\":\"BasicTickFormatter\"},\"plot\":{\"id\":\"e51ba4df-5cbe-4762-a059-75aeff004255\",\"subtype\":\"Figure\",\"type\":\"Plot\"},\"ticker\":{\"id\":\"f1f43eff-0107-4861-a125-f3be65f8f5d1\",\"type\":\"BasicTicker\"}},\"id\":\"4f914276-c788-4278-9529-c57a2304b7c0\",\"type\":\"LinearAxis\"},{\"attributes\":{\"axis_label\":\"quality\",\"formatter\":{\"id\":\"73969b86-b163-4978-ac30-f82f76fa3cb0\",\"type\":\"BasicTickFormatter\"},\"plot\":{\"id\":\"d81b3087-5c2a-40c4-82fe-d682cdf51fcd\",\"subtype\":\"Figure\",\"type\":\"Plot\"},\"ticker\":{\"id\":\"22b0d636-b4aa-4812-9711-d8aaaa7b1b27\",\"type\":\"BasicTicker\"}},\"id\":\"d1e24c31-8b68-4059-8d7b-6b0ca72aff4c\",\"type\":\"LinearAxis\"},{\"attributes\":{},\"id\":\"fe9260a4-b7f6-4daa-b4a0-4389ac5895da\",\"type\":\"ToolEvents\"},{\"attributes\":{\"dimension\":1,\"plot\":{\"id\":\"d81b3087-5c2a-40c4-82fe-d682cdf51fcd\",\"subtype\":\"Figure\",\"type\":\"Plot\"},\"ticker\":{\"id\":\"e99f4751-154b-4c32-9de7-07b8f2887ab8\",\"type\":\"BasicTicker\"}},\"id\":\"343b500c-9376-4e23-b271-409fe65f9b8e\",\"type\":\"Grid\"},{\"attributes\":{\"plot\":{\"id\":\"6f1eaa12-f0bc-4fb1-9e22-79eb25006ba2\",\"subtype\":\"Figure\",\"type\":\"Plot\"},\"ticker\":{\"id\":\"6360b0ed-26f4-45f1-adf0-bd27c0038882\",\"type\":\"BasicTicker\"}},\"id\":\"6c38f17b-215c-4517-865f-39231199c606\",\"type\":\"Grid\"},{\"attributes\":{\"plot\":null,\"text\":\"mean sulphates vs. quality\"},\"id\":\"c4448862-78ca-4d13-a259-5ca37aec9272\",\"type\":\"Title\"},{\"attributes\":{\"callback\":null},\"id\":\"909a1062-03fa-4bd8-aa40-d834f8b9ef33\",\"type\":\"DataRange1d\"},{\"attributes\":{\"plot\":{\"id\":\"e51ba4df-5cbe-4762-a059-75aeff004255\",\"subtype\":\"Figure\",\"type\":\"Plot\"}},\"id\":\"da5158d5-ad5c-4ca8-aeb1-40a5c397c6d1\",\"type\":\"ResetTool\"},{\"attributes\":{\"plot\":{\"id\":\"4d8e050c-9791-4761-a70a-844a55ffc0f1\",\"subtype\":\"Figure\",\"type\":\"Plot\"}},\"id\":\"e543ea9d-a435-44cb-9c7f-0ea7d14ac34c\",\"type\":\"CrosshairTool\"},{\"attributes\":{\"line_color\":{\"value\":\"red\"},\"x\":{\"field\":\"x\"},\"y\":{\"field\":\"y\"}},\"id\":\"66e5e252-2227-40a2-bca6-e846d725430f\",\"type\":\"Line\"},{\"attributes\":{\"plot\":{\"id\":\"d81b3087-5c2a-40c4-82fe-d682cdf51fcd\",\"subtype\":\"Figure\",\"type\":\"Plot\"}},\"id\":\"7a833a95-c2e1-4b96-8f36-6920335eed20\",\"type\":\"CrosshairTool\"},{\"attributes\":{\"legends\":[[\"white\",[{\"id\":\"e92f4ace-810e-49e4-86ee-a1eb171c5fcc\",\"type\":\"GlyphRenderer\"}]],[\"red\",[{\"id\":\"011718ac-800e-4e6a-9c5f-6d48fdff0304\",\"type\":\"GlyphRenderer\"}]]],\"location\":\"top_left\",\"plot\":{\"id\":\"f2b3b504-44d7-467b-8098-f82705254fe0\",\"subtype\":\"Figure\",\"type\":\"Plot\"}},\"id\":\"81b17bf5-8d70-4da7-b0db-15d4632a5b03\",\"type\":\"Legend\"},{\"attributes\":{\"plot\":{\"id\":\"f2b3b504-44d7-467b-8098-f82705254fe0\",\"subtype\":\"Figure\",\"type\":\"Plot\"}},\"id\":\"f8e37f4b-19b9-4a05-9b31-2ea3a0d466fe\",\"type\":\"CrosshairTool\"},{\"attributes\":{\"callback\":null,\"plot\":{\"id\":\"d81b3087-5c2a-40c4-82fe-d682cdf51fcd\",\"subtype\":\"Figure\",\"type\":\"Plot\"}},\"id\":\"f9b9cdf7-6dca-4496-adbb-d22d8e22e0a3\",\"type\":\"HoverTool\"},{\"attributes\":{},\"id\":\"b1435f5b-295d-400d-a056-df1b4c4bdab5\",\"type\":\"BasicTickFormatter\"}],\"root_ids\":[\"594beb37-8e1c-457e-a1e2-be142774193b\"]},\"title\":\"Bokeh Application\",\"version\":\"0.12.0\"}};\n",
       "            var render_items = [{\"docid\":\"e1ffd8ba-1b0b-4f26-ada2-b643399438e4\",\"elementid\":\"d427cd9c-1043-4624-b358-54bfe2ef564a\",\"modelid\":\"594beb37-8e1c-457e-a1e2-be142774193b\",\"notebook_comms_target\":\"49f29c32-4e01-4b1c-86d0-584b5769be80\"}];\n",
       "            \n",
       "            Bokeh.embed.embed_items(docs_json, render_items);\n",
       "        });\n",
       "      },\n",
       "      function(Bokeh) {\n",
       "      }\n",
       "    ];\n",
       "  \n",
       "    function run_inline_js() {\n",
       "      for (var i = 0; i < inline_js.length; i++) {\n",
       "        inline_js[i](window.Bokeh);\n",
       "      }\n",
       "    }\n",
       "  \n",
       "    if (window._bokeh_is_loading === 0) {\n",
       "      console.log(\"Bokeh: BokehJS loaded, going straight to plotting\");\n",
       "      run_inline_js();\n",
       "    } else {\n",
       "      load_libs(js_urls, function() {\n",
       "        console.log(\"Bokeh: BokehJS plotting callback run at\", now());\n",
       "        run_inline_js();\n",
       "      });\n",
       "    }\n",
       "  }(this));\n",
       "</script>"
      ]
     },
     "metadata": {},
     "output_type": "display_data"
    },
    {
     "name": "stderr",
     "output_type": "stream",
     "text": [
      "/Users/ericalonas/anaconda/envs/py35/lib/python3.5/site-packages/bokeh/io.py:420: UserWarning: save() called but no resources were supplied and output_file(...) was never called, defaulting to resources.CDN\n",
      "  warnings.warn(\"save() called but no resources were supplied and output_file(...) was never called, defaulting to resources.CDN\")\n"
     ]
    },
    {
     "data": {
      "text/plain": [
       "'/Users/ericalonas/Documents/Insight-Interview/plot3.html'"
      ]
     },
     "execution_count": 32,
     "metadata": {},
     "output_type": "execute_result"
    }
   ],
   "source": [
    "p4=gridplot([plot_list[6:9], plot_list[9:12]])\n",
    "show(p4)\n",
    "bplt.save(p4,filename = 'plot3.html', title = 'Red/White Wine Paramter Graphs 2')"
   ]
  },
  {
   "cell_type": "code",
   "execution_count": null,
   "metadata": {
    "collapsed": false
   },
   "outputs": [],
   "source": []
  },
  {
   "cell_type": "markdown",
   "metadata": {
    "collapsed": true
   },
   "source": [
    "# Examining correlation"
   ]
  },
  {
   "cell_type": "code",
   "execution_count": 33,
   "metadata": {
    "collapsed": false
   },
   "outputs": [],
   "source": [
    "subset_red = comp_data[comp_data['white?']==0][key_subset]\n",
    "corr_red = subset_red.corr()\n",
    "\n",
    "subset_white = comp_data[comp_data['white?']==1][key_subset]\n",
    "corr_white = subset_white.corr()\n"
   ]
  },
  {
   "cell_type": "code",
   "execution_count": 34,
   "metadata": {
    "collapsed": false
   },
   "outputs": [
    {
     "data": {
      "text/html": [
       "<div>\n",
       "<table border=\"1\" class=\"dataframe\">\n",
       "  <thead>\n",
       "    <tr style=\"text-align: right;\">\n",
       "      <th></th>\n",
       "      <th>fixed acidity</th>\n",
       "      <th>volatile acidity</th>\n",
       "      <th>citric acid</th>\n",
       "      <th>residual sugar</th>\n",
       "      <th>chlorides</th>\n",
       "      <th>free sulfur dioxide</th>\n",
       "      <th>total sulfur dioxide</th>\n",
       "      <th>density</th>\n",
       "      <th>pH</th>\n",
       "      <th>sulphates</th>\n",
       "      <th>alcohol</th>\n",
       "    </tr>\n",
       "  </thead>\n",
       "  <tbody>\n",
       "    <tr>\n",
       "      <th>fixed acidity</th>\n",
       "      <td>NaN</td>\n",
       "      <td>NaN</td>\n",
       "      <td>0.671703</td>\n",
       "      <td>NaN</td>\n",
       "      <td>NaN</td>\n",
       "      <td>NaN</td>\n",
       "      <td>NaN</td>\n",
       "      <td>0.668047</td>\n",
       "      <td>-0.682978</td>\n",
       "      <td>NaN</td>\n",
       "      <td>NaN</td>\n",
       "    </tr>\n",
       "    <tr>\n",
       "      <th>volatile acidity</th>\n",
       "      <td>NaN</td>\n",
       "      <td>NaN</td>\n",
       "      <td>-0.552496</td>\n",
       "      <td>NaN</td>\n",
       "      <td>NaN</td>\n",
       "      <td>NaN</td>\n",
       "      <td>NaN</td>\n",
       "      <td>NaN</td>\n",
       "      <td>NaN</td>\n",
       "      <td>NaN</td>\n",
       "      <td>NaN</td>\n",
       "    </tr>\n",
       "    <tr>\n",
       "      <th>citric acid</th>\n",
       "      <td>0.671703</td>\n",
       "      <td>-0.552496</td>\n",
       "      <td>NaN</td>\n",
       "      <td>NaN</td>\n",
       "      <td>NaN</td>\n",
       "      <td>NaN</td>\n",
       "      <td>NaN</td>\n",
       "      <td>NaN</td>\n",
       "      <td>-0.541904</td>\n",
       "      <td>NaN</td>\n",
       "      <td>NaN</td>\n",
       "    </tr>\n",
       "    <tr>\n",
       "      <th>residual sugar</th>\n",
       "      <td>NaN</td>\n",
       "      <td>NaN</td>\n",
       "      <td>NaN</td>\n",
       "      <td>NaN</td>\n",
       "      <td>NaN</td>\n",
       "      <td>NaN</td>\n",
       "      <td>NaN</td>\n",
       "      <td>NaN</td>\n",
       "      <td>NaN</td>\n",
       "      <td>NaN</td>\n",
       "      <td>NaN</td>\n",
       "    </tr>\n",
       "    <tr>\n",
       "      <th>chlorides</th>\n",
       "      <td>NaN</td>\n",
       "      <td>NaN</td>\n",
       "      <td>NaN</td>\n",
       "      <td>NaN</td>\n",
       "      <td>NaN</td>\n",
       "      <td>NaN</td>\n",
       "      <td>NaN</td>\n",
       "      <td>NaN</td>\n",
       "      <td>NaN</td>\n",
       "      <td>NaN</td>\n",
       "      <td>NaN</td>\n",
       "    </tr>\n",
       "    <tr>\n",
       "      <th>free sulfur dioxide</th>\n",
       "      <td>NaN</td>\n",
       "      <td>NaN</td>\n",
       "      <td>NaN</td>\n",
       "      <td>NaN</td>\n",
       "      <td>NaN</td>\n",
       "      <td>NaN</td>\n",
       "      <td>0.667666</td>\n",
       "      <td>NaN</td>\n",
       "      <td>NaN</td>\n",
       "      <td>NaN</td>\n",
       "      <td>NaN</td>\n",
       "    </tr>\n",
       "    <tr>\n",
       "      <th>total sulfur dioxide</th>\n",
       "      <td>NaN</td>\n",
       "      <td>NaN</td>\n",
       "      <td>NaN</td>\n",
       "      <td>NaN</td>\n",
       "      <td>NaN</td>\n",
       "      <td>0.667666</td>\n",
       "      <td>NaN</td>\n",
       "      <td>NaN</td>\n",
       "      <td>NaN</td>\n",
       "      <td>NaN</td>\n",
       "      <td>NaN</td>\n",
       "    </tr>\n",
       "    <tr>\n",
       "      <th>density</th>\n",
       "      <td>0.668047</td>\n",
       "      <td>NaN</td>\n",
       "      <td>NaN</td>\n",
       "      <td>NaN</td>\n",
       "      <td>NaN</td>\n",
       "      <td>NaN</td>\n",
       "      <td>NaN</td>\n",
       "      <td>NaN</td>\n",
       "      <td>NaN</td>\n",
       "      <td>NaN</td>\n",
       "      <td>NaN</td>\n",
       "    </tr>\n",
       "    <tr>\n",
       "      <th>pH</th>\n",
       "      <td>-0.682978</td>\n",
       "      <td>NaN</td>\n",
       "      <td>-0.541904</td>\n",
       "      <td>NaN</td>\n",
       "      <td>NaN</td>\n",
       "      <td>NaN</td>\n",
       "      <td>NaN</td>\n",
       "      <td>NaN</td>\n",
       "      <td>NaN</td>\n",
       "      <td>NaN</td>\n",
       "      <td>NaN</td>\n",
       "    </tr>\n",
       "    <tr>\n",
       "      <th>sulphates</th>\n",
       "      <td>NaN</td>\n",
       "      <td>NaN</td>\n",
       "      <td>NaN</td>\n",
       "      <td>NaN</td>\n",
       "      <td>NaN</td>\n",
       "      <td>NaN</td>\n",
       "      <td>NaN</td>\n",
       "      <td>NaN</td>\n",
       "      <td>NaN</td>\n",
       "      <td>NaN</td>\n",
       "      <td>NaN</td>\n",
       "    </tr>\n",
       "    <tr>\n",
       "      <th>alcohol</th>\n",
       "      <td>NaN</td>\n",
       "      <td>NaN</td>\n",
       "      <td>NaN</td>\n",
       "      <td>NaN</td>\n",
       "      <td>NaN</td>\n",
       "      <td>NaN</td>\n",
       "      <td>NaN</td>\n",
       "      <td>NaN</td>\n",
       "      <td>NaN</td>\n",
       "      <td>NaN</td>\n",
       "      <td>NaN</td>\n",
       "    </tr>\n",
       "  </tbody>\n",
       "</table>\n",
       "</div>"
      ],
      "text/plain": [
       "                      fixed acidity  volatile acidity  citric acid  \\\n",
       "fixed acidity                   NaN               NaN     0.671703   \n",
       "volatile acidity                NaN               NaN    -0.552496   \n",
       "citric acid                0.671703         -0.552496          NaN   \n",
       "residual sugar                  NaN               NaN          NaN   \n",
       "chlorides                       NaN               NaN          NaN   \n",
       "free sulfur dioxide             NaN               NaN          NaN   \n",
       "total sulfur dioxide            NaN               NaN          NaN   \n",
       "density                    0.668047               NaN          NaN   \n",
       "pH                        -0.682978               NaN    -0.541904   \n",
       "sulphates                       NaN               NaN          NaN   \n",
       "alcohol                         NaN               NaN          NaN   \n",
       "\n",
       "                      residual sugar  chlorides  free sulfur dioxide  \\\n",
       "fixed acidity                    NaN        NaN                  NaN   \n",
       "volatile acidity                 NaN        NaN                  NaN   \n",
       "citric acid                      NaN        NaN                  NaN   \n",
       "residual sugar                   NaN        NaN                  NaN   \n",
       "chlorides                        NaN        NaN                  NaN   \n",
       "free sulfur dioxide              NaN        NaN                  NaN   \n",
       "total sulfur dioxide             NaN        NaN             0.667666   \n",
       "density                          NaN        NaN                  NaN   \n",
       "pH                               NaN        NaN                  NaN   \n",
       "sulphates                        NaN        NaN                  NaN   \n",
       "alcohol                          NaN        NaN                  NaN   \n",
       "\n",
       "                      total sulfur dioxide   density        pH  sulphates  \\\n",
       "fixed acidity                          NaN  0.668047 -0.682978        NaN   \n",
       "volatile acidity                       NaN       NaN       NaN        NaN   \n",
       "citric acid                            NaN       NaN -0.541904        NaN   \n",
       "residual sugar                         NaN       NaN       NaN        NaN   \n",
       "chlorides                              NaN       NaN       NaN        NaN   \n",
       "free sulfur dioxide               0.667666       NaN       NaN        NaN   \n",
       "total sulfur dioxide                   NaN       NaN       NaN        NaN   \n",
       "density                                NaN       NaN       NaN        NaN   \n",
       "pH                                     NaN       NaN       NaN        NaN   \n",
       "sulphates                              NaN       NaN       NaN        NaN   \n",
       "alcohol                                NaN       NaN       NaN        NaN   \n",
       "\n",
       "                      alcohol  \n",
       "fixed acidity             NaN  \n",
       "volatile acidity          NaN  \n",
       "citric acid               NaN  \n",
       "residual sugar            NaN  \n",
       "chlorides                 NaN  \n",
       "free sulfur dioxide       NaN  \n",
       "total sulfur dioxide      NaN  \n",
       "density                   NaN  \n",
       "pH                        NaN  \n",
       "sulphates                 NaN  \n",
       "alcohol                   NaN  "
      ]
     },
     "execution_count": 34,
     "metadata": {},
     "output_type": "execute_result"
    }
   ],
   "source": [
    "corr_red[(abs(corr_red)>=0.5)&(abs(corr_red)<1)]"
   ]
  },
  {
   "cell_type": "code",
   "execution_count": 35,
   "metadata": {
    "collapsed": false
   },
   "outputs": [
    {
     "data": {
      "text/html": [
       "<div>\n",
       "<table border=\"1\" class=\"dataframe\">\n",
       "  <thead>\n",
       "    <tr style=\"text-align: right;\">\n",
       "      <th></th>\n",
       "      <th>fixed acidity</th>\n",
       "      <th>volatile acidity</th>\n",
       "      <th>citric acid</th>\n",
       "      <th>residual sugar</th>\n",
       "      <th>chlorides</th>\n",
       "      <th>free sulfur dioxide</th>\n",
       "      <th>total sulfur dioxide</th>\n",
       "      <th>density</th>\n",
       "      <th>pH</th>\n",
       "      <th>sulphates</th>\n",
       "      <th>alcohol</th>\n",
       "    </tr>\n",
       "  </thead>\n",
       "  <tbody>\n",
       "    <tr>\n",
       "      <th>fixed acidity</th>\n",
       "      <td>NaN</td>\n",
       "      <td>NaN</td>\n",
       "      <td>NaN</td>\n",
       "      <td>NaN</td>\n",
       "      <td>NaN</td>\n",
       "      <td>NaN</td>\n",
       "      <td>NaN</td>\n",
       "      <td>NaN</td>\n",
       "      <td>NaN</td>\n",
       "      <td>NaN</td>\n",
       "      <td>NaN</td>\n",
       "    </tr>\n",
       "    <tr>\n",
       "      <th>volatile acidity</th>\n",
       "      <td>NaN</td>\n",
       "      <td>NaN</td>\n",
       "      <td>NaN</td>\n",
       "      <td>NaN</td>\n",
       "      <td>NaN</td>\n",
       "      <td>NaN</td>\n",
       "      <td>NaN</td>\n",
       "      <td>NaN</td>\n",
       "      <td>NaN</td>\n",
       "      <td>NaN</td>\n",
       "      <td>NaN</td>\n",
       "    </tr>\n",
       "    <tr>\n",
       "      <th>citric acid</th>\n",
       "      <td>NaN</td>\n",
       "      <td>NaN</td>\n",
       "      <td>NaN</td>\n",
       "      <td>NaN</td>\n",
       "      <td>NaN</td>\n",
       "      <td>NaN</td>\n",
       "      <td>NaN</td>\n",
       "      <td>NaN</td>\n",
       "      <td>NaN</td>\n",
       "      <td>NaN</td>\n",
       "      <td>NaN</td>\n",
       "    </tr>\n",
       "    <tr>\n",
       "      <th>residual sugar</th>\n",
       "      <td>NaN</td>\n",
       "      <td>NaN</td>\n",
       "      <td>NaN</td>\n",
       "      <td>NaN</td>\n",
       "      <td>NaN</td>\n",
       "      <td>NaN</td>\n",
       "      <td>NaN</td>\n",
       "      <td>0.838966</td>\n",
       "      <td>NaN</td>\n",
       "      <td>NaN</td>\n",
       "      <td>NaN</td>\n",
       "    </tr>\n",
       "    <tr>\n",
       "      <th>chlorides</th>\n",
       "      <td>NaN</td>\n",
       "      <td>NaN</td>\n",
       "      <td>NaN</td>\n",
       "      <td>NaN</td>\n",
       "      <td>NaN</td>\n",
       "      <td>NaN</td>\n",
       "      <td>NaN</td>\n",
       "      <td>NaN</td>\n",
       "      <td>NaN</td>\n",
       "      <td>NaN</td>\n",
       "      <td>NaN</td>\n",
       "    </tr>\n",
       "    <tr>\n",
       "      <th>free sulfur dioxide</th>\n",
       "      <td>NaN</td>\n",
       "      <td>NaN</td>\n",
       "      <td>NaN</td>\n",
       "      <td>NaN</td>\n",
       "      <td>NaN</td>\n",
       "      <td>NaN</td>\n",
       "      <td>0.615501</td>\n",
       "      <td>NaN</td>\n",
       "      <td>NaN</td>\n",
       "      <td>NaN</td>\n",
       "      <td>NaN</td>\n",
       "    </tr>\n",
       "    <tr>\n",
       "      <th>total sulfur dioxide</th>\n",
       "      <td>NaN</td>\n",
       "      <td>NaN</td>\n",
       "      <td>NaN</td>\n",
       "      <td>NaN</td>\n",
       "      <td>NaN</td>\n",
       "      <td>0.615501</td>\n",
       "      <td>NaN</td>\n",
       "      <td>0.529881</td>\n",
       "      <td>NaN</td>\n",
       "      <td>NaN</td>\n",
       "      <td>NaN</td>\n",
       "    </tr>\n",
       "    <tr>\n",
       "      <th>density</th>\n",
       "      <td>NaN</td>\n",
       "      <td>NaN</td>\n",
       "      <td>NaN</td>\n",
       "      <td>0.838966</td>\n",
       "      <td>NaN</td>\n",
       "      <td>NaN</td>\n",
       "      <td>0.529881</td>\n",
       "      <td>NaN</td>\n",
       "      <td>NaN</td>\n",
       "      <td>NaN</td>\n",
       "      <td>-0.780138</td>\n",
       "    </tr>\n",
       "    <tr>\n",
       "      <th>pH</th>\n",
       "      <td>NaN</td>\n",
       "      <td>NaN</td>\n",
       "      <td>NaN</td>\n",
       "      <td>NaN</td>\n",
       "      <td>NaN</td>\n",
       "      <td>NaN</td>\n",
       "      <td>NaN</td>\n",
       "      <td>NaN</td>\n",
       "      <td>NaN</td>\n",
       "      <td>NaN</td>\n",
       "      <td>NaN</td>\n",
       "    </tr>\n",
       "    <tr>\n",
       "      <th>sulphates</th>\n",
       "      <td>NaN</td>\n",
       "      <td>NaN</td>\n",
       "      <td>NaN</td>\n",
       "      <td>NaN</td>\n",
       "      <td>NaN</td>\n",
       "      <td>NaN</td>\n",
       "      <td>NaN</td>\n",
       "      <td>NaN</td>\n",
       "      <td>NaN</td>\n",
       "      <td>NaN</td>\n",
       "      <td>NaN</td>\n",
       "    </tr>\n",
       "    <tr>\n",
       "      <th>alcohol</th>\n",
       "      <td>NaN</td>\n",
       "      <td>NaN</td>\n",
       "      <td>NaN</td>\n",
       "      <td>NaN</td>\n",
       "      <td>NaN</td>\n",
       "      <td>NaN</td>\n",
       "      <td>NaN</td>\n",
       "      <td>-0.780138</td>\n",
       "      <td>NaN</td>\n",
       "      <td>NaN</td>\n",
       "      <td>NaN</td>\n",
       "    </tr>\n",
       "  </tbody>\n",
       "</table>\n",
       "</div>"
      ],
      "text/plain": [
       "                      fixed acidity  volatile acidity  citric acid  \\\n",
       "fixed acidity                   NaN               NaN          NaN   \n",
       "volatile acidity                NaN               NaN          NaN   \n",
       "citric acid                     NaN               NaN          NaN   \n",
       "residual sugar                  NaN               NaN          NaN   \n",
       "chlorides                       NaN               NaN          NaN   \n",
       "free sulfur dioxide             NaN               NaN          NaN   \n",
       "total sulfur dioxide            NaN               NaN          NaN   \n",
       "density                         NaN               NaN          NaN   \n",
       "pH                              NaN               NaN          NaN   \n",
       "sulphates                       NaN               NaN          NaN   \n",
       "alcohol                         NaN               NaN          NaN   \n",
       "\n",
       "                      residual sugar  chlorides  free sulfur dioxide  \\\n",
       "fixed acidity                    NaN        NaN                  NaN   \n",
       "volatile acidity                 NaN        NaN                  NaN   \n",
       "citric acid                      NaN        NaN                  NaN   \n",
       "residual sugar                   NaN        NaN                  NaN   \n",
       "chlorides                        NaN        NaN                  NaN   \n",
       "free sulfur dioxide              NaN        NaN                  NaN   \n",
       "total sulfur dioxide             NaN        NaN             0.615501   \n",
       "density                     0.838966        NaN                  NaN   \n",
       "pH                               NaN        NaN                  NaN   \n",
       "sulphates                        NaN        NaN                  NaN   \n",
       "alcohol                          NaN        NaN                  NaN   \n",
       "\n",
       "                      total sulfur dioxide   density  pH  sulphates   alcohol  \n",
       "fixed acidity                          NaN       NaN NaN        NaN       NaN  \n",
       "volatile acidity                       NaN       NaN NaN        NaN       NaN  \n",
       "citric acid                            NaN       NaN NaN        NaN       NaN  \n",
       "residual sugar                         NaN  0.838966 NaN        NaN       NaN  \n",
       "chlorides                              NaN       NaN NaN        NaN       NaN  \n",
       "free sulfur dioxide               0.615501       NaN NaN        NaN       NaN  \n",
       "total sulfur dioxide                   NaN  0.529881 NaN        NaN       NaN  \n",
       "density                           0.529881       NaN NaN        NaN -0.780138  \n",
       "pH                                     NaN       NaN NaN        NaN       NaN  \n",
       "sulphates                              NaN       NaN NaN        NaN       NaN  \n",
       "alcohol                                NaN -0.780138 NaN        NaN       NaN  "
      ]
     },
     "execution_count": 35,
     "metadata": {},
     "output_type": "execute_result"
    }
   ],
   "source": [
    "corr_white[(abs(corr_white)>=0.5)&(abs(corr_white)<1)]"
   ]
  },
  {
   "cell_type": "markdown",
   "metadata": {},
   "source": [
    "# Building Multiclass Classification Model for Quality"
   ]
  },
  {
   "cell_type": "code",
   "execution_count": 36,
   "metadata": {
    "collapsed": true
   },
   "outputs": [],
   "source": [
    "from sklearn import cross_validation\n",
    "from sklearn import linear_model\n",
    "from sklearn import metrics"
   ]
  },
  {
   "cell_type": "code",
   "execution_count": 37,
   "metadata": {
    "collapsed": false
   },
   "outputs": [],
   "source": [
    "xtrain, xtest, ytrain, ytest = cross_validation.train_test_split(subset_red, red2['quality'], train_size = 0.75)"
   ]
  },
  {
   "cell_type": "code",
   "execution_count": 38,
   "metadata": {
    "collapsed": false
   },
   "outputs": [
    {
     "data": {
      "text/plain": [
       "LogisticRegressionCV(Cs=10, class_weight=None, cv=None, dual=False,\n",
       "           fit_intercept=True, intercept_scaling=1.0, max_iter=100,\n",
       "           multi_class='multinomial', n_jobs=1, penalty='l2',\n",
       "           random_state=None, refit=True, scoring='accuracy',\n",
       "           solver='lbfgs', tol=0.0001, verbose=0)"
      ]
     },
     "execution_count": 38,
     "metadata": {},
     "output_type": "execute_result"
    }
   ],
   "source": [
    "rgr = linear_model.LogisticRegressionCV(solver='lbfgs',multi_class='multinomial', scoring='accuracy')\n",
    "rgr.fit(xtrain, ytrain)"
   ]
  },
  {
   "cell_type": "code",
   "execution_count": 39,
   "metadata": {
    "collapsed": false
   },
   "outputs": [],
   "source": [
    "pred=rgr.predict(xtest)"
   ]
  },
  {
   "cell_type": "code",
   "execution_count": 40,
   "metadata": {
    "collapsed": false
   },
   "outputs": [
    {
     "data": {
      "text/plain": [
       "0.61499999999999999"
      ]
     },
     "execution_count": 40,
     "metadata": {},
     "output_type": "execute_result"
    }
   ],
   "source": [
    "metrics.accuracy_score(pred, ytest)"
   ]
  },
  {
   "cell_type": "code",
   "execution_count": 41,
   "metadata": {
    "collapsed": true
   },
   "outputs": [],
   "source": [
    "from sklearn import svm"
   ]
  },
  {
   "cell_type": "code",
   "execution_count": 42,
   "metadata": {
    "collapsed": false
   },
   "outputs": [
    {
     "data": {
      "text/plain": [
       "SVC(C=1.0, cache_size=200, class_weight=None, coef0=0.0,\n",
       "  decision_function_shape=None, degree=3, gamma='auto', kernel='rbf',\n",
       "  max_iter=-1, probability=False, random_state=None, shrinking=True,\n",
       "  tol=0.001, verbose=False)"
      ]
     },
     "execution_count": 42,
     "metadata": {},
     "output_type": "execute_result"
    }
   ],
   "source": [
    "rgr2 = svm.SVC(kernel='rbf')\n",
    "rgr2.fit(xtrain, ytrain)"
   ]
  },
  {
   "cell_type": "code",
   "execution_count": 43,
   "metadata": {
    "collapsed": false
   },
   "outputs": [
    {
     "data": {
      "text/plain": [
       "0.57250000000000001"
      ]
     },
     "execution_count": 43,
     "metadata": {},
     "output_type": "execute_result"
    }
   ],
   "source": [
    "pred = rgr2.predict(xtest)\n",
    "metrics.accuracy_score(ytest, pred)"
   ]
  },
  {
   "cell_type": "code",
   "execution_count": 44,
   "metadata": {
    "collapsed": false
   },
   "outputs": [],
   "source": [
    "key_sub2 = xtrain.keys().drop(['residual sugar','fixed acidity','density'])\n",
    "\n",
    "subset_xtrain = xtrain[key_sub2]\n",
    "subset_xtest = xtest[key_sub2]"
   ]
  },
  {
   "cell_type": "code",
   "execution_count": 45,
   "metadata": {
    "collapsed": false
   },
   "outputs": [
    {
     "data": {
      "text/plain": [
       "LogisticRegressionCV(Cs=10, class_weight=None, cv=None, dual=False,\n",
       "           fit_intercept=True, intercept_scaling=1.0, max_iter=100,\n",
       "           multi_class='ovr', n_jobs=1, penalty='l2', random_state=None,\n",
       "           refit=True, scoring='accuracy', solver='lbfgs', tol=0.0001,\n",
       "           verbose=0)"
      ]
     },
     "execution_count": 45,
     "metadata": {},
     "output_type": "execute_result"
    }
   ],
   "source": [
    "rgr3 = linear_model.LogisticRegressionCV(scoring='accuracy')\n",
    "rgr3.fit(subset_xtrain, ytrain)"
   ]
  },
  {
   "cell_type": "code",
   "execution_count": 46,
   "metadata": {
    "collapsed": false
   },
   "outputs": [],
   "source": [
    "pred3 = rgr3.predict(subset_xtest)"
   ]
  },
  {
   "cell_type": "code",
   "execution_count": 47,
   "metadata": {
    "collapsed": false
   },
   "outputs": [
    {
     "data": {
      "text/plain": [
       "0.61750000000000005"
      ]
     },
     "execution_count": 47,
     "metadata": {},
     "output_type": "execute_result"
    }
   ],
   "source": [
    "metrics.accuracy_score(ytest, pred3)"
   ]
  },
  {
   "cell_type": "markdown",
   "metadata": {},
   "source": [
    "## White wine modeling"
   ]
  },
  {
   "cell_type": "code",
   "execution_count": 48,
   "metadata": {
    "collapsed": true
   },
   "outputs": [],
   "source": [
    "xtrain, xtest, ytrain, ytest = cross_validation.train_test_split(subset_white, white2['quality'], train_size = 0.75)"
   ]
  },
  {
   "cell_type": "code",
   "execution_count": 49,
   "metadata": {
    "collapsed": false
   },
   "outputs": [
    {
     "data": {
      "text/plain": [
       "LogisticRegressionCV(Cs=10, class_weight=None, cv=None, dual=False,\n",
       "           fit_intercept=True, intercept_scaling=1.0, max_iter=100,\n",
       "           multi_class='multinomial', n_jobs=1, penalty='l2',\n",
       "           random_state=None, refit=True, scoring=None, solver='lbfgs',\n",
       "           tol=0.0001, verbose=0)"
      ]
     },
     "execution_count": 49,
     "metadata": {},
     "output_type": "execute_result"
    }
   ],
   "source": [
    "rgr4 = linear_model.LogisticRegressionCV(solver='lbfgs',multi_class='multinomial')\n",
    "rgr4.fit(xtrain, ytrain)"
   ]
  },
  {
   "cell_type": "code",
   "execution_count": 50,
   "metadata": {
    "collapsed": true
   },
   "outputs": [],
   "source": [
    "pred=rgr4.predict(xtest)"
   ]
  },
  {
   "cell_type": "code",
   "execution_count": 51,
   "metadata": {
    "collapsed": false
   },
   "outputs": [
    {
     "data": {
      "text/plain": [
       "0.51346938775510209"
      ]
     },
     "execution_count": 51,
     "metadata": {},
     "output_type": "execute_result"
    }
   ],
   "source": [
    "metrics.accuracy_score(ytest, pred)"
   ]
  },
  {
   "cell_type": "code",
   "execution_count": null,
   "metadata": {
    "collapsed": true
   },
   "outputs": [],
   "source": []
  },
  {
   "cell_type": "code",
   "execution_count": null,
   "metadata": {
    "collapsed": true
   },
   "outputs": [],
   "source": []
  },
  {
   "cell_type": "code",
   "execution_count": null,
   "metadata": {
    "collapsed": true
   },
   "outputs": [],
   "source": []
  },
  {
   "cell_type": "code",
   "execution_count": null,
   "metadata": {
    "collapsed": true
   },
   "outputs": [],
   "source": []
  }
 ],
 "metadata": {
  "anaconda-cloud": {},
  "kernelspec": {
   "display_name": "Python [py35]",
   "language": "python",
   "name": "Python [py35]"
  },
  "language_info": {
   "codemirror_mode": {
    "name": "ipython",
    "version": 3
   },
   "file_extension": ".py",
   "mimetype": "text/x-python",
   "name": "python",
   "nbconvert_exporter": "python",
   "pygments_lexer": "ipython3",
   "version": "3.5.2"
  }
 },
 "nbformat": 4,
 "nbformat_minor": 0
}
