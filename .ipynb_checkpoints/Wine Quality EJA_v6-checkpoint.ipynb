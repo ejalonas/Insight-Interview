{
 "cells": [
  {
   "cell_type": "markdown",
   "metadata": {},
   "source": [
    "# Importing data"
   ]
  },
  {
   "cell_type": "code",
   "execution_count": null,
   "metadata": {
    "collapsed": true
   },
   "outputs": [],
   "source": [
    "import pandas as pd\n",
    "import numpy as np\n",
    "import sqlite3"
   ]
  },
  {
   "cell_type": "code",
   "execution_count": null,
   "metadata": {
    "collapsed": false
   },
   "outputs": [],
   "source": [
    "db = sqlite3.connect('winequal.db')\n",
    "cur = db.cursor()\n",
    "\n",
    "\n",
    "cur.execute(\"ALTER TABLE red ADD COLUMN color INT DEFAULT 0\")\n",
    "cur.execute(\"ALTER TABLE white ADD COLUMN color INT DEFAULT 1\")\n",
    "\n",
    "cur.execute('SELECT * from red')\n",
    "red_data = cur.fetchall()\n",
    "\n",
    "db.commit()\n",
    "db.close()\n",
    "\n",
    "db = sqlite3.connect('winequal.db')\n",
    "cur = db.cursor()\n",
    "\n",
    "cur.execute('SELECT * from white')\n",
    "white_data = cur.fetchall()\n",
    "\n",
    "db.commit()\n",
    "db.close()\n",
    "\n",
    " "
   ]
  },
  {
   "cell_type": "code",
   "execution_count": null,
   "metadata": {
    "collapsed": false
   },
   "outputs": [],
   "source": [
    "df = pd.DataFrame(red_data, columns=red_data[0])\n",
    "df = df.drop(df.index[0])\n",
    "df.head()\n",
    "red = df.rename(columns={0:'white?'});\n",
    "red.reset_index(drop=True, inplace=True)\n",
    "\n",
    "red2=pd.DataFrame()\n",
    "for key in red.keys():\n",
    "    red2[key]=pd.to_numeric(red[key])\n",
    "\n",
    "red2.head()"
   ]
  },
  {
   "cell_type": "code",
   "execution_count": null,
   "metadata": {
    "collapsed": false
   },
   "outputs": [],
   "source": [
    "df2 = pd.DataFrame(white_data, columns=white_data[0])\n",
    "df2 = df2.drop(df2.index[0])\n",
    "white = df2.rename(columns={1:'white?'});\n",
    "white.reset_index(drop=True, inplace=True)\n",
    "\n",
    "white2=pd.DataFrame()\n",
    "for key in white.keys():\n",
    "    white2[key]=pd.to_numeric(white[key])\n"
   ]
  },
  {
   "cell_type": "code",
   "execution_count": null,
   "metadata": {
    "collapsed": false
   },
   "outputs": [],
   "source": [
    "comp_data = pd.concat([white2, red2])\n",
    "comp_data.reset_index(drop=True, inplace=True)"
   ]
  },
  {
   "cell_type": "markdown",
   "metadata": {},
   "source": [
    "# Exploring data"
   ]
  },
  {
   "cell_type": "code",
   "execution_count": null,
   "metadata": {
    "collapsed": false
   },
   "outputs": [],
   "source": [
    "from bokeh.charts import Histogram\n",
    "from bokeh.charts import Bar\n",
    "from bokeh.io import output_notebook, show\n",
    "from bokeh.layouts import gridplot\n",
    "from bokeh.plotting import figure\n",
    "from bokeh.charts import BoxPlot\n",
    "\n",
    "output_notebook()"
   ]
  },
  {
   "cell_type": "code",
   "execution_count": null,
   "metadata": {
    "collapsed": false
   },
   "outputs": [],
   "source": [
    "\n",
    "p1 =Histogram(comp_data, values='quality', color='white?',tools='pan, reset, box_zoom')\n",
    "p1.xaxis.minor_tick_line_color=None\n",
    "\n",
    "\n",
    "p2 = Bar(comp_data, values='quality', label='white?', agg='count',tools='pan, reset, box_zoom', legend=None)\n",
    "\n",
    "p = gridplot([[p2,p1]], plot_width=400, plot_height=400)\n",
    "show(p)\n",
    "hold(p)"
   ]
  },
  {
   "cell_type": "markdown",
   "metadata": {
    "collapsed": false
   },
   "source": [
    "# In depth with each parameter"
   ]
  },
  {
   "cell_type": "code",
   "execution_count": null,
   "metadata": {
    "collapsed": false
   },
   "outputs": [],
   "source": [
    "import itertools"
   ]
  },
  {
   "cell_type": "code",
   "execution_count": null,
   "metadata": {
    "collapsed": false
   },
   "outputs": [],
   "source": [
    "red_y = np.array([])\n",
    "white_y = np.array([])\n",
    "red_x = np.array([])\n",
    "white_x = np.array([])\n",
    "\n",
    "plot_list = list()\n",
    "\n",
    "key_subset = comp_data.keys().drop(['quality', 'white?'])\n",
    "\n",
    "for key_sub in key_subset:\n",
    "    red_y = np.array([])\n",
    "    white_y = np.array([])\n",
    "    red_x = np.array([])\n",
    "    white_x = np.array([])\n",
    "    for i,j in itertools.product(comp_data['white?'].unique(), comp_data['quality'].unique()):\n",
    "        subset=comp_data[(comp_data['white?']==i)&(comp_data['quality']==j)]\n",
    "        #print(subset.head())\n",
    "        if i==1:\n",
    "            mean=subset[key_sub].mean()\n",
    "            white_y=np.append(white_y,mean)\n",
    "            white_x=np.append(white_x,j)\n",
    "        if i==0:\n",
    "            mean=subset[key_sub].mean()\n",
    "            red_y=np.append(red_y,mean)\n",
    "            red_x=np.append(red_x,j)\n",
    "\n",
    "    sorted_white= np.sort([white_x, white_y])\n",
    "\n",
    "    sorted_red = np.sort([red_x, red_y])\n",
    "\n",
    "    TOOLS = 'hover, reset, crosshair'\n",
    "    p = figure(plot_width=300, plot_height=300, tools=TOOLS)\n",
    "    \n",
    "    p.line(sorted_white[0], sorted_white[1], color = 'green', legend = 'white')\n",
    "    p.line(sorted_red[0], sorted_red[1], color='red', legend = 'red')\n",
    "    p.axis[0].axis_label='quality'\n",
    "    p.axis[1].axis_label= key_sub\n",
    "    p.title.text = 'mean %s vs. quality' %(key_sub)\n",
    "    p.legend.location = 'top_left'\n",
    "    \n",
    "    plot_list.append(p)\n",
    "\n",
    "p3=gridplot([plot_list[0:3], plot_list[3:6]])\n",
    "show(p3)"
   ]
  },
  {
   "cell_type": "code",
   "execution_count": null,
   "metadata": {
    "collapsed": false
   },
   "outputs": [],
   "source": [
    "p4=gridplot([plot_list[6:9], plot_list[9:12]])\n",
    "show(p4)"
   ]
  },
  {
   "cell_type": "code",
   "execution_count": null,
   "metadata": {
    "collapsed": false
   },
   "outputs": [],
   "source": []
  },
  {
   "cell_type": "markdown",
   "metadata": {
    "collapsed": true
   },
   "source": [
    "# Examining correlation"
   ]
  },
  {
   "cell_type": "code",
   "execution_count": null,
   "metadata": {
    "collapsed": false
   },
   "outputs": [],
   "source": [
    "subset_red = comp_data[comp_data['white?']==0][key_subset]\n",
    "corr_red = subset_red.corr()\n",
    "\n",
    "subset_white = comp_data[comp_data['white?']==1][key_subset]\n",
    "corr_white = subset_white.corr()\n"
   ]
  },
  {
   "cell_type": "code",
   "execution_count": null,
   "metadata": {
    "collapsed": false
   },
   "outputs": [],
   "source": [
    "corr_red[(abs(corr_red)>=0.5)&(abs(corr_red)<1)]"
   ]
  },
  {
   "cell_type": "code",
   "execution_count": null,
   "metadata": {
    "collapsed": false
   },
   "outputs": [],
   "source": [
    "corr_white[(abs(corr_white)>=0.5)&(abs(corr_white)<1)]"
   ]
  },
  {
   "cell_type": "markdown",
   "metadata": {},
   "source": [
    "# Building Multiclass Classification Model for Quality"
   ]
  },
  {
   "cell_type": "code",
   "execution_count": null,
   "metadata": {
    "collapsed": true
   },
   "outputs": [],
   "source": [
    "from sklearn import cross_validation\n",
    "from sklearn import linear_model\n",
    "from sklearn import metrics"
   ]
  },
  {
   "cell_type": "code",
   "execution_count": null,
   "metadata": {
    "collapsed": false
   },
   "outputs": [],
   "source": [
    "xtrain, xtest, ytrain, ytest = cross_validation.train_test_split(subset_red, red2['quality'], train_size = 0.75)"
   ]
  },
  {
   "cell_type": "code",
   "execution_count": null,
   "metadata": {
    "collapsed": false
   },
   "outputs": [],
   "source": [
    "rgr = linear_model.LogisticRegressionCV(solver='lbfgs',multi_class='multinomial', scoring='accuracy')\n",
    "rgr.fit(xtrain, ytrain)"
   ]
  },
  {
   "cell_type": "code",
   "execution_count": null,
   "metadata": {
    "collapsed": false
   },
   "outputs": [],
   "source": [
    "pred=rgr.predict(xtest)"
   ]
  },
  {
   "cell_type": "code",
   "execution_count": null,
   "metadata": {
    "collapsed": false
   },
   "outputs": [],
   "source": [
    "metrics.accuracy_score(pred, ytest)"
   ]
  },
  {
   "cell_type": "code",
   "execution_count": null,
   "metadata": {
    "collapsed": true
   },
   "outputs": [],
   "source": [
    "from sklearn import svm"
   ]
  },
  {
   "cell_type": "code",
   "execution_count": null,
   "metadata": {
    "collapsed": false
   },
   "outputs": [],
   "source": [
    "rgr2 = svm.SVC(kernel='rbf')\n",
    "rgr2.fit(xtrain, ytrain)"
   ]
  },
  {
   "cell_type": "code",
   "execution_count": null,
   "metadata": {
    "collapsed": false
   },
   "outputs": [],
   "source": [
    "pred = rgr2.predict(xtest)\n",
    "metrics.accuracy_score(ytest, pred)"
   ]
  },
  {
   "cell_type": "code",
   "execution_count": null,
   "metadata": {
    "collapsed": false
   },
   "outputs": [],
   "source": [
    "key_sub2 = xtrain.keys().drop(['residual sugar','fixed acidity','density'])\n",
    "\n",
    "subset_xtrain = xtrain[key_sub2]\n",
    "subset_xtest = xtest[key_sub2]"
   ]
  },
  {
   "cell_type": "code",
   "execution_count": null,
   "metadata": {
    "collapsed": false
   },
   "outputs": [],
   "source": [
    "rgr3 = linear_model.LogisticRegressionCV(scoring='accuracy')\n",
    "rgr3.fit(subset_xtrain, ytrain)"
   ]
  },
  {
   "cell_type": "code",
   "execution_count": null,
   "metadata": {
    "collapsed": false
   },
   "outputs": [],
   "source": [
    "pred3 = rgr3.predict(subset_xtest)"
   ]
  },
  {
   "cell_type": "code",
   "execution_count": null,
   "metadata": {
    "collapsed": false
   },
   "outputs": [],
   "source": [
    "metrics.accuracy_score(ytest, pred3)"
   ]
  },
  {
   "cell_type": "markdown",
   "metadata": {},
   "source": [
    "## White wine modeling"
   ]
  },
  {
   "cell_type": "code",
   "execution_count": null,
   "metadata": {
    "collapsed": true
   },
   "outputs": [],
   "source": [
    "xtrain, xtest, ytrain, ytest = cross_validation.train_test_split(subset_white, white2['quality'], train_size = 0.75)"
   ]
  },
  {
   "cell_type": "code",
   "execution_count": null,
   "metadata": {
    "collapsed": false
   },
   "outputs": [],
   "source": [
    "rgr4 = linear_model.LogisticRegressionCV(solver='lbfgs',multi_class='multinomial')\n",
    "rgr4.fit(xtrain, ytrain)"
   ]
  },
  {
   "cell_type": "code",
   "execution_count": null,
   "metadata": {
    "collapsed": true
   },
   "outputs": [],
   "source": [
    "pred=rgr4.predict(xtest)"
   ]
  },
  {
   "cell_type": "code",
   "execution_count": null,
   "metadata": {
    "collapsed": false
   },
   "outputs": [],
   "source": [
    "metrics.accuracy_score(ytest, pred)"
   ]
  },
  {
   "cell_type": "code",
   "execution_count": null,
   "metadata": {
    "collapsed": true
   },
   "outputs": [],
   "source": []
  }
 ],
 "metadata": {
  "anaconda-cloud": {},
  "kernelspec": {
   "display_name": "Python [py35]",
   "language": "python",
   "name": "Python [py35]"
  },
  "language_info": {
   "codemirror_mode": {
    "name": "ipython",
    "version": 3
   },
   "file_extension": ".py",
   "mimetype": "text/x-python",
   "name": "python",
   "nbconvert_exporter": "python",
   "pygments_lexer": "ipython3",
   "version": "3.5.2"
  }
 },
 "nbformat": 4,
 "nbformat_minor": 0
}
