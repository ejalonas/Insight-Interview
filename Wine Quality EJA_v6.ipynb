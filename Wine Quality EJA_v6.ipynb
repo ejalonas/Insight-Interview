{
 "cells": [
  {
   "cell_type": "markdown",
   "metadata": {},
   "source": [
    "# Importing data"
   ]
  },
  {
   "cell_type": "code",
   "execution_count": 1,
   "metadata": {
    "collapsed": true
   },
   "outputs": [],
   "source": [
    "import pandas as pd\n",
    "import numpy as np\n",
    "import sqlite3"
   ]
  },
  {
   "cell_type": "code",
   "execution_count": 2,
   "metadata": {
    "collapsed": false
   },
   "outputs": [],
   "source": [
    "db = sqlite3.connect('winequal.db')\n",
    "cur = db.cursor()\n",
    "\n",
    "\n",
    "cur.execute(\"ALTER TABLE red ADD COLUMN color INT DEFAULT 0\")\n",
    "cur.execute(\"ALTER TABLE white ADD COLUMN color INT DEFAULT 1\")\n",
    "\n",
    "cur.execute('SELECT * from red')\n",
    "red_data = cur.fetchall()\n",
    "\n",
    "db.commit()\n",
    "db.close()\n",
    "\n",
    "db = sqlite3.connect('winequal.db')\n",
    "cur = db.cursor()\n",
    "\n",
    "cur.execute('SELECT * from white')\n",
    "white_data = cur.fetchall()\n",
    "\n",
    "db.commit()\n",
    "db.close()\n",
    "\n",
    " "
   ]
  },
  {
   "cell_type": "code",
   "execution_count": 3,
   "metadata": {
    "collapsed": false
   },
   "outputs": [
    {
     "data": {
      "text/html": [
       "<div>\n",
       "<table border=\"1\" class=\"dataframe\">\n",
       "  <thead>\n",
       "    <tr style=\"text-align: right;\">\n",
       "      <th></th>\n",
       "      <th>fixed acidity</th>\n",
       "      <th>volatile acidity</th>\n",
       "      <th>citric acid</th>\n",
       "      <th>residual sugar</th>\n",
       "      <th>chlorides</th>\n",
       "      <th>free sulfur dioxide</th>\n",
       "      <th>total sulfur dioxide</th>\n",
       "      <th>density</th>\n",
       "      <th>pH</th>\n",
       "      <th>sulphates</th>\n",
       "      <th>alcohol</th>\n",
       "      <th>quality</th>\n",
       "      <th>white?</th>\n",
       "    </tr>\n",
       "  </thead>\n",
       "  <tbody>\n",
       "    <tr>\n",
       "      <th>0</th>\n",
       "      <td>7.4</td>\n",
       "      <td>0.70</td>\n",
       "      <td>0.00</td>\n",
       "      <td>1.9</td>\n",
       "      <td>0.076</td>\n",
       "      <td>11.0</td>\n",
       "      <td>34.0</td>\n",
       "      <td>0.9978</td>\n",
       "      <td>3.51</td>\n",
       "      <td>0.56</td>\n",
       "      <td>9.4</td>\n",
       "      <td>5</td>\n",
       "      <td>0</td>\n",
       "    </tr>\n",
       "    <tr>\n",
       "      <th>1</th>\n",
       "      <td>7.8</td>\n",
       "      <td>0.88</td>\n",
       "      <td>0.00</td>\n",
       "      <td>2.6</td>\n",
       "      <td>0.098</td>\n",
       "      <td>25.0</td>\n",
       "      <td>67.0</td>\n",
       "      <td>0.9968</td>\n",
       "      <td>3.20</td>\n",
       "      <td>0.68</td>\n",
       "      <td>9.8</td>\n",
       "      <td>5</td>\n",
       "      <td>0</td>\n",
       "    </tr>\n",
       "    <tr>\n",
       "      <th>2</th>\n",
       "      <td>7.8</td>\n",
       "      <td>0.76</td>\n",
       "      <td>0.04</td>\n",
       "      <td>2.3</td>\n",
       "      <td>0.092</td>\n",
       "      <td>15.0</td>\n",
       "      <td>54.0</td>\n",
       "      <td>0.9970</td>\n",
       "      <td>3.26</td>\n",
       "      <td>0.65</td>\n",
       "      <td>9.8</td>\n",
       "      <td>5</td>\n",
       "      <td>0</td>\n",
       "    </tr>\n",
       "    <tr>\n",
       "      <th>3</th>\n",
       "      <td>11.2</td>\n",
       "      <td>0.28</td>\n",
       "      <td>0.56</td>\n",
       "      <td>1.9</td>\n",
       "      <td>0.075</td>\n",
       "      <td>17.0</td>\n",
       "      <td>60.0</td>\n",
       "      <td>0.9980</td>\n",
       "      <td>3.16</td>\n",
       "      <td>0.58</td>\n",
       "      <td>9.8</td>\n",
       "      <td>6</td>\n",
       "      <td>0</td>\n",
       "    </tr>\n",
       "    <tr>\n",
       "      <th>4</th>\n",
       "      <td>7.4</td>\n",
       "      <td>0.70</td>\n",
       "      <td>0.00</td>\n",
       "      <td>1.9</td>\n",
       "      <td>0.076</td>\n",
       "      <td>11.0</td>\n",
       "      <td>34.0</td>\n",
       "      <td>0.9978</td>\n",
       "      <td>3.51</td>\n",
       "      <td>0.56</td>\n",
       "      <td>9.4</td>\n",
       "      <td>5</td>\n",
       "      <td>0</td>\n",
       "    </tr>\n",
       "  </tbody>\n",
       "</table>\n",
       "</div>"
      ],
      "text/plain": [
       "   fixed acidity  volatile acidity  citric acid  residual sugar  chlorides  \\\n",
       "0            7.4              0.70         0.00             1.9      0.076   \n",
       "1            7.8              0.88         0.00             2.6      0.098   \n",
       "2            7.8              0.76         0.04             2.3      0.092   \n",
       "3           11.2              0.28         0.56             1.9      0.075   \n",
       "4            7.4              0.70         0.00             1.9      0.076   \n",
       "\n",
       "   free sulfur dioxide  total sulfur dioxide  density    pH  sulphates  \\\n",
       "0                 11.0                  34.0   0.9978  3.51       0.56   \n",
       "1                 25.0                  67.0   0.9968  3.20       0.68   \n",
       "2                 15.0                  54.0   0.9970  3.26       0.65   \n",
       "3                 17.0                  60.0   0.9980  3.16       0.58   \n",
       "4                 11.0                  34.0   0.9978  3.51       0.56   \n",
       "\n",
       "   alcohol  quality  white?  \n",
       "0      9.4        5       0  \n",
       "1      9.8        5       0  \n",
       "2      9.8        5       0  \n",
       "3      9.8        6       0  \n",
       "4      9.4        5       0  "
      ]
     },
     "execution_count": 3,
     "metadata": {},
     "output_type": "execute_result"
    }
   ],
   "source": [
    "df = pd.DataFrame(red_data, columns=red_data[0])\n",
    "df = df.drop(df.index[0])\n",
    "df.head()\n",
    "red = df.rename(columns={0:'white?'});\n",
    "red.reset_index(drop=True, inplace=True)\n",
    "\n",
    "red2=pd.DataFrame()\n",
    "for key in red.keys():\n",
    "    red2[key]=pd.to_numeric(red[key])\n",
    "\n",
    "red2.head()"
   ]
  },
  {
   "cell_type": "code",
   "execution_count": 4,
   "metadata": {
    "collapsed": false
   },
   "outputs": [],
   "source": [
    "df2 = pd.DataFrame(white_data, columns=white_data[0])\n",
    "df2 = df2.drop(df2.index[0])\n",
    "white = df2.rename(columns={1:'white?'});\n",
    "white.reset_index(drop=True, inplace=True)\n",
    "\n",
    "white2=pd.DataFrame()\n",
    "for key in white.keys():\n",
    "    white2[key]=pd.to_numeric(white[key])\n"
   ]
  },
  {
   "cell_type": "code",
   "execution_count": 5,
   "metadata": {
    "collapsed": false
   },
   "outputs": [],
   "source": [
    "comp_data = pd.concat([white2, red2])\n",
    "comp_data.reset_index(drop=True, inplace=True)"
   ]
  },
  {
   "cell_type": "markdown",
   "metadata": {},
   "source": [
    "# Exploring data"
   ]
  },
  {
   "cell_type": "code",
   "execution_count": 7,
   "metadata": {
    "collapsed": false
   },
   "outputs": [
    {
     "data": {
      "text/html": [
       "\n",
       "    <div class=\"bk-root\">\n",
       "        <a href=\"http://bokeh.pydata.org\" target=\"_blank\" class=\"bk-logo bk-logo-small bk-logo-notebook\"></a>\n",
       "        <span id=\"f3ef3d6c-0553-463b-9313-5e9e16f97bf2\">Loading BokehJS ...</span>\n",
       "    </div>"
      ]
     },
     "metadata": {},
     "output_type": "display_data"
    },
    {
     "data": {
      "application/javascript": [
       "\n",
       "(function(global) {\n",
       "  function now() {\n",
       "    return new Date();\n",
       "  }\n",
       "\n",
       "  if (typeof (window._bokeh_onload_callbacks) === \"undefined\") {\n",
       "    window._bokeh_onload_callbacks = [];\n",
       "  }\n",
       "\n",
       "  function run_callbacks() {\n",
       "    window._bokeh_onload_callbacks.forEach(function(callback) { callback() });\n",
       "    delete window._bokeh_onload_callbacks\n",
       "    console.info(\"Bokeh: all callbacks have finished\");\n",
       "  }\n",
       "\n",
       "  function load_libs(js_urls, callback) {\n",
       "    window._bokeh_onload_callbacks.push(callback);\n",
       "    if (window._bokeh_is_loading > 0) {\n",
       "      console.log(\"Bokeh: BokehJS is being loaded, scheduling callback at\", now());\n",
       "      return null;\n",
       "    }\n",
       "    if (js_urls == null || js_urls.length === 0) {\n",
       "      run_callbacks();\n",
       "      return null;\n",
       "    }\n",
       "    console.log(\"Bokeh: BokehJS not loaded, scheduling load and callback at\", now());\n",
       "    window._bokeh_is_loading = js_urls.length;\n",
       "    for (var i = 0; i < js_urls.length; i++) {\n",
       "      var url = js_urls[i];\n",
       "      var s = document.createElement('script');\n",
       "      s.src = url;\n",
       "      s.async = false;\n",
       "      s.onreadystatechange = s.onload = function() {\n",
       "        window._bokeh_is_loading--;\n",
       "        if (window._bokeh_is_loading === 0) {\n",
       "          console.log(\"Bokeh: all BokehJS libraries loaded\");\n",
       "          run_callbacks()\n",
       "        }\n",
       "      };\n",
       "      s.onerror = function() {\n",
       "        console.warn(\"failed to load library \" + url);\n",
       "      };\n",
       "      console.log(\"Bokeh: injecting script tag for BokehJS library: \", url);\n",
       "      document.getElementsByTagName(\"head\")[0].appendChild(s);\n",
       "    }\n",
       "  };\n",
       "\n",
       "  var js_urls = ['https://cdn.pydata.org/bokeh/release/bokeh-0.12.0.min.js', 'https://cdn.pydata.org/bokeh/release/bokeh-widgets-0.12.0.min.js', 'https://cdn.pydata.org/bokeh/release/bokeh-compiler-0.12.0.min.js'];\n",
       "\n",
       "  var inline_js = [\n",
       "    function(Bokeh) {\n",
       "      Bokeh.set_log_level(\"info\");\n",
       "    },\n",
       "    \n",
       "    function(Bokeh) {\n",
       "      Bokeh.$(\"#f3ef3d6c-0553-463b-9313-5e9e16f97bf2\").text(\"BokehJS successfully loaded\");\n",
       "    },\n",
       "    function(Bokeh) {\n",
       "      console.log(\"Bokeh: injecting CSS: https://cdn.pydata.org/bokeh/release/bokeh-0.12.0.min.css\");\n",
       "      Bokeh.embed.inject_css(\"https://cdn.pydata.org/bokeh/release/bokeh-0.12.0.min.css\");\n",
       "      console.log(\"Bokeh: injecting CSS: https://cdn.pydata.org/bokeh/release/bokeh-widgets-0.12.0.min.css\");\n",
       "      Bokeh.embed.inject_css(\"https://cdn.pydata.org/bokeh/release/bokeh-widgets-0.12.0.min.css\");\n",
       "    }\n",
       "  ];\n",
       "\n",
       "  function run_inline_js() {\n",
       "    for (var i = 0; i < inline_js.length; i++) {\n",
       "      inline_js[i](window.Bokeh);\n",
       "    }\n",
       "  }\n",
       "\n",
       "  if (window._bokeh_is_loading === 0) {\n",
       "    console.log(\"Bokeh: BokehJS loaded, going straight to plotting\");\n",
       "    run_inline_js();\n",
       "  } else {\n",
       "    load_libs(js_urls, function() {\n",
       "      console.log(\"Bokeh: BokehJS plotting callback run at\", now());\n",
       "      run_inline_js();\n",
       "    });\n",
       "  }\n",
       "}(this));"
      ]
     },
     "metadata": {},
     "output_type": "display_data"
    }
   ],
   "source": [
    "from bokeh.charts import Histogram\n",
    "from bokeh.charts import Bar\n",
    "from bokeh.io import output_notebook, show\n",
    "from bokeh.layouts import gridplot\n",
    "from bokeh.plotting import figure\n",
    "from bokeh.charts import BoxPlot\n",
    "import bokeh.plotting as bplt\n",
    "output_notebook()"
   ]
  },
  {
   "cell_type": "code",
   "execution_count": 9,
   "metadata": {
    "collapsed": false
   },
   "outputs": [
    {
     "data": {
      "text/html": [
       "\n",
       "\n",
       "    <div class=\"bk-root\">\n",
       "        <div class=\"plotdiv\" id=\"c4299de8-a3cc-4288-9843-42d9dd4f78b7\"></div>\n",
       "    </div>\n",
       "<script type=\"text/javascript\">\n",
       "  \n",
       "  (function(global) {\n",
       "    function now() {\n",
       "      return new Date();\n",
       "    }\n",
       "  \n",
       "    if (typeof (window._bokeh_onload_callbacks) === \"undefined\") {\n",
       "      window._bokeh_onload_callbacks = [];\n",
       "    }\n",
       "  \n",
       "    function run_callbacks() {\n",
       "      window._bokeh_onload_callbacks.forEach(function(callback) { callback() });\n",
       "      delete window._bokeh_onload_callbacks\n",
       "      console.info(\"Bokeh: all callbacks have finished\");\n",
       "    }\n",
       "  \n",
       "    function load_libs(js_urls, callback) {\n",
       "      window._bokeh_onload_callbacks.push(callback);\n",
       "      if (window._bokeh_is_loading > 0) {\n",
       "        console.log(\"Bokeh: BokehJS is being loaded, scheduling callback at\", now());\n",
       "        return null;\n",
       "      }\n",
       "      if (js_urls == null || js_urls.length === 0) {\n",
       "        run_callbacks();\n",
       "        return null;\n",
       "      }\n",
       "      console.log(\"Bokeh: BokehJS not loaded, scheduling load and callback at\", now());\n",
       "      window._bokeh_is_loading = js_urls.length;\n",
       "      for (var i = 0; i < js_urls.length; i++) {\n",
       "        var url = js_urls[i];\n",
       "        var s = document.createElement('script');\n",
       "        s.src = url;\n",
       "        s.async = false;\n",
       "        s.onreadystatechange = s.onload = function() {\n",
       "          window._bokeh_is_loading--;\n",
       "          if (window._bokeh_is_loading === 0) {\n",
       "            console.log(\"Bokeh: all BokehJS libraries loaded\");\n",
       "            run_callbacks()\n",
       "          }\n",
       "        };\n",
       "        s.onerror = function() {\n",
       "          console.warn(\"failed to load library \" + url);\n",
       "        };\n",
       "        console.log(\"Bokeh: injecting script tag for BokehJS library: \", url);\n",
       "        document.getElementsByTagName(\"head\")[0].appendChild(s);\n",
       "      }\n",
       "    };var element = document.getElementById(\"c4299de8-a3cc-4288-9843-42d9dd4f78b7\");\n",
       "    if (element == null) {\n",
       "      console.log(\"Bokeh: ERROR: autoload.js configured with elementid 'c4299de8-a3cc-4288-9843-42d9dd4f78b7' but no matching script tag was found. \")\n",
       "      return false;\n",
       "    }\n",
       "  \n",
       "    var js_urls = [];\n",
       "  \n",
       "    var inline_js = [\n",
       "      function(Bokeh) {\n",
       "        Bokeh.$(function() {\n",
       "            var docs_json = {\"443d757b-78d0-46e9-8832-4e2fc8911af0\":{\"roots\":{\"references\":[{\"attributes\":{\"callback\":null,\"column_names\":[\"line_color\",\"line_alpha\",\"label\",\"y\",\"fill_alpha\",\"width\",\"height\",\"color\",\"x\"],\"data\":{\"chart_index\":[\"(8.2, 8.3]\"],\"color\":[\"#5ab738\"],\"fill_alpha\":[0.6],\"height\":[0.0],\"label\":[\"(8.2, 8.3]\"],\"line_alpha\":[1.0],\"line_color\":[\"black\"],\"width\":[0.117647058823529],\"x\":[\"8.25\"],\"y\":[0.0]}},\"id\":\"0c002e98-a9fa-46e0-ae12-52a79c588384\",\"type\":\"ColumnDataSource\"},{\"attributes\":{\"below\":[{\"id\":\"61333ee0-2de4-4ce9-80d0-77e3e76cb1bd\",\"type\":\"LinearAxis\"}],\"left\":[{\"id\":\"c77be3a7-fb51-4a3a-b63e-3e00cba33a85\",\"type\":\"LinearAxis\"}],\"plot_height\":400,\"plot_width\":400,\"renderers\":[{\"id\":\"53fc3c6f-b403-4709-baa8-0ca348197a4f\",\"type\":\"BoxAnnotation\"},{\"id\":\"1cc453f8-57f1-484d-af08-745b06d71c26\",\"type\":\"GlyphRenderer\"},{\"id\":\"f04df009-a6ee-4c9f-a89a-4d01182a394a\",\"type\":\"GlyphRenderer\"},{\"id\":\"a2dca79e-821b-4daa-9d9a-67ac66d3452a\",\"type\":\"GlyphRenderer\"},{\"id\":\"cee88755-8f88-4b63-a743-d6e1332f6dda\",\"type\":\"GlyphRenderer\"},{\"id\":\"ace71f52-0c93-4f6f-9bb4-74e0dde913db\",\"type\":\"GlyphRenderer\"},{\"id\":\"eeca2011-da50-42b0-9202-3f5a7df65543\",\"type\":\"GlyphRenderer\"},{\"id\":\"1f9e5454-c7fe-4668-8d9e-aad5f445a03d\",\"type\":\"GlyphRenderer\"},{\"id\":\"d0faff11-4e72-46d5-af50-62c27e385cc8\",\"type\":\"GlyphRenderer\"},{\"id\":\"bf74ded3-1fdf-417e-89e0-f4e02a079255\",\"type\":\"GlyphRenderer\"},{\"id\":\"e7ab3bda-4f20-46dd-bf01-2b52c43f5725\",\"type\":\"GlyphRenderer\"},{\"id\":\"3eb0b14d-d3e6-4e94-8cae-520407a868ca\",\"type\":\"GlyphRenderer\"},{\"id\":\"ce3ed8d8-6781-4b73-9c92-d776d3594ea3\",\"type\":\"GlyphRenderer\"},{\"id\":\"c8236a50-df8d-4f22-a1ac-59a07a683e19\",\"type\":\"GlyphRenderer\"},{\"id\":\"99d01057-402f-49c9-852e-5225751db8a3\",\"type\":\"GlyphRenderer\"},{\"id\":\"64a2f529-c28c-4720-a88f-2731be4fc8bb\",\"type\":\"GlyphRenderer\"},{\"id\":\"357b92b2-ddd0-4689-a05e-f97c5f4f52dd\",\"type\":\"GlyphRenderer\"},{\"id\":\"67d17115-7865-4ce3-a289-f9662bc7f6d9\",\"type\":\"GlyphRenderer\"},{\"id\":\"68df34eb-7cdb-42fd-b218-a36315fabb72\",\"type\":\"GlyphRenderer\"},{\"id\":\"cbcbe85e-ec2d-48a5-a361-9a6e9278358c\",\"type\":\"GlyphRenderer\"},{\"id\":\"2adc4671-d6f0-4720-9dc6-cc67ea91b264\",\"type\":\"GlyphRenderer\"},{\"id\":\"8a4bb88b-ae41-4ed8-a45b-408c67f8c329\",\"type\":\"GlyphRenderer\"},{\"id\":\"5b41fe0d-6184-41ca-a7cb-ffeb2169e121\",\"type\":\"GlyphRenderer\"},{\"id\":\"5e139e38-7548-4953-8ad7-e7ef3f6a1a6f\",\"type\":\"GlyphRenderer\"},{\"id\":\"5b176971-62b5-4a62-97c0-a4e5f5169084\",\"type\":\"GlyphRenderer\"},{\"id\":\"e0f4880f-8c24-47a9-bd6a-aeac6e543569\",\"type\":\"GlyphRenderer\"},{\"id\":\"56b7a97e-1448-4033-b01d-77b22211d161\",\"type\":\"GlyphRenderer\"},{\"id\":\"144aa26b-df9b-4522-9a7d-0acca8bbbfd8\",\"type\":\"GlyphRenderer\"},{\"id\":\"53a1a50e-c33b-4307-b55e-aefa5f719022\",\"type\":\"GlyphRenderer\"},{\"id\":\"b2536c94-6a80-4bc1-83b4-8e45854dac71\",\"type\":\"GlyphRenderer\"},{\"id\":\"9eff8f38-bc8d-4e88-876e-57bf66000e66\",\"type\":\"GlyphRenderer\"},{\"id\":\"7410fbe7-0e00-4bd5-9382-2ffb54126232\",\"type\":\"GlyphRenderer\"},{\"id\":\"61cf23b8-5588-4f1e-bf46-c980a34b7cfc\",\"type\":\"GlyphRenderer\"},{\"id\":\"80f3296b-4e5a-46c8-93e0-1f971c035b7f\",\"type\":\"GlyphRenderer\"},{\"id\":\"7997b3f9-08b5-49ae-aba0-655ccf6a4269\",\"type\":\"GlyphRenderer\"},{\"id\":\"779bb982-6da1-427a-8753-4f995ad51b4c\",\"type\":\"GlyphRenderer\"},{\"id\":\"e8666e37-1e5d-406c-9722-b609db0d009b\",\"type\":\"GlyphRenderer\"},{\"id\":\"f145dd17-9c44-49dd-b332-58b9f5cd2b64\",\"type\":\"GlyphRenderer\"},{\"id\":\"9174ca0c-e8b2-4890-ad37-8b5a800c755e\",\"type\":\"GlyphRenderer\"},{\"id\":\"e5c9870c-3617-44d6-8680-21b1539381b9\",\"type\":\"GlyphRenderer\"},{\"id\":\"1bdb3e31-166e-4f8f-a346-d3c0255484e3\",\"type\":\"GlyphRenderer\"},{\"id\":\"81bd67f3-9bfd-45d5-9bc0-ef48d7fbb173\",\"type\":\"GlyphRenderer\"},{\"id\":\"d4b92aab-8807-4cd7-82cd-8194c0c58ba5\",\"type\":\"GlyphRenderer\"},{\"id\":\"a37a38a3-a414-4e3e-a070-ee3327aa641f\",\"type\":\"GlyphRenderer\"},{\"id\":\"b9496586-89ea-4c49-9190-fa09233dd1c0\",\"type\":\"GlyphRenderer\"},{\"id\":\"f4a9ab28-0fb7-47de-84d8-8f83d5152020\",\"type\":\"GlyphRenderer\"},{\"id\":\"b96b47fd-5dc2-4697-9889-72a7aa1ac0d2\",\"type\":\"GlyphRenderer\"},{\"id\":\"b40530ba-4fdb-4d67-89e8-5eb201302899\",\"type\":\"GlyphRenderer\"},{\"id\":\"e00d2743-fc08-425a-9154-51908d58bb64\",\"type\":\"GlyphRenderer\"},{\"id\":\"76da35a5-47de-4d23-be5e-a3b653062d12\",\"type\":\"GlyphRenderer\"},{\"id\":\"52880e3c-e1ab-4327-8a78-22bc6114b039\",\"type\":\"GlyphRenderer\"},{\"id\":\"38930ed9-2cdc-4d2d-abdd-1167cd6c312d\",\"type\":\"GlyphRenderer\"},{\"id\":\"1907463a-150b-4d54-b2a3-d26250ca423e\",\"type\":\"GlyphRenderer\"},{\"id\":\"88939d03-e625-45c6-ad18-34f233f51b7f\",\"type\":\"GlyphRenderer\"},{\"id\":\"d2907f31-cfd5-49c0-8df3-77b4ec2a0b4d\",\"type\":\"GlyphRenderer\"},{\"id\":\"a98e90e4-ab8e-4c30-af4a-680961d4b059\",\"type\":\"GlyphRenderer\"},{\"id\":\"ada3bbbe-d678-4c20-ad6e-749cddec63ec\",\"type\":\"GlyphRenderer\"},{\"id\":\"fef48485-26d6-42c4-bcdc-d5348ab7c376\",\"type\":\"GlyphRenderer\"},{\"id\":\"8694b308-3ae9-435e-804e-f536fb2119f2\",\"type\":\"GlyphRenderer\"},{\"id\":\"dd3b7ded-eb3a-41dd-8b85-40f7bc76533c\",\"type\":\"GlyphRenderer\"},{\"id\":\"7a3ca593-1a45-43b5-bf01-1c71e7bc4d6f\",\"type\":\"GlyphRenderer\"},{\"id\":\"e71f9c5c-28b1-4a33-909c-dbdfe9d6aa97\",\"type\":\"GlyphRenderer\"},{\"id\":\"ca067a01-5009-43d5-bdc0-da8aae56dac0\",\"type\":\"GlyphRenderer\"},{\"id\":\"c0a26e12-91c5-4f3b-a933-06d9b3b57224\",\"type\":\"GlyphRenderer\"},{\"id\":\"cb06e966-c987-4c32-b07a-887bc9fdcba2\",\"type\":\"GlyphRenderer\"},{\"id\":\"b0c6333e-6f4d-4baf-b3bb-5105681fcd32\",\"type\":\"GlyphRenderer\"},{\"id\":\"b07b58f5-18c7-409f-af86-a8f9eae07084\",\"type\":\"GlyphRenderer\"},{\"id\":\"60ac12c3-17c0-4ec1-8e5b-c3ae36e3cf88\",\"type\":\"GlyphRenderer\"},{\"id\":\"f0027c46-5351-43fd-8885-11364299b3a3\",\"type\":\"GlyphRenderer\"},{\"id\":\"a19c0c4c-d9a5-4d31-b589-158dabc25b49\",\"type\":\"GlyphRenderer\"},{\"id\":\"76d88b42-d572-40a7-aab6-b7dcb32378b4\",\"type\":\"GlyphRenderer\"},{\"id\":\"093192a7-6944-4431-8174-ca6b3f72585e\",\"type\":\"GlyphRenderer\"},{\"id\":\"5c07c7b1-1371-429b-abab-69c49abc77bf\",\"type\":\"GlyphRenderer\"},{\"id\":\"08072cac-161e-44b7-a37b-0dc3c3128586\",\"type\":\"GlyphRenderer\"},{\"id\":\"7e4e5527-879f-4318-be87-8b5ec0615717\",\"type\":\"GlyphRenderer\"},{\"id\":\"28da3be7-d44a-43e5-a540-add7ab328f65\",\"type\":\"GlyphRenderer\"},{\"id\":\"b711df21-a9e7-48c1-8d54-e58cf8305d13\",\"type\":\"GlyphRenderer\"},{\"id\":\"1ba8a97c-6f33-4a13-9ce8-7d062704ec4f\",\"type\":\"GlyphRenderer\"},{\"id\":\"edd2156a-db01-4b8d-95ac-99c163640813\",\"type\":\"GlyphRenderer\"},{\"id\":\"17acd05f-7c0b-4067-996e-957347a8b25f\",\"type\":\"GlyphRenderer\"},{\"id\":\"f69bef9d-614a-4222-9159-90d1e9b05721\",\"type\":\"GlyphRenderer\"},{\"id\":\"60cb69df-628b-494a-a38c-08dc85b1fea7\",\"type\":\"GlyphRenderer\"},{\"id\":\"48d24622-e801-4fd6-8f00-6e31823abcb4\",\"type\":\"Legend\"},{\"id\":\"61333ee0-2de4-4ce9-80d0-77e3e76cb1bd\",\"type\":\"LinearAxis\"},{\"id\":\"c77be3a7-fb51-4a3a-b63e-3e00cba33a85\",\"type\":\"LinearAxis\"},{\"id\":\"6fbfa092-e736-44cd-97b4-4ea9318d4095\",\"type\":\"Grid\"}],\"title\":{\"id\":\"c012b062-d043-4ddb-8522-882431eced83\",\"type\":\"Title\"},\"tool_events\":{\"id\":\"11b944a9-a876-47c2-b056-32788ce176c2\",\"type\":\"ToolEvents\"},\"toolbar\":{\"id\":\"c7cddb42-4ca6-4e33-85f7-e00dd098e855\",\"type\":\"Toolbar\"},\"toolbar_location\":null,\"x_mapper_type\":\"auto\",\"x_range\":{\"id\":\"f213fd90-3c7e-4024-9070-f9cc6dca8f12\",\"type\":\"Range1d\"},\"y_mapper_type\":\"auto\",\"y_range\":{\"id\":\"cb2b6fd3-071a-44dc-8103-47c513ca6088\",\"type\":\"Range1d\"}},\"id\":\"ef047ee6-c462-4b90-a7b2-9bc78f06379f\",\"subtype\":\"Chart\",\"type\":\"Plot\"},{\"attributes\":{\"callback\":null,\"column_names\":[\"line_color\",\"line_alpha\",\"label\",\"y\",\"fill_alpha\",\"width\",\"height\",\"color\",\"x\"],\"data\":{\"chart_index\":[\"(5.7, 5.8]\"],\"color\":[\"#5ab738\"],\"fill_alpha\":[0.6],\"height\":[0.0],\"label\":[\"(5.7, 5.8]\"],\"line_alpha\":[1.0],\"line_color\":[\"black\"],\"width\":[0.117647058823529],\"x\":[\"5.75\"],\"y\":[0.0]}},\"id\":\"e35c1805-86bf-4d0b-8919-e2f45fa05a10\",\"type\":\"ColumnDataSource\"},{\"attributes\":{\"callback\":null,\"column_names\":[\"line_color\",\"line_alpha\",\"label\",\"y\",\"fill_alpha\",\"width\",\"height\",\"color\",\"x\"],\"data\":{\"chart_index\":[\"(4.5, 4.6]\"],\"color\":[\"#5ab738\"],\"fill_alpha\":[0.6],\"height\":[0.0],\"label\":[\"(4.5, 4.6]\"],\"line_alpha\":[1.0],\"line_color\":[\"black\"],\"width\":[0.117647058823529],\"x\":[\"4.55\"],\"y\":[0.0]}},\"id\":\"afaecd5e-e65e-46c3-a762-fdc5ed1c3252\",\"type\":\"ColumnDataSource\"},{\"attributes\":{\"callback\":null,\"column_names\":[\"line_color\",\"line_alpha\",\"label\",\"y\",\"fill_alpha\",\"width\",\"height\",\"color\",\"x\"],\"data\":{\"chart_index\":[\"(3.5, 3.6]\"],\"color\":[\"#5ab738\"],\"fill_alpha\":[0.6],\"height\":[0.0],\"label\":[\"(3.5, 3.6]\"],\"line_alpha\":[1.0],\"line_color\":[\"black\"],\"width\":[0.11764705882352944],\"x\":[\"3.55\"],\"y\":[0.0]}},\"id\":\"8e79ac7c-1812-4568-8eec-abec1b662d3a\",\"type\":\"ColumnDataSource\"},{\"attributes\":{\"callback\":null,\"column_names\":[\"line_color\",\"line_alpha\",\"label\",\"y\",\"fill_alpha\",\"width\",\"height\",\"color\",\"x\"],\"data\":{\"chart_index\":[\"(6.9, 7.0]\"],\"color\":[\"#5ab738\"],\"fill_alpha\":[0.6],\"height\":[0.0],\"label\":[\"(6.9, 7.0]\"],\"line_alpha\":[1.0],\"line_color\":[\"black\"],\"width\":[0.117647058823529],\"x\":[\"6.95\"],\"y\":[0.0]}},\"id\":\"13209184-9f7d-40bf-bec6-d418463affe5\",\"type\":\"ColumnDataSource\"},{\"attributes\":{\"callback\":null,\"column_names\":[\"line_color\",\"line_alpha\",\"label\",\"y\",\"fill_alpha\",\"width\",\"height\",\"color\",\"x\"],\"data\":{\"chart_index\":[\"(8.8, 8.9]\"],\"color\":[\"#5ab738\"],\"fill_alpha\":[0.6],\"height\":[0.0],\"label\":[\"(8.8, 8.9]\"],\"line_alpha\":[1.0],\"line_color\":[\"black\"],\"width\":[0.117647058823529],\"x\":[\"8.850000000000001\"],\"y\":[0.0]}},\"id\":\"5b1b2f40-0ec0-4eda-82e9-23c240f09cc6\",\"type\":\"ColumnDataSource\"},{\"attributes\":{\"fill_alpha\":{\"field\":\"fill_alpha\"},\"fill_color\":{\"field\":\"color\"},\"height\":{\"field\":\"height\",\"units\":\"data\"},\"line_color\":{\"field\":\"line_color\"},\"width\":{\"field\":\"width\",\"units\":\"data\"},\"x\":{\"field\":\"x\"},\"y\":{\"field\":\"y\"}},\"id\":\"c2101688-7abf-463f-82e2-625cfd374f4c\",\"type\":\"Rect\"},{\"attributes\":{\"fill_alpha\":{\"field\":\"fill_alpha\"},\"fill_color\":{\"field\":\"color\"},\"height\":{\"field\":\"height\",\"units\":\"data\"},\"line_color\":{\"field\":\"line_color\"},\"width\":{\"field\":\"width\",\"units\":\"data\"},\"x\":{\"field\":\"x\"},\"y\":{\"field\":\"y\"}},\"id\":\"e4604f3c-b110-43cb-b4e1-74a3d6243b78\",\"type\":\"Rect\"},{\"attributes\":{\"fill_alpha\":{\"field\":\"fill_alpha\"},\"fill_color\":{\"field\":\"color\"},\"height\":{\"field\":\"height\",\"units\":\"data\"},\"line_color\":{\"field\":\"line_color\"},\"width\":{\"field\":\"width\",\"units\":\"data\"},\"x\":{\"field\":\"x\"},\"y\":{\"field\":\"y\"}},\"id\":\"1ea7d800-1119-4fdf-8d65-4d3551bbc418\",\"type\":\"Rect\"},{\"attributes\":{\"callback\":null,\"column_names\":[\"line_color\",\"line_alpha\",\"label\",\"y\",\"fill_alpha\",\"width\",\"height\",\"color\",\"x\"],\"data\":{\"chart_index\":[\"(7.6, 7.7]\"],\"color\":[\"#5ab738\"],\"fill_alpha\":[0.6],\"height\":[0.0],\"label\":[\"(7.6, 7.7]\"],\"line_alpha\":[1.0],\"line_color\":[\"black\"],\"width\":[0.11764705882352988],\"x\":[\"7.65\"],\"y\":[0.0]}},\"id\":\"710cc5c6-6af9-424d-a704-6e50c29bef39\",\"type\":\"ColumnDataSource\"},{\"attributes\":{\"data_source\":{\"id\":\"10831a3d-43d7-4d9b-a0f1-e1dabd6bdda0\",\"type\":\"ColumnDataSource\"},\"glyph\":{\"id\":\"b5b3d582-34d5-4296-a3f6-4682f65280de\",\"type\":\"Rect\"},\"hover_glyph\":null,\"nonselection_glyph\":null,\"selection_glyph\":null},\"id\":\"f69bef9d-614a-4222-9159-90d1e9b05721\",\"type\":\"GlyphRenderer\"},{\"attributes\":{\"fill_alpha\":{\"field\":\"fill_alpha\"},\"fill_color\":{\"field\":\"color\"},\"height\":{\"field\":\"height\",\"units\":\"data\"},\"line_color\":{\"field\":\"line_color\"},\"width\":{\"field\":\"width\",\"units\":\"data\"},\"x\":{\"field\":\"x\"},\"y\":{\"field\":\"y\"}},\"id\":\"14a66dee-8b3c-493a-9eac-8dd8d59b132c\",\"type\":\"Rect\"},{\"attributes\":{\"data_source\":{\"id\":\"f7238164-eee2-455c-8eb6-8c62b195207f\",\"type\":\"ColumnDataSource\"},\"glyph\":{\"id\":\"ec1b81b2-ebe5-40f1-8c98-3024bfb88c18\",\"type\":\"Rect\"},\"hover_glyph\":null,\"nonselection_glyph\":null,\"selection_glyph\":null},\"id\":\"093192a7-6944-4431-8174-ca6b3f72585e\",\"type\":\"GlyphRenderer\"},{\"attributes\":{\"fill_alpha\":{\"field\":\"fill_alpha\"},\"fill_color\":{\"field\":\"color\"},\"height\":{\"field\":\"height\",\"units\":\"data\"},\"line_color\":{\"field\":\"line_color\"},\"width\":{\"field\":\"width\",\"units\":\"data\"},\"x\":{\"field\":\"x\"},\"y\":{\"field\":\"y\"}},\"id\":\"15ea2b5b-3afb-42b1-beb6-91237d37686e\",\"type\":\"Rect\"},{\"attributes\":{\"active_drag\":\"auto\",\"active_scroll\":\"auto\",\"active_tap\":\"auto\",\"tools\":[{\"id\":\"9d7d09ae-005b-4beb-9410-ee214bd1627b\",\"type\":\"PanTool\"},{\"id\":\"b3467756-f90d-47e1-80a0-09554a755dcf\",\"type\":\"ResetTool\"},{\"id\":\"f234bfcc-e185-4256-95dd-9ab71a0f5ce9\",\"type\":\"BoxZoomTool\"}]},\"id\":\"c7cddb42-4ca6-4e33-85f7-e00dd098e855\",\"type\":\"Toolbar\"},{\"attributes\":{\"plot\":{\"id\":\"ef047ee6-c462-4b90-a7b2-9bc78f06379f\",\"subtype\":\"Chart\",\"type\":\"Plot\"}},\"id\":\"9d7d09ae-005b-4beb-9410-ee214bd1627b\",\"type\":\"PanTool\"},{\"attributes\":{\"children\":[{\"id\":\"c6f6ef94-7a43-4aac-b6bb-3b7496ff69cd\",\"type\":\"ToolbarBox\"},{\"id\":\"2f79d7b4-e888-4e41-abfc-078b595deebc\",\"type\":\"Column\"}]},\"id\":\"ff6f7e1c-dd53-4561-9ddc-4ebf1d4674df\",\"type\":\"Column\"},{\"attributes\":{\"data_source\":{\"id\":\"d029b9b1-4d75-4937-b101-be7be2597da0\",\"type\":\"ColumnDataSource\"},\"glyph\":{\"id\":\"b97a2548-9bf1-426e-b889-025201d6a597\",\"type\":\"Rect\"},\"hover_glyph\":null,\"nonselection_glyph\":null,\"selection_glyph\":null},\"id\":\"76d88b42-d572-40a7-aab6-b7dcb32378b4\",\"type\":\"GlyphRenderer\"},{\"attributes\":{\"fill_alpha\":{\"field\":\"fill_alpha\"},\"fill_color\":{\"field\":\"color\"},\"height\":{\"field\":\"height\",\"units\":\"data\"},\"line_color\":{\"field\":\"line_color\"},\"width\":{\"field\":\"width\",\"units\":\"data\"},\"x\":{\"field\":\"x\"},\"y\":{\"field\":\"y\"}},\"id\":\"a7d37a8f-2f30-4679-b28c-b44f10e2cb6c\",\"type\":\"Rect\"},{\"attributes\":{\"fill_alpha\":{\"field\":\"fill_alpha\"},\"fill_color\":{\"field\":\"color\"},\"height\":{\"field\":\"height\",\"units\":\"data\"},\"line_color\":{\"field\":\"line_color\"},\"width\":{\"field\":\"width\",\"units\":\"data\"},\"x\":{\"field\":\"x\"},\"y\":{\"field\":\"y\"}},\"id\":\"b6b6da55-8778-4699-bd76-d869df70f0c3\",\"type\":\"Rect\"},{\"attributes\":{\"callback\":null,\"column_names\":[\"line_color\",\"line_alpha\",\"label\",\"y\",\"fill_alpha\",\"width\",\"height\",\"color\",\"x\"],\"data\":{\"chart_index\":[\"(4.1, 4.2]\"],\"color\":[\"#5ab738\"],\"fill_alpha\":[0.6],\"height\":[0.0],\"label\":[\"(4.1, 4.2]\"],\"line_alpha\":[1.0],\"line_color\":[\"black\"],\"width\":[0.11764705882352988],\"x\":[\"4.15\"],\"y\":[0.0]}},\"id\":\"cbb75e13-c80d-47dd-90f7-79ef6f0b333c\",\"type\":\"ColumnDataSource\"},{\"attributes\":{\"fill_alpha\":{\"field\":\"fill_alpha\"},\"fill_color\":{\"field\":\"color\"},\"height\":{\"field\":\"height\",\"units\":\"data\"},\"line_color\":{\"field\":\"line_color\"},\"width\":{\"field\":\"width\",\"units\":\"data\"},\"x\":{\"field\":\"x\"},\"y\":{\"field\":\"y\"}},\"id\":\"89f4fa1d-238b-440b-882f-32177f0d6a25\",\"type\":\"Rect\"},{\"attributes\":{\"callback\":null,\"column_names\":[\"line_color\",\"line_alpha\",\"label\",\"y\",\"fill_alpha\",\"width\",\"height\",\"color\",\"x\"],\"data\":{\"chart_index\":[\"(7.2, 7.3]\"],\"color\":[\"#f22c40\"],\"fill_alpha\":[0.6],\"height\":[0.0],\"label\":[\"(7.2, 7.3]\"],\"line_alpha\":[1.0],\"line_color\":[\"black\"],\"width\":[0.16666666666666696],\"x\":[\"7.25\"],\"y\":[0.0]}},\"id\":\"37733e99-6a54-4b37-bb6f-10a77ca527d9\",\"type\":\"ColumnDataSource\"},{\"attributes\":{\"fill_alpha\":{\"field\":\"fill_alpha\"},\"fill_color\":{\"field\":\"color\"},\"height\":{\"field\":\"height\",\"units\":\"data\"},\"line_color\":{\"field\":\"line_color\"},\"width\":{\"field\":\"width\",\"units\":\"data\"},\"x\":{\"field\":\"x\"},\"y\":{\"field\":\"y\"}},\"id\":\"6a0843fa-b95b-4338-a586-bc49be8ec945\",\"type\":\"Rect\"},{\"attributes\":{\"callback\":null,\"column_names\":[\"line_color\",\"line_alpha\",\"label\",\"y\",\"fill_alpha\",\"width\",\"height\",\"color\",\"x\"],\"data\":{\"chart_index\":[\"(7.8, 7.9]\"],\"color\":[\"#5ab738\"],\"fill_alpha\":[0.6],\"height\":[0.0],\"label\":[\"(7.8, 7.9]\"],\"line_alpha\":[1.0],\"line_color\":[\"black\"],\"width\":[0.11764705882352988],\"x\":[\"7.85\"],\"y\":[0.0]}},\"id\":\"f4de8152-0eeb-45b2-9444-e20d53e6d0a8\",\"type\":\"ColumnDataSource\"},{\"attributes\":{\"fill_alpha\":{\"field\":\"fill_alpha\"},\"fill_color\":{\"field\":\"color\"},\"height\":{\"field\":\"height\",\"units\":\"data\"},\"line_color\":{\"field\":\"line_color\"},\"width\":{\"field\":\"width\",\"units\":\"data\"},\"x\":{\"field\":\"x\"},\"y\":{\"field\":\"y\"}},\"id\":\"1d663206-d301-4b13-a121-63642c1d94c2\",\"type\":\"Rect\"},{\"attributes\":{\"callback\":null,\"column_names\":[\"line_color\",\"line_alpha\",\"label\",\"y\",\"fill_alpha\",\"width\",\"height\",\"color\",\"x\"],\"data\":{\"chart_index\":[\"(7.2, 7.4]\"],\"color\":[\"#5ab738\"],\"fill_alpha\":[0.6],\"height\":[0.0],\"label\":[\"(7.2, 7.4]\"],\"line_alpha\":[1.0],\"line_color\":[\"black\"],\"width\":[0.117647058823529],\"x\":[\"7.300000000000001\"],\"y\":[0.0]}},\"id\":\"e1b6e47f-63b4-44b9-bd58-039ef22da6a4\",\"type\":\"ColumnDataSource\"},{\"attributes\":{\"data_source\":{\"id\":\"df083243-5d70-436a-8632-1bc37492b108\",\"type\":\"ColumnDataSource\"},\"glyph\":{\"id\":\"f3e47521-2177-4c39-bf6c-a89cda18bf42\",\"type\":\"Rect\"},\"hover_glyph\":null,\"nonselection_glyph\":null,\"selection_glyph\":null},\"id\":\"a19c0c4c-d9a5-4d31-b589-158dabc25b49\",\"type\":\"GlyphRenderer\"},{\"attributes\":{\"callback\":null,\"column_names\":[\"line_color\",\"line_alpha\",\"label\",\"y\",\"fill_alpha\",\"width\",\"height\",\"color\",\"x\"],\"data\":{\"chart_index\":[\"(8.9, 9.0]\"],\"color\":[\"#5ab738\"],\"fill_alpha\":[0.6],\"height\":[5.0],\"label\":[\"(8.9, 9.0]\"],\"line_alpha\":[1.0],\"line_color\":[\"black\"],\"width\":[0.117647058823529],\"x\":[\"8.95\"],\"y\":[2.5]}},\"id\":\"841a5b2a-a9a7-4d31-a10d-b09fea55eb7a\",\"type\":\"ColumnDataSource\"},{\"attributes\":{\"fill_alpha\":{\"field\":\"fill_alpha\"},\"fill_color\":{\"field\":\"color\"},\"height\":{\"field\":\"height\",\"units\":\"data\"},\"line_color\":{\"field\":\"line_color\"},\"width\":{\"field\":\"width\",\"units\":\"data\"},\"x\":{\"field\":\"x\"},\"y\":{\"field\":\"y\"}},\"id\":\"0e83a060-a295-4a0e-9ba7-5349988682df\",\"type\":\"Rect\"},{\"attributes\":{\"callback\":null,\"column_names\":[\"line_color\",\"line_alpha\",\"label\",\"y\",\"fill_alpha\",\"width\",\"height\",\"color\",\"x\"],\"data\":{\"chart_index\":[\"(3.2, 3.3]\"],\"color\":[\"#f22c40\"],\"fill_alpha\":[0.6],\"height\":[0.0],\"label\":[\"(3.2, 3.3]\"],\"line_alpha\":[1.0],\"line_color\":[\"black\"],\"width\":[0.16666666666666696],\"x\":[\"3.25\"],\"y\":[0.0]}},\"id\":\"7e69d9f5-78c7-4f5a-bdae-54a96ad51834\",\"type\":\"ColumnDataSource\"},{\"attributes\":{\"fill_alpha\":{\"field\":\"fill_alpha\"},\"fill_color\":{\"field\":\"color\"},\"height\":{\"field\":\"height\",\"units\":\"data\"},\"line_color\":{\"field\":\"line_color\"},\"width\":{\"field\":\"width\",\"units\":\"data\"},\"x\":{\"field\":\"x\"},\"y\":{\"field\":\"y\"}},\"id\":\"0c92670b-acac-429d-bf4b-f63830589455\",\"type\":\"Rect\"},{\"attributes\":{\"overlay\":{\"id\":\"cbe6f612-b526-445e-82f7-47ad0b4f5bc0\",\"type\":\"BoxAnnotation\"},\"plot\":{\"id\":\"e99b6721-e2bb-4d5e-9fd3-3318cf37b376\",\"subtype\":\"Chart\",\"type\":\"Plot\"}},\"id\":\"532f70cc-4618-4944-a529-956431cfbd7a\",\"type\":\"BoxZoomTool\"},{\"attributes\":{\"callback\":null,\"column_names\":[\"line_color\",\"line_alpha\",\"label\",\"y\",\"fill_alpha\",\"width\",\"height\",\"color\",\"x\"],\"data\":{\"chart_index\":[\"(7.1, 7.2]\"],\"color\":[\"#5ab738\"],\"fill_alpha\":[0.6],\"height\":[0.0],\"label\":[\"(7.1, 7.2]\"],\"line_alpha\":[1.0],\"line_color\":[\"black\"],\"width\":[0.11764705882352988],\"x\":[\"7.15\"],\"y\":[0.0]}},\"id\":\"a16f15e7-4c9a-406f-a415-c1aafbd089d9\",\"type\":\"ColumnDataSource\"},{\"attributes\":{\"children\":[{\"id\":\"9362426c-53da-4753-aef1-20aba0743fa0\",\"type\":\"Row\"}]},\"id\":\"2f79d7b4-e888-4e41-abfc-078b595deebc\",\"type\":\"Column\"},{\"attributes\":{\"fill_alpha\":{\"field\":\"fill_alpha\"},\"fill_color\":{\"field\":\"color\"},\"height\":{\"field\":\"height\",\"units\":\"data\"},\"line_color\":{\"field\":\"line_color\"},\"width\":{\"field\":\"width\",\"units\":\"data\"},\"x\":{\"field\":\"x\"},\"y\":{\"field\":\"y\"}},\"id\":\"13852639-a017-4ac3-8bbb-c87673d7333d\",\"type\":\"Rect\"},{\"attributes\":{\"data_source\":{\"id\":\"0cbb7ea1-d727-4413-b836-109edcbbe7d0\",\"type\":\"ColumnDataSource\"},\"glyph\":{\"id\":\"1d663206-d301-4b13-a121-63642c1d94c2\",\"type\":\"Rect\"},\"hover_glyph\":null,\"nonselection_glyph\":null,\"selection_glyph\":null},\"id\":\"b0c6333e-6f4d-4baf-b3bb-5105681fcd32\",\"type\":\"GlyphRenderer\"},{\"attributes\":{\"fill_alpha\":{\"field\":\"fill_alpha\"},\"fill_color\":{\"field\":\"color\"},\"height\":{\"field\":\"height\",\"units\":\"data\"},\"line_color\":{\"field\":\"line_color\"},\"width\":{\"field\":\"width\",\"units\":\"data\"},\"x\":{\"field\":\"x\"},\"y\":{\"field\":\"y\"}},\"id\":\"4d4ed995-21e6-4a0b-b426-0f586e23eb0d\",\"type\":\"Rect\"},{\"attributes\":{\"callback\":null,\"column_names\":[\"line_color\",\"line_alpha\",\"label\",\"y\",\"fill_alpha\",\"width\",\"height\",\"color\",\"x\"],\"data\":{\"chart_index\":[{\"white?\":1}],\"color\":[\"#f22c40\"],\"fill_alpha\":[0.8],\"height\":[4898.0],\"label\":[{\"white?\":1}],\"line_alpha\":[1.0],\"line_color\":[\"white\"],\"white?\":[1],\"width\":[0.8],\"x\":[\"1\"],\"y\":[2449.0]}},\"id\":\"1d8d4f80-131a-4206-9b5f-d2f4b53d3e55\",\"type\":\"ColumnDataSource\"},{\"attributes\":{\"fill_alpha\":{\"field\":\"fill_alpha\"},\"fill_color\":{\"field\":\"color\"},\"height\":{\"field\":\"height\",\"units\":\"data\"},\"line_color\":{\"field\":\"line_color\"},\"width\":{\"field\":\"width\",\"units\":\"data\"},\"x\":{\"field\":\"x\"},\"y\":{\"field\":\"y\"}},\"id\":\"8e161f67-5e49-432a-aa28-1496db31770b\",\"type\":\"Rect\"},{\"attributes\":{\"fill_alpha\":{\"field\":\"fill_alpha\"},\"fill_color\":{\"field\":\"color\"},\"height\":{\"field\":\"height\",\"units\":\"data\"},\"line_color\":{\"field\":\"line_color\"},\"width\":{\"field\":\"width\",\"units\":\"data\"},\"x\":{\"field\":\"x\"},\"y\":{\"field\":\"y\"}},\"id\":\"3e6d6899-37a7-4724-974f-7a464aa4c173\",\"type\":\"Rect\"},{\"attributes\":{\"data_source\":{\"id\":\"5553abf5-dba0-4926-8f1e-efb53a74aefd\",\"type\":\"ColumnDataSource\"},\"glyph\":{\"id\":\"e4604f3c-b110-43cb-b4e1-74a3d6243b78\",\"type\":\"Rect\"},\"hover_glyph\":null,\"nonselection_glyph\":null,\"selection_glyph\":null},\"id\":\"cbcbe85e-ec2d-48a5-a361-9a6e9278358c\",\"type\":\"GlyphRenderer\"},{\"attributes\":{\"data_source\":{\"id\":\"bcad6ee6-8df9-4353-b94b-491ccc9aea2b\",\"type\":\"ColumnDataSource\"},\"glyph\":{\"id\":\"cda2bad1-495c-4793-ba08-5b937a8c2381\",\"type\":\"Rect\"},\"hover_glyph\":null,\"nonselection_glyph\":null,\"selection_glyph\":null},\"id\":\"76da35a5-47de-4d23-be5e-a3b653062d12\",\"type\":\"GlyphRenderer\"},{\"attributes\":{\"fill_alpha\":{\"field\":\"fill_alpha\"},\"fill_color\":{\"field\":\"color\"},\"height\":{\"field\":\"height\",\"units\":\"data\"},\"line_color\":{\"field\":\"line_color\"},\"width\":{\"field\":\"width\",\"units\":\"data\"},\"x\":{\"field\":\"x\"},\"y\":{\"field\":\"y\"}},\"id\":\"c430d4fb-17dc-4ee7-ad24-490fd5ed6556\",\"type\":\"Rect\"},{\"attributes\":{\"fill_alpha\":{\"field\":\"fill_alpha\"},\"fill_color\":{\"field\":\"color\"},\"height\":{\"field\":\"height\",\"units\":\"data\"},\"line_color\":{\"field\":\"line_color\"},\"width\":{\"field\":\"width\",\"units\":\"data\"},\"x\":{\"field\":\"x\"},\"y\":{\"field\":\"y\"}},\"id\":\"a06825ff-aae4-4194-891a-c9096ae21114\",\"type\":\"Rect\"},{\"attributes\":{\"fill_alpha\":{\"field\":\"fill_alpha\"},\"fill_color\":{\"field\":\"color\"},\"height\":{\"field\":\"height\",\"units\":\"data\"},\"line_color\":{\"field\":\"line_color\"},\"width\":{\"field\":\"width\",\"units\":\"data\"},\"x\":{\"field\":\"x\"},\"y\":{\"field\":\"y\"}},\"id\":\"4c6899e3-bb9a-4dc0-903b-ddfb644c6714\",\"type\":\"Rect\"},{\"attributes\":{\"data_source\":{\"id\":\"4afd0c5f-a54a-4179-9ee6-9576f8e48afb\",\"type\":\"ColumnDataSource\"},\"glyph\":{\"id\":\"50b2d69b-539d-4fdc-b012-884b26a9917d\",\"type\":\"Rect\"},\"hover_glyph\":null,\"nonselection_glyph\":null,\"selection_glyph\":null},\"id\":\"e00d2743-fc08-425a-9154-51908d58bb64\",\"type\":\"GlyphRenderer\"},{\"attributes\":{\"fill_alpha\":{\"field\":\"fill_alpha\"},\"fill_color\":{\"field\":\"color\"},\"height\":{\"field\":\"height\",\"units\":\"data\"},\"line_color\":{\"field\":\"line_color\"},\"width\":{\"field\":\"width\",\"units\":\"data\"},\"x\":{\"field\":\"x\"},\"y\":{\"field\":\"y\"}},\"id\":\"3ea4e8de-1f8f-491d-a9c7-96ee64bddd78\",\"type\":\"Rect\"},{\"attributes\":{\"data_source\":{\"id\":\"1b772067-283b-4959-857e-6ec5941e3e12\",\"type\":\"ColumnDataSource\"},\"glyph\":{\"id\":\"3fb23607-e8a6-4a6b-91ca-c8b960ed26bb\",\"type\":\"Rect\"},\"hover_glyph\":null,\"nonselection_glyph\":null,\"selection_glyph\":null},\"id\":\"81bd67f3-9bfd-45d5-9bc0-ef48d7fbb173\",\"type\":\"GlyphRenderer\"},{\"attributes\":{\"fill_alpha\":{\"field\":\"fill_alpha\"},\"fill_color\":{\"field\":\"color\"},\"height\":{\"field\":\"height\",\"units\":\"data\"},\"line_color\":{\"field\":\"line_color\"},\"width\":{\"field\":\"width\",\"units\":\"data\"},\"x\":{\"field\":\"x\"},\"y\":{\"field\":\"y\"}},\"id\":\"09939f7f-a1e9-4810-a4be-2f0e0b1680ae\",\"type\":\"Rect\"},{\"attributes\":{\"data_source\":{\"id\":\"c8e52584-3f8b-4d26-90d6-c982181db6af\",\"type\":\"ColumnDataSource\"},\"glyph\":{\"id\":\"8dac7b4b-086d-48bf-960a-4225b6f5ddc8\",\"type\":\"Rect\"},\"hover_glyph\":null,\"nonselection_glyph\":null,\"selection_glyph\":null},\"id\":\"a2dca79e-821b-4daa-9d9a-67ac66d3452a\",\"type\":\"GlyphRenderer\"},{\"attributes\":{\"fill_alpha\":{\"field\":\"fill_alpha\"},\"fill_color\":{\"field\":\"color\"},\"height\":{\"field\":\"height\",\"units\":\"data\"},\"line_color\":{\"field\":\"line_color\"},\"width\":{\"field\":\"width\",\"units\":\"data\"},\"x\":{\"field\":\"x\"},\"y\":{\"field\":\"y\"}},\"id\":\"657d677e-ee48-4e77-8e72-182c1699d6c1\",\"type\":\"Rect\"},{\"attributes\":{\"callback\":null,\"column_names\":[\"line_color\",\"line_alpha\",\"label\",\"y\",\"fill_alpha\",\"width\",\"height\",\"color\",\"x\"],\"data\":{\"chart_index\":[\"(6.5, 6.7]\"],\"color\":[\"#f22c40\"],\"fill_alpha\":[0.6],\"height\":[0.0],\"label\":[\"(6.5, 6.7]\"],\"line_alpha\":[1.0],\"line_color\":[\"black\"],\"width\":[0.16666666666666607],\"x\":[\"6.6\"],\"y\":[0.0]}},\"id\":\"b47fda81-cea6-46a0-823d-582f48d35ddf\",\"type\":\"ColumnDataSource\"},{\"attributes\":{\"fill_alpha\":{\"field\":\"fill_alpha\"},\"fill_color\":{\"field\":\"color\"},\"height\":{\"field\":\"height\",\"units\":\"data\"},\"line_color\":{\"field\":\"line_color\"},\"width\":{\"field\":\"width\",\"units\":\"data\"},\"x\":{\"field\":\"x\"},\"y\":{\"field\":\"y\"}},\"id\":\"41585e46-03b5-4c96-9a73-6c52f68edc87\",\"type\":\"Rect\"},{\"attributes\":{\"callback\":null,\"column_names\":[\"line_color\",\"line_alpha\",\"label\",\"y\",\"fill_alpha\",\"width\",\"height\",\"color\",\"x\"],\"data\":{\"chart_index\":[\"(6.7, 6.8]\"],\"color\":[\"#f22c40\"],\"fill_alpha\":[0.6],\"height\":[0.0],\"label\":[\"(6.7, 6.8]\"],\"line_alpha\":[1.0],\"line_color\":[\"black\"],\"width\":[0.16666666666666696],\"x\":[\"6.75\"],\"y\":[0.0]}},\"id\":\"66ba72e6-80a4-47fd-a679-6ef5e849b04d\",\"type\":\"ColumnDataSource\"},{\"attributes\":{\"callback\":null,\"column_names\":[\"line_color\",\"line_alpha\",\"label\",\"y\",\"fill_alpha\",\"width\",\"height\",\"color\",\"x\"],\"data\":{\"chart_index\":[\"(7.4, 7.5]\"],\"color\":[\"#5ab738\"],\"fill_alpha\":[0.6],\"height\":[0.0],\"label\":[\"(7.4, 7.5]\"],\"line_alpha\":[1.0],\"line_color\":[\"black\"],\"width\":[0.11764705882352988],\"x\":[\"7.45\"],\"y\":[0.0]}},\"id\":\"22a06901-bd55-479b-9ca1-34dcb0221bd8\",\"type\":\"ColumnDataSource\"},{\"attributes\":{\"children\":[{\"id\":\"e99b6721-e2bb-4d5e-9fd3-3318cf37b376\",\"subtype\":\"Chart\",\"type\":\"Plot\"},{\"id\":\"ef047ee6-c462-4b90-a7b2-9bc78f06379f\",\"subtype\":\"Chart\",\"type\":\"Plot\"}]},\"id\":\"9362426c-53da-4753-aef1-20aba0743fa0\",\"type\":\"Row\"},{\"attributes\":{\"data_source\":{\"id\":\"0c002e98-a9fa-46e0-ae12-52a79c588384\",\"type\":\"ColumnDataSource\"},\"glyph\":{\"id\":\"a695461f-35a5-43ac-83d1-481bb529b6fc\",\"type\":\"Rect\"},\"hover_glyph\":null,\"nonselection_glyph\":null,\"selection_glyph\":null},\"id\":\"f4a9ab28-0fb7-47de-84d8-8f83d5152020\",\"type\":\"GlyphRenderer\"},{\"attributes\":{\"callback\":null,\"column_names\":[\"line_color\",\"line_alpha\",\"label\",\"y\",\"fill_alpha\",\"width\",\"height\",\"color\",\"x\"],\"data\":{\"chart_index\":[\"(3.7, 3.8]\"],\"color\":[\"#5ab738\"],\"fill_alpha\":[0.6],\"height\":[0.0],\"label\":[\"(3.7, 3.8]\"],\"line_alpha\":[1.0],\"line_color\":[\"black\"],\"width\":[0.117647058823529],\"x\":[\"3.75\"],\"y\":[0.0]}},\"id\":\"9b924479-ede5-414c-ba70-5b280bc4d774\",\"type\":\"ColumnDataSource\"},{\"attributes\":{\"data_source\":{\"id\":\"7b7f80c0-e35c-41ef-aee8-2012535569fa\",\"type\":\"ColumnDataSource\"},\"glyph\":{\"id\":\"c2101688-7abf-463f-82e2-625cfd374f4c\",\"type\":\"Rect\"},\"hover_glyph\":null,\"nonselection_glyph\":null,\"selection_glyph\":null},\"id\":\"8a4bb88b-ae41-4ed8-a45b-408c67f8c329\",\"type\":\"GlyphRenderer\"},{\"attributes\":{\"data_source\":{\"id\":\"4022ff56-272f-4aa6-b09e-24779bc04fbf\",\"type\":\"ColumnDataSource\"},\"glyph\":{\"id\":\"b6b6da55-8778-4699-bd76-d869df70f0c3\",\"type\":\"Rect\"},\"hover_glyph\":null,\"nonselection_glyph\":null,\"selection_glyph\":null},\"id\":\"cee88755-8f88-4b63-a743-d6e1332f6dda\",\"type\":\"GlyphRenderer\"},{\"attributes\":{\"data_source\":{\"id\":\"13209184-9f7d-40bf-bec6-d418463affe5\",\"type\":\"ColumnDataSource\"},\"glyph\":{\"id\":\"910de18b-9508-4309-8906-0a86f40f38a9\",\"type\":\"Rect\"},\"hover_glyph\":null,\"nonselection_glyph\":null,\"selection_glyph\":null},\"id\":\"7997b3f9-08b5-49ae-aba0-655ccf6a4269\",\"type\":\"GlyphRenderer\"},{\"attributes\":{\"fill_alpha\":{\"field\":\"fill_alpha\"},\"fill_color\":{\"field\":\"color\"},\"height\":{\"field\":\"height\",\"units\":\"data\"},\"line_color\":{\"field\":\"line_color\"},\"width\":{\"field\":\"width\",\"units\":\"data\"},\"x\":{\"field\":\"x\"},\"y\":{\"field\":\"y\"}},\"id\":\"84599579-0a44-40b5-b2c5-036d2b5034b8\",\"type\":\"Rect\"},{\"attributes\":{\"callback\":null,\"column_names\":[\"line_color\",\"line_alpha\",\"label\",\"y\",\"fill_alpha\",\"width\",\"height\",\"color\",\"x\"],\"data\":{\"chart_index\":[\"[3.0, 3.1]\"],\"color\":[\"#5ab738\"],\"fill_alpha\":[0.6],\"height\":[20.0],\"label\":[\"[3.0, 3.1]\"],\"line_alpha\":[1.0],\"line_color\":[\"black\"],\"width\":[0.11764705882352944],\"x\":[\"3.05\"],\"y\":[10.0]}},\"id\":\"f112ba65-e7c1-42b1-9917-164bcbc28476\",\"type\":\"ColumnDataSource\"},{\"attributes\":{},\"id\":\"8f5865cb-2b80-4dc9-b6ba-ead30f2ea8b0\",\"type\":\"CategoricalTicker\"},{\"attributes\":{\"callback\":null,\"column_names\":[\"line_color\",\"line_alpha\",\"label\",\"y\",\"fill_alpha\",\"width\",\"height\",\"color\",\"x\"],\"data\":{\"chart_index\":[\"(7.7, 7.8]\"],\"color\":[\"#5ab738\"],\"fill_alpha\":[0.6],\"height\":[0.0],\"label\":[\"(7.7, 7.8]\"],\"line_alpha\":[1.0],\"line_color\":[\"black\"],\"width\":[0.117647058823529],\"x\":[\"7.75\"],\"y\":[0.0]}},\"id\":\"1b772067-283b-4959-857e-6ec5941e3e12\",\"type\":\"ColumnDataSource\"},{\"attributes\":{\"callback\":null,\"column_names\":[\"line_color\",\"line_alpha\",\"label\",\"y\",\"fill_alpha\",\"width\",\"height\",\"color\",\"x\"],\"data\":{\"chart_index\":[\"(5.0, 5.1]\"],\"color\":[\"#5ab738\"],\"fill_alpha\":[0.6],\"height\":[1457.0],\"label\":[\"(5.0, 5.1]\"],\"line_alpha\":[1.0],\"line_color\":[\"black\"],\"width\":[0.117647058823529],\"x\":[\"5.05\"],\"y\":[728.5]}},\"id\":\"3ca0e1a9-3bd0-4495-a174-d0075d2bf826\",\"type\":\"ColumnDataSource\"},{\"attributes\":{\"fill_alpha\":{\"field\":\"fill_alpha\"},\"fill_color\":{\"field\":\"color\"},\"height\":{\"field\":\"height\",\"units\":\"data\"},\"line_color\":{\"field\":\"line_color\"},\"width\":{\"field\":\"width\",\"units\":\"data\"},\"x\":{\"field\":\"x\"},\"y\":{\"field\":\"y\"}},\"id\":\"e68deac9-a5b1-4aac-92e2-57fe4721b6dd\",\"type\":\"Rect\"},{\"attributes\":{\"data_source\":{\"id\":\"46d51ddc-2004-4830-8b74-6632148b0c47\",\"type\":\"ColumnDataSource\"},\"glyph\":{\"id\":\"31e31307-b2ac-45c3-a4e3-6dd83c8a48b9\",\"type\":\"Rect\"},\"hover_glyph\":null,\"nonselection_glyph\":null,\"selection_glyph\":null},\"id\":\"60ac12c3-17c0-4ec1-8e5b-c3ae36e3cf88\",\"type\":\"GlyphRenderer\"},{\"attributes\":{\"dimension\":1,\"plot\":{\"id\":\"ef047ee6-c462-4b90-a7b2-9bc78f06379f\",\"subtype\":\"Chart\",\"type\":\"Plot\"},\"ticker\":{\"id\":\"6cf60030-e315-451a-bd1d-901645e6e392\",\"type\":\"BasicTicker\"}},\"id\":\"6fbfa092-e736-44cd-97b4-4ea9318d4095\",\"type\":\"Grid\"},{\"attributes\":{\"data_source\":{\"id\":\"43c0186f-dc16-4af6-baf8-68870e7509d9\",\"type\":\"ColumnDataSource\"},\"glyph\":{\"id\":\"57c78fcf-cb0c-49d6-80a0-f1a717d0f15f\",\"type\":\"Rect\"},\"hover_glyph\":null,\"nonselection_glyph\":null,\"selection_glyph\":null},\"id\":\"5b41fe0d-6184-41ca-a7cb-ffeb2169e121\",\"type\":\"GlyphRenderer\"},{\"attributes\":{\"fill_alpha\":{\"field\":\"fill_alpha\"},\"fill_color\":{\"field\":\"color\"},\"height\":{\"field\":\"height\",\"units\":\"data\"},\"line_color\":{\"field\":\"line_color\"},\"width\":{\"field\":\"width\",\"units\":\"data\"},\"x\":{\"field\":\"x\"},\"y\":{\"field\":\"y\"}},\"id\":\"a7ec8647-9827-4239-bbb5-93cdcfb51bac\",\"type\":\"Rect\"},{\"attributes\":{\"bottom_units\":\"screen\",\"fill_alpha\":{\"value\":0.5},\"fill_color\":{\"value\":\"lightgrey\"},\"left_units\":\"screen\",\"level\":\"overlay\",\"line_alpha\":{\"value\":1.0},\"line_color\":{\"value\":\"black\"},\"line_dash\":[4,4],\"line_width\":{\"value\":2},\"plot\":null,\"render_mode\":\"css\",\"right_units\":\"screen\",\"top_units\":\"screen\"},\"id\":\"53fc3c6f-b403-4709-baa8-0ca348197a4f\",\"type\":\"BoxAnnotation\"},{\"attributes\":{\"data_source\":{\"id\":\"1a9494e4-4b7b-4935-bd0a-eb44b6a0290e\",\"type\":\"ColumnDataSource\"},\"glyph\":{\"id\":\"1ea7d800-1119-4fdf-8d65-4d3551bbc418\",\"type\":\"Rect\"},\"hover_glyph\":null,\"nonselection_glyph\":null,\"selection_glyph\":null},\"id\":\"9eff8f38-bc8d-4e88-876e-57bf66000e66\",\"type\":\"GlyphRenderer\"},{\"attributes\":{\"plot\":null,\"text\":null},\"id\":\"c012b062-d043-4ddb-8522-882431eced83\",\"type\":\"Title\"},{\"attributes\":{\"callback\":null,\"column_names\":[\"line_color\",\"line_alpha\",\"label\",\"y\",\"fill_alpha\",\"width\",\"height\",\"color\",\"x\"],\"data\":{\"chart_index\":[\"(3.4, 3.5]\"],\"color\":[\"#5ab738\"],\"fill_alpha\":[0.6],\"height\":[0.0],\"label\":[\"(3.4, 3.5]\"],\"line_alpha\":[1.0],\"line_color\":[\"black\"],\"width\":[0.11764705882352944],\"x\":[\"3.45\"],\"y\":[0.0]}},\"id\":\"4022ff56-272f-4aa6-b09e-24779bc04fbf\",\"type\":\"ColumnDataSource\"},{\"attributes\":{\"plot\":{\"id\":\"e99b6721-e2bb-4d5e-9fd3-3318cf37b376\",\"subtype\":\"Chart\",\"type\":\"Plot\"}},\"id\":\"aacd8948-115a-49d7-a444-df2139fba6e2\",\"type\":\"ResetTool\"},{\"attributes\":{\"callback\":null,\"column_names\":[\"line_color\",\"line_alpha\",\"label\",\"y\",\"fill_alpha\",\"width\",\"height\",\"color\",\"x\"],\"data\":{\"chart_index\":[\"(4.6, 4.8]\"],\"color\":[\"#5ab738\"],\"fill_alpha\":[0.6],\"height\":[0.0],\"label\":[\"(4.6, 4.8]\"],\"line_alpha\":[1.0],\"line_color\":[\"black\"],\"width\":[0.11764705882352988],\"x\":[\"4.699999999999999\"],\"y\":[0.0]}},\"id\":\"66e17979-fc40-4df4-8afc-1a2b1951f691\",\"type\":\"ColumnDataSource\"},{\"attributes\":{\"data_source\":{\"id\":\"5b1b2f40-0ec0-4eda-82e9-23c240f09cc6\",\"type\":\"ColumnDataSource\"},\"glyph\":{\"id\":\"14a66dee-8b3c-493a-9eac-8dd8d59b132c\",\"type\":\"Rect\"},\"hover_glyph\":null,\"nonselection_glyph\":null,\"selection_glyph\":null},\"id\":\"52880e3c-e1ab-4327-8a78-22bc6114b039\",\"type\":\"GlyphRenderer\"},{\"attributes\":{\"sizing_mode\":\"scale_width\",\"toolbar_location\":\"above\",\"tools\":[{\"id\":\"deaed9cb-b9d4-4967-9b1f-d28d54a29503\",\"type\":\"PanTool\"},{\"id\":\"aacd8948-115a-49d7-a444-df2139fba6e2\",\"type\":\"ResetTool\"},{\"id\":\"532f70cc-4618-4944-a529-956431cfbd7a\",\"type\":\"BoxZoomTool\"},{\"id\":\"9d7d09ae-005b-4beb-9410-ee214bd1627b\",\"type\":\"PanTool\"},{\"id\":\"b3467756-f90d-47e1-80a0-09554a755dcf\",\"type\":\"ResetTool\"},{\"id\":\"f234bfcc-e185-4256-95dd-9ab71a0f5ce9\",\"type\":\"BoxZoomTool\"}]},\"id\":\"c6f6ef94-7a43-4aac-b6bb-3b7496ff69cd\",\"type\":\"ToolbarBox\"},{\"attributes\":{\"data_source\":{\"id\":\"cbb75e13-c80d-47dd-90f7-79ef6f0b333c\",\"type\":\"ColumnDataSource\"},\"glyph\":{\"id\":\"d0593fc0-4119-4764-87d2-12e8df82bf4f\",\"type\":\"Rect\"},\"hover_glyph\":null,\"nonselection_glyph\":null,\"selection_glyph\":null},\"id\":\"e7ab3bda-4f20-46dd-bf01-2b52c43f5725\",\"type\":\"GlyphRenderer\"},{\"attributes\":{\"fill_alpha\":{\"field\":\"fill_alpha\"},\"fill_color\":{\"field\":\"color\"},\"height\":{\"field\":\"height\",\"units\":\"data\"},\"line_color\":{\"field\":\"line_color\"},\"width\":{\"field\":\"width\",\"units\":\"data\"},\"x\":{\"field\":\"x\"},\"y\":{\"field\":\"y\"}},\"id\":\"31e31307-b2ac-45c3-a4e3-6dd83c8a48b9\",\"type\":\"Rect\"},{\"attributes\":{\"data_source\":{\"id\":\"8c1d9dfe-08f5-4080-a5a4-4e4a6cc110fd\",\"type\":\"ColumnDataSource\"},\"glyph\":{\"id\":\"1939ab5d-4715-4556-9a47-0c9e21a7c185\",\"type\":\"Rect\"},\"hover_glyph\":null,\"nonselection_glyph\":null,\"selection_glyph\":null},\"id\":\"2adc4671-d6f0-4720-9dc6-cc67ea91b264\",\"type\":\"GlyphRenderer\"},{\"attributes\":{\"data_source\":{\"id\":\"e1b6e47f-63b4-44b9-bd58-039ef22da6a4\",\"type\":\"ColumnDataSource\"},\"glyph\":{\"id\":\"0e902cdd-fe33-4a1f-9be0-da9785fa3069\",\"type\":\"Rect\"},\"hover_glyph\":null,\"nonselection_glyph\":null,\"selection_glyph\":null},\"id\":\"f145dd17-9c44-49dd-b332-58b9f5cd2b64\",\"type\":\"GlyphRenderer\"},{\"attributes\":{\"data_source\":{\"id\":\"eb40d238-c501-41a3-a612-7f2018cfdcc2\",\"type\":\"ColumnDataSource\"},\"glyph\":{\"id\":\"657d677e-ee48-4e77-8e72-182c1699d6c1\",\"type\":\"Rect\"},\"hover_glyph\":null,\"nonselection_glyph\":null,\"selection_glyph\":null},\"id\":\"ada3bbbe-d678-4c20-ad6e-749cddec63ec\",\"type\":\"GlyphRenderer\"},{\"attributes\":{\"callback\":null,\"end\":2417.8},\"id\":\"cb2b6fd3-071a-44dc-8103-47c513ca6088\",\"type\":\"Range1d\"},{\"attributes\":{\"fill_alpha\":{\"field\":\"fill_alpha\"},\"fill_color\":{\"field\":\"color\"},\"height\":{\"field\":\"height\",\"units\":\"data\"},\"line_color\":{\"field\":\"line_color\"},\"width\":{\"field\":\"width\",\"units\":\"data\"},\"x\":{\"field\":\"x\"},\"y\":{\"field\":\"y\"}},\"id\":\"d0593fc0-4119-4764-87d2-12e8df82bf4f\",\"type\":\"Rect\"},{\"attributes\":{\"callback\":null,\"factors\":[\"0\",\"1\"]},\"id\":\"d26fee3a-353a-4512-ba46-cd423d2b1479\",\"type\":\"FactorRange\"},{\"attributes\":{\"fill_alpha\":{\"field\":\"fill_alpha\"},\"fill_color\":{\"field\":\"color\"},\"height\":{\"field\":\"height\",\"units\":\"data\"},\"line_color\":{\"field\":\"line_color\"},\"width\":{\"field\":\"width\",\"units\":\"data\"},\"x\":{\"field\":\"x\"},\"y\":{\"field\":\"y\"}},\"id\":\"b9f6d1ba-61a9-4e7b-927c-1b82f760051b\",\"type\":\"Rect\"},{\"attributes\":{\"callback\":null,\"column_names\":[\"line_color\",\"line_alpha\",\"label\",\"y\",\"fill_alpha\",\"width\",\"height\",\"color\",\"x\"],\"data\":{\"chart_index\":[\"(7.3, 7.5]\"],\"color\":[\"#f22c40\"],\"fill_alpha\":[0.6],\"height\":[0.0],\"label\":[\"(7.3, 7.5]\"],\"line_alpha\":[1.0],\"line_color\":[\"black\"],\"width\":[0.16666666666666696],\"x\":[\"7.4\"],\"y\":[0.0]}},\"id\":\"f4787353-e16b-4cc7-915d-c29f856324f8\",\"type\":\"ColumnDataSource\"},{\"attributes\":{},\"id\":\"d58737ec-05ce-4134-b38d-7db72341e23d\",\"type\":\"BasicTicker\"},{\"attributes\":{\"data_source\":{\"id\":\"854cbd70-1762-4ea4-ac36-5bb80a1969ff\",\"type\":\"ColumnDataSource\"},\"glyph\":{\"id\":\"14db0996-5403-4561-a65e-93fce9258109\",\"type\":\"Rect\"},\"hover_glyph\":null,\"nonselection_glyph\":null,\"selection_glyph\":null},\"id\":\"7a3ca593-1a45-43b5-bf01-1c71e7bc4d6f\",\"type\":\"GlyphRenderer\"},{\"attributes\":{\"data_source\":{\"id\":\"06816e59-b0db-48fc-8d75-708c84236fa0\",\"type\":\"ColumnDataSource\"},\"glyph\":{\"id\":\"6a0843fa-b95b-4338-a586-bc49be8ec945\",\"type\":\"Rect\"},\"hover_glyph\":null,\"nonselection_glyph\":null,\"selection_glyph\":null},\"id\":\"67d17115-7865-4ce3-a289-f9662bc7f6d9\",\"type\":\"GlyphRenderer\"},{\"attributes\":{\"fill_alpha\":{\"field\":\"fill_alpha\"},\"fill_color\":{\"field\":\"color\"},\"height\":{\"field\":\"height\",\"units\":\"data\"},\"line_color\":{\"field\":\"line_color\"},\"width\":{\"field\":\"width\",\"units\":\"data\"},\"x\":{\"field\":\"x\"},\"y\":{\"field\":\"y\"}},\"id\":\"b5b3d582-34d5-4296-a3f6-4682f65280de\",\"type\":\"Rect\"},{\"attributes\":{\"callback\":null,\"column_names\":[\"line_color\",\"line_alpha\",\"label\",\"y\",\"fill_alpha\",\"width\",\"height\",\"color\",\"x\"],\"data\":{\"chart_index\":[\"(7.8, 8.0]\"],\"color\":[\"#f22c40\"],\"fill_alpha\":[0.6],\"height\":[18.0],\"label\":[\"(7.8, 8.0]\"],\"line_alpha\":[1.0],\"line_color\":[\"black\"],\"width\":[0.16666666666666696],\"x\":[\"7.9\"],\"y\":[9.0]}},\"id\":\"40943bf2-123b-4998-ae8b-cb53c6d3939c\",\"type\":\"ColumnDataSource\"},{\"attributes\":{\"callback\":null,\"column_names\":[\"line_color\",\"line_alpha\",\"label\",\"y\",\"fill_alpha\",\"width\",\"height\",\"color\",\"x\"],\"data\":{\"chart_index\":[\"(4.7, 4.8]\"],\"color\":[\"#f22c40\"],\"fill_alpha\":[0.6],\"height\":[0.0],\"label\":[\"(4.7, 4.8]\"],\"line_alpha\":[1.0],\"line_color\":[\"black\"],\"width\":[0.16666666666666696],\"x\":[\"4.75\"],\"y\":[0.0]}},\"id\":\"270be873-64be-4dcc-86c6-6ba0137f6ebd\",\"type\":\"ColumnDataSource\"},{\"attributes\":{\"callback\":null,\"column_names\":[\"line_color\",\"line_alpha\",\"label\",\"y\",\"fill_alpha\",\"width\",\"height\",\"color\",\"x\"],\"data\":{\"chart_index\":[\"(3.8, 4.0]\"],\"color\":[\"#f22c40\"],\"fill_alpha\":[0.6],\"height\":[0.0],\"label\":[\"(3.8, 4.0]\"],\"line_alpha\":[1.0],\"line_color\":[\"black\"],\"width\":[0.16666666666666696],\"x\":[\"3.9\"],\"y\":[0.0]}},\"id\":\"bdf96e64-82dd-454d-8352-e4ee512a583c\",\"type\":\"ColumnDataSource\"},{\"attributes\":{\"axis_label\":\"quality\",\"formatter\":{\"id\":\"4fba52f6-3948-419a-99a0-d023cca699b8\",\"type\":\"BasicTickFormatter\"},\"minor_tick_line_color\":{\"value\":null},\"plot\":{\"id\":\"ef047ee6-c462-4b90-a7b2-9bc78f06379f\",\"subtype\":\"Chart\",\"type\":\"Plot\"},\"ticker\":{\"id\":\"69d8bb58-8e09-4177-8713-07ca19e4d53a\",\"type\":\"BasicTicker\"}},\"id\":\"61333ee0-2de4-4ce9-80d0-77e3e76cb1bd\",\"type\":\"LinearAxis\"},{\"attributes\":{\"fill_alpha\":{\"field\":\"fill_alpha\"},\"fill_color\":{\"field\":\"color\"},\"height\":{\"field\":\"height\",\"units\":\"data\"},\"line_color\":{\"field\":\"line_color\"},\"width\":{\"field\":\"width\",\"units\":\"data\"},\"x\":{\"field\":\"x\"},\"y\":{\"field\":\"y\"}},\"id\":\"e2860828-fe1a-4a89-aac4-eeee2e680f8a\",\"type\":\"Rect\"},{\"attributes\":{},\"id\":\"c3654b20-c2b5-482e-b64c-ade62609f9de\",\"type\":\"CategoricalTickFormatter\"},{\"attributes\":{\"data_source\":{\"id\":\"b7b2ca5e-064a-4363-9d9d-554c84bdc9ba\",\"type\":\"ColumnDataSource\"},\"glyph\":{\"id\":\"af0cfd71-2921-4ac8-9ee1-6185c5befd44\",\"type\":\"Rect\"},\"hover_glyph\":null,\"nonselection_glyph\":null,\"selection_glyph\":null},\"id\":\"eeca2011-da50-42b0-9202-3f5a7df65543\",\"type\":\"GlyphRenderer\"},{\"attributes\":{\"data_source\":{\"id\":\"9b924479-ede5-414c-ba70-5b280bc4d774\",\"type\":\"ColumnDataSource\"},\"glyph\":{\"id\":\"13852639-a017-4ac3-8bbb-c87673d7333d\",\"type\":\"Rect\"},\"hover_glyph\":null,\"nonselection_glyph\":null,\"selection_glyph\":null},\"id\":\"1f9e5454-c7fe-4668-8d9e-aad5f445a03d\",\"type\":\"GlyphRenderer\"},{\"attributes\":{\"data_source\":{\"id\":\"4d216bbf-36f5-4609-b314-c9f8b7e25213\",\"type\":\"ColumnDataSource\"},\"glyph\":{\"id\":\"5d031163-20bd-46ef-a7a5-f53d0107cd22\",\"type\":\"Rect\"},\"hover_glyph\":null,\"nonselection_glyph\":null,\"selection_glyph\":null},\"id\":\"b40530ba-4fdb-4d67-89e8-5eb201302899\",\"type\":\"GlyphRenderer\"},{\"attributes\":{\"data_source\":{\"id\":\"d4d1fe29-fdbc-4aef-8ff6-c58b7e21f068\",\"type\":\"ColumnDataSource\"},\"glyph\":{\"id\":\"ad888234-88c7-4e87-b9f7-fc150e3a6a4b\",\"type\":\"Rect\"},\"hover_glyph\":null,\"nonselection_glyph\":null,\"selection_glyph\":null},\"id\":\"e71f9c5c-28b1-4a33-909c-dbdfe9d6aa97\",\"type\":\"GlyphRenderer\"},{\"attributes\":{\"fill_alpha\":{\"field\":\"fill_alpha\"},\"fill_color\":{\"field\":\"color\"},\"height\":{\"field\":\"height\",\"units\":\"data\"},\"line_color\":{\"field\":\"line_color\"},\"width\":{\"field\":\"width\",\"units\":\"data\"},\"x\":{\"field\":\"x\"},\"y\":{\"field\":\"y\"}},\"id\":\"5b676a42-4215-42e1-8e0a-3c3bdd887585\",\"type\":\"Rect\"},{\"attributes\":{\"fill_alpha\":{\"field\":\"fill_alpha\"},\"fill_color\":{\"field\":\"color\"},\"height\":{\"field\":\"height\",\"units\":\"data\"},\"line_color\":{\"field\":\"line_color\"},\"width\":{\"field\":\"width\",\"units\":\"data\"},\"x\":{\"field\":\"x\"},\"y\":{\"field\":\"y\"}},\"id\":\"d5f10b1b-06c1-42fa-bdac-0722cdf4f5ba\",\"type\":\"Rect\"},{\"attributes\":{\"axis_label\":\"White?\",\"formatter\":{\"id\":\"c3654b20-c2b5-482e-b64c-ade62609f9de\",\"type\":\"CategoricalTickFormatter\"},\"major_label_orientation\":0.7853981633974483,\"plot\":{\"id\":\"e99b6721-e2bb-4d5e-9fd3-3318cf37b376\",\"subtype\":\"Chart\",\"type\":\"Plot\"},\"ticker\":{\"id\":\"8f5865cb-2b80-4dc9-b6ba-ead30f2ea8b0\",\"type\":\"CategoricalTicker\"}},\"id\":\"f86bbbc5-ea54-49a1-9a04-4a0fdc6cdf7c\",\"type\":\"CategoricalAxis\"},{\"attributes\":{\"fill_alpha\":{\"field\":\"fill_alpha\"},\"fill_color\":{\"field\":\"color\"},\"height\":{\"field\":\"height\",\"units\":\"data\"},\"line_color\":{\"field\":\"line_color\"},\"width\":{\"field\":\"width\",\"units\":\"data\"},\"x\":{\"field\":\"x\"},\"y\":{\"field\":\"y\"}},\"id\":\"052c4fca-ed3e-4a71-8671-d367298e7f00\",\"type\":\"Rect\"},{\"attributes\":{\"axis_label\":\"Count( Quality )\",\"formatter\":{\"id\":\"0b4d5aec-eabb-4f74-abf0-ca381a059f49\",\"type\":\"BasicTickFormatter\"},\"plot\":{\"id\":\"e99b6721-e2bb-4d5e-9fd3-3318cf37b376\",\"subtype\":\"Chart\",\"type\":\"Plot\"},\"ticker\":{\"id\":\"d58737ec-05ce-4134-b38d-7db72341e23d\",\"type\":\"BasicTicker\"}},\"id\":\"7b1c367e-98e0-43db-8bcc-a44be59d0c09\",\"type\":\"LinearAxis\"},{\"attributes\":{\"fill_alpha\":{\"field\":\"fill_alpha\"},\"fill_color\":{\"field\":\"color\"},\"height\":{\"field\":\"height\",\"units\":\"data\"},\"line_color\":{\"field\":\"line_color\"},\"width\":{\"field\":\"width\",\"units\":\"data\"},\"x\":{\"field\":\"x\"},\"y\":{\"field\":\"y\"}},\"id\":\"50b2d69b-539d-4fdc-b012-884b26a9917d\",\"type\":\"Rect\"},{\"attributes\":{\"data_source\":{\"id\":\"4a196c64-cd19-4bd7-a5fb-af8fa40751d2\",\"type\":\"ColumnDataSource\"},\"glyph\":{\"id\":\"15ea2b5b-3afb-42b1-beb6-91237d37686e\",\"type\":\"Rect\"},\"hover_glyph\":null,\"nonselection_glyph\":null,\"selection_glyph\":null},\"id\":\"5e139e38-7548-4953-8ad7-e7ef3f6a1a6f\",\"type\":\"GlyphRenderer\"},{\"attributes\":{\"data_source\":{\"id\":\"d3b46917-f6cd-41b9-8b07-d188963c1ff8\",\"type\":\"ColumnDataSource\"},\"glyph\":{\"id\":\"0ce26a3a-394a-495d-8b31-917070ea6562\",\"type\":\"Rect\"},\"hover_glyph\":null,\"nonselection_glyph\":null,\"selection_glyph\":null},\"id\":\"5c07c7b1-1371-429b-abab-69c49abc77bf\",\"type\":\"GlyphRenderer\"},{\"attributes\":{\"data_source\":{\"id\":\"e9a2eeb7-cd6b-48ad-90c9-f253acade342\",\"type\":\"ColumnDataSource\"},\"glyph\":{\"id\":\"41585e46-03b5-4c96-9a73-6c52f68edc87\",\"type\":\"Rect\"},\"hover_glyph\":null,\"nonselection_glyph\":null,\"selection_glyph\":null},\"id\":\"357b92b2-ddd0-4689-a05e-f97c5f4f52dd\",\"type\":\"GlyphRenderer\"},{\"attributes\":{\"data_source\":{\"id\":\"08ada8b0-515b-45d0-a948-520fb4d2b1c4\",\"type\":\"ColumnDataSource\"},\"glyph\":{\"id\":\"a7d37a8f-2f30-4679-b28c-b44f10e2cb6c\",\"type\":\"Rect\"},\"hover_glyph\":null,\"nonselection_glyph\":null,\"selection_glyph\":null},\"id\":\"dd3b7ded-eb3a-41dd-8b85-40f7bc76533c\",\"type\":\"GlyphRenderer\"},{\"attributes\":{\"below\":[{\"id\":\"f86bbbc5-ea54-49a1-9a04-4a0fdc6cdf7c\",\"type\":\"CategoricalAxis\"}],\"left\":[{\"id\":\"7b1c367e-98e0-43db-8bcc-a44be59d0c09\",\"type\":\"LinearAxis\"}],\"plot_height\":400,\"plot_width\":400,\"renderers\":[{\"id\":\"cbe6f612-b526-445e-82f7-47ad0b4f5bc0\",\"type\":\"BoxAnnotation\"},{\"id\":\"dd927230-6a79-44f6-a92c-edca0bc409f3\",\"type\":\"GlyphRenderer\"},{\"id\":\"a8bc039f-3e4c-4871-be35-ca8fcec85492\",\"type\":\"GlyphRenderer\"},{\"id\":\"f86bbbc5-ea54-49a1-9a04-4a0fdc6cdf7c\",\"type\":\"CategoricalAxis\"},{\"id\":\"7b1c367e-98e0-43db-8bcc-a44be59d0c09\",\"type\":\"LinearAxis\"},{\"id\":\"563cffce-97b1-4458-91ee-2b331e27e8ee\",\"type\":\"Grid\"}],\"title\":{\"id\":\"06e6b2a0-acea-4461-81c2-3c92933eb378\",\"type\":\"Title\"},\"tool_events\":{\"id\":\"90787216-419d-4c9d-a406-f89fa7fd7b49\",\"type\":\"ToolEvents\"},\"toolbar\":{\"id\":\"a13e8a43-2aa3-41c6-98a5-4a04e6e968d4\",\"type\":\"Toolbar\"},\"toolbar_location\":null,\"x_mapper_type\":\"auto\",\"x_range\":{\"id\":\"d26fee3a-353a-4512-ba46-cd423d2b1479\",\"type\":\"FactorRange\"},\"y_mapper_type\":\"auto\",\"y_range\":{\"id\":\"095c8501-221e-4bcf-89fe-e70556990038\",\"type\":\"Range1d\"}},\"id\":\"e99b6721-e2bb-4d5e-9fd3-3318cf37b376\",\"subtype\":\"Chart\",\"type\":\"Plot\"},{\"attributes\":{\"fill_alpha\":{\"field\":\"fill_alpha\"},\"fill_color\":{\"field\":\"color\"},\"height\":{\"field\":\"height\",\"units\":\"data\"},\"line_color\":{\"field\":\"line_color\"},\"width\":{\"field\":\"width\",\"units\":\"data\"},\"x\":{\"field\":\"x\"},\"y\":{\"field\":\"y\"}},\"id\":\"c63901aa-a5a8-4358-af58-e3d2ff6bf7b0\",\"type\":\"Rect\"},{\"attributes\":{\"fill_alpha\":{\"field\":\"fill_alpha\"},\"fill_color\":{\"field\":\"color\"},\"height\":{\"field\":\"height\",\"units\":\"data\"},\"line_color\":{\"field\":\"line_color\"},\"width\":{\"field\":\"width\",\"units\":\"data\"},\"x\":{\"field\":\"x\"},\"y\":{\"field\":\"y\"}},\"id\":\"910de18b-9508-4309-8906-0a86f40f38a9\",\"type\":\"Rect\"},{\"attributes\":{\"fill_alpha\":{\"field\":\"fill_alpha\"},\"fill_color\":{\"field\":\"color\"},\"height\":{\"field\":\"height\",\"units\":\"data\"},\"line_color\":{\"field\":\"line_color\"},\"width\":{\"field\":\"width\",\"units\":\"data\"},\"x\":{\"field\":\"x\"},\"y\":{\"field\":\"y\"}},\"id\":\"cbbe0986-f072-4d7f-95a6-3da6c407be93\",\"type\":\"Rect\"},{\"attributes\":{\"data_source\":{\"id\":\"f9877228-e25e-4396-b4b3-119cedceb2e5\",\"type\":\"ColumnDataSource\"},\"glyph\":{\"id\":\"6b3328ea-9ce5-4c0d-b967-5778fd3ff14f\",\"type\":\"Rect\"},\"hover_glyph\":null,\"nonselection_glyph\":null,\"selection_glyph\":null},\"id\":\"a37a38a3-a414-4e3e-a070-ee3327aa641f\",\"type\":\"GlyphRenderer\"},{\"attributes\":{\"data_source\":{\"id\":\"8f8e2e1c-0c41-4ecb-a918-615777f30a6a\",\"type\":\"ColumnDataSource\"},\"glyph\":{\"id\":\"3e6d6899-37a7-4724-974f-7a464aa4c173\",\"type\":\"Rect\"},\"hover_glyph\":null,\"nonselection_glyph\":null,\"selection_glyph\":null},\"id\":\"ce3ed8d8-6781-4b73-9c92-d776d3594ea3\",\"type\":\"GlyphRenderer\"},{\"attributes\":{\"fill_alpha\":{\"field\":\"fill_alpha\"},\"fill_color\":{\"field\":\"color\"},\"height\":{\"field\":\"height\",\"units\":\"data\"},\"line_color\":{\"field\":\"line_color\"},\"width\":{\"field\":\"width\",\"units\":\"data\"},\"x\":{\"field\":\"x\"},\"y\":{\"field\":\"y\"}},\"id\":\"af0cfd71-2921-4ac8-9ee1-6185c5befd44\",\"type\":\"Rect\"},{\"attributes\":{\"callback\":null,\"column_names\":[\"line_color\",\"line_alpha\",\"label\",\"y\",\"fill_alpha\",\"width\",\"height\",\"color\",\"x\"],\"data\":{\"chart_index\":[\"(5.9, 6.1]\"],\"color\":[\"#5ab738\"],\"fill_alpha\":[0.6],\"height\":[2198.0],\"label\":[\"(5.9, 6.1]\"],\"line_alpha\":[1.0],\"line_color\":[\"black\"],\"width\":[0.117647058823529],\"x\":[\"6.0\"],\"y\":[1099.0]}},\"id\":\"109f4608-e093-4fee-bf0f-8748834032cc\",\"type\":\"ColumnDataSource\"},{\"attributes\":{},\"id\":\"90787216-419d-4c9d-a406-f89fa7fd7b49\",\"type\":\"ToolEvents\"},{\"attributes\":{\"data_source\":{\"id\":\"947df260-1481-42ba-9023-0cee9853b883\",\"type\":\"ColumnDataSource\"},\"glyph\":{\"id\":\"eebdbc74-3eff-4cac-809d-49620bfe9996\",\"type\":\"Rect\"},\"hover_glyph\":null,\"nonselection_glyph\":null,\"selection_glyph\":null},\"id\":\"61cf23b8-5588-4f1e-bf46-c980a34b7cfc\",\"type\":\"GlyphRenderer\"},{\"attributes\":{\"data_source\":{\"id\":\"3ca0e1a9-3bd0-4495-a174-d0075d2bf826\",\"type\":\"ColumnDataSource\"},\"glyph\":{\"id\":\"c430d4fb-17dc-4ee7-ad24-490fd5ed6556\",\"type\":\"Rect\"},\"hover_glyph\":null,\"nonselection_glyph\":null,\"selection_glyph\":null},\"id\":\"68df34eb-7cdb-42fd-b218-a36315fabb72\",\"type\":\"GlyphRenderer\"},{\"attributes\":{\"data_source\":{\"id\":\"dd67e006-ffdc-4ce6-b09e-5c1fe1fab4b7\",\"type\":\"ColumnDataSource\"},\"glyph\":{\"id\":\"e68deac9-a5b1-4aac-92e2-57fe4721b6dd\",\"type\":\"Rect\"},\"hover_glyph\":null,\"nonselection_glyph\":null,\"selection_glyph\":null},\"id\":\"7410fbe7-0e00-4bd5-9382-2ffb54126232\",\"type\":\"GlyphRenderer\"},{\"attributes\":{\"fill_alpha\":{\"field\":\"fill_alpha\"},\"fill_color\":{\"field\":\"color\"},\"height\":{\"field\":\"height\",\"units\":\"data\"},\"line_color\":{\"field\":\"line_color\"},\"width\":{\"field\":\"width\",\"units\":\"data\"},\"x\":{\"field\":\"x\"},\"y\":{\"field\":\"y\"}},\"id\":\"a695461f-35a5-43ac-83d1-481bb529b6fc\",\"type\":\"Rect\"},{\"attributes\":{\"data_source\":{\"id\":\"6bc56146-7c7c-40a7-b8d7-b6e22c89f8c4\",\"type\":\"ColumnDataSource\"},\"glyph\":{\"id\":\"a06825ff-aae4-4194-891a-c9096ae21114\",\"type\":\"Rect\"},\"hover_glyph\":null,\"nonselection_glyph\":null,\"selection_glyph\":null},\"id\":\"17acd05f-7c0b-4067-996e-957347a8b25f\",\"type\":\"GlyphRenderer\"},{\"attributes\":{\"callback\":null,\"column_names\":[\"line_color\",\"line_alpha\",\"label\",\"y\",\"fill_alpha\",\"width\",\"height\",\"color\",\"x\"],\"data\":{\"chart_index\":[\"(8.1, 8.2]\"],\"color\":[\"#5ab738\"],\"fill_alpha\":[0.6],\"height\":[0.0],\"label\":[\"(8.1, 8.2]\"],\"line_alpha\":[1.0],\"line_color\":[\"black\"],\"width\":[0.117647058823529],\"x\":[\"8.149999999999999\"],\"y\":[0.0]}},\"id\":\"2d9e43f5-3943-4a0b-a2a8-86bca1bfbd21\",\"type\":\"ColumnDataSource\"},{\"attributes\":{\"data_source\":{\"id\":\"927500ea-30d6-4fe2-931c-b45b19f67edb\",\"type\":\"ColumnDataSource\"},\"glyph\":{\"id\":\"cbbe0986-f072-4d7f-95a6-3da6c407be93\",\"type\":\"Rect\"},\"hover_glyph\":null,\"nonselection_glyph\":null,\"selection_glyph\":null},\"id\":\"1907463a-150b-4d54-b2a3-d26250ca423e\",\"type\":\"GlyphRenderer\"},{\"attributes\":{},\"id\":\"6cf60030-e315-451a-bd1d-901645e6e392\",\"type\":\"BasicTicker\"},{\"attributes\":{\"fill_alpha\":{\"field\":\"fill_alpha\"},\"fill_color\":{\"field\":\"color\"},\"height\":{\"field\":\"height\",\"units\":\"data\"},\"line_color\":{\"field\":\"line_color\"},\"width\":{\"field\":\"width\",\"units\":\"data\"},\"x\":{\"field\":\"x\"},\"y\":{\"field\":\"y\"}},\"id\":\"3fb23607-e8a6-4a6b-91ca-c8b960ed26bb\",\"type\":\"Rect\"},{\"attributes\":{\"callback\":null,\"column_names\":[\"line_color\",\"line_alpha\",\"label\",\"y\",\"fill_alpha\",\"width\",\"height\",\"color\",\"x\"],\"data\":{\"chart_index\":[\"(5.5, 5.6]\"],\"color\":[\"#5ab738\"],\"fill_alpha\":[0.6],\"height\":[0.0],\"label\":[\"(5.5, 5.6]\"],\"line_alpha\":[1.0],\"line_color\":[\"black\"],\"width\":[0.117647058823529],\"x\":[\"5.55\"],\"y\":[0.0]}},\"id\":\"43c0186f-dc16-4af6-baf8-68870e7509d9\",\"type\":\"ColumnDataSource\"},{\"attributes\":{\"callback\":null,\"column_names\":[\"line_color\",\"line_alpha\",\"label\",\"y\",\"fill_alpha\",\"width\",\"height\",\"color\",\"x\"],\"data\":{\"chart_index\":[\"(4.9, 5.0]\"],\"color\":[\"#5ab738\"],\"fill_alpha\":[0.6],\"height\":[0.0],\"label\":[\"(4.9, 5.0]\"],\"line_alpha\":[1.0],\"line_color\":[\"black\"],\"width\":[0.117647058823529],\"x\":[\"4.95\"],\"y\":[0.0]}},\"id\":\"06816e59-b0db-48fc-8d75-708c84236fa0\",\"type\":\"ColumnDataSource\"},{\"attributes\":{\"fill_alpha\":{\"field\":\"fill_alpha\"},\"fill_color\":{\"field\":\"color\"},\"height\":{\"field\":\"height\",\"units\":\"data\"},\"line_color\":{\"field\":\"line_color\"},\"width\":{\"field\":\"width\",\"units\":\"data\"},\"x\":{\"field\":\"x\"},\"y\":{\"field\":\"y\"}},\"id\":\"0f32b4f7-777b-4312-9dc9-bf9ac221e6d0\",\"type\":\"Rect\"},{\"attributes\":{\"callback\":null,\"column_names\":[\"line_color\",\"line_alpha\",\"label\",\"y\",\"fill_alpha\",\"width\",\"height\",\"color\",\"x\"],\"data\":{\"chart_index\":[\"(6.6, 6.8]\"],\"color\":[\"#5ab738\"],\"fill_alpha\":[0.6],\"height\":[0.0],\"label\":[\"(6.6, 6.8]\"],\"line_alpha\":[1.0],\"line_color\":[\"black\"],\"width\":[0.11764705882352988],\"x\":[\"6.699999999999999\"],\"y\":[0.0]}},\"id\":\"947df260-1481-42ba-9023-0cee9853b883\",\"type\":\"ColumnDataSource\"},{\"attributes\":{\"fill_alpha\":{\"field\":\"fill_alpha\"},\"fill_color\":{\"field\":\"color\"},\"height\":{\"field\":\"height\",\"units\":\"data\"},\"line_color\":{\"field\":\"line_color\"},\"width\":{\"field\":\"width\",\"units\":\"data\"},\"x\":{\"field\":\"x\"},\"y\":{\"field\":\"y\"}},\"id\":\"ec1b81b2-ebe5-40f1-8c98-3024bfb88c18\",\"type\":\"Rect\"},{\"attributes\":{\"callback\":null,\"column_names\":[\"line_color\",\"line_alpha\",\"label\",\"y\",\"fill_alpha\",\"width\",\"height\",\"color\",\"x\"],\"data\":{\"chart_index\":[\"(6.2, 6.3]\"],\"color\":[\"#f22c40\"],\"fill_alpha\":[0.6],\"height\":[0.0],\"label\":[\"(6.2, 6.3]\"],\"line_alpha\":[1.0],\"line_color\":[\"black\"],\"width\":[0.16666666666666696],\"x\":[\"6.25\"],\"y\":[0.0]}},\"id\":\"f7238164-eee2-455c-8eb6-8c62b195207f\",\"type\":\"ColumnDataSource\"},{\"attributes\":{\"data_source\":{\"id\":\"841a5b2a-a9a7-4d31-a10d-b09fea55eb7a\",\"type\":\"ColumnDataSource\"},\"glyph\":{\"id\":\"d685642f-c1aa-4a1d-9dc7-c5ab0e9968a4\",\"type\":\"Rect\"},\"hover_glyph\":null,\"nonselection_glyph\":null,\"selection_glyph\":null},\"id\":\"38930ed9-2cdc-4d2d-abdd-1167cd6c312d\",\"type\":\"GlyphRenderer\"},{\"attributes\":{\"data_source\":{\"id\":\"f4de8152-0eeb-45b2-9444-e20d53e6d0a8\",\"type\":\"ColumnDataSource\"},\"glyph\":{\"id\":\"8c6a1265-48ba-4cc8-8eb8-2bea0a4bef5a\",\"type\":\"Rect\"},\"hover_glyph\":null,\"nonselection_glyph\":null,\"selection_glyph\":null},\"id\":\"d4b92aab-8807-4cd7-82cd-8194c0c58ba5\",\"type\":\"GlyphRenderer\"},{\"attributes\":{},\"id\":\"69d8bb58-8e09-4177-8713-07ca19e4d53a\",\"type\":\"BasicTicker\"},{\"attributes\":{\"fill_alpha\":{\"field\":\"fill_alpha\"},\"fill_color\":{\"field\":\"color\"},\"height\":{\"field\":\"height\",\"units\":\"data\"},\"line_color\":{\"field\":\"line_color\"},\"width\":{\"field\":\"width\",\"units\":\"data\"},\"x\":{\"field\":\"x\"},\"y\":{\"field\":\"y\"}},\"id\":\"c35b7503-cabc-4784-a0cd-791ce94c0b9c\",\"type\":\"Rect\"},{\"attributes\":{\"data_source\":{\"id\":\"e35c1805-86bf-4d0b-8919-e2f45fa05a10\",\"type\":\"ColumnDataSource\"},\"glyph\":{\"id\":\"e2860828-fe1a-4a89-aac4-eeee2e680f8a\",\"type\":\"Rect\"},\"hover_glyph\":null,\"nonselection_glyph\":null,\"selection_glyph\":null},\"id\":\"5b176971-62b5-4a62-97c0-a4e5f5169084\",\"type\":\"GlyphRenderer\"},{\"attributes\":{\"callback\":null,\"column_names\":[\"line_color\",\"line_alpha\",\"label\",\"y\",\"fill_alpha\",\"width\",\"height\",\"color\",\"x\"],\"data\":{\"chart_index\":[\"(6.1, 6.2]\"],\"color\":[\"#5ab738\"],\"fill_alpha\":[0.6],\"height\":[0.0],\"label\":[\"(6.1, 6.2]\"],\"line_alpha\":[1.0],\"line_color\":[\"black\"],\"width\":[0.117647058823529],\"x\":[\"6.15\"],\"y\":[0.0]}},\"id\":\"7f79fea5-c6fe-483c-9e4f-5449e32606e9\",\"type\":\"ColumnDataSource\"},{\"attributes\":{\"callback\":null,\"end\":5142.9},\"id\":\"095c8501-221e-4bcf-89fe-e70556990038\",\"type\":\"Range1d\"},{\"attributes\":{\"data_source\":{\"id\":\"37733e99-6a54-4b37-bb6f-10a77ca527d9\",\"type\":\"ColumnDataSource\"},\"glyph\":{\"id\":\"f9d4f3d9-64c7-4978-9141-637441b8a4ba\",\"type\":\"Rect\"},\"hover_glyph\":null,\"nonselection_glyph\":null,\"selection_glyph\":null},\"id\":\"1ba8a97c-6f33-4a13-9ce8-7d062704ec4f\",\"type\":\"GlyphRenderer\"},{\"attributes\":{\"callback\":null,\"column_names\":[\"line_color\",\"line_alpha\",\"label\",\"y\",\"fill_alpha\",\"width\",\"height\",\"color\",\"x\"],\"data\":{\"chart_index\":[\"(6.0, 6.2]\"],\"color\":[\"#f22c40\"],\"fill_alpha\":[0.6],\"height\":[638.0],\"label\":[\"(6.0, 6.2]\"],\"line_alpha\":[1.0],\"line_color\":[\"black\"],\"width\":[0.16666666666666607],\"x\":[\"6.1\"],\"y\":[319.0]}},\"id\":\"d029b9b1-4d75-4937-b101-be7be2597da0\",\"type\":\"ColumnDataSource\"},{\"attributes\":{\"callback\":null,\"column_names\":[\"line_color\",\"line_alpha\",\"label\",\"y\",\"fill_alpha\",\"width\",\"height\",\"color\",\"x\"],\"data\":{\"chart_index\":[\"[3.0, 3.2]\"],\"color\":[\"#f22c40\"],\"fill_alpha\":[0.6],\"height\":[10.0],\"label\":[\"[3.0, 3.2]\"],\"line_alpha\":[1.0],\"line_color\":[\"black\"],\"width\":[0.16666666666666652],\"x\":[\"3.1\"],\"y\":[5.0]}},\"id\":\"927500ea-30d6-4fe2-931c-b45b19f67edb\",\"type\":\"ColumnDataSource\"},{\"attributes\":{\"callback\":null,\"column_names\":[\"line_color\",\"line_alpha\",\"label\",\"y\",\"fill_alpha\",\"width\",\"height\",\"color\",\"x\"],\"data\":{\"chart_index\":[\"(8.3, 8.4]\"],\"color\":[\"#5ab738\"],\"fill_alpha\":[0.6],\"height\":[0.0],\"label\":[\"(8.3, 8.4]\"],\"line_alpha\":[1.0],\"line_color\":[\"black\"],\"width\":[0.11764705882353077],\"x\":[\"8.350000000000001\"],\"y\":[0.0]}},\"id\":\"b1b61d2a-50ba-4411-a743-3d32fc0d5e8b\",\"type\":\"ColumnDataSource\"},{\"attributes\":{\"data_source\":{\"id\":\"270be873-64be-4dcc-86c6-6ba0137f6ebd\",\"type\":\"ColumnDataSource\"},\"glyph\":{\"id\":\"0c92670b-acac-429d-bf4b-f63830589455\",\"type\":\"Rect\"},\"hover_glyph\":null,\"nonselection_glyph\":null,\"selection_glyph\":null},\"id\":\"ca067a01-5009-43d5-bdc0-da8aae56dac0\",\"type\":\"GlyphRenderer\"},{\"attributes\":{\"fill_alpha\":{\"field\":\"fill_alpha\"},\"fill_color\":{\"field\":\"color\"},\"height\":{\"field\":\"height\",\"units\":\"data\"},\"line_color\":{\"field\":\"line_color\"},\"width\":{\"field\":\"width\",\"units\":\"data\"},\"x\":{\"field\":\"x\"},\"y\":{\"field\":\"y\"}},\"id\":\"0ce26a3a-394a-495d-8b31-917070ea6562\",\"type\":\"Rect\"},{\"attributes\":{\"callback\":null,\"column_names\":[\"line_color\",\"line_alpha\",\"label\",\"y\",\"fill_alpha\",\"width\",\"height\",\"color\",\"x\"],\"data\":{\"chart_index\":[\"(5.2, 5.4]\"],\"color\":[\"#5ab738\"],\"fill_alpha\":[0.6],\"height\":[0.0],\"label\":[\"(5.2, 5.4]\"],\"line_alpha\":[1.0],\"line_color\":[\"black\"],\"width\":[0.11764705882352988],\"x\":[\"5.300000000000001\"],\"y\":[0.0]}},\"id\":\"8c1d9dfe-08f5-4080-a5a4-4e4a6cc110fd\",\"type\":\"ColumnDataSource\"},{\"attributes\":{\"callback\":null,\"column_names\":[\"line_color\",\"line_alpha\",\"label\",\"y\",\"fill_alpha\",\"width\",\"height\",\"color\",\"x\"],\"data\":{\"chart_index\":[\"(3.9, 4.1]\"],\"color\":[\"#5ab738\"],\"fill_alpha\":[0.6],\"height\":[163.0],\"label\":[\"(3.9, 4.1]\"],\"line_alpha\":[1.0],\"line_color\":[\"black\"],\"width\":[0.117647058823529],\"x\":[\"4.0\"],\"y\":[81.5]}},\"id\":\"f54ce759-2fa0-4c98-9f6a-48adf628a4a6\",\"type\":\"ColumnDataSource\"},{\"attributes\":{\"data_source\":{\"id\":\"53144314-97e0-4563-a40b-5669d9993506\",\"type\":\"ColumnDataSource\"},\"glyph\":{\"id\":\"6672507e-60df-42e9-bafe-7da071b51cfb\",\"type\":\"Rect\"},\"hover_glyph\":null,\"nonselection_glyph\":null,\"selection_glyph\":null},\"id\":\"b711df21-a9e7-48c1-8d54-e58cf8305d13\",\"type\":\"GlyphRenderer\"},{\"attributes\":{\"callback\":null,\"column_names\":[\"line_color\",\"line_alpha\",\"label\",\"y\",\"fill_alpha\",\"width\",\"height\",\"color\",\"x\"],\"data\":{\"chart_index\":[\"(6.3, 6.5]\"],\"color\":[\"#f22c40\"],\"fill_alpha\":[0.6],\"height\":[0.0],\"label\":[\"(6.3, 6.5]\"],\"line_alpha\":[1.0],\"line_color\":[\"black\"],\"width\":[0.16666666666666696],\"x\":[\"6.4\"],\"y\":[0.0]}},\"id\":\"d3b46917-f6cd-41b9-8b07-d188963c1ff8\",\"type\":\"ColumnDataSource\"},{\"attributes\":{\"data_source\":{\"id\":\"7e69d9f5-78c7-4f5a-bdae-54a96ad51834\",\"type\":\"ColumnDataSource\"},\"glyph\":{\"id\":\"d5f10b1b-06c1-42fa-bdac-0722cdf4f5ba\",\"type\":\"Rect\"},\"hover_glyph\":null,\"nonselection_glyph\":null,\"selection_glyph\":null},\"id\":\"88939d03-e625-45c6-ad18-34f233f51b7f\",\"type\":\"GlyphRenderer\"},{\"attributes\":{\"fill_alpha\":{\"field\":\"fill_alpha\"},\"fill_color\":{\"field\":\"color\"},\"height\":{\"field\":\"height\",\"units\":\"data\"},\"line_color\":{\"field\":\"line_color\"},\"width\":{\"field\":\"width\",\"units\":\"data\"},\"x\":{\"field\":\"x\"},\"y\":{\"field\":\"y\"}},\"id\":\"14db0996-5403-4561-a65e-93fce9258109\",\"type\":\"Rect\"},{\"attributes\":{\"callback\":null,\"column_names\":[\"line_color\",\"line_alpha\",\"label\",\"y\",\"fill_alpha\",\"width\",\"height\",\"color\",\"x\"],\"data\":{\"chart_index\":[\"(4.0, 4.2]\"],\"color\":[\"#f22c40\"],\"fill_alpha\":[0.6],\"height\":[53.0],\"label\":[\"(4.0, 4.2]\"],\"line_alpha\":[1.0],\"line_color\":[\"black\"],\"width\":[0.16666666666666607],\"x\":[\"4.1\"],\"y\":[26.5]}},\"id\":\"109bf2c1-f26d-45d2-8dc3-b88b11c3fb32\",\"type\":\"ColumnDataSource\"},{\"attributes\":{\"callback\":null,\"column_names\":[\"line_color\",\"line_alpha\",\"label\",\"y\",\"fill_alpha\",\"width\",\"height\",\"color\",\"x\"],\"data\":{\"chart_index\":[\"(6.5, 6.6]\"],\"color\":[\"#5ab738\"],\"fill_alpha\":[0.6],\"height\":[0.0],\"label\":[\"(6.5, 6.6]\"],\"line_alpha\":[1.0],\"line_color\":[\"black\"],\"width\":[0.117647058823529],\"x\":[\"6.55\"],\"y\":[0.0]}},\"id\":\"dd67e006-ffdc-4ce6-b09e-5c1fe1fab4b7\",\"type\":\"ColumnDataSource\"},{\"attributes\":{\"callback\":null,\"column_names\":[\"line_color\",\"line_alpha\",\"label\",\"y\",\"fill_alpha\",\"width\",\"height\",\"color\",\"x\"],\"data\":{\"chart_index\":[\"(4.8, 4.9]\"],\"color\":[\"#5ab738\"],\"fill_alpha\":[0.6],\"height\":[0.0],\"label\":[\"(4.8, 4.9]\"],\"line_alpha\":[1.0],\"line_color\":[\"black\"],\"width\":[0.11764705882352988],\"x\":[\"4.85\"],\"y\":[0.0]}},\"id\":\"e9a2eeb7-cd6b-48ad-90c9-f253acade342\",\"type\":\"ColumnDataSource\"},{\"attributes\":{\"data_source\":{\"id\":\"f54ce759-2fa0-4c98-9f6a-48adf628a4a6\",\"type\":\"ColumnDataSource\"},\"glyph\":{\"id\":\"aef94523-42b6-4a4b-8cfd-40eaebb3780b\",\"type\":\"Rect\"},\"hover_glyph\":null,\"nonselection_glyph\":null,\"selection_glyph\":null},\"id\":\"bf74ded3-1fdf-417e-89e0-f4e02a079255\",\"type\":\"GlyphRenderer\"},{\"attributes\":{\"plot\":{\"id\":\"e99b6721-e2bb-4d5e-9fd3-3318cf37b376\",\"subtype\":\"Chart\",\"type\":\"Plot\"}},\"id\":\"deaed9cb-b9d4-4967-9b1f-d28d54a29503\",\"type\":\"PanTool\"},{\"attributes\":{\"callback\":null,\"column_names\":[\"line_color\",\"line_alpha\",\"label\",\"y\",\"fill_alpha\",\"width\",\"height\",\"color\",\"x\"],\"data\":{\"chart_index\":[\"(7.9, 8.1]\"],\"color\":[\"#5ab738\"],\"fill_alpha\":[0.6],\"height\":[175.0],\"label\":[\"(7.9, 8.1]\"],\"line_alpha\":[1.0],\"line_color\":[\"black\"],\"width\":[0.117647058823529],\"x\":[\"8.0\"],\"y\":[87.5]}},\"id\":\"f9877228-e25e-4396-b4b3-119cedceb2e5\",\"type\":\"ColumnDataSource\"},{\"attributes\":{\"fill_alpha\":{\"field\":\"fill_alpha\"},\"fill_color\":{\"field\":\"color\"},\"height\":{\"field\":\"height\",\"units\":\"data\"},\"line_color\":{\"field\":\"line_color\"},\"width\":{\"field\":\"width\",\"units\":\"data\"},\"x\":{\"field\":\"x\"},\"y\":{\"field\":\"y\"}},\"id\":\"2f9532bd-26db-4c3c-a001-675709613559\",\"type\":\"Rect\"},{\"attributes\":{\"data_source\":{\"id\":\"22a06901-bd55-479b-9ca1-34dcb0221bd8\",\"type\":\"ColumnDataSource\"},\"glyph\":{\"id\":\"a7ec8647-9827-4239-bbb5-93cdcfb51bac\",\"type\":\"Rect\"},\"hover_glyph\":null,\"nonselection_glyph\":null,\"selection_glyph\":null},\"id\":\"9174ca0c-e8b2-4890-ad37-8b5a800c755e\",\"type\":\"GlyphRenderer\"},{\"attributes\":{\"callback\":null,\"column_names\":[\"line_color\",\"line_alpha\",\"label\",\"y\",\"fill_alpha\",\"width\",\"height\",\"color\",\"x\"],\"data\":{\"chart_index\":[\"(5.4, 5.5]\"],\"color\":[\"#5ab738\"],\"fill_alpha\":[0.6],\"height\":[0.0],\"label\":[\"(5.4, 5.5]\"],\"line_alpha\":[1.0],\"line_color\":[\"black\"],\"width\":[0.117647058823529],\"x\":[\"5.45\"],\"y\":[0.0]}},\"id\":\"7b7f80c0-e35c-41ef-aee8-2012535569fa\",\"type\":\"ColumnDataSource\"},{\"attributes\":{\"callback\":null,\"column_names\":[\"line_color\",\"line_alpha\",\"label\",\"y\",\"fill_alpha\",\"width\",\"height\",\"color\",\"x\"],\"data\":{\"chart_index\":[\"(8.6, 8.8]\"],\"color\":[\"#5ab738\"],\"fill_alpha\":[0.6],\"height\":[0.0],\"label\":[\"(8.6, 8.8]\"],\"line_alpha\":[1.0],\"line_color\":[\"black\"],\"width\":[0.11764705882353077],\"x\":[\"8.7\"],\"y\":[0.0]}},\"id\":\"bcad6ee6-8df9-4353-b94b-491ccc9aea2b\",\"type\":\"ColumnDataSource\"},{\"attributes\":{\"callback\":null,\"column_names\":[\"line_color\",\"line_alpha\",\"label\",\"y\",\"fill_alpha\",\"width\",\"height\",\"color\",\"x\"],\"data\":{\"chart_index\":[\"(4.4, 4.5]\"],\"color\":[\"#5ab738\"],\"fill_alpha\":[0.6],\"height\":[0.0],\"label\":[\"(4.4, 4.5]\"],\"line_alpha\":[1.0],\"line_color\":[\"black\"],\"width\":[0.117647058823529],\"x\":[\"4.45\"],\"y\":[0.0]}},\"id\":\"ffb748b1-2ca9-4a6a-ac5b-fd124946486a\",\"type\":\"ColumnDataSource\"},{\"attributes\":{\"fill_alpha\":{\"field\":\"fill_alpha\"},\"fill_color\":{\"field\":\"color\"},\"height\":{\"field\":\"height\",\"units\":\"data\"},\"line_color\":{\"field\":\"line_color\"},\"width\":{\"field\":\"width\",\"units\":\"data\"},\"x\":{\"field\":\"x\"},\"y\":{\"field\":\"y\"}},\"id\":\"a427817a-2e6f-49ed-a92b-c7a7668fd1dc\",\"type\":\"Rect\"},{\"attributes\":{\"data_source\":{\"id\":\"7f79fea5-c6fe-483c-9e4f-5449e32606e9\",\"type\":\"ColumnDataSource\"},\"glyph\":{\"id\":\"c63901aa-a5a8-4358-af58-e3d2ff6bf7b0\",\"type\":\"Rect\"},\"hover_glyph\":null,\"nonselection_glyph\":null,\"selection_glyph\":null},\"id\":\"144aa26b-df9b-4522-9a7d-0acca8bbbfd8\",\"type\":\"GlyphRenderer\"},{\"attributes\":{\"callback\":null,\"column_names\":[\"line_color\",\"line_alpha\",\"label\",\"y\",\"fill_alpha\",\"width\",\"height\",\"color\",\"x\"],\"data\":{\"chart_index\":[\"(5.5, 5.7]\"],\"color\":[\"#f22c40\"],\"fill_alpha\":[0.6],\"height\":[0.0],\"label\":[\"(5.5, 5.7]\"],\"line_alpha\":[1.0],\"line_color\":[\"black\"],\"width\":[0.16666666666666607],\"x\":[\"5.6\"],\"y\":[0.0]}},\"id\":\"46d51ddc-2004-4830-8b74-6632148b0c47\",\"type\":\"ColumnDataSource\"},{\"attributes\":{\"fill_alpha\":{\"field\":\"fill_alpha\"},\"fill_color\":{\"field\":\"color\"},\"height\":{\"field\":\"height\",\"units\":\"data\"},\"line_color\":{\"field\":\"line_color\"},\"width\":{\"field\":\"width\",\"units\":\"data\"},\"x\":{\"field\":\"x\"},\"y\":{\"field\":\"y\"}},\"id\":\"98cda3ea-e6c7-4937-9a64-38536b8e9ea6\",\"type\":\"Rect\"},{\"attributes\":{},\"id\":\"0b4d5aec-eabb-4f74-abf0-ca381a059f49\",\"type\":\"BasicTickFormatter\"},{\"attributes\":{\"fill_alpha\":{\"field\":\"fill_alpha\"},\"fill_color\":{\"field\":\"color\"},\"height\":{\"field\":\"height\",\"units\":\"data\"},\"line_color\":{\"field\":\"line_color\"},\"width\":{\"field\":\"width\",\"units\":\"data\"},\"x\":{\"field\":\"x\"},\"y\":{\"field\":\"y\"}},\"id\":\"57c78fcf-cb0c-49d6-80a0-f1a717d0f15f\",\"type\":\"Rect\"},{\"attributes\":{\"fill_alpha\":{\"field\":\"fill_alpha\"},\"fill_color\":{\"field\":\"color\"},\"height\":{\"field\":\"height\",\"units\":\"data\"},\"line_color\":{\"field\":\"line_color\"},\"width\":{\"field\":\"width\",\"units\":\"data\"},\"x\":{\"field\":\"x\"},\"y\":{\"field\":\"y\"}},\"id\":\"aef94523-42b6-4a4b-8cfd-40eaebb3780b\",\"type\":\"Rect\"},{\"attributes\":{\"data_source\":{\"id\":\"ffb748b1-2ca9-4a6a-ac5b-fd124946486a\",\"type\":\"ColumnDataSource\"},\"glyph\":{\"id\":\"0e83a060-a295-4a0e-9ba7-5349988682df\",\"type\":\"Rect\"},\"hover_glyph\":null,\"nonselection_glyph\":null,\"selection_glyph\":null},\"id\":\"c8236a50-df8d-4f22-a1ac-59a07a683e19\",\"type\":\"GlyphRenderer\"},{\"attributes\":{\"data_source\":{\"id\":\"ad02cf84-98c7-4852-9c66-eadbd880ebf2\",\"type\":\"ColumnDataSource\"},\"glyph\":{\"id\":\"09939f7f-a1e9-4810-a4be-2f0e0b1680ae\",\"type\":\"Rect\"},\"hover_glyph\":null,\"nonselection_glyph\":null,\"selection_glyph\":null},\"id\":\"b2536c94-6a80-4bc1-83b4-8e45854dac71\",\"type\":\"GlyphRenderer\"},{\"attributes\":{\"callback\":null,\"column_names\":[\"line_color\",\"line_alpha\",\"label\",\"y\",\"fill_alpha\",\"width\",\"height\",\"color\",\"x\"],\"data\":{\"chart_index\":[\"(7.7, 7.8]\"],\"color\":[\"#f22c40\"],\"fill_alpha\":[0.6],\"height\":[0.0],\"label\":[\"(7.7, 7.8]\"],\"line_alpha\":[1.0],\"line_color\":[\"black\"],\"width\":[0.16666666666666696],\"x\":[\"7.75\"],\"y\":[0.0]}},\"id\":\"10831a3d-43d7-4d9b-a0f1-e1dabd6bdda0\",\"type\":\"ColumnDataSource\"},{\"attributes\":{\"data_source\":{\"id\":\"a9405b8d-96fe-4cff-aa3e-adae8908a1aa\",\"type\":\"ColumnDataSource\"},\"glyph\":{\"id\":\"c120b4bc-f4e0-46f9-ae7e-fd4cddb5101f\",\"type\":\"Rect\"},\"hover_glyph\":null,\"nonselection_glyph\":null,\"selection_glyph\":null},\"id\":\"c0a26e12-91c5-4f3b-a933-06d9b3b57224\",\"type\":\"GlyphRenderer\"},{\"attributes\":{\"callback\":null,\"column_names\":[\"line_color\",\"line_alpha\",\"label\",\"y\",\"fill_alpha\",\"width\",\"height\",\"color\",\"x\"],\"data\":{\"chart_index\":[\"(3.8, 3.9]\"],\"color\":[\"#5ab738\"],\"fill_alpha\":[0.6],\"height\":[0.0],\"label\":[\"(3.8, 3.9]\"],\"line_alpha\":[1.0],\"line_color\":[\"black\"],\"width\":[0.11764705882352988],\"x\":[\"3.8499999999999996\"],\"y\":[0.0]}},\"id\":\"3a484c88-9032-4d56-b515-e231b6e2312f\",\"type\":\"ColumnDataSource\"},{\"attributes\":{\"fill_alpha\":{\"field\":\"fill_alpha\"},\"fill_color\":{\"field\":\"color\"},\"height\":{\"field\":\"height\",\"units\":\"data\"},\"line_color\":{\"field\":\"line_color\"},\"width\":{\"field\":\"width\",\"units\":\"data\"},\"x\":{\"field\":\"x\"},\"y\":{\"field\":\"y\"}},\"id\":\"d5c67ede-16e7-4d11-a859-a68baec8f741\",\"type\":\"Rect\"},{\"attributes\":{\"callback\":null,\"column_names\":[\"line_color\",\"line_alpha\",\"label\",\"y\",\"fill_alpha\",\"width\",\"height\",\"color\",\"x\"],\"data\":{\"chart_index\":[\"(5.8, 6.0]\"],\"color\":[\"#f22c40\"],\"fill_alpha\":[0.6],\"height\":[0.0],\"label\":[\"(5.8, 6.0]\"],\"line_alpha\":[1.0],\"line_color\":[\"black\"],\"width\":[0.16666666666666696],\"x\":[\"5.9\"],\"y\":[0.0]}},\"id\":\"df083243-5d70-436a-8632-1bc37492b108\",\"type\":\"ColumnDataSource\"},{\"attributes\":{\"fill_alpha\":{\"field\":\"fill_alpha\"},\"fill_color\":{\"field\":\"color\"},\"height\":{\"field\":\"height\",\"units\":\"data\"},\"line_color\":{\"field\":\"line_color\"},\"width\":{\"field\":\"width\",\"units\":\"data\"},\"x\":{\"field\":\"x\"},\"y\":{\"field\":\"y\"}},\"id\":\"8dac7b4b-086d-48bf-960a-4225b6f5ddc8\",\"type\":\"Rect\"},{\"attributes\":{\"fill_alpha\":{\"field\":\"fill_alpha\"},\"fill_color\":{\"field\":\"color\"},\"height\":{\"field\":\"height\",\"units\":\"data\"},\"line_color\":{\"field\":\"line_color\"},\"width\":{\"field\":\"width\",\"units\":\"data\"},\"x\":{\"field\":\"x\"},\"y\":{\"field\":\"y\"}},\"id\":\"e4c3734f-fd66-4f80-9237-0e13496b7d52\",\"type\":\"Rect\"},{\"attributes\":{\"callback\":null,\"column_names\":[\"line_color\",\"line_alpha\",\"label\",\"y\",\"fill_alpha\",\"width\",\"height\",\"color\",\"x\"],\"data\":{\"chart_index\":[\"(6.8, 6.9]\"],\"color\":[\"#5ab738\"],\"fill_alpha\":[0.6],\"height\":[0.0],\"label\":[\"(6.8, 6.9]\"],\"line_alpha\":[1.0],\"line_color\":[\"black\"],\"width\":[0.11764705882352988],\"x\":[\"6.85\"],\"y\":[0.0]}},\"id\":\"0200b19d-80bd-415a-81aa-8f2fe850ab4c\",\"type\":\"ColumnDataSource\"},{\"attributes\":{\"callback\":null,\"column_names\":[\"line_color\",\"line_alpha\",\"label\",\"y\",\"fill_alpha\",\"width\",\"height\",\"color\",\"x\"],\"data\":{\"chart_index\":[\"(4.3, 4.5]\"],\"color\":[\"#f22c40\"],\"fill_alpha\":[0.6],\"height\":[0.0],\"label\":[\"(4.3, 4.5]\"],\"line_alpha\":[1.0],\"line_color\":[\"black\"],\"width\":[0.16666666666666696],\"x\":[\"4.4\"],\"y\":[0.0]}},\"id\":\"854cbd70-1762-4ea4-ac36-5bb80a1969ff\",\"type\":\"ColumnDataSource\"},{\"attributes\":{\"fill_alpha\":{\"field\":\"fill_alpha\"},\"fill_color\":{\"field\":\"color\"},\"height\":{\"field\":\"height\",\"units\":\"data\"},\"line_color\":{\"field\":\"line_color\"},\"width\":{\"field\":\"width\",\"units\":\"data\"},\"x\":{\"field\":\"x\"},\"y\":{\"field\":\"y\"}},\"id\":\"cda4fef1-5683-471e-b959-7082682b5b22\",\"type\":\"Rect\"},{\"attributes\":{\"data_source\":{\"id\":\"66e17979-fc40-4df4-8afc-1a2b1951f691\",\"type\":\"ColumnDataSource\"},\"glyph\":{\"id\":\"acd5b00b-78f4-4145-a45f-f0d95277b459\",\"type\":\"Rect\"},\"hover_glyph\":null,\"nonselection_glyph\":null,\"selection_glyph\":null},\"id\":\"64a2f529-c28c-4720-a88f-2731be4fc8bb\",\"type\":\"GlyphRenderer\"},{\"attributes\":{\"callback\":null,\"column_names\":[\"line_color\",\"line_alpha\",\"label\",\"y\",\"fill_alpha\",\"width\",\"height\",\"color\",\"x\"],\"data\":{\"chart_index\":[\"(7.0, 7.1]\"],\"color\":[\"#5ab738\"],\"fill_alpha\":[0.6],\"height\":[880.0],\"label\":[\"(7.0, 7.1]\"],\"line_alpha\":[1.0],\"line_color\":[\"black\"],\"width\":[0.117647058823529],\"x\":[\"7.05\"],\"y\":[440.0]}},\"id\":\"49a6fe01-90be-42ab-b312-09d5afb3afef\",\"type\":\"ColumnDataSource\"},{\"attributes\":{\"callback\":null,\"column_names\":[\"line_color\",\"line_alpha\",\"label\",\"y\",\"fill_alpha\",\"width\",\"height\",\"color\",\"x\"],\"data\":{\"chart_index\":[\"(5.3, 5.5]\"],\"color\":[\"#f22c40\"],\"fill_alpha\":[0.6],\"height\":[0.0],\"label\":[\"(5.3, 5.5]\"],\"line_alpha\":[1.0],\"line_color\":[\"black\"],\"width\":[0.16666666666666696],\"x\":[\"5.4\"],\"y\":[0.0]}},\"id\":\"a8e957b8-e26d-45c3-9446-eaaeda801eac\",\"type\":\"ColumnDataSource\"},{\"attributes\":{\"data_source\":{\"id\":\"3a484c88-9032-4d56-b515-e231b6e2312f\",\"type\":\"ColumnDataSource\"},\"glyph\":{\"id\":\"3d3cf378-8f1c-4e70-b4cb-87b3b91802d7\",\"type\":\"Rect\"},\"hover_glyph\":null,\"nonselection_glyph\":null,\"selection_glyph\":null},\"id\":\"d0faff11-4e72-46d5-af50-62c27e385cc8\",\"type\":\"GlyphRenderer\"},{\"attributes\":{\"fill_alpha\":{\"field\":\"fill_alpha\"},\"fill_color\":{\"field\":\"color\"},\"height\":{\"field\":\"height\",\"units\":\"data\"},\"line_color\":{\"field\":\"line_color\"},\"width\":{\"field\":\"width\",\"units\":\"data\"},\"x\":{\"field\":\"x\"},\"y\":{\"field\":\"y\"}},\"id\":\"301fd654-80a8-452d-9cb6-4966421d7d99\",\"type\":\"Rect\"},{\"attributes\":{\"data_source\":{\"id\":\"109f4608-e093-4fee-bf0f-8748834032cc\",\"type\":\"ColumnDataSource\"},\"glyph\":{\"id\":\"6fab5a55-272b-4b42-ae6b-c5326fffab2e\",\"type\":\"Rect\"},\"hover_glyph\":null,\"nonselection_glyph\":null,\"selection_glyph\":null},\"id\":\"56b7a97e-1448-4033-b01d-77b22211d161\",\"type\":\"GlyphRenderer\"},{\"attributes\":{\"data_source\":{\"id\":\"633833b3-79c2-4371-baa4-06e2045f8194\",\"type\":\"ColumnDataSource\"},\"glyph\":{\"id\":\"b9f6d1ba-61a9-4e7b-927c-1b82f760051b\",\"type\":\"Rect\"},\"hover_glyph\":null,\"nonselection_glyph\":null,\"selection_glyph\":null},\"id\":\"a98e90e4-ab8e-4c30-af4a-680961d4b059\",\"type\":\"GlyphRenderer\"},{\"attributes\":{\"fill_alpha\":{\"field\":\"fill_alpha\"},\"fill_color\":{\"field\":\"color\"},\"height\":{\"field\":\"height\",\"units\":\"data\"},\"line_color\":{\"field\":\"line_color\"},\"width\":{\"field\":\"width\",\"units\":\"data\"},\"x\":{\"field\":\"x\"},\"y\":{\"field\":\"y\"}},\"id\":\"b97a2548-9bf1-426e-b889-025201d6a597\",\"type\":\"Rect\"},{\"attributes\":{\"data_source\":{\"id\":\"f112ba65-e7c1-42b1-9917-164bcbc28476\",\"type\":\"ColumnDataSource\"},\"glyph\":{\"id\":\"a427817a-2e6f-49ed-a92b-c7a7668fd1dc\",\"type\":\"Rect\"},\"hover_glyph\":null,\"nonselection_glyph\":null,\"selection_glyph\":null},\"id\":\"1cc453f8-57f1-484d-af08-745b06d71c26\",\"type\":\"GlyphRenderer\"},{\"attributes\":{\"data_source\":{\"id\":\"65b09234-4407-4947-be81-213197ae78c6\",\"type\":\"ColumnDataSource\"},\"glyph\":{\"id\":\"b5d40431-c88e-4fef-97ad-7d8599c2d048\",\"type\":\"Rect\"},\"hover_glyph\":null,\"nonselection_glyph\":null,\"selection_glyph\":null},\"id\":\"e5c9870c-3617-44d6-8680-21b1539381b9\",\"type\":\"GlyphRenderer\"},{\"attributes\":{\"fill_alpha\":{\"field\":\"fill_alpha\"},\"fill_color\":{\"field\":\"color\"},\"height\":{\"field\":\"height\",\"units\":\"data\"},\"line_color\":{\"field\":\"line_color\"},\"width\":{\"field\":\"width\",\"units\":\"data\"},\"x\":{\"field\":\"x\"},\"y\":{\"field\":\"y\"}},\"id\":\"502d75ff-28f6-4035-aa18-548ed4aee3cc\",\"type\":\"Rect\"},{\"attributes\":{\"fill_alpha\":{\"field\":\"fill_alpha\"},\"fill_color\":{\"field\":\"color\"},\"height\":{\"field\":\"height\",\"units\":\"data\"},\"line_color\":{\"field\":\"line_color\"},\"width\":{\"field\":\"width\",\"units\":\"data\"},\"x\":{\"field\":\"x\"},\"y\":{\"field\":\"y\"}},\"id\":\"3d3cf378-8f1c-4e70-b4cb-87b3b91802d7\",\"type\":\"Rect\"},{\"attributes\":{\"data_source\":{\"id\":\"b1b61d2a-50ba-4411-a743-3d32fc0d5e8b\",\"type\":\"ColumnDataSource\"},\"glyph\":{\"id\":\"662e1683-e4ef-4b78-bc89-0a4c05be59f5\",\"type\":\"Rect\"},\"hover_glyph\":null,\"nonselection_glyph\":null,\"selection_glyph\":null},\"id\":\"b96b47fd-5dc2-4697-9889-72a7aa1ac0d2\",\"type\":\"GlyphRenderer\"},{\"attributes\":{},\"id\":\"37ff9831-9c83-46e9-854c-cbe21acbef03\",\"type\":\"BasicTickFormatter\"},{\"attributes\":{\"callback\":null,\"end\":9.308823529411764,\"start\":2.6911764705882355},\"id\":\"f213fd90-3c7e-4024-9070-f9cc6dca8f12\",\"type\":\"Range1d\"},{\"attributes\":{\"bottom_units\":\"screen\",\"fill_alpha\":{\"value\":0.5},\"fill_color\":{\"value\":\"lightgrey\"},\"left_units\":\"screen\",\"level\":\"overlay\",\"line_alpha\":{\"value\":1.0},\"line_color\":{\"value\":\"black\"},\"line_dash\":[4,4],\"line_width\":{\"value\":2},\"plot\":null,\"render_mode\":\"css\",\"right_units\":\"screen\",\"top_units\":\"screen\"},\"id\":\"cbe6f612-b526-445e-82f7-47ad0b4f5bc0\",\"type\":\"BoxAnnotation\"},{\"attributes\":{\"fill_alpha\":{\"field\":\"fill_alpha\"},\"fill_color\":{\"field\":\"color\"},\"height\":{\"field\":\"height\",\"units\":\"data\"},\"line_color\":{\"field\":\"line_color\"},\"width\":{\"field\":\"width\",\"units\":\"data\"},\"x\":{\"field\":\"x\"},\"y\":{\"field\":\"y\"}},\"id\":\"5d031163-20bd-46ef-a7a5-f53d0107cd22\",\"type\":\"Rect\"},{\"attributes\":{\"fill_alpha\":{\"field\":\"fill_alpha\"},\"fill_color\":{\"field\":\"color\"},\"height\":{\"field\":\"height\",\"units\":\"data\"},\"line_color\":{\"field\":\"line_color\"},\"width\":{\"field\":\"width\",\"units\":\"data\"},\"x\":{\"field\":\"x\"},\"y\":{\"field\":\"y\"}},\"id\":\"8c6a1265-48ba-4cc8-8eb8-2bea0a4bef5a\",\"type\":\"Rect\"},{\"attributes\":{\"fill_alpha\":{\"field\":\"fill_alpha\"},\"fill_color\":{\"field\":\"color\"},\"height\":{\"field\":\"height\",\"units\":\"data\"},\"line_color\":{\"field\":\"line_color\"},\"width\":{\"field\":\"width\",\"units\":\"data\"},\"x\":{\"field\":\"x\"},\"y\":{\"field\":\"y\"}},\"id\":\"b5d40431-c88e-4fef-97ad-7d8599c2d048\",\"type\":\"Rect\"},{\"attributes\":{\"data_source\":{\"id\":\"1d8d4f80-131a-4206-9b5f-d2f4b53d3e55\",\"type\":\"ColumnDataSource\"},\"glyph\":{\"id\":\"2f9532bd-26db-4c3c-a001-675709613559\",\"type\":\"Rect\"},\"hover_glyph\":null,\"nonselection_glyph\":null,\"selection_glyph\":null},\"id\":\"dd927230-6a79-44f6-a92c-edca0bc409f3\",\"type\":\"GlyphRenderer\"},{\"attributes\":{\"fill_alpha\":{\"field\":\"fill_alpha\"},\"fill_color\":{\"field\":\"color\"},\"height\":{\"field\":\"height\",\"units\":\"data\"},\"line_color\":{\"field\":\"line_color\"},\"width\":{\"field\":\"width\",\"units\":\"data\"},\"x\":{\"field\":\"x\"},\"y\":{\"field\":\"y\"}},\"id\":\"e1ead99b-34a3-454b-afd1-67b24a58989e\",\"type\":\"Rect\"},{\"attributes\":{\"callback\":null,\"column_names\":[\"line_color\",\"line_alpha\",\"label\",\"y\",\"fill_alpha\",\"width\",\"height\",\"color\",\"x\"],\"data\":{\"chart_index\":[\"(3.3, 3.5]\"],\"color\":[\"#f22c40\"],\"fill_alpha\":[0.6],\"height\":[0.0],\"label\":[\"(3.3, 3.5]\"],\"line_alpha\":[1.0],\"line_color\":[\"black\"],\"width\":[0.16666666666666652],\"x\":[\"3.4\"],\"y\":[0.0]}},\"id\":\"5b7dfb11-2fbb-4a65-8cb3-a868efb7e8f2\",\"type\":\"ColumnDataSource\"},{\"attributes\":{\"data_source\":{\"id\":\"c9dec9ee-af17-4c4c-badb-e5164f75ddac\",\"type\":\"ColumnDataSource\"},\"glyph\":{\"id\":\"3ea4e8de-1f8f-491d-a9c7-96ee64bddd78\",\"type\":\"Rect\"},\"hover_glyph\":null,\"nonselection_glyph\":null,\"selection_glyph\":null},\"id\":\"53a1a50e-c33b-4307-b55e-aefa5f719022\",\"type\":\"GlyphRenderer\"},{\"attributes\":{\"dimension\":1,\"plot\":{\"id\":\"e99b6721-e2bb-4d5e-9fd3-3318cf37b376\",\"subtype\":\"Chart\",\"type\":\"Plot\"},\"ticker\":{\"id\":\"d58737ec-05ce-4134-b38d-7db72341e23d\",\"type\":\"BasicTicker\"}},\"id\":\"563cffce-97b1-4458-91ee-2b331e27e8ee\",\"type\":\"Grid\"},{\"attributes\":{\"data_source\":{\"id\":\"a3bdd569-9ebe-41f7-a245-5cf24ccf6dab\",\"type\":\"ColumnDataSource\"},\"glyph\":{\"id\":\"84599579-0a44-40b5-b2c5-036d2b5034b8\",\"type\":\"Rect\"},\"hover_glyph\":null,\"nonselection_glyph\":null,\"selection_glyph\":null},\"id\":\"f0027c46-5351-43fd-8885-11364299b3a3\",\"type\":\"GlyphRenderer\"},{\"attributes\":{\"callback\":null,\"column_names\":[\"line_color\",\"line_alpha\",\"label\",\"y\",\"fill_alpha\",\"width\",\"height\",\"color\",\"x\"],\"data\":{\"chart_index\":[\"(4.2, 4.3]\"],\"color\":[\"#f22c40\"],\"fill_alpha\":[0.6],\"height\":[0.0],\"label\":[\"(4.2, 4.3]\"],\"line_alpha\":[1.0],\"line_color\":[\"black\"],\"width\":[0.16666666666666696],\"x\":[\"4.25\"],\"y\":[0.0]}},\"id\":\"08ada8b0-515b-45d0-a948-520fb4d2b1c4\",\"type\":\"ColumnDataSource\"},{\"attributes\":{\"data_source\":{\"id\":\"f5278aa1-a6d6-4648-b719-d6d6aff62075\",\"type\":\"ColumnDataSource\"},\"glyph\":{\"id\":\"c35b7503-cabc-4784-a0cd-791ce94c0b9c\",\"type\":\"Rect\"},\"hover_glyph\":null,\"nonselection_glyph\":null,\"selection_glyph\":null},\"id\":\"28da3be7-d44a-43e5-a540-add7ab328f65\",\"type\":\"GlyphRenderer\"},{\"attributes\":{\"fill_alpha\":{\"field\":\"fill_alpha\"},\"fill_color\":{\"field\":\"color\"},\"height\":{\"field\":\"height\",\"units\":\"data\"},\"line_color\":{\"field\":\"line_color\"},\"width\":{\"field\":\"width\",\"units\":\"data\"},\"x\":{\"field\":\"x\"},\"y\":{\"field\":\"y\"}},\"id\":\"f9d4f3d9-64c7-4978-9141-637441b8a4ba\",\"type\":\"Rect\"},{\"attributes\":{\"fill_alpha\":{\"field\":\"fill_alpha\"},\"fill_color\":{\"field\":\"color\"},\"height\":{\"field\":\"height\",\"units\":\"data\"},\"line_color\":{\"field\":\"line_color\"},\"width\":{\"field\":\"width\",\"units\":\"data\"},\"x\":{\"field\":\"x\"},\"y\":{\"field\":\"y\"}},\"id\":\"cc199e1e-1a46-48aa-964d-f0088bedc475\",\"type\":\"Rect\"},{\"attributes\":{\"callback\":null,\"column_names\":[\"line_color\",\"line_alpha\",\"label\",\"y\",\"fill_alpha\",\"width\",\"height\",\"color\",\"x\"],\"data\":{\"chart_index\":[\"(8.5, 8.6]\"],\"color\":[\"#5ab738\"],\"fill_alpha\":[0.6],\"height\":[0.0],\"label\":[\"(8.5, 8.6]\"],\"line_alpha\":[1.0],\"line_color\":[\"black\"],\"width\":[0.117647058823529],\"x\":[\"8.55\"],\"y\":[0.0]}},\"id\":\"4afd0c5f-a54a-4179-9ee6-9576f8e48afb\",\"type\":\"ColumnDataSource\"},{\"attributes\":{\"callback\":null,\"column_names\":[\"line_color\",\"line_alpha\",\"label\",\"y\",\"fill_alpha\",\"width\",\"height\",\"color\",\"x\"],\"data\":{\"chart_index\":[\"(5.0, 5.2]\"],\"color\":[\"#f22c40\"],\"fill_alpha\":[0.6],\"height\":[681.0],\"label\":[\"(5.0, 5.2]\"],\"line_alpha\":[1.0],\"line_color\":[\"black\"],\"width\":[0.16666666666666607],\"x\":[\"5.1\"],\"y\":[340.5]}},\"id\":\"d3f6809d-b72f-47d5-af01-ece8f1874201\",\"type\":\"ColumnDataSource\"},{\"attributes\":{\"fill_alpha\":{\"field\":\"fill_alpha\"},\"fill_color\":{\"field\":\"color\"},\"height\":{\"field\":\"height\",\"units\":\"data\"},\"line_color\":{\"field\":\"line_color\"},\"width\":{\"field\":\"width\",\"units\":\"data\"},\"x\":{\"field\":\"x\"},\"y\":{\"field\":\"y\"}},\"id\":\"0e902cdd-fe33-4a1f-9be0-da9785fa3069\",\"type\":\"Rect\"},{\"attributes\":{\"fill_alpha\":{\"field\":\"fill_alpha\"},\"fill_color\":{\"field\":\"color\"},\"height\":{\"field\":\"height\",\"units\":\"data\"},\"line_color\":{\"field\":\"line_color\"},\"width\":{\"field\":\"width\",\"units\":\"data\"},\"x\":{\"field\":\"x\"},\"y\":{\"field\":\"y\"}},\"id\":\"6672507e-60df-42e9-bafe-7da071b51cfb\",\"type\":\"Rect\"},{\"attributes\":{\"plot\":null,\"text\":null},\"id\":\"06e6b2a0-acea-4461-81c2-3c92933eb378\",\"type\":\"Title\"},{\"attributes\":{\"callback\":null,\"column_names\":[\"line_color\",\"line_alpha\",\"label\",\"y\",\"fill_alpha\",\"width\",\"height\",\"color\",\"x\"],\"data\":{\"chart_index\":[\"(6.8, 7.0]\"],\"color\":[\"#f22c40\"],\"fill_alpha\":[0.6],\"height\":[0.0],\"label\":[\"(6.8, 7.0]\"],\"line_alpha\":[1.0],\"line_color\":[\"black\"],\"width\":[0.16666666666666696],\"x\":[\"6.9\"],\"y\":[0.0]}},\"id\":\"f5278aa1-a6d6-4648-b719-d6d6aff62075\",\"type\":\"ColumnDataSource\"},{\"attributes\":{\"callback\":null,\"column_names\":[\"line_color\",\"line_alpha\",\"label\",\"y\",\"fill_alpha\",\"width\",\"height\",\"color\",\"x\"],\"data\":{\"chart_index\":[\"(4.8, 5.0]\"],\"color\":[\"#f22c40\"],\"fill_alpha\":[0.6],\"height\":[0.0],\"label\":[\"(4.8, 5.0]\"],\"line_alpha\":[1.0],\"line_color\":[\"black\"],\"width\":[0.16666666666666696],\"x\":[\"4.9\"],\"y\":[0.0]}},\"id\":\"a9405b8d-96fe-4cff-aa3e-adae8908a1aa\",\"type\":\"ColumnDataSource\"},{\"attributes\":{\"callback\":null,\"column_names\":[\"line_color\",\"line_alpha\",\"label\",\"y\",\"fill_alpha\",\"width\",\"height\",\"color\",\"x\"],\"data\":{\"chart_index\":[\"(4.5, 4.7]\"],\"color\":[\"#f22c40\"],\"fill_alpha\":[0.6],\"height\":[0.0],\"label\":[\"(4.5, 4.7]\"],\"line_alpha\":[1.0],\"line_color\":[\"black\"],\"width\":[0.16666666666666607],\"x\":[\"4.6\"],\"y\":[0.0]}},\"id\":\"d4d1fe29-fdbc-4aef-8ff6-c58b7e21f068\",\"type\":\"ColumnDataSource\"},{\"attributes\":{\"callback\":null,\"column_names\":[\"line_color\",\"line_alpha\",\"label\",\"y\",\"fill_alpha\",\"width\",\"height\",\"color\",\"x\"],\"data\":{\"chart_index\":[\"(8.4, 8.5]\"],\"color\":[\"#5ab738\"],\"fill_alpha\":[0.6],\"height\":[0.0],\"label\":[\"(8.4, 8.5]\"],\"line_alpha\":[1.0],\"line_color\":[\"black\"],\"width\":[0.117647058823529],\"x\":[\"8.45\"],\"y\":[0.0]}},\"id\":\"4d216bbf-36f5-4609-b314-c9f8b7e25213\",\"type\":\"ColumnDataSource\"},{\"attributes\":{\"fill_alpha\":{\"field\":\"fill_alpha\"},\"fill_color\":{\"field\":\"color\"},\"height\":{\"field\":\"height\",\"units\":\"data\"},\"line_color\":{\"field\":\"line_color\"},\"width\":{\"field\":\"width\",\"units\":\"data\"},\"x\":{\"field\":\"x\"},\"y\":{\"field\":\"y\"}},\"id\":\"eebdbc74-3eff-4cac-809d-49620bfe9996\",\"type\":\"Rect\"},{\"attributes\":{\"data_source\":{\"id\":\"496bea0a-17ff-4f9b-873f-c7de25719a34\",\"type\":\"ColumnDataSource\"},\"glyph\":{\"id\":\"cc199e1e-1a46-48aa-964d-f0088bedc475\",\"type\":\"Rect\"},\"hover_glyph\":null,\"nonselection_glyph\":null,\"selection_glyph\":null},\"id\":\"a8bc039f-3e4c-4871-be35-ca8fcec85492\",\"type\":\"GlyphRenderer\"},{\"attributes\":{\"callback\":null,\"column_names\":[\"line_color\",\"line_alpha\",\"label\",\"y\",\"fill_alpha\",\"width\",\"height\",\"color\",\"x\"],\"data\":{\"chart_index\":[\"(5.1, 5.2]\"],\"color\":[\"#5ab738\"],\"fill_alpha\":[0.6],\"height\":[0.0],\"label\":[\"(5.1, 5.2]\"],\"line_alpha\":[1.0],\"line_color\":[\"black\"],\"width\":[0.11764705882352988],\"x\":[\"5.15\"],\"y\":[0.0]}},\"id\":\"5553abf5-dba0-4926-8f1e-efb53a74aefd\",\"type\":\"ColumnDataSource\"},{\"attributes\":{\"data_source\":{\"id\":\"66ba72e6-80a4-47fd-a679-6ef5e849b04d\",\"type\":\"ColumnDataSource\"},\"glyph\":{\"id\":\"0ba74e79-819c-4cc1-9ee5-d06e0ab1d51e\",\"type\":\"Rect\"},\"hover_glyph\":null,\"nonselection_glyph\":null,\"selection_glyph\":null},\"id\":\"7e4e5527-879f-4318-be87-8b5ec0615717\",\"type\":\"GlyphRenderer\"},{\"attributes\":{\"plot\":{\"id\":\"ef047ee6-c462-4b90-a7b2-9bc78f06379f\",\"subtype\":\"Chart\",\"type\":\"Plot\"}},\"id\":\"b3467756-f90d-47e1-80a0-09554a755dcf\",\"type\":\"ResetTool\"},{\"attributes\":{\"callback\":null,\"column_names\":[\"line_color\",\"line_alpha\",\"label\",\"y\",\"fill_alpha\",\"width\",\"height\",\"color\",\"x\"],\"data\":{\"chart_index\":[\"(3.1, 3.2]\"],\"color\":[\"#5ab738\"],\"fill_alpha\":[0.6],\"height\":[0.0],\"label\":[\"(3.1, 3.2]\"],\"line_alpha\":[1.0],\"line_color\":[\"black\"],\"width\":[0.11764705882352944],\"x\":[\"3.1500000000000004\"],\"y\":[0.0]}},\"id\":\"73a929b7-c6f1-471a-97be-e724df55c698\",\"type\":\"ColumnDataSource\"},{\"attributes\":{\"callback\":null,\"column_names\":[\"line_color\",\"line_alpha\",\"label\",\"y\",\"fill_alpha\",\"width\",\"height\",\"color\",\"x\"],\"data\":{\"chart_index\":[\"(7.5, 7.7]\"],\"color\":[\"#f22c40\"],\"fill_alpha\":[0.6],\"height\":[0.0],\"label\":[\"(7.5, 7.7]\"],\"line_alpha\":[1.0],\"line_color\":[\"black\"],\"width\":[0.16666666666666607],\"x\":[\"7.6\"],\"y\":[0.0]}},\"id\":\"6bc56146-7c7c-40a7-b8d7-b6e22c89f8c4\",\"type\":\"ColumnDataSource\"},{\"attributes\":{\"callback\":null,\"column_names\":[\"line_color\",\"line_alpha\",\"label\",\"y\",\"fill_alpha\",\"width\",\"height\",\"color\",\"x\"],\"data\":{\"chart_index\":[\"(5.2, 5.3]\"],\"color\":[\"#f22c40\"],\"fill_alpha\":[0.6],\"height\":[0.0],\"label\":[\"(5.2, 5.3]\"],\"line_alpha\":[1.0],\"line_color\":[\"black\"],\"width\":[0.16666666666666696],\"x\":[\"5.25\"],\"y\":[0.0]}},\"id\":\"0cbb7ea1-d727-4413-b836-109edcbbe7d0\",\"type\":\"ColumnDataSource\"},{\"attributes\":{\"data_source\":{\"id\":\"b47fda81-cea6-46a0-823d-582f48d35ddf\",\"type\":\"ColumnDataSource\"},\"glyph\":{\"id\":\"f9fc1732-c07a-4236-846f-049e66ae2f29\",\"type\":\"Rect\"},\"hover_glyph\":null,\"nonselection_glyph\":null,\"selection_glyph\":null},\"id\":\"08072cac-161e-44b7-a37b-0dc3c3128586\",\"type\":\"GlyphRenderer\"},{\"attributes\":{\"fill_alpha\":{\"field\":\"fill_alpha\"},\"fill_color\":{\"field\":\"color\"},\"height\":{\"field\":\"height\",\"units\":\"data\"},\"line_color\":{\"field\":\"line_color\"},\"width\":{\"field\":\"width\",\"units\":\"data\"},\"x\":{\"field\":\"x\"},\"y\":{\"field\":\"y\"}},\"id\":\"80c7a20b-1cc0-44c4-9495-7467afdbdec2\",\"type\":\"Rect\"},{\"attributes\":{\"callback\":null,\"column_names\":[\"line_color\",\"line_alpha\",\"label\",\"y\",\"fill_alpha\",\"width\",\"height\",\"color\",\"x\"],\"data\":{\"chart_index\":[\"(3.5, 3.7]\"],\"color\":[\"#f22c40\"],\"fill_alpha\":[0.6],\"height\":[0.0],\"label\":[\"(3.5, 3.7]\"],\"line_alpha\":[1.0],\"line_color\":[\"black\"],\"width\":[0.16666666666666652],\"x\":[\"3.6\"],\"y\":[0.0]}},\"id\":\"633833b3-79c2-4371-baa4-06e2045f8194\",\"type\":\"ColumnDataSource\"},{\"attributes\":{\"fill_alpha\":{\"field\":\"fill_alpha\"},\"fill_color\":{\"field\":\"color\"},\"height\":{\"field\":\"height\",\"units\":\"data\"},\"line_color\":{\"field\":\"line_color\"},\"width\":{\"field\":\"width\",\"units\":\"data\"},\"x\":{\"field\":\"x\"},\"y\":{\"field\":\"y\"}},\"id\":\"f3e47521-2177-4c39-bf6c-a89cda18bf42\",\"type\":\"Rect\"},{\"attributes\":{\"active_drag\":\"auto\",\"active_scroll\":\"auto\",\"active_tap\":\"auto\",\"tools\":[{\"id\":\"deaed9cb-b9d4-4967-9b1f-d28d54a29503\",\"type\":\"PanTool\"},{\"id\":\"aacd8948-115a-49d7-a444-df2139fba6e2\",\"type\":\"ResetTool\"},{\"id\":\"532f70cc-4618-4944-a529-956431cfbd7a\",\"type\":\"BoxZoomTool\"}]},\"id\":\"a13e8a43-2aa3-41c6-98a5-4a04e6e968d4\",\"type\":\"Toolbar\"},{\"attributes\":{\"callback\":null,\"column_names\":[\"line_color\",\"line_alpha\",\"label\",\"y\",\"fill_alpha\",\"width\",\"height\",\"color\",\"x\"],\"data\":{\"chart_index\":[{\"white?\":0}],\"color\":[\"#f22c40\"],\"fill_alpha\":[0.8],\"height\":[1599.0],\"label\":[{\"white?\":0}],\"line_alpha\":[1.0],\"line_color\":[\"white\"],\"white?\":[0],\"width\":[0.8],\"x\":[\"0\"],\"y\":[799.5]}},\"id\":\"496bea0a-17ff-4f9b-873f-c7de25719a34\",\"type\":\"ColumnDataSource\"},{\"attributes\":{\"fill_alpha\":{\"field\":\"fill_alpha\"},\"fill_color\":{\"field\":\"color\"},\"height\":{\"field\":\"height\",\"units\":\"data\"},\"line_color\":{\"field\":\"line_color\"},\"width\":{\"field\":\"width\",\"units\":\"data\"},\"x\":{\"field\":\"x\"},\"y\":{\"field\":\"y\"}},\"id\":\"064ffc8f-f573-4ef1-8fc5-7f7803045286\",\"type\":\"Rect\"},{\"attributes\":{\"axis_label\":\"Count( Quality )\",\"formatter\":{\"id\":\"37ff9831-9c83-46e9-854c-cbe21acbef03\",\"type\":\"BasicTickFormatter\"},\"plot\":{\"id\":\"ef047ee6-c462-4b90-a7b2-9bc78f06379f\",\"subtype\":\"Chart\",\"type\":\"Plot\"},\"ticker\":{\"id\":\"6cf60030-e315-451a-bd1d-901645e6e392\",\"type\":\"BasicTicker\"}},\"id\":\"c77be3a7-fb51-4a3a-b63e-3e00cba33a85\",\"type\":\"LinearAxis\"},{\"attributes\":{\"callback\":null,\"column_names\":[\"line_color\",\"line_alpha\",\"label\",\"y\",\"fill_alpha\",\"width\",\"height\",\"color\",\"x\"],\"data\":{\"chart_index\":[\"(6.4, 6.5]\"],\"color\":[\"#5ab738\"],\"fill_alpha\":[0.6],\"height\":[0.0],\"label\":[\"(6.4, 6.5]\"],\"line_alpha\":[1.0],\"line_color\":[\"black\"],\"width\":[0.117647058823529],\"x\":[\"6.45\"],\"y\":[0.0]}},\"id\":\"1a9494e4-4b7b-4935-bd0a-eb44b6a0290e\",\"type\":\"ColumnDataSource\"},{\"attributes\":{\"data_source\":{\"id\":\"109bf2c1-f26d-45d2-8dc3-b88b11c3fb32\",\"type\":\"ColumnDataSource\"},\"glyph\":{\"id\":\"89f4fa1d-238b-440b-882f-32177f0d6a25\",\"type\":\"Rect\"},\"hover_glyph\":null,\"nonselection_glyph\":null,\"selection_glyph\":null},\"id\":\"8694b308-3ae9-435e-804e-f536fb2119f2\",\"type\":\"GlyphRenderer\"},{\"attributes\":{\"data_source\":{\"id\":\"710cc5c6-6af9-424d-a704-6e50c29bef39\",\"type\":\"ColumnDataSource\"},\"glyph\":{\"id\":\"064ffc8f-f573-4ef1-8fc5-7f7803045286\",\"type\":\"Rect\"},\"hover_glyph\":null,\"nonselection_glyph\":null,\"selection_glyph\":null},\"id\":\"1bdb3e31-166e-4f8f-a346-d3c0255484e3\",\"type\":\"GlyphRenderer\"},{\"attributes\":{\"data_source\":{\"id\":\"40943bf2-123b-4998-ae8b-cb53c6d3939c\",\"type\":\"ColumnDataSource\"},\"glyph\":{\"id\":\"5b676a42-4215-42e1-8e0a-3c3bdd887585\",\"type\":\"Rect\"},\"hover_glyph\":null,\"nonselection_glyph\":null,\"selection_glyph\":null},\"id\":\"60cb69df-628b-494a-a38c-08dc85b1fea7\",\"type\":\"GlyphRenderer\"},{\"attributes\":{\"fill_alpha\":{\"field\":\"fill_alpha\"},\"fill_color\":{\"field\":\"color\"},\"height\":{\"field\":\"height\",\"units\":\"data\"},\"line_color\":{\"field\":\"line_color\"},\"width\":{\"field\":\"width\",\"units\":\"data\"},\"x\":{\"field\":\"x\"},\"y\":{\"field\":\"y\"}},\"id\":\"ad888234-88c7-4e87-b9f7-fc150e3a6a4b\",\"type\":\"Rect\"},{\"attributes\":{\"data_source\":{\"id\":\"6b0bc51d-dd0e-4f6c-a3b9-e9dd2b0326c4\",\"type\":\"ColumnDataSource\"},\"glyph\":{\"id\":\"0f32b4f7-777b-4312-9dc9-bf9ac221e6d0\",\"type\":\"Rect\"},\"hover_glyph\":null,\"nonselection_glyph\":null,\"selection_glyph\":null},\"id\":\"3eb0b14d-d3e6-4e94-8cae-520407a868ca\",\"type\":\"GlyphRenderer\"},{\"attributes\":{\"data_source\":{\"id\":\"d3f6809d-b72f-47d5-af01-ece8f1874201\",\"type\":\"ColumnDataSource\"},\"glyph\":{\"id\":\"98cda3ea-e6c7-4937-9a64-38536b8e9ea6\",\"type\":\"Rect\"},\"hover_glyph\":null,\"nonselection_glyph\":null,\"selection_glyph\":null},\"id\":\"cb06e966-c987-4c32-b07a-887bc9fdcba2\",\"type\":\"GlyphRenderer\"},{\"attributes\":{\"data_source\":{\"id\":\"a16f15e7-4c9a-406f-a415-c1aafbd089d9\",\"type\":\"ColumnDataSource\"},\"glyph\":{\"id\":\"e4c3734f-fd66-4f80-9237-0e13496b7d52\",\"type\":\"Rect\"},\"hover_glyph\":null,\"nonselection_glyph\":null,\"selection_glyph\":null},\"id\":\"e8666e37-1e5d-406c-9722-b609db0d009b\",\"type\":\"GlyphRenderer\"},{\"attributes\":{\"callback\":null,\"column_names\":[\"line_color\",\"line_alpha\",\"label\",\"y\",\"fill_alpha\",\"width\",\"height\",\"color\",\"x\"],\"data\":{\"chart_index\":[\"(3.2, 3.4]\"],\"color\":[\"#5ab738\"],\"fill_alpha\":[0.6],\"height\":[0.0],\"label\":[\"(3.2, 3.4]\"],\"line_alpha\":[1.0],\"line_color\":[\"black\"],\"width\":[0.11764705882352944],\"x\":[\"3.3\"],\"y\":[0.0]}},\"id\":\"c8e52584-3f8b-4d26-90d6-c982181db6af\",\"type\":\"ColumnDataSource\"},{\"attributes\":{\"fill_alpha\":{\"field\":\"fill_alpha\"},\"fill_color\":{\"field\":\"color\"},\"height\":{\"field\":\"height\",\"units\":\"data\"},\"line_color\":{\"field\":\"line_color\"},\"width\":{\"field\":\"width\",\"units\":\"data\"},\"x\":{\"field\":\"x\"},\"y\":{\"field\":\"y\"}},\"id\":\"02e97147-587f-4241-b58b-d70e3695c008\",\"type\":\"Rect\"},{\"attributes\":{\"data_source\":{\"id\":\"8e79ac7c-1812-4568-8eec-abec1b662d3a\",\"type\":\"ColumnDataSource\"},\"glyph\":{\"id\":\"02e97147-587f-4241-b58b-d70e3695c008\",\"type\":\"Rect\"},\"hover_glyph\":null,\"nonselection_glyph\":null,\"selection_glyph\":null},\"id\":\"ace71f52-0c93-4f6f-9bb4-74e0dde913db\",\"type\":\"GlyphRenderer\"},{\"attributes\":{\"legends\":[[\"1\",[{\"id\":\"1cc453f8-57f1-484d-af08-745b06d71c26\",\"type\":\"GlyphRenderer\"},{\"id\":\"f04df009-a6ee-4c9f-a89a-4d01182a394a\",\"type\":\"GlyphRenderer\"},{\"id\":\"a2dca79e-821b-4daa-9d9a-67ac66d3452a\",\"type\":\"GlyphRenderer\"},{\"id\":\"cee88755-8f88-4b63-a743-d6e1332f6dda\",\"type\":\"GlyphRenderer\"},{\"id\":\"ace71f52-0c93-4f6f-9bb4-74e0dde913db\",\"type\":\"GlyphRenderer\"},{\"id\":\"eeca2011-da50-42b0-9202-3f5a7df65543\",\"type\":\"GlyphRenderer\"},{\"id\":\"1f9e5454-c7fe-4668-8d9e-aad5f445a03d\",\"type\":\"GlyphRenderer\"},{\"id\":\"d0faff11-4e72-46d5-af50-62c27e385cc8\",\"type\":\"GlyphRenderer\"},{\"id\":\"bf74ded3-1fdf-417e-89e0-f4e02a079255\",\"type\":\"GlyphRenderer\"},{\"id\":\"e7ab3bda-4f20-46dd-bf01-2b52c43f5725\",\"type\":\"GlyphRenderer\"},{\"id\":\"3eb0b14d-d3e6-4e94-8cae-520407a868ca\",\"type\":\"GlyphRenderer\"},{\"id\":\"ce3ed8d8-6781-4b73-9c92-d776d3594ea3\",\"type\":\"GlyphRenderer\"},{\"id\":\"c8236a50-df8d-4f22-a1ac-59a07a683e19\",\"type\":\"GlyphRenderer\"},{\"id\":\"99d01057-402f-49c9-852e-5225751db8a3\",\"type\":\"GlyphRenderer\"},{\"id\":\"64a2f529-c28c-4720-a88f-2731be4fc8bb\",\"type\":\"GlyphRenderer\"},{\"id\":\"357b92b2-ddd0-4689-a05e-f97c5f4f52dd\",\"type\":\"GlyphRenderer\"},{\"id\":\"67d17115-7865-4ce3-a289-f9662bc7f6d9\",\"type\":\"GlyphRenderer\"},{\"id\":\"68df34eb-7cdb-42fd-b218-a36315fabb72\",\"type\":\"GlyphRenderer\"},{\"id\":\"cbcbe85e-ec2d-48a5-a361-9a6e9278358c\",\"type\":\"GlyphRenderer\"},{\"id\":\"2adc4671-d6f0-4720-9dc6-cc67ea91b264\",\"type\":\"GlyphRenderer\"},{\"id\":\"8a4bb88b-ae41-4ed8-a45b-408c67f8c329\",\"type\":\"GlyphRenderer\"},{\"id\":\"5b41fe0d-6184-41ca-a7cb-ffeb2169e121\",\"type\":\"GlyphRenderer\"},{\"id\":\"5e139e38-7548-4953-8ad7-e7ef3f6a1a6f\",\"type\":\"GlyphRenderer\"},{\"id\":\"5b176971-62b5-4a62-97c0-a4e5f5169084\",\"type\":\"GlyphRenderer\"},{\"id\":\"e0f4880f-8c24-47a9-bd6a-aeac6e543569\",\"type\":\"GlyphRenderer\"},{\"id\":\"56b7a97e-1448-4033-b01d-77b22211d161\",\"type\":\"GlyphRenderer\"},{\"id\":\"144aa26b-df9b-4522-9a7d-0acca8bbbfd8\",\"type\":\"GlyphRenderer\"},{\"id\":\"53a1a50e-c33b-4307-b55e-aefa5f719022\",\"type\":\"GlyphRenderer\"},{\"id\":\"b2536c94-6a80-4bc1-83b4-8e45854dac71\",\"type\":\"GlyphRenderer\"},{\"id\":\"9eff8f38-bc8d-4e88-876e-57bf66000e66\",\"type\":\"GlyphRenderer\"},{\"id\":\"7410fbe7-0e00-4bd5-9382-2ffb54126232\",\"type\":\"GlyphRenderer\"},{\"id\":\"61cf23b8-5588-4f1e-bf46-c980a34b7cfc\",\"type\":\"GlyphRenderer\"},{\"id\":\"80f3296b-4e5a-46c8-93e0-1f971c035b7f\",\"type\":\"GlyphRenderer\"},{\"id\":\"7997b3f9-08b5-49ae-aba0-655ccf6a4269\",\"type\":\"GlyphRenderer\"},{\"id\":\"779bb982-6da1-427a-8753-4f995ad51b4c\",\"type\":\"GlyphRenderer\"},{\"id\":\"e8666e37-1e5d-406c-9722-b609db0d009b\",\"type\":\"GlyphRenderer\"},{\"id\":\"f145dd17-9c44-49dd-b332-58b9f5cd2b64\",\"type\":\"GlyphRenderer\"},{\"id\":\"9174ca0c-e8b2-4890-ad37-8b5a800c755e\",\"type\":\"GlyphRenderer\"},{\"id\":\"e5c9870c-3617-44d6-8680-21b1539381b9\",\"type\":\"GlyphRenderer\"},{\"id\":\"1bdb3e31-166e-4f8f-a346-d3c0255484e3\",\"type\":\"GlyphRenderer\"},{\"id\":\"81bd67f3-9bfd-45d5-9bc0-ef48d7fbb173\",\"type\":\"GlyphRenderer\"},{\"id\":\"d4b92aab-8807-4cd7-82cd-8194c0c58ba5\",\"type\":\"GlyphRenderer\"},{\"id\":\"a37a38a3-a414-4e3e-a070-ee3327aa641f\",\"type\":\"GlyphRenderer\"},{\"id\":\"b9496586-89ea-4c49-9190-fa09233dd1c0\",\"type\":\"GlyphRenderer\"},{\"id\":\"f4a9ab28-0fb7-47de-84d8-8f83d5152020\",\"type\":\"GlyphRenderer\"},{\"id\":\"b96b47fd-5dc2-4697-9889-72a7aa1ac0d2\",\"type\":\"GlyphRenderer\"},{\"id\":\"b40530ba-4fdb-4d67-89e8-5eb201302899\",\"type\":\"GlyphRenderer\"},{\"id\":\"e00d2743-fc08-425a-9154-51908d58bb64\",\"type\":\"GlyphRenderer\"},{\"id\":\"76da35a5-47de-4d23-be5e-a3b653062d12\",\"type\":\"GlyphRenderer\"},{\"id\":\"52880e3c-e1ab-4327-8a78-22bc6114b039\",\"type\":\"GlyphRenderer\"},{\"id\":\"38930ed9-2cdc-4d2d-abdd-1167cd6c312d\",\"type\":\"GlyphRenderer\"}]],[\"0\",[{\"id\":\"1907463a-150b-4d54-b2a3-d26250ca423e\",\"type\":\"GlyphRenderer\"},{\"id\":\"88939d03-e625-45c6-ad18-34f233f51b7f\",\"type\":\"GlyphRenderer\"},{\"id\":\"d2907f31-cfd5-49c0-8df3-77b4ec2a0b4d\",\"type\":\"GlyphRenderer\"},{\"id\":\"a98e90e4-ab8e-4c30-af4a-680961d4b059\",\"type\":\"GlyphRenderer\"},{\"id\":\"ada3bbbe-d678-4c20-ad6e-749cddec63ec\",\"type\":\"GlyphRenderer\"},{\"id\":\"fef48485-26d6-42c4-bcdc-d5348ab7c376\",\"type\":\"GlyphRenderer\"},{\"id\":\"8694b308-3ae9-435e-804e-f536fb2119f2\",\"type\":\"GlyphRenderer\"},{\"id\":\"dd3b7ded-eb3a-41dd-8b85-40f7bc76533c\",\"type\":\"GlyphRenderer\"},{\"id\":\"7a3ca593-1a45-43b5-bf01-1c71e7bc4d6f\",\"type\":\"GlyphRenderer\"},{\"id\":\"e71f9c5c-28b1-4a33-909c-dbdfe9d6aa97\",\"type\":\"GlyphRenderer\"},{\"id\":\"ca067a01-5009-43d5-bdc0-da8aae56dac0\",\"type\":\"GlyphRenderer\"},{\"id\":\"c0a26e12-91c5-4f3b-a933-06d9b3b57224\",\"type\":\"GlyphRenderer\"},{\"id\":\"cb06e966-c987-4c32-b07a-887bc9fdcba2\",\"type\":\"GlyphRenderer\"},{\"id\":\"b0c6333e-6f4d-4baf-b3bb-5105681fcd32\",\"type\":\"GlyphRenderer\"},{\"id\":\"b07b58f5-18c7-409f-af86-a8f9eae07084\",\"type\":\"GlyphRenderer\"},{\"id\":\"60ac12c3-17c0-4ec1-8e5b-c3ae36e3cf88\",\"type\":\"GlyphRenderer\"},{\"id\":\"f0027c46-5351-43fd-8885-11364299b3a3\",\"type\":\"GlyphRenderer\"},{\"id\":\"a19c0c4c-d9a5-4d31-b589-158dabc25b49\",\"type\":\"GlyphRenderer\"},{\"id\":\"76d88b42-d572-40a7-aab6-b7dcb32378b4\",\"type\":\"GlyphRenderer\"},{\"id\":\"093192a7-6944-4431-8174-ca6b3f72585e\",\"type\":\"GlyphRenderer\"},{\"id\":\"5c07c7b1-1371-429b-abab-69c49abc77bf\",\"type\":\"GlyphRenderer\"},{\"id\":\"08072cac-161e-44b7-a37b-0dc3c3128586\",\"type\":\"GlyphRenderer\"},{\"id\":\"7e4e5527-879f-4318-be87-8b5ec0615717\",\"type\":\"GlyphRenderer\"},{\"id\":\"28da3be7-d44a-43e5-a540-add7ab328f65\",\"type\":\"GlyphRenderer\"},{\"id\":\"b711df21-a9e7-48c1-8d54-e58cf8305d13\",\"type\":\"GlyphRenderer\"},{\"id\":\"1ba8a97c-6f33-4a13-9ce8-7d062704ec4f\",\"type\":\"GlyphRenderer\"},{\"id\":\"edd2156a-db01-4b8d-95ac-99c163640813\",\"type\":\"GlyphRenderer\"},{\"id\":\"17acd05f-7c0b-4067-996e-957347a8b25f\",\"type\":\"GlyphRenderer\"},{\"id\":\"f69bef9d-614a-4222-9159-90d1e9b05721\",\"type\":\"GlyphRenderer\"},{\"id\":\"60cb69df-628b-494a-a38c-08dc85b1fea7\",\"type\":\"GlyphRenderer\"}]]],\"location\":\"top_left\",\"plot\":{\"id\":\"ef047ee6-c462-4b90-a7b2-9bc78f06379f\",\"subtype\":\"Chart\",\"type\":\"Plot\"}},\"id\":\"48d24622-e801-4fd6-8f00-6e31823abcb4\",\"type\":\"Legend\"},{\"attributes\":{\"fill_alpha\":{\"field\":\"fill_alpha\"},\"fill_color\":{\"field\":\"color\"},\"height\":{\"field\":\"height\",\"units\":\"data\"},\"line_color\":{\"field\":\"line_color\"},\"width\":{\"field\":\"width\",\"units\":\"data\"},\"x\":{\"field\":\"x\"},\"y\":{\"field\":\"y\"}},\"id\":\"cda2bad1-495c-4793-ba08-5b937a8c2381\",\"type\":\"Rect\"},{\"attributes\":{\"data_source\":{\"id\":\"bdf96e64-82dd-454d-8352-e4ee512a583c\",\"type\":\"ColumnDataSource\"},\"glyph\":{\"id\":\"e1ead99b-34a3-454b-afd1-67b24a58989e\",\"type\":\"Rect\"},\"hover_glyph\":null,\"nonselection_glyph\":null,\"selection_glyph\":null},\"id\":\"fef48485-26d6-42c4-bcdc-d5348ab7c376\",\"type\":\"GlyphRenderer\"},{\"attributes\":{},\"id\":\"4fba52f6-3948-419a-99a0-d023cca699b8\",\"type\":\"BasicTickFormatter\"},{\"attributes\":{\"data_source\":{\"id\":\"0200b19d-80bd-415a-81aa-8f2fe850ab4c\",\"type\":\"ColumnDataSource\"},\"glyph\":{\"id\":\"cda4fef1-5683-471e-b959-7082682b5b22\",\"type\":\"Rect\"},\"hover_glyph\":null,\"nonselection_glyph\":null,\"selection_glyph\":null},\"id\":\"80f3296b-4e5a-46c8-93e0-1f971c035b7f\",\"type\":\"GlyphRenderer\"},{\"attributes\":{\"data_source\":{\"id\":\"49a6fe01-90be-42ab-b312-09d5afb3afef\",\"type\":\"ColumnDataSource\"},\"glyph\":{\"id\":\"80c7a20b-1cc0-44c4-9495-7467afdbdec2\",\"type\":\"Rect\"},\"hover_glyph\":null,\"nonselection_glyph\":null,\"selection_glyph\":null},\"id\":\"779bb982-6da1-427a-8753-4f995ad51b4c\",\"type\":\"GlyphRenderer\"},{\"attributes\":{\"data_source\":{\"id\":\"5b7dfb11-2fbb-4a65-8cb3-a868efb7e8f2\",\"type\":\"ColumnDataSource\"},\"glyph\":{\"id\":\"d5c67ede-16e7-4d11-a859-a68baec8f741\",\"type\":\"Rect\"},\"hover_glyph\":null,\"nonselection_glyph\":null,\"selection_glyph\":null},\"id\":\"d2907f31-cfd5-49c0-8df3-77b4ec2a0b4d\",\"type\":\"GlyphRenderer\"},{\"attributes\":{\"callback\":null,\"column_names\":[\"line_color\",\"line_alpha\",\"label\",\"y\",\"fill_alpha\",\"width\",\"height\",\"color\",\"x\"],\"data\":{\"chart_index\":[\"(5.7, 5.8]\"],\"color\":[\"#f22c40\"],\"fill_alpha\":[0.6],\"height\":[0.0],\"label\":[\"(5.7, 5.8]\"],\"line_alpha\":[1.0],\"line_color\":[\"black\"],\"width\":[0.16666666666666696],\"x\":[\"5.75\"],\"y\":[0.0]}},\"id\":\"a3bdd569-9ebe-41f7-a245-5cf24ccf6dab\",\"type\":\"ColumnDataSource\"},{\"attributes\":{\"fill_alpha\":{\"field\":\"fill_alpha\"},\"fill_color\":{\"field\":\"color\"},\"height\":{\"field\":\"height\",\"units\":\"data\"},\"line_color\":{\"field\":\"line_color\"},\"width\":{\"field\":\"width\",\"units\":\"data\"},\"x\":{\"field\":\"x\"},\"y\":{\"field\":\"y\"}},\"id\":\"f9fc1732-c07a-4236-846f-049e66ae2f29\",\"type\":\"Rect\"},{\"attributes\":{},\"id\":\"11b944a9-a876-47c2-b056-32788ce176c2\",\"type\":\"ToolEvents\"},{\"attributes\":{\"callback\":null,\"column_names\":[\"line_color\",\"line_alpha\",\"label\",\"y\",\"fill_alpha\",\"width\",\"height\",\"color\",\"x\"],\"data\":{\"chart_index\":[\"(4.3, 4.4]\"],\"color\":[\"#5ab738\"],\"fill_alpha\":[0.6],\"height\":[0.0],\"label\":[\"(4.3, 4.4]\"],\"line_alpha\":[1.0],\"line_color\":[\"black\"],\"width\":[0.11764705882352988],\"x\":[\"4.35\"],\"y\":[0.0]}},\"id\":\"8f8e2e1c-0c41-4ecb-a918-615777f30a6a\",\"type\":\"ColumnDataSource\"},{\"attributes\":{\"fill_alpha\":{\"field\":\"fill_alpha\"},\"fill_color\":{\"field\":\"color\"},\"height\":{\"field\":\"height\",\"units\":\"data\"},\"line_color\":{\"field\":\"line_color\"},\"width\":{\"field\":\"width\",\"units\":\"data\"},\"x\":{\"field\":\"x\"},\"y\":{\"field\":\"y\"}},\"id\":\"6fab5a55-272b-4b42-ae6b-c5326fffab2e\",\"type\":\"Rect\"},{\"attributes\":{\"overlay\":{\"id\":\"53fc3c6f-b403-4709-baa8-0ca348197a4f\",\"type\":\"BoxAnnotation\"},\"plot\":{\"id\":\"ef047ee6-c462-4b90-a7b2-9bc78f06379f\",\"subtype\":\"Chart\",\"type\":\"Plot\"}},\"id\":\"f234bfcc-e185-4256-95dd-9ab71a0f5ce9\",\"type\":\"BoxZoomTool\"},{\"attributes\":{\"fill_alpha\":{\"field\":\"fill_alpha\"},\"fill_color\":{\"field\":\"color\"},\"height\":{\"field\":\"height\",\"units\":\"data\"},\"line_color\":{\"field\":\"line_color\"},\"width\":{\"field\":\"width\",\"units\":\"data\"},\"x\":{\"field\":\"x\"},\"y\":{\"field\":\"y\"}},\"id\":\"1939ab5d-4715-4556-9a47-0c9e21a7c185\",\"type\":\"Rect\"},{\"attributes\":{\"callback\":null,\"column_names\":[\"line_color\",\"line_alpha\",\"label\",\"y\",\"fill_alpha\",\"width\",\"height\",\"color\",\"x\"],\"data\":{\"chart_index\":[\"(4.2, 4.3]\"],\"color\":[\"#5ab738\"],\"fill_alpha\":[0.6],\"height\":[0.0],\"label\":[\"(4.2, 4.3]\"],\"line_alpha\":[1.0],\"line_color\":[\"black\"],\"width\":[0.117647058823529],\"x\":[\"4.25\"],\"y\":[0.0]}},\"id\":\"6b0bc51d-dd0e-4f6c-a3b9-e9dd2b0326c4\",\"type\":\"ColumnDataSource\"},{\"attributes\":{\"fill_alpha\":{\"field\":\"fill_alpha\"},\"fill_color\":{\"field\":\"color\"},\"height\":{\"field\":\"height\",\"units\":\"data\"},\"line_color\":{\"field\":\"line_color\"},\"width\":{\"field\":\"width\",\"units\":\"data\"},\"x\":{\"field\":\"x\"},\"y\":{\"field\":\"y\"}},\"id\":\"acd5b00b-78f4-4145-a45f-f0d95277b459\",\"type\":\"Rect\"},{\"attributes\":{\"callback\":null,\"column_names\":[\"line_color\",\"line_alpha\",\"label\",\"y\",\"fill_alpha\",\"width\",\"height\",\"color\",\"x\"],\"data\":{\"chart_index\":[\"(7.0, 7.2]\"],\"color\":[\"#f22c40\"],\"fill_alpha\":[0.6],\"height\":[199.0],\"label\":[\"(7.0, 7.2]\"],\"line_alpha\":[1.0],\"line_color\":[\"black\"],\"width\":[0.16666666666666607],\"x\":[\"7.1\"],\"y\":[99.5]}},\"id\":\"53144314-97e0-4563-a40b-5669d9993506\",\"type\":\"ColumnDataSource\"},{\"attributes\":{\"callback\":null,\"column_names\":[\"line_color\",\"line_alpha\",\"label\",\"y\",\"fill_alpha\",\"width\",\"height\",\"color\",\"x\"],\"data\":{\"chart_index\":[\"(3.7, 3.8]\"],\"color\":[\"#f22c40\"],\"fill_alpha\":[0.6],\"height\":[0.0],\"label\":[\"(3.7, 3.8]\"],\"line_alpha\":[1.0],\"line_color\":[\"black\"],\"width\":[0.16666666666666652],\"x\":[\"3.75\"],\"y\":[0.0]}},\"id\":\"eb40d238-c501-41a3-a612-7f2018cfdcc2\",\"type\":\"ColumnDataSource\"},{\"attributes\":{\"callback\":null,\"column_names\":[\"line_color\",\"line_alpha\",\"label\",\"y\",\"fill_alpha\",\"width\",\"height\",\"color\",\"x\"],\"data\":{\"chart_index\":[\"(3.6, 3.7]\"],\"color\":[\"#5ab738\"],\"fill_alpha\":[0.6],\"height\":[0.0],\"label\":[\"(3.6, 3.7]\"],\"line_alpha\":[1.0],\"line_color\":[\"black\"],\"width\":[0.11764705882352944],\"x\":[\"3.6500000000000004\"],\"y\":[0.0]}},\"id\":\"b7b2ca5e-064a-4363-9d9d-554c84bdc9ba\",\"type\":\"ColumnDataSource\"},{\"attributes\":{\"fill_alpha\":{\"field\":\"fill_alpha\"},\"fill_color\":{\"field\":\"color\"},\"height\":{\"field\":\"height\",\"units\":\"data\"},\"line_color\":{\"field\":\"line_color\"},\"width\":{\"field\":\"width\",\"units\":\"data\"},\"x\":{\"field\":\"x\"},\"y\":{\"field\":\"y\"}},\"id\":\"662e1683-e4ef-4b78-bc89-0a4c05be59f5\",\"type\":\"Rect\"},{\"attributes\":{\"data_source\":{\"id\":\"73a929b7-c6f1-471a-97be-e724df55c698\",\"type\":\"ColumnDataSource\"},\"glyph\":{\"id\":\"4c6899e3-bb9a-4dc0-903b-ddfb644c6714\",\"type\":\"Rect\"},\"hover_glyph\":null,\"nonselection_glyph\":null,\"selection_glyph\":null},\"id\":\"f04df009-a6ee-4c9f-a89a-4d01182a394a\",\"type\":\"GlyphRenderer\"},{\"attributes\":{\"data_source\":{\"id\":\"afaecd5e-e65e-46c3-a762-fdc5ed1c3252\",\"type\":\"ColumnDataSource\"},\"glyph\":{\"id\":\"301fd654-80a8-452d-9cb6-4966421d7d99\",\"type\":\"Rect\"},\"hover_glyph\":null,\"nonselection_glyph\":null,\"selection_glyph\":null},\"id\":\"99d01057-402f-49c9-852e-5225751db8a3\",\"type\":\"GlyphRenderer\"},{\"attributes\":{\"fill_alpha\":{\"field\":\"fill_alpha\"},\"fill_color\":{\"field\":\"color\"},\"height\":{\"field\":\"height\",\"units\":\"data\"},\"line_color\":{\"field\":\"line_color\"},\"width\":{\"field\":\"width\",\"units\":\"data\"},\"x\":{\"field\":\"x\"},\"y\":{\"field\":\"y\"}},\"id\":\"c120b4bc-f4e0-46f9-ae7e-fd4cddb5101f\",\"type\":\"Rect\"},{\"attributes\":{\"fill_alpha\":{\"field\":\"fill_alpha\"},\"fill_color\":{\"field\":\"color\"},\"height\":{\"field\":\"height\",\"units\":\"data\"},\"line_color\":{\"field\":\"line_color\"},\"width\":{\"field\":\"width\",\"units\":\"data\"},\"x\":{\"field\":\"x\"},\"y\":{\"field\":\"y\"}},\"id\":\"d685642f-c1aa-4a1d-9dc7-c5ab0e9968a4\",\"type\":\"Rect\"},{\"attributes\":{\"callback\":null,\"column_names\":[\"line_color\",\"line_alpha\",\"label\",\"y\",\"fill_alpha\",\"width\",\"height\",\"color\",\"x\"],\"data\":{\"chart_index\":[\"(6.2, 6.3]\"],\"color\":[\"#5ab738\"],\"fill_alpha\":[0.6],\"height\":[0.0],\"label\":[\"(6.2, 6.3]\"],\"line_alpha\":[1.0],\"line_color\":[\"black\"],\"width\":[0.11764705882352988],\"x\":[\"6.25\"],\"y\":[0.0]}},\"id\":\"c9dec9ee-af17-4c4c-badb-e5164f75ddac\",\"type\":\"ColumnDataSource\"},{\"attributes\":{\"fill_alpha\":{\"field\":\"fill_alpha\"},\"fill_color\":{\"field\":\"color\"},\"height\":{\"field\":\"height\",\"units\":\"data\"},\"line_color\":{\"field\":\"line_color\"},\"width\":{\"field\":\"width\",\"units\":\"data\"},\"x\":{\"field\":\"x\"},\"y\":{\"field\":\"y\"}},\"id\":\"0ba74e79-819c-4cc1-9ee5-d06e0ab1d51e\",\"type\":\"Rect\"},{\"attributes\":{\"callback\":null,\"column_names\":[\"line_color\",\"line_alpha\",\"label\",\"y\",\"fill_alpha\",\"width\",\"height\",\"color\",\"x\"],\"data\":{\"chart_index\":[\"(6.3, 6.4]\"],\"color\":[\"#5ab738\"],\"fill_alpha\":[0.6],\"height\":[0.0],\"label\":[\"(6.3, 6.4]\"],\"line_alpha\":[1.0],\"line_color\":[\"black\"],\"width\":[0.11764705882352988],\"x\":[\"6.35\"],\"y\":[0.0]}},\"id\":\"ad02cf84-98c7-4852-9c66-eadbd880ebf2\",\"type\":\"ColumnDataSource\"},{\"attributes\":{\"fill_alpha\":{\"field\":\"fill_alpha\"},\"fill_color\":{\"field\":\"color\"},\"height\":{\"field\":\"height\",\"units\":\"data\"},\"line_color\":{\"field\":\"line_color\"},\"width\":{\"field\":\"width\",\"units\":\"data\"},\"x\":{\"field\":\"x\"},\"y\":{\"field\":\"y\"}},\"id\":\"6b3328ea-9ce5-4c0d-b967-5778fd3ff14f\",\"type\":\"Rect\"},{\"attributes\":{\"callback\":null,\"column_names\":[\"line_color\",\"line_alpha\",\"label\",\"y\",\"fill_alpha\",\"width\",\"height\",\"color\",\"x\"],\"data\":{\"chart_index\":[\"(5.8, 5.9]\"],\"color\":[\"#5ab738\"],\"fill_alpha\":[0.6],\"height\":[0.0],\"label\":[\"(5.8, 5.9]\"],\"line_alpha\":[1.0],\"line_color\":[\"black\"],\"width\":[0.11764705882352988],\"x\":[\"5.85\"],\"y\":[0.0]}},\"id\":\"6ece140b-0c70-41d8-a1ed-372facf866ec\",\"type\":\"ColumnDataSource\"},{\"attributes\":{\"data_source\":{\"id\":\"6ece140b-0c70-41d8-a1ed-372facf866ec\",\"type\":\"ColumnDataSource\"},\"glyph\":{\"id\":\"502d75ff-28f6-4035-aa18-548ed4aee3cc\",\"type\":\"Rect\"},\"hover_glyph\":null,\"nonselection_glyph\":null,\"selection_glyph\":null},\"id\":\"e0f4880f-8c24-47a9-bd6a-aeac6e543569\",\"type\":\"GlyphRenderer\"},{\"attributes\":{\"callback\":null,\"column_names\":[\"line_color\",\"line_alpha\",\"label\",\"y\",\"fill_alpha\",\"width\",\"height\",\"color\",\"x\"],\"data\":{\"chart_index\":[\"(7.5, 7.6]\"],\"color\":[\"#5ab738\"],\"fill_alpha\":[0.6],\"height\":[0.0],\"label\":[\"(7.5, 7.6]\"],\"line_alpha\":[1.0],\"line_color\":[\"black\"],\"width\":[0.117647058823529],\"x\":[\"7.55\"],\"y\":[0.0]}},\"id\":\"65b09234-4407-4947-be81-213197ae78c6\",\"type\":\"ColumnDataSource\"},{\"attributes\":{\"callback\":null,\"column_names\":[\"line_color\",\"line_alpha\",\"label\",\"y\",\"fill_alpha\",\"width\",\"height\",\"color\",\"x\"],\"data\":{\"chart_index\":[\"(5.6, 5.7]\"],\"color\":[\"#5ab738\"],\"fill_alpha\":[0.6],\"height\":[0.0],\"label\":[\"(5.6, 5.7]\"],\"line_alpha\":[1.0],\"line_color\":[\"black\"],\"width\":[0.11764705882352988],\"x\":[\"5.65\"],\"y\":[0.0]}},\"id\":\"4a196c64-cd19-4bd7-a5fb-af8fa40751d2\",\"type\":\"ColumnDataSource\"},{\"attributes\":{\"data_source\":{\"id\":\"a8e957b8-e26d-45c3-9446-eaaeda801eac\",\"type\":\"ColumnDataSource\"},\"glyph\":{\"id\":\"052c4fca-ed3e-4a71-8671-d367298e7f00\",\"type\":\"Rect\"},\"hover_glyph\":null,\"nonselection_glyph\":null,\"selection_glyph\":null},\"id\":\"b07b58f5-18c7-409f-af86-a8f9eae07084\",\"type\":\"GlyphRenderer\"},{\"attributes\":{\"data_source\":{\"id\":\"f4787353-e16b-4cc7-915d-c29f856324f8\",\"type\":\"ColumnDataSource\"},\"glyph\":{\"id\":\"4d4ed995-21e6-4a0b-b426-0f586e23eb0d\",\"type\":\"Rect\"},\"hover_glyph\":null,\"nonselection_glyph\":null,\"selection_glyph\":null},\"id\":\"edd2156a-db01-4b8d-95ac-99c163640813\",\"type\":\"GlyphRenderer\"},{\"attributes\":{\"data_source\":{\"id\":\"2d9e43f5-3943-4a0b-a2a8-86bca1bfbd21\",\"type\":\"ColumnDataSource\"},\"glyph\":{\"id\":\"8e161f67-5e49-432a-aa28-1496db31770b\",\"type\":\"Rect\"},\"hover_glyph\":null,\"nonselection_glyph\":null,\"selection_glyph\":null},\"id\":\"b9496586-89ea-4c49-9190-fa09233dd1c0\",\"type\":\"GlyphRenderer\"}],\"root_ids\":[\"ff6f7e1c-dd53-4561-9ddc-4ebf1d4674df\"]},\"title\":\"Bokeh Application\",\"version\":\"0.12.0\"}};\n",
       "            var render_items = [{\"docid\":\"443d757b-78d0-46e9-8832-4e2fc8911af0\",\"elementid\":\"c4299de8-a3cc-4288-9843-42d9dd4f78b7\",\"modelid\":\"ff6f7e1c-dd53-4561-9ddc-4ebf1d4674df\",\"notebook_comms_target\":\"46109182-a47b-4062-8783-8add721d0e57\"}];\n",
       "            \n",
       "            Bokeh.embed.embed_items(docs_json, render_items);\n",
       "        });\n",
       "      },\n",
       "      function(Bokeh) {\n",
       "      }\n",
       "    ];\n",
       "  \n",
       "    function run_inline_js() {\n",
       "      for (var i = 0; i < inline_js.length; i++) {\n",
       "        inline_js[i](window.Bokeh);\n",
       "      }\n",
       "    }\n",
       "  \n",
       "    if (window._bokeh_is_loading === 0) {\n",
       "      console.log(\"Bokeh: BokehJS loaded, going straight to plotting\");\n",
       "      run_inline_js();\n",
       "    } else {\n",
       "      load_libs(js_urls, function() {\n",
       "        console.log(\"Bokeh: BokehJS plotting callback run at\", now());\n",
       "        run_inline_js();\n",
       "      });\n",
       "    }\n",
       "  }(this));\n",
       "</script>"
      ]
     },
     "metadata": {},
     "output_type": "display_data"
    },
    {
     "data": {
      "text/plain": [
       "'/Users/ericalonas/anaconda/envs/py35/lib/python3.5/runpy.html'"
      ]
     },
     "execution_count": 9,
     "metadata": {},
     "output_type": "execute_result"
    }
   ],
   "source": [
    "\n",
    "p1 =Histogram(comp_data, values='quality', color='white?',tools='pan, reset, box_zoom')\n",
    "p1.xaxis.minor_tick_line_color=None\n",
    "\n",
    "\n",
    "p2 = Bar(comp_data, values='quality', label='white?', agg='count',tools='pan, reset, box_zoom', legend=None)\n",
    "\n",
    "p = gridplot([[p2,p1]], plot_width=400, plot_height=400)\n",
    "show(p)\n",
    "bplt.save(p)"
   ]
  },
  {
   "cell_type": "markdown",
   "metadata": {
    "collapsed": false
   },
   "source": [
    "# In depth with each parameter"
   ]
  },
  {
   "cell_type": "code",
   "execution_count": 11,
   "metadata": {
    "collapsed": false
   },
   "outputs": [],
   "source": [
    "import itertools"
   ]
  },
  {
   "cell_type": "code",
   "execution_count": 12,
   "metadata": {
    "collapsed": false
   },
   "outputs": [
    {
     "data": {
      "text/html": [
       "\n",
       "\n",
       "    <div class=\"bk-root\">\n",
       "        <div class=\"plotdiv\" id=\"87c690cd-8a4d-41b0-9788-99903487a7b7\"></div>\n",
       "    </div>\n",
       "<script type=\"text/javascript\">\n",
       "  \n",
       "  (function(global) {\n",
       "    function now() {\n",
       "      return new Date();\n",
       "    }\n",
       "  \n",
       "    if (typeof (window._bokeh_onload_callbacks) === \"undefined\") {\n",
       "      window._bokeh_onload_callbacks = [];\n",
       "    }\n",
       "  \n",
       "    function run_callbacks() {\n",
       "      window._bokeh_onload_callbacks.forEach(function(callback) { callback() });\n",
       "      delete window._bokeh_onload_callbacks\n",
       "      console.info(\"Bokeh: all callbacks have finished\");\n",
       "    }\n",
       "  \n",
       "    function load_libs(js_urls, callback) {\n",
       "      window._bokeh_onload_callbacks.push(callback);\n",
       "      if (window._bokeh_is_loading > 0) {\n",
       "        console.log(\"Bokeh: BokehJS is being loaded, scheduling callback at\", now());\n",
       "        return null;\n",
       "      }\n",
       "      if (js_urls == null || js_urls.length === 0) {\n",
       "        run_callbacks();\n",
       "        return null;\n",
       "      }\n",
       "      console.log(\"Bokeh: BokehJS not loaded, scheduling load and callback at\", now());\n",
       "      window._bokeh_is_loading = js_urls.length;\n",
       "      for (var i = 0; i < js_urls.length; i++) {\n",
       "        var url = js_urls[i];\n",
       "        var s = document.createElement('script');\n",
       "        s.src = url;\n",
       "        s.async = false;\n",
       "        s.onreadystatechange = s.onload = function() {\n",
       "          window._bokeh_is_loading--;\n",
       "          if (window._bokeh_is_loading === 0) {\n",
       "            console.log(\"Bokeh: all BokehJS libraries loaded\");\n",
       "            run_callbacks()\n",
       "          }\n",
       "        };\n",
       "        s.onerror = function() {\n",
       "          console.warn(\"failed to load library \" + url);\n",
       "        };\n",
       "        console.log(\"Bokeh: injecting script tag for BokehJS library: \", url);\n",
       "        document.getElementsByTagName(\"head\")[0].appendChild(s);\n",
       "      }\n",
       "    };var element = document.getElementById(\"87c690cd-8a4d-41b0-9788-99903487a7b7\");\n",
       "    if (element == null) {\n",
       "      console.log(\"Bokeh: ERROR: autoload.js configured with elementid '87c690cd-8a4d-41b0-9788-99903487a7b7' but no matching script tag was found. \")\n",
       "      return false;\n",
       "    }\n",
       "  \n",
       "    var js_urls = [];\n",
       "  \n",
       "    var inline_js = [\n",
       "      function(Bokeh) {\n",
       "        Bokeh.$(function() {\n",
       "            var docs_json = {\"b495e5f3-2cc9-4bdb-ab45-5d163b8c32a4\":{\"roots\":{\"references\":[{\"attributes\":{\"line_color\":{\"value\":\"green\"},\"x\":{\"field\":\"x\"},\"y\":{\"field\":\"y\"}},\"id\":\"fcc4f86d-6fb2-4f01-9e66-2cc86d2d0ac6\",\"type\":\"Line\"},{\"attributes\":{\"dimension\":1,\"plot\":{\"id\":\"260ac832-e52c-4b0b-8ca5-9a7fd9914fdd\",\"subtype\":\"Figure\",\"type\":\"Plot\"},\"ticker\":{\"id\":\"677b4fb2-f95b-48db-b73e-ffac70ea5c3c\",\"type\":\"BasicTicker\"}},\"id\":\"8de986b8-6b09-42de-a486-abf61d3abe14\",\"type\":\"Grid\"},{\"attributes\":{\"plot\":null,\"text\":\"mean residual sugar vs. quality\"},\"id\":\"a15eab2b-5920-4199-bfd5-c39ef0b6efaf\",\"type\":\"Title\"},{\"attributes\":{\"plot\":{\"id\":\"39269e26-b1e5-4f47-b29b-e8f2144097ce\",\"subtype\":\"Figure\",\"type\":\"Plot\"}},\"id\":\"9829d6ce-db6e-4030-8725-0e264ffa042f\",\"type\":\"CrosshairTool\"},{\"attributes\":{\"line_color\":{\"value\":\"red\"},\"x\":{\"field\":\"x\"},\"y\":{\"field\":\"y\"}},\"id\":\"885478e9-f3ab-457b-b7c2-f45be3e59e6b\",\"type\":\"Line\"},{\"attributes\":{\"legends\":[[\"white\",[{\"id\":\"9bf80f92-32d9-4b5d-b338-98394a594b59\",\"type\":\"GlyphRenderer\"}]],[\"red\",[{\"id\":\"1ff24c54-7af3-43bd-93dc-257b2aab8cdd\",\"type\":\"GlyphRenderer\"}]]],\"location\":\"top_left\",\"plot\":{\"id\":\"f054e68c-5c0c-412d-a894-b12e36d9154e\",\"subtype\":\"Figure\",\"type\":\"Plot\"}},\"id\":\"96506b99-725d-4600-9891-19137bbd2264\",\"type\":\"Legend\"},{\"attributes\":{\"children\":[{\"id\":\"260ac832-e52c-4b0b-8ca5-9a7fd9914fdd\",\"subtype\":\"Figure\",\"type\":\"Plot\"},{\"id\":\"79357921-85ec-40d8-848a-3796a38629bb\",\"subtype\":\"Figure\",\"type\":\"Plot\"},{\"id\":\"f054e68c-5c0c-412d-a894-b12e36d9154e\",\"subtype\":\"Figure\",\"type\":\"Plot\"}]},\"id\":\"8fafa046-2d64-4ee9-9da5-15766ee0f7a8\",\"type\":\"Row\"},{\"attributes\":{\"axis_label\":\"fixed acidity\",\"formatter\":{\"id\":\"8ec7727a-bde0-46d2-8d87-9a7e8420c8e0\",\"type\":\"BasicTickFormatter\"},\"plot\":{\"id\":\"39269e26-b1e5-4f47-b29b-e8f2144097ce\",\"subtype\":\"Figure\",\"type\":\"Plot\"},\"ticker\":{\"id\":\"dc5600fb-4b5c-4482-98c2-ef7c4551b96f\",\"type\":\"BasicTicker\"}},\"id\":\"2f0f6400-7d7a-46fa-a361-21aa2f7ee3b8\",\"type\":\"LinearAxis\"},{\"attributes\":{},\"id\":\"d6baacd5-cf34-4c03-be4e-ba15e53adab6\",\"type\":\"BasicTickFormatter\"},{\"attributes\":{},\"id\":\"0773a6dd-527b-4264-8a76-8dd45d418d98\",\"type\":\"BasicTickFormatter\"},{\"attributes\":{\"line_color\":{\"value\":\"green\"},\"x\":{\"field\":\"x\"},\"y\":{\"field\":\"y\"}},\"id\":\"b65ff508-17f7-493c-a13e-d512c742f175\",\"type\":\"Line\"},{\"attributes\":{\"axis_label\":\"quality\",\"formatter\":{\"id\":\"0773a6dd-527b-4264-8a76-8dd45d418d98\",\"type\":\"BasicTickFormatter\"},\"plot\":{\"id\":\"260ac832-e52c-4b0b-8ca5-9a7fd9914fdd\",\"subtype\":\"Figure\",\"type\":\"Plot\"},\"ticker\":{\"id\":\"6d7f7d57-b306-44fb-8aea-ec33ab734243\",\"type\":\"BasicTicker\"}},\"id\":\"226d644d-4ffc-4342-907a-5afbebc894ea\",\"type\":\"LinearAxis\"},{\"attributes\":{},\"id\":\"dc5600fb-4b5c-4482-98c2-ef7c4551b96f\",\"type\":\"BasicTicker\"},{\"attributes\":{\"legends\":[[\"white\",[{\"id\":\"727a5147-ff70-4861-8386-151518bf207d\",\"type\":\"GlyphRenderer\"}]],[\"red\",[{\"id\":\"e0069f0e-4372-4c5d-894e-bda32da72e99\",\"type\":\"GlyphRenderer\"}]]],\"location\":\"top_left\",\"plot\":{\"id\":\"39269e26-b1e5-4f47-b29b-e8f2144097ce\",\"subtype\":\"Figure\",\"type\":\"Plot\"}},\"id\":\"7f31a0a3-0c46-441d-b345-a84422138415\",\"type\":\"Legend\"},{\"attributes\":{\"data_source\":{\"id\":\"8c6ba0eb-1498-40a5-8970-35e726551a14\",\"type\":\"ColumnDataSource\"},\"glyph\":{\"id\":\"b65ff508-17f7-493c-a13e-d512c742f175\",\"type\":\"Line\"},\"hover_glyph\":null,\"nonselection_glyph\":{\"id\":\"bd10ce53-1ba7-4ae4-95a9-1b36d4a69731\",\"type\":\"Line\"},\"selection_glyph\":null},\"id\":\"5ff52ab7-9eec-49f4-8a2d-5d6739adde01\",\"type\":\"GlyphRenderer\"},{\"attributes\":{\"data_source\":{\"id\":\"1710a102-b593-4b31-b429-20d6b6309813\",\"type\":\"ColumnDataSource\"},\"glyph\":{\"id\":\"46f2a513-2ac5-48a4-b384-7a785a2a4e1b\",\"type\":\"Line\"},\"hover_glyph\":null,\"nonselection_glyph\":{\"id\":\"59ba8f88-b61c-4f34-9dfd-a30bc7cd3115\",\"type\":\"Line\"},\"selection_glyph\":null},\"id\":\"9bf80f92-32d9-4b5d-b338-98394a594b59\",\"type\":\"GlyphRenderer\"},{\"attributes\":{\"active_drag\":\"auto\",\"active_scroll\":\"auto\",\"active_tap\":\"auto\",\"tools\":[{\"id\":\"7cd44e66-4e2c-4a82-b653-57897dc8e6e3\",\"type\":\"HoverTool\"},{\"id\":\"f521ffc9-335f-4bb0-abdb-c09827168d72\",\"type\":\"ResetTool\"},{\"id\":\"e64ad98d-ae18-484c-8ed4-dec4859204b1\",\"type\":\"CrosshairTool\"}]},\"id\":\"5f9dc85a-7655-48e3-8c2f-d8cc18f2c8ce\",\"type\":\"Toolbar\"},{\"attributes\":{\"data_source\":{\"id\":\"92021418-de06-4b09-a5e6-eb64bfe08a21\",\"type\":\"ColumnDataSource\"},\"glyph\":{\"id\":\"885478e9-f3ab-457b-b7c2-f45be3e59e6b\",\"type\":\"Line\"},\"hover_glyph\":null,\"nonselection_glyph\":{\"id\":\"da748600-34ae-4de8-95c2-72976d0add3b\",\"type\":\"Line\"},\"selection_glyph\":null},\"id\":\"332d0362-f3c3-4e0a-9ee6-0ae5e14994ba\",\"type\":\"GlyphRenderer\"},{\"attributes\":{},\"id\":\"15f872a6-ba57-4c24-be82-792366b017d5\",\"type\":\"BasicTicker\"},{\"attributes\":{\"plot\":{\"id\":\"79357921-85ec-40d8-848a-3796a38629bb\",\"subtype\":\"Figure\",\"type\":\"Plot\"},\"ticker\":{\"id\":\"afb0b6a7-03ce-4bf0-a88e-7bb83007c0e8\",\"type\":\"BasicTicker\"}},\"id\":\"3670ce4e-edd2-48dc-b9ec-716566bbbe2c\",\"type\":\"Grid\"},{\"attributes\":{\"dimension\":1,\"plot\":{\"id\":\"39269e26-b1e5-4f47-b29b-e8f2144097ce\",\"subtype\":\"Figure\",\"type\":\"Plot\"},\"ticker\":{\"id\":\"dc5600fb-4b5c-4482-98c2-ef7c4551b96f\",\"type\":\"BasicTicker\"}},\"id\":\"071010fb-b827-4681-bb1b-36abde0bd9f5\",\"type\":\"Grid\"},{\"attributes\":{\"line_alpha\":{\"value\":0.1},\"line_color\":{\"value\":\"#1f77b4\"},\"x\":{\"field\":\"x\"},\"y\":{\"field\":\"y\"}},\"id\":\"ad4f1c23-6cbd-44da-9fb8-6c110b67d576\",\"type\":\"Line\"},{\"attributes\":{\"callback\":null,\"column_names\":[\"x\",\"y\"],\"data\":{\"x\":[3.0,4.0,5.0,6.0,7.0,8.0,9.0],\"y\":[2.477194357366772,2.528854625550658,2.5777777777777775,2.6350000000000002,2.69433962264151,2.7206030150753793,\"NaN\"]}},\"id\":\"f177e605-a0df-48b3-ae4e-34cf5619344d\",\"type\":\"ColumnDataSource\"},{\"attributes\":{\"callback\":null,\"column_names\":[\"x\",\"y\"],\"data\":{\"x\":[3.0,4.0,5.0,6.0,7.0,8.0,9.0],\"y\":[4.119999999999999,4.628220858895707,5.186477272727271,5.671428571428572,6.392499999999999,6.4416060054595095,7.3349691146190725]}},\"id\":\"9a1d041e-d98a-4a3b-88a1-0f293606d577\",\"type\":\"ColumnDataSource\"},{\"attributes\":{\"callback\":null},\"id\":\"144d4698-d0c0-40bd-958b-2696c0c83979\",\"type\":\"DataRange1d\"},{\"attributes\":{\"callback\":null},\"id\":\"f729a0e9-b02d-440a-8b27-b8e91f259d58\",\"type\":\"DataRange1d\"},{\"attributes\":{\"line_color\":{\"value\":\"green\"},\"x\":{\"field\":\"x\"},\"y\":{\"field\":\"y\"}},\"id\":\"46f2a513-2ac5-48a4-b384-7a785a2a4e1b\",\"type\":\"Line\"},{\"attributes\":{},\"id\":\"6f18fac1-ffdd-40f1-8ae8-1f14de00f91b\",\"type\":\"BasicTicker\"},{\"attributes\":{\"plot\":{\"id\":\"79357921-85ec-40d8-848a-3796a38629bb\",\"subtype\":\"Figure\",\"type\":\"Plot\"}},\"id\":\"f521ffc9-335f-4bb0-abdb-c09827168d72\",\"type\":\"ResetTool\"},{\"attributes\":{\"line_color\":{\"value\":\"red\"},\"x\":{\"field\":\"x\"},\"y\":{\"field\":\"y\"}},\"id\":\"911eca5a-457f-4971-a3bf-18533151a50d\",\"type\":\"Line\"},{\"attributes\":{\"plot\":{\"id\":\"260ac832-e52c-4b0b-8ca5-9a7fd9914fdd\",\"subtype\":\"Figure\",\"type\":\"Plot\"}},\"id\":\"15c3a97c-cee2-4736-8885-43868922cc93\",\"type\":\"ResetTool\"},{\"attributes\":{\"data_source\":{\"id\":\"1807b128-5a03-48e0-959a-4da24e022dc3\",\"type\":\"ColumnDataSource\"},\"glyph\":{\"id\":\"911eca5a-457f-4971-a3bf-18533151a50d\",\"type\":\"Line\"},\"hover_glyph\":null,\"nonselection_glyph\":{\"id\":\"123b1e7d-d9f7-4d9f-b7d3-4f5c189a791d\",\"type\":\"Line\"},\"selection_glyph\":null},\"id\":\"b30a1763-5eeb-434b-a34d-1dd633d701f2\",\"type\":\"GlyphRenderer\"},{\"attributes\":{\"axis_label\":\"citric acid\",\"formatter\":{\"id\":\"c9f3a49a-c8eb-49a6-8ba3-60a2c3bdf861\",\"type\":\"BasicTickFormatter\"},\"plot\":{\"id\":\"f8e3188e-a3f0-4366-9952-e7d8ba69be2e\",\"subtype\":\"Figure\",\"type\":\"Plot\"},\"ticker\":{\"id\":\"15f872a6-ba57-4c24-be82-792366b017d5\",\"type\":\"BasicTicker\"}},\"id\":\"50cf2dfd-0679-4c8f-a67b-71dbe36d93d0\",\"type\":\"LinearAxis\"},{\"attributes\":{\"data_source\":{\"id\":\"2a56d465-59a7-4145-b555-d9a8fcb01a75\",\"type\":\"ColumnDataSource\"},\"glyph\":{\"id\":\"44e4afab-0709-42ab-96f5-5e8f40f39cf2\",\"type\":\"Line\"},\"hover_glyph\":null,\"nonselection_glyph\":{\"id\":\"f9e3ceae-9730-4f36-a3b3-fbdcbf011657\",\"type\":\"Line\"},\"selection_glyph\":null},\"id\":\"1be07a40-8f80-4477-9b04-e74abdc1de57\",\"type\":\"GlyphRenderer\"},{\"attributes\":{\"below\":[{\"id\":\"d15e52c6-1110-4312-b5ad-bcc3f7e4a975\",\"type\":\"LinearAxis\"}],\"left\":[{\"id\":\"0564ed44-42d5-48a6-a994-1ce6eb740a07\",\"type\":\"LinearAxis\"}],\"plot_height\":300,\"plot_width\":300,\"renderers\":[{\"id\":\"d15e52c6-1110-4312-b5ad-bcc3f7e4a975\",\"type\":\"LinearAxis\"},{\"id\":\"f21ea7b1-c9e0-4b60-8223-ca3faefe9c08\",\"type\":\"Grid\"},{\"id\":\"0564ed44-42d5-48a6-a994-1ce6eb740a07\",\"type\":\"LinearAxis\"},{\"id\":\"a5dc60e0-9902-4374-b9bd-edf6be171e71\",\"type\":\"Grid\"},{\"id\":\"96506b99-725d-4600-9891-19137bbd2264\",\"type\":\"Legend\"},{\"id\":\"9bf80f92-32d9-4b5d-b338-98394a594b59\",\"type\":\"GlyphRenderer\"},{\"id\":\"1ff24c54-7af3-43bd-93dc-257b2aab8cdd\",\"type\":\"GlyphRenderer\"}],\"title\":{\"id\":\"5ea479fe-980a-4098-bba0-98f0ac217112\",\"type\":\"Title\"},\"tool_events\":{\"id\":\"468fb4d9-a6b7-4330-95bc-fcc7501f032e\",\"type\":\"ToolEvents\"},\"toolbar\":{\"id\":\"ee0f1332-1ab8-4505-bc89-d88770a896d4\",\"type\":\"Toolbar\"},\"toolbar_location\":null,\"x_range\":{\"id\":\"41901369-a292-4a01-b968-662e55c4a119\",\"type\":\"DataRange1d\"},\"y_range\":{\"id\":\"6a106f03-b682-4c23-a524-863d407eab9d\",\"type\":\"DataRange1d\"}},\"id\":\"f054e68c-5c0c-412d-a894-b12e36d9154e\",\"subtype\":\"Figure\",\"type\":\"Plot\"},{\"attributes\":{\"axis_label\":\"quality\",\"formatter\":{\"id\":\"334376a7-8bf9-4531-939c-010b76a5f221\",\"type\":\"BasicTickFormatter\"},\"plot\":{\"id\":\"39269e26-b1e5-4f47-b29b-e8f2144097ce\",\"subtype\":\"Figure\",\"type\":\"Plot\"},\"ticker\":{\"id\":\"126e4087-1c29-4671-8a9d-0c41336a2fd8\",\"type\":\"BasicTicker\"}},\"id\":\"dd54c90c-bedd-434b-a627-01b6a7950136\",\"type\":\"LinearAxis\"},{\"attributes\":{\"line_alpha\":{\"value\":0.1},\"line_color\":{\"value\":\"#1f77b4\"},\"x\":{\"field\":\"x\"},\"y\":{\"field\":\"y\"}},\"id\":\"8d37bea8-f286-402e-92c8-9f24f019ecdd\",\"type\":\"Line\"},{\"attributes\":{\"plot\":null,\"text\":\"mean volatile acidity vs. quality\"},\"id\":\"0efaf734-90f1-480e-85ad-ad47b7552f4b\",\"type\":\"Title\"},{\"attributes\":{\"axis_label\":\"quality\",\"formatter\":{\"id\":\"da2a98e7-353d-4aa7-867d-13fe27c3f834\",\"type\":\"BasicTickFormatter\"},\"plot\":{\"id\":\"79357921-85ec-40d8-848a-3796a38629bb\",\"subtype\":\"Figure\",\"type\":\"Plot\"},\"ticker\":{\"id\":\"afb0b6a7-03ce-4bf0-a88e-7bb83007c0e8\",\"type\":\"BasicTicker\"}},\"id\":\"397fb326-218d-4a37-8499-db9aff321c04\",\"type\":\"LinearAxis\"},{\"attributes\":{},\"id\":\"27f42bcd-d016-44ef-9b48-c35ef143f7eb\",\"type\":\"BasicTickFormatter\"},{\"attributes\":{\"callback\":null,\"column_names\":[\"x\",\"y\"],\"data\":{\"x\":[3.0,4.0,5.0,6.0,7.0,8.0,9.0],\"y\":[7.779245283018868,8.167254038179149,8.347178683385575,8.36,8.566666666666665,8.872361809045225,\"NaN\"]}},\"id\":\"59ebef78-6f63-4aa0-90b5-67a0dc0e71e6\",\"type\":\"ColumnDataSource\"},{\"attributes\":{\"callback\":null,\"column_names\":[\"x\",\"y\"],\"data\":{\"x\":[3.0,4.0,5.0,6.0,7.0,8.0,9.0],\"y\":[0.06844444444444445,0.07658793969849244,0.08495611285266458,0.09067924528301885,0.09273568281938328,0.12250000000000001,\"NaN\"]}},\"id\":\"92021418-de06-4b09-a5e6-eb64bfe08a21\",\"type\":\"ColumnDataSource\"},{\"attributes\":{\"callback\":null},\"id\":\"270ef824-7897-4f5c-8d10-82f5308ea378\",\"type\":\"DataRange1d\"},{\"attributes\":{\"callback\":null,\"column_names\":[\"x\",\"y\"],\"data\":{\"x\":[3.0,4.0,5.0,6.0,7.0,8.0,9.0],\"y\":[0.0274,0.0381909090909091,0.03831428571428572,0.04521747042766181,0.05009815950920243,0.0515463280713795,0.054300000000000015]}},\"id\":\"2a56d465-59a7-4145-b555-d9a8fcb01a75\",\"type\":\"ColumnDataSource\"},{\"attributes\":{},\"id\":\"afb0b6a7-03ce-4bf0-a88e-7bb83007c0e8\",\"type\":\"BasicTicker\"},{\"attributes\":{\"callback\":null,\"column_names\":[\"x\",\"y\"],\"data\":{\"x\":[3.0,4.0,5.0,6.0,7.0,8.0,9.0],\"y\":[0.17099999999999999,0.1741509433962264,0.24368575624082198,0.2738244514106587,0.37517587939698493,0.39111111111111113,\"NaN\"]}},\"id\":\"1807b128-5a03-48e0-959a-4da24e022dc3\",\"type\":\"ColumnDataSource\"},{\"attributes\":{\"callback\":null},\"id\":\"563212f1-03ae-41fb-9cde-0c8a37f81a83\",\"type\":\"DataRange1d\"},{\"attributes\":{},\"id\":\"6d7f7d57-b306-44fb-8aea-ec33ab734243\",\"type\":\"BasicTicker\"},{\"attributes\":{\"data_source\":{\"id\":\"f489b1bf-0d6f-4496-ad82-e6a4abc1663f\",\"type\":\"ColumnDataSource\"},\"glyph\":{\"id\":\"81897acd-fb45-4069-a80b-3eab5aa5db8c\",\"type\":\"Line\"},\"hover_glyph\":null,\"nonselection_glyph\":{\"id\":\"8e442085-2120-4b9f-acdc-ac45b0439c08\",\"type\":\"Line\"},\"selection_glyph\":null},\"id\":\"727a5147-ff70-4861-8386-151518bf207d\",\"type\":\"GlyphRenderer\"},{\"attributes\":{\"callback\":null,\"column_names\":[\"x\",\"y\"],\"data\":{\"x\":[3.0,4.0,5.0,6.0,7.0,8.0,9.0],\"y\":[11.0,12.264150943396226,13.277777777777779,14.045226130653266,15.711598746081505,16.983847283406753,\"NaN\"]}},\"id\":\"cfd6a3fd-5f20-4026-8680-ee22425a5695\",\"type\":\"ColumnDataSource\"},{\"attributes\":{},\"id\":\"8ec7727a-bde0-46d2-8d87-9a7e8420c8e0\",\"type\":\"BasicTickFormatter\"},{\"attributes\":{\"callback\":null},\"id\":\"41901369-a292-4a01-b968-662e55c4a119\",\"type\":\"DataRange1d\"},{\"attributes\":{\"active_drag\":\"auto\",\"active_scroll\":\"auto\",\"active_tap\":\"auto\",\"tools\":[{\"id\":\"adae682f-61c5-4103-aab2-8c1ef3a10694\",\"type\":\"HoverTool\"},{\"id\":\"9fba1859-0f42-4709-989c-1032ffd5447c\",\"type\":\"ResetTool\"},{\"id\":\"c5d135e5-a92e-46e6-bf53-c3d9c0df1377\",\"type\":\"CrosshairTool\"}]},\"id\":\"ee0f1332-1ab8-4505-bc89-d88770a896d4\",\"type\":\"Toolbar\"},{\"attributes\":{\"plot\":{\"id\":\"260ac832-e52c-4b0b-8ca5-9a7fd9914fdd\",\"subtype\":\"Figure\",\"type\":\"Plot\"},\"ticker\":{\"id\":\"6d7f7d57-b306-44fb-8aea-ec33ab734243\",\"type\":\"BasicTicker\"}},\"id\":\"effc3b3a-00aa-4fcd-b880-e32278a4e379\",\"type\":\"Grid\"},{\"attributes\":{},\"id\":\"da2a98e7-353d-4aa7-867d-13fe27c3f834\",\"type\":\"BasicTickFormatter\"},{\"attributes\":{\"children\":[{\"id\":\"a5c3b741-afc0-4309-b8f6-d49f4110fa7a\",\"type\":\"Row\"},{\"id\":\"8fafa046-2d64-4ee9-9da5-15766ee0f7a8\",\"type\":\"Row\"}]},\"id\":\"bd6c3ba1-3acd-4543-b4a7-6b635f41bd8b\",\"type\":\"Column\"},{\"attributes\":{\"plot\":{\"id\":\"f8e3188e-a3f0-4366-9952-e7d8ba69be2e\",\"subtype\":\"Figure\",\"type\":\"Plot\"}},\"id\":\"e784c0bd-0a81-433c-b084-fce3fd44ff4f\",\"type\":\"CrosshairTool\"},{\"attributes\":{\"callback\":null,\"column_names\":[\"x\",\"y\"],\"data\":{\"x\":[3.0,4.0,5.0,6.0,7.0,8.0,9.0],\"y\":[23.358895705521473,33.4,34.12556818181818,35.65059144676979,36.432052161976664,36.72,53.325]}},\"id\":\"1710a102-b593-4b31-b429-20d6b6309813\",\"type\":\"ColumnDataSource\"},{\"attributes\":{\"children\":[{\"id\":\"24fabb82-966e-4a82-8a64-b3e025390258\",\"type\":\"ToolbarBox\"},{\"id\":\"bd6c3ba1-3acd-4543-b4a7-6b635f41bd8b\",\"type\":\"Column\"}]},\"id\":\"15a7ecf6-e4f5-4290-b21e-edd9e8a2c047\",\"type\":\"Column\"},{\"attributes\":{\"callback\":null},\"id\":\"211aac75-bc64-4c6e-870d-054d516f08f4\",\"type\":\"DataRange1d\"},{\"attributes\":{},\"id\":\"4b4d7d02-ab8c-4b7b-a348-4a6d973ba005\",\"type\":\"ToolEvents\"},{\"attributes\":{},\"id\":\"88b79e5d-344c-4f7b-ad5e-9a8e8d8c5e85\",\"type\":\"ToolEvents\"},{\"attributes\":{\"axis_label\":\"residual sugar\",\"formatter\":{\"id\":\"d6baacd5-cf34-4c03-be4e-ba15e53adab6\",\"type\":\"BasicTickFormatter\"},\"plot\":{\"id\":\"260ac832-e52c-4b0b-8ca5-9a7fd9914fdd\",\"subtype\":\"Figure\",\"type\":\"Plot\"},\"ticker\":{\"id\":\"677b4fb2-f95b-48db-b73e-ffac70ea5c3c\",\"type\":\"BasicTicker\"}},\"id\":\"65c831d4-c985-4d47-a8e4-0c057b1197c3\",\"type\":\"LinearAxis\"},{\"attributes\":{\"dimension\":1,\"plot\":{\"id\":\"f8e3188e-a3f0-4366-9952-e7d8ba69be2e\",\"subtype\":\"Figure\",\"type\":\"Plot\"},\"ticker\":{\"id\":\"15f872a6-ba57-4c24-be82-792366b017d5\",\"type\":\"BasicTicker\"}},\"id\":\"c55321d6-b114-4fde-abf3-44091dfdcc8d\",\"type\":\"Grid\"},{\"attributes\":{\"callback\":null,\"plot\":{\"id\":\"94f346b5-d93f-46c1-a6bd-933349b2e126\",\"subtype\":\"Figure\",\"type\":\"Plot\"}},\"id\":\"6393a9cd-ace9-40da-a902-e7f0313bf88c\",\"type\":\"HoverTool\"},{\"attributes\":{\"callback\":null,\"column_names\":[\"x\",\"y\"],\"data\":{\"x\":[3.0,4.0,5.0,6.0,7.0,8.0,9.0],\"y\":[0.4039195979899498,0.4233333333333334,0.49748432601880965,0.5770411160058732,0.6939622641509429,0.8845000000000001,\"NaN\"]}},\"id\":\"4089d38b-c9d5-4db1-9e90-4da45e93c5e1\",\"type\":\"ColumnDataSource\"},{\"attributes\":{\"line_alpha\":{\"value\":0.1},\"line_color\":{\"value\":\"#1f77b4\"},\"x\":{\"field\":\"x\"},\"y\":{\"field\":\"y\"}},\"id\":\"846f81b8-1f26-4eb4-93d6-4cb40c75ca9d\",\"type\":\"Line\"},{\"attributes\":{\"line_alpha\":{\"value\":0.1},\"line_color\":{\"value\":\"#1f77b4\"},\"x\":{\"field\":\"x\"},\"y\":{\"field\":\"y\"}},\"id\":\"f9e3ceae-9730-4f36-a3b3-fbdcbf011657\",\"type\":\"Line\"},{\"attributes\":{\"active_drag\":\"auto\",\"active_scroll\":\"auto\",\"active_tap\":\"auto\",\"tools\":[{\"id\":\"6393a9cd-ace9-40da-a902-e7f0313bf88c\",\"type\":\"HoverTool\"},{\"id\":\"56d5e2ee-46c1-42a2-91b9-7531836aa4aa\",\"type\":\"ResetTool\"},{\"id\":\"53d18778-3bd4-42f6-b840-e6acf0ca65d4\",\"type\":\"CrosshairTool\"}]},\"id\":\"657149b0-f48d-4a45-be43-1a96a82a2855\",\"type\":\"Toolbar\"},{\"attributes\":{\"data_source\":{\"id\":\"4089d38b-c9d5-4db1-9e90-4da45e93c5e1\",\"type\":\"ColumnDataSource\"},\"glyph\":{\"id\":\"4426aec5-6e34-46b7-804c-097015bd07de\",\"type\":\"Line\"},\"hover_glyph\":null,\"nonselection_glyph\":{\"id\":\"23f1570b-c37a-4e4a-a661-2f80df8491ef\",\"type\":\"Line\"},\"selection_glyph\":null},\"id\":\"dc5fedbd-ccf7-4420-beca-b56336b0624f\",\"type\":\"GlyphRenderer\"},{\"attributes\":{\"dimension\":1,\"plot\":{\"id\":\"79357921-85ec-40d8-848a-3796a38629bb\",\"subtype\":\"Figure\",\"type\":\"Plot\"},\"ticker\":{\"id\":\"6f18fac1-ffdd-40f1-8ae8-1f14de00f91b\",\"type\":\"BasicTicker\"}},\"id\":\"83f914b4-931c-464c-b984-840fe4fb4938\",\"type\":\"Grid\"},{\"attributes\":{\"plot\":null,\"text\":\"mean fixed acidity vs. quality\"},\"id\":\"685f6448-ded1-45e2-87e4-4f7b23c0b37e\",\"type\":\"Title\"},{\"attributes\":{\"callback\":null,\"plot\":{\"id\":\"f8e3188e-a3f0-4366-9952-e7d8ba69be2e\",\"subtype\":\"Figure\",\"type\":\"Plot\"}},\"id\":\"08ab7851-1cad-4325-9c58-8e80e420bc16\",\"type\":\"HoverTool\"},{\"attributes\":{\"plot\":null,\"text\":\"mean chlorides vs. quality\"},\"id\":\"66c3c2e8-1913-45cd-877d-448dceefe857\",\"type\":\"Title\"},{\"attributes\":{\"plot\":{\"id\":\"f8e3188e-a3f0-4366-9952-e7d8ba69be2e\",\"subtype\":\"Figure\",\"type\":\"Plot\"}},\"id\":\"bff872e8-2476-4821-b251-4f8c3a544a59\",\"type\":\"ResetTool\"},{\"attributes\":{\"legends\":[[\"white\",[{\"id\":\"1be07a40-8f80-4477-9b04-e74abdc1de57\",\"type\":\"GlyphRenderer\"}]],[\"red\",[{\"id\":\"332d0362-f3c3-4e0a-9ee6-0ae5e14994ba\",\"type\":\"GlyphRenderer\"}]]],\"location\":\"top_left\",\"plot\":{\"id\":\"79357921-85ec-40d8-848a-3796a38629bb\",\"subtype\":\"Figure\",\"type\":\"Plot\"}},\"id\":\"d9ee7e9c-5a04-49a4-840c-80bb0e66fa3f\",\"type\":\"Legend\"},{\"attributes\":{\"active_drag\":\"auto\",\"active_scroll\":\"auto\",\"active_tap\":\"auto\",\"tools\":[{\"id\":\"a5365a7c-9351-483c-af4d-9cc574fa0d9c\",\"type\":\"HoverTool\"},{\"id\":\"15c3a97c-cee2-4736-8885-43868922cc93\",\"type\":\"ResetTool\"},{\"id\":\"23398c66-b12c-4e58-907a-3626b8bb9928\",\"type\":\"CrosshairTool\"}]},\"id\":\"b5def5de-e9f5-48eb-b650-bb5103613913\",\"type\":\"Toolbar\"},{\"attributes\":{\"active_drag\":\"auto\",\"active_scroll\":\"auto\",\"active_tap\":\"auto\",\"tools\":[{\"id\":\"08ab7851-1cad-4325-9c58-8e80e420bc16\",\"type\":\"HoverTool\"},{\"id\":\"bff872e8-2476-4821-b251-4f8c3a544a59\",\"type\":\"ResetTool\"},{\"id\":\"e784c0bd-0a81-433c-b084-fce3fd44ff4f\",\"type\":\"CrosshairTool\"}]},\"id\":\"782795cc-43d6-4fb4-b0ac-ae14c16a0055\",\"type\":\"Toolbar\"},{\"attributes\":{\"callback\":null},\"id\":\"49103fbd-7fee-43f1-8a6d-d88f37cb6600\",\"type\":\"DataRange1d\"},{\"attributes\":{\"data_source\":{\"id\":\"9a1d041e-d98a-4a3b-88a1-0f293606d577\",\"type\":\"ColumnDataSource\"},\"glyph\":{\"id\":\"fcc4f86d-6fb2-4f01-9e66-2cc86d2d0ac6\",\"type\":\"Line\"},\"hover_glyph\":null,\"nonselection_glyph\":{\"id\":\"8d37bea8-f286-402e-92c8-9f24f019ecdd\",\"type\":\"Line\"},\"selection_glyph\":null},\"id\":\"c20e8823-543c-4a86-bafa-2a652557bcb2\",\"type\":\"GlyphRenderer\"},{\"attributes\":{\"line_color\":{\"value\":\"green\"},\"x\":{\"field\":\"x\"},\"y\":{\"field\":\"y\"}},\"id\":\"9cee917a-0dc6-4119-ad66-cf90e9c1c048\",\"type\":\"Line\"},{\"attributes\":{\"plot\":{\"id\":\"94f346b5-d93f-46c1-a6bd-933349b2e126\",\"subtype\":\"Figure\",\"type\":\"Plot\"}},\"id\":\"56d5e2ee-46c1-42a2-91b9-7531836aa4aa\",\"type\":\"ResetTool\"},{\"attributes\":{\"data_source\":{\"id\":\"59ebef78-6f63-4aa0-90b5-67a0dc0e71e6\",\"type\":\"ColumnDataSource\"},\"glyph\":{\"id\":\"ea092acf-0b54-4a0f-9949-8d2c7be31984\",\"type\":\"Line\"},\"hover_glyph\":null,\"nonselection_glyph\":{\"id\":\"ad4f1c23-6cbd-44da-9fb8-6c110b67d576\",\"type\":\"Line\"},\"selection_glyph\":null},\"id\":\"e0069f0e-4372-4c5d-894e-bda32da72e99\",\"type\":\"GlyphRenderer\"},{\"attributes\":{\"line_alpha\":{\"value\":0.1},\"line_color\":{\"value\":\"#1f77b4\"},\"x\":{\"field\":\"x\"},\"y\":{\"field\":\"y\"}},\"id\":\"859d6711-c8b4-47fc-b4ef-061f2fa65474\",\"type\":\"Line\"},{\"attributes\":{},\"id\":\"d8da4f84-d9a7-4657-99dd-25c887be54f8\",\"type\":\"BasicTickFormatter\"},{\"attributes\":{\"below\":[{\"id\":\"226d644d-4ffc-4342-907a-5afbebc894ea\",\"type\":\"LinearAxis\"}],\"left\":[{\"id\":\"65c831d4-c985-4d47-a8e4-0c057b1197c3\",\"type\":\"LinearAxis\"}],\"plot_height\":300,\"plot_width\":300,\"renderers\":[{\"id\":\"226d644d-4ffc-4342-907a-5afbebc894ea\",\"type\":\"LinearAxis\"},{\"id\":\"effc3b3a-00aa-4fcd-b880-e32278a4e379\",\"type\":\"Grid\"},{\"id\":\"65c831d4-c985-4d47-a8e4-0c057b1197c3\",\"type\":\"LinearAxis\"},{\"id\":\"8de986b8-6b09-42de-a486-abf61d3abe14\",\"type\":\"Grid\"},{\"id\":\"b1f4ded4-3078-42cf-ab56-ef0681faed05\",\"type\":\"Legend\"},{\"id\":\"c20e8823-543c-4a86-bafa-2a652557bcb2\",\"type\":\"GlyphRenderer\"},{\"id\":\"c96f2c97-0bff-4fca-8e3c-d4962dd4f285\",\"type\":\"GlyphRenderer\"}],\"title\":{\"id\":\"a15eab2b-5920-4199-bfd5-c39ef0b6efaf\",\"type\":\"Title\"},\"tool_events\":{\"id\":\"8da12623-9260-4ac5-b177-6f9b86e83b94\",\"type\":\"ToolEvents\"},\"toolbar\":{\"id\":\"b5def5de-e9f5-48eb-b650-bb5103613913\",\"type\":\"Toolbar\"},\"toolbar_location\":null,\"x_range\":{\"id\":\"563212f1-03ae-41fb-9cde-0c8a37f81a83\",\"type\":\"DataRange1d\"},\"y_range\":{\"id\":\"211aac75-bc64-4c6e-870d-054d516f08f4\",\"type\":\"DataRange1d\"}},\"id\":\"260ac832-e52c-4b0b-8ca5-9a7fd9914fdd\",\"subtype\":\"Figure\",\"type\":\"Plot\"},{\"attributes\":{},\"id\":\"468fb4d9-a6b7-4330-95bc-fcc7501f032e\",\"type\":\"ToolEvents\"},{\"attributes\":{\"callback\":null,\"plot\":{\"id\":\"79357921-85ec-40d8-848a-3796a38629bb\",\"subtype\":\"Figure\",\"type\":\"Plot\"}},\"id\":\"7cd44e66-4e2c-4a82-b653-57897dc8e6e3\",\"type\":\"HoverTool\"},{\"attributes\":{\"legends\":[[\"white\",[{\"id\":\"1619689e-f18c-4e13-917e-6d3aed26acb5\",\"type\":\"GlyphRenderer\"}]],[\"red\",[{\"id\":\"dc5fedbd-ccf7-4420-beca-b56336b0624f\",\"type\":\"GlyphRenderer\"}]]],\"location\":\"top_left\",\"plot\":{\"id\":\"94f346b5-d93f-46c1-a6bd-933349b2e126\",\"subtype\":\"Figure\",\"type\":\"Plot\"}},\"id\":\"bab235e6-8ad9-4236-a58c-6560f80443fe\",\"type\":\"Legend\"},{\"attributes\":{\"legends\":[[\"white\",[{\"id\":\"c20e8823-543c-4a86-bafa-2a652557bcb2\",\"type\":\"GlyphRenderer\"}]],[\"red\",[{\"id\":\"c96f2c97-0bff-4fca-8e3c-d4962dd4f285\",\"type\":\"GlyphRenderer\"}]]],\"location\":\"top_left\",\"plot\":{\"id\":\"260ac832-e52c-4b0b-8ca5-9a7fd9914fdd\",\"subtype\":\"Figure\",\"type\":\"Plot\"}},\"id\":\"b1f4ded4-3078-42cf-ab56-ef0681faed05\",\"type\":\"Legend\"},{\"attributes\":{\"callback\":null,\"plot\":{\"id\":\"260ac832-e52c-4b0b-8ca5-9a7fd9914fdd\",\"subtype\":\"Figure\",\"type\":\"Plot\"}},\"id\":\"a5365a7c-9351-483c-af4d-9cc574fa0d9c\",\"type\":\"HoverTool\"},{\"attributes\":{\"line_alpha\":{\"value\":0.1},\"line_color\":{\"value\":\"#1f77b4\"},\"x\":{\"field\":\"x\"},\"y\":{\"field\":\"y\"}},\"id\":\"8e442085-2120-4b9f-acdc-ac45b0439c08\",\"type\":\"Line\"},{\"attributes\":{\"callback\":null,\"plot\":{\"id\":\"39269e26-b1e5-4f47-b29b-e8f2144097ce\",\"subtype\":\"Figure\",\"type\":\"Plot\"}},\"id\":\"8f70bb23-3412-4aed-aedc-cd48fbbe5641\",\"type\":\"HoverTool\"},{\"attributes\":{\"callback\":null,\"column_names\":[\"x\",\"y\"],\"data\":{\"x\":[3.0,4.0,5.0,6.0,7.0,8.0,9.0],\"y\":[0.3042331288343557,0.3256250000000004,0.3265142857142858,0.33599999999999997,0.33765271105010347,0.33802547770700614,0.386]}},\"id\":\"8c6ba0eb-1498-40a5-8970-35e726551a14\",\"type\":\"ColumnDataSource\"},{\"attributes\":{\"plot\":{\"id\":\"94f346b5-d93f-46c1-a6bd-933349b2e126\",\"subtype\":\"Figure\",\"type\":\"Plot\"}},\"id\":\"53d18778-3bd4-42f6-b840-e6acf0ca65d4\",\"type\":\"CrosshairTool\"},{\"attributes\":{\"callback\":null},\"id\":\"7106e21c-05f5-45f4-9dd5-2a86d104b3b2\",\"type\":\"DataRange1d\"},{\"attributes\":{\"plot\":null,\"text\":\"mean free sulfur dioxide vs. quality\"},\"id\":\"5ea479fe-980a-4098-bba0-98f0ac217112\",\"type\":\"Title\"},{\"attributes\":{\"plot\":{\"id\":\"260ac832-e52c-4b0b-8ca5-9a7fd9914fdd\",\"subtype\":\"Figure\",\"type\":\"Plot\"}},\"id\":\"23398c66-b12c-4e58-907a-3626b8bb9928\",\"type\":\"CrosshairTool\"},{\"attributes\":{\"plot\":{\"id\":\"f054e68c-5c0c-412d-a894-b12e36d9154e\",\"subtype\":\"Figure\",\"type\":\"Plot\"},\"ticker\":{\"id\":\"0b3bd347-1991-480f-9350-ae288e3aae5b\",\"type\":\"BasicTicker\"}},\"id\":\"f21ea7b1-c9e0-4b60-8223-ca3faefe9c08\",\"type\":\"Grid\"},{\"attributes\":{},\"id\":\"3ae4a41e-beaa-4e82-8e11-17fd42baf7a7\",\"type\":\"BasicTicker\"},{\"attributes\":{\"callback\":null,\"column_names\":[\"x\",\"y\"],\"data\":{\"x\":[3.0,4.0,5.0,6.0,7.0,8.0,9.0],\"y\":[0.2605641492265695,0.26276704545454554,0.27739999999999976,0.298,0.30201098146877126,0.3332500000000001,0.381226993865031]}},\"id\":\"93295f44-4928-4817-965e-40a0126560e8\",\"type\":\"ColumnDataSource\"},{\"attributes\":{\"line_alpha\":{\"value\":0.1},\"line_color\":{\"value\":\"#1f77b4\"},\"x\":{\"field\":\"x\"},\"y\":{\"field\":\"y\"}},\"id\":\"338531e5-e3a3-438f-a777-7924c9c29c9d\",\"type\":\"Line\"},{\"attributes\":{},\"id\":\"126e4087-1c29-4671-8a9d-0c41336a2fd8\",\"type\":\"BasicTicker\"},{\"attributes\":{\"callback\":null},\"id\":\"7d52e720-7914-4730-952a-82d443641c5a\",\"type\":\"DataRange1d\"},{\"attributes\":{\"plot\":{\"id\":\"79357921-85ec-40d8-848a-3796a38629bb\",\"subtype\":\"Figure\",\"type\":\"Plot\"}},\"id\":\"e64ad98d-ae18-484c-8ed4-dec4859204b1\",\"type\":\"CrosshairTool\"},{\"attributes\":{\"line_alpha\":{\"value\":0.1},\"line_color\":{\"value\":\"#1f77b4\"},\"x\":{\"field\":\"x\"},\"y\":{\"field\":\"y\"}},\"id\":\"59ba8f88-b61c-4f34-9dfd-a30bc7cd3115\",\"type\":\"Line\"},{\"attributes\":{},\"id\":\"b25edf43-214d-4cf4-97b2-6522ab9a44e1\",\"type\":\"ToolEvents\"},{\"attributes\":{\"axis_label\":\"quality\",\"formatter\":{\"id\":\"27f42bcd-d016-44ef-9b48-c35ef143f7eb\",\"type\":\"BasicTickFormatter\"},\"plot\":{\"id\":\"f054e68c-5c0c-412d-a894-b12e36d9154e\",\"subtype\":\"Figure\",\"type\":\"Plot\"},\"ticker\":{\"id\":\"0b3bd347-1991-480f-9350-ae288e3aae5b\",\"type\":\"BasicTicker\"}},\"id\":\"d15e52c6-1110-4312-b5ad-bcc3f7e4a975\",\"type\":\"LinearAxis\"},{\"attributes\":{\"plot\":{\"id\":\"39269e26-b1e5-4f47-b29b-e8f2144097ce\",\"subtype\":\"Figure\",\"type\":\"Plot\"}},\"id\":\"65c4032a-ceda-467f-a865-402b8f47e0d8\",\"type\":\"ResetTool\"},{\"attributes\":{\"plot\":{\"id\":\"94f346b5-d93f-46c1-a6bd-933349b2e126\",\"subtype\":\"Figure\",\"type\":\"Plot\"},\"ticker\":{\"id\":\"3ae4a41e-beaa-4e82-8e11-17fd42baf7a7\",\"type\":\"BasicTicker\"}},\"id\":\"f46058c3-fe20-410e-9c15-6a15499468fc\",\"type\":\"Grid\"},{\"attributes\":{\"plot\":{\"id\":\"39269e26-b1e5-4f47-b29b-e8f2144097ce\",\"subtype\":\"Figure\",\"type\":\"Plot\"},\"ticker\":{\"id\":\"126e4087-1c29-4671-8a9d-0c41336a2fd8\",\"type\":\"BasicTicker\"}},\"id\":\"9ca14938-81d2-4fee-abd7-60de96446564\",\"type\":\"Grid\"},{\"attributes\":{},\"id\":\"c9f3a49a-c8eb-49a6-8ba3-60a2c3bdf861\",\"type\":\"BasicTickFormatter\"},{\"attributes\":{\"axis_label\":\"free sulfur dioxide\",\"formatter\":{\"id\":\"faed78b0-a0ee-4ebb-8e52-61259623afee\",\"type\":\"BasicTickFormatter\"},\"plot\":{\"id\":\"f054e68c-5c0c-412d-a894-b12e36d9154e\",\"subtype\":\"Figure\",\"type\":\"Plot\"},\"ticker\":{\"id\":\"93d75385-5beb-40bd-b240-49dc38027d78\",\"type\":\"BasicTicker\"}},\"id\":\"0564ed44-42d5-48a6-a994-1ce6eb740a07\",\"type\":\"LinearAxis\"},{\"attributes\":{\"below\":[{\"id\":\"397fb326-218d-4a37-8499-db9aff321c04\",\"type\":\"LinearAxis\"}],\"left\":[{\"id\":\"88d151cf-405f-47ab-85e9-da012c8ad00c\",\"type\":\"LinearAxis\"}],\"plot_height\":300,\"plot_width\":300,\"renderers\":[{\"id\":\"397fb326-218d-4a37-8499-db9aff321c04\",\"type\":\"LinearAxis\"},{\"id\":\"3670ce4e-edd2-48dc-b9ec-716566bbbe2c\",\"type\":\"Grid\"},{\"id\":\"88d151cf-405f-47ab-85e9-da012c8ad00c\",\"type\":\"LinearAxis\"},{\"id\":\"83f914b4-931c-464c-b984-840fe4fb4938\",\"type\":\"Grid\"},{\"id\":\"d9ee7e9c-5a04-49a4-840c-80bb0e66fa3f\",\"type\":\"Legend\"},{\"id\":\"1be07a40-8f80-4477-9b04-e74abdc1de57\",\"type\":\"GlyphRenderer\"},{\"id\":\"332d0362-f3c3-4e0a-9ee6-0ae5e14994ba\",\"type\":\"GlyphRenderer\"}],\"title\":{\"id\":\"66c3c2e8-1913-45cd-877d-448dceefe857\",\"type\":\"Title\"},\"tool_events\":{\"id\":\"88b79e5d-344c-4f7b-ad5e-9a8e8d8c5e85\",\"type\":\"ToolEvents\"},\"toolbar\":{\"id\":\"5f9dc85a-7655-48e3-8c2f-d8cc18f2c8ce\",\"type\":\"Toolbar\"},\"toolbar_location\":null,\"x_range\":{\"id\":\"270ef824-7897-4f5c-8d10-82f5308ea378\",\"type\":\"DataRange1d\"},\"y_range\":{\"id\":\"7106e21c-05f5-45f4-9dd5-2a86d104b3b2\",\"type\":\"DataRange1d\"}},\"id\":\"79357921-85ec-40d8-848a-3796a38629bb\",\"subtype\":\"Figure\",\"type\":\"Plot\"},{\"attributes\":{\"callback\":null},\"id\":\"6a106f03-b682-4c23-a524-863d407eab9d\",\"type\":\"DataRange1d\"},{\"attributes\":{},\"id\":\"0c4cf147-d370-47fe-be5c-0ea10f562d3f\",\"type\":\"BasicTicker\"},{\"attributes\":{\"dimension\":1,\"plot\":{\"id\":\"f054e68c-5c0c-412d-a894-b12e36d9154e\",\"subtype\":\"Figure\",\"type\":\"Plot\"},\"ticker\":{\"id\":\"93d75385-5beb-40bd-b240-49dc38027d78\",\"type\":\"BasicTicker\"}},\"id\":\"a5dc60e0-9902-4374-b9bd-edf6be171e71\",\"type\":\"Grid\"},{\"attributes\":{\"line_alpha\":{\"value\":0.1},\"line_color\":{\"value\":\"#1f77b4\"},\"x\":{\"field\":\"x\"},\"y\":{\"field\":\"y\"}},\"id\":\"bd10ce53-1ba7-4ae4-95a9-1b36d4a69731\",\"type\":\"Line\"},{\"attributes\":{\"axis_label\":\"quality\",\"formatter\":{\"id\":\"d8da4f84-d9a7-4657-99dd-25c887be54f8\",\"type\":\"BasicTickFormatter\"},\"plot\":{\"id\":\"f8e3188e-a3f0-4366-9952-e7d8ba69be2e\",\"subtype\":\"Figure\",\"type\":\"Plot\"},\"ticker\":{\"id\":\"0c4cf147-d370-47fe-be5c-0ea10f562d3f\",\"type\":\"BasicTicker\"}},\"id\":\"4901e538-243c-4f8d-8c84-00d9b78bbb4c\",\"type\":\"LinearAxis\"},{\"attributes\":{},\"id\":\"0b3bd347-1991-480f-9350-ae288e3aae5b\",\"type\":\"BasicTicker\"},{\"attributes\":{\"line_color\":{\"value\":\"red\"},\"x\":{\"field\":\"x\"},\"y\":{\"field\":\"y\"}},\"id\":\"4426aec5-6e34-46b7-804c-097015bd07de\",\"type\":\"Line\"},{\"attributes\":{},\"id\":\"677b4fb2-f95b-48db-b73e-ffac70ea5c3c\",\"type\":\"BasicTicker\"},{\"attributes\":{},\"id\":\"a3fb2a0d-237e-4895-937a-92b67d789dd4\",\"type\":\"BasicTickFormatter\"},{\"attributes\":{\"axis_label\":\"volatile acidity\",\"formatter\":{\"id\":\"3db699da-61b3-4dad-a07c-270144e4e124\",\"type\":\"BasicTickFormatter\"},\"plot\":{\"id\":\"94f346b5-d93f-46c1-a6bd-933349b2e126\",\"subtype\":\"Figure\",\"type\":\"Plot\"},\"ticker\":{\"id\":\"caf7af59-4240-4be4-8e9b-b5b950f7d1cc\",\"type\":\"BasicTicker\"}},\"id\":\"2a4e9666-0f71-4641-ad48-ec0f57ca87a4\",\"type\":\"LinearAxis\"},{\"attributes\":{},\"id\":\"93d75385-5beb-40bd-b240-49dc38027d78\",\"type\":\"BasicTicker\"},{\"attributes\":{\"callback\":null,\"plot\":{\"id\":\"f054e68c-5c0c-412d-a894-b12e36d9154e\",\"subtype\":\"Figure\",\"type\":\"Plot\"}},\"id\":\"adae682f-61c5-4103-aab2-8c1ef3a10694\",\"type\":\"HoverTool\"},{\"attributes\":{},\"id\":\"3f6ffb30-a8e8-41d3-986c-a58f5c2b6c30\",\"type\":\"BasicTickFormatter\"},{\"attributes\":{\"sizing_mode\":\"scale_width\",\"toolbar_location\":\"above\",\"tools\":[{\"id\":\"8f70bb23-3412-4aed-aedc-cd48fbbe5641\",\"type\":\"HoverTool\"},{\"id\":\"65c4032a-ceda-467f-a865-402b8f47e0d8\",\"type\":\"ResetTool\"},{\"id\":\"9829d6ce-db6e-4030-8725-0e264ffa042f\",\"type\":\"CrosshairTool\"},{\"id\":\"6393a9cd-ace9-40da-a902-e7f0313bf88c\",\"type\":\"HoverTool\"},{\"id\":\"56d5e2ee-46c1-42a2-91b9-7531836aa4aa\",\"type\":\"ResetTool\"},{\"id\":\"53d18778-3bd4-42f6-b840-e6acf0ca65d4\",\"type\":\"CrosshairTool\"},{\"id\":\"08ab7851-1cad-4325-9c58-8e80e420bc16\",\"type\":\"HoverTool\"},{\"id\":\"bff872e8-2476-4821-b251-4f8c3a544a59\",\"type\":\"ResetTool\"},{\"id\":\"e784c0bd-0a81-433c-b084-fce3fd44ff4f\",\"type\":\"CrosshairTool\"},{\"id\":\"a5365a7c-9351-483c-af4d-9cc574fa0d9c\",\"type\":\"HoverTool\"},{\"id\":\"15c3a97c-cee2-4736-8885-43868922cc93\",\"type\":\"ResetTool\"},{\"id\":\"23398c66-b12c-4e58-907a-3626b8bb9928\",\"type\":\"CrosshairTool\"},{\"id\":\"7cd44e66-4e2c-4a82-b653-57897dc8e6e3\",\"type\":\"HoverTool\"},{\"id\":\"f521ffc9-335f-4bb0-abdb-c09827168d72\",\"type\":\"ResetTool\"},{\"id\":\"e64ad98d-ae18-484c-8ed4-dec4859204b1\",\"type\":\"CrosshairTool\"},{\"id\":\"adae682f-61c5-4103-aab2-8c1ef3a10694\",\"type\":\"HoverTool\"},{\"id\":\"9fba1859-0f42-4709-989c-1032ffd5447c\",\"type\":\"ResetTool\"},{\"id\":\"c5d135e5-a92e-46e6-bf53-c3d9c0df1377\",\"type\":\"CrosshairTool\"}]},\"id\":\"24fabb82-966e-4a82-8a64-b3e025390258\",\"type\":\"ToolbarBox\"},{\"attributes\":{\"axis_label\":\"quality\",\"formatter\":{\"id\":\"3f6ffb30-a8e8-41d3-986c-a58f5c2b6c30\",\"type\":\"BasicTickFormatter\"},\"plot\":{\"id\":\"94f346b5-d93f-46c1-a6bd-933349b2e126\",\"subtype\":\"Figure\",\"type\":\"Plot\"},\"ticker\":{\"id\":\"3ae4a41e-beaa-4e82-8e11-17fd42baf7a7\",\"type\":\"BasicTicker\"}},\"id\":\"d896e035-c219-4357-a328-cb95f8d6ac09\",\"type\":\"LinearAxis\"},{\"attributes\":{},\"id\":\"caf7af59-4240-4be4-8e9b-b5b950f7d1cc\",\"type\":\"BasicTicker\"},{\"attributes\":{\"plot\":{\"id\":\"f054e68c-5c0c-412d-a894-b12e36d9154e\",\"subtype\":\"Figure\",\"type\":\"Plot\"}},\"id\":\"c5d135e5-a92e-46e6-bf53-c3d9c0df1377\",\"type\":\"CrosshairTool\"},{\"attributes\":{\"line_color\":{\"value\":\"red\"},\"x\":{\"field\":\"x\"},\"y\":{\"field\":\"y\"}},\"id\":\"91870833-fd62-4be4-bef8-145ded815554\",\"type\":\"Line\"},{\"attributes\":{\"axis_label\":\"chlorides\",\"formatter\":{\"id\":\"a3fb2a0d-237e-4895-937a-92b67d789dd4\",\"type\":\"BasicTickFormatter\"},\"plot\":{\"id\":\"79357921-85ec-40d8-848a-3796a38629bb\",\"subtype\":\"Figure\",\"type\":\"Plot\"},\"ticker\":{\"id\":\"6f18fac1-ffdd-40f1-8ae8-1f14de00f91b\",\"type\":\"BasicTicker\"}},\"id\":\"88d151cf-405f-47ab-85e9-da012c8ad00c\",\"type\":\"LinearAxis\"},{\"attributes\":{\"data_source\":{\"id\":\"f177e605-a0df-48b3-ae4e-34cf5619344d\",\"type\":\"ColumnDataSource\"},\"glyph\":{\"id\":\"91870833-fd62-4be4-bef8-145ded815554\",\"type\":\"Line\"},\"hover_glyph\":null,\"nonselection_glyph\":{\"id\":\"859d6711-c8b4-47fc-b4ef-061f2fa65474\",\"type\":\"Line\"},\"selection_glyph\":null},\"id\":\"c96f2c97-0bff-4fca-8e3c-d4962dd4f285\",\"type\":\"GlyphRenderer\"},{\"attributes\":{\"line_alpha\":{\"value\":0.1},\"line_color\":{\"value\":\"#1f77b4\"},\"x\":{\"field\":\"x\"},\"y\":{\"field\":\"y\"}},\"id\":\"23f1570b-c37a-4e4a-a661-2f80df8491ef\",\"type\":\"Line\"},{\"attributes\":{\"legends\":[[\"white\",[{\"id\":\"5ff52ab7-9eec-49f4-8a2d-5d6739adde01\",\"type\":\"GlyphRenderer\"}]],[\"red\",[{\"id\":\"b30a1763-5eeb-434b-a34d-1dd633d701f2\",\"type\":\"GlyphRenderer\"}]]],\"location\":\"top_left\",\"plot\":{\"id\":\"f8e3188e-a3f0-4366-9952-e7d8ba69be2e\",\"subtype\":\"Figure\",\"type\":\"Plot\"}},\"id\":\"bf3db290-476a-44af-a59f-3f776639e9f1\",\"type\":\"Legend\"},{\"attributes\":{\"below\":[{\"id\":\"dd54c90c-bedd-434b-a627-01b6a7950136\",\"type\":\"LinearAxis\"}],\"left\":[{\"id\":\"2f0f6400-7d7a-46fa-a361-21aa2f7ee3b8\",\"type\":\"LinearAxis\"}],\"plot_height\":300,\"plot_width\":300,\"renderers\":[{\"id\":\"dd54c90c-bedd-434b-a627-01b6a7950136\",\"type\":\"LinearAxis\"},{\"id\":\"9ca14938-81d2-4fee-abd7-60de96446564\",\"type\":\"Grid\"},{\"id\":\"2f0f6400-7d7a-46fa-a361-21aa2f7ee3b8\",\"type\":\"LinearAxis\"},{\"id\":\"071010fb-b827-4681-bb1b-36abde0bd9f5\",\"type\":\"Grid\"},{\"id\":\"7f31a0a3-0c46-441d-b345-a84422138415\",\"type\":\"Legend\"},{\"id\":\"727a5147-ff70-4861-8386-151518bf207d\",\"type\":\"GlyphRenderer\"},{\"id\":\"e0069f0e-4372-4c5d-894e-bda32da72e99\",\"type\":\"GlyphRenderer\"}],\"title\":{\"id\":\"685f6448-ded1-45e2-87e4-4f7b23c0b37e\",\"type\":\"Title\"},\"tool_events\":{\"id\":\"4b4d7d02-ab8c-4b7b-a348-4a6d973ba005\",\"type\":\"ToolEvents\"},\"toolbar\":{\"id\":\"da3d7caf-acba-4ae1-b348-dfc604453d6d\",\"type\":\"Toolbar\"},\"toolbar_location\":null,\"x_range\":{\"id\":\"7d52e720-7914-4730-952a-82d443641c5a\",\"type\":\"DataRange1d\"},\"y_range\":{\"id\":\"49103fbd-7fee-43f1-8a6d-d88f37cb6600\",\"type\":\"DataRange1d\"}},\"id\":\"39269e26-b1e5-4f47-b29b-e8f2144097ce\",\"subtype\":\"Figure\",\"type\":\"Plot\"},{\"attributes\":{},\"id\":\"3db699da-61b3-4dad-a07c-270144e4e124\",\"type\":\"BasicTickFormatter\"},{\"attributes\":{},\"id\":\"8da12623-9260-4ac5-b177-6f9b86e83b94\",\"type\":\"ToolEvents\"},{\"attributes\":{\"line_alpha\":{\"value\":0.1},\"line_color\":{\"value\":\"#1f77b4\"},\"x\":{\"field\":\"x\"},\"y\":{\"field\":\"y\"}},\"id\":\"da748600-34ae-4de8-95c2-72976d0add3b\",\"type\":\"Line\"},{\"attributes\":{\"below\":[{\"id\":\"4901e538-243c-4f8d-8c84-00d9b78bbb4c\",\"type\":\"LinearAxis\"}],\"left\":[{\"id\":\"50cf2dfd-0679-4c8f-a67b-71dbe36d93d0\",\"type\":\"LinearAxis\"}],\"plot_height\":300,\"plot_width\":300,\"renderers\":[{\"id\":\"4901e538-243c-4f8d-8c84-00d9b78bbb4c\",\"type\":\"LinearAxis\"},{\"id\":\"2863043e-0204-4eb6-a862-9db031ee9a16\",\"type\":\"Grid\"},{\"id\":\"50cf2dfd-0679-4c8f-a67b-71dbe36d93d0\",\"type\":\"LinearAxis\"},{\"id\":\"c55321d6-b114-4fde-abf3-44091dfdcc8d\",\"type\":\"Grid\"},{\"id\":\"bf3db290-476a-44af-a59f-3f776639e9f1\",\"type\":\"Legend\"},{\"id\":\"5ff52ab7-9eec-49f4-8a2d-5d6739adde01\",\"type\":\"GlyphRenderer\"},{\"id\":\"b30a1763-5eeb-434b-a34d-1dd633d701f2\",\"type\":\"GlyphRenderer\"}],\"title\":{\"id\":\"c053f8e4-6650-48be-ba3a-58ad29ee8cd5\",\"type\":\"Title\"},\"tool_events\":{\"id\":\"b25edf43-214d-4cf4-97b2-6522ab9a44e1\",\"type\":\"ToolEvents\"},\"toolbar\":{\"id\":\"782795cc-43d6-4fb4-b0ac-ae14c16a0055\",\"type\":\"Toolbar\"},\"toolbar_location\":null,\"x_range\":{\"id\":\"7f563b3f-4a25-45c1-b0e1-2b0b2058df1c\",\"type\":\"DataRange1d\"},\"y_range\":{\"id\":\"144d4698-d0c0-40bd-958b-2696c0c83979\",\"type\":\"DataRange1d\"}},\"id\":\"f8e3188e-a3f0-4366-9952-e7d8ba69be2e\",\"subtype\":\"Figure\",\"type\":\"Plot\"},{\"attributes\":{},\"id\":\"99c05000-058e-43d9-8aa6-ab17af5bdedf\",\"type\":\"ToolEvents\"},{\"attributes\":{\"callback\":null},\"id\":\"7f563b3f-4a25-45c1-b0e1-2b0b2058df1c\",\"type\":\"DataRange1d\"},{\"attributes\":{\"below\":[{\"id\":\"d896e035-c219-4357-a328-cb95f8d6ac09\",\"type\":\"LinearAxis\"}],\"left\":[{\"id\":\"2a4e9666-0f71-4641-ad48-ec0f57ca87a4\",\"type\":\"LinearAxis\"}],\"plot_height\":300,\"plot_width\":300,\"renderers\":[{\"id\":\"d896e035-c219-4357-a328-cb95f8d6ac09\",\"type\":\"LinearAxis\"},{\"id\":\"f46058c3-fe20-410e-9c15-6a15499468fc\",\"type\":\"Grid\"},{\"id\":\"2a4e9666-0f71-4641-ad48-ec0f57ca87a4\",\"type\":\"LinearAxis\"},{\"id\":\"bcc37183-e531-45b1-909b-eec345c7c711\",\"type\":\"Grid\"},{\"id\":\"bab235e6-8ad9-4236-a58c-6560f80443fe\",\"type\":\"Legend\"},{\"id\":\"1619689e-f18c-4e13-917e-6d3aed26acb5\",\"type\":\"GlyphRenderer\"},{\"id\":\"dc5fedbd-ccf7-4420-beca-b56336b0624f\",\"type\":\"GlyphRenderer\"}],\"title\":{\"id\":\"0efaf734-90f1-480e-85ad-ad47b7552f4b\",\"type\":\"Title\"},\"tool_events\":{\"id\":\"99c05000-058e-43d9-8aa6-ab17af5bdedf\",\"type\":\"ToolEvents\"},\"toolbar\":{\"id\":\"657149b0-f48d-4a45-be43-1a96a82a2855\",\"type\":\"Toolbar\"},\"toolbar_location\":null,\"x_range\":{\"id\":\"c9b277b8-075e-45f5-b27c-df457655d58a\",\"type\":\"DataRange1d\"},\"y_range\":{\"id\":\"f729a0e9-b02d-440a-8b27-b8e91f259d58\",\"type\":\"DataRange1d\"}},\"id\":\"94f346b5-d93f-46c1-a6bd-933349b2e126\",\"subtype\":\"Figure\",\"type\":\"Plot\"},{\"attributes\":{\"callback\":null},\"id\":\"c9b277b8-075e-45f5-b27c-df457655d58a\",\"type\":\"DataRange1d\"},{\"attributes\":{\"data_source\":{\"id\":\"cfd6a3fd-5f20-4026-8680-ee22425a5695\",\"type\":\"ColumnDataSource\"},\"glyph\":{\"id\":\"d87e478a-178b-4826-b36a-91333fc94bae\",\"type\":\"Line\"},\"hover_glyph\":null,\"nonselection_glyph\":{\"id\":\"338531e5-e3a3-438f-a777-7924c9c29c9d\",\"type\":\"Line\"},\"selection_glyph\":null},\"id\":\"1ff24c54-7af3-43bd-93dc-257b2aab8cdd\",\"type\":\"GlyphRenderer\"},{\"attributes\":{\"line_color\":{\"value\":\"green\"},\"x\":{\"field\":\"x\"},\"y\":{\"field\":\"y\"}},\"id\":\"81897acd-fb45-4069-a80b-3eab5aa5db8c\",\"type\":\"Line\"},{\"attributes\":{\"data_source\":{\"id\":\"93295f44-4928-4817-965e-40a0126560e8\",\"type\":\"ColumnDataSource\"},\"glyph\":{\"id\":\"9cee917a-0dc6-4119-ad66-cf90e9c1c048\",\"type\":\"Line\"},\"hover_glyph\":null,\"nonselection_glyph\":{\"id\":\"846f81b8-1f26-4eb4-93d6-4cb40c75ca9d\",\"type\":\"Line\"},\"selection_glyph\":null},\"id\":\"1619689e-f18c-4e13-917e-6d3aed26acb5\",\"type\":\"GlyphRenderer\"},{\"attributes\":{\"callback\":null,\"column_names\":[\"x\",\"y\"],\"data\":{\"x\":[3.0,4.0,5.0,6.0,7.0,8.0,9.0],\"y\":[6.6571428571428575,6.7347159090909114,6.837670609645139,6.933973919011666,7.129447852760731,7.42,7.599999999999999]}},\"id\":\"f489b1bf-0d6f-4496-ad82-e6a4abc1663f\",\"type\":\"ColumnDataSource\"},{\"attributes\":{\"line_color\":{\"value\":\"green\"},\"x\":{\"field\":\"x\"},\"y\":{\"field\":\"y\"}},\"id\":\"44e4afab-0709-42ab-96f5-5e8f40f39cf2\",\"type\":\"Line\"},{\"attributes\":{\"line_alpha\":{\"value\":0.1},\"line_color\":{\"value\":\"#1f77b4\"},\"x\":{\"field\":\"x\"},\"y\":{\"field\":\"y\"}},\"id\":\"123b1e7d-d9f7-4d9f-b7d3-4f5c189a791d\",\"type\":\"Line\"},{\"attributes\":{\"plot\":{\"id\":\"f8e3188e-a3f0-4366-9952-e7d8ba69be2e\",\"subtype\":\"Figure\",\"type\":\"Plot\"},\"ticker\":{\"id\":\"0c4cf147-d370-47fe-be5c-0ea10f562d3f\",\"type\":\"BasicTicker\"}},\"id\":\"2863043e-0204-4eb6-a862-9db031ee9a16\",\"type\":\"Grid\"},{\"attributes\":{},\"id\":\"334376a7-8bf9-4531-939c-010b76a5f221\",\"type\":\"BasicTickFormatter\"},{\"attributes\":{\"line_color\":{\"value\":\"red\"},\"x\":{\"field\":\"x\"},\"y\":{\"field\":\"y\"}},\"id\":\"d87e478a-178b-4826-b36a-91333fc94bae\",\"type\":\"Line\"},{\"attributes\":{},\"id\":\"faed78b0-a0ee-4ebb-8e52-61259623afee\",\"type\":\"BasicTickFormatter\"},{\"attributes\":{\"dimension\":1,\"plot\":{\"id\":\"94f346b5-d93f-46c1-a6bd-933349b2e126\",\"subtype\":\"Figure\",\"type\":\"Plot\"},\"ticker\":{\"id\":\"caf7af59-4240-4be4-8e9b-b5b950f7d1cc\",\"type\":\"BasicTicker\"}},\"id\":\"bcc37183-e531-45b1-909b-eec345c7c711\",\"type\":\"Grid\"},{\"attributes\":{\"plot\":null,\"text\":\"mean citric acid vs. quality\"},\"id\":\"c053f8e4-6650-48be-ba3a-58ad29ee8cd5\",\"type\":\"Title\"},{\"attributes\":{\"plot\":{\"id\":\"f054e68c-5c0c-412d-a894-b12e36d9154e\",\"subtype\":\"Figure\",\"type\":\"Plot\"}},\"id\":\"9fba1859-0f42-4709-989c-1032ffd5447c\",\"type\":\"ResetTool\"},{\"attributes\":{\"children\":[{\"id\":\"39269e26-b1e5-4f47-b29b-e8f2144097ce\",\"subtype\":\"Figure\",\"type\":\"Plot\"},{\"id\":\"94f346b5-d93f-46c1-a6bd-933349b2e126\",\"subtype\":\"Figure\",\"type\":\"Plot\"},{\"id\":\"f8e3188e-a3f0-4366-9952-e7d8ba69be2e\",\"subtype\":\"Figure\",\"type\":\"Plot\"}]},\"id\":\"a5c3b741-afc0-4309-b8f6-d49f4110fa7a\",\"type\":\"Row\"},{\"attributes\":{\"line_color\":{\"value\":\"red\"},\"x\":{\"field\":\"x\"},\"y\":{\"field\":\"y\"}},\"id\":\"ea092acf-0b54-4a0f-9949-8d2c7be31984\",\"type\":\"Line\"},{\"attributes\":{\"active_drag\":\"auto\",\"active_scroll\":\"auto\",\"active_tap\":\"auto\",\"tools\":[{\"id\":\"8f70bb23-3412-4aed-aedc-cd48fbbe5641\",\"type\":\"HoverTool\"},{\"id\":\"65c4032a-ceda-467f-a865-402b8f47e0d8\",\"type\":\"ResetTool\"},{\"id\":\"9829d6ce-db6e-4030-8725-0e264ffa042f\",\"type\":\"CrosshairTool\"}]},\"id\":\"da3d7caf-acba-4ae1-b348-dfc604453d6d\",\"type\":\"Toolbar\"}],\"root_ids\":[\"15a7ecf6-e4f5-4290-b21e-edd9e8a2c047\"]},\"title\":\"Bokeh Application\",\"version\":\"0.12.0\"}};\n",
       "            var render_items = [{\"docid\":\"b495e5f3-2cc9-4bdb-ab45-5d163b8c32a4\",\"elementid\":\"87c690cd-8a4d-41b0-9788-99903487a7b7\",\"modelid\":\"15a7ecf6-e4f5-4290-b21e-edd9e8a2c047\",\"notebook_comms_target\":\"9cfd5b43-d90b-4886-ad12-23888ef94ef6\"}];\n",
       "            \n",
       "            Bokeh.embed.embed_items(docs_json, render_items);\n",
       "        });\n",
       "      },\n",
       "      function(Bokeh) {\n",
       "      }\n",
       "    ];\n",
       "  \n",
       "    function run_inline_js() {\n",
       "      for (var i = 0; i < inline_js.length; i++) {\n",
       "        inline_js[i](window.Bokeh);\n",
       "      }\n",
       "    }\n",
       "  \n",
       "    if (window._bokeh_is_loading === 0) {\n",
       "      console.log(\"Bokeh: BokehJS loaded, going straight to plotting\");\n",
       "      run_inline_js();\n",
       "    } else {\n",
       "      load_libs(js_urls, function() {\n",
       "        console.log(\"Bokeh: BokehJS plotting callback run at\", now());\n",
       "        run_inline_js();\n",
       "      });\n",
       "    }\n",
       "  }(this));\n",
       "</script>"
      ]
     },
     "metadata": {},
     "output_type": "display_data"
    },
    {
     "data": {
      "text/plain": [
       "'/Users/ericalonas/anaconda/envs/py35/lib/python3.5/runpy.html'"
      ]
     },
     "execution_count": 12,
     "metadata": {},
     "output_type": "execute_result"
    }
   ],
   "source": [
    "red_y = np.array([])\n",
    "white_y = np.array([])\n",
    "red_x = np.array([])\n",
    "white_x = np.array([])\n",
    "\n",
    "plot_list = list()\n",
    "\n",
    "key_subset = comp_data.keys().drop(['quality', 'white?'])\n",
    "\n",
    "for key_sub in key_subset:\n",
    "    red_y = np.array([])\n",
    "    white_y = np.array([])\n",
    "    red_x = np.array([])\n",
    "    white_x = np.array([])\n",
    "    for i,j in itertools.product(comp_data['white?'].unique(), comp_data['quality'].unique()):\n",
    "        subset=comp_data[(comp_data['white?']==i)&(comp_data['quality']==j)]\n",
    "        #print(subset.head())\n",
    "        if i==1:\n",
    "            mean=subset[key_sub].mean()\n",
    "            white_y=np.append(white_y,mean)\n",
    "            white_x=np.append(white_x,j)\n",
    "        if i==0:\n",
    "            mean=subset[key_sub].mean()\n",
    "            red_y=np.append(red_y,mean)\n",
    "            red_x=np.append(red_x,j)\n",
    "\n",
    "    sorted_white= np.sort([white_x, white_y])\n",
    "\n",
    "    sorted_red = np.sort([red_x, red_y])\n",
    "\n",
    "    TOOLS = 'hover, reset, crosshair'\n",
    "    p = figure(plot_width=300, plot_height=300, tools=TOOLS)\n",
    "    \n",
    "    p.line(sorted_white[0], sorted_white[1], color = 'green', legend = 'white')\n",
    "    p.line(sorted_red[0], sorted_red[1], color='red', legend = 'red')\n",
    "    p.axis[0].axis_label='quality'\n",
    "    p.axis[1].axis_label= key_sub\n",
    "    p.title.text = 'mean %s vs. quality' %(key_sub)\n",
    "    p.legend.location = 'top_left'\n",
    "    \n",
    "    plot_list.append(p)\n",
    "\n",
    "p3=gridplot([plot_list[0:3], plot_list[3:6]])\n",
    "show(p3)\n",
    "bplt.save(p3)"
   ]
  },
  {
   "cell_type": "code",
   "execution_count": 13,
   "metadata": {
    "collapsed": false
   },
   "outputs": [
    {
     "data": {
      "text/html": [
       "\n",
       "\n",
       "    <div class=\"bk-root\">\n",
       "        <div class=\"plotdiv\" id=\"23404247-488a-42a6-bbce-084e10cc64a0\"></div>\n",
       "    </div>\n",
       "<script type=\"text/javascript\">\n",
       "  \n",
       "  (function(global) {\n",
       "    function now() {\n",
       "      return new Date();\n",
       "    }\n",
       "  \n",
       "    if (typeof (window._bokeh_onload_callbacks) === \"undefined\") {\n",
       "      window._bokeh_onload_callbacks = [];\n",
       "    }\n",
       "  \n",
       "    function run_callbacks() {\n",
       "      window._bokeh_onload_callbacks.forEach(function(callback) { callback() });\n",
       "      delete window._bokeh_onload_callbacks\n",
       "      console.info(\"Bokeh: all callbacks have finished\");\n",
       "    }\n",
       "  \n",
       "    function load_libs(js_urls, callback) {\n",
       "      window._bokeh_onload_callbacks.push(callback);\n",
       "      if (window._bokeh_is_loading > 0) {\n",
       "        console.log(\"Bokeh: BokehJS is being loaded, scheduling callback at\", now());\n",
       "        return null;\n",
       "      }\n",
       "      if (js_urls == null || js_urls.length === 0) {\n",
       "        run_callbacks();\n",
       "        return null;\n",
       "      }\n",
       "      console.log(\"Bokeh: BokehJS not loaded, scheduling load and callback at\", now());\n",
       "      window._bokeh_is_loading = js_urls.length;\n",
       "      for (var i = 0; i < js_urls.length; i++) {\n",
       "        var url = js_urls[i];\n",
       "        var s = document.createElement('script');\n",
       "        s.src = url;\n",
       "        s.async = false;\n",
       "        s.onreadystatechange = s.onload = function() {\n",
       "          window._bokeh_is_loading--;\n",
       "          if (window._bokeh_is_loading === 0) {\n",
       "            console.log(\"Bokeh: all BokehJS libraries loaded\");\n",
       "            run_callbacks()\n",
       "          }\n",
       "        };\n",
       "        s.onerror = function() {\n",
       "          console.warn(\"failed to load library \" + url);\n",
       "        };\n",
       "        console.log(\"Bokeh: injecting script tag for BokehJS library: \", url);\n",
       "        document.getElementsByTagName(\"head\")[0].appendChild(s);\n",
       "      }\n",
       "    };var element = document.getElementById(\"23404247-488a-42a6-bbce-084e10cc64a0\");\n",
       "    if (element == null) {\n",
       "      console.log(\"Bokeh: ERROR: autoload.js configured with elementid '23404247-488a-42a6-bbce-084e10cc64a0' but no matching script tag was found. \")\n",
       "      return false;\n",
       "    }\n",
       "  \n",
       "    var js_urls = [];\n",
       "  \n",
       "    var inline_js = [\n",
       "      function(Bokeh) {\n",
       "        Bokeh.$(function() {\n",
       "            var docs_json = {\"528f7072-b5e2-4965-a971-9dfd406071fe\":{\"roots\":{\"references\":[{\"attributes\":{\"axis_label\":\"quality\",\"formatter\":{\"id\":\"b7925ffd-92dc-4bbf-b93b-55f88d7a0b9f\",\"type\":\"BasicTickFormatter\"},\"plot\":{\"id\":\"9bef715a-9874-4153-bc5e-ac8874ef4991\",\"subtype\":\"Figure\",\"type\":\"Plot\"},\"ticker\":{\"id\":\"ae5e01c8-4efa-4e2f-8514-88b7fa46f554\",\"type\":\"BasicTicker\"}},\"id\":\"f67ba649-b3fc-412c-a098-9896e0701be9\",\"type\":\"LinearAxis\"},{\"attributes\":{},\"id\":\"f1216619-e67c-472e-9974-c4b1a9290a55\",\"type\":\"BasicTicker\"},{\"attributes\":{\"plot\":null,\"text\":\"mean pH vs. quality\"},\"id\":\"28353606-ea16-45cb-8a84-0df32c3e8112\",\"type\":\"Title\"},{\"attributes\":{\"data_source\":{\"id\":\"5cb32eb0-9c5b-4e36-924b-a42493038a08\",\"type\":\"ColumnDataSource\"},\"glyph\":{\"id\":\"0e8f86e3-a4b9-41fe-af9b-fb1e8d5c3155\",\"type\":\"Line\"},\"hover_glyph\":null,\"nonselection_glyph\":{\"id\":\"53ae4f4d-9dd8-411b-9a21-28d55f88bede\",\"type\":\"Line\"},\"selection_glyph\":null},\"id\":\"c3339e90-ac9b-4e9b-8751-c8d55845cef2\",\"type\":\"GlyphRenderer\"},{\"attributes\":{\"callback\":null},\"id\":\"9c5e7ab3-6886-4914-a6ba-0d811faef8ff\",\"type\":\"DataRange1d\"},{\"attributes\":{},\"id\":\"323eddb6-07bf-4963-bd98-e07612112eda\",\"type\":\"BasicTickFormatter\"},{\"attributes\":{\"callback\":null,\"column_names\":[\"x\",\"y\"],\"data\":{\"x\":[3.0,4.0,5.0,6.0,7.0,8.0,9.0],\"y\":[0.99146,0.9922359428571438,0.9924523977272738,0.9939613489535942,0.9942766871165644,0.9948840000000002,0.9952625703500351]}},\"id\":\"af7423ce-377e-4a9d-a43b-375b3a32348d\",\"type\":\"ColumnDataSource\"},{\"attributes\":{\"plot\":{\"id\":\"c6af7287-48dc-42b7-9587-00c32dc3a125\",\"subtype\":\"Figure\",\"type\":\"Plot\"},\"ticker\":{\"id\":\"9521a573-5ad4-4c04-b356-9b1343065168\",\"type\":\"BasicTicker\"}},\"id\":\"62155872-00ea-410b-bc7c-eb76d7d7861e\",\"type\":\"Grid\"},{\"attributes\":{\"line_alpha\":{\"value\":0.1},\"line_color\":{\"value\":\"#1f77b4\"},\"x\":{\"field\":\"x\"},\"y\":{\"field\":\"y\"}},\"id\":\"008eaf6f-b144-4fdd-96cd-0582c19d125d\",\"type\":\"Line\"},{\"attributes\":{\"line_color\":{\"value\":\"green\"},\"x\":{\"field\":\"x\"},\"y\":{\"field\":\"y\"}},\"id\":\"1ee5eb9c-9121-48a4-aa23-6f442fbed6d4\",\"type\":\"Line\"},{\"attributes\":{\"callback\":null,\"plot\":{\"id\":\"9bef715a-9874-4153-bc5e-ac8874ef4991\",\"subtype\":\"Figure\",\"type\":\"Plot\"}},\"id\":\"c9061089-577a-469e-b341-22eeb7990c00\",\"type\":\"HoverTool\"},{\"attributes\":{\"data_source\":{\"id\":\"208d5a31-47da-494e-a7c8-10eeb26eb8dd\",\"type\":\"ColumnDataSource\"},\"glyph\":{\"id\":\"4734d331-a080-40cd-bfca-042d5b530f87\",\"type\":\"Line\"},\"hover_glyph\":null,\"nonselection_glyph\":{\"id\":\"c8b51edc-2f86-4b04-8b23-bf382eb6b420\",\"type\":\"Line\"},\"selection_glyph\":null},\"id\":\"f42c177f-792d-4b93-b05d-76c8ceb816c0\",\"type\":\"GlyphRenderer\"},{\"attributes\":{\"below\":[{\"id\":\"f67ba649-b3fc-412c-a098-9896e0701be9\",\"type\":\"LinearAxis\"}],\"left\":[{\"id\":\"6acb0ea6-9653-4fba-969d-13ab9c389c8e\",\"type\":\"LinearAxis\"}],\"plot_height\":300,\"plot_width\":300,\"renderers\":[{\"id\":\"f67ba649-b3fc-412c-a098-9896e0701be9\",\"type\":\"LinearAxis\"},{\"id\":\"d8480be5-b1b0-4191-b573-1b26bc897914\",\"type\":\"Grid\"},{\"id\":\"6acb0ea6-9653-4fba-969d-13ab9c389c8e\",\"type\":\"LinearAxis\"},{\"id\":\"4005ba9d-517c-4171-bedc-416f4391bae7\",\"type\":\"Grid\"},{\"id\":\"0a061171-23b7-4bec-9dc3-4bc92de284c7\",\"type\":\"Legend\"},{\"id\":\"f77b262c-5b1c-464a-808b-ac379304fdd8\",\"type\":\"GlyphRenderer\"},{\"id\":\"2c53351c-7f29-482a-932d-bd20a94eadb7\",\"type\":\"GlyphRenderer\"}],\"title\":{\"id\":\"28353606-ea16-45cb-8a84-0df32c3e8112\",\"type\":\"Title\"},\"tool_events\":{\"id\":\"adc496a1-563b-406f-bac1-3c26c2ad0b6f\",\"type\":\"ToolEvents\"},\"toolbar\":{\"id\":\"d7db6039-2d39-4a07-b507-e360407f7a45\",\"type\":\"Toolbar\"},\"toolbar_location\":null,\"x_range\":{\"id\":\"12a2b751-1a41-45c7-b164-52d8f5693e69\",\"type\":\"DataRange1d\"},\"y_range\":{\"id\":\"4d5644a9-1c91-435f-a39b-61f1ea506a4b\",\"type\":\"DataRange1d\"}},\"id\":\"9bef715a-9874-4153-bc5e-ac8874ef4991\",\"subtype\":\"Figure\",\"type\":\"Plot\"},{\"attributes\":{},\"id\":\"72595c40-9b9e-42c5-b557-82fab8e98215\",\"type\":\"BasicTicker\"},{\"attributes\":{\"line_alpha\":{\"value\":0.1},\"line_color\":{\"value\":\"#1f77b4\"},\"x\":{\"field\":\"x\"},\"y\":{\"field\":\"y\"}},\"id\":\"4895f207-4d4b-4f62-bbe0-827caf4be1dc\",\"type\":\"Line\"},{\"attributes\":{},\"id\":\"c6ba98d1-c794-448c-acde-353dc68034c1\",\"type\":\"BasicTickFormatter\"},{\"attributes\":{\"plot\":{\"id\":\"37bd5518-cb6a-4b0a-ae75-6e5a524258cc\",\"subtype\":\"Figure\",\"type\":\"Plot\"}},\"id\":\"a036bebb-d0e4-4d6c-8791-58c5a7888ef2\",\"type\":\"CrosshairTool\"},{\"attributes\":{\"data_source\":{\"id\":\"c8b91ff7-bd8f-4789-bb0d-356ea6548852\",\"type\":\"ColumnDataSource\"},\"glyph\":{\"id\":\"330f4f18-4231-4552-a18b-619436b1757b\",\"type\":\"Line\"},\"hover_glyph\":null,\"nonselection_glyph\":{\"id\":\"90a1f893-cb17-495b-a294-57a6df56dfe8\",\"type\":\"Line\"},\"selection_glyph\":null},\"id\":\"3e3af2b4-2019-4865-aeeb-fc620c973f4d\",\"type\":\"GlyphRenderer\"},{\"attributes\":{\"callback\":null},\"id\":\"3a4ff800-6091-429b-98be-78110fad9020\",\"type\":\"DataRange1d\"},{\"attributes\":{\"callback\":null},\"id\":\"4d5644a9-1c91-435f-a39b-61f1ea506a4b\",\"type\":\"DataRange1d\"},{\"attributes\":{\"active_drag\":\"auto\",\"active_scroll\":\"auto\",\"active_tap\":\"auto\",\"tools\":[{\"id\":\"91725a8d-bb51-4824-98fe-d3720859cfec\",\"type\":\"HoverTool\"},{\"id\":\"a85bb745-60b9-49ce-82bd-86c7521e6bf4\",\"type\":\"ResetTool\"},{\"id\":\"f70d31a6-9b81-49c2-895e-3b5d94cd9734\",\"type\":\"CrosshairTool\"}]},\"id\":\"a6c3d851-83bb-4b52-af36-b0d612fbac08\",\"type\":\"Toolbar\"},{\"attributes\":{\"axis_label\":\"quality\",\"formatter\":{\"id\":\"c6ba98d1-c794-448c-acde-353dc68034c1\",\"type\":\"BasicTickFormatter\"},\"plot\":{\"id\":\"0b08c45e-02d1-4c4b-b635-4490274cd8ba\",\"subtype\":\"Figure\",\"type\":\"Plot\"},\"ticker\":{\"id\":\"3ba28eb5-3353-403e-a2cb-c65781513daa\",\"type\":\"BasicTicker\"}},\"id\":\"6f3769c5-e2b5-441d-8816-89c69d6e1bb3\",\"type\":\"LinearAxis\"},{\"attributes\":{},\"id\":\"9521a573-5ad4-4c04-b356-9b1343065168\",\"type\":\"BasicTicker\"},{\"attributes\":{\"below\":[{\"id\":\"a90d5953-eae6-426b-92a8-9b19be12a806\",\"type\":\"LinearAxis\"}],\"left\":[{\"id\":\"886dbe16-c419-49a7-8b67-320388bc2a5a\",\"type\":\"LinearAxis\"}],\"plot_height\":300,\"plot_width\":300,\"renderers\":[{\"id\":\"a90d5953-eae6-426b-92a8-9b19be12a806\",\"type\":\"LinearAxis\"},{\"id\":\"b13494c3-800c-4962-b599-609909a6a273\",\"type\":\"Grid\"},{\"id\":\"886dbe16-c419-49a7-8b67-320388bc2a5a\",\"type\":\"LinearAxis\"},{\"id\":\"81460674-853e-4a35-96ef-9a122c0bfa14\",\"type\":\"Grid\"},{\"id\":\"3330808f-f0dd-49be-8418-358770fca2bd\",\"type\":\"Legend\"},{\"id\":\"248afa9c-3fb3-4615-8a1b-ed366ed814ba\",\"type\":\"GlyphRenderer\"},{\"id\":\"f42c177f-792d-4b93-b05d-76c8ceb816c0\",\"type\":\"GlyphRenderer\"}],\"title\":{\"id\":\"b9dab844-8bdc-42f1-a343-a42d9d3bb144\",\"type\":\"Title\"},\"tool_events\":{\"id\":\"44477184-66e2-4714-9d94-c5d20ef7bd24\",\"type\":\"ToolEvents\"},\"toolbar\":{\"id\":\"2d00d32c-757e-4a7e-be04-16bf038e4536\",\"type\":\"Toolbar\"},\"toolbar_location\":null,\"x_range\":{\"id\":\"67e7835d-30be-45f9-878e-2c4640b76bf0\",\"type\":\"DataRange1d\"},\"y_range\":{\"id\":\"883dcd9f-72a5-49f3-bcbe-4c25e49eb818\",\"type\":\"DataRange1d\"}},\"id\":\"37bd5518-cb6a-4b0a-ae75-6e5a524258cc\",\"subtype\":\"Figure\",\"type\":\"Plot\"},{\"attributes\":{\"line_color\":{\"value\":\"red\"},\"x\":{\"field\":\"x\"},\"y\":{\"field\":\"y\"}},\"id\":\"a6a1f5ed-de12-4ece-8fb8-d9066a7ab82f\",\"type\":\"Line\"},{\"attributes\":{\"callback\":null},\"id\":\"67e7835d-30be-45f9-878e-2c4640b76bf0\",\"type\":\"DataRange1d\"},{\"attributes\":{\"line_alpha\":{\"value\":0.1},\"line_color\":{\"value\":\"#1f77b4\"},\"x\":{\"field\":\"x\"},\"y\":{\"field\":\"y\"}},\"id\":\"f66ebefa-0134-427e-b2f9-b744152add75\",\"type\":\"Line\"},{\"attributes\":{\"line_color\":{\"value\":\"green\"},\"x\":{\"field\":\"x\"},\"y\":{\"field\":\"y\"}},\"id\":\"330f4f18-4231-4552-a18b-619436b1757b\",\"type\":\"Line\"},{\"attributes\":{\"data_source\":{\"id\":\"7d429d94-8928-47ff-8c43-0de985062e30\",\"type\":\"ColumnDataSource\"},\"glyph\":{\"id\":\"1dc53be8-fa6a-4313-8968-13649dc074eb\",\"type\":\"Line\"},\"hover_glyph\":null,\"nonselection_glyph\":{\"id\":\"dd474360-f0fb-4b87-986e-edd77fe76e65\",\"type\":\"Line\"},\"selection_glyph\":null},\"id\":\"64c67345-2919-4ecb-82bf-8aae6b9b9c4b\",\"type\":\"GlyphRenderer\"},{\"attributes\":{\"plot\":{\"id\":\"37bd5518-cb6a-4b0a-ae75-6e5a524258cc\",\"subtype\":\"Figure\",\"type\":\"Plot\"}},\"id\":\"355514d6-0537-4fec-9582-08b9282243ef\",\"type\":\"ResetTool\"},{\"attributes\":{\"plot\":{\"id\":\"9bef715a-9874-4153-bc5e-ac8874ef4991\",\"subtype\":\"Figure\",\"type\":\"Plot\"},\"ticker\":{\"id\":\"ae5e01c8-4efa-4e2f-8514-88b7fa46f554\",\"type\":\"BasicTicker\"}},\"id\":\"d8480be5-b1b0-4191-b573-1b26bc897914\",\"type\":\"Grid\"},{\"attributes\":{\"data_source\":{\"id\":\"bc6a22f7-f960-4280-88d1-c3681d47e43c\",\"type\":\"ColumnDataSource\"},\"glyph\":{\"id\":\"a6a1f5ed-de12-4ece-8fb8-d9066a7ab82f\",\"type\":\"Line\"},\"hover_glyph\":null,\"nonselection_glyph\":{\"id\":\"4895f207-4d4b-4f62-bbe0-827caf4be1dc\",\"type\":\"Line\"},\"selection_glyph\":null},\"id\":\"46bafa43-9686-4bd6-b479-e943acda76c7\",\"type\":\"GlyphRenderer\"},{\"attributes\":{\"plot\":{\"id\":\"37bd5518-cb6a-4b0a-ae75-6e5a524258cc\",\"subtype\":\"Figure\",\"type\":\"Plot\"},\"ticker\":{\"id\":\"d8236fb2-8596-4556-ad2f-f41725fc7bf0\",\"type\":\"BasicTicker\"}},\"id\":\"b13494c3-800c-4962-b599-609909a6a273\",\"type\":\"Grid\"},{\"attributes\":{},\"id\":\"cd63655c-9311-4d30-8805-c53770dbf0b7\",\"type\":\"BasicTickFormatter\"},{\"attributes\":{},\"id\":\"698fa9f2-7224-4acd-949d-04cbe1601fb2\",\"type\":\"BasicTickFormatter\"},{\"attributes\":{\"callback\":null},\"id\":\"c4fecc88-3310-4089-8004-74393679c59f\",\"type\":\"DataRange1d\"},{\"attributes\":{\"line_alpha\":{\"value\":0.1},\"line_color\":{\"value\":\"#1f77b4\"},\"x\":{\"field\":\"x\"},\"y\":{\"field\":\"y\"}},\"id\":\"1f43e6ad-687d-4324-9f41-55041fb1f8da\",\"type\":\"Line\"},{\"attributes\":{\"callback\":null,\"column_names\":[\"x\",\"y\"],\"data\":{\"x\":[3.0,4.0,5.0,6.0,7.0,8.0,9.0],\"y\":[3.2672222222222214,3.290753768844219,3.3049486049926546,3.3180721003134837,3.381509433962264,3.3979999999999997,\"NaN\"]}},\"id\":\"23c9d476-dd4c-4737-8d38-3006db45f15a\",\"type\":\"ColumnDataSource\"},{\"attributes\":{},\"id\":\"b72cc177-326e-473e-8273-f7affcabb0db\",\"type\":\"BasicTicker\"},{\"attributes\":{\"callback\":null,\"column_names\":[\"x\",\"y\"],\"data\":{\"x\":[3.0,4.0,5.0,6.0,7.0,8.0,9.0],\"y\":[3.168833218943034,3.1828834355828244,3.1874999999999996,3.1885987261146482,3.2138977272727316,3.2186857142857175,3.308]}},\"id\":\"2ca23126-8b5d-481a-9e5f-78913daf7aec\",\"type\":\"ColumnDataSource\"},{\"attributes\":{\"dimension\":1,\"plot\":{\"id\":\"37bd5518-cb6a-4b0a-ae75-6e5a524258cc\",\"subtype\":\"Figure\",\"type\":\"Plot\"},\"ticker\":{\"id\":\"af78e1ca-f543-4dd5-ad30-03f65d1f3a26\",\"type\":\"BasicTicker\"}},\"id\":\"81460674-853e-4a35-96ef-9a122c0bfa14\",\"type\":\"Grid\"},{\"attributes\":{\"legends\":[[\"white\",[{\"id\":\"bf2674b5-1751-4c57-b830-1406aa0e1dc2\",\"type\":\"GlyphRenderer\"}]],[\"red\",[{\"id\":\"64c67345-2919-4ecb-82bf-8aae6b9b9c4b\",\"type\":\"GlyphRenderer\"}]]],\"location\":\"top_left\",\"plot\":{\"id\":\"c6af7287-48dc-42b7-9587-00c32dc3a125\",\"subtype\":\"Figure\",\"type\":\"Plot\"}},\"id\":\"c8719e66-eeb8-458f-845f-b1478bf69687\",\"type\":\"Legend\"},{\"attributes\":{\"axis_label\":\"density\",\"formatter\":{\"id\":\"1d0da34b-7e8e-4b09-b4c6-9b0ebf23a527\",\"type\":\"BasicTickFormatter\"},\"plot\":{\"id\":\"c6af7287-48dc-42b7-9587-00c32dc3a125\",\"subtype\":\"Figure\",\"type\":\"Plot\"},\"ticker\":{\"id\":\"72595c40-9b9e-42c5-b557-82fab8e98215\",\"type\":\"BasicTicker\"}},\"id\":\"cf0f0f52-69ec-4cf8-87c2-fd8b4151d0bc\",\"type\":\"LinearAxis\"},{\"attributes\":{\"callback\":null,\"column_names\":[\"x\",\"y\"],\"data\":{\"x\":[3.0,4.0,5.0,6.0,7.0,8.0,9.0],\"y\":[0.466,0.4745000000000001,0.47613496932515353,0.4822031571722726,0.4862285714285713,0.4911055505004552,0.5031022727272721]}},\"id\":\"c8b91ff7-bd8f-4789-bb0d-356ea6548852\",\"type\":\"ColumnDataSource\"},{\"attributes\":{},\"id\":\"3f42b55a-454a-4399-8bd3-0a8ca96e0af6\",\"type\":\"BasicTicker\"},{\"attributes\":{\"callback\":null,\"plot\":{\"id\":\"37bd5518-cb6a-4b0a-ae75-6e5a524258cc\",\"subtype\":\"Figure\",\"type\":\"Plot\"}},\"id\":\"3b375f2a-f3b0-4a1b-9e9c-db5ad376f97c\",\"type\":\"HoverTool\"},{\"attributes\":{\"callback\":null},\"id\":\"7fd72187-90e0-4b9e-a7dc-aeda6589b1bc\",\"type\":\"DataRange1d\"},{\"attributes\":{\"callback\":null},\"id\":\"db7795ec-28a1-4aab-84cb-36fbe659d157\",\"type\":\"DataRange1d\"},{\"attributes\":{\"line_color\":{\"value\":\"red\"},\"x\":{\"field\":\"x\"},\"y\":{\"field\":\"y\"}},\"id\":\"1dc53be8-fa6a-4313-8968-13649dc074eb\",\"type\":\"Line\"},{\"attributes\":{\"legends\":[[\"white\",[{\"id\":\"c3339e90-ac9b-4e9b-8751-c8d55845cef2\",\"type\":\"GlyphRenderer\"}]],[\"red\",[{\"id\":\"46bafa43-9686-4bd6-b479-e943acda76c7\",\"type\":\"GlyphRenderer\"}]]],\"location\":\"top_left\",\"plot\":{\"id\":\"4593aa75-e24a-40c5-8417-93cfb195118f\",\"subtype\":\"Figure\",\"type\":\"Plot\"}},\"id\":\"f2e36000-effa-4681-9a9d-4984abfef4a2\",\"type\":\"Legend\"},{\"attributes\":{\"below\":[{\"id\":\"ecc9dbc6-5522-4b20-b677-ea41cd71dfc9\",\"type\":\"LinearAxis\"}],\"left\":[{\"id\":\"a8234341-7900-4106-a57e-ac6382d8ad16\",\"type\":\"LinearAxis\"}],\"plot_height\":300,\"plot_width\":300,\"renderers\":[{\"id\":\"ecc9dbc6-5522-4b20-b677-ea41cd71dfc9\",\"type\":\"LinearAxis\"},{\"id\":\"93f80eb6-2f3f-4ccb-a162-cc73022cb7a4\",\"type\":\"Grid\"},{\"id\":\"a8234341-7900-4106-a57e-ac6382d8ad16\",\"type\":\"LinearAxis\"},{\"id\":\"e21bfb8d-51a0-43b1-a769-b784531773a3\",\"type\":\"Grid\"},{\"id\":\"f2e36000-effa-4681-9a9d-4984abfef4a2\",\"type\":\"Legend\"},{\"id\":\"c3339e90-ac9b-4e9b-8751-c8d55845cef2\",\"type\":\"GlyphRenderer\"},{\"id\":\"46bafa43-9686-4bd6-b479-e943acda76c7\",\"type\":\"GlyphRenderer\"}],\"title\":{\"id\":\"e9469d34-895e-4016-aa0f-189977674fc3\",\"type\":\"Title\"},\"tool_events\":{\"id\":\"5a2085ab-836f-46ac-8265-663d2609e38f\",\"type\":\"ToolEvents\"},\"toolbar\":{\"id\":\"a6c3d851-83bb-4b52-af36-b0d612fbac08\",\"type\":\"Toolbar\"},\"toolbar_location\":null,\"x_range\":{\"id\":\"9c5e7ab3-6886-4914-a6ba-0d811faef8ff\",\"type\":\"DataRange1d\"},\"y_range\":{\"id\":\"3a4ff800-6091-429b-98be-78110fad9020\",\"type\":\"DataRange1d\"}},\"id\":\"4593aa75-e24a-40c5-8417-93cfb195118f\",\"subtype\":\"Figure\",\"type\":\"Plot\"},{\"attributes\":{\"callback\":null},\"id\":\"12a2b751-1a41-45c7-b164-52d8f5693e69\",\"type\":\"DataRange1d\"},{\"attributes\":{\"line_alpha\":{\"value\":0.1},\"line_color\":{\"value\":\"#1f77b4\"},\"x\":{\"field\":\"x\"},\"y\":{\"field\":\"y\"}},\"id\":\"c8b51edc-2f86-4b04-8b23-bf382eb6b420\",\"type\":\"Line\"},{\"attributes\":{\"callback\":null,\"column_names\":[\"x\",\"y\"],\"data\":{\"x\":[3.0,4.0,5.0,6.0,7.0,8.0,9.0],\"y\":[24.9,33.44444444444444,35.02010050251256,36.24528301886792,40.86990595611285,56.51395007342144,\"NaN\"]}},\"id\":\"208d5a31-47da-494e-a7c8-10eeb26eb8dd\",\"type\":\"ColumnDataSource\"},{\"attributes\":{\"line_alpha\":{\"value\":0.1},\"line_color\":{\"value\":\"#1f77b4\"},\"x\":{\"field\":\"x\"},\"y\":{\"field\":\"y\"}},\"id\":\"dd474360-f0fb-4b87-986e-edd77fe76e65\",\"type\":\"Line\"},{\"attributes\":{\"data_source\":{\"id\":\"af7423ce-377e-4a9d-a43b-375b3a32348d\",\"type\":\"ColumnDataSource\"},\"glyph\":{\"id\":\"1ee5eb9c-9121-48a4-aa23-6f442fbed6d4\",\"type\":\"Line\"},\"hover_glyph\":null,\"nonselection_glyph\":{\"id\":\"e68af7fa-d3da-49c2-ac45-4a064fdf5578\",\"type\":\"Line\"},\"selection_glyph\":null},\"id\":\"bf2674b5-1751-4c57-b830-1406aa0e1dc2\",\"type\":\"GlyphRenderer\"},{\"attributes\":{\"callback\":null,\"column_names\":[\"x\",\"y\"],\"data\":{\"x\":[3.0,4.0,5.0,6.0,7.0,8.0,9.0],\"y\":[116.0,125.11477272727272,125.27914110429448,126.16571428571429,137.04731574158325,150.90459849004804,170.6]}},\"id\":\"7cc68bd2-5343-46a5-b2e3-b4e3a4b2e603\",\"type\":\"ColumnDataSource\"},{\"attributes\":{\"callback\":null},\"id\":\"883dcd9f-72a5-49f3-bcbe-4c25e49eb818\",\"type\":\"DataRange1d\"},{\"attributes\":{\"dimension\":1,\"plot\":{\"id\":\"c6af7287-48dc-42b7-9587-00c32dc3a125\",\"subtype\":\"Figure\",\"type\":\"Plot\"},\"ticker\":{\"id\":\"72595c40-9b9e-42c5-b557-82fab8e98215\",\"type\":\"BasicTicker\"}},\"id\":\"89871f3f-c8e2-4c25-8a6e-38c44034b399\",\"type\":\"Grid\"},{\"attributes\":{\"axis_label\":\"total sulfur dioxide\",\"formatter\":{\"id\":\"698fa9f2-7224-4acd-949d-04cbe1601fb2\",\"type\":\"BasicTickFormatter\"},\"plot\":{\"id\":\"37bd5518-cb6a-4b0a-ae75-6e5a524258cc\",\"subtype\":\"Figure\",\"type\":\"Plot\"},\"ticker\":{\"id\":\"af78e1ca-f543-4dd5-ad30-03f65d1f3a26\",\"type\":\"BasicTicker\"}},\"id\":\"886dbe16-c419-49a7-8b67-320388bc2a5a\",\"type\":\"LinearAxis\"},{\"attributes\":{\"line_alpha\":{\"value\":0.1},\"line_color\":{\"value\":\"#1f77b4\"},\"x\":{\"field\":\"x\"},\"y\":{\"field\":\"y\"}},\"id\":\"90a1f893-cb17-495b-a294-57a6df56dfe8\",\"type\":\"Line\"},{\"attributes\":{\"line_alpha\":{\"value\":0.1},\"line_color\":{\"value\":\"#1f77b4\"},\"x\":{\"field\":\"x\"},\"y\":{\"field\":\"y\"}},\"id\":\"e68af7fa-d3da-49c2-ac45-4a064fdf5578\",\"type\":\"Line\"},{\"attributes\":{\"plot\":{\"id\":\"0b08c45e-02d1-4c4b-b635-4490274cd8ba\",\"subtype\":\"Figure\",\"type\":\"Plot\"},\"ticker\":{\"id\":\"3ba28eb5-3353-403e-a2cb-c65781513daa\",\"type\":\"BasicTicker\"}},\"id\":\"4752a25f-ecb2-4039-a648-826e3f804fef\",\"type\":\"Grid\"},{\"attributes\":{\"callback\":null,\"column_names\":[\"x\",\"y\"],\"data\":{\"x\":[3.0,4.0,5.0,6.0,7.0,8.0,9.0],\"y\":[0.5700000000000001,0.5964150943396227,0.6209691629955947,0.6753291536050158,0.7412562814070353,0.7677777777777778,\"NaN\"]}},\"id\":\"55bdbe42-1720-4510-9f51-12721bd7891f\",\"type\":\"ColumnDataSource\"},{\"attributes\":{},\"id\":\"5a2085ab-836f-46ac-8265-663d2609e38f\",\"type\":\"ToolEvents\"},{\"attributes\":{\"axis_label\":\"alcohol\",\"formatter\":{\"id\":\"323eddb6-07bf-4963-bd98-e07612112eda\",\"type\":\"BasicTickFormatter\"},\"plot\":{\"id\":\"4593aa75-e24a-40c5-8417-93cfb195118f\",\"subtype\":\"Figure\",\"type\":\"Plot\"},\"ticker\":{\"id\":\"f1216619-e67c-472e-9974-c4b1a9290a55\",\"type\":\"BasicTicker\"}},\"id\":\"a8234341-7900-4106-a57e-ac6382d8ad16\",\"type\":\"LinearAxis\"},{\"attributes\":{\"callback\":null,\"plot\":{\"id\":\"0b08c45e-02d1-4c4b-b635-4490274cd8ba\",\"subtype\":\"Figure\",\"type\":\"Plot\"}},\"id\":\"ea4912c4-5ff8-4314-930a-89c573d20754\",\"type\":\"HoverTool\"},{\"attributes\":{\"plot\":{\"id\":\"c6af7287-48dc-42b7-9587-00c32dc3a125\",\"subtype\":\"Figure\",\"type\":\"Plot\"}},\"id\":\"6d449be8-abce-4127-ae09-f63a5d8893fc\",\"type\":\"ResetTool\"},{\"attributes\":{},\"id\":\"af78e1ca-f543-4dd5-ad30-03f65d1f3a26\",\"type\":\"BasicTicker\"},{\"attributes\":{\"active_drag\":\"auto\",\"active_scroll\":\"auto\",\"active_tap\":\"auto\",\"tools\":[{\"id\":\"c9061089-577a-469e-b341-22eeb7990c00\",\"type\":\"HoverTool\"},{\"id\":\"92bb8604-5200-49f5-9028-c7549ca49f7b\",\"type\":\"ResetTool\"},{\"id\":\"cc66de7e-6d89-4a32-8992-eaff57a81685\",\"type\":\"CrosshairTool\"}]},\"id\":\"d7db6039-2d39-4a07-b507-e360407f7a45\",\"type\":\"Toolbar\"},{\"attributes\":{\"legends\":[[\"white\",[{\"id\":\"f77b262c-5b1c-464a-808b-ac379304fdd8\",\"type\":\"GlyphRenderer\"}]],[\"red\",[{\"id\":\"2c53351c-7f29-482a-932d-bd20a94eadb7\",\"type\":\"GlyphRenderer\"}]]],\"location\":\"top_left\",\"plot\":{\"id\":\"9bef715a-9874-4153-bc5e-ac8874ef4991\",\"subtype\":\"Figure\",\"type\":\"Plot\"}},\"id\":\"0a061171-23b7-4bec-9dc3-4bc92de284c7\",\"type\":\"Legend\"},{\"attributes\":{\"plot\":{\"id\":\"0b08c45e-02d1-4c4b-b635-4490274cd8ba\",\"subtype\":\"Figure\",\"type\":\"Plot\"}},\"id\":\"fd1155b0-dde1-4345-b497-46cb669014e1\",\"type\":\"CrosshairTool\"},{\"attributes\":{},\"id\":\"efb0b3d2-eaed-445f-9334-76973c38a0fe\",\"type\":\"BasicTickFormatter\"},{\"attributes\":{\"data_source\":{\"id\":\"2ca23126-8b5d-481a-9e5f-78913daf7aec\",\"type\":\"ColumnDataSource\"},\"glyph\":{\"id\":\"8b0befc6-fe7d-4447-9350-ec0d3bb182ad\",\"type\":\"Line\"},\"hover_glyph\":null,\"nonselection_glyph\":{\"id\":\"008eaf6f-b144-4fdd-96cd-0582c19d125d\",\"type\":\"Line\"},\"selection_glyph\":null},\"id\":\"f77b262c-5b1c-464a-808b-ac379304fdd8\",\"type\":\"GlyphRenderer\"},{\"attributes\":{\"below\":[{\"id\":\"dcb0e3c0-0466-422b-b59b-48bafa8938a2\",\"type\":\"LinearAxis\"}],\"left\":[{\"id\":\"cf0f0f52-69ec-4cf8-87c2-fd8b4151d0bc\",\"type\":\"LinearAxis\"}],\"plot_height\":300,\"plot_width\":300,\"renderers\":[{\"id\":\"dcb0e3c0-0466-422b-b59b-48bafa8938a2\",\"type\":\"LinearAxis\"},{\"id\":\"62155872-00ea-410b-bc7c-eb76d7d7861e\",\"type\":\"Grid\"},{\"id\":\"cf0f0f52-69ec-4cf8-87c2-fd8b4151d0bc\",\"type\":\"LinearAxis\"},{\"id\":\"89871f3f-c8e2-4c25-8a6e-38c44034b399\",\"type\":\"Grid\"},{\"id\":\"c8719e66-eeb8-458f-845f-b1478bf69687\",\"type\":\"Legend\"},{\"id\":\"bf2674b5-1751-4c57-b830-1406aa0e1dc2\",\"type\":\"GlyphRenderer\"},{\"id\":\"64c67345-2919-4ecb-82bf-8aae6b9b9c4b\",\"type\":\"GlyphRenderer\"}],\"title\":{\"id\":\"0f82b3a4-8f40-488a-a528-93a3056b65be\",\"type\":\"Title\"},\"tool_events\":{\"id\":\"57cf0c5c-ee55-493e-9fed-6d2452bb3fb4\",\"type\":\"ToolEvents\"},\"toolbar\":{\"id\":\"0e79f0df-16c7-4030-9af0-0458c1246df3\",\"type\":\"Toolbar\"},\"toolbar_location\":null,\"x_range\":{\"id\":\"c4fecc88-3310-4089-8004-74393679c59f\",\"type\":\"DataRange1d\"},\"y_range\":{\"id\":\"4a884cac-61c9-4f9d-8c5b-30a326ae7550\",\"type\":\"DataRange1d\"}},\"id\":\"c6af7287-48dc-42b7-9587-00c32dc3a125\",\"subtype\":\"Figure\",\"type\":\"Plot\"},{\"attributes\":{\"callback\":null,\"column_names\":[\"x\",\"y\"],\"data\":{\"x\":[3.0,4.0,5.0,6.0,7.0,8.0,9.0],\"y\":[9.899706314243753,9.955000000000002,10.265094339622639,10.629519331243463,11.465912897822443,12.094444444444443,\"NaN\"]}},\"id\":\"bc6a22f7-f960-4280-88d1-c3681d47e43c\",\"type\":\"ColumnDataSource\"},{\"attributes\":{},\"id\":\"6da01790-1ea1-4ca8-823d-6a718c19a840\",\"type\":\"BasicTickFormatter\"},{\"attributes\":{\"dimension\":1,\"plot\":{\"id\":\"0b08c45e-02d1-4c4b-b635-4490274cd8ba\",\"subtype\":\"Figure\",\"type\":\"Plot\"},\"ticker\":{\"id\":\"b72cc177-326e-473e-8273-f7affcabb0db\",\"type\":\"BasicTicker\"}},\"id\":\"26f56d62-4b01-4559-bb5b-89a563c295b0\",\"type\":\"Grid\"},{\"attributes\":{\"data_source\":{\"id\":\"55bdbe42-1720-4510-9f51-12721bd7891f\",\"type\":\"ColumnDataSource\"},\"glyph\":{\"id\":\"e620dfca-97e8-4d59-8218-961d41051ac1\",\"type\":\"Line\"},\"hover_glyph\":null,\"nonselection_glyph\":{\"id\":\"f66ebefa-0134-427e-b2f9-b744152add75\",\"type\":\"Line\"},\"selection_glyph\":null},\"id\":\"4bfb88d2-e331-4e2f-995a-160a9427e776\",\"type\":\"GlyphRenderer\"},{\"attributes\":{\"plot\":{\"id\":\"9bef715a-9874-4153-bc5e-ac8874ef4991\",\"subtype\":\"Figure\",\"type\":\"Plot\"}},\"id\":\"cc66de7e-6d89-4a32-8992-eaff57a81685\",\"type\":\"CrosshairTool\"},{\"attributes\":{\"line_color\":{\"value\":\"green\"},\"x\":{\"field\":\"x\"},\"y\":{\"field\":\"y\"}},\"id\":\"b6584694-b006-4ee9-822f-2146d8cacbb2\",\"type\":\"Line\"},{\"attributes\":{\"axis_label\":\"quality\",\"formatter\":{\"id\":\"efb0b3d2-eaed-445f-9334-76973c38a0fe\",\"type\":\"BasicTickFormatter\"},\"plot\":{\"id\":\"4593aa75-e24a-40c5-8417-93cfb195118f\",\"subtype\":\"Figure\",\"type\":\"Plot\"},\"ticker\":{\"id\":\"50471841-64da-417d-870f-aa2c32df4fea\",\"type\":\"BasicTicker\"}},\"id\":\"ecc9dbc6-5522-4b20-b677-ea41cd71dfc9\",\"type\":\"LinearAxis\"},{\"attributes\":{\"line_alpha\":{\"value\":0.1},\"line_color\":{\"value\":\"#1f77b4\"},\"x\":{\"field\":\"x\"},\"y\":{\"field\":\"y\"}},\"id\":\"53ae4f4d-9dd8-411b-9a21-28d55f88bede\",\"type\":\"Line\"},{\"attributes\":{\"children\":[{\"id\":\"0b08c45e-02d1-4c4b-b635-4490274cd8ba\",\"subtype\":\"Figure\",\"type\":\"Plot\"},{\"id\":\"4593aa75-e24a-40c5-8417-93cfb195118f\",\"subtype\":\"Figure\",\"type\":\"Plot\"}]},\"id\":\"75c9aa3a-3ed5-460f-857e-420cbc003f52\",\"type\":\"Row\"},{\"attributes\":{\"line_color\":{\"value\":\"red\"},\"x\":{\"field\":\"x\"},\"y\":{\"field\":\"y\"}},\"id\":\"56e4713e-7874-4c2c-8eac-94081b892430\",\"type\":\"Line\"},{\"attributes\":{},\"id\":\"82cf8318-c7ca-41c0-8c2b-78a694c1d328\",\"type\":\"BasicTickFormatter\"},{\"attributes\":{\"plot\":null,\"text\":\"mean alcohol vs. quality\"},\"id\":\"e9469d34-895e-4016-aa0f-189977674fc3\",\"type\":\"Title\"},{\"attributes\":{\"sizing_mode\":\"scale_width\",\"toolbar_location\":\"above\",\"tools\":[{\"id\":\"3b375f2a-f3b0-4a1b-9e9c-db5ad376f97c\",\"type\":\"HoverTool\"},{\"id\":\"355514d6-0537-4fec-9582-08b9282243ef\",\"type\":\"ResetTool\"},{\"id\":\"a036bebb-d0e4-4d6c-8791-58c5a7888ef2\",\"type\":\"CrosshairTool\"},{\"id\":\"785e76a8-c17b-46b3-bf3a-b1720aa142b0\",\"type\":\"HoverTool\"},{\"id\":\"6d449be8-abce-4127-ae09-f63a5d8893fc\",\"type\":\"ResetTool\"},{\"id\":\"7dd9545d-333c-41dd-91b7-a832f9174e1e\",\"type\":\"CrosshairTool\"},{\"id\":\"c9061089-577a-469e-b341-22eeb7990c00\",\"type\":\"HoverTool\"},{\"id\":\"92bb8604-5200-49f5-9028-c7549ca49f7b\",\"type\":\"ResetTool\"},{\"id\":\"cc66de7e-6d89-4a32-8992-eaff57a81685\",\"type\":\"CrosshairTool\"},{\"id\":\"ea4912c4-5ff8-4314-930a-89c573d20754\",\"type\":\"HoverTool\"},{\"id\":\"c6744d21-1d62-45be-8275-7052131f691c\",\"type\":\"ResetTool\"},{\"id\":\"fd1155b0-dde1-4345-b497-46cb669014e1\",\"type\":\"CrosshairTool\"},{\"id\":\"91725a8d-bb51-4824-98fe-d3720859cfec\",\"type\":\"HoverTool\"},{\"id\":\"a85bb745-60b9-49ce-82bd-86c7521e6bf4\",\"type\":\"ResetTool\"},{\"id\":\"f70d31a6-9b81-49c2-895e-3b5d94cd9734\",\"type\":\"CrosshairTool\"}]},\"id\":\"870b6081-8256-4033-923e-5f72c13466ca\",\"type\":\"ToolbarBox\"},{\"attributes\":{\"callback\":null,\"column_names\":[\"x\",\"y\"],\"data\":{\"x\":[3.0,4.0,5.0,6.0,7.0,8.0,9.0],\"y\":[0.9952122222222223,0.9961042713567828,0.9965424528301888,0.9966150626959255,0.9971036270190888,0.9974640000000001,\"NaN\"]}},\"id\":\"7d429d94-8928-47ff-8c43-0de985062e30\",\"type\":\"ColumnDataSource\"},{\"attributes\":{\"plot\":{\"id\":\"4593aa75-e24a-40c5-8417-93cfb195118f\",\"subtype\":\"Figure\",\"type\":\"Plot\"},\"ticker\":{\"id\":\"50471841-64da-417d-870f-aa2c32df4fea\",\"type\":\"BasicTicker\"}},\"id\":\"93f80eb6-2f3f-4ccb-a162-cc73022cb7a4\",\"type\":\"Grid\"},{\"attributes\":{\"axis_label\":\"pH\",\"formatter\":{\"id\":\"6da01790-1ea1-4ca8-823d-6a718c19a840\",\"type\":\"BasicTickFormatter\"},\"plot\":{\"id\":\"9bef715a-9874-4153-bc5e-ac8874ef4991\",\"subtype\":\"Figure\",\"type\":\"Plot\"},\"ticker\":{\"id\":\"3f42b55a-454a-4399-8bd3-0a8ca96e0af6\",\"type\":\"BasicTicker\"}},\"id\":\"6acb0ea6-9653-4fba-969d-13ab9c389c8e\",\"type\":\"LinearAxis\"},{\"attributes\":{\"active_drag\":\"auto\",\"active_scroll\":\"auto\",\"active_tap\":\"auto\",\"tools\":[{\"id\":\"3b375f2a-f3b0-4a1b-9e9c-db5ad376f97c\",\"type\":\"HoverTool\"},{\"id\":\"355514d6-0537-4fec-9582-08b9282243ef\",\"type\":\"ResetTool\"},{\"id\":\"a036bebb-d0e4-4d6c-8791-58c5a7888ef2\",\"type\":\"CrosshairTool\"}]},\"id\":\"2d00d32c-757e-4a7e-be04-16bf038e4536\",\"type\":\"Toolbar\"},{\"attributes\":{},\"id\":\"adc496a1-563b-406f-bac1-3c26c2ad0b6f\",\"type\":\"ToolEvents\"},{\"attributes\":{\"legends\":[[\"white\",[{\"id\":\"3e3af2b4-2019-4865-aeeb-fc620c973f4d\",\"type\":\"GlyphRenderer\"}]],[\"red\",[{\"id\":\"4bfb88d2-e331-4e2f-995a-160a9427e776\",\"type\":\"GlyphRenderer\"}]]],\"location\":\"top_left\",\"plot\":{\"id\":\"0b08c45e-02d1-4c4b-b635-4490274cd8ba\",\"subtype\":\"Figure\",\"type\":\"Plot\"}},\"id\":\"9f78db47-fae7-4faf-9d70-8316d1703e70\",\"type\":\"Legend\"},{\"attributes\":{},\"id\":\"d8236fb2-8596-4556-ad2f-f41725fc7bf0\",\"type\":\"BasicTicker\"},{\"attributes\":{\"below\":[{\"id\":\"6f3769c5-e2b5-441d-8816-89c69d6e1bb3\",\"type\":\"LinearAxis\"}],\"left\":[{\"id\":\"bb37fbd6-e1b3-4035-aec8-64ae2512c9b7\",\"type\":\"LinearAxis\"}],\"plot_height\":300,\"plot_width\":300,\"renderers\":[{\"id\":\"6f3769c5-e2b5-441d-8816-89c69d6e1bb3\",\"type\":\"LinearAxis\"},{\"id\":\"4752a25f-ecb2-4039-a648-826e3f804fef\",\"type\":\"Grid\"},{\"id\":\"bb37fbd6-e1b3-4035-aec8-64ae2512c9b7\",\"type\":\"LinearAxis\"},{\"id\":\"26f56d62-4b01-4559-bb5b-89a563c295b0\",\"type\":\"Grid\"},{\"id\":\"9f78db47-fae7-4faf-9d70-8316d1703e70\",\"type\":\"Legend\"},{\"id\":\"3e3af2b4-2019-4865-aeeb-fc620c973f4d\",\"type\":\"GlyphRenderer\"},{\"id\":\"4bfb88d2-e331-4e2f-995a-160a9427e776\",\"type\":\"GlyphRenderer\"}],\"title\":{\"id\":\"8342e731-38d7-4637-ac2f-31d12a0701a1\",\"type\":\"Title\"},\"tool_events\":{\"id\":\"c0cbca9f-261b-4a49-b607-6985d769e26b\",\"type\":\"ToolEvents\"},\"toolbar\":{\"id\":\"1aa965be-18a3-40ba-afb5-ab40e6170fa4\",\"type\":\"Toolbar\"},\"toolbar_location\":null,\"x_range\":{\"id\":\"7fd72187-90e0-4b9e-a7dc-aeda6589b1bc\",\"type\":\"DataRange1d\"},\"y_range\":{\"id\":\"db7795ec-28a1-4aab-84cb-36fbe659d157\",\"type\":\"DataRange1d\"}},\"id\":\"0b08c45e-02d1-4c4b-b635-4490274cd8ba\",\"subtype\":\"Figure\",\"type\":\"Plot\"},{\"attributes\":{\"callback\":null,\"plot\":{\"id\":\"4593aa75-e24a-40c5-8417-93cfb195118f\",\"subtype\":\"Figure\",\"type\":\"Plot\"}},\"id\":\"91725a8d-bb51-4824-98fe-d3720859cfec\",\"type\":\"HoverTool\"},{\"attributes\":{\"children\":[{\"id\":\"37bd5518-cb6a-4b0a-ae75-6e5a524258cc\",\"subtype\":\"Figure\",\"type\":\"Plot\"},{\"id\":\"c6af7287-48dc-42b7-9587-00c32dc3a125\",\"subtype\":\"Figure\",\"type\":\"Plot\"},{\"id\":\"9bef715a-9874-4153-bc5e-ac8874ef4991\",\"subtype\":\"Figure\",\"type\":\"Plot\"}]},\"id\":\"b64031fb-b2f9-4aed-8349-e94625398d4f\",\"type\":\"Row\"},{\"attributes\":{},\"id\":\"aca4f97c-89e7-4377-ad83-b20993eff530\",\"type\":\"BasicTickFormatter\"},{\"attributes\":{\"dimension\":1,\"plot\":{\"id\":\"9bef715a-9874-4153-bc5e-ac8874ef4991\",\"subtype\":\"Figure\",\"type\":\"Plot\"},\"ticker\":{\"id\":\"3f42b55a-454a-4399-8bd3-0a8ca96e0af6\",\"type\":\"BasicTicker\"}},\"id\":\"4005ba9d-517c-4171-bedc-416f4391bae7\",\"type\":\"Grid\"},{\"attributes\":{},\"id\":\"3ba28eb5-3353-403e-a2cb-c65781513daa\",\"type\":\"BasicTicker\"},{\"attributes\":{\"line_alpha\":{\"value\":0.1},\"line_color\":{\"value\":\"#1f77b4\"},\"x\":{\"field\":\"x\"},\"y\":{\"field\":\"y\"}},\"id\":\"9f7fe861-2624-446f-a4bb-4186bdb23894\",\"type\":\"Line\"},{\"attributes\":{\"plot\":{\"id\":\"4593aa75-e24a-40c5-8417-93cfb195118f\",\"subtype\":\"Figure\",\"type\":\"Plot\"}},\"id\":\"f70d31a6-9b81-49c2-895e-3b5d94cd9734\",\"type\":\"CrosshairTool\"},{\"attributes\":{\"dimension\":1,\"plot\":{\"id\":\"4593aa75-e24a-40c5-8417-93cfb195118f\",\"subtype\":\"Figure\",\"type\":\"Plot\"},\"ticker\":{\"id\":\"f1216619-e67c-472e-9974-c4b1a9290a55\",\"type\":\"BasicTicker\"}},\"id\":\"e21bfb8d-51a0-43b1-a769-b784531773a3\",\"type\":\"Grid\"},{\"attributes\":{\"data_source\":{\"id\":\"7cc68bd2-5343-46a5-b2e3-b4e3a4b2e603\",\"type\":\"ColumnDataSource\"},\"glyph\":{\"id\":\"b6584694-b006-4ee9-822f-2146d8cacbb2\",\"type\":\"Line\"},\"hover_glyph\":null,\"nonselection_glyph\":{\"id\":\"1f43e6ad-687d-4324-9f41-55041fb1f8da\",\"type\":\"Line\"},\"selection_glyph\":null},\"id\":\"248afa9c-3fb3-4615-8a1b-ed366ed814ba\",\"type\":\"GlyphRenderer\"},{\"attributes\":{\"legends\":[[\"white\",[{\"id\":\"248afa9c-3fb3-4615-8a1b-ed366ed814ba\",\"type\":\"GlyphRenderer\"}]],[\"red\",[{\"id\":\"f42c177f-792d-4b93-b05d-76c8ceb816c0\",\"type\":\"GlyphRenderer\"}]]],\"location\":\"top_left\",\"plot\":{\"id\":\"37bd5518-cb6a-4b0a-ae75-6e5a524258cc\",\"subtype\":\"Figure\",\"type\":\"Plot\"}},\"id\":\"3330808f-f0dd-49be-8418-358770fca2bd\",\"type\":\"Legend\"},{\"attributes\":{\"plot\":null,\"text\":\"mean total sulfur dioxide vs. quality\"},\"id\":\"b9dab844-8bdc-42f1-a343-a42d9d3bb144\",\"type\":\"Title\"},{\"attributes\":{\"plot\":{\"id\":\"c6af7287-48dc-42b7-9587-00c32dc3a125\",\"subtype\":\"Figure\",\"type\":\"Plot\"}},\"id\":\"7dd9545d-333c-41dd-91b7-a832f9174e1e\",\"type\":\"CrosshairTool\"},{\"attributes\":{},\"id\":\"57cf0c5c-ee55-493e-9fed-6d2452bb3fb4\",\"type\":\"ToolEvents\"},{\"attributes\":{},\"id\":\"c0cbca9f-261b-4a49-b607-6985d769e26b\",\"type\":\"ToolEvents\"},{\"attributes\":{},\"id\":\"ae5e01c8-4efa-4e2f-8514-88b7fa46f554\",\"type\":\"BasicTicker\"},{\"attributes\":{\"children\":[{\"id\":\"b64031fb-b2f9-4aed-8349-e94625398d4f\",\"type\":\"Row\"},{\"id\":\"75c9aa3a-3ed5-460f-857e-420cbc003f52\",\"type\":\"Row\"}]},\"id\":\"c554443f-82e4-4d6b-b6b2-b5207da10ab8\",\"type\":\"Column\"},{\"attributes\":{\"line_color\":{\"value\":\"green\"},\"x\":{\"field\":\"x\"},\"y\":{\"field\":\"y\"}},\"id\":\"8b0befc6-fe7d-4447-9350-ec0d3bb182ad\",\"type\":\"Line\"},{\"attributes\":{\"line_color\":{\"value\":\"green\"},\"x\":{\"field\":\"x\"},\"y\":{\"field\":\"y\"}},\"id\":\"0e8f86e3-a4b9-41fe-af9b-fb1e8d5c3155\",\"type\":\"Line\"},{\"attributes\":{\"children\":[{\"id\":\"870b6081-8256-4033-923e-5f72c13466ca\",\"type\":\"ToolbarBox\"},{\"id\":\"c554443f-82e4-4d6b-b6b2-b5207da10ab8\",\"type\":\"Column\"}]},\"id\":\"f54940b7-b1f5-42d1-ab28-812b7bd8f049\",\"type\":\"Column\"},{\"attributes\":{\"line_color\":{\"value\":\"red\"},\"x\":{\"field\":\"x\"},\"y\":{\"field\":\"y\"}},\"id\":\"4734d331-a080-40cd-bfca-042d5b530f87\",\"type\":\"Line\"},{\"attributes\":{\"plot\":null,\"text\":\"mean sulphates vs. quality\"},\"id\":\"8342e731-38d7-4637-ac2f-31d12a0701a1\",\"type\":\"Title\"},{\"attributes\":{\"plot\":{\"id\":\"9bef715a-9874-4153-bc5e-ac8874ef4991\",\"subtype\":\"Figure\",\"type\":\"Plot\"}},\"id\":\"92bb8604-5200-49f5-9028-c7549ca49f7b\",\"type\":\"ResetTool\"},{\"attributes\":{\"data_source\":{\"id\":\"23c9d476-dd4c-4737-8d38-3006db45f15a\",\"type\":\"ColumnDataSource\"},\"glyph\":{\"id\":\"56e4713e-7874-4c2c-8eac-94081b892430\",\"type\":\"Line\"},\"hover_glyph\":null,\"nonselection_glyph\":{\"id\":\"9f7fe861-2624-446f-a4bb-4186bdb23894\",\"type\":\"Line\"},\"selection_glyph\":null},\"id\":\"2c53351c-7f29-482a-932d-bd20a94eadb7\",\"type\":\"GlyphRenderer\"},{\"attributes\":{\"plot\":null,\"text\":\"mean density vs. quality\"},\"id\":\"0f82b3a4-8f40-488a-a528-93a3056b65be\",\"type\":\"Title\"},{\"attributes\":{\"axis_label\":\"quality\",\"formatter\":{\"id\":\"82cf8318-c7ca-41c0-8c2b-78a694c1d328\",\"type\":\"BasicTickFormatter\"},\"plot\":{\"id\":\"c6af7287-48dc-42b7-9587-00c32dc3a125\",\"subtype\":\"Figure\",\"type\":\"Plot\"},\"ticker\":{\"id\":\"9521a573-5ad4-4c04-b356-9b1343065168\",\"type\":\"BasicTicker\"}},\"id\":\"dcb0e3c0-0466-422b-b59b-48bafa8938a2\",\"type\":\"LinearAxis\"},{\"attributes\":{\"axis_label\":\"quality\",\"formatter\":{\"id\":\"cd63655c-9311-4d30-8805-c53770dbf0b7\",\"type\":\"BasicTickFormatter\"},\"plot\":{\"id\":\"37bd5518-cb6a-4b0a-ae75-6e5a524258cc\",\"subtype\":\"Figure\",\"type\":\"Plot\"},\"ticker\":{\"id\":\"d8236fb2-8596-4556-ad2f-f41725fc7bf0\",\"type\":\"BasicTicker\"}},\"id\":\"a90d5953-eae6-426b-92a8-9b19be12a806\",\"type\":\"LinearAxis\"},{\"attributes\":{\"plot\":{\"id\":\"4593aa75-e24a-40c5-8417-93cfb195118f\",\"subtype\":\"Figure\",\"type\":\"Plot\"}},\"id\":\"a85bb745-60b9-49ce-82bd-86c7521e6bf4\",\"type\":\"ResetTool\"},{\"attributes\":{\"callback\":null,\"column_names\":[\"x\",\"y\"],\"data\":{\"x\":[3.0,4.0,5.0,6.0,7.0,8.0,9.0],\"y\":[9.808840082361009,10.15245398773007,10.345,10.575371549893866,11.367935606060604,11.636000000000003,12.18]}},\"id\":\"5cb32eb0-9c5b-4e36-924b-a42493038a08\",\"type\":\"ColumnDataSource\"},{\"attributes\":{\"plot\":{\"id\":\"0b08c45e-02d1-4c4b-b635-4490274cd8ba\",\"subtype\":\"Figure\",\"type\":\"Plot\"}},\"id\":\"c6744d21-1d62-45be-8275-7052131f691c\",\"type\":\"ResetTool\"},{\"attributes\":{\"axis_label\":\"sulphates\",\"formatter\":{\"id\":\"aca4f97c-89e7-4377-ad83-b20993eff530\",\"type\":\"BasicTickFormatter\"},\"plot\":{\"id\":\"0b08c45e-02d1-4c4b-b635-4490274cd8ba\",\"subtype\":\"Figure\",\"type\":\"Plot\"},\"ticker\":{\"id\":\"b72cc177-326e-473e-8273-f7affcabb0db\",\"type\":\"BasicTicker\"}},\"id\":\"bb37fbd6-e1b3-4035-aec8-64ae2512c9b7\",\"type\":\"LinearAxis\"},{\"attributes\":{},\"id\":\"1d0da34b-7e8e-4b09-b4c6-9b0ebf23a527\",\"type\":\"BasicTickFormatter\"},{\"attributes\":{\"callback\":null},\"id\":\"4a884cac-61c9-4f9d-8c5b-30a326ae7550\",\"type\":\"DataRange1d\"},{\"attributes\":{\"active_drag\":\"auto\",\"active_scroll\":\"auto\",\"active_tap\":\"auto\",\"tools\":[{\"id\":\"785e76a8-c17b-46b3-bf3a-b1720aa142b0\",\"type\":\"HoverTool\"},{\"id\":\"6d449be8-abce-4127-ae09-f63a5d8893fc\",\"type\":\"ResetTool\"},{\"id\":\"7dd9545d-333c-41dd-91b7-a832f9174e1e\",\"type\":\"CrosshairTool\"}]},\"id\":\"0e79f0df-16c7-4030-9af0-0458c1246df3\",\"type\":\"Toolbar\"},{\"attributes\":{\"line_color\":{\"value\":\"red\"},\"x\":{\"field\":\"x\"},\"y\":{\"field\":\"y\"}},\"id\":\"e620dfca-97e8-4d59-8218-961d41051ac1\",\"type\":\"Line\"},{\"attributes\":{\"callback\":null,\"plot\":{\"id\":\"c6af7287-48dc-42b7-9587-00c32dc3a125\",\"subtype\":\"Figure\",\"type\":\"Plot\"}},\"id\":\"785e76a8-c17b-46b3-bf3a-b1720aa142b0\",\"type\":\"HoverTool\"},{\"attributes\":{},\"id\":\"44477184-66e2-4714-9d94-c5d20ef7bd24\",\"type\":\"ToolEvents\"},{\"attributes\":{\"active_drag\":\"auto\",\"active_scroll\":\"auto\",\"active_tap\":\"auto\",\"tools\":[{\"id\":\"ea4912c4-5ff8-4314-930a-89c573d20754\",\"type\":\"HoverTool\"},{\"id\":\"c6744d21-1d62-45be-8275-7052131f691c\",\"type\":\"ResetTool\"},{\"id\":\"fd1155b0-dde1-4345-b497-46cb669014e1\",\"type\":\"CrosshairTool\"}]},\"id\":\"1aa965be-18a3-40ba-afb5-ab40e6170fa4\",\"type\":\"Toolbar\"},{\"attributes\":{},\"id\":\"b7925ffd-92dc-4bbf-b93b-55f88d7a0b9f\",\"type\":\"BasicTickFormatter\"},{\"attributes\":{},\"id\":\"50471841-64da-417d-870f-aa2c32df4fea\",\"type\":\"BasicTicker\"}],\"root_ids\":[\"f54940b7-b1f5-42d1-ab28-812b7bd8f049\"]},\"title\":\"Bokeh Application\",\"version\":\"0.12.0\"}};\n",
       "            var render_items = [{\"docid\":\"528f7072-b5e2-4965-a971-9dfd406071fe\",\"elementid\":\"23404247-488a-42a6-bbce-084e10cc64a0\",\"modelid\":\"f54940b7-b1f5-42d1-ab28-812b7bd8f049\",\"notebook_comms_target\":\"211fb559-9142-48e8-8ae7-359c8dbb3065\"}];\n",
       "            \n",
       "            Bokeh.embed.embed_items(docs_json, render_items);\n",
       "        });\n",
       "      },\n",
       "      function(Bokeh) {\n",
       "      }\n",
       "    ];\n",
       "  \n",
       "    function run_inline_js() {\n",
       "      for (var i = 0; i < inline_js.length; i++) {\n",
       "        inline_js[i](window.Bokeh);\n",
       "      }\n",
       "    }\n",
       "  \n",
       "    if (window._bokeh_is_loading === 0) {\n",
       "      console.log(\"Bokeh: BokehJS loaded, going straight to plotting\");\n",
       "      run_inline_js();\n",
       "    } else {\n",
       "      load_libs(js_urls, function() {\n",
       "        console.log(\"Bokeh: BokehJS plotting callback run at\", now());\n",
       "        run_inline_js();\n",
       "      });\n",
       "    }\n",
       "  }(this));\n",
       "</script>"
      ]
     },
     "metadata": {},
     "output_type": "display_data"
    },
    {
     "data": {
      "text/plain": [
       "'/Users/ericalonas/anaconda/envs/py35/lib/python3.5/runpy.html'"
      ]
     },
     "execution_count": 13,
     "metadata": {},
     "output_type": "execute_result"
    }
   ],
   "source": [
    "p4=gridplot([plot_list[6:9], plot_list[9:12]])\n",
    "show(p4)\n",
    "bplt.save(p4)"
   ]
  },
  {
   "cell_type": "code",
   "execution_count": null,
   "metadata": {
    "collapsed": false
   },
   "outputs": [],
   "source": []
  },
  {
   "cell_type": "markdown",
   "metadata": {
    "collapsed": true
   },
   "source": [
    "# Examining correlation"
   ]
  },
  {
   "cell_type": "code",
   "execution_count": 14,
   "metadata": {
    "collapsed": false
   },
   "outputs": [],
   "source": [
    "subset_red = comp_data[comp_data['white?']==0][key_subset]\n",
    "corr_red = subset_red.corr()\n",
    "\n",
    "subset_white = comp_data[comp_data['white?']==1][key_subset]\n",
    "corr_white = subset_white.corr()\n"
   ]
  },
  {
   "cell_type": "code",
   "execution_count": 15,
   "metadata": {
    "collapsed": false
   },
   "outputs": [
    {
     "data": {
      "text/html": [
       "<div>\n",
       "<table border=\"1\" class=\"dataframe\">\n",
       "  <thead>\n",
       "    <tr style=\"text-align: right;\">\n",
       "      <th></th>\n",
       "      <th>fixed acidity</th>\n",
       "      <th>volatile acidity</th>\n",
       "      <th>citric acid</th>\n",
       "      <th>residual sugar</th>\n",
       "      <th>chlorides</th>\n",
       "      <th>free sulfur dioxide</th>\n",
       "      <th>total sulfur dioxide</th>\n",
       "      <th>density</th>\n",
       "      <th>pH</th>\n",
       "      <th>sulphates</th>\n",
       "      <th>alcohol</th>\n",
       "    </tr>\n",
       "  </thead>\n",
       "  <tbody>\n",
       "    <tr>\n",
       "      <th>fixed acidity</th>\n",
       "      <td>NaN</td>\n",
       "      <td>NaN</td>\n",
       "      <td>0.671703</td>\n",
       "      <td>NaN</td>\n",
       "      <td>NaN</td>\n",
       "      <td>NaN</td>\n",
       "      <td>NaN</td>\n",
       "      <td>0.668047</td>\n",
       "      <td>-0.682978</td>\n",
       "      <td>NaN</td>\n",
       "      <td>NaN</td>\n",
       "    </tr>\n",
       "    <tr>\n",
       "      <th>volatile acidity</th>\n",
       "      <td>NaN</td>\n",
       "      <td>NaN</td>\n",
       "      <td>-0.552496</td>\n",
       "      <td>NaN</td>\n",
       "      <td>NaN</td>\n",
       "      <td>NaN</td>\n",
       "      <td>NaN</td>\n",
       "      <td>NaN</td>\n",
       "      <td>NaN</td>\n",
       "      <td>NaN</td>\n",
       "      <td>NaN</td>\n",
       "    </tr>\n",
       "    <tr>\n",
       "      <th>citric acid</th>\n",
       "      <td>0.671703</td>\n",
       "      <td>-0.552496</td>\n",
       "      <td>NaN</td>\n",
       "      <td>NaN</td>\n",
       "      <td>NaN</td>\n",
       "      <td>NaN</td>\n",
       "      <td>NaN</td>\n",
       "      <td>NaN</td>\n",
       "      <td>-0.541904</td>\n",
       "      <td>NaN</td>\n",
       "      <td>NaN</td>\n",
       "    </tr>\n",
       "    <tr>\n",
       "      <th>residual sugar</th>\n",
       "      <td>NaN</td>\n",
       "      <td>NaN</td>\n",
       "      <td>NaN</td>\n",
       "      <td>NaN</td>\n",
       "      <td>NaN</td>\n",
       "      <td>NaN</td>\n",
       "      <td>NaN</td>\n",
       "      <td>NaN</td>\n",
       "      <td>NaN</td>\n",
       "      <td>NaN</td>\n",
       "      <td>NaN</td>\n",
       "    </tr>\n",
       "    <tr>\n",
       "      <th>chlorides</th>\n",
       "      <td>NaN</td>\n",
       "      <td>NaN</td>\n",
       "      <td>NaN</td>\n",
       "      <td>NaN</td>\n",
       "      <td>NaN</td>\n",
       "      <td>NaN</td>\n",
       "      <td>NaN</td>\n",
       "      <td>NaN</td>\n",
       "      <td>NaN</td>\n",
       "      <td>NaN</td>\n",
       "      <td>NaN</td>\n",
       "    </tr>\n",
       "    <tr>\n",
       "      <th>free sulfur dioxide</th>\n",
       "      <td>NaN</td>\n",
       "      <td>NaN</td>\n",
       "      <td>NaN</td>\n",
       "      <td>NaN</td>\n",
       "      <td>NaN</td>\n",
       "      <td>NaN</td>\n",
       "      <td>0.667666</td>\n",
       "      <td>NaN</td>\n",
       "      <td>NaN</td>\n",
       "      <td>NaN</td>\n",
       "      <td>NaN</td>\n",
       "    </tr>\n",
       "    <tr>\n",
       "      <th>total sulfur dioxide</th>\n",
       "      <td>NaN</td>\n",
       "      <td>NaN</td>\n",
       "      <td>NaN</td>\n",
       "      <td>NaN</td>\n",
       "      <td>NaN</td>\n",
       "      <td>0.667666</td>\n",
       "      <td>NaN</td>\n",
       "      <td>NaN</td>\n",
       "      <td>NaN</td>\n",
       "      <td>NaN</td>\n",
       "      <td>NaN</td>\n",
       "    </tr>\n",
       "    <tr>\n",
       "      <th>density</th>\n",
       "      <td>0.668047</td>\n",
       "      <td>NaN</td>\n",
       "      <td>NaN</td>\n",
       "      <td>NaN</td>\n",
       "      <td>NaN</td>\n",
       "      <td>NaN</td>\n",
       "      <td>NaN</td>\n",
       "      <td>NaN</td>\n",
       "      <td>NaN</td>\n",
       "      <td>NaN</td>\n",
       "      <td>NaN</td>\n",
       "    </tr>\n",
       "    <tr>\n",
       "      <th>pH</th>\n",
       "      <td>-0.682978</td>\n",
       "      <td>NaN</td>\n",
       "      <td>-0.541904</td>\n",
       "      <td>NaN</td>\n",
       "      <td>NaN</td>\n",
       "      <td>NaN</td>\n",
       "      <td>NaN</td>\n",
       "      <td>NaN</td>\n",
       "      <td>NaN</td>\n",
       "      <td>NaN</td>\n",
       "      <td>NaN</td>\n",
       "    </tr>\n",
       "    <tr>\n",
       "      <th>sulphates</th>\n",
       "      <td>NaN</td>\n",
       "      <td>NaN</td>\n",
       "      <td>NaN</td>\n",
       "      <td>NaN</td>\n",
       "      <td>NaN</td>\n",
       "      <td>NaN</td>\n",
       "      <td>NaN</td>\n",
       "      <td>NaN</td>\n",
       "      <td>NaN</td>\n",
       "      <td>NaN</td>\n",
       "      <td>NaN</td>\n",
       "    </tr>\n",
       "    <tr>\n",
       "      <th>alcohol</th>\n",
       "      <td>NaN</td>\n",
       "      <td>NaN</td>\n",
       "      <td>NaN</td>\n",
       "      <td>NaN</td>\n",
       "      <td>NaN</td>\n",
       "      <td>NaN</td>\n",
       "      <td>NaN</td>\n",
       "      <td>NaN</td>\n",
       "      <td>NaN</td>\n",
       "      <td>NaN</td>\n",
       "      <td>NaN</td>\n",
       "    </tr>\n",
       "  </tbody>\n",
       "</table>\n",
       "</div>"
      ],
      "text/plain": [
       "                      fixed acidity  volatile acidity  citric acid  \\\n",
       "fixed acidity                   NaN               NaN     0.671703   \n",
       "volatile acidity                NaN               NaN    -0.552496   \n",
       "citric acid                0.671703         -0.552496          NaN   \n",
       "residual sugar                  NaN               NaN          NaN   \n",
       "chlorides                       NaN               NaN          NaN   \n",
       "free sulfur dioxide             NaN               NaN          NaN   \n",
       "total sulfur dioxide            NaN               NaN          NaN   \n",
       "density                    0.668047               NaN          NaN   \n",
       "pH                        -0.682978               NaN    -0.541904   \n",
       "sulphates                       NaN               NaN          NaN   \n",
       "alcohol                         NaN               NaN          NaN   \n",
       "\n",
       "                      residual sugar  chlorides  free sulfur dioxide  \\\n",
       "fixed acidity                    NaN        NaN                  NaN   \n",
       "volatile acidity                 NaN        NaN                  NaN   \n",
       "citric acid                      NaN        NaN                  NaN   \n",
       "residual sugar                   NaN        NaN                  NaN   \n",
       "chlorides                        NaN        NaN                  NaN   \n",
       "free sulfur dioxide              NaN        NaN                  NaN   \n",
       "total sulfur dioxide             NaN        NaN             0.667666   \n",
       "density                          NaN        NaN                  NaN   \n",
       "pH                               NaN        NaN                  NaN   \n",
       "sulphates                        NaN        NaN                  NaN   \n",
       "alcohol                          NaN        NaN                  NaN   \n",
       "\n",
       "                      total sulfur dioxide   density        pH  sulphates  \\\n",
       "fixed acidity                          NaN  0.668047 -0.682978        NaN   \n",
       "volatile acidity                       NaN       NaN       NaN        NaN   \n",
       "citric acid                            NaN       NaN -0.541904        NaN   \n",
       "residual sugar                         NaN       NaN       NaN        NaN   \n",
       "chlorides                              NaN       NaN       NaN        NaN   \n",
       "free sulfur dioxide               0.667666       NaN       NaN        NaN   \n",
       "total sulfur dioxide                   NaN       NaN       NaN        NaN   \n",
       "density                                NaN       NaN       NaN        NaN   \n",
       "pH                                     NaN       NaN       NaN        NaN   \n",
       "sulphates                              NaN       NaN       NaN        NaN   \n",
       "alcohol                                NaN       NaN       NaN        NaN   \n",
       "\n",
       "                      alcohol  \n",
       "fixed acidity             NaN  \n",
       "volatile acidity          NaN  \n",
       "citric acid               NaN  \n",
       "residual sugar            NaN  \n",
       "chlorides                 NaN  \n",
       "free sulfur dioxide       NaN  \n",
       "total sulfur dioxide      NaN  \n",
       "density                   NaN  \n",
       "pH                        NaN  \n",
       "sulphates                 NaN  \n",
       "alcohol                   NaN  "
      ]
     },
     "execution_count": 15,
     "metadata": {},
     "output_type": "execute_result"
    }
   ],
   "source": [
    "corr_red[(abs(corr_red)>=0.5)&(abs(corr_red)<1)]"
   ]
  },
  {
   "cell_type": "code",
   "execution_count": 16,
   "metadata": {
    "collapsed": false
   },
   "outputs": [
    {
     "data": {
      "text/html": [
       "<div>\n",
       "<table border=\"1\" class=\"dataframe\">\n",
       "  <thead>\n",
       "    <tr style=\"text-align: right;\">\n",
       "      <th></th>\n",
       "      <th>fixed acidity</th>\n",
       "      <th>volatile acidity</th>\n",
       "      <th>citric acid</th>\n",
       "      <th>residual sugar</th>\n",
       "      <th>chlorides</th>\n",
       "      <th>free sulfur dioxide</th>\n",
       "      <th>total sulfur dioxide</th>\n",
       "      <th>density</th>\n",
       "      <th>pH</th>\n",
       "      <th>sulphates</th>\n",
       "      <th>alcohol</th>\n",
       "    </tr>\n",
       "  </thead>\n",
       "  <tbody>\n",
       "    <tr>\n",
       "      <th>fixed acidity</th>\n",
       "      <td>NaN</td>\n",
       "      <td>NaN</td>\n",
       "      <td>NaN</td>\n",
       "      <td>NaN</td>\n",
       "      <td>NaN</td>\n",
       "      <td>NaN</td>\n",
       "      <td>NaN</td>\n",
       "      <td>NaN</td>\n",
       "      <td>NaN</td>\n",
       "      <td>NaN</td>\n",
       "      <td>NaN</td>\n",
       "    </tr>\n",
       "    <tr>\n",
       "      <th>volatile acidity</th>\n",
       "      <td>NaN</td>\n",
       "      <td>NaN</td>\n",
       "      <td>NaN</td>\n",
       "      <td>NaN</td>\n",
       "      <td>NaN</td>\n",
       "      <td>NaN</td>\n",
       "      <td>NaN</td>\n",
       "      <td>NaN</td>\n",
       "      <td>NaN</td>\n",
       "      <td>NaN</td>\n",
       "      <td>NaN</td>\n",
       "    </tr>\n",
       "    <tr>\n",
       "      <th>citric acid</th>\n",
       "      <td>NaN</td>\n",
       "      <td>NaN</td>\n",
       "      <td>NaN</td>\n",
       "      <td>NaN</td>\n",
       "      <td>NaN</td>\n",
       "      <td>NaN</td>\n",
       "      <td>NaN</td>\n",
       "      <td>NaN</td>\n",
       "      <td>NaN</td>\n",
       "      <td>NaN</td>\n",
       "      <td>NaN</td>\n",
       "    </tr>\n",
       "    <tr>\n",
       "      <th>residual sugar</th>\n",
       "      <td>NaN</td>\n",
       "      <td>NaN</td>\n",
       "      <td>NaN</td>\n",
       "      <td>NaN</td>\n",
       "      <td>NaN</td>\n",
       "      <td>NaN</td>\n",
       "      <td>NaN</td>\n",
       "      <td>0.838966</td>\n",
       "      <td>NaN</td>\n",
       "      <td>NaN</td>\n",
       "      <td>NaN</td>\n",
       "    </tr>\n",
       "    <tr>\n",
       "      <th>chlorides</th>\n",
       "      <td>NaN</td>\n",
       "      <td>NaN</td>\n",
       "      <td>NaN</td>\n",
       "      <td>NaN</td>\n",
       "      <td>NaN</td>\n",
       "      <td>NaN</td>\n",
       "      <td>NaN</td>\n",
       "      <td>NaN</td>\n",
       "      <td>NaN</td>\n",
       "      <td>NaN</td>\n",
       "      <td>NaN</td>\n",
       "    </tr>\n",
       "    <tr>\n",
       "      <th>free sulfur dioxide</th>\n",
       "      <td>NaN</td>\n",
       "      <td>NaN</td>\n",
       "      <td>NaN</td>\n",
       "      <td>NaN</td>\n",
       "      <td>NaN</td>\n",
       "      <td>NaN</td>\n",
       "      <td>0.615501</td>\n",
       "      <td>NaN</td>\n",
       "      <td>NaN</td>\n",
       "      <td>NaN</td>\n",
       "      <td>NaN</td>\n",
       "    </tr>\n",
       "    <tr>\n",
       "      <th>total sulfur dioxide</th>\n",
       "      <td>NaN</td>\n",
       "      <td>NaN</td>\n",
       "      <td>NaN</td>\n",
       "      <td>NaN</td>\n",
       "      <td>NaN</td>\n",
       "      <td>0.615501</td>\n",
       "      <td>NaN</td>\n",
       "      <td>0.529881</td>\n",
       "      <td>NaN</td>\n",
       "      <td>NaN</td>\n",
       "      <td>NaN</td>\n",
       "    </tr>\n",
       "    <tr>\n",
       "      <th>density</th>\n",
       "      <td>NaN</td>\n",
       "      <td>NaN</td>\n",
       "      <td>NaN</td>\n",
       "      <td>0.838966</td>\n",
       "      <td>NaN</td>\n",
       "      <td>NaN</td>\n",
       "      <td>0.529881</td>\n",
       "      <td>NaN</td>\n",
       "      <td>NaN</td>\n",
       "      <td>NaN</td>\n",
       "      <td>-0.780138</td>\n",
       "    </tr>\n",
       "    <tr>\n",
       "      <th>pH</th>\n",
       "      <td>NaN</td>\n",
       "      <td>NaN</td>\n",
       "      <td>NaN</td>\n",
       "      <td>NaN</td>\n",
       "      <td>NaN</td>\n",
       "      <td>NaN</td>\n",
       "      <td>NaN</td>\n",
       "      <td>NaN</td>\n",
       "      <td>NaN</td>\n",
       "      <td>NaN</td>\n",
       "      <td>NaN</td>\n",
       "    </tr>\n",
       "    <tr>\n",
       "      <th>sulphates</th>\n",
       "      <td>NaN</td>\n",
       "      <td>NaN</td>\n",
       "      <td>NaN</td>\n",
       "      <td>NaN</td>\n",
       "      <td>NaN</td>\n",
       "      <td>NaN</td>\n",
       "      <td>NaN</td>\n",
       "      <td>NaN</td>\n",
       "      <td>NaN</td>\n",
       "      <td>NaN</td>\n",
       "      <td>NaN</td>\n",
       "    </tr>\n",
       "    <tr>\n",
       "      <th>alcohol</th>\n",
       "      <td>NaN</td>\n",
       "      <td>NaN</td>\n",
       "      <td>NaN</td>\n",
       "      <td>NaN</td>\n",
       "      <td>NaN</td>\n",
       "      <td>NaN</td>\n",
       "      <td>NaN</td>\n",
       "      <td>-0.780138</td>\n",
       "      <td>NaN</td>\n",
       "      <td>NaN</td>\n",
       "      <td>NaN</td>\n",
       "    </tr>\n",
       "  </tbody>\n",
       "</table>\n",
       "</div>"
      ],
      "text/plain": [
       "                      fixed acidity  volatile acidity  citric acid  \\\n",
       "fixed acidity                   NaN               NaN          NaN   \n",
       "volatile acidity                NaN               NaN          NaN   \n",
       "citric acid                     NaN               NaN          NaN   \n",
       "residual sugar                  NaN               NaN          NaN   \n",
       "chlorides                       NaN               NaN          NaN   \n",
       "free sulfur dioxide             NaN               NaN          NaN   \n",
       "total sulfur dioxide            NaN               NaN          NaN   \n",
       "density                         NaN               NaN          NaN   \n",
       "pH                              NaN               NaN          NaN   \n",
       "sulphates                       NaN               NaN          NaN   \n",
       "alcohol                         NaN               NaN          NaN   \n",
       "\n",
       "                      residual sugar  chlorides  free sulfur dioxide  \\\n",
       "fixed acidity                    NaN        NaN                  NaN   \n",
       "volatile acidity                 NaN        NaN                  NaN   \n",
       "citric acid                      NaN        NaN                  NaN   \n",
       "residual sugar                   NaN        NaN                  NaN   \n",
       "chlorides                        NaN        NaN                  NaN   \n",
       "free sulfur dioxide              NaN        NaN                  NaN   \n",
       "total sulfur dioxide             NaN        NaN             0.615501   \n",
       "density                     0.838966        NaN                  NaN   \n",
       "pH                               NaN        NaN                  NaN   \n",
       "sulphates                        NaN        NaN                  NaN   \n",
       "alcohol                          NaN        NaN                  NaN   \n",
       "\n",
       "                      total sulfur dioxide   density  pH  sulphates   alcohol  \n",
       "fixed acidity                          NaN       NaN NaN        NaN       NaN  \n",
       "volatile acidity                       NaN       NaN NaN        NaN       NaN  \n",
       "citric acid                            NaN       NaN NaN        NaN       NaN  \n",
       "residual sugar                         NaN  0.838966 NaN        NaN       NaN  \n",
       "chlorides                              NaN       NaN NaN        NaN       NaN  \n",
       "free sulfur dioxide               0.615501       NaN NaN        NaN       NaN  \n",
       "total sulfur dioxide                   NaN  0.529881 NaN        NaN       NaN  \n",
       "density                           0.529881       NaN NaN        NaN -0.780138  \n",
       "pH                                     NaN       NaN NaN        NaN       NaN  \n",
       "sulphates                              NaN       NaN NaN        NaN       NaN  \n",
       "alcohol                                NaN -0.780138 NaN        NaN       NaN  "
      ]
     },
     "execution_count": 16,
     "metadata": {},
     "output_type": "execute_result"
    }
   ],
   "source": [
    "corr_white[(abs(corr_white)>=0.5)&(abs(corr_white)<1)]"
   ]
  },
  {
   "cell_type": "markdown",
   "metadata": {},
   "source": [
    "# Building Multiclass Classification Model for Quality"
   ]
  },
  {
   "cell_type": "code",
   "execution_count": 17,
   "metadata": {
    "collapsed": true
   },
   "outputs": [],
   "source": [
    "from sklearn import cross_validation\n",
    "from sklearn import linear_model\n",
    "from sklearn import metrics"
   ]
  },
  {
   "cell_type": "code",
   "execution_count": 18,
   "metadata": {
    "collapsed": false
   },
   "outputs": [],
   "source": [
    "xtrain, xtest, ytrain, ytest = cross_validation.train_test_split(subset_red, red2['quality'], train_size = 0.75)"
   ]
  },
  {
   "cell_type": "code",
   "execution_count": 19,
   "metadata": {
    "collapsed": false
   },
   "outputs": [
    {
     "data": {
      "text/plain": [
       "LogisticRegressionCV(Cs=10, class_weight=None, cv=None, dual=False,\n",
       "           fit_intercept=True, intercept_scaling=1.0, max_iter=100,\n",
       "           multi_class='multinomial', n_jobs=1, penalty='l2',\n",
       "           random_state=None, refit=True, scoring='accuracy',\n",
       "           solver='lbfgs', tol=0.0001, verbose=0)"
      ]
     },
     "execution_count": 19,
     "metadata": {},
     "output_type": "execute_result"
    }
   ],
   "source": [
    "rgr = linear_model.LogisticRegressionCV(solver='lbfgs',multi_class='multinomial', scoring='accuracy')\n",
    "rgr.fit(xtrain, ytrain)"
   ]
  },
  {
   "cell_type": "code",
   "execution_count": 20,
   "metadata": {
    "collapsed": false
   },
   "outputs": [],
   "source": [
    "pred=rgr.predict(xtest)"
   ]
  },
  {
   "cell_type": "code",
   "execution_count": 21,
   "metadata": {
    "collapsed": false
   },
   "outputs": [
    {
     "data": {
      "text/plain": [
       "0.60499999999999998"
      ]
     },
     "execution_count": 21,
     "metadata": {},
     "output_type": "execute_result"
    }
   ],
   "source": [
    "metrics.accuracy_score(pred, ytest)"
   ]
  },
  {
   "cell_type": "code",
   "execution_count": 22,
   "metadata": {
    "collapsed": true
   },
   "outputs": [],
   "source": [
    "from sklearn import svm"
   ]
  },
  {
   "cell_type": "code",
   "execution_count": 23,
   "metadata": {
    "collapsed": false
   },
   "outputs": [
    {
     "data": {
      "text/plain": [
       "SVC(C=1.0, cache_size=200, class_weight=None, coef0=0.0,\n",
       "  decision_function_shape=None, degree=3, gamma='auto', kernel='rbf',\n",
       "  max_iter=-1, probability=False, random_state=None, shrinking=True,\n",
       "  tol=0.001, verbose=False)"
      ]
     },
     "execution_count": 23,
     "metadata": {},
     "output_type": "execute_result"
    }
   ],
   "source": [
    "rgr2 = svm.SVC(kernel='rbf')\n",
    "rgr2.fit(xtrain, ytrain)"
   ]
  },
  {
   "cell_type": "code",
   "execution_count": 24,
   "metadata": {
    "collapsed": false
   },
   "outputs": [
    {
     "data": {
      "text/plain": [
       "0.5625"
      ]
     },
     "execution_count": 24,
     "metadata": {},
     "output_type": "execute_result"
    }
   ],
   "source": [
    "pred = rgr2.predict(xtest)\n",
    "metrics.accuracy_score(ytest, pred)"
   ]
  },
  {
   "cell_type": "code",
   "execution_count": 25,
   "metadata": {
    "collapsed": false
   },
   "outputs": [],
   "source": [
    "key_sub2 = xtrain.keys().drop(['residual sugar','fixed acidity','density'])\n",
    "\n",
    "subset_xtrain = xtrain[key_sub2]\n",
    "subset_xtest = xtest[key_sub2]"
   ]
  },
  {
   "cell_type": "code",
   "execution_count": 26,
   "metadata": {
    "collapsed": false
   },
   "outputs": [
    {
     "data": {
      "text/plain": [
       "LogisticRegressionCV(Cs=10, class_weight=None, cv=None, dual=False,\n",
       "           fit_intercept=True, intercept_scaling=1.0, max_iter=100,\n",
       "           multi_class='ovr', n_jobs=1, penalty='l2', random_state=None,\n",
       "           refit=True, scoring='accuracy', solver='lbfgs', tol=0.0001,\n",
       "           verbose=0)"
      ]
     },
     "execution_count": 26,
     "metadata": {},
     "output_type": "execute_result"
    }
   ],
   "source": [
    "rgr3 = linear_model.LogisticRegressionCV(scoring='accuracy')\n",
    "rgr3.fit(subset_xtrain, ytrain)"
   ]
  },
  {
   "cell_type": "code",
   "execution_count": 27,
   "metadata": {
    "collapsed": false
   },
   "outputs": [],
   "source": [
    "pred3 = rgr3.predict(subset_xtest)"
   ]
  },
  {
   "cell_type": "code",
   "execution_count": 28,
   "metadata": {
    "collapsed": false
   },
   "outputs": [
    {
     "data": {
      "text/plain": [
       "0.58250000000000002"
      ]
     },
     "execution_count": 28,
     "metadata": {},
     "output_type": "execute_result"
    }
   ],
   "source": [
    "metrics.accuracy_score(ytest, pred3)"
   ]
  },
  {
   "cell_type": "markdown",
   "metadata": {},
   "source": [
    "## White wine modeling"
   ]
  },
  {
   "cell_type": "code",
   "execution_count": 29,
   "metadata": {
    "collapsed": true
   },
   "outputs": [],
   "source": [
    "xtrain, xtest, ytrain, ytest = cross_validation.train_test_split(subset_white, white2['quality'], train_size = 0.75)"
   ]
  },
  {
   "cell_type": "code",
   "execution_count": 30,
   "metadata": {
    "collapsed": false
   },
   "outputs": [
    {
     "data": {
      "text/plain": [
       "LogisticRegressionCV(Cs=10, class_weight=None, cv=None, dual=False,\n",
       "           fit_intercept=True, intercept_scaling=1.0, max_iter=100,\n",
       "           multi_class='multinomial', n_jobs=1, penalty='l2',\n",
       "           random_state=None, refit=True, scoring=None, solver='lbfgs',\n",
       "           tol=0.0001, verbose=0)"
      ]
     },
     "execution_count": 30,
     "metadata": {},
     "output_type": "execute_result"
    }
   ],
   "source": [
    "rgr4 = linear_model.LogisticRegressionCV(solver='lbfgs',multi_class='multinomial')\n",
    "rgr4.fit(xtrain, ytrain)"
   ]
  },
  {
   "cell_type": "code",
   "execution_count": 31,
   "metadata": {
    "collapsed": true
   },
   "outputs": [],
   "source": [
    "pred=rgr4.predict(xtest)"
   ]
  },
  {
   "cell_type": "code",
   "execution_count": 32,
   "metadata": {
    "collapsed": false
   },
   "outputs": [
    {
     "data": {
      "text/plain": [
       "0.51183673469387758"
      ]
     },
     "execution_count": 32,
     "metadata": {},
     "output_type": "execute_result"
    }
   ],
   "source": [
    "metrics.accuracy_score(ytest, pred)"
   ]
  },
  {
   "cell_type": "code",
   "execution_count": null,
   "metadata": {
    "collapsed": true
   },
   "outputs": [],
   "source": []
  },
  {
   "cell_type": "code",
   "execution_count": null,
   "metadata": {
    "collapsed": true
   },
   "outputs": [],
   "source": []
  }
 ],
 "metadata": {
  "anaconda-cloud": {},
  "kernelspec": {
   "display_name": "Python [py35]",
   "language": "python",
   "name": "Python [py35]"
  },
  "language_info": {
   "codemirror_mode": {
    "name": "ipython",
    "version": 3
   },
   "file_extension": ".py",
   "mimetype": "text/x-python",
   "name": "python",
   "nbconvert_exporter": "python",
   "pygments_lexer": "ipython3",
   "version": "3.5.2"
  }
 },
 "nbformat": 4,
 "nbformat_minor": 0
}
