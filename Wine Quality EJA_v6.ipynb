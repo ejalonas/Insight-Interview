{
 "cells": [
  {
   "cell_type": "markdown",
   "metadata": {},
   "source": [
    "# Importing data"
   ]
  },
  {
   "cell_type": "code",
   "execution_count": 1,
   "metadata": {
    "collapsed": true
   },
   "outputs": [],
   "source": [
    "import pandas as pd\n",
    "import numpy as np\n",
    "import sqlite3"
   ]
  },
  {
   "cell_type": "code",
   "execution_count": 2,
   "metadata": {
    "collapsed": false
   },
   "outputs": [],
   "source": [
    "db = sqlite3.connect('winequal.db')\n",
    "cur = db.cursor()\n",
    "\n",
    "\n",
    "cur.execute(\"ALTER TABLE red ADD COLUMN color INT DEFAULT 0\")\n",
    "cur.execute(\"ALTER TABLE white ADD COLUMN color INT DEFAULT 1\")\n",
    "\n",
    "cur.execute('SELECT * from red')\n",
    "red_data = cur.fetchall()\n",
    "\n",
    "db.commit()\n",
    "db.close()\n",
    "\n",
    "db = sqlite3.connect('winequal.db')\n",
    "cur = db.cursor()\n",
    "\n",
    "cur.execute('SELECT * from white')\n",
    "white_data = cur.fetchall()\n",
    "\n",
    "db.commit()\n",
    "db.close()\n",
    "\n",
    " "
   ]
  },
  {
   "cell_type": "code",
   "execution_count": 3,
   "metadata": {
    "collapsed": false
   },
   "outputs": [
    {
     "data": {
      "text/html": [
       "<div>\n",
       "<table border=\"1\" class=\"dataframe\">\n",
       "  <thead>\n",
       "    <tr style=\"text-align: right;\">\n",
       "      <th></th>\n",
       "      <th>fixed acidity</th>\n",
       "      <th>volatile acidity</th>\n",
       "      <th>citric acid</th>\n",
       "      <th>residual sugar</th>\n",
       "      <th>chlorides</th>\n",
       "      <th>free sulfur dioxide</th>\n",
       "      <th>total sulfur dioxide</th>\n",
       "      <th>density</th>\n",
       "      <th>pH</th>\n",
       "      <th>sulphates</th>\n",
       "      <th>alcohol</th>\n",
       "      <th>quality</th>\n",
       "      <th>white?</th>\n",
       "    </tr>\n",
       "  </thead>\n",
       "  <tbody>\n",
       "    <tr>\n",
       "      <th>0</th>\n",
       "      <td>7.4</td>\n",
       "      <td>0.70</td>\n",
       "      <td>0.00</td>\n",
       "      <td>1.9</td>\n",
       "      <td>0.076</td>\n",
       "      <td>11.0</td>\n",
       "      <td>34.0</td>\n",
       "      <td>0.9978</td>\n",
       "      <td>3.51</td>\n",
       "      <td>0.56</td>\n",
       "      <td>9.4</td>\n",
       "      <td>5</td>\n",
       "      <td>0</td>\n",
       "    </tr>\n",
       "    <tr>\n",
       "      <th>1</th>\n",
       "      <td>7.8</td>\n",
       "      <td>0.88</td>\n",
       "      <td>0.00</td>\n",
       "      <td>2.6</td>\n",
       "      <td>0.098</td>\n",
       "      <td>25.0</td>\n",
       "      <td>67.0</td>\n",
       "      <td>0.9968</td>\n",
       "      <td>3.20</td>\n",
       "      <td>0.68</td>\n",
       "      <td>9.8</td>\n",
       "      <td>5</td>\n",
       "      <td>0</td>\n",
       "    </tr>\n",
       "    <tr>\n",
       "      <th>2</th>\n",
       "      <td>7.8</td>\n",
       "      <td>0.76</td>\n",
       "      <td>0.04</td>\n",
       "      <td>2.3</td>\n",
       "      <td>0.092</td>\n",
       "      <td>15.0</td>\n",
       "      <td>54.0</td>\n",
       "      <td>0.9970</td>\n",
       "      <td>3.26</td>\n",
       "      <td>0.65</td>\n",
       "      <td>9.8</td>\n",
       "      <td>5</td>\n",
       "      <td>0</td>\n",
       "    </tr>\n",
       "    <tr>\n",
       "      <th>3</th>\n",
       "      <td>11.2</td>\n",
       "      <td>0.28</td>\n",
       "      <td>0.56</td>\n",
       "      <td>1.9</td>\n",
       "      <td>0.075</td>\n",
       "      <td>17.0</td>\n",
       "      <td>60.0</td>\n",
       "      <td>0.9980</td>\n",
       "      <td>3.16</td>\n",
       "      <td>0.58</td>\n",
       "      <td>9.8</td>\n",
       "      <td>6</td>\n",
       "      <td>0</td>\n",
       "    </tr>\n",
       "    <tr>\n",
       "      <th>4</th>\n",
       "      <td>7.4</td>\n",
       "      <td>0.70</td>\n",
       "      <td>0.00</td>\n",
       "      <td>1.9</td>\n",
       "      <td>0.076</td>\n",
       "      <td>11.0</td>\n",
       "      <td>34.0</td>\n",
       "      <td>0.9978</td>\n",
       "      <td>3.51</td>\n",
       "      <td>0.56</td>\n",
       "      <td>9.4</td>\n",
       "      <td>5</td>\n",
       "      <td>0</td>\n",
       "    </tr>\n",
       "  </tbody>\n",
       "</table>\n",
       "</div>"
      ],
      "text/plain": [
       "   fixed acidity  volatile acidity  citric acid  residual sugar  chlorides  \\\n",
       "0            7.4              0.70         0.00             1.9      0.076   \n",
       "1            7.8              0.88         0.00             2.6      0.098   \n",
       "2            7.8              0.76         0.04             2.3      0.092   \n",
       "3           11.2              0.28         0.56             1.9      0.075   \n",
       "4            7.4              0.70         0.00             1.9      0.076   \n",
       "\n",
       "   free sulfur dioxide  total sulfur dioxide  density    pH  sulphates  \\\n",
       "0                 11.0                  34.0   0.9978  3.51       0.56   \n",
       "1                 25.0                  67.0   0.9968  3.20       0.68   \n",
       "2                 15.0                  54.0   0.9970  3.26       0.65   \n",
       "3                 17.0                  60.0   0.9980  3.16       0.58   \n",
       "4                 11.0                  34.0   0.9978  3.51       0.56   \n",
       "\n",
       "   alcohol  quality  white?  \n",
       "0      9.4        5       0  \n",
       "1      9.8        5       0  \n",
       "2      9.8        5       0  \n",
       "3      9.8        6       0  \n",
       "4      9.4        5       0  "
      ]
     },
     "execution_count": 3,
     "metadata": {},
     "output_type": "execute_result"
    }
   ],
   "source": [
    "df = pd.DataFrame(red_data, columns=red_data[0])\n",
    "df = df.drop(df.index[0])\n",
    "df.head()\n",
    "red = df.rename(columns={0:'white?'});\n",
    "red.reset_index(drop=True, inplace=True)\n",
    "\n",
    "red2=pd.DataFrame()\n",
    "for key in red.keys():\n",
    "    red2[key]=pd.to_numeric(red[key])\n",
    "\n",
    "red2.head()"
   ]
  },
  {
   "cell_type": "code",
   "execution_count": 4,
   "metadata": {
    "collapsed": false
   },
   "outputs": [],
   "source": [
    "df2 = pd.DataFrame(white_data, columns=white_data[0])\n",
    "df2 = df2.drop(df2.index[0])\n",
    "white = df2.rename(columns={1:'white?'});\n",
    "white.reset_index(drop=True, inplace=True)\n",
    "\n",
    "white2=pd.DataFrame()\n",
    "for key in white.keys():\n",
    "    white2[key]=pd.to_numeric(white[key])\n"
   ]
  },
  {
   "cell_type": "code",
   "execution_count": 5,
   "metadata": {
    "collapsed": false
   },
   "outputs": [],
   "source": [
    "comp_data = pd.concat([white2, red2])\n",
    "comp_data.reset_index(drop=True, inplace=True)"
   ]
  },
  {
   "cell_type": "markdown",
   "metadata": {},
   "source": [
    "# Exploring data"
   ]
  },
  {
   "cell_type": "code",
   "execution_count": 6,
   "metadata": {
    "collapsed": false
   },
   "outputs": [
    {
     "data": {
      "text/html": [
       "\n",
       "    <div class=\"bk-root\">\n",
       "        <a href=\"http://bokeh.pydata.org\" target=\"_blank\" class=\"bk-logo bk-logo-small bk-logo-notebook\"></a>\n",
       "        <span id=\"5748ab53-ded7-48ca-b5f1-35e5e3cc189a\">Loading BokehJS ...</span>\n",
       "    </div>"
      ]
     },
     "metadata": {},
     "output_type": "display_data"
    },
    {
     "data": {
      "application/javascript": [
       "\n",
       "(function(global) {\n",
       "  function now() {\n",
       "    return new Date();\n",
       "  }\n",
       "\n",
       "  if (typeof (window._bokeh_onload_callbacks) === \"undefined\") {\n",
       "    window._bokeh_onload_callbacks = [];\n",
       "  }\n",
       "\n",
       "  function run_callbacks() {\n",
       "    window._bokeh_onload_callbacks.forEach(function(callback) { callback() });\n",
       "    delete window._bokeh_onload_callbacks\n",
       "    console.info(\"Bokeh: all callbacks have finished\");\n",
       "  }\n",
       "\n",
       "  function load_libs(js_urls, callback) {\n",
       "    window._bokeh_onload_callbacks.push(callback);\n",
       "    if (window._bokeh_is_loading > 0) {\n",
       "      console.log(\"Bokeh: BokehJS is being loaded, scheduling callback at\", now());\n",
       "      return null;\n",
       "    }\n",
       "    if (js_urls == null || js_urls.length === 0) {\n",
       "      run_callbacks();\n",
       "      return null;\n",
       "    }\n",
       "    console.log(\"Bokeh: BokehJS not loaded, scheduling load and callback at\", now());\n",
       "    window._bokeh_is_loading = js_urls.length;\n",
       "    for (var i = 0; i < js_urls.length; i++) {\n",
       "      var url = js_urls[i];\n",
       "      var s = document.createElement('script');\n",
       "      s.src = url;\n",
       "      s.async = false;\n",
       "      s.onreadystatechange = s.onload = function() {\n",
       "        window._bokeh_is_loading--;\n",
       "        if (window._bokeh_is_loading === 0) {\n",
       "          console.log(\"Bokeh: all BokehJS libraries loaded\");\n",
       "          run_callbacks()\n",
       "        }\n",
       "      };\n",
       "      s.onerror = function() {\n",
       "        console.warn(\"failed to load library \" + url);\n",
       "      };\n",
       "      console.log(\"Bokeh: injecting script tag for BokehJS library: \", url);\n",
       "      document.getElementsByTagName(\"head\")[0].appendChild(s);\n",
       "    }\n",
       "  };\n",
       "\n",
       "  var js_urls = ['https://cdn.pydata.org/bokeh/release/bokeh-0.12.0.min.js', 'https://cdn.pydata.org/bokeh/release/bokeh-widgets-0.12.0.min.js', 'https://cdn.pydata.org/bokeh/release/bokeh-compiler-0.12.0.min.js'];\n",
       "\n",
       "  var inline_js = [\n",
       "    function(Bokeh) {\n",
       "      Bokeh.set_log_level(\"info\");\n",
       "    },\n",
       "    \n",
       "    function(Bokeh) {\n",
       "      Bokeh.$(\"#5748ab53-ded7-48ca-b5f1-35e5e3cc189a\").text(\"BokehJS successfully loaded\");\n",
       "    },\n",
       "    function(Bokeh) {\n",
       "      console.log(\"Bokeh: injecting CSS: https://cdn.pydata.org/bokeh/release/bokeh-0.12.0.min.css\");\n",
       "      Bokeh.embed.inject_css(\"https://cdn.pydata.org/bokeh/release/bokeh-0.12.0.min.css\");\n",
       "      console.log(\"Bokeh: injecting CSS: https://cdn.pydata.org/bokeh/release/bokeh-widgets-0.12.0.min.css\");\n",
       "      Bokeh.embed.inject_css(\"https://cdn.pydata.org/bokeh/release/bokeh-widgets-0.12.0.min.css\");\n",
       "    }\n",
       "  ];\n",
       "\n",
       "  function run_inline_js() {\n",
       "    for (var i = 0; i < inline_js.length; i++) {\n",
       "      inline_js[i](window.Bokeh);\n",
       "    }\n",
       "  }\n",
       "\n",
       "  if (window._bokeh_is_loading === 0) {\n",
       "    console.log(\"Bokeh: BokehJS loaded, going straight to plotting\");\n",
       "    run_inline_js();\n",
       "  } else {\n",
       "    load_libs(js_urls, function() {\n",
       "      console.log(\"Bokeh: BokehJS plotting callback run at\", now());\n",
       "      run_inline_js();\n",
       "    });\n",
       "  }\n",
       "}(this));"
      ]
     },
     "metadata": {},
     "output_type": "display_data"
    }
   ],
   "source": [
    "from bokeh.charts import Histogram\n",
    "from bokeh.charts import Bar\n",
    "from bokeh.io import output_notebook, output_file, output_server, show\n",
    "from bokeh.layouts import gridplot\n",
    "from bokeh.plotting import figure\n",
    "from bokeh.charts import BoxPlot\n",
    "import bokeh.plotting as bplt\n",
    "output_notebook()"
   ]
  },
  {
   "cell_type": "code",
   "execution_count": 16,
   "metadata": {
    "collapsed": true
   },
   "outputs": [],
   "source": [
    "bplt.save??"
   ]
  },
  {
   "cell_type": "code",
   "execution_count": 19,
   "metadata": {
    "collapsed": false
   },
   "outputs": [
    {
     "data": {
      "text/html": [
       "\n",
       "\n",
       "    <div class=\"bk-root\">\n",
       "        <div class=\"plotdiv\" id=\"a1ba2a46-e9c1-4f9f-a121-59124949c61a\"></div>\n",
       "    </div>\n",
       "<script type=\"text/javascript\">\n",
       "  \n",
       "  (function(global) {\n",
       "    function now() {\n",
       "      return new Date();\n",
       "    }\n",
       "  \n",
       "    if (typeof (window._bokeh_onload_callbacks) === \"undefined\") {\n",
       "      window._bokeh_onload_callbacks = [];\n",
       "    }\n",
       "  \n",
       "    function run_callbacks() {\n",
       "      window._bokeh_onload_callbacks.forEach(function(callback) { callback() });\n",
       "      delete window._bokeh_onload_callbacks\n",
       "      console.info(\"Bokeh: all callbacks have finished\");\n",
       "    }\n",
       "  \n",
       "    function load_libs(js_urls, callback) {\n",
       "      window._bokeh_onload_callbacks.push(callback);\n",
       "      if (window._bokeh_is_loading > 0) {\n",
       "        console.log(\"Bokeh: BokehJS is being loaded, scheduling callback at\", now());\n",
       "        return null;\n",
       "      }\n",
       "      if (js_urls == null || js_urls.length === 0) {\n",
       "        run_callbacks();\n",
       "        return null;\n",
       "      }\n",
       "      console.log(\"Bokeh: BokehJS not loaded, scheduling load and callback at\", now());\n",
       "      window._bokeh_is_loading = js_urls.length;\n",
       "      for (var i = 0; i < js_urls.length; i++) {\n",
       "        var url = js_urls[i];\n",
       "        var s = document.createElement('script');\n",
       "        s.src = url;\n",
       "        s.async = false;\n",
       "        s.onreadystatechange = s.onload = function() {\n",
       "          window._bokeh_is_loading--;\n",
       "          if (window._bokeh_is_loading === 0) {\n",
       "            console.log(\"Bokeh: all BokehJS libraries loaded\");\n",
       "            run_callbacks()\n",
       "          }\n",
       "        };\n",
       "        s.onerror = function() {\n",
       "          console.warn(\"failed to load library \" + url);\n",
       "        };\n",
       "        console.log(\"Bokeh: injecting script tag for BokehJS library: \", url);\n",
       "        document.getElementsByTagName(\"head\")[0].appendChild(s);\n",
       "      }\n",
       "    };var element = document.getElementById(\"a1ba2a46-e9c1-4f9f-a121-59124949c61a\");\n",
       "    if (element == null) {\n",
       "      console.log(\"Bokeh: ERROR: autoload.js configured with elementid 'a1ba2a46-e9c1-4f9f-a121-59124949c61a' but no matching script tag was found. \")\n",
       "      return false;\n",
       "    }\n",
       "  \n",
       "    var js_urls = [];\n",
       "  \n",
       "    var inline_js = [\n",
       "      function(Bokeh) {\n",
       "        Bokeh.$(function() {\n",
       "            var docs_json = {\"25fbd85b-0a59-4bcb-9141-231c2115c5b4\":{\"roots\":{\"references\":[{\"attributes\":{\"callback\":null,\"column_names\":[\"height\",\"color\",\"x\",\"fill_alpha\",\"width\",\"line_alpha\",\"line_color\",\"label\",\"y\"],\"data\":{\"chart_index\":[\"(4.1, 4.2]\"],\"color\":[\"#5ab738\"],\"fill_alpha\":[0.6],\"height\":[0.0],\"label\":[\"(4.1, 4.2]\"],\"line_alpha\":[1.0],\"line_color\":[\"black\"],\"width\":[0.11764705882352988],\"x\":[\"4.15\"],\"y\":[0.0]}},\"id\":\"2e8e5026-8441-485d-832a-6d1b2e730a53\",\"type\":\"ColumnDataSource\"},{\"attributes\":{\"data_source\":{\"id\":\"e863035d-7dd3-4f65-ad77-1606ed9fe6cf\",\"type\":\"ColumnDataSource\"},\"glyph\":{\"id\":\"e6619598-0e7d-4462-ade0-b343de6b6360\",\"type\":\"Rect\"},\"hover_glyph\":null,\"nonselection_glyph\":null,\"selection_glyph\":null},\"id\":\"5a3890e4-f5af-465d-aa1c-9d3bcbb38839\",\"type\":\"GlyphRenderer\"},{\"attributes\":{\"data_source\":{\"id\":\"ed5799e2-944f-486d-b9df-5b6dd10ad181\",\"type\":\"ColumnDataSource\"},\"glyph\":{\"id\":\"73f03302-8688-4c9b-9842-3898bbe75a7e\",\"type\":\"Rect\"},\"hover_glyph\":null,\"nonselection_glyph\":null,\"selection_glyph\":null},\"id\":\"f6d5c5c0-f63b-4ab3-9f8b-3b8a7c31a4e4\",\"type\":\"GlyphRenderer\"},{\"attributes\":{\"callback\":null,\"factors\":[\"0\",\"1\"]},\"id\":\"6d3daab4-770d-4fee-9513-2cc365f70610\",\"type\":\"FactorRange\"},{\"attributes\":{\"callback\":null,\"column_names\":[\"height\",\"color\",\"x\",\"fill_alpha\",\"width\",\"line_alpha\",\"line_color\",\"label\",\"y\"],\"data\":{\"chart_index\":[\"(5.5, 5.7]\"],\"color\":[\"#f22c40\"],\"fill_alpha\":[0.6],\"height\":[0.0],\"label\":[\"(5.5, 5.7]\"],\"line_alpha\":[1.0],\"line_color\":[\"black\"],\"width\":[0.16666666666666607],\"x\":[\"5.6\"],\"y\":[0.0]}},\"id\":\"0f472f67-3ce2-46f3-8212-2c4a6d42c2ce\",\"type\":\"ColumnDataSource\"},{\"attributes\":{\"data_source\":{\"id\":\"1e6a3a1b-d8f5-49cb-b1b8-1350afb444a2\",\"type\":\"ColumnDataSource\"},\"glyph\":{\"id\":\"62245350-52b7-47b4-9ac2-a11ef04f73c4\",\"type\":\"Rect\"},\"hover_glyph\":null,\"nonselection_glyph\":null,\"selection_glyph\":null},\"id\":\"ea251334-3176-40cf-8b55-14d2b2f131a2\",\"type\":\"GlyphRenderer\"},{\"attributes\":{\"fill_alpha\":{\"field\":\"fill_alpha\"},\"fill_color\":{\"field\":\"color\"},\"height\":{\"field\":\"height\",\"units\":\"data\"},\"line_color\":{\"field\":\"line_color\"},\"width\":{\"field\":\"width\",\"units\":\"data\"},\"x\":{\"field\":\"x\"},\"y\":{\"field\":\"y\"}},\"id\":\"cfd281d9-9075-472c-8821-f4739eb962af\",\"type\":\"Rect\"},{\"attributes\":{\"data_source\":{\"id\":\"49250027-b2c5-4d16-9b56-a9fa3f74ce21\",\"type\":\"ColumnDataSource\"},\"glyph\":{\"id\":\"1550f14e-579f-4edb-a4e1-ea124f606419\",\"type\":\"Rect\"},\"hover_glyph\":null,\"nonselection_glyph\":null,\"selection_glyph\":null},\"id\":\"e50c4ac1-7c68-4e84-a531-e29c03dba519\",\"type\":\"GlyphRenderer\"},{\"attributes\":{\"data_source\":{\"id\":\"523838df-773a-4d1b-bcc4-492d7e5b126d\",\"type\":\"ColumnDataSource\"},\"glyph\":{\"id\":\"07fd7d92-8c87-4f42-a69d-7096187299ea\",\"type\":\"Rect\"},\"hover_glyph\":null,\"nonselection_glyph\":null,\"selection_glyph\":null},\"id\":\"d873fc85-bf64-4514-9dd0-cdb7a8d8269d\",\"type\":\"GlyphRenderer\"},{\"attributes\":{\"fill_alpha\":{\"field\":\"fill_alpha\"},\"fill_color\":{\"field\":\"color\"},\"height\":{\"field\":\"height\",\"units\":\"data\"},\"line_color\":{\"field\":\"line_color\"},\"width\":{\"field\":\"width\",\"units\":\"data\"},\"x\":{\"field\":\"x\"},\"y\":{\"field\":\"y\"}},\"id\":\"37abc847-5886-4423-8bfe-8ccdfe6f84ca\",\"type\":\"Rect\"},{\"attributes\":{\"callback\":null,\"column_names\":[\"height\",\"color\",\"x\",\"fill_alpha\",\"width\",\"line_alpha\",\"line_color\",\"label\",\"y\"],\"data\":{\"chart_index\":[\"(6.2, 6.3]\"],\"color\":[\"#5ab738\"],\"fill_alpha\":[0.6],\"height\":[0.0],\"label\":[\"(6.2, 6.3]\"],\"line_alpha\":[1.0],\"line_color\":[\"black\"],\"width\":[0.11764705882352988],\"x\":[\"6.25\"],\"y\":[0.0]}},\"id\":\"78514f56-5bd1-433b-a2be-a1ff6452055b\",\"type\":\"ColumnDataSource\"},{\"attributes\":{\"plot\":null,\"text\":null},\"id\":\"e8b9b265-8762-4532-83b5-2a2d48208980\",\"type\":\"Title\"},{\"attributes\":{\"data_source\":{\"id\":\"f65d4773-3f87-494c-9169-3f3927d59943\",\"type\":\"ColumnDataSource\"},\"glyph\":{\"id\":\"0d28be30-3290-407c-be50-6958731f112b\",\"type\":\"Rect\"},\"hover_glyph\":null,\"nonselection_glyph\":null,\"selection_glyph\":null},\"id\":\"36e9e205-4960-4380-9812-01c451731da5\",\"type\":\"GlyphRenderer\"},{\"attributes\":{\"fill_alpha\":{\"field\":\"fill_alpha\"},\"fill_color\":{\"field\":\"color\"},\"height\":{\"field\":\"height\",\"units\":\"data\"},\"line_color\":{\"field\":\"line_color\"},\"width\":{\"field\":\"width\",\"units\":\"data\"},\"x\":{\"field\":\"x\"},\"y\":{\"field\":\"y\"}},\"id\":\"b4445461-2f0f-4955-a742-af420db7b471\",\"type\":\"Rect\"},{\"attributes\":{\"data_source\":{\"id\":\"432a6d1f-658f-45ab-aed8-bcd6e618d9da\",\"type\":\"ColumnDataSource\"},\"glyph\":{\"id\":\"a9aabcdb-5cdd-4422-95f7-2d4b3b5ea8ab\",\"type\":\"Rect\"},\"hover_glyph\":null,\"nonselection_glyph\":null,\"selection_glyph\":null},\"id\":\"214c6092-2de8-4872-93d9-230e7864e82f\",\"type\":\"GlyphRenderer\"},{\"attributes\":{\"data_source\":{\"id\":\"da928c03-5c72-4140-8ee9-3acc08825270\",\"type\":\"ColumnDataSource\"},\"glyph\":{\"id\":\"cfd281d9-9075-472c-8821-f4739eb962af\",\"type\":\"Rect\"},\"hover_glyph\":null,\"nonselection_glyph\":null,\"selection_glyph\":null},\"id\":\"e6dba7fe-2ddf-4160-967b-779450a2e36e\",\"type\":\"GlyphRenderer\"},{\"attributes\":{\"callback\":null,\"column_names\":[\"height\",\"color\",\"x\",\"fill_alpha\",\"width\",\"line_alpha\",\"line_color\",\"label\",\"y\"],\"data\":{\"chart_index\":[\"(5.3, 5.5]\"],\"color\":[\"#f22c40\"],\"fill_alpha\":[0.6],\"height\":[0.0],\"label\":[\"(5.3, 5.5]\"],\"line_alpha\":[1.0],\"line_color\":[\"black\"],\"width\":[0.16666666666666696],\"x\":[\"5.4\"],\"y\":[0.0]}},\"id\":\"de43edad-54bf-453f-8eec-810ae171cbf2\",\"type\":\"ColumnDataSource\"},{\"attributes\":{\"fill_alpha\":{\"field\":\"fill_alpha\"},\"fill_color\":{\"field\":\"color\"},\"height\":{\"field\":\"height\",\"units\":\"data\"},\"line_color\":{\"field\":\"line_color\"},\"width\":{\"field\":\"width\",\"units\":\"data\"},\"x\":{\"field\":\"x\"},\"y\":{\"field\":\"y\"}},\"id\":\"ff43bc8e-904c-4b4a-a7c3-ed517624a9bd\",\"type\":\"Rect\"},{\"attributes\":{\"data_source\":{\"id\":\"d18e51a0-9ccf-4589-864a-e8cea96fba02\",\"type\":\"ColumnDataSource\"},\"glyph\":{\"id\":\"fcd40967-3e65-4aa5-a68f-dd64e3c9ae05\",\"type\":\"Rect\"},\"hover_glyph\":null,\"nonselection_glyph\":null,\"selection_glyph\":null},\"id\":\"8547aae4-3bac-40ee-ad83-e2bd45cf8410\",\"type\":\"GlyphRenderer\"},{\"attributes\":{\"data_source\":{\"id\":\"9895cf1c-d51d-4015-8061-340a5e4e92ba\",\"type\":\"ColumnDataSource\"},\"glyph\":{\"id\":\"7a398852-d210-4ae2-81c1-059033511699\",\"type\":\"Rect\"},\"hover_glyph\":null,\"nonselection_glyph\":null,\"selection_glyph\":null},\"id\":\"46015993-a5b6-48c3-b320-af65f3500d3e\",\"type\":\"GlyphRenderer\"},{\"attributes\":{\"callback\":null,\"column_names\":[\"height\",\"color\",\"x\",\"fill_alpha\",\"width\",\"line_alpha\",\"line_color\",\"label\",\"y\"],\"data\":{\"chart_index\":[\"(7.9, 8.1]\"],\"color\":[\"#5ab738\"],\"fill_alpha\":[0.6],\"height\":[175.0],\"label\":[\"(7.9, 8.1]\"],\"line_alpha\":[1.0],\"line_color\":[\"black\"],\"width\":[0.117647058823529],\"x\":[\"8.0\"],\"y\":[87.5]}},\"id\":\"18e8a663-c975-44c2-9f26-76fe2b3fc596\",\"type\":\"ColumnDataSource\"},{\"attributes\":{\"data_source\":{\"id\":\"5a7ce6a2-4b94-4e3b-bbf6-b51f9343158e\",\"type\":\"ColumnDataSource\"},\"glyph\":{\"id\":\"1e51a7a6-4532-4476-9831-b8ff796b34b5\",\"type\":\"Rect\"},\"hover_glyph\":null,\"nonselection_glyph\":null,\"selection_glyph\":null},\"id\":\"72824722-7365-4aa8-aba0-4e3406b59bfc\",\"type\":\"GlyphRenderer\"},{\"attributes\":{},\"id\":\"80150f9c-3401-4aa0-88ed-5db58fbe7c51\",\"type\":\"BasicTicker\"},{\"attributes\":{\"fill_alpha\":{\"field\":\"fill_alpha\"},\"fill_color\":{\"field\":\"color\"},\"height\":{\"field\":\"height\",\"units\":\"data\"},\"line_color\":{\"field\":\"line_color\"},\"width\":{\"field\":\"width\",\"units\":\"data\"},\"x\":{\"field\":\"x\"},\"y\":{\"field\":\"y\"}},\"id\":\"e6619598-0e7d-4462-ade0-b343de6b6360\",\"type\":\"Rect\"},{\"attributes\":{\"fill_alpha\":{\"field\":\"fill_alpha\"},\"fill_color\":{\"field\":\"color\"},\"height\":{\"field\":\"height\",\"units\":\"data\"},\"line_color\":{\"field\":\"line_color\"},\"width\":{\"field\":\"width\",\"units\":\"data\"},\"x\":{\"field\":\"x\"},\"y\":{\"field\":\"y\"}},\"id\":\"ca1325f6-fb64-40a4-8a08-8bdab870d761\",\"type\":\"Rect\"},{\"attributes\":{\"data_source\":{\"id\":\"510c8d5f-4e30-42c2-867d-8e09bc39a4bb\",\"type\":\"ColumnDataSource\"},\"glyph\":{\"id\":\"02c97d78-ad90-42bb-9c7f-42e9db89780f\",\"type\":\"Rect\"},\"hover_glyph\":null,\"nonselection_glyph\":null,\"selection_glyph\":null},\"id\":\"c765650b-ae67-47b3-884f-0a16df4b3776\",\"type\":\"GlyphRenderer\"},{\"attributes\":{\"plot\":null,\"text\":null},\"id\":\"1dbccfad-989b-4bec-bc31-57fdf087af8e\",\"type\":\"Title\"},{\"attributes\":{\"fill_alpha\":{\"field\":\"fill_alpha\"},\"fill_color\":{\"field\":\"color\"},\"height\":{\"field\":\"height\",\"units\":\"data\"},\"line_color\":{\"field\":\"line_color\"},\"width\":{\"field\":\"width\",\"units\":\"data\"},\"x\":{\"field\":\"x\"},\"y\":{\"field\":\"y\"}},\"id\":\"15ded2f0-b0e3-4ea7-baf7-c1143e1cff56\",\"type\":\"Rect\"},{\"attributes\":{\"data_source\":{\"id\":\"d821fba9-3f2c-493b-8472-4be05e824b0d\",\"type\":\"ColumnDataSource\"},\"glyph\":{\"id\":\"5dcdd31d-e3a5-49d7-9a74-475068efb54c\",\"type\":\"Rect\"},\"hover_glyph\":null,\"nonselection_glyph\":null,\"selection_glyph\":null},\"id\":\"fe58809e-4048-4f67-8470-7f9390f0d548\",\"type\":\"GlyphRenderer\"},{\"attributes\":{\"callback\":null,\"column_names\":[\"height\",\"color\",\"x\",\"fill_alpha\",\"width\",\"line_alpha\",\"line_color\",\"label\",\"y\"],\"data\":{\"chart_index\":[\"(7.4, 7.5]\"],\"color\":[\"#5ab738\"],\"fill_alpha\":[0.6],\"height\":[0.0],\"label\":[\"(7.4, 7.5]\"],\"line_alpha\":[1.0],\"line_color\":[\"black\"],\"width\":[0.11764705882352988],\"x\":[\"7.45\"],\"y\":[0.0]}},\"id\":\"5aa45907-7f9f-42c8-a9d4-6cd117117c8f\",\"type\":\"ColumnDataSource\"},{\"attributes\":{\"data_source\":{\"id\":\"2b5b5f86-0a8a-48d6-9536-804f3ece24a7\",\"type\":\"ColumnDataSource\"},\"glyph\":{\"id\":\"8ff8cc43-4595-4b24-9893-73f48a9b6350\",\"type\":\"Rect\"},\"hover_glyph\":null,\"nonselection_glyph\":null,\"selection_glyph\":null},\"id\":\"fd7bcd80-ed96-409a-85f8-a24c0ffc3273\",\"type\":\"GlyphRenderer\"},{\"attributes\":{\"callback\":null,\"column_names\":[\"height\",\"color\",\"x\",\"fill_alpha\",\"width\",\"line_alpha\",\"line_color\",\"label\",\"y\"],\"data\":{\"chart_index\":[\"(3.8, 3.9]\"],\"color\":[\"#5ab738\"],\"fill_alpha\":[0.6],\"height\":[0.0],\"label\":[\"(3.8, 3.9]\"],\"line_alpha\":[1.0],\"line_color\":[\"black\"],\"width\":[0.11764705882352988],\"x\":[\"3.8499999999999996\"],\"y\":[0.0]}},\"id\":\"f6084e2d-d7b7-49c2-8132-a206bb2fe29c\",\"type\":\"ColumnDataSource\"},{\"attributes\":{\"data_source\":{\"id\":\"ea91f7f3-7671-42e2-9f2a-53bb6d0c833a\",\"type\":\"ColumnDataSource\"},\"glyph\":{\"id\":\"ff43bc8e-904c-4b4a-a7c3-ed517624a9bd\",\"type\":\"Rect\"},\"hover_glyph\":null,\"nonselection_glyph\":null,\"selection_glyph\":null},\"id\":\"b1b1e0ba-f1d9-4657-8265-26cd8f7efd06\",\"type\":\"GlyphRenderer\"},{\"attributes\":{\"data_source\":{\"id\":\"67a36eed-d6b6-4346-bf33-f03570fc653c\",\"type\":\"ColumnDataSource\"},\"glyph\":{\"id\":\"5ebae2f7-0390-4541-a2db-8a63c55e7e1d\",\"type\":\"Rect\"},\"hover_glyph\":null,\"nonselection_glyph\":null,\"selection_glyph\":null},\"id\":\"056f5a85-5d96-45bc-b157-cadae5dba627\",\"type\":\"GlyphRenderer\"},{\"attributes\":{\"fill_alpha\":{\"field\":\"fill_alpha\"},\"fill_color\":{\"field\":\"color\"},\"height\":{\"field\":\"height\",\"units\":\"data\"},\"line_color\":{\"field\":\"line_color\"},\"width\":{\"field\":\"width\",\"units\":\"data\"},\"x\":{\"field\":\"x\"},\"y\":{\"field\":\"y\"}},\"id\":\"5dcdd31d-e3a5-49d7-9a74-475068efb54c\",\"type\":\"Rect\"},{\"attributes\":{\"callback\":null,\"column_names\":[\"height\",\"color\",\"x\",\"fill_alpha\",\"width\",\"line_alpha\",\"line_color\",\"label\",\"y\"],\"data\":{\"chart_index\":[\"(7.7, 7.8]\"],\"color\":[\"#f22c40\"],\"fill_alpha\":[0.6],\"height\":[0.0],\"label\":[\"(7.7, 7.8]\"],\"line_alpha\":[1.0],\"line_color\":[\"black\"],\"width\":[0.16666666666666696],\"x\":[\"7.75\"],\"y\":[0.0]}},\"id\":\"510c8d5f-4e30-42c2-867d-8e09bc39a4bb\",\"type\":\"ColumnDataSource\"},{\"attributes\":{\"fill_alpha\":{\"field\":\"fill_alpha\"},\"fill_color\":{\"field\":\"color\"},\"height\":{\"field\":\"height\",\"units\":\"data\"},\"line_color\":{\"field\":\"line_color\"},\"width\":{\"field\":\"width\",\"units\":\"data\"},\"x\":{\"field\":\"x\"},\"y\":{\"field\":\"y\"}},\"id\":\"f389e74d-b1b4-4a2e-a91b-ea9690a53241\",\"type\":\"Rect\"},{\"attributes\":{\"data_source\":{\"id\":\"8c11a55c-5d7f-4838-98c4-88939b9b587f\",\"type\":\"ColumnDataSource\"},\"glyph\":{\"id\":\"617e80ef-e2d5-4bbd-9120-db117eb4a50b\",\"type\":\"Rect\"},\"hover_glyph\":null,\"nonselection_glyph\":null,\"selection_glyph\":null},\"id\":\"a46f0167-c920-483c-9a27-f32981dcd464\",\"type\":\"GlyphRenderer\"},{\"attributes\":{\"fill_alpha\":{\"field\":\"fill_alpha\"},\"fill_color\":{\"field\":\"color\"},\"height\":{\"field\":\"height\",\"units\":\"data\"},\"line_color\":{\"field\":\"line_color\"},\"width\":{\"field\":\"width\",\"units\":\"data\"},\"x\":{\"field\":\"x\"},\"y\":{\"field\":\"y\"}},\"id\":\"227249d4-5d91-48a3-8490-90fffecc8e86\",\"type\":\"Rect\"},{\"attributes\":{\"callback\":null,\"column_names\":[\"height\",\"color\",\"x\",\"fill_alpha\",\"width\",\"line_alpha\",\"line_color\",\"label\",\"y\"],\"data\":{\"chart_index\":[\"(5.1, 5.2]\"],\"color\":[\"#5ab738\"],\"fill_alpha\":[0.6],\"height\":[0.0],\"label\":[\"(5.1, 5.2]\"],\"line_alpha\":[1.0],\"line_color\":[\"black\"],\"width\":[0.11764705882352988],\"x\":[\"5.15\"],\"y\":[0.0]}},\"id\":\"62ec607e-1666-40a7-ae38-1245ffabdf43\",\"type\":\"ColumnDataSource\"},{\"attributes\":{\"fill_alpha\":{\"field\":\"fill_alpha\"},\"fill_color\":{\"field\":\"color\"},\"height\":{\"field\":\"height\",\"units\":\"data\"},\"line_color\":{\"field\":\"line_color\"},\"width\":{\"field\":\"width\",\"units\":\"data\"},\"x\":{\"field\":\"x\"},\"y\":{\"field\":\"y\"}},\"id\":\"1e51a7a6-4532-4476-9831-b8ff796b34b5\",\"type\":\"Rect\"},{\"attributes\":{\"fill_alpha\":{\"field\":\"fill_alpha\"},\"fill_color\":{\"field\":\"color\"},\"height\":{\"field\":\"height\",\"units\":\"data\"},\"line_color\":{\"field\":\"line_color\"},\"width\":{\"field\":\"width\",\"units\":\"data\"},\"x\":{\"field\":\"x\"},\"y\":{\"field\":\"y\"}},\"id\":\"2d89a06b-a796-45df-bb62-e34aaae19ff4\",\"type\":\"Rect\"},{\"attributes\":{\"fill_alpha\":{\"field\":\"fill_alpha\"},\"fill_color\":{\"field\":\"color\"},\"height\":{\"field\":\"height\",\"units\":\"data\"},\"line_color\":{\"field\":\"line_color\"},\"width\":{\"field\":\"width\",\"units\":\"data\"},\"x\":{\"field\":\"x\"},\"y\":{\"field\":\"y\"}},\"id\":\"e7a73e7e-a98f-4f71-8885-f5fadd689e95\",\"type\":\"Rect\"},{\"attributes\":{},\"id\":\"8d2e8a50-a4ba-48e8-8642-b51ae3e37ce7\",\"type\":\"CategoricalTicker\"},{\"attributes\":{\"fill_alpha\":{\"field\":\"fill_alpha\"},\"fill_color\":{\"field\":\"color\"},\"height\":{\"field\":\"height\",\"units\":\"data\"},\"line_color\":{\"field\":\"line_color\"},\"width\":{\"field\":\"width\",\"units\":\"data\"},\"x\":{\"field\":\"x\"},\"y\":{\"field\":\"y\"}},\"id\":\"21f7f52f-25ec-4422-a017-4336d57ed331\",\"type\":\"Rect\"},{\"attributes\":{\"fill_alpha\":{\"field\":\"fill_alpha\"},\"fill_color\":{\"field\":\"color\"},\"height\":{\"field\":\"height\",\"units\":\"data\"},\"line_color\":{\"field\":\"line_color\"},\"width\":{\"field\":\"width\",\"units\":\"data\"},\"x\":{\"field\":\"x\"},\"y\":{\"field\":\"y\"}},\"id\":\"7012faad-b791-41d4-a206-170bc81837f9\",\"type\":\"Rect\"},{\"attributes\":{\"callback\":null,\"column_names\":[\"height\",\"color\",\"x\",\"fill_alpha\",\"width\",\"line_alpha\",\"line_color\",\"label\",\"y\"],\"data\":{\"chart_index\":[\"(6.9, 7.0]\"],\"color\":[\"#5ab738\"],\"fill_alpha\":[0.6],\"height\":[0.0],\"label\":[\"(6.9, 7.0]\"],\"line_alpha\":[1.0],\"line_color\":[\"black\"],\"width\":[0.117647058823529],\"x\":[\"6.95\"],\"y\":[0.0]}},\"id\":\"dde6bbc4-210a-4a1e-aeb2-5df2085073dc\",\"type\":\"ColumnDataSource\"},{\"attributes\":{\"fill_alpha\":{\"field\":\"fill_alpha\"},\"fill_color\":{\"field\":\"color\"},\"height\":{\"field\":\"height\",\"units\":\"data\"},\"line_color\":{\"field\":\"line_color\"},\"width\":{\"field\":\"width\",\"units\":\"data\"},\"x\":{\"field\":\"x\"},\"y\":{\"field\":\"y\"}},\"id\":\"5972a7ff-bea0-48c7-a404-7dffe96608c6\",\"type\":\"Rect\"},{\"attributes\":{\"data_source\":{\"id\":\"0f472f67-3ce2-46f3-8212-2c4a6d42c2ce\",\"type\":\"ColumnDataSource\"},\"glyph\":{\"id\":\"2c8bf1fd-1ef9-416f-8ff5-01aa859ead8a\",\"type\":\"Rect\"},\"hover_glyph\":null,\"nonselection_glyph\":null,\"selection_glyph\":null},\"id\":\"859d652e-f301-41b5-843c-ffb7561c3e93\",\"type\":\"GlyphRenderer\"},{\"attributes\":{\"data_source\":{\"id\":\"57e53e87-865c-402f-8b96-5fac6540ec01\",\"type\":\"ColumnDataSource\"},\"glyph\":{\"id\":\"e0602268-8f2b-4579-a56f-cac73a0ef33a\",\"type\":\"Rect\"},\"hover_glyph\":null,\"nonselection_glyph\":null,\"selection_glyph\":null},\"id\":\"3662a5f2-31d5-469a-95ff-85dc983c6f21\",\"type\":\"GlyphRenderer\"},{\"attributes\":{\"data_source\":{\"id\":\"90e8b4c2-b09f-44c4-a869-70efa67f56d2\",\"type\":\"ColumnDataSource\"},\"glyph\":{\"id\":\"37abc847-5886-4423-8bfe-8ccdfe6f84ca\",\"type\":\"Rect\"},\"hover_glyph\":null,\"nonselection_glyph\":null,\"selection_glyph\":null},\"id\":\"1ab827ae-1e70-4c3a-87b1-c696bb2b652c\",\"type\":\"GlyphRenderer\"},{\"attributes\":{\"callback\":null,\"column_names\":[\"height\",\"color\",\"x\",\"fill_alpha\",\"width\",\"line_alpha\",\"line_color\",\"label\",\"y\"],\"data\":{\"chart_index\":[\"(4.3, 4.4]\"],\"color\":[\"#5ab738\"],\"fill_alpha\":[0.6],\"height\":[0.0],\"label\":[\"(4.3, 4.4]\"],\"line_alpha\":[1.0],\"line_color\":[\"black\"],\"width\":[0.11764705882352988],\"x\":[\"4.35\"],\"y\":[0.0]}},\"id\":\"d98702a8-e8ca-4df3-af1d-5061e3b84843\",\"type\":\"ColumnDataSource\"},{\"attributes\":{\"data_source\":{\"id\":\"62ec607e-1666-40a7-ae38-1245ffabdf43\",\"type\":\"ColumnDataSource\"},\"glyph\":{\"id\":\"39b4a8f6-1b57-4092-baab-d5ff21df45a5\",\"type\":\"Rect\"},\"hover_glyph\":null,\"nonselection_glyph\":null,\"selection_glyph\":null},\"id\":\"4605c95e-7b6d-4e0c-a79c-5659957d321c\",\"type\":\"GlyphRenderer\"},{\"attributes\":{\"data_source\":{\"id\":\"8efeeb86-fdac-4f97-9888-4c372f2433d9\",\"type\":\"ColumnDataSource\"},\"glyph\":{\"id\":\"75d4e721-972e-4db7-a29b-d3b7d0c441f4\",\"type\":\"Rect\"},\"hover_glyph\":null,\"nonselection_glyph\":null,\"selection_glyph\":null},\"id\":\"6c083916-0bd4-4d70-a581-e9cda605fe28\",\"type\":\"GlyphRenderer\"},{\"attributes\":{\"fill_alpha\":{\"field\":\"fill_alpha\"},\"fill_color\":{\"field\":\"color\"},\"height\":{\"field\":\"height\",\"units\":\"data\"},\"line_color\":{\"field\":\"line_color\"},\"width\":{\"field\":\"width\",\"units\":\"data\"},\"x\":{\"field\":\"x\"},\"y\":{\"field\":\"y\"}},\"id\":\"7677a8b8-b046-43c6-90b9-c63edb249916\",\"type\":\"Rect\"},{\"attributes\":{\"callback\":null,\"column_names\":[\"height\",\"color\",\"x\",\"fill_alpha\",\"width\",\"line_alpha\",\"line_color\",\"label\",\"y\"],\"data\":{\"chart_index\":[\"(4.2, 4.3]\"],\"color\":[\"#5ab738\"],\"fill_alpha\":[0.6],\"height\":[0.0],\"label\":[\"(4.2, 4.3]\"],\"line_alpha\":[1.0],\"line_color\":[\"black\"],\"width\":[0.117647058823529],\"x\":[\"4.25\"],\"y\":[0.0]}},\"id\":\"7fa4c69e-0a6b-4533-8bb0-82c798c2b12c\",\"type\":\"ColumnDataSource\"},{\"attributes\":{\"callback\":null,\"column_names\":[\"height\",\"color\",\"x\",\"fill_alpha\",\"width\",\"line_alpha\",\"line_color\",\"label\",\"y\"],\"data\":{\"chart_index\":[\"(6.2, 6.3]\"],\"color\":[\"#f22c40\"],\"fill_alpha\":[0.6],\"height\":[0.0],\"label\":[\"(6.2, 6.3]\"],\"line_alpha\":[1.0],\"line_color\":[\"black\"],\"width\":[0.16666666666666696],\"x\":[\"6.25\"],\"y\":[0.0]}},\"id\":\"ada81a7a-460f-481a-9245-3029409e0048\",\"type\":\"ColumnDataSource\"},{\"attributes\":{\"fill_alpha\":{\"field\":\"fill_alpha\"},\"fill_color\":{\"field\":\"color\"},\"height\":{\"field\":\"height\",\"units\":\"data\"},\"line_color\":{\"field\":\"line_color\"},\"width\":{\"field\":\"width\",\"units\":\"data\"},\"x\":{\"field\":\"x\"},\"y\":{\"field\":\"y\"}},\"id\":\"1930768c-2883-4fb7-a2aa-fa8f4e87e4a7\",\"type\":\"Rect\"},{\"attributes\":{\"below\":[{\"id\":\"8ac7828f-5a56-4867-bcf7-bce452f7b385\",\"type\":\"LinearAxis\"}],\"left\":[{\"id\":\"a779a63c-5d19-4385-9d08-8a4f7a39346f\",\"type\":\"LinearAxis\"}],\"plot_height\":400,\"plot_width\":400,\"renderers\":[{\"id\":\"6abb207f-a676-4c7f-bfdb-313b1c8ca609\",\"type\":\"BoxAnnotation\"},{\"id\":\"ec9d7458-ee4e-43ea-8143-77a74c086477\",\"type\":\"GlyphRenderer\"},{\"id\":\"b1b1e0ba-f1d9-4657-8265-26cd8f7efd06\",\"type\":\"GlyphRenderer\"},{\"id\":\"ab1a8829-535c-4d37-97b4-3a0a665467e0\",\"type\":\"GlyphRenderer\"},{\"id\":\"b21bdc99-2ee6-4216-8512-172cea577b23\",\"type\":\"GlyphRenderer\"},{\"id\":\"6c083916-0bd4-4d70-a581-e9cda605fe28\",\"type\":\"GlyphRenderer\"},{\"id\":\"a4a5aac5-6e54-4aa0-9ac0-08e6bb9b99d5\",\"type\":\"GlyphRenderer\"},{\"id\":\"605140ee-2d81-41b0-9a97-1bd3c711c8b3\",\"type\":\"GlyphRenderer\"},{\"id\":\"cc3e3677-4dfe-4d63-b368-8e9302bc298f\",\"type\":\"GlyphRenderer\"},{\"id\":\"46015993-a5b6-48c3-b320-af65f3500d3e\",\"type\":\"GlyphRenderer\"},{\"id\":\"58ebeeb0-bfb0-405b-968d-5a80671a117a\",\"type\":\"GlyphRenderer\"},{\"id\":\"5adab05f-43c7-4682-bcb8-013ce608490b\",\"type\":\"GlyphRenderer\"},{\"id\":\"d857073d-72b3-421c-9fb6-c51195bea034\",\"type\":\"GlyphRenderer\"},{\"id\":\"0f836b86-285d-45f8-86ee-eacf2f8df0b1\",\"type\":\"GlyphRenderer\"},{\"id\":\"08b8bd42-c848-46f5-ad38-1e9cd689b9cb\",\"type\":\"GlyphRenderer\"},{\"id\":\"056f5a85-5d96-45bc-b157-cadae5dba627\",\"type\":\"GlyphRenderer\"},{\"id\":\"43a93804-97eb-4561-ae55-476f5ff7c982\",\"type\":\"GlyphRenderer\"},{\"id\":\"bb0206cf-73fd-4d1b-9ded-c3dc6aa7f2ff\",\"type\":\"GlyphRenderer\"},{\"id\":\"d63a3dd5-71eb-4320-b9bb-dc2116a0ed52\",\"type\":\"GlyphRenderer\"},{\"id\":\"4605c95e-7b6d-4e0c-a79c-5659957d321c\",\"type\":\"GlyphRenderer\"},{\"id\":\"d873fc85-bf64-4514-9dd0-cdb7a8d8269d\",\"type\":\"GlyphRenderer\"},{\"id\":\"840e54fa-98a0-45b5-8feb-ce6ade8a2337\",\"type\":\"GlyphRenderer\"},{\"id\":\"6f8f1e4a-c647-479f-ba4b-e1561ccf19b6\",\"type\":\"GlyphRenderer\"},{\"id\":\"c4d55ed5-31f5-4208-9b4b-535c6c6eb612\",\"type\":\"GlyphRenderer\"},{\"id\":\"c2346096-07d8-45eb-a3dc-d00b285f75ee\",\"type\":\"GlyphRenderer\"},{\"id\":\"c4d0fb96-f867-4135-9ee3-3d88107178d7\",\"type\":\"GlyphRenderer\"},{\"id\":\"72824722-7365-4aa8-aba0-4e3406b59bfc\",\"type\":\"GlyphRenderer\"},{\"id\":\"ca18ef08-413a-42df-b61a-00d48144d946\",\"type\":\"GlyphRenderer\"},{\"id\":\"e1a49c0d-48b1-42d2-922e-58365fa741d0\",\"type\":\"GlyphRenderer\"},{\"id\":\"2679e58d-783e-4371-bf4c-d5350d102931\",\"type\":\"GlyphRenderer\"},{\"id\":\"47ec3630-5154-42aa-97d7-9c1d30ac0a83\",\"type\":\"GlyphRenderer\"},{\"id\":\"dc205431-c2a8-4de4-8021-0f8f0b891f84\",\"type\":\"GlyphRenderer\"},{\"id\":\"fe58809e-4048-4f67-8470-7f9390f0d548\",\"type\":\"GlyphRenderer\"},{\"id\":\"e50c4ac1-7c68-4e84-a531-e29c03dba519\",\"type\":\"GlyphRenderer\"},{\"id\":\"b95c8c86-e9ab-4e1a-9b81-38f198348702\",\"type\":\"GlyphRenderer\"},{\"id\":\"5915ae24-8d4a-445a-b72f-d14c477e3fcb\",\"type\":\"GlyphRenderer\"},{\"id\":\"7f532383-7a4f-4e7b-b888-dc92caddba7b\",\"type\":\"GlyphRenderer\"},{\"id\":\"b80c88b1-e77d-44ad-8b30-5acfd8dc0501\",\"type\":\"GlyphRenderer\"},{\"id\":\"965c2759-1ca0-46a1-a056-5b08cf2bf2ce\",\"type\":\"GlyphRenderer\"},{\"id\":\"aa76c2e9-c496-4081-9187-8caba6bcb664\",\"type\":\"GlyphRenderer\"},{\"id\":\"ab3e2da3-8a96-4604-82c7-87e8db514271\",\"type\":\"GlyphRenderer\"},{\"id\":\"5a3890e4-f5af-465d-aa1c-9d3bcbb38839\",\"type\":\"GlyphRenderer\"},{\"id\":\"ed001f3c-7756-4b92-9191-d501e965a904\",\"type\":\"GlyphRenderer\"},{\"id\":\"3db85312-65cd-4084-9e69-a6ef5951ec16\",\"type\":\"GlyphRenderer\"},{\"id\":\"b0582232-09cd-4e0e-9417-984550a9624f\",\"type\":\"GlyphRenderer\"},{\"id\":\"999699d9-c63c-45d2-b7ea-06ad788c2112\",\"type\":\"GlyphRenderer\"},{\"id\":\"fd7bcd80-ed96-409a-85f8-a24c0ffc3273\",\"type\":\"GlyphRenderer\"},{\"id\":\"7562e780-c2e8-4ab4-85b5-6c2d126857f0\",\"type\":\"GlyphRenderer\"},{\"id\":\"69c37104-35ed-40b8-8cef-9b3e849c1367\",\"type\":\"GlyphRenderer\"},{\"id\":\"2c5499cd-f29f-4132-80ad-d03fa00143e3\",\"type\":\"GlyphRenderer\"},{\"id\":\"0ca7b884-f75d-47b1-b8c8-501f6acdb17a\",\"type\":\"GlyphRenderer\"},{\"id\":\"ea005c9d-a459-41cf-a635-d9f926c58149\",\"type\":\"GlyphRenderer\"},{\"id\":\"31b97f2e-4f6b-4331-8fee-965e90197aa4\",\"type\":\"GlyphRenderer\"},{\"id\":\"75baefea-06a1-40c6-84ea-3a1a4865be3a\",\"type\":\"GlyphRenderer\"},{\"id\":\"ea251334-3176-40cf-8b55-14d2b2f131a2\",\"type\":\"GlyphRenderer\"},{\"id\":\"a4fa910f-6f78-4c8f-acdc-c86b0a2bf5f9\",\"type\":\"GlyphRenderer\"},{\"id\":\"f6d5c5c0-f63b-4ab3-9f8b-3b8a7c31a4e4\",\"type\":\"GlyphRenderer\"},{\"id\":\"3e7af103-1d3a-4244-af52-acdbc1731b04\",\"type\":\"GlyphRenderer\"},{\"id\":\"af03862d-67ca-4387-b917-30f8f4b84bf4\",\"type\":\"GlyphRenderer\"},{\"id\":\"3662a5f2-31d5-469a-95ff-85dc983c6f21\",\"type\":\"GlyphRenderer\"},{\"id\":\"58eba03b-b9c8-494e-9512-b9350ee348a8\",\"type\":\"GlyphRenderer\"},{\"id\":\"bda4d4bf-d323-4a7c-bd63-c41007f25eeb\",\"type\":\"GlyphRenderer\"},{\"id\":\"381c893a-f56b-4f2c-863a-e5a5d5218779\",\"type\":\"GlyphRenderer\"},{\"id\":\"c9552a0d-5bf1-4196-93b5-39b92e466d77\",\"type\":\"GlyphRenderer\"},{\"id\":\"ec2c73ba-f1cc-4325-91c0-a5ef49df85e8\",\"type\":\"GlyphRenderer\"},{\"id\":\"8c56ba5a-b26a-44fb-a4ad-a38cb723656f\",\"type\":\"GlyphRenderer\"},{\"id\":\"e48b185d-cab8-48b5-845f-271388cabe91\",\"type\":\"GlyphRenderer\"},{\"id\":\"859d652e-f301-41b5-843c-ffb7561c3e93\",\"type\":\"GlyphRenderer\"},{\"id\":\"214c6092-2de8-4872-93d9-230e7864e82f\",\"type\":\"GlyphRenderer\"},{\"id\":\"e6dba7fe-2ddf-4160-967b-779450a2e36e\",\"type\":\"GlyphRenderer\"},{\"id\":\"ea8a7e3a-6781-4399-b5d2-1175c76deb05\",\"type\":\"GlyphRenderer\"},{\"id\":\"f662856b-dd8f-4f34-ae8f-30b1e7d626f1\",\"type\":\"GlyphRenderer\"},{\"id\":\"a46f0167-c920-483c-9a27-f32981dcd464\",\"type\":\"GlyphRenderer\"},{\"id\":\"c3377582-0233-42fe-ad2e-bca660de15f3\",\"type\":\"GlyphRenderer\"},{\"id\":\"8547aae4-3bac-40ee-ad83-e2bd45cf8410\",\"type\":\"GlyphRenderer\"},{\"id\":\"c0f3bd3f-916a-480f-93c3-dfac59925593\",\"type\":\"GlyphRenderer\"},{\"id\":\"918851f1-2184-44a9-a568-4da855d55d65\",\"type\":\"GlyphRenderer\"},{\"id\":\"b08f090c-0b35-4ef9-ae08-165f6fe64cbb\",\"type\":\"GlyphRenderer\"},{\"id\":\"1ab827ae-1e70-4c3a-87b1-c696bb2b652c\",\"type\":\"GlyphRenderer\"},{\"id\":\"b604a53b-a45f-4c9e-be12-18b8fa4c220e\",\"type\":\"GlyphRenderer\"},{\"id\":\"c765650b-ae67-47b3-884f-0a16df4b3776\",\"type\":\"GlyphRenderer\"},{\"id\":\"30113c97-7638-42db-a7a1-9625744f6867\",\"type\":\"GlyphRenderer\"},{\"id\":\"23c3d3a9-1173-44df-b64c-6b20f3f9f321\",\"type\":\"Legend\"},{\"id\":\"8ac7828f-5a56-4867-bcf7-bce452f7b385\",\"type\":\"LinearAxis\"},{\"id\":\"a779a63c-5d19-4385-9d08-8a4f7a39346f\",\"type\":\"LinearAxis\"},{\"id\":\"ce5195ad-e0ac-43fd-96e8-88e345ec01a0\",\"type\":\"Grid\"}],\"title\":{\"id\":\"1dbccfad-989b-4bec-bc31-57fdf087af8e\",\"type\":\"Title\"},\"tool_events\":{\"id\":\"69d290c0-8cf0-40e7-80e1-b1b34d7b05c7\",\"type\":\"ToolEvents\"},\"toolbar\":{\"id\":\"c233cc93-290c-47e0-9051-f8fc621c09b1\",\"type\":\"Toolbar\"},\"toolbar_location\":null,\"x_mapper_type\":\"auto\",\"x_range\":{\"id\":\"1a0b94ac-1d51-426f-bad3-f3cbc1ddcf72\",\"type\":\"Range1d\"},\"y_mapper_type\":\"auto\",\"y_range\":{\"id\":\"e24a2643-a00c-4f67-b4aa-0e239226d392\",\"type\":\"Range1d\"}},\"id\":\"1a7ddfc4-f8cc-4219-8e99-81d08d12a7d8\",\"subtype\":\"Chart\",\"type\":\"Plot\"},{\"attributes\":{\"data_source\":{\"id\":\"56a47c27-a9bb-4ffa-9195-2cba0a3705d6\",\"type\":\"ColumnDataSource\"},\"glyph\":{\"id\":\"227249d4-5d91-48a3-8490-90fffecc8e86\",\"type\":\"Rect\"},\"hover_glyph\":null,\"nonselection_glyph\":null,\"selection_glyph\":null},\"id\":\"7f532383-7a4f-4e7b-b888-dc92caddba7b\",\"type\":\"GlyphRenderer\"},{\"attributes\":{\"data_source\":{\"id\":\"f6084e2d-d7b7-49c2-8132-a206bb2fe29c\",\"type\":\"ColumnDataSource\"},\"glyph\":{\"id\":\"64798949-230d-4427-a64c-3eca4f81ad89\",\"type\":\"Rect\"},\"hover_glyph\":null,\"nonselection_glyph\":null,\"selection_glyph\":null},\"id\":\"cc3e3677-4dfe-4d63-b368-8e9302bc298f\",\"type\":\"GlyphRenderer\"},{\"attributes\":{\"data_source\":{\"id\":\"f6b0516b-22a4-496c-bd2c-1cb10b994bec\",\"type\":\"ColumnDataSource\"},\"glyph\":{\"id\":\"c4abff38-d71f-4eb4-911e-9c9c7390d724\",\"type\":\"Rect\"},\"hover_glyph\":null,\"nonselection_glyph\":null,\"selection_glyph\":null},\"id\":\"58eba03b-b9c8-494e-9512-b9350ee348a8\",\"type\":\"GlyphRenderer\"},{\"attributes\":{\"callback\":null,\"column_names\":[\"height\",\"color\",\"x\",\"fill_alpha\",\"width\",\"line_alpha\",\"line_color\",\"label\",\"y\"],\"data\":{\"chart_index\":[\"(8.2, 8.3]\"],\"color\":[\"#5ab738\"],\"fill_alpha\":[0.6],\"height\":[0.0],\"label\":[\"(8.2, 8.3]\"],\"line_alpha\":[1.0],\"line_color\":[\"black\"],\"width\":[0.117647058823529],\"x\":[\"8.25\"],\"y\":[0.0]}},\"id\":\"b9148472-6829-46ce-8edb-5261393ab3bc\",\"type\":\"ColumnDataSource\"},{\"attributes\":{\"data_source\":{\"id\":\"29b60fce-bfd9-4fa2-9372-258c59c1872e\",\"type\":\"ColumnDataSource\"},\"glyph\":{\"id\":\"2177363e-21af-4eba-be37-41dad68b9f1d\",\"type\":\"Rect\"},\"hover_glyph\":null,\"nonselection_glyph\":null,\"selection_glyph\":null},\"id\":\"a4fa910f-6f78-4c8f-acdc-c86b0a2bf5f9\",\"type\":\"GlyphRenderer\"},{\"attributes\":{\"data_source\":{\"id\":\"18e8a663-c975-44c2-9f26-76fe2b3fc596\",\"type\":\"ColumnDataSource\"},\"glyph\":{\"id\":\"34bbc825-dc5d-4192-8c26-556083d6eed3\",\"type\":\"Rect\"},\"hover_glyph\":null,\"nonselection_glyph\":null,\"selection_glyph\":null},\"id\":\"3db85312-65cd-4084-9e69-a6ef5951ec16\",\"type\":\"GlyphRenderer\"},{\"attributes\":{\"fill_alpha\":{\"field\":\"fill_alpha\"},\"fill_color\":{\"field\":\"color\"},\"height\":{\"field\":\"height\",\"units\":\"data\"},\"line_color\":{\"field\":\"line_color\"},\"width\":{\"field\":\"width\",\"units\":\"data\"},\"x\":{\"field\":\"x\"},\"y\":{\"field\":\"y\"}},\"id\":\"1550f14e-579f-4edb-a4e1-ea124f606419\",\"type\":\"Rect\"},{\"attributes\":{\"callback\":null,\"column_names\":[\"height\",\"color\",\"x\",\"fill_alpha\",\"width\",\"line_alpha\",\"line_color\",\"label\",\"y\"],\"data\":{\"chart_index\":[\"(6.5, 6.7]\"],\"color\":[\"#f22c40\"],\"fill_alpha\":[0.6],\"height\":[0.0],\"label\":[\"(6.5, 6.7]\"],\"line_alpha\":[1.0],\"line_color\":[\"black\"],\"width\":[0.16666666666666607],\"x\":[\"6.6\"],\"y\":[0.0]}},\"id\":\"b6338cb3-4a4b-4246-b95d-2295d5e0bf19\",\"type\":\"ColumnDataSource\"},{\"attributes\":{\"callback\":null,\"column_names\":[\"height\",\"color\",\"x\",\"fill_alpha\",\"width\",\"line_alpha\",\"line_color\",\"label\",\"y\"],\"data\":{\"chart_index\":[\"(6.1, 6.2]\"],\"color\":[\"#5ab738\"],\"fill_alpha\":[0.6],\"height\":[0.0],\"label\":[\"(6.1, 6.2]\"],\"line_alpha\":[1.0],\"line_color\":[\"black\"],\"width\":[0.117647058823529],\"x\":[\"6.15\"],\"y\":[0.0]}},\"id\":\"a14d033a-f2de-432d-b7d7-265177aba49e\",\"type\":\"ColumnDataSource\"},{\"attributes\":{\"fill_alpha\":{\"field\":\"fill_alpha\"},\"fill_color\":{\"field\":\"color\"},\"height\":{\"field\":\"height\",\"units\":\"data\"},\"line_color\":{\"field\":\"line_color\"},\"width\":{\"field\":\"width\",\"units\":\"data\"},\"x\":{\"field\":\"x\"},\"y\":{\"field\":\"y\"}},\"id\":\"c5fc108b-e81d-43e0-83ea-9862ddab1448\",\"type\":\"Rect\"},{\"attributes\":{},\"id\":\"dacbf7d9-56ea-4619-83e6-321012d94077\",\"type\":\"BasicTicker\"},{\"attributes\":{\"callback\":null,\"column_names\":[\"height\",\"color\",\"x\",\"fill_alpha\",\"width\",\"line_alpha\",\"line_color\",\"label\",\"y\"],\"data\":{\"chart_index\":[\"(3.2, 3.3]\"],\"color\":[\"#f22c40\"],\"fill_alpha\":[0.6],\"height\":[0.0],\"label\":[\"(3.2, 3.3]\"],\"line_alpha\":[1.0],\"line_color\":[\"black\"],\"width\":[0.16666666666666696],\"x\":[\"3.25\"],\"y\":[0.0]}},\"id\":\"2998cb36-5c70-4dcb-9b65-be330f71b87a\",\"type\":\"ColumnDataSource\"},{\"attributes\":{\"fill_alpha\":{\"field\":\"fill_alpha\"},\"fill_color\":{\"field\":\"color\"},\"height\":{\"field\":\"height\",\"units\":\"data\"},\"line_color\":{\"field\":\"line_color\"},\"width\":{\"field\":\"width\",\"units\":\"data\"},\"x\":{\"field\":\"x\"},\"y\":{\"field\":\"y\"}},\"id\":\"a1f2420c-72a7-495c-9294-0678d9be7620\",\"type\":\"Rect\"},{\"attributes\":{\"data_source\":{\"id\":\"aeae0890-64ff-416b-974d-d26e9c1cfc16\",\"type\":\"ColumnDataSource\"},\"glyph\":{\"id\":\"ca1325f6-fb64-40a4-8a08-8bdab870d761\",\"type\":\"Rect\"},\"hover_glyph\":null,\"nonselection_glyph\":null,\"selection_glyph\":null},\"id\":\"69c37104-35ed-40b8-8cef-9b3e849c1367\",\"type\":\"GlyphRenderer\"},{\"attributes\":{\"callback\":null,\"column_names\":[\"height\",\"color\",\"x\",\"fill_alpha\",\"width\",\"line_alpha\",\"line_color\",\"label\",\"y\"],\"data\":{\"chart_index\":[\"(5.8, 5.9]\"],\"color\":[\"#5ab738\"],\"fill_alpha\":[0.6],\"height\":[0.0],\"label\":[\"(5.8, 5.9]\"],\"line_alpha\":[1.0],\"line_color\":[\"black\"],\"width\":[0.11764705882352988],\"x\":[\"5.85\"],\"y\":[0.0]}},\"id\":\"7e0006e0-9ccc-45f7-b414-f3971298dcc2\",\"type\":\"ColumnDataSource\"},{\"attributes\":{\"fill_alpha\":{\"field\":\"fill_alpha\"},\"fill_color\":{\"field\":\"color\"},\"height\":{\"field\":\"height\",\"units\":\"data\"},\"line_color\":{\"field\":\"line_color\"},\"width\":{\"field\":\"width\",\"units\":\"data\"},\"x\":{\"field\":\"x\"},\"y\":{\"field\":\"y\"}},\"id\":\"7b137b6f-b158-4258-9f03-27bb52e2b009\",\"type\":\"Rect\"},{\"attributes\":{\"callback\":null,\"column_names\":[\"height\",\"color\",\"x\",\"fill_alpha\",\"width\",\"line_alpha\",\"line_color\",\"label\",\"y\"],\"data\":{\"chart_index\":[\"(5.5, 5.6]\"],\"color\":[\"#5ab738\"],\"fill_alpha\":[0.6],\"height\":[0.0],\"label\":[\"(5.5, 5.6]\"],\"line_alpha\":[1.0],\"line_color\":[\"black\"],\"width\":[0.117647058823529],\"x\":[\"5.55\"],\"y\":[0.0]}},\"id\":\"10e666f9-7303-45f3-9155-029cbe2bb19b\",\"type\":\"ColumnDataSource\"},{\"attributes\":{\"fill_alpha\":{\"field\":\"fill_alpha\"},\"fill_color\":{\"field\":\"color\"},\"height\":{\"field\":\"height\",\"units\":\"data\"},\"line_color\":{\"field\":\"line_color\"},\"width\":{\"field\":\"width\",\"units\":\"data\"},\"x\":{\"field\":\"x\"},\"y\":{\"field\":\"y\"}},\"id\":\"019c8c51-d2e0-433a-887b-f4b1298c9089\",\"type\":\"Rect\"},{\"attributes\":{\"overlay\":{\"id\":\"2ec7738e-78e0-4301-8f87-7e3fd1af24be\",\"type\":\"BoxAnnotation\"},\"plot\":{\"id\":\"b6de5e80-4562-4c73-9cb0-a27c9a801393\",\"subtype\":\"Chart\",\"type\":\"Plot\"}},\"id\":\"26a20978-02a6-4a63-bccf-90c5f664df99\",\"type\":\"BoxZoomTool\"},{\"attributes\":{\"callback\":null,\"column_names\":[\"height\",\"color\",\"x\",\"fill_alpha\",\"width\",\"line_alpha\",\"line_color\",\"label\",\"y\"],\"data\":{\"chart_index\":[\"(6.5, 6.6]\"],\"color\":[\"#5ab738\"],\"fill_alpha\":[0.6],\"height\":[0.0],\"label\":[\"(6.5, 6.6]\"],\"line_alpha\":[1.0],\"line_color\":[\"black\"],\"width\":[0.117647058823529],\"x\":[\"6.55\"],\"y\":[0.0]}},\"id\":\"da144990-bd23-4949-87f0-ea13ab49cac0\",\"type\":\"ColumnDataSource\"},{\"attributes\":{\"data_source\":{\"id\":\"d98702a8-e8ca-4df3-af1d-5061e3b84843\",\"type\":\"ColumnDataSource\"},\"glyph\":{\"id\":\"3162dd34-fd90-4512-8570-7389b7f66211\",\"type\":\"Rect\"},\"hover_glyph\":null,\"nonselection_glyph\":null,\"selection_glyph\":null},\"id\":\"d857073d-72b3-421c-9fb6-c51195bea034\",\"type\":\"GlyphRenderer\"},{\"attributes\":{\"fill_alpha\":{\"field\":\"fill_alpha\"},\"fill_color\":{\"field\":\"color\"},\"height\":{\"field\":\"height\",\"units\":\"data\"},\"line_color\":{\"field\":\"line_color\"},\"width\":{\"field\":\"width\",\"units\":\"data\"},\"x\":{\"field\":\"x\"},\"y\":{\"field\":\"y\"}},\"id\":\"3162dd34-fd90-4512-8570-7389b7f66211\",\"type\":\"Rect\"},{\"attributes\":{\"fill_alpha\":{\"field\":\"fill_alpha\"},\"fill_color\":{\"field\":\"color\"},\"height\":{\"field\":\"height\",\"units\":\"data\"},\"line_color\":{\"field\":\"line_color\"},\"width\":{\"field\":\"width\",\"units\":\"data\"},\"x\":{\"field\":\"x\"},\"y\":{\"field\":\"y\"}},\"id\":\"fe7563d1-d571-4d79-95c1-96298a6c782a\",\"type\":\"Rect\"},{\"attributes\":{\"fill_alpha\":{\"field\":\"fill_alpha\"},\"fill_color\":{\"field\":\"color\"},\"height\":{\"field\":\"height\",\"units\":\"data\"},\"line_color\":{\"field\":\"line_color\"},\"width\":{\"field\":\"width\",\"units\":\"data\"},\"x\":{\"field\":\"x\"},\"y\":{\"field\":\"y\"}},\"id\":\"1b19861d-5ff9-46b5-8fed-21440d289252\",\"type\":\"Rect\"},{\"attributes\":{\"fill_alpha\":{\"field\":\"fill_alpha\"},\"fill_color\":{\"field\":\"color\"},\"height\":{\"field\":\"height\",\"units\":\"data\"},\"line_color\":{\"field\":\"line_color\"},\"width\":{\"field\":\"width\",\"units\":\"data\"},\"x\":{\"field\":\"x\"},\"y\":{\"field\":\"y\"}},\"id\":\"7018f3b0-22b5-4afb-8b4b-b146332f408d\",\"type\":\"Rect\"},{\"attributes\":{\"fill_alpha\":{\"field\":\"fill_alpha\"},\"fill_color\":{\"field\":\"color\"},\"height\":{\"field\":\"height\",\"units\":\"data\"},\"line_color\":{\"field\":\"line_color\"},\"width\":{\"field\":\"width\",\"units\":\"data\"},\"x\":{\"field\":\"x\"},\"y\":{\"field\":\"y\"}},\"id\":\"7f263b01-a211-4f64-9231-524dedf1eb23\",\"type\":\"Rect\"},{\"attributes\":{\"axis_label\":\"Count( Quality )\",\"formatter\":{\"id\":\"1e1954bd-0462-4af8-8878-fc214378edb2\",\"type\":\"BasicTickFormatter\"},\"plot\":{\"id\":\"1a7ddfc4-f8cc-4219-8e99-81d08d12a7d8\",\"subtype\":\"Chart\",\"type\":\"Plot\"},\"ticker\":{\"id\":\"5c0cff8f-1a44-43f6-b0fe-28be101eb9ec\",\"type\":\"BasicTicker\"}},\"id\":\"a779a63c-5d19-4385-9d08-8a4f7a39346f\",\"type\":\"LinearAxis\"},{\"attributes\":{\"callback\":null,\"column_names\":[\"height\",\"color\",\"x\",\"fill_alpha\",\"width\",\"line_alpha\",\"line_color\",\"label\",\"y\"],\"data\":{\"chart_index\":[\"(7.0, 7.1]\"],\"color\":[\"#5ab738\"],\"fill_alpha\":[0.6],\"height\":[880.0],\"label\":[\"(7.0, 7.1]\"],\"line_alpha\":[1.0],\"line_color\":[\"black\"],\"width\":[0.117647058823529],\"x\":[\"7.05\"],\"y\":[440.0]}},\"id\":\"ecb6aa19-ad82-4bea-b350-898bc68a5229\",\"type\":\"ColumnDataSource\"},{\"attributes\":{\"callback\":null,\"column_names\":[\"height\",\"color\",\"x\",\"fill_alpha\",\"width\",\"line_alpha\",\"line_color\",\"label\",\"y\"],\"data\":{\"chart_index\":[\"(4.7, 4.8]\"],\"color\":[\"#f22c40\"],\"fill_alpha\":[0.6],\"height\":[0.0],\"label\":[\"(4.7, 4.8]\"],\"line_alpha\":[1.0],\"line_color\":[\"black\"],\"width\":[0.16666666666666696],\"x\":[\"4.75\"],\"y\":[0.0]}},\"id\":\"1dbc69bd-7165-443e-8b72-7d52beed56c7\",\"type\":\"ColumnDataSource\"},{\"attributes\":{\"data_source\":{\"id\":\"1be623f0-66b9-4c27-a319-106e88c83adb\",\"type\":\"ColumnDataSource\"},\"glyph\":{\"id\":\"66781cde-e440-4be4-857e-bfa1c650ca98\",\"type\":\"Rect\"},\"hover_glyph\":null,\"nonselection_glyph\":null,\"selection_glyph\":null},\"id\":\"ec2c73ba-f1cc-4325-91c0-a5ef49df85e8\",\"type\":\"GlyphRenderer\"},{\"attributes\":{\"fill_alpha\":{\"field\":\"fill_alpha\"},\"fill_color\":{\"field\":\"color\"},\"height\":{\"field\":\"height\",\"units\":\"data\"},\"line_color\":{\"field\":\"line_color\"},\"width\":{\"field\":\"width\",\"units\":\"data\"},\"x\":{\"field\":\"x\"},\"y\":{\"field\":\"y\"}},\"id\":\"ba805387-1352-4f2f-a624-c0ff87b77394\",\"type\":\"Rect\"},{\"attributes\":{\"callback\":null,\"column_names\":[\"height\",\"color\",\"x\",\"fill_alpha\",\"width\",\"line_alpha\",\"line_color\",\"label\",\"y\"],\"data\":{\"chart_index\":[\"(5.2, 5.4]\"],\"color\":[\"#5ab738\"],\"fill_alpha\":[0.6],\"height\":[0.0],\"label\":[\"(5.2, 5.4]\"],\"line_alpha\":[1.0],\"line_color\":[\"black\"],\"width\":[0.11764705882352988],\"x\":[\"5.300000000000001\"],\"y\":[0.0]}},\"id\":\"523838df-773a-4d1b-bcc4-492d7e5b126d\",\"type\":\"ColumnDataSource\"},{\"attributes\":{\"data_source\":{\"id\":\"da144990-bd23-4949-87f0-ea13ab49cac0\",\"type\":\"ColumnDataSource\"},\"glyph\":{\"id\":\"15ded2f0-b0e3-4ea7-baf7-c1143e1cff56\",\"type\":\"Rect\"},\"hover_glyph\":null,\"nonselection_glyph\":null,\"selection_glyph\":null},\"id\":\"dc205431-c2a8-4de4-8021-0f8f0b891f84\",\"type\":\"GlyphRenderer\"},{\"attributes\":{\"data_source\":{\"id\":\"5aa45907-7f9f-42c8-a9d4-6cd117117c8f\",\"type\":\"ColumnDataSource\"},\"glyph\":{\"id\":\"39264659-d93e-4407-8f9a-1b1c483aecd8\",\"type\":\"Rect\"},\"hover_glyph\":null,\"nonselection_glyph\":null,\"selection_glyph\":null},\"id\":\"965c2759-1ca0-46a1-a056-5b08cf2bf2ce\",\"type\":\"GlyphRenderer\"},{\"attributes\":{\"fill_alpha\":{\"field\":\"fill_alpha\"},\"fill_color\":{\"field\":\"color\"},\"height\":{\"field\":\"height\",\"units\":\"data\"},\"line_color\":{\"field\":\"line_color\"},\"width\":{\"field\":\"width\",\"units\":\"data\"},\"x\":{\"field\":\"x\"},\"y\":{\"field\":\"y\"}},\"id\":\"b063f6c8-e383-40c2-bf5c-db7246e83074\",\"type\":\"Rect\"},{\"attributes\":{\"callback\":null,\"column_names\":[\"height\",\"color\",\"x\",\"fill_alpha\",\"width\",\"line_alpha\",\"line_color\",\"label\",\"y\"],\"data\":{\"chart_index\":[\"[3.0, 3.2]\"],\"color\":[\"#f22c40\"],\"fill_alpha\":[0.6],\"height\":[10.0],\"label\":[\"[3.0, 3.2]\"],\"line_alpha\":[1.0],\"line_color\":[\"black\"],\"width\":[0.16666666666666652],\"x\":[\"3.1\"],\"y\":[5.0]}},\"id\":\"96a4d73f-996c-4b0e-9155-81a27881ef9b\",\"type\":\"ColumnDataSource\"},{\"attributes\":{\"callback\":null,\"column_names\":[\"height\",\"color\",\"x\",\"fill_alpha\",\"width\",\"line_alpha\",\"line_color\",\"label\",\"y\"],\"data\":{\"chart_index\":[\"(5.7, 5.8]\"],\"color\":[\"#f22c40\"],\"fill_alpha\":[0.6],\"height\":[0.0],\"label\":[\"(5.7, 5.8]\"],\"line_alpha\":[1.0],\"line_color\":[\"black\"],\"width\":[0.16666666666666696],\"x\":[\"5.75\"],\"y\":[0.0]}},\"id\":\"432a6d1f-658f-45ab-aed8-bcd6e618d9da\",\"type\":\"ColumnDataSource\"},{\"attributes\":{\"data_source\":{\"id\":\"1dbc69bd-7165-443e-8b72-7d52beed56c7\",\"type\":\"ColumnDataSource\"},\"glyph\":{\"id\":\"565d8356-855b-49b3-a6c4-54b1434c665c\",\"type\":\"Rect\"},\"hover_glyph\":null,\"nonselection_glyph\":null,\"selection_glyph\":null},\"id\":\"381c893a-f56b-4f2c-863a-e5a5d5218779\",\"type\":\"GlyphRenderer\"},{\"attributes\":{\"fill_alpha\":{\"field\":\"fill_alpha\"},\"fill_color\":{\"field\":\"color\"},\"height\":{\"field\":\"height\",\"units\":\"data\"},\"line_color\":{\"field\":\"line_color\"},\"width\":{\"field\":\"width\",\"units\":\"data\"},\"x\":{\"field\":\"x\"},\"y\":{\"field\":\"y\"}},\"id\":\"64798949-230d-4427-a64c-3eca4f81ad89\",\"type\":\"Rect\"},{\"attributes\":{\"callback\":null,\"column_names\":[\"height\",\"color\",\"x\",\"fill_alpha\",\"width\",\"line_alpha\",\"line_color\",\"label\",\"y\"],\"data\":{\"chart_index\":[\"(3.7, 3.8]\"],\"color\":[\"#5ab738\"],\"fill_alpha\":[0.6],\"height\":[0.0],\"label\":[\"(3.7, 3.8]\"],\"line_alpha\":[1.0],\"line_color\":[\"black\"],\"width\":[0.117647058823529],\"x\":[\"3.75\"],\"y\":[0.0]}},\"id\":\"381048a2-bb76-4296-9308-9b0c8a2998b7\",\"type\":\"ColumnDataSource\"},{\"attributes\":{\"data_source\":{\"id\":\"11583813-513a-4802-a994-fe90ee4c4549\",\"type\":\"ColumnDataSource\"},\"glyph\":{\"id\":\"bc2e9105-78af-420b-9d63-51bf8e183fef\",\"type\":\"Rect\"},\"hover_glyph\":null,\"nonselection_glyph\":null,\"selection_glyph\":null},\"id\":\"47ec3630-5154-42aa-97d7-9c1d30ac0a83\",\"type\":\"GlyphRenderer\"},{\"attributes\":{\"fill_alpha\":{\"field\":\"fill_alpha\"},\"fill_color\":{\"field\":\"color\"},\"height\":{\"field\":\"height\",\"units\":\"data\"},\"line_color\":{\"field\":\"line_color\"},\"width\":{\"field\":\"width\",\"units\":\"data\"},\"x\":{\"field\":\"x\"},\"y\":{\"field\":\"y\"}},\"id\":\"66781cde-e440-4be4-857e-bfa1c650ca98\",\"type\":\"Rect\"},{\"attributes\":{\"fill_alpha\":{\"field\":\"fill_alpha\"},\"fill_color\":{\"field\":\"color\"},\"height\":{\"field\":\"height\",\"units\":\"data\"},\"line_color\":{\"field\":\"line_color\"},\"width\":{\"field\":\"width\",\"units\":\"data\"},\"x\":{\"field\":\"x\"},\"y\":{\"field\":\"y\"}},\"id\":\"175397d8-74c6-4a0b-8e0c-c19c23313823\",\"type\":\"Rect\"},{\"attributes\":{\"data_source\":{\"id\":\"7a223a59-ef5f-4c11-b566-cb4686faf644\",\"type\":\"ColumnDataSource\"},\"glyph\":{\"id\":\"fe7563d1-d571-4d79-95c1-96298a6c782a\",\"type\":\"Rect\"},\"hover_glyph\":null,\"nonselection_glyph\":null,\"selection_glyph\":null},\"id\":\"840e54fa-98a0-45b5-8feb-ce6ade8a2337\",\"type\":\"GlyphRenderer\"},{\"attributes\":{\"sizing_mode\":\"scale_width\",\"toolbar_location\":\"above\",\"tools\":[{\"id\":\"ee71cecc-638d-4783-a8e2-3d0ad65d286d\",\"type\":\"PanTool\"},{\"id\":\"4b1119b8-3a09-41a6-bba5-1b118afcc56e\",\"type\":\"ResetTool\"},{\"id\":\"26a20978-02a6-4a63-bccf-90c5f664df99\",\"type\":\"BoxZoomTool\"},{\"id\":\"f65f9835-a971-45a8-87a8-0bc192fc642d\",\"type\":\"PanTool\"},{\"id\":\"5284c5b2-9dcb-4c40-a498-f6667276bce0\",\"type\":\"ResetTool\"},{\"id\":\"8d1eeb63-a059-4dd3-8f68-7543ccd8eea6\",\"type\":\"BoxZoomTool\"}]},\"id\":\"735d9000-aadc-4f5d-9f41-39eb02083af6\",\"type\":\"ToolbarBox\"},{\"attributes\":{\"plot\":{\"id\":\"1a7ddfc4-f8cc-4219-8e99-81d08d12a7d8\",\"subtype\":\"Chart\",\"type\":\"Plot\"}},\"id\":\"f65f9835-a971-45a8-87a8-0bc192fc642d\",\"type\":\"PanTool\"},{\"attributes\":{\"fill_alpha\":{\"field\":\"fill_alpha\"},\"fill_color\":{\"field\":\"color\"},\"height\":{\"field\":\"height\",\"units\":\"data\"},\"line_color\":{\"field\":\"line_color\"},\"width\":{\"field\":\"width\",\"units\":\"data\"},\"x\":{\"field\":\"x\"},\"y\":{\"field\":\"y\"}},\"id\":\"75d4e721-972e-4db7-a29b-d3b7d0c441f4\",\"type\":\"Rect\"},{\"attributes\":{\"data_source\":{\"id\":\"76302d80-fbc2-4592-8a0a-04e8e2747ad9\",\"type\":\"ColumnDataSource\"},\"glyph\":{\"id\":\"916daa87-bd5b-49eb-9eeb-0fa17b357333\",\"type\":\"Rect\"},\"hover_glyph\":null,\"nonselection_glyph\":null,\"selection_glyph\":null},\"id\":\"ab1a8829-535c-4d37-97b4-3a0a665467e0\",\"type\":\"GlyphRenderer\"},{\"attributes\":{\"callback\":null,\"column_names\":[\"height\",\"color\",\"x\",\"fill_alpha\",\"width\",\"line_alpha\",\"line_color\",\"label\",\"y\"],\"data\":{\"chart_index\":[\"(7.2, 7.4]\"],\"color\":[\"#5ab738\"],\"fill_alpha\":[0.6],\"height\":[0.0],\"label\":[\"(7.2, 7.4]\"],\"line_alpha\":[1.0],\"line_color\":[\"black\"],\"width\":[0.117647058823529],\"x\":[\"7.300000000000001\"],\"y\":[0.0]}},\"id\":\"d7c1467c-e302-4b8e-9b4c-1f3ac02f9737\",\"type\":\"ColumnDataSource\"},{\"attributes\":{\"data_source\":{\"id\":\"de43edad-54bf-453f-8eec-810ae171cbf2\",\"type\":\"ColumnDataSource\"},\"glyph\":{\"id\":\"ffc13960-c579-4bdb-96ea-201736fe1228\",\"type\":\"Rect\"},\"hover_glyph\":null,\"nonselection_glyph\":null,\"selection_glyph\":null},\"id\":\"e48b185d-cab8-48b5-845f-271388cabe91\",\"type\":\"GlyphRenderer\"},{\"attributes\":{\"active_drag\":\"auto\",\"active_scroll\":\"auto\",\"active_tap\":\"auto\",\"tools\":[{\"id\":\"ee71cecc-638d-4783-a8e2-3d0ad65d286d\",\"type\":\"PanTool\"},{\"id\":\"4b1119b8-3a09-41a6-bba5-1b118afcc56e\",\"type\":\"ResetTool\"},{\"id\":\"26a20978-02a6-4a63-bccf-90c5f664df99\",\"type\":\"BoxZoomTool\"}]},\"id\":\"f08ca3b1-c649-4a37-9a9f-d9aaf152a4f2\",\"type\":\"Toolbar\"},{\"attributes\":{\"fill_alpha\":{\"field\":\"fill_alpha\"},\"fill_color\":{\"field\":\"color\"},\"height\":{\"field\":\"height\",\"units\":\"data\"},\"line_color\":{\"field\":\"line_color\"},\"width\":{\"field\":\"width\",\"units\":\"data\"},\"x\":{\"field\":\"x\"},\"y\":{\"field\":\"y\"}},\"id\":\"7a398852-d210-4ae2-81c1-059033511699\",\"type\":\"Rect\"},{\"attributes\":{\"callback\":null,\"column_names\":[\"height\",\"color\",\"x\",\"fill_alpha\",\"width\",\"line_alpha\",\"line_color\",\"label\",\"y\"],\"data\":{\"chart_index\":[\"(5.4, 5.5]\"],\"color\":[\"#5ab738\"],\"fill_alpha\":[0.6],\"height\":[0.0],\"label\":[\"(5.4, 5.5]\"],\"line_alpha\":[1.0],\"line_color\":[\"black\"],\"width\":[0.117647058823529],\"x\":[\"5.45\"],\"y\":[0.0]}},\"id\":\"7a223a59-ef5f-4c11-b566-cb4686faf644\",\"type\":\"ColumnDataSource\"},{\"attributes\":{\"data_source\":{\"id\":\"e3ae2cbe-e11d-4eeb-9c04-83a8312f6d54\",\"type\":\"ColumnDataSource\"},\"glyph\":{\"id\":\"1b19861d-5ff9-46b5-8fed-21440d289252\",\"type\":\"Rect\"},\"hover_glyph\":null,\"nonselection_glyph\":null,\"selection_glyph\":null},\"id\":\"ea005c9d-a459-41cf-a635-d9f926c58149\",\"type\":\"GlyphRenderer\"},{\"attributes\":{\"data_source\":{\"id\":\"f02cec2f-475b-447d-a261-58156efdd8af\",\"type\":\"ColumnDataSource\"},\"glyph\":{\"id\":\"1661861c-aad5-418b-a497-093888170ee5\",\"type\":\"Rect\"},\"hover_glyph\":null,\"nonselection_glyph\":null,\"selection_glyph\":null},\"id\":\"08b8bd42-c848-46f5-ad38-1e9cd689b9cb\",\"type\":\"GlyphRenderer\"},{\"attributes\":{\"fill_alpha\":{\"field\":\"fill_alpha\"},\"fill_color\":{\"field\":\"color\"},\"height\":{\"field\":\"height\",\"units\":\"data\"},\"line_color\":{\"field\":\"line_color\"},\"width\":{\"field\":\"width\",\"units\":\"data\"},\"x\":{\"field\":\"x\"},\"y\":{\"field\":\"y\"}},\"id\":\"fe0c85f0-4ef1-488e-9696-a39205e2b468\",\"type\":\"Rect\"},{\"attributes\":{\"data_source\":{\"id\":\"5399340d-3707-44ef-a2f8-f421eb3af0c9\",\"type\":\"ColumnDataSource\"},\"glyph\":{\"id\":\"07e05e66-fe5f-440c-897e-ed4066d67a44\",\"type\":\"Rect\"},\"hover_glyph\":null,\"nonselection_glyph\":null,\"selection_glyph\":null},\"id\":\"0f836b86-285d-45f8-86ee-eacf2f8df0b1\",\"type\":\"GlyphRenderer\"},{\"attributes\":{\"callback\":null,\"column_names\":[\"height\",\"color\",\"x\",\"fill_alpha\",\"width\",\"line_alpha\",\"line_color\",\"label\",\"y\"],\"data\":{\"chart_index\":[\"(6.6, 6.8]\"],\"color\":[\"#5ab738\"],\"fill_alpha\":[0.6],\"height\":[0.0],\"label\":[\"(6.6, 6.8]\"],\"line_alpha\":[1.0],\"line_color\":[\"black\"],\"width\":[0.11764705882352988],\"x\":[\"6.699999999999999\"],\"y\":[0.0]}},\"id\":\"d821fba9-3f2c-493b-8472-4be05e824b0d\",\"type\":\"ColumnDataSource\"},{\"attributes\":{\"data_source\":{\"id\":\"2e8e5026-8441-485d-832a-6d1b2e730a53\",\"type\":\"ColumnDataSource\"},\"glyph\":{\"id\":\"1930768c-2883-4fb7-a2aa-fa8f4e87e4a7\",\"type\":\"Rect\"},\"hover_glyph\":null,\"nonselection_glyph\":null,\"selection_glyph\":null},\"id\":\"58ebeeb0-bfb0-405b-968d-5a80671a117a\",\"type\":\"GlyphRenderer\"},{\"attributes\":{\"below\":[{\"id\":\"3048249c-86c5-4827-9ebe-6f3fd9185f7e\",\"type\":\"CategoricalAxis\"}],\"left\":[{\"id\":\"4eef76ed-a765-4ade-84be-27c7cf3833d6\",\"type\":\"LinearAxis\"}],\"plot_height\":400,\"plot_width\":400,\"renderers\":[{\"id\":\"2ec7738e-78e0-4301-8f87-7e3fd1af24be\",\"type\":\"BoxAnnotation\"},{\"id\":\"36e9e205-4960-4380-9812-01c451731da5\",\"type\":\"GlyphRenderer\"},{\"id\":\"1c02296d-0a5a-4594-af7c-41348ff3a404\",\"type\":\"GlyphRenderer\"},{\"id\":\"3048249c-86c5-4827-9ebe-6f3fd9185f7e\",\"type\":\"CategoricalAxis\"},{\"id\":\"4eef76ed-a765-4ade-84be-27c7cf3833d6\",\"type\":\"LinearAxis\"},{\"id\":\"cf4b109c-c887-414f-a04c-7894517ed004\",\"type\":\"Grid\"}],\"title\":{\"id\":\"e8b9b265-8762-4532-83b5-2a2d48208980\",\"type\":\"Title\"},\"tool_events\":{\"id\":\"b467f6ad-9bcc-4a55-b7e4-9b6fd3094017\",\"type\":\"ToolEvents\"},\"toolbar\":{\"id\":\"f08ca3b1-c649-4a37-9a9f-d9aaf152a4f2\",\"type\":\"Toolbar\"},\"toolbar_location\":null,\"x_mapper_type\":\"auto\",\"x_range\":{\"id\":\"6d3daab4-770d-4fee-9513-2cc365f70610\",\"type\":\"FactorRange\"},\"y_mapper_type\":\"auto\",\"y_range\":{\"id\":\"d61168bd-2f35-4807-8b93-8dbb2c6ce77f\",\"type\":\"Range1d\"}},\"id\":\"b6de5e80-4562-4c73-9cb0-a27c9a801393\",\"subtype\":\"Chart\",\"type\":\"Plot\"},{\"attributes\":{\"data_source\":{\"id\":\"5821d465-ef21-485f-bc6a-0a88d51f0417\",\"type\":\"ColumnDataSource\"},\"glyph\":{\"id\":\"72a0eff9-ce85-43aa-9b16-01d17f0cf925\",\"type\":\"Rect\"},\"hover_glyph\":null,\"nonselection_glyph\":null,\"selection_glyph\":null},\"id\":\"43a93804-97eb-4561-ae55-476f5ff7c982\",\"type\":\"GlyphRenderer\"},{\"attributes\":{\"callback\":null,\"column_names\":[\"height\",\"color\",\"x\",\"fill_alpha\",\"width\",\"line_alpha\",\"line_color\",\"label\",\"y\"],\"data\":{\"chart_index\":[\"(8.8, 8.9]\"],\"color\":[\"#5ab738\"],\"fill_alpha\":[0.6],\"height\":[0.0],\"label\":[\"(8.8, 8.9]\"],\"line_alpha\":[1.0],\"line_color\":[\"black\"],\"width\":[0.117647058823529],\"x\":[\"8.850000000000001\"],\"y\":[0.0]}},\"id\":\"9e99b172-5445-47f8-960c-b05320dde928\",\"type\":\"ColumnDataSource\"},{\"attributes\":{\"callback\":null,\"column_names\":[\"height\",\"color\",\"x\",\"fill_alpha\",\"width\",\"line_alpha\",\"line_color\",\"label\",\"y\"],\"data\":{\"chart_index\":[\"(3.4, 3.5]\"],\"color\":[\"#5ab738\"],\"fill_alpha\":[0.6],\"height\":[0.0],\"label\":[\"(3.4, 3.5]\"],\"line_alpha\":[1.0],\"line_color\":[\"black\"],\"width\":[0.11764705882352944],\"x\":[\"3.45\"],\"y\":[0.0]}},\"id\":\"821fdee6-48e6-4125-8035-d761b7121be3\",\"type\":\"ColumnDataSource\"},{\"attributes\":{\"data_source\":{\"id\":\"07b7eb09-8f88-4597-aa70-2c9e5f220c94\",\"type\":\"ColumnDataSource\"},\"glyph\":{\"id\":\"fe0c85f0-4ef1-488e-9696-a39205e2b468\",\"type\":\"Rect\"},\"hover_glyph\":null,\"nonselection_glyph\":null,\"selection_glyph\":null},\"id\":\"ec9d7458-ee4e-43ea-8143-77a74c086477\",\"type\":\"GlyphRenderer\"},{\"attributes\":{\"fill_alpha\":{\"field\":\"fill_alpha\"},\"fill_color\":{\"field\":\"color\"},\"height\":{\"field\":\"height\",\"units\":\"data\"},\"line_color\":{\"field\":\"line_color\"},\"width\":{\"field\":\"width\",\"units\":\"data\"},\"x\":{\"field\":\"x\"},\"y\":{\"field\":\"y\"}},\"id\":\"7cd412ca-92db-4750-90b5-41002cf587ae\",\"type\":\"Rect\"},{\"attributes\":{\"callback\":null,\"column_names\":[\"height\",\"color\",\"x\",\"fill_alpha\",\"width\",\"line_alpha\",\"line_color\",\"label\",\"y\"],\"data\":{\"chart_index\":[\"(6.8, 6.9]\"],\"color\":[\"#5ab738\"],\"fill_alpha\":[0.6],\"height\":[0.0],\"label\":[\"(6.8, 6.9]\"],\"line_alpha\":[1.0],\"line_color\":[\"black\"],\"width\":[0.11764705882352988],\"x\":[\"6.85\"],\"y\":[0.0]}},\"id\":\"49250027-b2c5-4d16-9b56-a9fa3f74ce21\",\"type\":\"ColumnDataSource\"},{\"attributes\":{\"fill_alpha\":{\"field\":\"fill_alpha\"},\"fill_color\":{\"field\":\"color\"},\"height\":{\"field\":\"height\",\"units\":\"data\"},\"line_color\":{\"field\":\"line_color\"},\"width\":{\"field\":\"width\",\"units\":\"data\"},\"x\":{\"field\":\"x\"},\"y\":{\"field\":\"y\"}},\"id\":\"aeb36373-38ac-4b5f-a385-7c3b3ceffc4d\",\"type\":\"Rect\"},{\"attributes\":{\"callback\":null,\"column_names\":[\"height\",\"color\",\"x\",\"fill_alpha\",\"width\",\"line_alpha\",\"line_color\",\"label\",\"y\"],\"data\":{\"chart_index\":[\"(5.6, 5.7]\"],\"color\":[\"#5ab738\"],\"fill_alpha\":[0.6],\"height\":[0.0],\"label\":[\"(5.6, 5.7]\"],\"line_alpha\":[1.0],\"line_color\":[\"black\"],\"width\":[0.11764705882352988],\"x\":[\"5.65\"],\"y\":[0.0]}},\"id\":\"21b668b0-0df2-48e2-85fa-a2dbeb7d3836\",\"type\":\"ColumnDataSource\"},{\"attributes\":{\"callback\":null,\"column_names\":[\"height\",\"color\",\"x\",\"fill_alpha\",\"width\",\"line_alpha\",\"line_color\",\"label\",\"y\"],\"data\":{\"chart_index\":[\"(8.9, 9.0]\"],\"color\":[\"#5ab738\"],\"fill_alpha\":[0.6],\"height\":[5.0],\"label\":[\"(8.9, 9.0]\"],\"line_alpha\":[1.0],\"line_color\":[\"black\"],\"width\":[0.117647058823529],\"x\":[\"8.95\"],\"y\":[2.5]}},\"id\":\"e3ae2cbe-e11d-4eeb-9c04-83a8312f6d54\",\"type\":\"ColumnDataSource\"},{\"attributes\":{\"fill_alpha\":{\"field\":\"fill_alpha\"},\"fill_color\":{\"field\":\"color\"},\"height\":{\"field\":\"height\",\"units\":\"data\"},\"line_color\":{\"field\":\"line_color\"},\"width\":{\"field\":\"width\",\"units\":\"data\"},\"x\":{\"field\":\"x\"},\"y\":{\"field\":\"y\"}},\"id\":\"39264659-d93e-4407-8f9a-1b1c483aecd8\",\"type\":\"Rect\"},{\"attributes\":{\"callback\":null,\"column_names\":[\"height\",\"color\",\"x\",\"fill_alpha\",\"width\",\"line_alpha\",\"line_color\",\"label\",\"y\"],\"data\":{\"chart_index\":[\"(5.7, 5.8]\"],\"color\":[\"#5ab738\"],\"fill_alpha\":[0.6],\"height\":[0.0],\"label\":[\"(5.7, 5.8]\"],\"line_alpha\":[1.0],\"line_color\":[\"black\"],\"width\":[0.117647058823529],\"x\":[\"5.75\"],\"y\":[0.0]}},\"id\":\"14bc8de2-00c5-4527-8f89-0c1d8a51b8c2\",\"type\":\"ColumnDataSource\"},{\"attributes\":{\"callback\":null,\"column_names\":[\"height\",\"color\",\"x\",\"fill_alpha\",\"width\",\"line_alpha\",\"line_color\",\"label\",\"y\"],\"data\":{\"chart_index\":[\"(7.5, 7.7]\"],\"color\":[\"#f22c40\"],\"fill_alpha\":[0.6],\"height\":[0.0],\"label\":[\"(7.5, 7.7]\"],\"line_alpha\":[1.0],\"line_color\":[\"black\"],\"width\":[0.16666666666666607],\"x\":[\"7.6\"],\"y\":[0.0]}},\"id\":\"ce06cceb-78a9-483b-b5b5-7071e28873d4\",\"type\":\"ColumnDataSource\"},{\"attributes\":{\"callback\":null,\"column_names\":[\"height\",\"color\",\"x\",\"fill_alpha\",\"width\",\"line_alpha\",\"line_color\",\"label\",\"y\"],\"data\":{\"chart_index\":[\"(3.5, 3.7]\"],\"color\":[\"#f22c40\"],\"fill_alpha\":[0.6],\"height\":[0.0],\"label\":[\"(3.5, 3.7]\"],\"line_alpha\":[1.0],\"line_color\":[\"black\"],\"width\":[0.16666666666666652],\"x\":[\"3.6\"],\"y\":[0.0]}},\"id\":\"29b60fce-bfd9-4fa2-9372-258c59c1872e\",\"type\":\"ColumnDataSource\"},{\"attributes\":{\"fill_alpha\":{\"field\":\"fill_alpha\"},\"fill_color\":{\"field\":\"color\"},\"height\":{\"field\":\"height\",\"units\":\"data\"},\"line_color\":{\"field\":\"line_color\"},\"width\":{\"field\":\"width\",\"units\":\"data\"},\"x\":{\"field\":\"x\"},\"y\":{\"field\":\"y\"}},\"id\":\"2c8bf1fd-1ef9-416f-8ff5-01aa859ead8a\",\"type\":\"Rect\"},{\"attributes\":{},\"id\":\"1c8c1a46-2535-4a1e-ade9-5fbefe1716b1\",\"type\":\"CategoricalTickFormatter\"},{\"attributes\":{\"fill_alpha\":{\"field\":\"fill_alpha\"},\"fill_color\":{\"field\":\"color\"},\"height\":{\"field\":\"height\",\"units\":\"data\"},\"line_color\":{\"field\":\"line_color\"},\"width\":{\"field\":\"width\",\"units\":\"data\"},\"x\":{\"field\":\"x\"},\"y\":{\"field\":\"y\"}},\"id\":\"1a999e72-f11b-4ad8-ab21-2b90ba60e4dd\",\"type\":\"Rect\"},{\"attributes\":{\"callback\":null,\"column_names\":[\"height\",\"color\",\"x\",\"fill_alpha\",\"width\",\"line_alpha\",\"line_color\",\"label\",\"y\"],\"data\":{\"chart_index\":[\"(5.9, 6.1]\"],\"color\":[\"#5ab738\"],\"fill_alpha\":[0.6],\"height\":[2198.0],\"label\":[\"(5.9, 6.1]\"],\"line_alpha\":[1.0],\"line_color\":[\"black\"],\"width\":[0.117647058823529],\"x\":[\"6.0\"],\"y\":[1099.0]}},\"id\":\"5a7ce6a2-4b94-4e3b-bbf6-b51f9343158e\",\"type\":\"ColumnDataSource\"},{\"attributes\":{\"callback\":null,\"column_names\":[\"height\",\"color\",\"x\",\"fill_alpha\",\"width\",\"line_alpha\",\"line_color\",\"label\",\"y\"],\"data\":{\"chart_index\":[\"(4.2, 4.3]\"],\"color\":[\"#f22c40\"],\"fill_alpha\":[0.6],\"height\":[0.0],\"label\":[\"(4.2, 4.3]\"],\"line_alpha\":[1.0],\"line_color\":[\"black\"],\"width\":[0.16666666666666696],\"x\":[\"4.25\"],\"y\":[0.0]}},\"id\":\"57e53e87-865c-402f-8b96-5fac6540ec01\",\"type\":\"ColumnDataSource\"},{\"attributes\":{\"fill_alpha\":{\"field\":\"fill_alpha\"},\"fill_color\":{\"field\":\"color\"},\"height\":{\"field\":\"height\",\"units\":\"data\"},\"line_color\":{\"field\":\"line_color\"},\"width\":{\"field\":\"width\",\"units\":\"data\"},\"x\":{\"field\":\"x\"},\"y\":{\"field\":\"y\"}},\"id\":\"a9ef30fb-3f31-46a0-9ffe-8a8055bdb2d3\",\"type\":\"Rect\"},{\"attributes\":{\"data_source\":{\"id\":\"5792d470-7430-4afd-b6aa-b60fb415a57c\",\"type\":\"ColumnDataSource\"},\"glyph\":{\"id\":\"394e9139-2e69-44ab-9638-9b78a619752d\",\"type\":\"Rect\"},\"hover_glyph\":null,\"nonselection_glyph\":null,\"selection_glyph\":null},\"id\":\"b0582232-09cd-4e0e-9417-984550a9624f\",\"type\":\"GlyphRenderer\"},{\"attributes\":{\"data_source\":{\"id\":\"2c180e24-ef54-4b9c-afdf-5614a978e2bf\",\"type\":\"ColumnDataSource\"},\"glyph\":{\"id\":\"f8801a10-750e-4acc-9747-e055f8565ad8\",\"type\":\"Rect\"},\"hover_glyph\":null,\"nonselection_glyph\":null,\"selection_glyph\":null},\"id\":\"1c02296d-0a5a-4594-af7c-41348ff3a404\",\"type\":\"GlyphRenderer\"},{\"attributes\":{\"fill_alpha\":{\"field\":\"fill_alpha\"},\"fill_color\":{\"field\":\"color\"},\"height\":{\"field\":\"height\",\"units\":\"data\"},\"line_color\":{\"field\":\"line_color\"},\"width\":{\"field\":\"width\",\"units\":\"data\"},\"x\":{\"field\":\"x\"},\"y\":{\"field\":\"y\"}},\"id\":\"0ab4c0c7-667c-4230-b5fe-36d57b1544b7\",\"type\":\"Rect\"},{\"attributes\":{\"data_source\":{\"id\":\"2998cb36-5c70-4dcb-9b65-be330f71b87a\",\"type\":\"ColumnDataSource\"},\"glyph\":{\"id\":\"1a999e72-f11b-4ad8-ab21-2b90ba60e4dd\",\"type\":\"Rect\"},\"hover_glyph\":null,\"nonselection_glyph\":null,\"selection_glyph\":null},\"id\":\"75baefea-06a1-40c6-84ea-3a1a4865be3a\",\"type\":\"GlyphRenderer\"},{\"attributes\":{\"data_source\":{\"id\":\"9e99b172-5445-47f8-960c-b05320dde928\",\"type\":\"ColumnDataSource\"},\"glyph\":{\"id\":\"b063f6c8-e383-40c2-bf5c-db7246e83074\",\"type\":\"Rect\"},\"hover_glyph\":null,\"nonselection_glyph\":null,\"selection_glyph\":null},\"id\":\"0ca7b884-f75d-47b1-b8c8-501f6acdb17a\",\"type\":\"GlyphRenderer\"},{\"attributes\":{},\"id\":\"01c75a2c-6536-44fb-a2ab-3d7e959b6f86\",\"type\":\"BasicTickFormatter\"},{\"attributes\":{},\"id\":\"b467f6ad-9bcc-4a55-b7e4-9b6fd3094017\",\"type\":\"ToolEvents\"},{\"attributes\":{\"axis_label\":\"quality\",\"formatter\":{\"id\":\"3f00041b-84a2-4985-a5c6-7d274b0e60c5\",\"type\":\"BasicTickFormatter\"},\"minor_tick_line_color\":{\"value\":null},\"plot\":{\"id\":\"1a7ddfc4-f8cc-4219-8e99-81d08d12a7d8\",\"subtype\":\"Chart\",\"type\":\"Plot\"},\"ticker\":{\"id\":\"80150f9c-3401-4aa0-88ed-5db58fbe7c51\",\"type\":\"BasicTicker\"}},\"id\":\"8ac7828f-5a56-4867-bcf7-bce452f7b385\",\"type\":\"LinearAxis\"},{\"attributes\":{\"fill_alpha\":{\"field\":\"fill_alpha\"},\"fill_color\":{\"field\":\"color\"},\"height\":{\"field\":\"height\",\"units\":\"data\"},\"line_color\":{\"field\":\"line_color\"},\"width\":{\"field\":\"width\",\"units\":\"data\"},\"x\":{\"field\":\"x\"},\"y\":{\"field\":\"y\"}},\"id\":\"5ebae2f7-0390-4541-a2db-8a63c55e7e1d\",\"type\":\"Rect\"},{\"attributes\":{\"callback\":null,\"column_names\":[\"height\",\"color\",\"x\",\"fill_alpha\",\"width\",\"line_alpha\",\"line_color\",\"label\",\"y\"],\"data\":{\"chart_index\":[\"(3.3, 3.5]\"],\"color\":[\"#f22c40\"],\"fill_alpha\":[0.6],\"height\":[0.0],\"label\":[\"(3.3, 3.5]\"],\"line_alpha\":[1.0],\"line_color\":[\"black\"],\"width\":[0.16666666666666652],\"x\":[\"3.4\"],\"y\":[0.0]}},\"id\":\"1e6a3a1b-d8f5-49cb-b1b8-1350afb444a2\",\"type\":\"ColumnDataSource\"},{\"attributes\":{},\"id\":\"1e1954bd-0462-4af8-8878-fc214378edb2\",\"type\":\"BasicTickFormatter\"},{\"attributes\":{\"callback\":null,\"column_names\":[\"height\",\"color\",\"x\",\"fill_alpha\",\"width\",\"line_alpha\",\"line_color\",\"label\",\"y\"],\"data\":{\"chart_index\":[\"(4.0, 4.2]\"],\"color\":[\"#f22c40\"],\"fill_alpha\":[0.6],\"height\":[53.0],\"label\":[\"(4.0, 4.2]\"],\"line_alpha\":[1.0],\"line_color\":[\"black\"],\"width\":[0.16666666666666607],\"x\":[\"4.1\"],\"y\":[26.5]}},\"id\":\"42f829db-7837-4835-aaac-158243b15981\",\"type\":\"ColumnDataSource\"},{\"attributes\":{\"fill_alpha\":{\"field\":\"fill_alpha\"},\"fill_color\":{\"field\":\"color\"},\"height\":{\"field\":\"height\",\"units\":\"data\"},\"line_color\":{\"field\":\"line_color\"},\"width\":{\"field\":\"width\",\"units\":\"data\"},\"x\":{\"field\":\"x\"},\"y\":{\"field\":\"y\"}},\"id\":\"0d28be30-3290-407c-be50-6958731f112b\",\"type\":\"Rect\"},{\"attributes\":{\"callback\":null,\"column_names\":[\"height\",\"color\",\"x\",\"fill_alpha\",\"width\",\"line_alpha\",\"line_color\",\"label\",\"y\"],\"data\":{\"chart_index\":[\"(4.9, 5.0]\"],\"color\":[\"#5ab738\"],\"fill_alpha\":[0.6],\"height\":[0.0],\"label\":[\"(4.9, 5.0]\"],\"line_alpha\":[1.0],\"line_color\":[\"black\"],\"width\":[0.117647058823529],\"x\":[\"4.95\"],\"y\":[0.0]}},\"id\":\"3c0a76d6-f46b-4eb9-b78e-62c08974ec8a\",\"type\":\"ColumnDataSource\"},{\"attributes\":{\"data_source\":{\"id\":\"b1692d9e-d07a-4542-861e-350dd0b671fe\",\"type\":\"ColumnDataSource\"},\"glyph\":{\"id\":\"5972a7ff-bea0-48c7-a404-7dffe96608c6\",\"type\":\"Rect\"},\"hover_glyph\":null,\"nonselection_glyph\":null,\"selection_glyph\":null},\"id\":\"c9552a0d-5bf1-4196-93b5-39b92e466d77\",\"type\":\"GlyphRenderer\"},{\"attributes\":{\"fill_alpha\":{\"field\":\"fill_alpha\"},\"fill_color\":{\"field\":\"color\"},\"height\":{\"field\":\"height\",\"units\":\"data\"},\"line_color\":{\"field\":\"line_color\"},\"width\":{\"field\":\"width\",\"units\":\"data\"},\"x\":{\"field\":\"x\"},\"y\":{\"field\":\"y\"}},\"id\":\"4631ef5b-494f-4db7-a61d-df466ebf414a\",\"type\":\"Rect\"},{\"attributes\":{\"callback\":null,\"column_names\":[\"height\",\"color\",\"x\",\"fill_alpha\",\"width\",\"line_alpha\",\"line_color\",\"label\",\"y\"],\"data\":{\"chart_index\":[\"(6.7, 6.8]\"],\"color\":[\"#f22c40\"],\"fill_alpha\":[0.6],\"height\":[0.0],\"label\":[\"(6.7, 6.8]\"],\"line_alpha\":[1.0],\"line_color\":[\"black\"],\"width\":[0.16666666666666696],\"x\":[\"6.75\"],\"y\":[0.0]}},\"id\":\"d18e51a0-9ccf-4589-864a-e8cea96fba02\",\"type\":\"ColumnDataSource\"},{\"attributes\":{\"callback\":null,\"column_names\":[\"height\",\"color\",\"x\",\"fill_alpha\",\"width\",\"line_alpha\",\"line_color\",\"label\",\"y\"],\"data\":{\"chart_index\":[\"(4.6, 4.8]\"],\"color\":[\"#5ab738\"],\"fill_alpha\":[0.6],\"height\":[0.0],\"label\":[\"(4.6, 4.8]\"],\"line_alpha\":[1.0],\"line_color\":[\"black\"],\"width\":[0.11764705882352988],\"x\":[\"4.699999999999999\"],\"y\":[0.0]}},\"id\":\"67a36eed-d6b6-4346-bf33-f03570fc653c\",\"type\":\"ColumnDataSource\"},{\"attributes\":{\"bottom_units\":\"screen\",\"fill_alpha\":{\"value\":0.5},\"fill_color\":{\"value\":\"lightgrey\"},\"left_units\":\"screen\",\"level\":\"overlay\",\"line_alpha\":{\"value\":1.0},\"line_color\":{\"value\":\"black\"},\"line_dash\":[4,4],\"line_width\":{\"value\":2},\"plot\":null,\"render_mode\":\"css\",\"right_units\":\"screen\",\"top_units\":\"screen\"},\"id\":\"2ec7738e-78e0-4301-8f87-7e3fd1af24be\",\"type\":\"BoxAnnotation\"},{\"attributes\":{\"callback\":null,\"column_names\":[\"height\",\"color\",\"x\",\"fill_alpha\",\"width\",\"line_alpha\",\"line_color\",\"label\",\"y\"],\"data\":{\"chart_index\":[\"(3.5, 3.6]\"],\"color\":[\"#5ab738\"],\"fill_alpha\":[0.6],\"height\":[0.0],\"label\":[\"(3.5, 3.6]\"],\"line_alpha\":[1.0],\"line_color\":[\"black\"],\"width\":[0.11764705882352944],\"x\":[\"3.55\"],\"y\":[0.0]}},\"id\":\"8efeeb86-fdac-4f97-9888-4c372f2433d9\",\"type\":\"ColumnDataSource\"},{\"attributes\":{\"data_source\":{\"id\":\"b9148472-6829-46ce-8edb-5261393ab3bc\",\"type\":\"ColumnDataSource\"},\"glyph\":{\"id\":\"ed57fcb0-4eb6-419c-9585-3f89cec330e6\",\"type\":\"Rect\"},\"hover_glyph\":null,\"nonselection_glyph\":null,\"selection_glyph\":null},\"id\":\"999699d9-c63c-45d2-b7ea-06ad788c2112\",\"type\":\"GlyphRenderer\"},{\"attributes\":{\"data_source\":{\"id\":\"75e0e45b-f802-4b77-8056-42208700dd38\",\"type\":\"ColumnDataSource\"},\"glyph\":{\"id\":\"aeb36373-38ac-4b5f-a385-7c3b3ceffc4d\",\"type\":\"Rect\"},\"hover_glyph\":null,\"nonselection_glyph\":null,\"selection_glyph\":null},\"id\":\"d63a3dd5-71eb-4320-b9bb-dc2116a0ed52\",\"type\":\"GlyphRenderer\"},{\"attributes\":{\"fill_alpha\":{\"field\":\"fill_alpha\"},\"fill_color\":{\"field\":\"color\"},\"height\":{\"field\":\"height\",\"units\":\"data\"},\"line_color\":{\"field\":\"line_color\"},\"width\":{\"field\":\"width\",\"units\":\"data\"},\"x\":{\"field\":\"x\"},\"y\":{\"field\":\"y\"}},\"id\":\"c89ba733-9d8b-45e2-be8b-f0e1b6cbe042\",\"type\":\"Rect\"},{\"attributes\":{\"callback\":null,\"column_names\":[\"height\",\"color\",\"x\",\"fill_alpha\",\"width\",\"line_alpha\",\"line_color\",\"label\",\"y\"],\"data\":{\"chart_index\":[\"(7.3, 7.5]\"],\"color\":[\"#f22c40\"],\"fill_alpha\":[0.6],\"height\":[0.0],\"label\":[\"(7.3, 7.5]\"],\"line_alpha\":[1.0],\"line_color\":[\"black\"],\"width\":[0.16666666666666696],\"x\":[\"7.4\"],\"y\":[0.0]}},\"id\":\"90e8b4c2-b09f-44c4-a869-70efa67f56d2\",\"type\":\"ColumnDataSource\"},{\"attributes\":{\"callback\":null,\"end\":2417.8},\"id\":\"e24a2643-a00c-4f67-b4aa-0e239226d392\",\"type\":\"Range1d\"},{\"attributes\":{\"callback\":null,\"column_names\":[\"height\",\"color\",\"x\",\"fill_alpha\",\"width\",\"line_alpha\",\"line_color\",\"label\",\"y\"],\"data\":{\"chart_index\":[\"(4.5, 4.7]\"],\"color\":[\"#f22c40\"],\"fill_alpha\":[0.6],\"height\":[0.0],\"label\":[\"(4.5, 4.7]\"],\"line_alpha\":[1.0],\"line_color\":[\"black\"],\"width\":[0.16666666666666607],\"x\":[\"4.6\"],\"y\":[0.0]}},\"id\":\"58b32cb6-2ece-4e85-8267-8bd237af12d1\",\"type\":\"ColumnDataSource\"},{\"attributes\":{\"callback\":null,\"column_names\":[\"height\",\"color\",\"x\",\"fill_alpha\",\"width\",\"line_alpha\",\"line_color\",\"label\",\"y\"],\"data\":{\"chart_index\":[\"(8.1, 8.2]\"],\"color\":[\"#5ab738\"],\"fill_alpha\":[0.6],\"height\":[0.0],\"label\":[\"(8.1, 8.2]\"],\"line_alpha\":[1.0],\"line_color\":[\"black\"],\"width\":[0.117647058823529],\"x\":[\"8.149999999999999\"],\"y\":[0.0]}},\"id\":\"5792d470-7430-4afd-b6aa-b60fb415a57c\",\"type\":\"ColumnDataSource\"},{\"attributes\":{\"fill_alpha\":{\"field\":\"fill_alpha\"},\"fill_color\":{\"field\":\"color\"},\"height\":{\"field\":\"height\",\"units\":\"data\"},\"line_color\":{\"field\":\"line_color\"},\"width\":{\"field\":\"width\",\"units\":\"data\"},\"x\":{\"field\":\"x\"},\"y\":{\"field\":\"y\"}},\"id\":\"394e9139-2e69-44ab-9638-9b78a619752d\",\"type\":\"Rect\"},{\"attributes\":{\"callback\":null,\"column_names\":[\"height\",\"color\",\"x\",\"fill_alpha\",\"width\",\"line_alpha\",\"line_color\",\"label\",\"y\"],\"data\":{\"chart_index\":[\"(6.3, 6.5]\"],\"color\":[\"#f22c40\"],\"fill_alpha\":[0.6],\"height\":[0.0],\"label\":[\"(6.3, 6.5]\"],\"line_alpha\":[1.0],\"line_color\":[\"black\"],\"width\":[0.16666666666666696],\"x\":[\"6.4\"],\"y\":[0.0]}},\"id\":\"8c11a55c-5d7f-4838-98c4-88939b9b587f\",\"type\":\"ColumnDataSource\"},{\"attributes\":{\"callback\":null,\"column_names\":[\"height\",\"color\",\"x\",\"fill_alpha\",\"width\",\"line_alpha\",\"line_color\",\"label\",\"y\"],\"data\":{\"chart_index\":[\"(6.3, 6.4]\"],\"color\":[\"#5ab738\"],\"fill_alpha\":[0.6],\"height\":[0.0],\"label\":[\"(6.3, 6.4]\"],\"line_alpha\":[1.0],\"line_color\":[\"black\"],\"width\":[0.11764705882352988],\"x\":[\"6.35\"],\"y\":[0.0]}},\"id\":\"b853873d-4a8f-4d5c-a721-75cc93940f9b\",\"type\":\"ColumnDataSource\"},{\"attributes\":{\"callback\":null,\"column_names\":[\"height\",\"color\",\"x\",\"fill_alpha\",\"width\",\"line_alpha\",\"line_color\",\"label\",\"y\"],\"data\":{\"chart_index\":[\"(3.8, 4.0]\"],\"color\":[\"#f22c40\"],\"fill_alpha\":[0.6],\"height\":[0.0],\"label\":[\"(3.8, 4.0]\"],\"line_alpha\":[1.0],\"line_color\":[\"black\"],\"width\":[0.16666666666666696],\"x\":[\"3.9\"],\"y\":[0.0]}},\"id\":\"fc8aec66-cbe8-434e-9a83-e61fa0d1b28e\",\"type\":\"ColumnDataSource\"},{\"attributes\":{\"fill_alpha\":{\"field\":\"fill_alpha\"},\"fill_color\":{\"field\":\"color\"},\"height\":{\"field\":\"height\",\"units\":\"data\"},\"line_color\":{\"field\":\"line_color\"},\"width\":{\"field\":\"width\",\"units\":\"data\"},\"x\":{\"field\":\"x\"},\"y\":{\"field\":\"y\"}},\"id\":\"1661861c-aad5-418b-a497-093888170ee5\",\"type\":\"Rect\"},{\"attributes\":{\"plot\":{\"id\":\"b6de5e80-4562-4c73-9cb0-a27c9a801393\",\"subtype\":\"Chart\",\"type\":\"Plot\"}},\"id\":\"ee71cecc-638d-4783-a8e2-3d0ad65d286d\",\"type\":\"PanTool\"},{\"attributes\":{\"callback\":null,\"column_names\":[\"height\",\"color\",\"x\",\"fill_alpha\",\"width\",\"line_alpha\",\"line_color\",\"label\",\"y\"],\"data\":{\"chart_index\":[\"(3.9, 4.1]\"],\"color\":[\"#5ab738\"],\"fill_alpha\":[0.6],\"height\":[163.0],\"label\":[\"(3.9, 4.1]\"],\"line_alpha\":[1.0],\"line_color\":[\"black\"],\"width\":[0.117647058823529],\"x\":[\"4.0\"],\"y\":[81.5]}},\"id\":\"9895cf1c-d51d-4015-8061-340a5e4e92ba\",\"type\":\"ColumnDataSource\"},{\"attributes\":{\"fill_alpha\":{\"field\":\"fill_alpha\"},\"fill_color\":{\"field\":\"color\"},\"height\":{\"field\":\"height\",\"units\":\"data\"},\"line_color\":{\"field\":\"line_color\"},\"width\":{\"field\":\"width\",\"units\":\"data\"},\"x\":{\"field\":\"x\"},\"y\":{\"field\":\"y\"}},\"id\":\"5df386f9-2e8d-4ab4-b9bb-94ee3791dc0b\",\"type\":\"Rect\"},{\"attributes\":{\"overlay\":{\"id\":\"6abb207f-a676-4c7f-bfdb-313b1c8ca609\",\"type\":\"BoxAnnotation\"},\"plot\":{\"id\":\"1a7ddfc4-f8cc-4219-8e99-81d08d12a7d8\",\"subtype\":\"Chart\",\"type\":\"Plot\"}},\"id\":\"8d1eeb63-a059-4dd3-8f68-7543ccd8eea6\",\"type\":\"BoxZoomTool\"},{\"attributes\":{\"data_source\":{\"id\":\"381048a2-bb76-4296-9308-9b0c8a2998b7\",\"type\":\"ColumnDataSource\"},\"glyph\":{\"id\":\"2853a03d-277b-4792-83b7-065016aaf494\",\"type\":\"Rect\"},\"hover_glyph\":null,\"nonselection_glyph\":null,\"selection_glyph\":null},\"id\":\"605140ee-2d81-41b0-9a97-1bd3c711c8b3\",\"type\":\"GlyphRenderer\"},{\"attributes\":{\"data_source\":{\"id\":\"14bc8de2-00c5-4527-8f89-0c1d8a51b8c2\",\"type\":\"ColumnDataSource\"},\"glyph\":{\"id\":\"7b137b6f-b158-4258-9f03-27bb52e2b009\",\"type\":\"Rect\"},\"hover_glyph\":null,\"nonselection_glyph\":null,\"selection_glyph\":null},\"id\":\"c2346096-07d8-45eb-a3dc-d00b285f75ee\",\"type\":\"GlyphRenderer\"},{\"attributes\":{\"data_source\":{\"id\":\"3ccdd8fb-139a-4ffa-926c-264fcf18c93e\",\"type\":\"ColumnDataSource\"},\"glyph\":{\"id\":\"7b4caf42-d001-4471-8438-2bc3bc92c1c2\",\"type\":\"Rect\"},\"hover_glyph\":null,\"nonselection_glyph\":null,\"selection_glyph\":null},\"id\":\"ea8a7e3a-6781-4399-b5d2-1175c76deb05\",\"type\":\"GlyphRenderer\"},{\"attributes\":{\"plot\":{\"id\":\"b6de5e80-4562-4c73-9cb0-a27c9a801393\",\"subtype\":\"Chart\",\"type\":\"Plot\"}},\"id\":\"4b1119b8-3a09-41a6-bba5-1b118afcc56e\",\"type\":\"ResetTool\"},{\"attributes\":{\"legends\":[[\"1\",[{\"id\":\"ec9d7458-ee4e-43ea-8143-77a74c086477\",\"type\":\"GlyphRenderer\"},{\"id\":\"b1b1e0ba-f1d9-4657-8265-26cd8f7efd06\",\"type\":\"GlyphRenderer\"},{\"id\":\"ab1a8829-535c-4d37-97b4-3a0a665467e0\",\"type\":\"GlyphRenderer\"},{\"id\":\"b21bdc99-2ee6-4216-8512-172cea577b23\",\"type\":\"GlyphRenderer\"},{\"id\":\"6c083916-0bd4-4d70-a581-e9cda605fe28\",\"type\":\"GlyphRenderer\"},{\"id\":\"a4a5aac5-6e54-4aa0-9ac0-08e6bb9b99d5\",\"type\":\"GlyphRenderer\"},{\"id\":\"605140ee-2d81-41b0-9a97-1bd3c711c8b3\",\"type\":\"GlyphRenderer\"},{\"id\":\"cc3e3677-4dfe-4d63-b368-8e9302bc298f\",\"type\":\"GlyphRenderer\"},{\"id\":\"46015993-a5b6-48c3-b320-af65f3500d3e\",\"type\":\"GlyphRenderer\"},{\"id\":\"58ebeeb0-bfb0-405b-968d-5a80671a117a\",\"type\":\"GlyphRenderer\"},{\"id\":\"5adab05f-43c7-4682-bcb8-013ce608490b\",\"type\":\"GlyphRenderer\"},{\"id\":\"d857073d-72b3-421c-9fb6-c51195bea034\",\"type\":\"GlyphRenderer\"},{\"id\":\"0f836b86-285d-45f8-86ee-eacf2f8df0b1\",\"type\":\"GlyphRenderer\"},{\"id\":\"08b8bd42-c848-46f5-ad38-1e9cd689b9cb\",\"type\":\"GlyphRenderer\"},{\"id\":\"056f5a85-5d96-45bc-b157-cadae5dba627\",\"type\":\"GlyphRenderer\"},{\"id\":\"43a93804-97eb-4561-ae55-476f5ff7c982\",\"type\":\"GlyphRenderer\"},{\"id\":\"bb0206cf-73fd-4d1b-9ded-c3dc6aa7f2ff\",\"type\":\"GlyphRenderer\"},{\"id\":\"d63a3dd5-71eb-4320-b9bb-dc2116a0ed52\",\"type\":\"GlyphRenderer\"},{\"id\":\"4605c95e-7b6d-4e0c-a79c-5659957d321c\",\"type\":\"GlyphRenderer\"},{\"id\":\"d873fc85-bf64-4514-9dd0-cdb7a8d8269d\",\"type\":\"GlyphRenderer\"},{\"id\":\"840e54fa-98a0-45b5-8feb-ce6ade8a2337\",\"type\":\"GlyphRenderer\"},{\"id\":\"6f8f1e4a-c647-479f-ba4b-e1561ccf19b6\",\"type\":\"GlyphRenderer\"},{\"id\":\"c4d55ed5-31f5-4208-9b4b-535c6c6eb612\",\"type\":\"GlyphRenderer\"},{\"id\":\"c2346096-07d8-45eb-a3dc-d00b285f75ee\",\"type\":\"GlyphRenderer\"},{\"id\":\"c4d0fb96-f867-4135-9ee3-3d88107178d7\",\"type\":\"GlyphRenderer\"},{\"id\":\"72824722-7365-4aa8-aba0-4e3406b59bfc\",\"type\":\"GlyphRenderer\"},{\"id\":\"ca18ef08-413a-42df-b61a-00d48144d946\",\"type\":\"GlyphRenderer\"},{\"id\":\"e1a49c0d-48b1-42d2-922e-58365fa741d0\",\"type\":\"GlyphRenderer\"},{\"id\":\"2679e58d-783e-4371-bf4c-d5350d102931\",\"type\":\"GlyphRenderer\"},{\"id\":\"47ec3630-5154-42aa-97d7-9c1d30ac0a83\",\"type\":\"GlyphRenderer\"},{\"id\":\"dc205431-c2a8-4de4-8021-0f8f0b891f84\",\"type\":\"GlyphRenderer\"},{\"id\":\"fe58809e-4048-4f67-8470-7f9390f0d548\",\"type\":\"GlyphRenderer\"},{\"id\":\"e50c4ac1-7c68-4e84-a531-e29c03dba519\",\"type\":\"GlyphRenderer\"},{\"id\":\"b95c8c86-e9ab-4e1a-9b81-38f198348702\",\"type\":\"GlyphRenderer\"},{\"id\":\"5915ae24-8d4a-445a-b72f-d14c477e3fcb\",\"type\":\"GlyphRenderer\"},{\"id\":\"7f532383-7a4f-4e7b-b888-dc92caddba7b\",\"type\":\"GlyphRenderer\"},{\"id\":\"b80c88b1-e77d-44ad-8b30-5acfd8dc0501\",\"type\":\"GlyphRenderer\"},{\"id\":\"965c2759-1ca0-46a1-a056-5b08cf2bf2ce\",\"type\":\"GlyphRenderer\"},{\"id\":\"aa76c2e9-c496-4081-9187-8caba6bcb664\",\"type\":\"GlyphRenderer\"},{\"id\":\"ab3e2da3-8a96-4604-82c7-87e8db514271\",\"type\":\"GlyphRenderer\"},{\"id\":\"5a3890e4-f5af-465d-aa1c-9d3bcbb38839\",\"type\":\"GlyphRenderer\"},{\"id\":\"ed001f3c-7756-4b92-9191-d501e965a904\",\"type\":\"GlyphRenderer\"},{\"id\":\"3db85312-65cd-4084-9e69-a6ef5951ec16\",\"type\":\"GlyphRenderer\"},{\"id\":\"b0582232-09cd-4e0e-9417-984550a9624f\",\"type\":\"GlyphRenderer\"},{\"id\":\"999699d9-c63c-45d2-b7ea-06ad788c2112\",\"type\":\"GlyphRenderer\"},{\"id\":\"fd7bcd80-ed96-409a-85f8-a24c0ffc3273\",\"type\":\"GlyphRenderer\"},{\"id\":\"7562e780-c2e8-4ab4-85b5-6c2d126857f0\",\"type\":\"GlyphRenderer\"},{\"id\":\"69c37104-35ed-40b8-8cef-9b3e849c1367\",\"type\":\"GlyphRenderer\"},{\"id\":\"2c5499cd-f29f-4132-80ad-d03fa00143e3\",\"type\":\"GlyphRenderer\"},{\"id\":\"0ca7b884-f75d-47b1-b8c8-501f6acdb17a\",\"type\":\"GlyphRenderer\"},{\"id\":\"ea005c9d-a459-41cf-a635-d9f926c58149\",\"type\":\"GlyphRenderer\"}]],[\"0\",[{\"id\":\"31b97f2e-4f6b-4331-8fee-965e90197aa4\",\"type\":\"GlyphRenderer\"},{\"id\":\"75baefea-06a1-40c6-84ea-3a1a4865be3a\",\"type\":\"GlyphRenderer\"},{\"id\":\"ea251334-3176-40cf-8b55-14d2b2f131a2\",\"type\":\"GlyphRenderer\"},{\"id\":\"a4fa910f-6f78-4c8f-acdc-c86b0a2bf5f9\",\"type\":\"GlyphRenderer\"},{\"id\":\"f6d5c5c0-f63b-4ab3-9f8b-3b8a7c31a4e4\",\"type\":\"GlyphRenderer\"},{\"id\":\"3e7af103-1d3a-4244-af52-acdbc1731b04\",\"type\":\"GlyphRenderer\"},{\"id\":\"af03862d-67ca-4387-b917-30f8f4b84bf4\",\"type\":\"GlyphRenderer\"},{\"id\":\"3662a5f2-31d5-469a-95ff-85dc983c6f21\",\"type\":\"GlyphRenderer\"},{\"id\":\"58eba03b-b9c8-494e-9512-b9350ee348a8\",\"type\":\"GlyphRenderer\"},{\"id\":\"bda4d4bf-d323-4a7c-bd63-c41007f25eeb\",\"type\":\"GlyphRenderer\"},{\"id\":\"381c893a-f56b-4f2c-863a-e5a5d5218779\",\"type\":\"GlyphRenderer\"},{\"id\":\"c9552a0d-5bf1-4196-93b5-39b92e466d77\",\"type\":\"GlyphRenderer\"},{\"id\":\"ec2c73ba-f1cc-4325-91c0-a5ef49df85e8\",\"type\":\"GlyphRenderer\"},{\"id\":\"8c56ba5a-b26a-44fb-a4ad-a38cb723656f\",\"type\":\"GlyphRenderer\"},{\"id\":\"e48b185d-cab8-48b5-845f-271388cabe91\",\"type\":\"GlyphRenderer\"},{\"id\":\"859d652e-f301-41b5-843c-ffb7561c3e93\",\"type\":\"GlyphRenderer\"},{\"id\":\"214c6092-2de8-4872-93d9-230e7864e82f\",\"type\":\"GlyphRenderer\"},{\"id\":\"e6dba7fe-2ddf-4160-967b-779450a2e36e\",\"type\":\"GlyphRenderer\"},{\"id\":\"ea8a7e3a-6781-4399-b5d2-1175c76deb05\",\"type\":\"GlyphRenderer\"},{\"id\":\"f662856b-dd8f-4f34-ae8f-30b1e7d626f1\",\"type\":\"GlyphRenderer\"},{\"id\":\"a46f0167-c920-483c-9a27-f32981dcd464\",\"type\":\"GlyphRenderer\"},{\"id\":\"c3377582-0233-42fe-ad2e-bca660de15f3\",\"type\":\"GlyphRenderer\"},{\"id\":\"8547aae4-3bac-40ee-ad83-e2bd45cf8410\",\"type\":\"GlyphRenderer\"},{\"id\":\"c0f3bd3f-916a-480f-93c3-dfac59925593\",\"type\":\"GlyphRenderer\"},{\"id\":\"918851f1-2184-44a9-a568-4da855d55d65\",\"type\":\"GlyphRenderer\"},{\"id\":\"b08f090c-0b35-4ef9-ae08-165f6fe64cbb\",\"type\":\"GlyphRenderer\"},{\"id\":\"1ab827ae-1e70-4c3a-87b1-c696bb2b652c\",\"type\":\"GlyphRenderer\"},{\"id\":\"b604a53b-a45f-4c9e-be12-18b8fa4c220e\",\"type\":\"GlyphRenderer\"},{\"id\":\"c765650b-ae67-47b3-884f-0a16df4b3776\",\"type\":\"GlyphRenderer\"},{\"id\":\"30113c97-7638-42db-a7a1-9625744f6867\",\"type\":\"GlyphRenderer\"}]]],\"location\":\"top_left\",\"plot\":{\"id\":\"1a7ddfc4-f8cc-4219-8e99-81d08d12a7d8\",\"subtype\":\"Chart\",\"type\":\"Plot\"}},\"id\":\"23c3d3a9-1173-44df-b64c-6b20f3f9f321\",\"type\":\"Legend\"},{\"attributes\":{\"fill_alpha\":{\"field\":\"fill_alpha\"},\"fill_color\":{\"field\":\"color\"},\"height\":{\"field\":\"height\",\"units\":\"data\"},\"line_color\":{\"field\":\"line_color\"},\"width\":{\"field\":\"width\",\"units\":\"data\"},\"x\":{\"field\":\"x\"},\"y\":{\"field\":\"y\"}},\"id\":\"62245350-52b7-47b4-9ac2-a11ef04f73c4\",\"type\":\"Rect\"},{\"attributes\":{\"callback\":null,\"column_names\":[\"height\",\"color\",\"x\",\"fill_alpha\",\"width\",\"line_alpha\",\"line_color\",\"label\",\"y\"],\"data\":{\"chart_index\":[\"(4.5, 4.6]\"],\"color\":[\"#5ab738\"],\"fill_alpha\":[0.6],\"height\":[0.0],\"label\":[\"(4.5, 4.6]\"],\"line_alpha\":[1.0],\"line_color\":[\"black\"],\"width\":[0.117647058823529],\"x\":[\"4.55\"],\"y\":[0.0]}},\"id\":\"f02cec2f-475b-447d-a261-58156efdd8af\",\"type\":\"ColumnDataSource\"},{\"attributes\":{\"callback\":null,\"column_names\":[\"height\",\"color\",\"x\",\"fill_alpha\",\"width\",\"line_alpha\",\"line_color\",\"label\",\"y\"],\"data\":{\"chart_index\":[\"(5.0, 5.2]\"],\"color\":[\"#f22c40\"],\"fill_alpha\":[0.6],\"height\":[681.0],\"label\":[\"(5.0, 5.2]\"],\"line_alpha\":[1.0],\"line_color\":[\"black\"],\"width\":[0.16666666666666607],\"x\":[\"5.1\"],\"y\":[340.5]}},\"id\":\"1be623f0-66b9-4c27-a319-106e88c83adb\",\"type\":\"ColumnDataSource\"},{\"attributes\":{\"data_source\":{\"id\":\"821fdee6-48e6-4125-8035-d761b7121be3\",\"type\":\"ColumnDataSource\"},\"glyph\":{\"id\":\"56c82b99-df90-4bd4-a9fa-abdc4ac708e3\",\"type\":\"Rect\"},\"hover_glyph\":null,\"nonselection_glyph\":null,\"selection_glyph\":null},\"id\":\"b21bdc99-2ee6-4216-8512-172cea577b23\",\"type\":\"GlyphRenderer\"},{\"attributes\":{\"callback\":null,\"column_names\":[\"height\",\"color\",\"x\",\"fill_alpha\",\"width\",\"line_alpha\",\"line_color\",\"label\",\"y\"],\"data\":{\"chart_index\":[\"(7.1, 7.2]\"],\"color\":[\"#5ab738\"],\"fill_alpha\":[0.6],\"height\":[0.0],\"label\":[\"(7.1, 7.2]\"],\"line_alpha\":[1.0],\"line_color\":[\"black\"],\"width\":[0.11764705882352988],\"x\":[\"7.15\"],\"y\":[0.0]}},\"id\":\"56a47c27-a9bb-4ffa-9195-2cba0a3705d6\",\"type\":\"ColumnDataSource\"},{\"attributes\":{\"fill_alpha\":{\"field\":\"fill_alpha\"},\"fill_color\":{\"field\":\"color\"},\"height\":{\"field\":\"height\",\"units\":\"data\"},\"line_color\":{\"field\":\"line_color\"},\"width\":{\"field\":\"width\",\"units\":\"data\"},\"x\":{\"field\":\"x\"},\"y\":{\"field\":\"y\"}},\"id\":\"916daa87-bd5b-49eb-9eeb-0fa17b357333\",\"type\":\"Rect\"},{\"attributes\":{\"fill_alpha\":{\"field\":\"fill_alpha\"},\"fill_color\":{\"field\":\"color\"},\"height\":{\"field\":\"height\",\"units\":\"data\"},\"line_color\":{\"field\":\"line_color\"},\"width\":{\"field\":\"width\",\"units\":\"data\"},\"x\":{\"field\":\"x\"},\"y\":{\"field\":\"y\"}},\"id\":\"e89eb329-3693-4de2-95cc-30fdcdee6cdd\",\"type\":\"Rect\"},{\"attributes\":{\"callback\":null,\"column_names\":[\"height\",\"color\",\"x\",\"fill_alpha\",\"width\",\"line_alpha\",\"line_color\",\"label\",\"y\"],\"data\":{\"chart_index\":[\"(8.6, 8.8]\"],\"color\":[\"#5ab738\"],\"fill_alpha\":[0.6],\"height\":[0.0],\"label\":[\"(8.6, 8.8]\"],\"line_alpha\":[1.0],\"line_color\":[\"black\"],\"width\":[0.11764705882353077],\"x\":[\"8.7\"],\"y\":[0.0]}},\"id\":\"dc977f18-3c27-4076-b3be-b5ab7072eb3c\",\"type\":\"ColumnDataSource\"},{\"attributes\":{\"callback\":null,\"column_names\":[\"height\",\"color\",\"x\",\"fill_alpha\",\"width\",\"line_alpha\",\"line_color\",\"label\",\"y\"],\"data\":{\"chart_index\":[\"(5.2, 5.3]\"],\"color\":[\"#f22c40\"],\"fill_alpha\":[0.6],\"height\":[0.0],\"label\":[\"(5.2, 5.3]\"],\"line_alpha\":[1.0],\"line_color\":[\"black\"],\"width\":[0.16666666666666696],\"x\":[\"5.25\"],\"y\":[0.0]}},\"id\":\"2a9f673d-e544-4f3e-af02-3ab7e0a5a8a6\",\"type\":\"ColumnDataSource\"},{\"attributes\":{\"fill_alpha\":{\"field\":\"fill_alpha\"},\"fill_color\":{\"field\":\"color\"},\"height\":{\"field\":\"height\",\"units\":\"data\"},\"line_color\":{\"field\":\"line_color\"},\"width\":{\"field\":\"width\",\"units\":\"data\"},\"x\":{\"field\":\"x\"},\"y\":{\"field\":\"y\"}},\"id\":\"f8801a10-750e-4acc-9747-e055f8565ad8\",\"type\":\"Rect\"},{\"attributes\":{\"callback\":null,\"column_names\":[\"height\",\"color\",\"x\",\"fill_alpha\",\"width\",\"line_alpha\",\"line_color\",\"label\",\"y\"],\"data\":{\"chart_index\":[\"(7.0, 7.2]\"],\"color\":[\"#f22c40\"],\"fill_alpha\":[0.6],\"height\":[199.0],\"label\":[\"(7.0, 7.2]\"],\"line_alpha\":[1.0],\"line_color\":[\"black\"],\"width\":[0.16666666666666607],\"x\":[\"7.1\"],\"y\":[99.5]}},\"id\":\"6d982795-f391-4f9f-a0a7-8e99dc05d4e7\",\"type\":\"ColumnDataSource\"},{\"attributes\":{\"fill_alpha\":{\"field\":\"fill_alpha\"},\"fill_color\":{\"field\":\"color\"},\"height\":{\"field\":\"height\",\"units\":\"data\"},\"line_color\":{\"field\":\"line_color\"},\"width\":{\"field\":\"width\",\"units\":\"data\"},\"x\":{\"field\":\"x\"},\"y\":{\"field\":\"y\"}},\"id\":\"565d8356-855b-49b3-a6c4-54b1434c665c\",\"type\":\"Rect\"},{\"attributes\":{\"callback\":null,\"column_names\":[\"height\",\"color\",\"x\",\"fill_alpha\",\"width\",\"line_alpha\",\"line_color\",\"label\",\"y\"],\"data\":{\"chart_index\":[\"(8.5, 8.6]\"],\"color\":[\"#5ab738\"],\"fill_alpha\":[0.6],\"height\":[0.0],\"label\":[\"(8.5, 8.6]\"],\"line_alpha\":[1.0],\"line_color\":[\"black\"],\"width\":[0.117647058823529],\"x\":[\"8.55\"],\"y\":[0.0]}},\"id\":\"aeae0890-64ff-416b-974d-d26e9c1cfc16\",\"type\":\"ColumnDataSource\"},{\"attributes\":{\"fill_alpha\":{\"field\":\"fill_alpha\"},\"fill_color\":{\"field\":\"color\"},\"height\":{\"field\":\"height\",\"units\":\"data\"},\"line_color\":{\"field\":\"line_color\"},\"width\":{\"field\":\"width\",\"units\":\"data\"},\"x\":{\"field\":\"x\"},\"y\":{\"field\":\"y\"}},\"id\":\"07fd7d92-8c87-4f42-a69d-7096187299ea\",\"type\":\"Rect\"},{\"attributes\":{\"fill_alpha\":{\"field\":\"fill_alpha\"},\"fill_color\":{\"field\":\"color\"},\"height\":{\"field\":\"height\",\"units\":\"data\"},\"line_color\":{\"field\":\"line_color\"},\"width\":{\"field\":\"width\",\"units\":\"data\"},\"x\":{\"field\":\"x\"},\"y\":{\"field\":\"y\"}},\"id\":\"7b4caf42-d001-4471-8438-2bc3bc92c1c2\",\"type\":\"Rect\"},{\"attributes\":{\"data_source\":{\"id\":\"b6338cb3-4a4b-4246-b95d-2295d5e0bf19\",\"type\":\"ColumnDataSource\"},\"glyph\":{\"id\":\"7677a8b8-b046-43c6-90b9-c63edb249916\",\"type\":\"Rect\"},\"hover_glyph\":null,\"nonselection_glyph\":null,\"selection_glyph\":null},\"id\":\"c3377582-0233-42fe-ad2e-bca660de15f3\",\"type\":\"GlyphRenderer\"},{\"attributes\":{\"callback\":null,\"column_names\":[\"height\",\"color\",\"x\",\"fill_alpha\",\"width\",\"line_alpha\",\"line_color\",\"label\",\"y\"],\"data\":{\"chart_index\":[\"(3.7, 3.8]\"],\"color\":[\"#f22c40\"],\"fill_alpha\":[0.6],\"height\":[0.0],\"label\":[\"(3.7, 3.8]\"],\"line_alpha\":[1.0],\"line_color\":[\"black\"],\"width\":[0.16666666666666652],\"x\":[\"3.75\"],\"y\":[0.0]}},\"id\":\"ed5799e2-944f-486d-b9df-5b6dd10ad181\",\"type\":\"ColumnDataSource\"},{\"attributes\":{\"callback\":null,\"column_names\":[\"height\",\"color\",\"x\",\"fill_alpha\",\"width\",\"line_alpha\",\"line_color\",\"label\",\"y\"],\"data\":{\"chart_index\":[\"(7.7, 7.8]\"],\"color\":[\"#5ab738\"],\"fill_alpha\":[0.6],\"height\":[0.0],\"label\":[\"(7.7, 7.8]\"],\"line_alpha\":[1.0],\"line_color\":[\"black\"],\"width\":[0.117647058823529],\"x\":[\"7.75\"],\"y\":[0.0]}},\"id\":\"e863035d-7dd3-4f65-ad77-1606ed9fe6cf\",\"type\":\"ColumnDataSource\"},{\"attributes\":{\"callback\":null,\"column_names\":[\"height\",\"color\",\"x\",\"fill_alpha\",\"width\",\"line_alpha\",\"line_color\",\"label\",\"y\"],\"data\":{\"chart_index\":[\"(6.4, 6.5]\"],\"color\":[\"#5ab738\"],\"fill_alpha\":[0.6],\"height\":[0.0],\"label\":[\"(6.4, 6.5]\"],\"line_alpha\":[1.0],\"line_color\":[\"black\"],\"width\":[0.117647058823529],\"x\":[\"6.45\"],\"y\":[0.0]}},\"id\":\"11583813-513a-4802-a994-fe90ee4c4549\",\"type\":\"ColumnDataSource\"},{\"attributes\":{\"data_source\":{\"id\":\"dde6bbc4-210a-4a1e-aeb2-5df2085073dc\",\"type\":\"ColumnDataSource\"},\"glyph\":{\"id\":\"7018f3b0-22b5-4afb-8b4b-b146332f408d\",\"type\":\"Rect\"},\"hover_glyph\":null,\"nonselection_glyph\":null,\"selection_glyph\":null},\"id\":\"b95c8c86-e9ab-4e1a-9b81-38f198348702\",\"type\":\"GlyphRenderer\"},{\"attributes\":{\"data_source\":{\"id\":\"21b668b0-0df2-48e2-85fa-a2dbeb7d3836\",\"type\":\"ColumnDataSource\"},\"glyph\":{\"id\":\"ba805387-1352-4f2f-a624-c0ff87b77394\",\"type\":\"Rect\"},\"hover_glyph\":null,\"nonselection_glyph\":null,\"selection_glyph\":null},\"id\":\"c4d55ed5-31f5-4208-9b4b-535c6c6eb612\",\"type\":\"GlyphRenderer\"},{\"attributes\":{\"data_source\":{\"id\":\"a82d501d-4eb2-440a-94e0-5a957c7e95bb\",\"type\":\"ColumnDataSource\"},\"glyph\":{\"id\":\"4631ef5b-494f-4db7-a61d-df466ebf414a\",\"type\":\"Rect\"},\"hover_glyph\":null,\"nonselection_glyph\":null,\"selection_glyph\":null},\"id\":\"7562e780-c2e8-4ab4-85b5-6c2d126857f0\",\"type\":\"GlyphRenderer\"},{\"attributes\":{\"callback\":null,\"end\":5142.9},\"id\":\"d61168bd-2f35-4807-8b93-8dbb2c6ce77f\",\"type\":\"Range1d\"},{\"attributes\":{\"callback\":null,\"column_names\":[\"height\",\"color\",\"x\",\"fill_alpha\",\"width\",\"line_alpha\",\"line_color\",\"label\",\"y\"],\"data\":{\"chart_index\":[\"(5.0, 5.1]\"],\"color\":[\"#5ab738\"],\"fill_alpha\":[0.6],\"height\":[1457.0],\"label\":[\"(5.0, 5.1]\"],\"line_alpha\":[1.0],\"line_color\":[\"black\"],\"width\":[0.117647058823529],\"x\":[\"5.05\"],\"y\":[728.5]}},\"id\":\"75e0e45b-f802-4b77-8056-42208700dd38\",\"type\":\"ColumnDataSource\"},{\"attributes\":{},\"id\":\"69d290c0-8cf0-40e7-80e1-b1b34d7b05c7\",\"type\":\"ToolEvents\"},{\"attributes\":{},\"id\":\"3f00041b-84a2-4985-a5c6-7d274b0e60c5\",\"type\":\"BasicTickFormatter\"},{\"attributes\":{\"data_source\":{\"id\":\"a14d033a-f2de-432d-b7d7-265177aba49e\",\"type\":\"ColumnDataSource\"},\"glyph\":{\"id\":\"175397d8-74c6-4a0b-8e0c-c19c23313823\",\"type\":\"Rect\"},\"hover_glyph\":null,\"nonselection_glyph\":null,\"selection_glyph\":null},\"id\":\"ca18ef08-413a-42df-b61a-00d48144d946\",\"type\":\"GlyphRenderer\"},{\"attributes\":{\"callback\":null,\"column_names\":[\"height\",\"color\",\"x\",\"fill_alpha\",\"width\",\"line_alpha\",\"line_color\",\"label\",\"y\"],\"data\":{\"chart_index\":[\"(8.3, 8.4]\"],\"color\":[\"#5ab738\"],\"fill_alpha\":[0.6],\"height\":[0.0],\"label\":[\"(8.3, 8.4]\"],\"line_alpha\":[1.0],\"line_color\":[\"black\"],\"width\":[0.11764705882353077],\"x\":[\"8.350000000000001\"],\"y\":[0.0]}},\"id\":\"2b5b5f86-0a8a-48d6-9536-804f3ece24a7\",\"type\":\"ColumnDataSource\"},{\"attributes\":{\"callback\":null,\"column_names\":[\"height\",\"color\",\"x\",\"fill_alpha\",\"width\",\"line_alpha\",\"line_color\",\"label\",\"y\"],\"data\":{\"chart_index\":[\"(3.2, 3.4]\"],\"color\":[\"#5ab738\"],\"fill_alpha\":[0.6],\"height\":[0.0],\"label\":[\"(3.2, 3.4]\"],\"line_alpha\":[1.0],\"line_color\":[\"black\"],\"width\":[0.11764705882352944],\"x\":[\"3.3\"],\"y\":[0.0]}},\"id\":\"76302d80-fbc2-4592-8a0a-04e8e2747ad9\",\"type\":\"ColumnDataSource\"},{\"attributes\":{\"fill_alpha\":{\"field\":\"fill_alpha\"},\"fill_color\":{\"field\":\"color\"},\"height\":{\"field\":\"height\",\"units\":\"data\"},\"line_color\":{\"field\":\"line_color\"},\"width\":{\"field\":\"width\",\"units\":\"data\"},\"x\":{\"field\":\"x\"},\"y\":{\"field\":\"y\"}},\"id\":\"2853a03d-277b-4792-83b7-065016aaf494\",\"type\":\"Rect\"},{\"attributes\":{\"data_source\":{\"id\":\"42f829db-7837-4835-aaac-158243b15981\",\"type\":\"ColumnDataSource\"},\"glyph\":{\"id\":\"5df386f9-2e8d-4ab4-b9bb-94ee3791dc0b\",\"type\":\"Rect\"},\"hover_glyph\":null,\"nonselection_glyph\":null,\"selection_glyph\":null},\"id\":\"af03862d-67ca-4387-b917-30f8f4b84bf4\",\"type\":\"GlyphRenderer\"},{\"attributes\":{\"data_source\":{\"id\":\"3f73ec6b-4a58-45d9-b2ce-3cee185e9da4\",\"type\":\"ColumnDataSource\"},\"glyph\":{\"id\":\"43b618e2-8a53-4825-b5db-913aededef1b\",\"type\":\"Rect\"},\"hover_glyph\":null,\"nonselection_glyph\":null,\"selection_glyph\":null},\"id\":\"ed001f3c-7756-4b92-9191-d501e965a904\",\"type\":\"GlyphRenderer\"},{\"attributes\":{\"data_source\":{\"id\":\"7fa4c69e-0a6b-4533-8bb0-82c798c2b12c\",\"type\":\"ColumnDataSource\"},\"glyph\":{\"id\":\"a1f2420c-72a7-495c-9294-0678d9be7620\",\"type\":\"Rect\"},\"hover_glyph\":null,\"nonselection_glyph\":null,\"selection_glyph\":null},\"id\":\"5adab05f-43c7-4682-bcb8-013ce608490b\",\"type\":\"GlyphRenderer\"},{\"attributes\":{\"fill_alpha\":{\"field\":\"fill_alpha\"},\"fill_color\":{\"field\":\"color\"},\"height\":{\"field\":\"height\",\"units\":\"data\"},\"line_color\":{\"field\":\"line_color\"},\"width\":{\"field\":\"width\",\"units\":\"data\"},\"x\":{\"field\":\"x\"},\"y\":{\"field\":\"y\"}},\"id\":\"d4cf0a37-a6fd-4000-90ee-56eaafaf4845\",\"type\":\"Rect\"},{\"attributes\":{\"data_source\":{\"id\":\"58b32cb6-2ece-4e85-8267-8bd237af12d1\",\"type\":\"ColumnDataSource\"},\"glyph\":{\"id\":\"c5fc108b-e81d-43e0-83ea-9862ddab1448\",\"type\":\"Rect\"},\"hover_glyph\":null,\"nonselection_glyph\":null,\"selection_glyph\":null},\"id\":\"bda4d4bf-d323-4a7c-bd63-c41007f25eeb\",\"type\":\"GlyphRenderer\"},{\"attributes\":{\"fill_alpha\":{\"field\":\"fill_alpha\"},\"fill_color\":{\"field\":\"color\"},\"height\":{\"field\":\"height\",\"units\":\"data\"},\"line_color\":{\"field\":\"line_color\"},\"width\":{\"field\":\"width\",\"units\":\"data\"},\"x\":{\"field\":\"x\"},\"y\":{\"field\":\"y\"}},\"id\":\"ed57fcb0-4eb6-419c-9585-3f89cec330e6\",\"type\":\"Rect\"},{\"attributes\":{\"fill_alpha\":{\"field\":\"fill_alpha\"},\"fill_color\":{\"field\":\"color\"},\"height\":{\"field\":\"height\",\"units\":\"data\"},\"line_color\":{\"field\":\"line_color\"},\"width\":{\"field\":\"width\",\"units\":\"data\"},\"x\":{\"field\":\"x\"},\"y\":{\"field\":\"y\"}},\"id\":\"73f03302-8688-4c9b-9842-3898bbe75a7e\",\"type\":\"Rect\"},{\"attributes\":{\"fill_alpha\":{\"field\":\"fill_alpha\"},\"fill_color\":{\"field\":\"color\"},\"height\":{\"field\":\"height\",\"units\":\"data\"},\"line_color\":{\"field\":\"line_color\"},\"width\":{\"field\":\"width\",\"units\":\"data\"},\"x\":{\"field\":\"x\"},\"y\":{\"field\":\"y\"}},\"id\":\"39b4a8f6-1b57-4092-baab-d5ff21df45a5\",\"type\":\"Rect\"},{\"attributes\":{\"fill_alpha\":{\"field\":\"fill_alpha\"},\"fill_color\":{\"field\":\"color\"},\"height\":{\"field\":\"height\",\"units\":\"data\"},\"line_color\":{\"field\":\"line_color\"},\"width\":{\"field\":\"width\",\"units\":\"data\"},\"x\":{\"field\":\"x\"},\"y\":{\"field\":\"y\"}},\"id\":\"bc2e9105-78af-420b-9d63-51bf8e183fef\",\"type\":\"Rect\"},{\"attributes\":{\"callback\":null,\"column_names\":[\"height\",\"color\",\"x\",\"fill_alpha\",\"width\",\"line_alpha\",\"line_color\",\"label\",\"y\"],\"data\":{\"chart_index\":[\"(8.4, 8.5]\"],\"color\":[\"#5ab738\"],\"fill_alpha\":[0.6],\"height\":[0.0],\"label\":[\"(8.4, 8.5]\"],\"line_alpha\":[1.0],\"line_color\":[\"black\"],\"width\":[0.117647058823529],\"x\":[\"8.45\"],\"y\":[0.0]}},\"id\":\"a82d501d-4eb2-440a-94e0-5a957c7e95bb\",\"type\":\"ColumnDataSource\"},{\"attributes\":{\"fill_alpha\":{\"field\":\"fill_alpha\"},\"fill_color\":{\"field\":\"color\"},\"height\":{\"field\":\"height\",\"units\":\"data\"},\"line_color\":{\"field\":\"line_color\"},\"width\":{\"field\":\"width\",\"units\":\"data\"},\"x\":{\"field\":\"x\"},\"y\":{\"field\":\"y\"}},\"id\":\"cd0ca345-6b6b-4fea-989f-4021454c03e9\",\"type\":\"Rect\"},{\"attributes\":{\"data_source\":{\"id\":\"d7c1467c-e302-4b8e-9b4c-1f3ac02f9737\",\"type\":\"ColumnDataSource\"},\"glyph\":{\"id\":\"0ab4c0c7-667c-4230-b5fe-36d57b1544b7\",\"type\":\"Rect\"},\"hover_glyph\":null,\"nonselection_glyph\":null,\"selection_glyph\":null},\"id\":\"b80c88b1-e77d-44ad-8b30-5acfd8dc0501\",\"type\":\"GlyphRenderer\"},{\"attributes\":{\"fill_alpha\":{\"field\":\"fill_alpha\"},\"fill_color\":{\"field\":\"color\"},\"height\":{\"field\":\"height\",\"units\":\"data\"},\"line_color\":{\"field\":\"line_color\"},\"width\":{\"field\":\"width\",\"units\":\"data\"},\"x\":{\"field\":\"x\"},\"y\":{\"field\":\"y\"}},\"id\":\"2177363e-21af-4eba-be37-41dad68b9f1d\",\"type\":\"Rect\"},{\"attributes\":{\"callback\":null,\"column_names\":[\"height\",\"color\",\"x\",\"fill_alpha\",\"width\",\"line_alpha\",\"line_color\",\"label\",\"y\"],\"data\":{\"chart_index\":[\"(4.8, 5.0]\"],\"color\":[\"#f22c40\"],\"fill_alpha\":[0.6],\"height\":[0.0],\"label\":[\"(4.8, 5.0]\"],\"line_alpha\":[1.0],\"line_color\":[\"black\"],\"width\":[0.16666666666666696],\"x\":[\"4.9\"],\"y\":[0.0]}},\"id\":\"b1692d9e-d07a-4542-861e-350dd0b671fe\",\"type\":\"ColumnDataSource\"},{\"attributes\":{\"callback\":null,\"column_names\":[\"height\",\"color\",\"x\",\"fill_alpha\",\"width\",\"line_alpha\",\"line_color\",\"label\",\"y\"],\"data\":{\"chart_index\":[{\"white?\":1}],\"color\":[\"#f22c40\"],\"fill_alpha\":[0.8],\"height\":[4898.0],\"label\":[{\"white?\":1}],\"line_alpha\":[1.0],\"line_color\":[\"white\"],\"white?\":[1],\"width\":[0.8],\"x\":[\"1\"],\"y\":[2449.0]}},\"id\":\"f65d4773-3f87-494c-9169-3f3927d59943\",\"type\":\"ColumnDataSource\"},{\"attributes\":{\"fill_alpha\":{\"field\":\"fill_alpha\"},\"fill_color\":{\"field\":\"color\"},\"height\":{\"field\":\"height\",\"units\":\"data\"},\"line_color\":{\"field\":\"line_color\"},\"width\":{\"field\":\"width\",\"units\":\"data\"},\"x\":{\"field\":\"x\"},\"y\":{\"field\":\"y\"}},\"id\":\"617e80ef-e2d5-4bbd-9120-db117eb4a50b\",\"type\":\"Rect\"},{\"attributes\":{\"data_source\":{\"id\":\"ecb6aa19-ad82-4bea-b350-898bc68a5229\",\"type\":\"ColumnDataSource\"},\"glyph\":{\"id\":\"5b5d0935-f12b-4ef6-8849-e8d3e4728a56\",\"type\":\"Rect\"},\"hover_glyph\":null,\"nonselection_glyph\":null,\"selection_glyph\":null},\"id\":\"5915ae24-8d4a-445a-b72f-d14c477e3fcb\",\"type\":\"GlyphRenderer\"},{\"attributes\":{\"dimension\":1,\"plot\":{\"id\":\"1a7ddfc4-f8cc-4219-8e99-81d08d12a7d8\",\"subtype\":\"Chart\",\"type\":\"Plot\"},\"ticker\":{\"id\":\"5c0cff8f-1a44-43f6-b0fe-28be101eb9ec\",\"type\":\"BasicTicker\"}},\"id\":\"ce5195ad-e0ac-43fd-96e8-88e345ec01a0\",\"type\":\"Grid\"},{\"attributes\":{\"data_source\":{\"id\":\"3c0a76d6-f46b-4eb9-b78e-62c08974ec8a\",\"type\":\"ColumnDataSource\"},\"glyph\":{\"id\":\"f389e74d-b1b4-4a2e-a91b-ea9690a53241\",\"type\":\"Rect\"},\"hover_glyph\":null,\"nonselection_glyph\":null,\"selection_glyph\":null},\"id\":\"bb0206cf-73fd-4d1b-9ded-c3dc6aa7f2ff\",\"type\":\"GlyphRenderer\"},{\"attributes\":{\"data_source\":{\"id\":\"fc8aec66-cbe8-434e-9a83-e61fa0d1b28e\",\"type\":\"ColumnDataSource\"},\"glyph\":{\"id\":\"2d89a06b-a796-45df-bb62-e34aaae19ff4\",\"type\":\"Rect\"},\"hover_glyph\":null,\"nonselection_glyph\":null,\"selection_glyph\":null},\"id\":\"3e7af103-1d3a-4244-af52-acdbc1731b04\",\"type\":\"GlyphRenderer\"},{\"attributes\":{\"callback\":null,\"column_names\":[\"height\",\"color\",\"x\",\"fill_alpha\",\"width\",\"line_alpha\",\"line_color\",\"label\",\"y\"],\"data\":{\"chart_index\":[\"[3.0, 3.1]\"],\"color\":[\"#5ab738\"],\"fill_alpha\":[0.6],\"height\":[20.0],\"label\":[\"[3.0, 3.1]\"],\"line_alpha\":[1.0],\"line_color\":[\"black\"],\"width\":[0.11764705882352944],\"x\":[\"3.05\"],\"y\":[10.0]}},\"id\":\"07b7eb09-8f88-4597-aa70-2c9e5f220c94\",\"type\":\"ColumnDataSource\"},{\"attributes\":{\"fill_alpha\":{\"field\":\"fill_alpha\"},\"fill_color\":{\"field\":\"color\"},\"height\":{\"field\":\"height\",\"units\":\"data\"},\"line_color\":{\"field\":\"line_color\"},\"width\":{\"field\":\"width\",\"units\":\"data\"},\"x\":{\"field\":\"x\"},\"y\":{\"field\":\"y\"}},\"id\":\"43b618e2-8a53-4825-b5db-913aededef1b\",\"type\":\"Rect\"},{\"attributes\":{\"data_source\":{\"id\":\"ada81a7a-460f-481a-9245-3029409e0048\",\"type\":\"ColumnDataSource\"},\"glyph\":{\"id\":\"63530716-6a8a-4b40-83e9-52b2138a2830\",\"type\":\"Rect\"},\"hover_glyph\":null,\"nonselection_glyph\":null,\"selection_glyph\":null},\"id\":\"f662856b-dd8f-4f34-ae8f-30b1e7d626f1\",\"type\":\"GlyphRenderer\"},{\"attributes\":{\"axis_label\":\"Count( Quality )\",\"formatter\":{\"id\":\"01c75a2c-6536-44fb-a2ab-3d7e959b6f86\",\"type\":\"BasicTickFormatter\"},\"plot\":{\"id\":\"b6de5e80-4562-4c73-9cb0-a27c9a801393\",\"subtype\":\"Chart\",\"type\":\"Plot\"},\"ticker\":{\"id\":\"dacbf7d9-56ea-4619-83e6-321012d94077\",\"type\":\"BasicTicker\"}},\"id\":\"4eef76ed-a765-4ade-84be-27c7cf3833d6\",\"type\":\"LinearAxis\"},{\"attributes\":{\"callback\":null,\"column_names\":[\"height\",\"color\",\"x\",\"fill_alpha\",\"width\",\"line_alpha\",\"line_color\",\"label\",\"y\"],\"data\":{\"chart_index\":[\"(6.8, 7.0]\"],\"color\":[\"#f22c40\"],\"fill_alpha\":[0.6],\"height\":[0.0],\"label\":[\"(6.8, 7.0]\"],\"line_alpha\":[1.0],\"line_color\":[\"black\"],\"width\":[0.16666666666666696],\"x\":[\"6.9\"],\"y\":[0.0]}},\"id\":\"87e9d847-5bce-413c-86df-60ee72f45a9c\",\"type\":\"ColumnDataSource\"},{\"attributes\":{\"fill_alpha\":{\"field\":\"fill_alpha\"},\"fill_color\":{\"field\":\"color\"},\"height\":{\"field\":\"height\",\"units\":\"data\"},\"line_color\":{\"field\":\"line_color\"},\"width\":{\"field\":\"width\",\"units\":\"data\"},\"x\":{\"field\":\"x\"},\"y\":{\"field\":\"y\"}},\"id\":\"72a0eff9-ce85-43aa-9b16-01d17f0cf925\",\"type\":\"Rect\"},{\"attributes\":{\"fill_alpha\":{\"field\":\"fill_alpha\"},\"fill_color\":{\"field\":\"color\"},\"height\":{\"field\":\"height\",\"units\":\"data\"},\"line_color\":{\"field\":\"line_color\"},\"width\":{\"field\":\"width\",\"units\":\"data\"},\"x\":{\"field\":\"x\"},\"y\":{\"field\":\"y\"}},\"id\":\"02c97d78-ad90-42bb-9c7f-42e9db89780f\",\"type\":\"Rect\"},{\"attributes\":{\"fill_alpha\":{\"field\":\"fill_alpha\"},\"fill_color\":{\"field\":\"color\"},\"height\":{\"field\":\"height\",\"units\":\"data\"},\"line_color\":{\"field\":\"line_color\"},\"width\":{\"field\":\"width\",\"units\":\"data\"},\"x\":{\"field\":\"x\"},\"y\":{\"field\":\"y\"}},\"id\":\"1238ec56-61ad-4ddb-aa99-9ac7d0d449f8\",\"type\":\"Rect\"},{\"attributes\":{\"children\":[{\"id\":\"735d9000-aadc-4f5d-9f41-39eb02083af6\",\"type\":\"ToolbarBox\"},{\"id\":\"913d9665-b50d-46e6-af3f-8ea872c9e492\",\"type\":\"Column\"}]},\"id\":\"4d69ae58-a401-45df-bb63-fb5831c76eb2\",\"type\":\"Column\"},{\"attributes\":{\"fill_alpha\":{\"field\":\"fill_alpha\"},\"fill_color\":{\"field\":\"color\"},\"height\":{\"field\":\"height\",\"units\":\"data\"},\"line_color\":{\"field\":\"line_color\"},\"width\":{\"field\":\"width\",\"units\":\"data\"},\"x\":{\"field\":\"x\"},\"y\":{\"field\":\"y\"}},\"id\":\"5b5d0935-f12b-4ef6-8849-e8d3e4728a56\",\"type\":\"Rect\"},{\"attributes\":{\"callback\":null,\"column_names\":[\"height\",\"color\",\"x\",\"fill_alpha\",\"width\",\"line_alpha\",\"line_color\",\"label\",\"y\"],\"data\":{\"chart_index\":[\"(7.8, 8.0]\"],\"color\":[\"#f22c40\"],\"fill_alpha\":[0.6],\"height\":[18.0],\"label\":[\"(7.8, 8.0]\"],\"line_alpha\":[1.0],\"line_color\":[\"black\"],\"width\":[0.16666666666666696],\"x\":[\"7.9\"],\"y\":[9.0]}},\"id\":\"2d3a522e-7626-4ab3-b715-ab45954280d9\",\"type\":\"ColumnDataSource\"},{\"attributes\":{\"fill_alpha\":{\"field\":\"fill_alpha\"},\"fill_color\":{\"field\":\"color\"},\"height\":{\"field\":\"height\",\"units\":\"data\"},\"line_color\":{\"field\":\"line_color\"},\"width\":{\"field\":\"width\",\"units\":\"data\"},\"x\":{\"field\":\"x\"},\"y\":{\"field\":\"y\"}},\"id\":\"07e05e66-fe5f-440c-897e-ed4066d67a44\",\"type\":\"Rect\"},{\"attributes\":{\"fill_alpha\":{\"field\":\"fill_alpha\"},\"fill_color\":{\"field\":\"color\"},\"height\":{\"field\":\"height\",\"units\":\"data\"},\"line_color\":{\"field\":\"line_color\"},\"width\":{\"field\":\"width\",\"units\":\"data\"},\"x\":{\"field\":\"x\"},\"y\":{\"field\":\"y\"}},\"id\":\"a9aabcdb-5cdd-4422-95f7-2d4b3b5ea8ab\",\"type\":\"Rect\"},{\"attributes\":{\"data_source\":{\"id\":\"fda1c946-35f6-4f70-b848-1127a16cfdfc\",\"type\":\"ColumnDataSource\"},\"glyph\":{\"id\":\"21f7f52f-25ec-4422-a017-4336d57ed331\",\"type\":\"Rect\"},\"hover_glyph\":null,\"nonselection_glyph\":null,\"selection_glyph\":null},\"id\":\"aa76c2e9-c496-4081-9187-8caba6bcb664\",\"type\":\"GlyphRenderer\"},{\"attributes\":{\"callback\":null,\"column_names\":[\"height\",\"color\",\"x\",\"fill_alpha\",\"width\",\"line_alpha\",\"line_color\",\"label\",\"y\"],\"data\":{\"chart_index\":[\"(7.5, 7.6]\"],\"color\":[\"#5ab738\"],\"fill_alpha\":[0.6],\"height\":[0.0],\"label\":[\"(7.5, 7.6]\"],\"line_alpha\":[1.0],\"line_color\":[\"black\"],\"width\":[0.117647058823529],\"x\":[\"7.55\"],\"y\":[0.0]}},\"id\":\"fda1c946-35f6-4f70-b848-1127a16cfdfc\",\"type\":\"ColumnDataSource\"},{\"attributes\":{\"callback\":null,\"column_names\":[\"height\",\"color\",\"x\",\"fill_alpha\",\"width\",\"line_alpha\",\"line_color\",\"label\",\"y\"],\"data\":{\"chart_index\":[\"(4.8, 4.9]\"],\"color\":[\"#5ab738\"],\"fill_alpha\":[0.6],\"height\":[0.0],\"label\":[\"(4.8, 4.9]\"],\"line_alpha\":[1.0],\"line_color\":[\"black\"],\"width\":[0.11764705882352988],\"x\":[\"4.85\"],\"y\":[0.0]}},\"id\":\"5821d465-ef21-485f-bc6a-0a88d51f0417\",\"type\":\"ColumnDataSource\"},{\"attributes\":{\"fill_alpha\":{\"field\":\"fill_alpha\"},\"fill_color\":{\"field\":\"color\"},\"height\":{\"field\":\"height\",\"units\":\"data\"},\"line_color\":{\"field\":\"line_color\"},\"width\":{\"field\":\"width\",\"units\":\"data\"},\"x\":{\"field\":\"x\"},\"y\":{\"field\":\"y\"}},\"id\":\"8ff8cc43-4595-4b24-9893-73f48a9b6350\",\"type\":\"Rect\"},{\"attributes\":{\"callback\":null,\"column_names\":[\"height\",\"color\",\"x\",\"fill_alpha\",\"width\",\"line_alpha\",\"line_color\",\"label\",\"y\"],\"data\":{\"chart_index\":[\"(3.6, 3.7]\"],\"color\":[\"#5ab738\"],\"fill_alpha\":[0.6],\"height\":[0.0],\"label\":[\"(3.6, 3.7]\"],\"line_alpha\":[1.0],\"line_color\":[\"black\"],\"width\":[0.11764705882352944],\"x\":[\"3.6500000000000004\"],\"y\":[0.0]}},\"id\":\"bdde3dfd-00bf-4157-9380-1c3b8a90da83\",\"type\":\"ColumnDataSource\"},{\"attributes\":{\"callback\":null,\"column_names\":[\"height\",\"color\",\"x\",\"fill_alpha\",\"width\",\"line_alpha\",\"line_color\",\"label\",\"y\"],\"data\":{\"chart_index\":[\"(7.2, 7.3]\"],\"color\":[\"#f22c40\"],\"fill_alpha\":[0.6],\"height\":[0.0],\"label\":[\"(7.2, 7.3]\"],\"line_alpha\":[1.0],\"line_color\":[\"black\"],\"width\":[0.16666666666666696],\"x\":[\"7.25\"],\"y\":[0.0]}},\"id\":\"e29204b2-cc9c-4555-b8d7-7785fda2f0d8\",\"type\":\"ColumnDataSource\"},{\"attributes\":{\"fill_alpha\":{\"field\":\"fill_alpha\"},\"fill_color\":{\"field\":\"color\"},\"height\":{\"field\":\"height\",\"units\":\"data\"},\"line_color\":{\"field\":\"line_color\"},\"width\":{\"field\":\"width\",\"units\":\"data\"},\"x\":{\"field\":\"x\"},\"y\":{\"field\":\"y\"}},\"id\":\"e0602268-8f2b-4579-a56f-cac73a0ef33a\",\"type\":\"Rect\"},{\"attributes\":{\"data_source\":{\"id\":\"bdde3dfd-00bf-4157-9380-1c3b8a90da83\",\"type\":\"ColumnDataSource\"},\"glyph\":{\"id\":\"7012faad-b791-41d4-a206-170bc81837f9\",\"type\":\"Rect\"},\"hover_glyph\":null,\"nonselection_glyph\":null,\"selection_glyph\":null},\"id\":\"a4a5aac5-6e54-4aa0-9ac0-08e6bb9b99d5\",\"type\":\"GlyphRenderer\"},{\"attributes\":{\"data_source\":{\"id\":\"2d3a522e-7626-4ab3-b715-ab45954280d9\",\"type\":\"ColumnDataSource\"},\"glyph\":{\"id\":\"e89eb329-3693-4de2-95cc-30fdcdee6cdd\",\"type\":\"Rect\"},\"hover_glyph\":null,\"nonselection_glyph\":null,\"selection_glyph\":null},\"id\":\"30113c97-7638-42db-a7a1-9625744f6867\",\"type\":\"GlyphRenderer\"},{\"attributes\":{\"data_source\":{\"id\":\"87e9d847-5bce-413c-86df-60ee72f45a9c\",\"type\":\"ColumnDataSource\"},\"glyph\":{\"id\":\"1238ec56-61ad-4ddb-aa99-9ac7d0d449f8\",\"type\":\"Rect\"},\"hover_glyph\":null,\"nonselection_glyph\":null,\"selection_glyph\":null},\"id\":\"c0f3bd3f-916a-480f-93c3-dfac59925593\",\"type\":\"GlyphRenderer\"},{\"attributes\":{\"data_source\":{\"id\":\"ce06cceb-78a9-483b-b5b5-7071e28873d4\",\"type\":\"ColumnDataSource\"},\"glyph\":{\"id\":\"cd0ca345-6b6b-4fea-989f-4021454c03e9\",\"type\":\"Rect\"},\"hover_glyph\":null,\"nonselection_glyph\":null,\"selection_glyph\":null},\"id\":\"b604a53b-a45f-4c9e-be12-18b8fa4c220e\",\"type\":\"GlyphRenderer\"},{\"attributes\":{\"fill_alpha\":{\"field\":\"fill_alpha\"},\"fill_color\":{\"field\":\"color\"},\"height\":{\"field\":\"height\",\"units\":\"data\"},\"line_color\":{\"field\":\"line_color\"},\"width\":{\"field\":\"width\",\"units\":\"data\"},\"x\":{\"field\":\"x\"},\"y\":{\"field\":\"y\"}},\"id\":\"c4abff38-d71f-4eb4-911e-9c9c7390d724\",\"type\":\"Rect\"},{\"attributes\":{\"callback\":null,\"end\":9.308823529411764,\"start\":2.6911764705882355},\"id\":\"1a0b94ac-1d51-426f-bad3-f3cbc1ddcf72\",\"type\":\"Range1d\"},{\"attributes\":{\"data_source\":{\"id\":\"b853873d-4a8f-4d5c-a721-75cc93940f9b\",\"type\":\"ColumnDataSource\"},\"glyph\":{\"id\":\"c89ba733-9d8b-45e2-be8b-f0e1b6cbe042\",\"type\":\"Rect\"},\"hover_glyph\":null,\"nonselection_glyph\":null,\"selection_glyph\":null},\"id\":\"2679e58d-783e-4371-bf4c-d5350d102931\",\"type\":\"GlyphRenderer\"},{\"attributes\":{\"callback\":null,\"column_names\":[\"height\",\"color\",\"x\",\"fill_alpha\",\"width\",\"line_alpha\",\"line_color\",\"label\",\"y\"],\"data\":{\"chart_index\":[\"(4.3, 4.5]\"],\"color\":[\"#f22c40\"],\"fill_alpha\":[0.6],\"height\":[0.0],\"label\":[\"(4.3, 4.5]\"],\"line_alpha\":[1.0],\"line_color\":[\"black\"],\"width\":[0.16666666666666696],\"x\":[\"4.4\"],\"y\":[0.0]}},\"id\":\"f6b0516b-22a4-496c-bd2c-1cb10b994bec\",\"type\":\"ColumnDataSource\"},{\"attributes\":{\"fill_alpha\":{\"field\":\"fill_alpha\"},\"fill_color\":{\"field\":\"color\"},\"height\":{\"field\":\"height\",\"units\":\"data\"},\"line_color\":{\"field\":\"line_color\"},\"width\":{\"field\":\"width\",\"units\":\"data\"},\"x\":{\"field\":\"x\"},\"y\":{\"field\":\"y\"}},\"id\":\"63530716-6a8a-4b40-83e9-52b2138a2830\",\"type\":\"Rect\"},{\"attributes\":{\"callback\":null,\"column_names\":[\"height\",\"color\",\"x\",\"fill_alpha\",\"width\",\"line_alpha\",\"line_color\",\"label\",\"y\"],\"data\":{\"chart_index\":[\"(5.8, 6.0]\"],\"color\":[\"#f22c40\"],\"fill_alpha\":[0.6],\"height\":[0.0],\"label\":[\"(5.8, 6.0]\"],\"line_alpha\":[1.0],\"line_color\":[\"black\"],\"width\":[0.16666666666666696],\"x\":[\"5.9\"],\"y\":[0.0]}},\"id\":\"da928c03-5c72-4140-8ee9-3acc08825270\",\"type\":\"ColumnDataSource\"},{\"attributes\":{\"data_source\":{\"id\":\"e29204b2-cc9c-4555-b8d7-7785fda2f0d8\",\"type\":\"ColumnDataSource\"},\"glyph\":{\"id\":\"8717d338-b410-4a6e-8b86-61e4d6feb8d3\",\"type\":\"Rect\"},\"hover_glyph\":null,\"nonselection_glyph\":null,\"selection_glyph\":null},\"id\":\"b08f090c-0b35-4ef9-ae08-165f6fe64cbb\",\"type\":\"GlyphRenderer\"},{\"attributes\":{\"callback\":null,\"column_names\":[\"height\",\"color\",\"x\",\"fill_alpha\",\"width\",\"line_alpha\",\"line_color\",\"label\",\"y\"],\"data\":{\"chart_index\":[\"(4.4, 4.5]\"],\"color\":[\"#5ab738\"],\"fill_alpha\":[0.6],\"height\":[0.0],\"label\":[\"(4.4, 4.5]\"],\"line_alpha\":[1.0],\"line_color\":[\"black\"],\"width\":[0.117647058823529],\"x\":[\"4.45\"],\"y\":[0.0]}},\"id\":\"5399340d-3707-44ef-a2f8-f421eb3af0c9\",\"type\":\"ColumnDataSource\"},{\"attributes\":{\"callback\":null,\"column_names\":[\"height\",\"color\",\"x\",\"fill_alpha\",\"width\",\"line_alpha\",\"line_color\",\"label\",\"y\"],\"data\":{\"chart_index\":[{\"white?\":0}],\"color\":[\"#f22c40\"],\"fill_alpha\":[0.8],\"height\":[1599.0],\"label\":[{\"white?\":0}],\"line_alpha\":[1.0],\"line_color\":[\"white\"],\"white?\":[0],\"width\":[0.8],\"x\":[\"0\"],\"y\":[799.5]}},\"id\":\"2c180e24-ef54-4b9c-afdf-5614a978e2bf\",\"type\":\"ColumnDataSource\"},{\"attributes\":{\"callback\":null,\"column_names\":[\"height\",\"color\",\"x\",\"fill_alpha\",\"width\",\"line_alpha\",\"line_color\",\"label\",\"y\"],\"data\":{\"chart_index\":[\"(6.0, 6.2]\"],\"color\":[\"#f22c40\"],\"fill_alpha\":[0.6],\"height\":[638.0],\"label\":[\"(6.0, 6.2]\"],\"line_alpha\":[1.0],\"line_color\":[\"black\"],\"width\":[0.16666666666666607],\"x\":[\"6.1\"],\"y\":[319.0]}},\"id\":\"3ccdd8fb-139a-4ffa-926c-264fcf18c93e\",\"type\":\"ColumnDataSource\"},{\"attributes\":{\"fill_alpha\":{\"field\":\"fill_alpha\"},\"fill_color\":{\"field\":\"color\"},\"height\":{\"field\":\"height\",\"units\":\"data\"},\"line_color\":{\"field\":\"line_color\"},\"width\":{\"field\":\"width\",\"units\":\"data\"},\"x\":{\"field\":\"x\"},\"y\":{\"field\":\"y\"}},\"id\":\"34bbc825-dc5d-4192-8c26-556083d6eed3\",\"type\":\"Rect\"},{\"attributes\":{\"data_source\":{\"id\":\"2a9f673d-e544-4f3e-af02-3ab7e0a5a8a6\",\"type\":\"ColumnDataSource\"},\"glyph\":{\"id\":\"d4cf0a37-a6fd-4000-90ee-56eaafaf4845\",\"type\":\"Rect\"},\"hover_glyph\":null,\"nonselection_glyph\":null,\"selection_glyph\":null},\"id\":\"8c56ba5a-b26a-44fb-a4ad-a38cb723656f\",\"type\":\"GlyphRenderer\"},{\"attributes\":{\"active_drag\":\"auto\",\"active_scroll\":\"auto\",\"active_tap\":\"auto\",\"tools\":[{\"id\":\"f65f9835-a971-45a8-87a8-0bc192fc642d\",\"type\":\"PanTool\"},{\"id\":\"5284c5b2-9dcb-4c40-a498-f6667276bce0\",\"type\":\"ResetTool\"},{\"id\":\"8d1eeb63-a059-4dd3-8f68-7543ccd8eea6\",\"type\":\"BoxZoomTool\"}]},\"id\":\"c233cc93-290c-47e0-9051-f8fc621c09b1\",\"type\":\"Toolbar\"},{\"attributes\":{\"bottom_units\":\"screen\",\"fill_alpha\":{\"value\":0.5},\"fill_color\":{\"value\":\"lightgrey\"},\"left_units\":\"screen\",\"level\":\"overlay\",\"line_alpha\":{\"value\":1.0},\"line_color\":{\"value\":\"black\"},\"line_dash\":[4,4],\"line_width\":{\"value\":2},\"plot\":null,\"render_mode\":\"css\",\"right_units\":\"screen\",\"top_units\":\"screen\"},\"id\":\"6abb207f-a676-4c7f-bfdb-313b1c8ca609\",\"type\":\"BoxAnnotation\"},{\"attributes\":{\"callback\":null,\"column_names\":[\"height\",\"color\",\"x\",\"fill_alpha\",\"width\",\"line_alpha\",\"line_color\",\"label\",\"y\"],\"data\":{\"chart_index\":[\"(7.6, 7.7]\"],\"color\":[\"#5ab738\"],\"fill_alpha\":[0.6],\"height\":[0.0],\"label\":[\"(7.6, 7.7]\"],\"line_alpha\":[1.0],\"line_color\":[\"black\"],\"width\":[0.11764705882352988],\"x\":[\"7.65\"],\"y\":[0.0]}},\"id\":\"649d11cd-3eda-463c-bbc0-0401e9103616\",\"type\":\"ColumnDataSource\"},{\"attributes\":{\"data_source\":{\"id\":\"7e0006e0-9ccc-45f7-b414-f3971298dcc2\",\"type\":\"ColumnDataSource\"},\"glyph\":{\"id\":\"a9ef30fb-3f31-46a0-9ffe-8a8055bdb2d3\",\"type\":\"Rect\"},\"hover_glyph\":null,\"nonselection_glyph\":null,\"selection_glyph\":null},\"id\":\"c4d0fb96-f867-4135-9ee3-3d88107178d7\",\"type\":\"GlyphRenderer\"},{\"attributes\":{},\"id\":\"5c0cff8f-1a44-43f6-b0fe-28be101eb9ec\",\"type\":\"BasicTicker\"},{\"attributes\":{\"plot\":{\"id\":\"1a7ddfc4-f8cc-4219-8e99-81d08d12a7d8\",\"subtype\":\"Chart\",\"type\":\"Plot\"}},\"id\":\"5284c5b2-9dcb-4c40-a498-f6667276bce0\",\"type\":\"ResetTool\"},{\"attributes\":{\"callback\":null,\"column_names\":[\"height\",\"color\",\"x\",\"fill_alpha\",\"width\",\"line_alpha\",\"line_color\",\"label\",\"y\"],\"data\":{\"chart_index\":[\"(7.8, 7.9]\"],\"color\":[\"#5ab738\"],\"fill_alpha\":[0.6],\"height\":[0.0],\"label\":[\"(7.8, 7.9]\"],\"line_alpha\":[1.0],\"line_color\":[\"black\"],\"width\":[0.11764705882352988],\"x\":[\"7.85\"],\"y\":[0.0]}},\"id\":\"3f73ec6b-4a58-45d9-b2ce-3cee185e9da4\",\"type\":\"ColumnDataSource\"},{\"attributes\":{\"fill_alpha\":{\"field\":\"fill_alpha\"},\"fill_color\":{\"field\":\"color\"},\"height\":{\"field\":\"height\",\"units\":\"data\"},\"line_color\":{\"field\":\"line_color\"},\"width\":{\"field\":\"width\",\"units\":\"data\"},\"x\":{\"field\":\"x\"},\"y\":{\"field\":\"y\"}},\"id\":\"ffc13960-c579-4bdb-96ea-201736fe1228\",\"type\":\"Rect\"},{\"attributes\":{\"data_source\":{\"id\":\"78514f56-5bd1-433b-a2be-a1ff6452055b\",\"type\":\"ColumnDataSource\"},\"glyph\":{\"id\":\"b4445461-2f0f-4955-a742-af420db7b471\",\"type\":\"Rect\"},\"hover_glyph\":null,\"nonselection_glyph\":null,\"selection_glyph\":null},\"id\":\"e1a49c0d-48b1-42d2-922e-58365fa741d0\",\"type\":\"GlyphRenderer\"},{\"attributes\":{\"children\":[{\"id\":\"b21cc0f2-9ad1-4508-a133-2b68af05de9a\",\"type\":\"Row\"}]},\"id\":\"913d9665-b50d-46e6-af3f-8ea872c9e492\",\"type\":\"Column\"},{\"attributes\":{\"dimension\":1,\"plot\":{\"id\":\"b6de5e80-4562-4c73-9cb0-a27c9a801393\",\"subtype\":\"Chart\",\"type\":\"Plot\"},\"ticker\":{\"id\":\"dacbf7d9-56ea-4619-83e6-321012d94077\",\"type\":\"BasicTicker\"}},\"id\":\"cf4b109c-c887-414f-a04c-7894517ed004\",\"type\":\"Grid\"},{\"attributes\":{\"data_source\":{\"id\":\"6d982795-f391-4f9f-a0a7-8e99dc05d4e7\",\"type\":\"ColumnDataSource\"},\"glyph\":{\"id\":\"019c8c51-d2e0-433a-887b-f4b1298c9089\",\"type\":\"Rect\"},\"hover_glyph\":null,\"nonselection_glyph\":null,\"selection_glyph\":null},\"id\":\"918851f1-2184-44a9-a568-4da855d55d65\",\"type\":\"GlyphRenderer\"},{\"attributes\":{\"fill_alpha\":{\"field\":\"fill_alpha\"},\"fill_color\":{\"field\":\"color\"},\"height\":{\"field\":\"height\",\"units\":\"data\"},\"line_color\":{\"field\":\"line_color\"},\"width\":{\"field\":\"width\",\"units\":\"data\"},\"x\":{\"field\":\"x\"},\"y\":{\"field\":\"y\"}},\"id\":\"56c82b99-df90-4bd4-a9fa-abdc4ac708e3\",\"type\":\"Rect\"},{\"attributes\":{\"data_source\":{\"id\":\"10e666f9-7303-45f3-9155-029cbe2bb19b\",\"type\":\"ColumnDataSource\"},\"glyph\":{\"id\":\"7cd412ca-92db-4750-90b5-41002cf587ae\",\"type\":\"Rect\"},\"hover_glyph\":null,\"nonselection_glyph\":null,\"selection_glyph\":null},\"id\":\"6f8f1e4a-c647-479f-ba4b-e1561ccf19b6\",\"type\":\"GlyphRenderer\"},{\"attributes\":{\"children\":[{\"id\":\"b6de5e80-4562-4c73-9cb0-a27c9a801393\",\"subtype\":\"Chart\",\"type\":\"Plot\"},{\"id\":\"1a7ddfc4-f8cc-4219-8e99-81d08d12a7d8\",\"subtype\":\"Chart\",\"type\":\"Plot\"}]},\"id\":\"b21cc0f2-9ad1-4508-a133-2b68af05de9a\",\"type\":\"Row\"},{\"attributes\":{\"fill_alpha\":{\"field\":\"fill_alpha\"},\"fill_color\":{\"field\":\"color\"},\"height\":{\"field\":\"height\",\"units\":\"data\"},\"line_color\":{\"field\":\"line_color\"},\"width\":{\"field\":\"width\",\"units\":\"data\"},\"x\":{\"field\":\"x\"},\"y\":{\"field\":\"y\"}},\"id\":\"fcd40967-3e65-4aa5-a68f-dd64e3c9ae05\",\"type\":\"Rect\"},{\"attributes\":{\"fill_alpha\":{\"field\":\"fill_alpha\"},\"fill_color\":{\"field\":\"color\"},\"height\":{\"field\":\"height\",\"units\":\"data\"},\"line_color\":{\"field\":\"line_color\"},\"width\":{\"field\":\"width\",\"units\":\"data\"},\"x\":{\"field\":\"x\"},\"y\":{\"field\":\"y\"}},\"id\":\"17cdfb37-1942-4b3f-a662-ddc415ad183c\",\"type\":\"Rect\"},{\"attributes\":{\"fill_alpha\":{\"field\":\"fill_alpha\"},\"fill_color\":{\"field\":\"color\"},\"height\":{\"field\":\"height\",\"units\":\"data\"},\"line_color\":{\"field\":\"line_color\"},\"width\":{\"field\":\"width\",\"units\":\"data\"},\"x\":{\"field\":\"x\"},\"y\":{\"field\":\"y\"}},\"id\":\"8717d338-b410-4a6e-8b86-61e4d6feb8d3\",\"type\":\"Rect\"},{\"attributes\":{\"data_source\":{\"id\":\"96a4d73f-996c-4b0e-9155-81a27881ef9b\",\"type\":\"ColumnDataSource\"},\"glyph\":{\"id\":\"17cdfb37-1942-4b3f-a662-ddc415ad183c\",\"type\":\"Rect\"},\"hover_glyph\":null,\"nonselection_glyph\":null,\"selection_glyph\":null},\"id\":\"31b97f2e-4f6b-4331-8fee-965e90197aa4\",\"type\":\"GlyphRenderer\"},{\"attributes\":{\"axis_label\":\"White?\",\"formatter\":{\"id\":\"1c8c1a46-2535-4a1e-ade9-5fbefe1716b1\",\"type\":\"CategoricalTickFormatter\"},\"major_label_orientation\":0.7853981633974483,\"plot\":{\"id\":\"b6de5e80-4562-4c73-9cb0-a27c9a801393\",\"subtype\":\"Chart\",\"type\":\"Plot\"},\"ticker\":{\"id\":\"8d2e8a50-a4ba-48e8-8642-b51ae3e37ce7\",\"type\":\"CategoricalTicker\"}},\"id\":\"3048249c-86c5-4827-9ebe-6f3fd9185f7e\",\"type\":\"CategoricalAxis\"},{\"attributes\":{\"data_source\":{\"id\":\"649d11cd-3eda-463c-bbc0-0401e9103616\",\"type\":\"ColumnDataSource\"},\"glyph\":{\"id\":\"e7a73e7e-a98f-4f71-8885-f5fadd689e95\",\"type\":\"Rect\"},\"hover_glyph\":null,\"nonselection_glyph\":null,\"selection_glyph\":null},\"id\":\"ab3e2da3-8a96-4604-82c7-87e8db514271\",\"type\":\"GlyphRenderer\"},{\"attributes\":{\"data_source\":{\"id\":\"dc977f18-3c27-4076-b3be-b5ab7072eb3c\",\"type\":\"ColumnDataSource\"},\"glyph\":{\"id\":\"7f263b01-a211-4f64-9231-524dedf1eb23\",\"type\":\"Rect\"},\"hover_glyph\":null,\"nonselection_glyph\":null,\"selection_glyph\":null},\"id\":\"2c5499cd-f29f-4132-80ad-d03fa00143e3\",\"type\":\"GlyphRenderer\"},{\"attributes\":{\"callback\":null,\"column_names\":[\"height\",\"color\",\"x\",\"fill_alpha\",\"width\",\"line_alpha\",\"line_color\",\"label\",\"y\"],\"data\":{\"chart_index\":[\"(3.1, 3.2]\"],\"color\":[\"#5ab738\"],\"fill_alpha\":[0.6],\"height\":[0.0],\"label\":[\"(3.1, 3.2]\"],\"line_alpha\":[1.0],\"line_color\":[\"black\"],\"width\":[0.11764705882352944],\"x\":[\"3.1500000000000004\"],\"y\":[0.0]}},\"id\":\"ea91f7f3-7671-42e2-9f2a-53bb6d0c833a\",\"type\":\"ColumnDataSource\"}],\"root_ids\":[\"4d69ae58-a401-45df-bb63-fb5831c76eb2\"]},\"title\":\"Bokeh Application\",\"version\":\"0.12.0\"}};\n",
       "            var render_items = [{\"docid\":\"25fbd85b-0a59-4bcb-9141-231c2115c5b4\",\"elementid\":\"a1ba2a46-e9c1-4f9f-a121-59124949c61a\",\"modelid\":\"4d69ae58-a401-45df-bb63-fb5831c76eb2\",\"notebook_comms_target\":\"4bd6de24-6460-4737-9f50-3d74b9031359\"}];\n",
       "            \n",
       "            Bokeh.embed.embed_items(docs_json, render_items);\n",
       "        });\n",
       "      },\n",
       "      function(Bokeh) {\n",
       "      }\n",
       "    ];\n",
       "  \n",
       "    function run_inline_js() {\n",
       "      for (var i = 0; i < inline_js.length; i++) {\n",
       "        inline_js[i](window.Bokeh);\n",
       "      }\n",
       "    }\n",
       "  \n",
       "    if (window._bokeh_is_loading === 0) {\n",
       "      console.log(\"Bokeh: BokehJS loaded, going straight to plotting\");\n",
       "      run_inline_js();\n",
       "    } else {\n",
       "      load_libs(js_urls, function() {\n",
       "        console.log(\"Bokeh: BokehJS plotting callback run at\", now());\n",
       "        run_inline_js();\n",
       "      });\n",
       "    }\n",
       "  }(this));\n",
       "</script>"
      ]
     },
     "metadata": {},
     "output_type": "display_data"
    },
    {
     "name": "stderr",
     "output_type": "stream",
     "text": [
      "/Users/ericalonas/anaconda/envs/py35/lib/python3.5/site-packages/bokeh/io.py:420: UserWarning: save() called but no resources were supplied and output_file(...) was never called, defaulting to resources.CDN\n",
      "  warnings.warn(\"save() called but no resources were supplied and output_file(...) was never called, defaulting to resources.CDN\")\n"
     ]
    },
    {
     "data": {
      "text/plain": [
       "'/Users/ericalonas/Documents/Insight-Interview/plot1'"
      ]
     },
     "execution_count": 19,
     "metadata": {},
     "output_type": "execute_result"
    }
   ],
   "source": [
    "\n",
    "p1 =Histogram(comp_data, values='quality', color='white?',tools='pan, reset, box_zoom')\n",
    "p1.xaxis.minor_tick_line_color=None\n",
    "\n",
    "\n",
    "p2 = Bar(comp_data, values='quality', label='white?', agg='count',tools='pan, reset, box_zoom', legend=None)\n",
    "\n",
    "p = gridplot([[p2,p1]], plot_width=400, plot_height=400)\n",
    "show(p)\n",
    "bplt.save(p,filename = 'plot1', title = 'Red/White Wine Descriptive Graphs')\n"
   ]
  },
  {
   "cell_type": "markdown",
   "metadata": {
    "collapsed": false
   },
   "source": [
    "# In depth with each parameter"
   ]
  },
  {
   "cell_type": "code",
   "execution_count": 21,
   "metadata": {
    "collapsed": false
   },
   "outputs": [],
   "source": [
    "import itertools"
   ]
  },
  {
   "cell_type": "code",
   "execution_count": 22,
   "metadata": {
    "collapsed": false
   },
   "outputs": [
    {
     "data": {
      "text/html": [
       "\n",
       "\n",
       "    <div class=\"bk-root\">\n",
       "        <div class=\"plotdiv\" id=\"f52ca627-05cb-4d07-8fd5-1e508a2eae0f\"></div>\n",
       "    </div>\n",
       "<script type=\"text/javascript\">\n",
       "  \n",
       "  (function(global) {\n",
       "    function now() {\n",
       "      return new Date();\n",
       "    }\n",
       "  \n",
       "    if (typeof (window._bokeh_onload_callbacks) === \"undefined\") {\n",
       "      window._bokeh_onload_callbacks = [];\n",
       "    }\n",
       "  \n",
       "    function run_callbacks() {\n",
       "      window._bokeh_onload_callbacks.forEach(function(callback) { callback() });\n",
       "      delete window._bokeh_onload_callbacks\n",
       "      console.info(\"Bokeh: all callbacks have finished\");\n",
       "    }\n",
       "  \n",
       "    function load_libs(js_urls, callback) {\n",
       "      window._bokeh_onload_callbacks.push(callback);\n",
       "      if (window._bokeh_is_loading > 0) {\n",
       "        console.log(\"Bokeh: BokehJS is being loaded, scheduling callback at\", now());\n",
       "        return null;\n",
       "      }\n",
       "      if (js_urls == null || js_urls.length === 0) {\n",
       "        run_callbacks();\n",
       "        return null;\n",
       "      }\n",
       "      console.log(\"Bokeh: BokehJS not loaded, scheduling load and callback at\", now());\n",
       "      window._bokeh_is_loading = js_urls.length;\n",
       "      for (var i = 0; i < js_urls.length; i++) {\n",
       "        var url = js_urls[i];\n",
       "        var s = document.createElement('script');\n",
       "        s.src = url;\n",
       "        s.async = false;\n",
       "        s.onreadystatechange = s.onload = function() {\n",
       "          window._bokeh_is_loading--;\n",
       "          if (window._bokeh_is_loading === 0) {\n",
       "            console.log(\"Bokeh: all BokehJS libraries loaded\");\n",
       "            run_callbacks()\n",
       "          }\n",
       "        };\n",
       "        s.onerror = function() {\n",
       "          console.warn(\"failed to load library \" + url);\n",
       "        };\n",
       "        console.log(\"Bokeh: injecting script tag for BokehJS library: \", url);\n",
       "        document.getElementsByTagName(\"head\")[0].appendChild(s);\n",
       "      }\n",
       "    };var element = document.getElementById(\"f52ca627-05cb-4d07-8fd5-1e508a2eae0f\");\n",
       "    if (element == null) {\n",
       "      console.log(\"Bokeh: ERROR: autoload.js configured with elementid 'f52ca627-05cb-4d07-8fd5-1e508a2eae0f' but no matching script tag was found. \")\n",
       "      return false;\n",
       "    }\n",
       "  \n",
       "    var js_urls = [];\n",
       "  \n",
       "    var inline_js = [\n",
       "      function(Bokeh) {\n",
       "        Bokeh.$(function() {\n",
       "            var docs_json = {\"d4283087-ba99-4c98-8f66-b3b25fa9d89b\":{\"roots\":{\"references\":[{\"attributes\":{\"plot\":{\"id\":\"88f33297-243f-4d82-9ec9-13388f7ed41e\",\"subtype\":\"Figure\",\"type\":\"Plot\"}},\"id\":\"8db0be95-e0af-4024-98cc-de8df26ca091\",\"type\":\"ResetTool\"},{\"attributes\":{\"line_color\":{\"value\":\"green\"},\"x\":{\"field\":\"x\"},\"y\":{\"field\":\"y\"}},\"id\":\"9da27102-dfc6-4bd2-bfb7-c4937db5586c\",\"type\":\"Line\"},{\"attributes\":{\"plot\":{\"id\":\"88f33297-243f-4d82-9ec9-13388f7ed41e\",\"subtype\":\"Figure\",\"type\":\"Plot\"},\"ticker\":{\"id\":\"289f3f0f-641e-4231-b1d8-c7bfa152408a\",\"type\":\"BasicTicker\"}},\"id\":\"8538aca9-0491-439d-a2fb-d4baea9d2f9a\",\"type\":\"Grid\"},{\"attributes\":{},\"id\":\"51a899cb-4c29-4eb5-a030-59335e84fe69\",\"type\":\"ToolEvents\"},{\"attributes\":{},\"id\":\"ca9b7072-4681-45dd-a0bf-c32d50e4e8e2\",\"type\":\"BasicTicker\"},{\"attributes\":{\"callback\":null},\"id\":\"ba29f8c8-e6d7-4f59-816f-bf8044a19a9f\",\"type\":\"DataRange1d\"},{\"attributes\":{\"line_color\":{\"value\":\"green\"},\"x\":{\"field\":\"x\"},\"y\":{\"field\":\"y\"}},\"id\":\"21845561-4104-4218-b922-e561a0d6b831\",\"type\":\"Line\"},{\"attributes\":{\"data_source\":{\"id\":\"71fa2378-b1ce-4f34-8d77-ff4181ed1045\",\"type\":\"ColumnDataSource\"},\"glyph\":{\"id\":\"abad1ce6-e9ee-4251-bbc2-f45f21ba3775\",\"type\":\"Line\"},\"hover_glyph\":null,\"nonselection_glyph\":{\"id\":\"eb384947-99f2-4b01-9992-152f1fca2f65\",\"type\":\"Line\"},\"selection_glyph\":null},\"id\":\"79290bf0-f38e-40df-994a-c6828b6dbcd8\",\"type\":\"GlyphRenderer\"},{\"attributes\":{\"data_source\":{\"id\":\"caef1442-bd4f-41bc-9348-26802e9b6646\",\"type\":\"ColumnDataSource\"},\"glyph\":{\"id\":\"81792c1b-1729-4841-9cd9-b3444b6557e6\",\"type\":\"Line\"},\"hover_glyph\":null,\"nonselection_glyph\":{\"id\":\"080f655c-0bdf-4ed0-bec0-7a40ee99bd15\",\"type\":\"Line\"},\"selection_glyph\":null},\"id\":\"530eb232-b622-4cb2-835a-bc00e01610e8\",\"type\":\"GlyphRenderer\"},{\"attributes\":{},\"id\":\"9c61a9c1-a99a-4739-bacf-c559150bcffa\",\"type\":\"BasicTicker\"},{\"attributes\":{},\"id\":\"6c7b080d-f7e1-4d8e-a88b-17aadc9b3564\",\"type\":\"BasicTicker\"},{\"attributes\":{\"active_drag\":\"auto\",\"active_scroll\":\"auto\",\"active_tap\":\"auto\",\"tools\":[{\"id\":\"b62dc7fa-b726-4470-b56c-c9f1a53264c4\",\"type\":\"HoverTool\"},{\"id\":\"0eb51dca-b75c-4085-90b7-5728d33e8457\",\"type\":\"ResetTool\"},{\"id\":\"f66e5667-2402-4b21-8096-e5e10f568783\",\"type\":\"CrosshairTool\"}]},\"id\":\"e4602266-e78f-4d01-bbbb-fe874da23b0e\",\"type\":\"Toolbar\"},{\"attributes\":{\"callback\":null,\"column_names\":[\"y\",\"x\"],\"data\":{\"x\":[3.0,4.0,5.0,6.0,7.0,8.0,9.0],\"y\":[0.2605641492265695,0.26276704545454554,0.27739999999999976,0.298,0.30201098146877126,0.3332500000000001,0.381226993865031]}},\"id\":\"95a0a15e-0de3-49d8-8fca-1ea4c9556f00\",\"type\":\"ColumnDataSource\"},{\"attributes\":{\"axis_label\":\"fixed acidity\",\"formatter\":{\"id\":\"0a12d198-e9dc-4d0e-b883-2a63af9e7d9c\",\"type\":\"BasicTickFormatter\"},\"plot\":{\"id\":\"320c1519-ab6f-47a0-8f22-1e4fe063ed2d\",\"subtype\":\"Figure\",\"type\":\"Plot\"},\"ticker\":{\"id\":\"7f725f8b-b2a8-44f8-b4cd-ba73059748a2\",\"type\":\"BasicTicker\"}},\"id\":\"6fee95e2-e05c-4811-910a-9e1ea5120450\",\"type\":\"LinearAxis\"},{\"attributes\":{\"line_color\":{\"value\":\"red\"},\"x\":{\"field\":\"x\"},\"y\":{\"field\":\"y\"}},\"id\":\"1f484f74-e72c-4748-83f0-519b96ae3dea\",\"type\":\"Line\"},{\"attributes\":{\"axis_label\":\"quality\",\"formatter\":{\"id\":\"51728f24-2e11-4f84-b35f-a687810bc702\",\"type\":\"BasicTickFormatter\"},\"plot\":{\"id\":\"07d0bc53-8086-48cf-97c3-639e3f3f8cce\",\"subtype\":\"Figure\",\"type\":\"Plot\"},\"ticker\":{\"id\":\"4c29005d-7293-4e5e-b77e-e5fdc425da53\",\"type\":\"BasicTicker\"}},\"id\":\"e6dc9667-99a0-402f-a9c8-e40731a6ad46\",\"type\":\"LinearAxis\"},{\"attributes\":{\"callback\":null,\"column_names\":[\"y\",\"x\"],\"data\":{\"x\":[3.0,4.0,5.0,6.0,7.0,8.0,9.0],\"y\":[0.4039195979899498,0.4233333333333334,0.49748432601880965,0.5770411160058732,0.6939622641509429,0.8845000000000001,\"NaN\"]}},\"id\":\"71fa2378-b1ce-4f34-8d77-ff4181ed1045\",\"type\":\"ColumnDataSource\"},{\"attributes\":{},\"id\":\"8eafcf3f-ea76-4b61-ac80-9a0c2362c4f5\",\"type\":\"BasicTickFormatter\"},{\"attributes\":{\"plot\":{\"id\":\"baf1e452-72b1-4134-874d-0cee43010931\",\"subtype\":\"Figure\",\"type\":\"Plot\"}},\"id\":\"0eb51dca-b75c-4085-90b7-5728d33e8457\",\"type\":\"ResetTool\"},{\"attributes\":{\"plot\":{\"id\":\"07d0bc53-8086-48cf-97c3-639e3f3f8cce\",\"subtype\":\"Figure\",\"type\":\"Plot\"}},\"id\":\"3fcf8acf-dc05-4286-bd17-c3b43838d6a4\",\"type\":\"ResetTool\"},{\"attributes\":{\"below\":[{\"id\":\"7fad58cb-da2f-45f9-b420-e2e662cdcc72\",\"type\":\"LinearAxis\"}],\"left\":[{\"id\":\"b05c3555-31ab-4675-90c9-258d84a16776\",\"type\":\"LinearAxis\"}],\"plot_height\":300,\"plot_width\":300,\"renderers\":[{\"id\":\"7fad58cb-da2f-45f9-b420-e2e662cdcc72\",\"type\":\"LinearAxis\"},{\"id\":\"1ff21e56-7c46-4896-8b49-d1ce8f65f7d5\",\"type\":\"Grid\"},{\"id\":\"b05c3555-31ab-4675-90c9-258d84a16776\",\"type\":\"LinearAxis\"},{\"id\":\"d5d6749d-eb32-44e2-9e5b-1dd7026d0f15\",\"type\":\"Grid\"},{\"id\":\"616faacb-0845-47d8-a49d-b87d4d127fec\",\"type\":\"Legend\"},{\"id\":\"3c3c7206-cba8-4288-91ae-919a48307432\",\"type\":\"GlyphRenderer\"},{\"id\":\"5ec30787-d410-41a5-9068-5224b0bce330\",\"type\":\"GlyphRenderer\"}],\"title\":{\"id\":\"a93b73ef-b55a-4d87-ad0f-71e42de48d15\",\"type\":\"Title\"},\"tool_events\":{\"id\":\"da9caa8c-df04-49da-b841-5135edb91342\",\"type\":\"ToolEvents\"},\"toolbar\":{\"id\":\"a5d56f11-afb8-4bd5-9925-e96423e81c24\",\"type\":\"Toolbar\"},\"toolbar_location\":null,\"x_range\":{\"id\":\"ba29f8c8-e6d7-4f59-816f-bf8044a19a9f\",\"type\":\"DataRange1d\"},\"y_range\":{\"id\":\"7f0df30f-a9af-4f9f-8d2b-1315d3a328e7\",\"type\":\"DataRange1d\"}},\"id\":\"6370630f-3d03-40d5-953e-050e9676e434\",\"subtype\":\"Figure\",\"type\":\"Plot\"},{\"attributes\":{\"data_source\":{\"id\":\"ef4c9aeb-1b9b-485f-92dc-1b2614368fa8\",\"type\":\"ColumnDataSource\"},\"glyph\":{\"id\":\"f2b8f0b7-5cbe-407f-99e1-8c2b1b6963cc\",\"type\":\"Line\"},\"hover_glyph\":null,\"nonselection_glyph\":{\"id\":\"f7a71fc2-ea87-4a54-bfdc-001bf5225502\",\"type\":\"Line\"},\"selection_glyph\":null},\"id\":\"7969c82e-0932-4a47-9f74-11b6ea2ba7cc\",\"type\":\"GlyphRenderer\"},{\"attributes\":{},\"id\":\"da9caa8c-df04-49da-b841-5135edb91342\",\"type\":\"ToolEvents\"},{\"attributes\":{\"callback\":null,\"column_names\":[\"y\",\"x\"],\"data\":{\"x\":[3.0,4.0,5.0,6.0,7.0,8.0,9.0],\"y\":[0.17099999999999999,0.1741509433962264,0.24368575624082198,0.2738244514106587,0.37517587939698493,0.39111111111111113,\"NaN\"]}},\"id\":\"d4a8337d-75e9-4532-ba55-a6e63d34bdd0\",\"type\":\"ColumnDataSource\"},{\"attributes\":{\"plot\":{\"id\":\"6370630f-3d03-40d5-953e-050e9676e434\",\"subtype\":\"Figure\",\"type\":\"Plot\"}},\"id\":\"802ce3fa-8d3c-4070-8905-f702b92e8a70\",\"type\":\"ResetTool\"},{\"attributes\":{\"callback\":null,\"plot\":{\"id\":\"b303716f-ca72-45aa-adf5-d106ca5347da\",\"subtype\":\"Figure\",\"type\":\"Plot\"}},\"id\":\"608f3b7d-5001-4ab5-8cab-c3312e0505ad\",\"type\":\"HoverTool\"},{\"attributes\":{},\"id\":\"4c29005d-7293-4e5e-b77e-e5fdc425da53\",\"type\":\"BasicTicker\"},{\"attributes\":{\"plot\":{\"id\":\"320c1519-ab6f-47a0-8f22-1e4fe063ed2d\",\"subtype\":\"Figure\",\"type\":\"Plot\"},\"ticker\":{\"id\":\"4c6b79e2-bf39-4a18-9d7c-7154100196e9\",\"type\":\"BasicTicker\"}},\"id\":\"e1cb54f2-1f38-4f77-b878-ab9a5906bcfb\",\"type\":\"Grid\"},{\"attributes\":{\"below\":[{\"id\":\"e6dc9667-99a0-402f-a9c8-e40731a6ad46\",\"type\":\"LinearAxis\"}],\"left\":[{\"id\":\"fb723d5b-1641-4d90-b629-c609a49183e6\",\"type\":\"LinearAxis\"}],\"plot_height\":300,\"plot_width\":300,\"renderers\":[{\"id\":\"e6dc9667-99a0-402f-a9c8-e40731a6ad46\",\"type\":\"LinearAxis\"},{\"id\":\"9b460797-edb5-4861-9643-c03d20a0ba76\",\"type\":\"Grid\"},{\"id\":\"fb723d5b-1641-4d90-b629-c609a49183e6\",\"type\":\"LinearAxis\"},{\"id\":\"96ffa585-cf8c-40f6-8388-95aa324a3c50\",\"type\":\"Grid\"},{\"id\":\"e3ced6ba-f0a1-4c45-a62c-a526bd7598ca\",\"type\":\"Legend\"},{\"id\":\"530eb232-b622-4cb2-835a-bc00e01610e8\",\"type\":\"GlyphRenderer\"},{\"id\":\"cb92c9c1-7276-4959-aa91-7372dcbeae4c\",\"type\":\"GlyphRenderer\"}],\"title\":{\"id\":\"34e03ee3-0ea7-483f-893b-335f84464be8\",\"type\":\"Title\"},\"tool_events\":{\"id\":\"3a842d78-c8c3-4db5-aa41-0b73d2d7a2d5\",\"type\":\"ToolEvents\"},\"toolbar\":{\"id\":\"4e4548cb-dd91-4f74-bb60-56b3ea0431bd\",\"type\":\"Toolbar\"},\"toolbar_location\":null,\"x_range\":{\"id\":\"9f7b2354-973a-43d8-b1bb-536f48044cd0\",\"type\":\"DataRange1d\"},\"y_range\":{\"id\":\"0afa8e74-b7d7-4157-af30-82d6a0cd0dcd\",\"type\":\"DataRange1d\"}},\"id\":\"07d0bc53-8086-48cf-97c3-639e3f3f8cce\",\"subtype\":\"Figure\",\"type\":\"Plot\"},{\"attributes\":{\"children\":[{\"id\":\"dc672a88-a392-4657-86d9-b7cef4275279\",\"type\":\"ToolbarBox\"},{\"id\":\"409f6d6b-d791-4444-b888-a19edf77cef1\",\"type\":\"Column\"}]},\"id\":\"08a893ed-5966-45b2-9a1c-25743e647614\",\"type\":\"Column\"},{\"attributes\":{\"callback\":null,\"plot\":{\"id\":\"88f33297-243f-4d82-9ec9-13388f7ed41e\",\"subtype\":\"Figure\",\"type\":\"Plot\"}},\"id\":\"98feafc7-5e21-47da-8fbe-33cd1366b66f\",\"type\":\"HoverTool\"},{\"attributes\":{\"callback\":null,\"column_names\":[\"y\",\"x\"],\"data\":{\"x\":[3.0,4.0,5.0,6.0,7.0,8.0,9.0],\"y\":[0.3042331288343557,0.3256250000000004,0.3265142857142858,0.33599999999999997,0.33765271105010347,0.33802547770700614,0.386]}},\"id\":\"caef1442-bd4f-41bc-9348-26802e9b6646\",\"type\":\"ColumnDataSource\"},{\"attributes\":{\"axis_label\":\"residual sugar\",\"formatter\":{\"id\":\"c9b87d65-2405-4adc-9cda-049c27addf2d\",\"type\":\"BasicTickFormatter\"},\"plot\":{\"id\":\"baf1e452-72b1-4134-874d-0cee43010931\",\"subtype\":\"Figure\",\"type\":\"Plot\"},\"ticker\":{\"id\":\"eb199dfa-a823-460e-a9fa-8980be466476\",\"type\":\"BasicTicker\"}},\"id\":\"95b72b9b-054c-4a51-a91a-3eb8b0272302\",\"type\":\"LinearAxis\"},{\"attributes\":{},\"id\":\"c525c500-82a7-4da5-b26a-9dcfb12518d5\",\"type\":\"BasicTickFormatter\"},{\"attributes\":{\"below\":[{\"id\":\"92675597-ea92-4389-9377-40bc5e32becc\",\"type\":\"LinearAxis\"}],\"left\":[{\"id\":\"6fee95e2-e05c-4811-910a-9e1ea5120450\",\"type\":\"LinearAxis\"}],\"plot_height\":300,\"plot_width\":300,\"renderers\":[{\"id\":\"92675597-ea92-4389-9377-40bc5e32becc\",\"type\":\"LinearAxis\"},{\"id\":\"e1cb54f2-1f38-4f77-b878-ab9a5906bcfb\",\"type\":\"Grid\"},{\"id\":\"6fee95e2-e05c-4811-910a-9e1ea5120450\",\"type\":\"LinearAxis\"},{\"id\":\"079cbd73-b390-4495-ae0d-7db74c1382a1\",\"type\":\"Grid\"},{\"id\":\"a34159c3-faaf-4e84-b04b-fe98146f198d\",\"type\":\"Legend\"},{\"id\":\"f330111e-3fd8-4d3b-8132-600210961807\",\"type\":\"GlyphRenderer\"},{\"id\":\"67eaaa8c-6e11-4cfd-bd54-1f5ffbe6dd11\",\"type\":\"GlyphRenderer\"}],\"title\":{\"id\":\"df04ad00-2d20-4ff4-bbe0-98ee7a4e87c8\",\"type\":\"Title\"},\"tool_events\":{\"id\":\"ce57fa10-3a70-4d1b-b6fa-66354f3643bf\",\"type\":\"ToolEvents\"},\"toolbar\":{\"id\":\"cc6da837-77be-4410-bc69-1bfaf3326dff\",\"type\":\"Toolbar\"},\"toolbar_location\":null,\"x_range\":{\"id\":\"a250982d-944c-460c-a8db-82270692cd88\",\"type\":\"DataRange1d\"},\"y_range\":{\"id\":\"5919c080-3472-4472-bc6f-66b066b3a239\",\"type\":\"DataRange1d\"}},\"id\":\"320c1519-ab6f-47a0-8f22-1e4fe063ed2d\",\"subtype\":\"Figure\",\"type\":\"Plot\"},{\"attributes\":{\"dimension\":1,\"plot\":{\"id\":\"baf1e452-72b1-4134-874d-0cee43010931\",\"subtype\":\"Figure\",\"type\":\"Plot\"},\"ticker\":{\"id\":\"eb199dfa-a823-460e-a9fa-8980be466476\",\"type\":\"BasicTicker\"}},\"id\":\"448abc1b-42c8-429e-91b8-f9ab19d04584\",\"type\":\"Grid\"},{\"attributes\":{\"legends\":[[\"white\",[{\"id\":\"7969c82e-0932-4a47-9f74-11b6ea2ba7cc\",\"type\":\"GlyphRenderer\"}]],[\"red\",[{\"id\":\"8d11c896-ac67-42f8-8fa9-66d8f83687ea\",\"type\":\"GlyphRenderer\"}]]],\"location\":\"top_left\",\"plot\":{\"id\":\"baf1e452-72b1-4134-874d-0cee43010931\",\"subtype\":\"Figure\",\"type\":\"Plot\"}},\"id\":\"9d8e8920-595c-4d22-a214-a8f0dc537f6e\",\"type\":\"Legend\"},{\"attributes\":{\"callback\":null},\"id\":\"7f0df30f-a9af-4f9f-8d2b-1315d3a328e7\",\"type\":\"DataRange1d\"},{\"attributes\":{\"data_source\":{\"id\":\"aef7fc3c-6a00-4dcd-8423-e923bcea330e\",\"type\":\"ColumnDataSource\"},\"glyph\":{\"id\":\"2f782c6f-3e9a-4303-ade6-0124657b9d84\",\"type\":\"Line\"},\"hover_glyph\":null,\"nonselection_glyph\":{\"id\":\"fd2b64b9-5dd8-4824-935d-c897f34a2400\",\"type\":\"Line\"},\"selection_glyph\":null},\"id\":\"c1a8a1e2-b364-4c1b-bb5d-d4f5a7fa33cb\",\"type\":\"GlyphRenderer\"},{\"attributes\":{\"line_color\":{\"value\":\"green\"},\"x\":{\"field\":\"x\"},\"y\":{\"field\":\"y\"}},\"id\":\"f2b8f0b7-5cbe-407f-99e1-8c2b1b6963cc\",\"type\":\"Line\"},{\"attributes\":{\"line_alpha\":{\"value\":0.1},\"line_color\":{\"value\":\"#1f77b4\"},\"x\":{\"field\":\"x\"},\"y\":{\"field\":\"y\"}},\"id\":\"eb384947-99f2-4b01-9992-152f1fca2f65\",\"type\":\"Line\"},{\"attributes\":{\"data_source\":{\"id\":\"b84194a2-99f0-4c70-ad2f-314915bbde0f\",\"type\":\"ColumnDataSource\"},\"glyph\":{\"id\":\"f4540976-a07c-4216-8d7c-054a18775cb0\",\"type\":\"Line\"},\"hover_glyph\":null,\"nonselection_glyph\":{\"id\":\"ff714371-812e-4084-a698-0c08dec632a4\",\"type\":\"Line\"},\"selection_glyph\":null},\"id\":\"3c3c7206-cba8-4288-91ae-919a48307432\",\"type\":\"GlyphRenderer\"},{\"attributes\":{\"plot\":{\"id\":\"baf1e452-72b1-4134-874d-0cee43010931\",\"subtype\":\"Figure\",\"type\":\"Plot\"},\"ticker\":{\"id\":\"ca9b7072-4681-45dd-a0bf-c32d50e4e8e2\",\"type\":\"BasicTicker\"}},\"id\":\"02bf1d35-9c94-4b32-8299-0f4705032c18\",\"type\":\"Grid\"},{\"attributes\":{},\"id\":\"44e20b1f-5fbc-442e-8ada-0b61cd34b343\",\"type\":\"BasicTickFormatter\"},{\"attributes\":{},\"id\":\"eb199dfa-a823-460e-a9fa-8980be466476\",\"type\":\"BasicTicker\"},{\"attributes\":{\"axis_label\":\"quality\",\"formatter\":{\"id\":\"7c3ca29c-1282-4c57-bf04-ec58752cb5e4\",\"type\":\"BasicTickFormatter\"},\"plot\":{\"id\":\"88f33297-243f-4d82-9ec9-13388f7ed41e\",\"subtype\":\"Figure\",\"type\":\"Plot\"},\"ticker\":{\"id\":\"289f3f0f-641e-4231-b1d8-c7bfa152408a\",\"type\":\"BasicTicker\"}},\"id\":\"fe9894cf-dec6-47f2-9968-9825fb7dee0e\",\"type\":\"LinearAxis\"},{\"attributes\":{\"plot\":{\"id\":\"baf1e452-72b1-4134-874d-0cee43010931\",\"subtype\":\"Figure\",\"type\":\"Plot\"}},\"id\":\"f66e5667-2402-4b21-8096-e5e10f568783\",\"type\":\"CrosshairTool\"},{\"attributes\":{\"callback\":null,\"column_names\":[\"y\",\"x\"],\"data\":{\"x\":[3.0,4.0,5.0,6.0,7.0,8.0,9.0],\"y\":[23.358895705521473,33.4,34.12556818181818,35.65059144676979,36.432052161976664,36.72,53.325]}},\"id\":\"b84194a2-99f0-4c70-ad2f-314915bbde0f\",\"type\":\"ColumnDataSource\"},{\"attributes\":{\"legends\":[[\"white\",[{\"id\":\"3c3c7206-cba8-4288-91ae-919a48307432\",\"type\":\"GlyphRenderer\"}]],[\"red\",[{\"id\":\"5ec30787-d410-41a5-9068-5224b0bce330\",\"type\":\"GlyphRenderer\"}]]],\"location\":\"top_left\",\"plot\":{\"id\":\"6370630f-3d03-40d5-953e-050e9676e434\",\"subtype\":\"Figure\",\"type\":\"Plot\"}},\"id\":\"616faacb-0845-47d8-a49d-b87d4d127fec\",\"type\":\"Legend\"},{\"attributes\":{\"line_alpha\":{\"value\":0.1},\"line_color\":{\"value\":\"#1f77b4\"},\"x\":{\"field\":\"x\"},\"y\":{\"field\":\"y\"}},\"id\":\"14ccad81-d66e-44dd-9ee5-353d104df30d\",\"type\":\"Line\"},{\"attributes\":{\"callback\":null},\"id\":\"4301a2a6-bc4a-4094-b7fd-39ab31681774\",\"type\":\"DataRange1d\"},{\"attributes\":{\"data_source\":{\"id\":\"e387330b-982d-4ec3-9524-bcf1633b7d63\",\"type\":\"ColumnDataSource\"},\"glyph\":{\"id\":\"9da27102-dfc6-4bd2-bfb7-c4937db5586c\",\"type\":\"Line\"},\"hover_glyph\":null,\"nonselection_glyph\":{\"id\":\"14ccad81-d66e-44dd-9ee5-353d104df30d\",\"type\":\"Line\"},\"selection_glyph\":null},\"id\":\"8ab40552-1e1e-4d2e-a143-7df5994500f2\",\"type\":\"GlyphRenderer\"},{\"attributes\":{\"dimension\":1,\"plot\":{\"id\":\"320c1519-ab6f-47a0-8f22-1e4fe063ed2d\",\"subtype\":\"Figure\",\"type\":\"Plot\"},\"ticker\":{\"id\":\"7f725f8b-b2a8-44f8-b4cd-ba73059748a2\",\"type\":\"BasicTicker\"}},\"id\":\"079cbd73-b390-4495-ae0d-7db74c1382a1\",\"type\":\"Grid\"},{\"attributes\":{\"callback\":null,\"column_names\":[\"y\",\"x\"],\"data\":{\"x\":[3.0,4.0,5.0,6.0,7.0,8.0,9.0],\"y\":[0.06844444444444445,0.07658793969849244,0.08495611285266458,0.09067924528301885,0.09273568281938328,0.12250000000000001,\"NaN\"]}},\"id\":\"aef7fc3c-6a00-4dcd-8423-e923bcea330e\",\"type\":\"ColumnDataSource\"},{\"attributes\":{},\"id\":\"77cbe534-972b-40c8-bafe-b211d5179e3f\",\"type\":\"BasicTickFormatter\"},{\"attributes\":{\"callback\":null},\"id\":\"9f7b2354-973a-43d8-b1bb-536f48044cd0\",\"type\":\"DataRange1d\"},{\"attributes\":{\"children\":[{\"id\":\"baf1e452-72b1-4134-874d-0cee43010931\",\"subtype\":\"Figure\",\"type\":\"Plot\"},{\"id\":\"88f33297-243f-4d82-9ec9-13388f7ed41e\",\"subtype\":\"Figure\",\"type\":\"Plot\"},{\"id\":\"6370630f-3d03-40d5-953e-050e9676e434\",\"subtype\":\"Figure\",\"type\":\"Plot\"}]},\"id\":\"c4118fce-0b69-46f3-bd9a-b1d229327e96\",\"type\":\"Row\"},{\"attributes\":{\"dimension\":1,\"plot\":{\"id\":\"07d0bc53-8086-48cf-97c3-639e3f3f8cce\",\"subtype\":\"Figure\",\"type\":\"Plot\"},\"ticker\":{\"id\":\"dabb26e4-352c-490d-b866-bdf94cdd846d\",\"type\":\"BasicTicker\"}},\"id\":\"96ffa585-cf8c-40f6-8388-95aa324a3c50\",\"type\":\"Grid\"},{\"attributes\":{\"callback\":null},\"id\":\"a250982d-944c-460c-a8db-82270692cd88\",\"type\":\"DataRange1d\"},{\"attributes\":{\"line_alpha\":{\"value\":0.1},\"line_color\":{\"value\":\"#1f77b4\"},\"x\":{\"field\":\"x\"},\"y\":{\"field\":\"y\"}},\"id\":\"2575a6ce-86ee-4273-8ceb-8db5569230f8\",\"type\":\"Line\"},{\"attributes\":{\"plot\":{\"id\":\"6370630f-3d03-40d5-953e-050e9676e434\",\"subtype\":\"Figure\",\"type\":\"Plot\"}},\"id\":\"36b06d76-73af-45cd-8c46-75c58e4d24c0\",\"type\":\"CrosshairTool\"},{\"attributes\":{\"callback\":null,\"column_names\":[\"y\",\"x\"],\"data\":{\"x\":[3.0,4.0,5.0,6.0,7.0,8.0,9.0],\"y\":[2.477194357366772,2.528854625550658,2.5777777777777775,2.6350000000000002,2.69433962264151,2.7206030150753793,\"NaN\"]}},\"id\":\"07b00458-8c31-4905-8757-d5e5cf5fb6bc\",\"type\":\"ColumnDataSource\"},{\"attributes\":{},\"id\":\"51728f24-2e11-4f84-b35f-a687810bc702\",\"type\":\"BasicTickFormatter\"},{\"attributes\":{\"plot\":{\"id\":\"320c1519-ab6f-47a0-8f22-1e4fe063ed2d\",\"subtype\":\"Figure\",\"type\":\"Plot\"}},\"id\":\"22929411-37fc-40c2-b95d-09ac736f98a1\",\"type\":\"ResetTool\"},{\"attributes\":{\"line_alpha\":{\"value\":0.1},\"line_color\":{\"value\":\"#1f77b4\"},\"x\":{\"field\":\"x\"},\"y\":{\"field\":\"y\"}},\"id\":\"080f655c-0bdf-4ed0-bec0-7a40ee99bd15\",\"type\":\"Line\"},{\"attributes\":{},\"id\":\"718540c8-7f23-439c-a5f6-ba0063fb0d93\",\"type\":\"BasicTickFormatter\"},{\"attributes\":{\"callback\":null},\"id\":\"01923b47-3651-4433-900a-c5811599e2dd\",\"type\":\"DataRange1d\"},{\"attributes\":{\"axis_label\":\"quality\",\"formatter\":{\"id\":\"c9466dc1-5259-4246-8161-06006f5d53a5\",\"type\":\"BasicTickFormatter\"},\"plot\":{\"id\":\"baf1e452-72b1-4134-874d-0cee43010931\",\"subtype\":\"Figure\",\"type\":\"Plot\"},\"ticker\":{\"id\":\"ca9b7072-4681-45dd-a0bf-c32d50e4e8e2\",\"type\":\"BasicTicker\"}},\"id\":\"70d23b44-2376-48a4-9fb0-66c435eac78d\",\"type\":\"LinearAxis\"},{\"attributes\":{\"plot\":null,\"text\":\"mean citric acid vs. quality\"},\"id\":\"34e03ee3-0ea7-483f-893b-335f84464be8\",\"type\":\"Title\"},{\"attributes\":{\"plot\":{\"id\":\"07d0bc53-8086-48cf-97c3-639e3f3f8cce\",\"subtype\":\"Figure\",\"type\":\"Plot\"},\"ticker\":{\"id\":\"4c29005d-7293-4e5e-b77e-e5fdc425da53\",\"type\":\"BasicTicker\"}},\"id\":\"9b460797-edb5-4861-9643-c03d20a0ba76\",\"type\":\"Grid\"},{\"attributes\":{\"data_source\":{\"id\":\"07b00458-8c31-4905-8757-d5e5cf5fb6bc\",\"type\":\"ColumnDataSource\"},\"glyph\":{\"id\":\"1f484f74-e72c-4748-83f0-519b96ae3dea\",\"type\":\"Line\"},\"hover_glyph\":null,\"nonselection_glyph\":{\"id\":\"5bf1f175-72f2-4e9c-97b5-53c557c66091\",\"type\":\"Line\"},\"selection_glyph\":null},\"id\":\"8d11c896-ac67-42f8-8fa9-66d8f83687ea\",\"type\":\"GlyphRenderer\"},{\"attributes\":{\"callback\":null,\"column_names\":[\"y\",\"x\"],\"data\":{\"x\":[3.0,4.0,5.0,6.0,7.0,8.0,9.0],\"y\":[7.779245283018868,8.167254038179149,8.347178683385575,8.36,8.566666666666665,8.872361809045225,\"NaN\"]}},\"id\":\"91fc487c-aa60-4415-94ea-0ccc938057b4\",\"type\":\"ColumnDataSource\"},{\"attributes\":{\"axis_label\":\"quality\",\"formatter\":{\"id\":\"77cbe534-972b-40c8-bafe-b211d5179e3f\",\"type\":\"BasicTickFormatter\"},\"plot\":{\"id\":\"b303716f-ca72-45aa-adf5-d106ca5347da\",\"subtype\":\"Figure\",\"type\":\"Plot\"},\"ticker\":{\"id\":\"f392c340-4346-43f7-a050-5782bf9f9ea5\",\"type\":\"BasicTicker\"}},\"id\":\"af89ba65-912e-412d-8d80-2015d24422e8\",\"type\":\"LinearAxis\"},{\"attributes\":{},\"id\":\"3a842d78-c8c3-4db5-aa41-0b73d2d7a2d5\",\"type\":\"ToolEvents\"},{\"attributes\":{\"callback\":null,\"plot\":{\"id\":\"6370630f-3d03-40d5-953e-050e9676e434\",\"subtype\":\"Figure\",\"type\":\"Plot\"}},\"id\":\"bcc88ee6-3e83-4725-9e00-ca90797c6775\",\"type\":\"HoverTool\"},{\"attributes\":{\"plot\":{\"id\":\"07d0bc53-8086-48cf-97c3-639e3f3f8cce\",\"subtype\":\"Figure\",\"type\":\"Plot\"}},\"id\":\"58167dcb-b13e-4512-b9b9-197a76c08ce5\",\"type\":\"CrosshairTool\"},{\"attributes\":{},\"id\":\"c9b87d65-2405-4adc-9cda-049c27addf2d\",\"type\":\"BasicTickFormatter\"},{\"attributes\":{\"plot\":null,\"text\":\"mean volatile acidity vs. quality\"},\"id\":\"6ee4d1ae-5f95-46e8-8836-25fbff5d48b7\",\"type\":\"Title\"},{\"attributes\":{\"below\":[{\"id\":\"fe9894cf-dec6-47f2-9968-9825fb7dee0e\",\"type\":\"LinearAxis\"}],\"left\":[{\"id\":\"74c5d16b-7666-4d44-a638-46e30650f5fc\",\"type\":\"LinearAxis\"}],\"plot_height\":300,\"plot_width\":300,\"renderers\":[{\"id\":\"fe9894cf-dec6-47f2-9968-9825fb7dee0e\",\"type\":\"LinearAxis\"},{\"id\":\"8538aca9-0491-439d-a2fb-d4baea9d2f9a\",\"type\":\"Grid\"},{\"id\":\"74c5d16b-7666-4d44-a638-46e30650f5fc\",\"type\":\"LinearAxis\"},{\"id\":\"1872437b-b4c4-498c-bd67-25800bea3cdf\",\"type\":\"Grid\"},{\"id\":\"09bd80b6-2c54-465b-9e6f-0811ccb0ac9b\",\"type\":\"Legend\"},{\"id\":\"8ab40552-1e1e-4d2e-a143-7df5994500f2\",\"type\":\"GlyphRenderer\"},{\"id\":\"c1a8a1e2-b364-4c1b-bb5d-d4f5a7fa33cb\",\"type\":\"GlyphRenderer\"}],\"title\":{\"id\":\"173a08fa-bc01-40df-9694-c502d1d0791a\",\"type\":\"Title\"},\"tool_events\":{\"id\":\"5e29daa7-365b-450a-a337-eea0aa00391f\",\"type\":\"ToolEvents\"},\"toolbar\":{\"id\":\"97962350-9293-46b3-9199-ed6eac528810\",\"type\":\"Toolbar\"},\"toolbar_location\":null,\"x_range\":{\"id\":\"92ee45f1-24e4-4162-8165-339afec45344\",\"type\":\"DataRange1d\"},\"y_range\":{\"id\":\"01923b47-3651-4433-900a-c5811599e2dd\",\"type\":\"DataRange1d\"}},\"id\":\"88f33297-243f-4d82-9ec9-13388f7ed41e\",\"subtype\":\"Figure\",\"type\":\"Plot\"},{\"attributes\":{\"plot\":{\"id\":\"b303716f-ca72-45aa-adf5-d106ca5347da\",\"subtype\":\"Figure\",\"type\":\"Plot\"}},\"id\":\"1293b616-6320-4173-99b9-8aeccd35b339\",\"type\":\"ResetTool\"},{\"attributes\":{\"data_source\":{\"id\":\"00bb5f8b-52e8-4968-8de7-ec00d3a2ae60\",\"type\":\"ColumnDataSource\"},\"glyph\":{\"id\":\"f8625f5f-e8f8-49af-84de-e9b99c52822f\",\"type\":\"Line\"},\"hover_glyph\":null,\"nonselection_glyph\":{\"id\":\"2575a6ce-86ee-4273-8ceb-8db5569230f8\",\"type\":\"Line\"},\"selection_glyph\":null},\"id\":\"5ec30787-d410-41a5-9068-5224b0bce330\",\"type\":\"GlyphRenderer\"},{\"attributes\":{\"data_source\":{\"id\":\"c9110b63-412f-400c-956f-1426eac3b39c\",\"type\":\"ColumnDataSource\"},\"glyph\":{\"id\":\"21845561-4104-4218-b922-e561a0d6b831\",\"type\":\"Line\"},\"hover_glyph\":null,\"nonselection_glyph\":{\"id\":\"d096a3e6-2657-46c1-a317-87a4e6731b11\",\"type\":\"Line\"},\"selection_glyph\":null},\"id\":\"f330111e-3fd8-4d3b-8132-600210961807\",\"type\":\"GlyphRenderer\"},{\"attributes\":{},\"id\":\"90e0b949-2199-4263-b410-c7296ac87566\",\"type\":\"BasicTicker\"},{\"attributes\":{},\"id\":\"b9b98dfb-e612-41c1-bfa7-d4fb4c9f8b15\",\"type\":\"BasicTickFormatter\"},{\"attributes\":{\"callback\":null,\"column_names\":[\"y\",\"x\"],\"data\":{\"x\":[3.0,4.0,5.0,6.0,7.0,8.0,9.0],\"y\":[0.0274,0.0381909090909091,0.03831428571428572,0.04521747042766181,0.05009815950920243,0.0515463280713795,0.054300000000000015]}},\"id\":\"e387330b-982d-4ec3-9524-bcf1633b7d63\",\"type\":\"ColumnDataSource\"},{\"attributes\":{\"callback\":null},\"id\":\"5919c080-3472-4472-bc6f-66b066b3a239\",\"type\":\"DataRange1d\"},{\"attributes\":{\"callback\":null,\"plot\":{\"id\":\"07d0bc53-8086-48cf-97c3-639e3f3f8cce\",\"subtype\":\"Figure\",\"type\":\"Plot\"}},\"id\":\"11c533f1-4f01-43eb-a779-ba2e50e650aa\",\"type\":\"HoverTool\"},{\"attributes\":{\"line_alpha\":{\"value\":0.1},\"line_color\":{\"value\":\"#1f77b4\"},\"x\":{\"field\":\"x\"},\"y\":{\"field\":\"y\"}},\"id\":\"5bf1f175-72f2-4e9c-97b5-53c557c66091\",\"type\":\"Line\"},{\"attributes\":{},\"id\":\"7f725f8b-b2a8-44f8-b4cd-ba73059748a2\",\"type\":\"BasicTicker\"},{\"attributes\":{},\"id\":\"5e29daa7-365b-450a-a337-eea0aa00391f\",\"type\":\"ToolEvents\"},{\"attributes\":{\"active_drag\":\"auto\",\"active_scroll\":\"auto\",\"active_tap\":\"auto\",\"tools\":[{\"id\":\"608f3b7d-5001-4ab5-8cab-c3312e0505ad\",\"type\":\"HoverTool\"},{\"id\":\"1293b616-6320-4173-99b9-8aeccd35b339\",\"type\":\"ResetTool\"},{\"id\":\"e399ee1c-33c0-4ec1-8244-552fae85feca\",\"type\":\"CrosshairTool\"}]},\"id\":\"412b297d-984b-4442-ae8d-7ef632f7d667\",\"type\":\"Toolbar\"},{\"attributes\":{\"children\":[{\"id\":\"320c1519-ab6f-47a0-8f22-1e4fe063ed2d\",\"subtype\":\"Figure\",\"type\":\"Plot\"},{\"id\":\"b303716f-ca72-45aa-adf5-d106ca5347da\",\"subtype\":\"Figure\",\"type\":\"Plot\"},{\"id\":\"07d0bc53-8086-48cf-97c3-639e3f3f8cce\",\"subtype\":\"Figure\",\"type\":\"Plot\"}]},\"id\":\"44a1ee10-75b0-40dd-811f-31fc5017a315\",\"type\":\"Row\"},{\"attributes\":{\"axis_label\":\"volatile acidity\",\"formatter\":{\"id\":\"adfcb812-029f-4699-8f0c-69404de4340b\",\"type\":\"BasicTickFormatter\"},\"plot\":{\"id\":\"b303716f-ca72-45aa-adf5-d106ca5347da\",\"subtype\":\"Figure\",\"type\":\"Plot\"},\"ticker\":{\"id\":\"9c61a9c1-a99a-4739-bacf-c559150bcffa\",\"type\":\"BasicTicker\"}},\"id\":\"f7e66036-0d07-47e9-985e-e667acc1fc8e\",\"type\":\"LinearAxis\"},{\"attributes\":{\"callback\":null,\"column_names\":[\"y\",\"x\"],\"data\":{\"x\":[3.0,4.0,5.0,6.0,7.0,8.0,9.0],\"y\":[6.6571428571428575,6.7347159090909114,6.837670609645139,6.933973919011666,7.129447852760731,7.42,7.599999999999999]}},\"id\":\"c9110b63-412f-400c-956f-1426eac3b39c\",\"type\":\"ColumnDataSource\"},{\"attributes\":{\"data_source\":{\"id\":\"d4a8337d-75e9-4532-ba55-a6e63d34bdd0\",\"type\":\"ColumnDataSource\"},\"glyph\":{\"id\":\"ed831f30-20da-467d-a33a-3324ef183b54\",\"type\":\"Line\"},\"hover_glyph\":null,\"nonselection_glyph\":{\"id\":\"bf54d575-ed09-498a-bf96-5645eba3ec61\",\"type\":\"Line\"},\"selection_glyph\":null},\"id\":\"cb92c9c1-7276-4959-aa91-7372dcbeae4c\",\"type\":\"GlyphRenderer\"},{\"attributes\":{\"line_color\":{\"value\":\"green\"},\"x\":{\"field\":\"x\"},\"y\":{\"field\":\"y\"}},\"id\":\"81792c1b-1729-4841-9cd9-b3444b6557e6\",\"type\":\"Line\"},{\"attributes\":{\"line_color\":{\"value\":\"green\"},\"x\":{\"field\":\"x\"},\"y\":{\"field\":\"y\"}},\"id\":\"2ab08d94-d79d-41a5-8d3c-833b36f8ef9a\",\"type\":\"Line\"},{\"attributes\":{\"line_alpha\":{\"value\":0.1},\"line_color\":{\"value\":\"#1f77b4\"},\"x\":{\"field\":\"x\"},\"y\":{\"field\":\"y\"}},\"id\":\"c7fceb7e-b9c4-43b1-8057-4fbf504aa342\",\"type\":\"Line\"},{\"attributes\":{\"plot\":{\"id\":\"88f33297-243f-4d82-9ec9-13388f7ed41e\",\"subtype\":\"Figure\",\"type\":\"Plot\"}},\"id\":\"aebed0b4-a148-4d9e-9c7a-a45fb918bd4f\",\"type\":\"CrosshairTool\"},{\"attributes\":{},\"id\":\"ce57fa10-3a70-4d1b-b6fa-66354f3643bf\",\"type\":\"ToolEvents\"},{\"attributes\":{\"line_alpha\":{\"value\":0.1},\"line_color\":{\"value\":\"#1f77b4\"},\"x\":{\"field\":\"x\"},\"y\":{\"field\":\"y\"}},\"id\":\"fd2b64b9-5dd8-4824-935d-c897f34a2400\",\"type\":\"Line\"},{\"attributes\":{\"line_alpha\":{\"value\":0.1},\"line_color\":{\"value\":\"#1f77b4\"},\"x\":{\"field\":\"x\"},\"y\":{\"field\":\"y\"}},\"id\":\"6def4e2d-d4ee-42a5-818f-8662d52dcd2a\",\"type\":\"Line\"},{\"attributes\":{\"line_color\":{\"value\":\"red\"},\"x\":{\"field\":\"x\"},\"y\":{\"field\":\"y\"}},\"id\":\"ed831f30-20da-467d-a33a-3324ef183b54\",\"type\":\"Line\"},{\"attributes\":{\"callback\":null},\"id\":\"714ae8f9-32a3-410b-b335-c041505518fd\",\"type\":\"DataRange1d\"},{\"attributes\":{\"axis_label\":\"citric acid\",\"formatter\":{\"id\":\"c525c500-82a7-4da5-b26a-9dcfb12518d5\",\"type\":\"BasicTickFormatter\"},\"plot\":{\"id\":\"07d0bc53-8086-48cf-97c3-639e3f3f8cce\",\"subtype\":\"Figure\",\"type\":\"Plot\"},\"ticker\":{\"id\":\"dabb26e4-352c-490d-b866-bdf94cdd846d\",\"type\":\"BasicTicker\"}},\"id\":\"fb723d5b-1641-4d90-b629-c609a49183e6\",\"type\":\"LinearAxis\"},{\"attributes\":{\"sizing_mode\":\"scale_width\",\"toolbar_location\":\"above\",\"tools\":[{\"id\":\"b3b79d70-bda3-4003-be1b-b6b4abe339da\",\"type\":\"HoverTool\"},{\"id\":\"22929411-37fc-40c2-b95d-09ac736f98a1\",\"type\":\"ResetTool\"},{\"id\":\"9eb9cc50-f1d5-4cee-a117-237aa93b8b5d\",\"type\":\"CrosshairTool\"},{\"id\":\"608f3b7d-5001-4ab5-8cab-c3312e0505ad\",\"type\":\"HoverTool\"},{\"id\":\"1293b616-6320-4173-99b9-8aeccd35b339\",\"type\":\"ResetTool\"},{\"id\":\"e399ee1c-33c0-4ec1-8244-552fae85feca\",\"type\":\"CrosshairTool\"},{\"id\":\"11c533f1-4f01-43eb-a779-ba2e50e650aa\",\"type\":\"HoverTool\"},{\"id\":\"3fcf8acf-dc05-4286-bd17-c3b43838d6a4\",\"type\":\"ResetTool\"},{\"id\":\"58167dcb-b13e-4512-b9b9-197a76c08ce5\",\"type\":\"CrosshairTool\"},{\"id\":\"b62dc7fa-b726-4470-b56c-c9f1a53264c4\",\"type\":\"HoverTool\"},{\"id\":\"0eb51dca-b75c-4085-90b7-5728d33e8457\",\"type\":\"ResetTool\"},{\"id\":\"f66e5667-2402-4b21-8096-e5e10f568783\",\"type\":\"CrosshairTool\"},{\"id\":\"98feafc7-5e21-47da-8fbe-33cd1366b66f\",\"type\":\"HoverTool\"},{\"id\":\"8db0be95-e0af-4024-98cc-de8df26ca091\",\"type\":\"ResetTool\"},{\"id\":\"aebed0b4-a148-4d9e-9c7a-a45fb918bd4f\",\"type\":\"CrosshairTool\"},{\"id\":\"bcc88ee6-3e83-4725-9e00-ca90797c6775\",\"type\":\"HoverTool\"},{\"id\":\"802ce3fa-8d3c-4070-8905-f702b92e8a70\",\"type\":\"ResetTool\"},{\"id\":\"36b06d76-73af-45cd-8c46-75c58e4d24c0\",\"type\":\"CrosshairTool\"}]},\"id\":\"dc672a88-a392-4657-86d9-b7cef4275279\",\"type\":\"ToolbarBox\"},{\"attributes\":{\"line_alpha\":{\"value\":0.1},\"line_color\":{\"value\":\"#1f77b4\"},\"x\":{\"field\":\"x\"},\"y\":{\"field\":\"y\"}},\"id\":\"ff714371-812e-4084-a698-0c08dec632a4\",\"type\":\"Line\"},{\"attributes\":{\"axis_label\":\"free sulfur dioxide\",\"formatter\":{\"id\":\"8eafcf3f-ea76-4b61-ac80-9a0c2362c4f5\",\"type\":\"BasicTickFormatter\"},\"plot\":{\"id\":\"6370630f-3d03-40d5-953e-050e9676e434\",\"subtype\":\"Figure\",\"type\":\"Plot\"},\"ticker\":{\"id\":\"5be42d66-f9b4-4ca9-a4dc-0e05b6537a6c\",\"type\":\"BasicTicker\"}},\"id\":\"b05c3555-31ab-4675-90c9-258d84a16776\",\"type\":\"LinearAxis\"},{\"attributes\":{\"below\":[{\"id\":\"af89ba65-912e-412d-8d80-2015d24422e8\",\"type\":\"LinearAxis\"}],\"left\":[{\"id\":\"f7e66036-0d07-47e9-985e-e667acc1fc8e\",\"type\":\"LinearAxis\"}],\"plot_height\":300,\"plot_width\":300,\"renderers\":[{\"id\":\"af89ba65-912e-412d-8d80-2015d24422e8\",\"type\":\"LinearAxis\"},{\"id\":\"5ae66f41-0631-451b-a282-6fab789cf079\",\"type\":\"Grid\"},{\"id\":\"f7e66036-0d07-47e9-985e-e667acc1fc8e\",\"type\":\"LinearAxis\"},{\"id\":\"fb433f41-cd12-473f-893b-a6de5616cbd8\",\"type\":\"Grid\"},{\"id\":\"73065b68-ea63-4097-8f23-378675427d14\",\"type\":\"Legend\"},{\"id\":\"e7d764b1-7a08-4dde-b7d3-49455446b6ee\",\"type\":\"GlyphRenderer\"},{\"id\":\"79290bf0-f38e-40df-994a-c6828b6dbcd8\",\"type\":\"GlyphRenderer\"}],\"title\":{\"id\":\"6ee4d1ae-5f95-46e8-8836-25fbff5d48b7\",\"type\":\"Title\"},\"tool_events\":{\"id\":\"51a899cb-4c29-4eb5-a030-59335e84fe69\",\"type\":\"ToolEvents\"},\"toolbar\":{\"id\":\"412b297d-984b-4442-ae8d-7ef632f7d667\",\"type\":\"Toolbar\"},\"toolbar_location\":null,\"x_range\":{\"id\":\"5b9fd1fe-353f-4090-ab7e-4a471cd5162e\",\"type\":\"DataRange1d\"},\"y_range\":{\"id\":\"4301a2a6-bc4a-4094-b7fd-39ab31681774\",\"type\":\"DataRange1d\"}},\"id\":\"b303716f-ca72-45aa-adf5-d106ca5347da\",\"subtype\":\"Figure\",\"type\":\"Plot\"},{\"attributes\":{\"dimension\":1,\"plot\":{\"id\":\"6370630f-3d03-40d5-953e-050e9676e434\",\"subtype\":\"Figure\",\"type\":\"Plot\"},\"ticker\":{\"id\":\"5be42d66-f9b4-4ca9-a4dc-0e05b6537a6c\",\"type\":\"BasicTicker\"}},\"id\":\"d5d6749d-eb32-44e2-9e5b-1dd7026d0f15\",\"type\":\"Grid\"},{\"attributes\":{\"callback\":null,\"plot\":{\"id\":\"320c1519-ab6f-47a0-8f22-1e4fe063ed2d\",\"subtype\":\"Figure\",\"type\":\"Plot\"}},\"id\":\"b3b79d70-bda3-4003-be1b-b6b4abe339da\",\"type\":\"HoverTool\"},{\"attributes\":{\"line_color\":{\"value\":\"red\"},\"x\":{\"field\":\"x\"},\"y\":{\"field\":\"y\"}},\"id\":\"3efcbeb8-975b-4305-95e7-6c024c8be23b\",\"type\":\"Line\"},{\"attributes\":{\"callback\":null,\"column_names\":[\"y\",\"x\"],\"data\":{\"x\":[3.0,4.0,5.0,6.0,7.0,8.0,9.0],\"y\":[11.0,12.264150943396226,13.277777777777779,14.045226130653266,15.711598746081505,16.983847283406753,\"NaN\"]}},\"id\":\"00bb5f8b-52e8-4968-8de7-ec00d3a2ae60\",\"type\":\"ColumnDataSource\"},{\"attributes\":{\"legends\":[[\"white\",[{\"id\":\"e7d764b1-7a08-4dde-b7d3-49455446b6ee\",\"type\":\"GlyphRenderer\"}]],[\"red\",[{\"id\":\"79290bf0-f38e-40df-994a-c6828b6dbcd8\",\"type\":\"GlyphRenderer\"}]]],\"location\":\"top_left\",\"plot\":{\"id\":\"b303716f-ca72-45aa-adf5-d106ca5347da\",\"subtype\":\"Figure\",\"type\":\"Plot\"}},\"id\":\"73065b68-ea63-4097-8f23-378675427d14\",\"type\":\"Legend\"},{\"attributes\":{\"line_color\":{\"value\":\"red\"},\"x\":{\"field\":\"x\"},\"y\":{\"field\":\"y\"}},\"id\":\"f8625f5f-e8f8-49af-84de-e9b99c52822f\",\"type\":\"Line\"},{\"attributes\":{\"line_alpha\":{\"value\":0.1},\"line_color\":{\"value\":\"#1f77b4\"},\"x\":{\"field\":\"x\"},\"y\":{\"field\":\"y\"}},\"id\":\"bf54d575-ed09-498a-bf96-5645eba3ec61\",\"type\":\"Line\"},{\"attributes\":{},\"id\":\"c9466dc1-5259-4246-8161-06006f5d53a5\",\"type\":\"BasicTickFormatter\"},{\"attributes\":{},\"id\":\"289f3f0f-641e-4231-b1d8-c7bfa152408a\",\"type\":\"BasicTicker\"},{\"attributes\":{\"line_alpha\":{\"value\":0.1},\"line_color\":{\"value\":\"#1f77b4\"},\"x\":{\"field\":\"x\"},\"y\":{\"field\":\"y\"}},\"id\":\"d096a3e6-2657-46c1-a317-87a4e6731b11\",\"type\":\"Line\"},{\"attributes\":{\"callback\":null,\"column_names\":[\"y\",\"x\"],\"data\":{\"x\":[3.0,4.0,5.0,6.0,7.0,8.0,9.0],\"y\":[4.119999999999999,4.628220858895707,5.186477272727271,5.671428571428572,6.392499999999999,6.4416060054595095,7.3349691146190725]}},\"id\":\"ef4c9aeb-1b9b-485f-92dc-1b2614368fa8\",\"type\":\"ColumnDataSource\"},{\"attributes\":{\"data_source\":{\"id\":\"91fc487c-aa60-4415-94ea-0ccc938057b4\",\"type\":\"ColumnDataSource\"},\"glyph\":{\"id\":\"3efcbeb8-975b-4305-95e7-6c024c8be23b\",\"type\":\"Line\"},\"hover_glyph\":null,\"nonselection_glyph\":{\"id\":\"6def4e2d-d4ee-42a5-818f-8662d52dcd2a\",\"type\":\"Line\"},\"selection_glyph\":null},\"id\":\"67eaaa8c-6e11-4cfd-bd54-1f5ffbe6dd11\",\"type\":\"GlyphRenderer\"},{\"attributes\":{\"dimension\":1,\"plot\":{\"id\":\"b303716f-ca72-45aa-adf5-d106ca5347da\",\"subtype\":\"Figure\",\"type\":\"Plot\"},\"ticker\":{\"id\":\"9c61a9c1-a99a-4739-bacf-c559150bcffa\",\"type\":\"BasicTicker\"}},\"id\":\"fb433f41-cd12-473f-893b-a6de5616cbd8\",\"type\":\"Grid\"},{\"attributes\":{},\"id\":\"7c3ca29c-1282-4c57-bf04-ec58752cb5e4\",\"type\":\"BasicTickFormatter\"},{\"attributes\":{\"active_drag\":\"auto\",\"active_scroll\":\"auto\",\"active_tap\":\"auto\",\"tools\":[{\"id\":\"bcc88ee6-3e83-4725-9e00-ca90797c6775\",\"type\":\"HoverTool\"},{\"id\":\"802ce3fa-8d3c-4070-8905-f702b92e8a70\",\"type\":\"ResetTool\"},{\"id\":\"36b06d76-73af-45cd-8c46-75c58e4d24c0\",\"type\":\"CrosshairTool\"}]},\"id\":\"a5d56f11-afb8-4bd5-9925-e96423e81c24\",\"type\":\"Toolbar\"},{\"attributes\":{\"plot\":{\"id\":\"b303716f-ca72-45aa-adf5-d106ca5347da\",\"subtype\":\"Figure\",\"type\":\"Plot\"}},\"id\":\"e399ee1c-33c0-4ec1-8244-552fae85feca\",\"type\":\"CrosshairTool\"},{\"attributes\":{},\"id\":\"f392c340-4346-43f7-a050-5782bf9f9ea5\",\"type\":\"BasicTicker\"},{\"attributes\":{\"plot\":null,\"text\":\"mean chlorides vs. quality\"},\"id\":\"173a08fa-bc01-40df-9694-c502d1d0791a\",\"type\":\"Title\"},{\"attributes\":{\"callback\":null,\"plot\":{\"id\":\"baf1e452-72b1-4134-874d-0cee43010931\",\"subtype\":\"Figure\",\"type\":\"Plot\"}},\"id\":\"b62dc7fa-b726-4470-b56c-c9f1a53264c4\",\"type\":\"HoverTool\"},{\"attributes\":{\"active_drag\":\"auto\",\"active_scroll\":\"auto\",\"active_tap\":\"auto\",\"tools\":[{\"id\":\"b3b79d70-bda3-4003-be1b-b6b4abe339da\",\"type\":\"HoverTool\"},{\"id\":\"22929411-37fc-40c2-b95d-09ac736f98a1\",\"type\":\"ResetTool\"},{\"id\":\"9eb9cc50-f1d5-4cee-a117-237aa93b8b5d\",\"type\":\"CrosshairTool\"}]},\"id\":\"cc6da837-77be-4410-bc69-1bfaf3326dff\",\"type\":\"Toolbar\"},{\"attributes\":{},\"id\":\"adfcb812-029f-4699-8f0c-69404de4340b\",\"type\":\"BasicTickFormatter\"},{\"attributes\":{},\"id\":\"5be42d66-f9b4-4ca9-a4dc-0e05b6537a6c\",\"type\":\"BasicTicker\"},{\"attributes\":{\"callback\":null},\"id\":\"0afa8e74-b7d7-4157-af30-82d6a0cd0dcd\",\"type\":\"DataRange1d\"},{\"attributes\":{\"legends\":[[\"white\",[{\"id\":\"530eb232-b622-4cb2-835a-bc00e01610e8\",\"type\":\"GlyphRenderer\"}]],[\"red\",[{\"id\":\"cb92c9c1-7276-4959-aa91-7372dcbeae4c\",\"type\":\"GlyphRenderer\"}]]],\"location\":\"top_left\",\"plot\":{\"id\":\"07d0bc53-8086-48cf-97c3-639e3f3f8cce\",\"subtype\":\"Figure\",\"type\":\"Plot\"}},\"id\":\"e3ced6ba-f0a1-4c45-a62c-a526bd7598ca\",\"type\":\"Legend\"},{\"attributes\":{\"children\":[{\"id\":\"44a1ee10-75b0-40dd-811f-31fc5017a315\",\"type\":\"Row\"},{\"id\":\"c4118fce-0b69-46f3-bd9a-b1d229327e96\",\"type\":\"Row\"}]},\"id\":\"409f6d6b-d791-4444-b888-a19edf77cef1\",\"type\":\"Column\"},{\"attributes\":{\"callback\":null},\"id\":\"5b9fd1fe-353f-4090-ab7e-4a471cd5162e\",\"type\":\"DataRange1d\"},{\"attributes\":{\"plot\":{\"id\":\"b303716f-ca72-45aa-adf5-d106ca5347da\",\"subtype\":\"Figure\",\"type\":\"Plot\"},\"ticker\":{\"id\":\"f392c340-4346-43f7-a050-5782bf9f9ea5\",\"type\":\"BasicTicker\"}},\"id\":\"5ae66f41-0631-451b-a282-6fab789cf079\",\"type\":\"Grid\"},{\"attributes\":{\"active_drag\":\"auto\",\"active_scroll\":\"auto\",\"active_tap\":\"auto\",\"tools\":[{\"id\":\"98feafc7-5e21-47da-8fbe-33cd1366b66f\",\"type\":\"HoverTool\"},{\"id\":\"8db0be95-e0af-4024-98cc-de8df26ca091\",\"type\":\"ResetTool\"},{\"id\":\"aebed0b4-a148-4d9e-9c7a-a45fb918bd4f\",\"type\":\"CrosshairTool\"}]},\"id\":\"97962350-9293-46b3-9199-ed6eac528810\",\"type\":\"Toolbar\"},{\"attributes\":{\"line_color\":{\"value\":\"red\"},\"x\":{\"field\":\"x\"},\"y\":{\"field\":\"y\"}},\"id\":\"abad1ce6-e9ee-4251-bbc2-f45f21ba3775\",\"type\":\"Line\"},{\"attributes\":{\"plot\":null,\"text\":\"mean free sulfur dioxide vs. quality\"},\"id\":\"a93b73ef-b55a-4d87-ad0f-71e42de48d15\",\"type\":\"Title\"},{\"attributes\":{\"line_color\":{\"value\":\"red\"},\"x\":{\"field\":\"x\"},\"y\":{\"field\":\"y\"}},\"id\":\"2f782c6f-3e9a-4303-ade6-0124657b9d84\",\"type\":\"Line\"},{\"attributes\":{\"callback\":null},\"id\":\"92ee45f1-24e4-4162-8165-339afec45344\",\"type\":\"DataRange1d\"},{\"attributes\":{\"active_drag\":\"auto\",\"active_scroll\":\"auto\",\"active_tap\":\"auto\",\"tools\":[{\"id\":\"11c533f1-4f01-43eb-a779-ba2e50e650aa\",\"type\":\"HoverTool\"},{\"id\":\"3fcf8acf-dc05-4286-bd17-c3b43838d6a4\",\"type\":\"ResetTool\"},{\"id\":\"58167dcb-b13e-4512-b9b9-197a76c08ce5\",\"type\":\"CrosshairTool\"}]},\"id\":\"4e4548cb-dd91-4f74-bb60-56b3ea0431bd\",\"type\":\"Toolbar\"},{\"attributes\":{\"line_color\":{\"value\":\"green\"},\"x\":{\"field\":\"x\"},\"y\":{\"field\":\"y\"}},\"id\":\"f4540976-a07c-4216-8d7c-054a18775cb0\",\"type\":\"Line\"},{\"attributes\":{\"axis_label\":\"quality\",\"formatter\":{\"id\":\"44e20b1f-5fbc-442e-8ada-0b61cd34b343\",\"type\":\"BasicTickFormatter\"},\"plot\":{\"id\":\"6370630f-3d03-40d5-953e-050e9676e434\",\"subtype\":\"Figure\",\"type\":\"Plot\"},\"ticker\":{\"id\":\"6c7b080d-f7e1-4d8e-a88b-17aadc9b3564\",\"type\":\"BasicTicker\"}},\"id\":\"7fad58cb-da2f-45f9-b420-e2e662cdcc72\",\"type\":\"LinearAxis\"},{\"attributes\":{\"below\":[{\"id\":\"70d23b44-2376-48a4-9fb0-66c435eac78d\",\"type\":\"LinearAxis\"}],\"left\":[{\"id\":\"95b72b9b-054c-4a51-a91a-3eb8b0272302\",\"type\":\"LinearAxis\"}],\"plot_height\":300,\"plot_width\":300,\"renderers\":[{\"id\":\"70d23b44-2376-48a4-9fb0-66c435eac78d\",\"type\":\"LinearAxis\"},{\"id\":\"02bf1d35-9c94-4b32-8299-0f4705032c18\",\"type\":\"Grid\"},{\"id\":\"95b72b9b-054c-4a51-a91a-3eb8b0272302\",\"type\":\"LinearAxis\"},{\"id\":\"448abc1b-42c8-429e-91b8-f9ab19d04584\",\"type\":\"Grid\"},{\"id\":\"9d8e8920-595c-4d22-a214-a8f0dc537f6e\",\"type\":\"Legend\"},{\"id\":\"7969c82e-0932-4a47-9f74-11b6ea2ba7cc\",\"type\":\"GlyphRenderer\"},{\"id\":\"8d11c896-ac67-42f8-8fa9-66d8f83687ea\",\"type\":\"GlyphRenderer\"}],\"title\":{\"id\":\"feeb5a74-5bea-422a-8cd4-d380887ac5b9\",\"type\":\"Title\"},\"tool_events\":{\"id\":\"0918ca14-9b42-45a5-b9e4-319055cc2d77\",\"type\":\"ToolEvents\"},\"toolbar\":{\"id\":\"e4602266-e78f-4d01-bbbb-fe874da23b0e\",\"type\":\"Toolbar\"},\"toolbar_location\":null,\"x_range\":{\"id\":\"7fac08be-1509-4ad4-a6b0-a7f8c7b382e9\",\"type\":\"DataRange1d\"},\"y_range\":{\"id\":\"714ae8f9-32a3-410b-b335-c041505518fd\",\"type\":\"DataRange1d\"}},\"id\":\"baf1e452-72b1-4134-874d-0cee43010931\",\"subtype\":\"Figure\",\"type\":\"Plot\"},{\"attributes\":{},\"id\":\"0918ca14-9b42-45a5-b9e4-319055cc2d77\",\"type\":\"ToolEvents\"},{\"attributes\":{\"data_source\":{\"id\":\"95a0a15e-0de3-49d8-8fca-1ea4c9556f00\",\"type\":\"ColumnDataSource\"},\"glyph\":{\"id\":\"2ab08d94-d79d-41a5-8d3c-833b36f8ef9a\",\"type\":\"Line\"},\"hover_glyph\":null,\"nonselection_glyph\":{\"id\":\"c7fceb7e-b9c4-43b1-8057-4fbf504aa342\",\"type\":\"Line\"},\"selection_glyph\":null},\"id\":\"e7d764b1-7a08-4dde-b7d3-49455446b6ee\",\"type\":\"GlyphRenderer\"},{\"attributes\":{\"axis_label\":\"quality\",\"formatter\":{\"id\":\"718540c8-7f23-439c-a5f6-ba0063fb0d93\",\"type\":\"BasicTickFormatter\"},\"plot\":{\"id\":\"320c1519-ab6f-47a0-8f22-1e4fe063ed2d\",\"subtype\":\"Figure\",\"type\":\"Plot\"},\"ticker\":{\"id\":\"4c6b79e2-bf39-4a18-9d7c-7154100196e9\",\"type\":\"BasicTicker\"}},\"id\":\"92675597-ea92-4389-9377-40bc5e32becc\",\"type\":\"LinearAxis\"},{\"attributes\":{},\"id\":\"dabb26e4-352c-490d-b866-bdf94cdd846d\",\"type\":\"BasicTicker\"},{\"attributes\":{\"legends\":[[\"white\",[{\"id\":\"8ab40552-1e1e-4d2e-a143-7df5994500f2\",\"type\":\"GlyphRenderer\"}]],[\"red\",[{\"id\":\"c1a8a1e2-b364-4c1b-bb5d-d4f5a7fa33cb\",\"type\":\"GlyphRenderer\"}]]],\"location\":\"top_left\",\"plot\":{\"id\":\"88f33297-243f-4d82-9ec9-13388f7ed41e\",\"subtype\":\"Figure\",\"type\":\"Plot\"}},\"id\":\"09bd80b6-2c54-465b-9e6f-0811ccb0ac9b\",\"type\":\"Legend\"},{\"attributes\":{\"axis_label\":\"chlorides\",\"formatter\":{\"id\":\"b9b98dfb-e612-41c1-bfa7-d4fb4c9f8b15\",\"type\":\"BasicTickFormatter\"},\"plot\":{\"id\":\"88f33297-243f-4d82-9ec9-13388f7ed41e\",\"subtype\":\"Figure\",\"type\":\"Plot\"},\"ticker\":{\"id\":\"90e0b949-2199-4263-b410-c7296ac87566\",\"type\":\"BasicTicker\"}},\"id\":\"74c5d16b-7666-4d44-a638-46e30650f5fc\",\"type\":\"LinearAxis\"},{\"attributes\":{\"plot\":null,\"text\":\"mean fixed acidity vs. quality\"},\"id\":\"df04ad00-2d20-4ff4-bbe0-98ee7a4e87c8\",\"type\":\"Title\"},{\"attributes\":{\"plot\":null,\"text\":\"mean residual sugar vs. quality\"},\"id\":\"feeb5a74-5bea-422a-8cd4-d380887ac5b9\",\"type\":\"Title\"},{\"attributes\":{},\"id\":\"0a12d198-e9dc-4d0e-b883-2a63af9e7d9c\",\"type\":\"BasicTickFormatter\"},{\"attributes\":{\"dimension\":1,\"plot\":{\"id\":\"88f33297-243f-4d82-9ec9-13388f7ed41e\",\"subtype\":\"Figure\",\"type\":\"Plot\"},\"ticker\":{\"id\":\"90e0b949-2199-4263-b410-c7296ac87566\",\"type\":\"BasicTicker\"}},\"id\":\"1872437b-b4c4-498c-bd67-25800bea3cdf\",\"type\":\"Grid\"},{\"attributes\":{\"callback\":null},\"id\":\"7fac08be-1509-4ad4-a6b0-a7f8c7b382e9\",\"type\":\"DataRange1d\"},{\"attributes\":{\"plot\":{\"id\":\"6370630f-3d03-40d5-953e-050e9676e434\",\"subtype\":\"Figure\",\"type\":\"Plot\"},\"ticker\":{\"id\":\"6c7b080d-f7e1-4d8e-a88b-17aadc9b3564\",\"type\":\"BasicTicker\"}},\"id\":\"1ff21e56-7c46-4896-8b49-d1ce8f65f7d5\",\"type\":\"Grid\"},{\"attributes\":{\"line_alpha\":{\"value\":0.1},\"line_color\":{\"value\":\"#1f77b4\"},\"x\":{\"field\":\"x\"},\"y\":{\"field\":\"y\"}},\"id\":\"f7a71fc2-ea87-4a54-bfdc-001bf5225502\",\"type\":\"Line\"},{\"attributes\":{\"legends\":[[\"white\",[{\"id\":\"f330111e-3fd8-4d3b-8132-600210961807\",\"type\":\"GlyphRenderer\"}]],[\"red\",[{\"id\":\"67eaaa8c-6e11-4cfd-bd54-1f5ffbe6dd11\",\"type\":\"GlyphRenderer\"}]]],\"location\":\"top_left\",\"plot\":{\"id\":\"320c1519-ab6f-47a0-8f22-1e4fe063ed2d\",\"subtype\":\"Figure\",\"type\":\"Plot\"}},\"id\":\"a34159c3-faaf-4e84-b04b-fe98146f198d\",\"type\":\"Legend\"},{\"attributes\":{\"plot\":{\"id\":\"320c1519-ab6f-47a0-8f22-1e4fe063ed2d\",\"subtype\":\"Figure\",\"type\":\"Plot\"}},\"id\":\"9eb9cc50-f1d5-4cee-a117-237aa93b8b5d\",\"type\":\"CrosshairTool\"},{\"attributes\":{},\"id\":\"4c6b79e2-bf39-4a18-9d7c-7154100196e9\",\"type\":\"BasicTicker\"}],\"root_ids\":[\"08a893ed-5966-45b2-9a1c-25743e647614\"]},\"title\":\"Bokeh Application\",\"version\":\"0.12.0\"}};\n",
       "            var render_items = [{\"docid\":\"d4283087-ba99-4c98-8f66-b3b25fa9d89b\",\"elementid\":\"f52ca627-05cb-4d07-8fd5-1e508a2eae0f\",\"modelid\":\"08a893ed-5966-45b2-9a1c-25743e647614\",\"notebook_comms_target\":\"30122c56-4683-4e34-962c-ba5f7989a685\"}];\n",
       "            \n",
       "            Bokeh.embed.embed_items(docs_json, render_items);\n",
       "        });\n",
       "      },\n",
       "      function(Bokeh) {\n",
       "      }\n",
       "    ];\n",
       "  \n",
       "    function run_inline_js() {\n",
       "      for (var i = 0; i < inline_js.length; i++) {\n",
       "        inline_js[i](window.Bokeh);\n",
       "      }\n",
       "    }\n",
       "  \n",
       "    if (window._bokeh_is_loading === 0) {\n",
       "      console.log(\"Bokeh: BokehJS loaded, going straight to plotting\");\n",
       "      run_inline_js();\n",
       "    } else {\n",
       "      load_libs(js_urls, function() {\n",
       "        console.log(\"Bokeh: BokehJS plotting callback run at\", now());\n",
       "        run_inline_js();\n",
       "      });\n",
       "    }\n",
       "  }(this));\n",
       "</script>"
      ]
     },
     "metadata": {},
     "output_type": "display_data"
    },
    {
     "name": "stderr",
     "output_type": "stream",
     "text": [
      "/Users/ericalonas/anaconda/envs/py35/lib/python3.5/site-packages/bokeh/io.py:420: UserWarning: save() called but no resources were supplied and output_file(...) was never called, defaulting to resources.CDN\n",
      "  warnings.warn(\"save() called but no resources were supplied and output_file(...) was never called, defaulting to resources.CDN\")\n"
     ]
    },
    {
     "data": {
      "text/plain": [
       "'/Users/ericalonas/Documents/Insight-Interview/plot2'"
      ]
     },
     "execution_count": 22,
     "metadata": {},
     "output_type": "execute_result"
    }
   ],
   "source": [
    "red_y = np.array([])\n",
    "white_y = np.array([])\n",
    "red_x = np.array([])\n",
    "white_x = np.array([])\n",
    "\n",
    "plot_list = list()\n",
    "\n",
    "key_subset = comp_data.keys().drop(['quality', 'white?'])\n",
    "\n",
    "for key_sub in key_subset:\n",
    "    red_y = np.array([])\n",
    "    white_y = np.array([])\n",
    "    red_x = np.array([])\n",
    "    white_x = np.array([])\n",
    "    for i,j in itertools.product(comp_data['white?'].unique(), comp_data['quality'].unique()):\n",
    "        subset=comp_data[(comp_data['white?']==i)&(comp_data['quality']==j)]\n",
    "        #print(subset.head())\n",
    "        if i==1:\n",
    "            mean=subset[key_sub].mean()\n",
    "            white_y=np.append(white_y,mean)\n",
    "            white_x=np.append(white_x,j)\n",
    "        if i==0:\n",
    "            mean=subset[key_sub].mean()\n",
    "            red_y=np.append(red_y,mean)\n",
    "            red_x=np.append(red_x,j)\n",
    "\n",
    "    sorted_white= np.sort([white_x, white_y])\n",
    "\n",
    "    sorted_red = np.sort([red_x, red_y])\n",
    "\n",
    "    TOOLS = 'hover, reset, crosshair'\n",
    "    p = figure(plot_width=300, plot_height=300, tools=TOOLS)\n",
    "    \n",
    "    p.line(sorted_white[0], sorted_white[1], color = 'green', legend = 'white')\n",
    "    p.line(sorted_red[0], sorted_red[1], color='red', legend = 'red')\n",
    "    p.axis[0].axis_label='quality'\n",
    "    p.axis[1].axis_label= key_sub\n",
    "    p.title.text = 'mean %s vs. quality' %(key_sub)\n",
    "    p.legend.location = 'top_left'\n",
    "    \n",
    "    plot_list.append(p)\n",
    "\n",
    "p3=gridplot([plot_list[0:3], plot_list[3:6]])\n",
    "show(p3)\n",
    "bplt.save(p3,filename = 'plot2', title = 'Red/White Wine Parameter Graphs')"
   ]
  },
  {
   "cell_type": "code",
   "execution_count": 24,
   "metadata": {
    "collapsed": false
   },
   "outputs": [
    {
     "data": {
      "text/html": [
       "\n",
       "\n",
       "    <div class=\"bk-root\">\n",
       "        <div class=\"plotdiv\" id=\"1f6f0b01-4ec0-42fd-afab-a0d82093ff4f\"></div>\n",
       "    </div>\n",
       "<script type=\"text/javascript\">\n",
       "  \n",
       "  (function(global) {\n",
       "    function now() {\n",
       "      return new Date();\n",
       "    }\n",
       "  \n",
       "    if (typeof (window._bokeh_onload_callbacks) === \"undefined\") {\n",
       "      window._bokeh_onload_callbacks = [];\n",
       "    }\n",
       "  \n",
       "    function run_callbacks() {\n",
       "      window._bokeh_onload_callbacks.forEach(function(callback) { callback() });\n",
       "      delete window._bokeh_onload_callbacks\n",
       "      console.info(\"Bokeh: all callbacks have finished\");\n",
       "    }\n",
       "  \n",
       "    function load_libs(js_urls, callback) {\n",
       "      window._bokeh_onload_callbacks.push(callback);\n",
       "      if (window._bokeh_is_loading > 0) {\n",
       "        console.log(\"Bokeh: BokehJS is being loaded, scheduling callback at\", now());\n",
       "        return null;\n",
       "      }\n",
       "      if (js_urls == null || js_urls.length === 0) {\n",
       "        run_callbacks();\n",
       "        return null;\n",
       "      }\n",
       "      console.log(\"Bokeh: BokehJS not loaded, scheduling load and callback at\", now());\n",
       "      window._bokeh_is_loading = js_urls.length;\n",
       "      for (var i = 0; i < js_urls.length; i++) {\n",
       "        var url = js_urls[i];\n",
       "        var s = document.createElement('script');\n",
       "        s.src = url;\n",
       "        s.async = false;\n",
       "        s.onreadystatechange = s.onload = function() {\n",
       "          window._bokeh_is_loading--;\n",
       "          if (window._bokeh_is_loading === 0) {\n",
       "            console.log(\"Bokeh: all BokehJS libraries loaded\");\n",
       "            run_callbacks()\n",
       "          }\n",
       "        };\n",
       "        s.onerror = function() {\n",
       "          console.warn(\"failed to load library \" + url);\n",
       "        };\n",
       "        console.log(\"Bokeh: injecting script tag for BokehJS library: \", url);\n",
       "        document.getElementsByTagName(\"head\")[0].appendChild(s);\n",
       "      }\n",
       "    };var element = document.getElementById(\"1f6f0b01-4ec0-42fd-afab-a0d82093ff4f\");\n",
       "    if (element == null) {\n",
       "      console.log(\"Bokeh: ERROR: autoload.js configured with elementid '1f6f0b01-4ec0-42fd-afab-a0d82093ff4f' but no matching script tag was found. \")\n",
       "      return false;\n",
       "    }\n",
       "  \n",
       "    var js_urls = [];\n",
       "  \n",
       "    var inline_js = [\n",
       "      function(Bokeh) {\n",
       "        Bokeh.$(function() {\n",
       "            var docs_json = {\"b7135ec2-affe-42a3-bf36-a54b0b1adbb4\":{\"roots\":{\"references\":[{\"attributes\":{\"callback\":null,\"column_names\":[\"y\",\"x\"],\"data\":{\"x\":[3.0,4.0,5.0,6.0,7.0,8.0,9.0],\"y\":[0.99146,0.9922359428571438,0.9924523977272738,0.9939613489535942,0.9942766871165644,0.9948840000000002,0.9952625703500351]}},\"id\":\"8e8af4f7-bdeb-4b6b-a148-31ae71f5e99c\",\"type\":\"ColumnDataSource\"},{\"attributes\":{},\"id\":\"dc352fd6-98df-47bf-8d65-1b91812ad194\",\"type\":\"BasicTickFormatter\"},{\"attributes\":{\"axis_label\":\"pH\",\"formatter\":{\"id\":\"dc352fd6-98df-47bf-8d65-1b91812ad194\",\"type\":\"BasicTickFormatter\"},\"plot\":{\"id\":\"aa38bf69-6a43-4566-844b-626bd9609531\",\"subtype\":\"Figure\",\"type\":\"Plot\"},\"ticker\":{\"id\":\"90d9051a-2d64-4ef9-abac-377e0f89b5da\",\"type\":\"BasicTicker\"}},\"id\":\"d03b3a0c-f245-4a80-b7b9-527d86f2618d\",\"type\":\"LinearAxis\"},{\"attributes\":{\"line_color\":{\"value\":\"green\"},\"x\":{\"field\":\"x\"},\"y\":{\"field\":\"y\"}},\"id\":\"d0a6e7ef-37ee-4bbf-9260-27e90b0a1927\",\"type\":\"Line\"},{\"attributes\":{\"data_source\":{\"id\":\"71603c4a-00ce-4614-813e-1e3065470acb\",\"type\":\"ColumnDataSource\"},\"glyph\":{\"id\":\"c168928d-2f05-4147-af71-6460d5ca6c15\",\"type\":\"Line\"},\"hover_glyph\":null,\"nonselection_glyph\":{\"id\":\"6c23a075-f9f9-4715-9fa2-d8ff582280fc\",\"type\":\"Line\"},\"selection_glyph\":null},\"id\":\"cfc59e77-0acc-4484-b09f-a6d61b9ed1de\",\"type\":\"GlyphRenderer\"},{\"attributes\":{},\"id\":\"e855d4e4-87a1-41ca-8f88-5d5a2adf0df1\",\"type\":\"BasicTickFormatter\"},{\"attributes\":{\"axis_label\":\"total sulfur dioxide\",\"formatter\":{\"id\":\"63cf50d1-e973-47bc-8d79-2a0e795b6bc3\",\"type\":\"BasicTickFormatter\"},\"plot\":{\"id\":\"ba3fa385-115d-445f-96bc-52914d6e1d7a\",\"subtype\":\"Figure\",\"type\":\"Plot\"},\"ticker\":{\"id\":\"fdeb5958-7142-41dc-ba68-2dcba3b9f7f7\",\"type\":\"BasicTicker\"}},\"id\":\"b33082b6-fcc1-40ea-83d5-ffbde9385bc0\",\"type\":\"LinearAxis\"},{\"attributes\":{\"data_source\":{\"id\":\"97905d3b-6e31-420d-a32a-89095a134743\",\"type\":\"ColumnDataSource\"},\"glyph\":{\"id\":\"188c6f74-bbd1-44c5-aa31-0a0c343c1d1b\",\"type\":\"Line\"},\"hover_glyph\":null,\"nonselection_glyph\":{\"id\":\"fa8679c2-7e2f-4963-a036-2a741477bcfc\",\"type\":\"Line\"},\"selection_glyph\":null},\"id\":\"ed300153-11a4-43f9-b454-1abb2caff0f6\",\"type\":\"GlyphRenderer\"},{\"attributes\":{\"axis_label\":\"quality\",\"formatter\":{\"id\":\"ae732ea1-ca14-4fdb-9af3-0d43556127d6\",\"type\":\"BasicTickFormatter\"},\"plot\":{\"id\":\"87e97dee-6961-48f9-a1c6-a3a7986b3466\",\"subtype\":\"Figure\",\"type\":\"Plot\"},\"ticker\":{\"id\":\"73329dde-f973-49b6-b4c6-42f7185631b6\",\"type\":\"BasicTicker\"}},\"id\":\"c3c0af40-b837-425a-acde-a385721cf28b\",\"type\":\"LinearAxis\"},{\"attributes\":{\"line_color\":{\"value\":\"red\"},\"x\":{\"field\":\"x\"},\"y\":{\"field\":\"y\"}},\"id\":\"d64665a3-b4b4-4c99-b10e-37369e1ef421\",\"type\":\"Line\"},{\"attributes\":{},\"id\":\"0f347a3b-96b5-4a0c-9050-ceaeaf450d67\",\"type\":\"ToolEvents\"},{\"attributes\":{\"callback\":null},\"id\":\"2dffedc1-36b9-4bcd-a00c-1f0e2f4ca4bf\",\"type\":\"DataRange1d\"},{\"attributes\":{},\"id\":\"b8cb5556-182e-405e-874b-8af82c579815\",\"type\":\"BasicTicker\"},{\"attributes\":{\"legends\":[[\"white\",[{\"id\":\"fb96638c-a447-4c04-bb36-fa299c468c90\",\"type\":\"GlyphRenderer\"}]],[\"red\",[{\"id\":\"1809e32a-d4fe-46af-b49c-19760d7997b8\",\"type\":\"GlyphRenderer\"}]]],\"location\":\"top_left\",\"plot\":{\"id\":\"824490eb-96df-4417-ba9d-4df625bb2f3c\",\"subtype\":\"Figure\",\"type\":\"Plot\"}},\"id\":\"cef20c1b-0a09-4f86-b344-0e7e8c26215d\",\"type\":\"Legend\"},{\"attributes\":{},\"id\":\"236d9174-9d1e-41c5-93c3-faf7e084ef33\",\"type\":\"BasicTickFormatter\"},{\"attributes\":{\"axis_label\":\"alcohol\",\"formatter\":{\"id\":\"e855d4e4-87a1-41ca-8f88-5d5a2adf0df1\",\"type\":\"BasicTickFormatter\"},\"plot\":{\"id\":\"ff34bcac-fa2a-44c4-ad1c-db63ded5953c\",\"subtype\":\"Figure\",\"type\":\"Plot\"},\"ticker\":{\"id\":\"d80acbe5-531c-4070-82c5-2d62a95075e8\",\"type\":\"BasicTicker\"}},\"id\":\"45d17fe6-9859-43af-b083-13be519fec88\",\"type\":\"LinearAxis\"},{\"attributes\":{},\"id\":\"8254e401-9e1b-441e-aa13-16b7dc7d4886\",\"type\":\"BasicTickFormatter\"},{\"attributes\":{\"line_color\":{\"value\":\"green\"},\"x\":{\"field\":\"x\"},\"y\":{\"field\":\"y\"}},\"id\":\"7a8ae077-56aa-4f81-a5d3-4fb382aea007\",\"type\":\"Line\"},{\"attributes\":{\"line_color\":{\"value\":\"red\"},\"x\":{\"field\":\"x\"},\"y\":{\"field\":\"y\"}},\"id\":\"c168928d-2f05-4147-af71-6460d5ca6c15\",\"type\":\"Line\"},{\"attributes\":{\"legends\":[[\"white\",[{\"id\":\"e77b1b22-6a32-4f82-91bd-e92c89393575\",\"type\":\"GlyphRenderer\"}]],[\"red\",[{\"id\":\"60d11e64-3f1d-4a3d-8840-37ddd9d08e3f\",\"type\":\"GlyphRenderer\"}]]],\"location\":\"top_left\",\"plot\":{\"id\":\"ff34bcac-fa2a-44c4-ad1c-db63ded5953c\",\"subtype\":\"Figure\",\"type\":\"Plot\"}},\"id\":\"9cfb07a3-6d33-48b9-a08a-c9d1b2b940f5\",\"type\":\"Legend\"},{\"attributes\":{\"line_alpha\":{\"value\":0.1},\"line_color\":{\"value\":\"#1f77b4\"},\"x\":{\"field\":\"x\"},\"y\":{\"field\":\"y\"}},\"id\":\"b6176a66-ea26-40c1-ba48-1de5ec1e7ecc\",\"type\":\"Line\"},{\"attributes\":{\"below\":[{\"id\":\"1fb731ca-b99b-4400-a05d-17c0164dfd6f\",\"type\":\"LinearAxis\"}],\"left\":[{\"id\":\"b33082b6-fcc1-40ea-83d5-ffbde9385bc0\",\"type\":\"LinearAxis\"}],\"plot_height\":300,\"plot_width\":300,\"renderers\":[{\"id\":\"1fb731ca-b99b-4400-a05d-17c0164dfd6f\",\"type\":\"LinearAxis\"},{\"id\":\"5db5dfe8-4b8d-46d8-bd8f-77ace263d1a2\",\"type\":\"Grid\"},{\"id\":\"b33082b6-fcc1-40ea-83d5-ffbde9385bc0\",\"type\":\"LinearAxis\"},{\"id\":\"70dd480e-8f67-4e08-8d01-ee516d5ce011\",\"type\":\"Grid\"},{\"id\":\"08c23a37-5e13-4d61-bfc7-9fe588d7b536\",\"type\":\"Legend\"},{\"id\":\"2e103d6e-ad35-40ac-964e-b7685196de32\",\"type\":\"GlyphRenderer\"},{\"id\":\"ed300153-11a4-43f9-b454-1abb2caff0f6\",\"type\":\"GlyphRenderer\"}],\"title\":{\"id\":\"83339c66-8080-4ff0-8b53-42dd419f74f5\",\"type\":\"Title\"},\"tool_events\":{\"id\":\"0f347a3b-96b5-4a0c-9050-ceaeaf450d67\",\"type\":\"ToolEvents\"},\"toolbar\":{\"id\":\"fbea46e2-b0c4-43f5-9b12-151a00a6b480\",\"type\":\"Toolbar\"},\"toolbar_location\":null,\"x_range\":{\"id\":\"5a0a5179-5b64-453e-bf24-f9ed5e67462d\",\"type\":\"DataRange1d\"},\"y_range\":{\"id\":\"11103f83-3321-4a41-81ee-f75e3c93916a\",\"type\":\"DataRange1d\"}},\"id\":\"ba3fa385-115d-445f-96bc-52914d6e1d7a\",\"subtype\":\"Figure\",\"type\":\"Plot\"},{\"attributes\":{},\"id\":\"2cab2ed9-3a47-4e93-9de7-0c2ff4487e88\",\"type\":\"ToolEvents\"},{\"attributes\":{},\"id\":\"ae732ea1-ca14-4fdb-9af3-0d43556127d6\",\"type\":\"BasicTickFormatter\"},{\"attributes\":{\"callback\":null,\"plot\":{\"id\":\"aa38bf69-6a43-4566-844b-626bd9609531\",\"subtype\":\"Figure\",\"type\":\"Plot\"}},\"id\":\"bab31882-b40c-42dc-9094-c3ba804473bf\",\"type\":\"HoverTool\"},{\"attributes\":{\"data_source\":{\"id\":\"0de55d91-fa46-4f57-9314-1e252aa76b49\",\"type\":\"ColumnDataSource\"},\"glyph\":{\"id\":\"d0a6e7ef-37ee-4bbf-9260-27e90b0a1927\",\"type\":\"Line\"},\"hover_glyph\":null,\"nonselection_glyph\":{\"id\":\"a5a864c1-cc18-45f4-ae79-8e7c2c4bf3b1\",\"type\":\"Line\"},\"selection_glyph\":null},\"id\":\"2e103d6e-ad35-40ac-964e-b7685196de32\",\"type\":\"GlyphRenderer\"},{\"attributes\":{\"line_alpha\":{\"value\":0.1},\"line_color\":{\"value\":\"#1f77b4\"},\"x\":{\"field\":\"x\"},\"y\":{\"field\":\"y\"}},\"id\":\"2aba3b09-4d5c-4f42-b02b-adc5a225fb52\",\"type\":\"Line\"},{\"attributes\":{\"callback\":null,\"column_names\":[\"y\",\"x\"],\"data\":{\"x\":[3.0,4.0,5.0,6.0,7.0,8.0,9.0],\"y\":[0.5700000000000001,0.5964150943396227,0.6209691629955947,0.6753291536050158,0.7412562814070353,0.7677777777777778,\"NaN\"]}},\"id\":\"efe3cd44-f4b5-49b3-aacf-4fa6501d40a6\",\"type\":\"ColumnDataSource\"},{\"attributes\":{},\"id\":\"63cf50d1-e973-47bc-8d79-2a0e795b6bc3\",\"type\":\"BasicTickFormatter\"},{\"attributes\":{\"plot\":{\"id\":\"ff34bcac-fa2a-44c4-ad1c-db63ded5953c\",\"subtype\":\"Figure\",\"type\":\"Plot\"}},\"id\":\"c7f1a8c5-c48c-4463-9947-297fae619246\",\"type\":\"ResetTool\"},{\"attributes\":{},\"id\":\"08e557fd-448a-44aa-8454-048e9a51d05d\",\"type\":\"ToolEvents\"},{\"attributes\":{},\"id\":\"d80acbe5-531c-4070-82c5-2d62a95075e8\",\"type\":\"BasicTicker\"},{\"attributes\":{\"plot\":{\"id\":\"87e97dee-6961-48f9-a1c6-a3a7986b3466\",\"subtype\":\"Figure\",\"type\":\"Plot\"}},\"id\":\"c766f585-98ec-49b9-a8ac-864fbc2df7d8\",\"type\":\"CrosshairTool\"},{\"attributes\":{},\"id\":\"963be89e-b6fb-4a1d-a3f1-8255892c2f5d\",\"type\":\"BasicTickFormatter\"},{\"attributes\":{},\"id\":\"504ba99e-bbbb-407e-8cf2-75dbdf8095cb\",\"type\":\"BasicTicker\"},{\"attributes\":{\"line_alpha\":{\"value\":0.1},\"line_color\":{\"value\":\"#1f77b4\"},\"x\":{\"field\":\"x\"},\"y\":{\"field\":\"y\"}},\"id\":\"d12fdbd9-8a42-4cad-b4f1-39e1ce9046fb\",\"type\":\"Line\"},{\"attributes\":{\"children\":[{\"id\":\"824490eb-96df-4417-ba9d-4df625bb2f3c\",\"subtype\":\"Figure\",\"type\":\"Plot\"},{\"id\":\"ff34bcac-fa2a-44c4-ad1c-db63ded5953c\",\"subtype\":\"Figure\",\"type\":\"Plot\"}]},\"id\":\"3470e2f9-1a93-40da-a726-7960fbe7b1e0\",\"type\":\"Row\"},{\"attributes\":{},\"id\":\"5b04a7d7-a1f9-4964-8153-be958fd55e64\",\"type\":\"BasicTicker\"},{\"attributes\":{\"callback\":null},\"id\":\"54834c66-8b18-4c6e-826c-013ed5d01bfb\",\"type\":\"DataRange1d\"},{\"attributes\":{\"plot\":{\"id\":\"ba3fa385-115d-445f-96bc-52914d6e1d7a\",\"subtype\":\"Figure\",\"type\":\"Plot\"},\"ticker\":{\"id\":\"5b04a7d7-a1f9-4964-8153-be958fd55e64\",\"type\":\"BasicTicker\"}},\"id\":\"5db5dfe8-4b8d-46d8-bd8f-77ace263d1a2\",\"type\":\"Grid\"},{\"attributes\":{\"data_source\":{\"id\":\"7030f6f6-ed84-466a-a614-fde4689efb71\",\"type\":\"ColumnDataSource\"},\"glyph\":{\"id\":\"55d91ecc-e63c-42ee-9d79-55c210843d3e\",\"type\":\"Line\"},\"hover_glyph\":null,\"nonselection_glyph\":{\"id\":\"b6176a66-ea26-40c1-ba48-1de5ec1e7ecc\",\"type\":\"Line\"},\"selection_glyph\":null},\"id\":\"fb96638c-a447-4c04-bb36-fa299c468c90\",\"type\":\"GlyphRenderer\"},{\"attributes\":{\"below\":[{\"id\":\"c3c0af40-b837-425a-acde-a385721cf28b\",\"type\":\"LinearAxis\"}],\"left\":[{\"id\":\"c2e181a5-a22a-4a6a-a516-f3a519625f3a\",\"type\":\"LinearAxis\"}],\"plot_height\":300,\"plot_width\":300,\"renderers\":[{\"id\":\"c3c0af40-b837-425a-acde-a385721cf28b\",\"type\":\"LinearAxis\"},{\"id\":\"e29fd4ed-fae1-4b6e-814e-dfac0445a883\",\"type\":\"Grid\"},{\"id\":\"c2e181a5-a22a-4a6a-a516-f3a519625f3a\",\"type\":\"LinearAxis\"},{\"id\":\"780ca8d7-407a-4715-9f7d-3ea50f7947ec\",\"type\":\"Grid\"},{\"id\":\"fadb21b5-b9e8-4bdb-a48e-84e0d084227d\",\"type\":\"Legend\"},{\"id\":\"d30cb3ef-2b0c-4850-99bc-3223d3f1feef\",\"type\":\"GlyphRenderer\"},{\"id\":\"de79f9d3-a505-46f9-aca6-288383fee547\",\"type\":\"GlyphRenderer\"}],\"title\":{\"id\":\"ab4743ef-e8c5-4ec5-ac71-ee7ced6ee785\",\"type\":\"Title\"},\"tool_events\":{\"id\":\"2cab2ed9-3a47-4e93-9de7-0c2ff4487e88\",\"type\":\"ToolEvents\"},\"toolbar\":{\"id\":\"0a4bcec0-7526-4fd1-bd91-2991abd85ebf\",\"type\":\"Toolbar\"},\"toolbar_location\":null,\"x_range\":{\"id\":\"e9516ebb-785e-4a23-8ae6-d24603b83218\",\"type\":\"DataRange1d\"},\"y_range\":{\"id\":\"960d196f-8579-4184-bbc6-bd883efa4d49\",\"type\":\"DataRange1d\"}},\"id\":\"87e97dee-6961-48f9-a1c6-a3a7986b3466\",\"subtype\":\"Figure\",\"type\":\"Plot\"},{\"attributes\":{\"line_color\":{\"value\":\"green\"},\"x\":{\"field\":\"x\"},\"y\":{\"field\":\"y\"}},\"id\":\"55d91ecc-e63c-42ee-9d79-55c210843d3e\",\"type\":\"Line\"},{\"attributes\":{\"dimension\":1,\"plot\":{\"id\":\"ff34bcac-fa2a-44c4-ad1c-db63ded5953c\",\"subtype\":\"Figure\",\"type\":\"Plot\"},\"ticker\":{\"id\":\"d80acbe5-531c-4070-82c5-2d62a95075e8\",\"type\":\"BasicTicker\"}},\"id\":\"ce52f0fc-9f7f-4a5d-91c3-a265807b5956\",\"type\":\"Grid\"},{\"attributes\":{\"callback\":null,\"column_names\":[\"y\",\"x\"],\"data\":{\"x\":[3.0,4.0,5.0,6.0,7.0,8.0,9.0],\"y\":[116.0,125.11477272727272,125.27914110429448,126.16571428571429,137.04731574158325,150.90459849004804,170.6]}},\"id\":\"0de55d91-fa46-4f57-9314-1e252aa76b49\",\"type\":\"ColumnDataSource\"},{\"attributes\":{\"plot\":{\"id\":\"87e97dee-6961-48f9-a1c6-a3a7986b3466\",\"subtype\":\"Figure\",\"type\":\"Plot\"}},\"id\":\"ad946d89-918c-4e64-a78a-e31fe0b63915\",\"type\":\"ResetTool\"},{\"attributes\":{\"plot\":null,\"text\":\"mean alcohol vs. quality\"},\"id\":\"2c1f6534-3a08-4cb6-b5df-91b5e129ce2b\",\"type\":\"Title\"},{\"attributes\":{\"callback\":null},\"id\":\"6ae625e5-791f-4593-8076-37f20673eb41\",\"type\":\"DataRange1d\"},{\"attributes\":{\"plot\":{\"id\":\"aa38bf69-6a43-4566-844b-626bd9609531\",\"subtype\":\"Figure\",\"type\":\"Plot\"}},\"id\":\"c7bb9f15-80fe-4a9c-b7e3-83b1e74f469e\",\"type\":\"ResetTool\"},{\"attributes\":{\"data_source\":{\"id\":\"8e8af4f7-bdeb-4b6b-a148-31ae71f5e99c\",\"type\":\"ColumnDataSource\"},\"glyph\":{\"id\":\"89a06352-7c62-474e-90bc-3678ba4e77b4\",\"type\":\"Line\"},\"hover_glyph\":null,\"nonselection_glyph\":{\"id\":\"d12fdbd9-8a42-4cad-b4f1-39e1ce9046fb\",\"type\":\"Line\"},\"selection_glyph\":null},\"id\":\"d30cb3ef-2b0c-4850-99bc-3223d3f1feef\",\"type\":\"GlyphRenderer\"},{\"attributes\":{\"line_alpha\":{\"value\":0.1},\"line_color\":{\"value\":\"#1f77b4\"},\"x\":{\"field\":\"x\"},\"y\":{\"field\":\"y\"}},\"id\":\"6c23a075-f9f9-4715-9fa2-d8ff582280fc\",\"type\":\"Line\"},{\"attributes\":{\"callback\":null,\"column_names\":[\"y\",\"x\"],\"data\":{\"x\":[3.0,4.0,5.0,6.0,7.0,8.0,9.0],\"y\":[9.808840082361009,10.15245398773007,10.345,10.575371549893866,11.367935606060604,11.636000000000003,12.18]}},\"id\":\"31969ce0-34e1-482a-9e8a-2d49967c063b\",\"type\":\"ColumnDataSource\"},{\"attributes\":{\"callback\":null,\"column_names\":[\"y\",\"x\"],\"data\":{\"x\":[3.0,4.0,5.0,6.0,7.0,8.0,9.0],\"y\":[0.9952122222222223,0.9961042713567828,0.9965424528301888,0.9966150626959255,0.9971036270190888,0.9974640000000001,\"NaN\"]}},\"id\":\"26f8e991-427a-48d6-9932-e0a721c56c31\",\"type\":\"ColumnDataSource\"},{\"attributes\":{\"plot\":{\"id\":\"87e97dee-6961-48f9-a1c6-a3a7986b3466\",\"subtype\":\"Figure\",\"type\":\"Plot\"},\"ticker\":{\"id\":\"73329dde-f973-49b6-b4c6-42f7185631b6\",\"type\":\"BasicTicker\"}},\"id\":\"e29fd4ed-fae1-4b6e-814e-dfac0445a883\",\"type\":\"Grid\"},{\"attributes\":{\"line_color\":{\"value\":\"green\"},\"x\":{\"field\":\"x\"},\"y\":{\"field\":\"y\"}},\"id\":\"89a06352-7c62-474e-90bc-3678ba4e77b4\",\"type\":\"Line\"},{\"attributes\":{\"active_drag\":\"auto\",\"active_scroll\":\"auto\",\"active_tap\":\"auto\",\"tools\":[{\"id\":\"98e6850a-bc4f-4d19-85df-e20c791d3bdd\",\"type\":\"HoverTool\"},{\"id\":\"06797470-8f19-4684-8f04-f6e873c446e5\",\"type\":\"ResetTool\"},{\"id\":\"d31d53b3-b5b9-4e15-9224-c1c922b04935\",\"type\":\"CrosshairTool\"}]},\"id\":\"fbea46e2-b0c4-43f5-9b12-151a00a6b480\",\"type\":\"Toolbar\"},{\"attributes\":{\"dimension\":1,\"plot\":{\"id\":\"aa38bf69-6a43-4566-844b-626bd9609531\",\"subtype\":\"Figure\",\"type\":\"Plot\"},\"ticker\":{\"id\":\"90d9051a-2d64-4ef9-abac-377e0f89b5da\",\"type\":\"BasicTicker\"}},\"id\":\"f5bb6ee5-4e2f-4ee8-b94d-dce9a2d26b89\",\"type\":\"Grid\"},{\"attributes\":{\"dimension\":1,\"plot\":{\"id\":\"ba3fa385-115d-445f-96bc-52914d6e1d7a\",\"subtype\":\"Figure\",\"type\":\"Plot\"},\"ticker\":{\"id\":\"fdeb5958-7142-41dc-ba68-2dcba3b9f7f7\",\"type\":\"BasicTicker\"}},\"id\":\"70dd480e-8f67-4e08-8d01-ee516d5ce011\",\"type\":\"Grid\"},{\"attributes\":{\"axis_label\":\"quality\",\"formatter\":{\"id\":\"94d0a926-de8b-4d5c-9724-0bb31bd4d430\",\"type\":\"BasicTickFormatter\"},\"plot\":{\"id\":\"824490eb-96df-4417-ba9d-4df625bb2f3c\",\"subtype\":\"Figure\",\"type\":\"Plot\"},\"ticker\":{\"id\":\"cf9316b2-05e9-48b2-ae1d-f780cc6cce6b\",\"type\":\"BasicTicker\"}},\"id\":\"ed52280f-ef57-4df5-8e11-09b0fee4baa6\",\"type\":\"LinearAxis\"},{\"attributes\":{\"callback\":null,\"plot\":{\"id\":\"ff34bcac-fa2a-44c4-ad1c-db63ded5953c\",\"subtype\":\"Figure\",\"type\":\"Plot\"}},\"id\":\"f47575d2-79b9-421d-813c-c360422701e4\",\"type\":\"HoverTool\"},{\"attributes\":{\"plot\":{\"id\":\"ba3fa385-115d-445f-96bc-52914d6e1d7a\",\"subtype\":\"Figure\",\"type\":\"Plot\"}},\"id\":\"06797470-8f19-4684-8f04-f6e873c446e5\",\"type\":\"ResetTool\"},{\"attributes\":{\"children\":[{\"id\":\"ba77ba85-574f-4ed5-864b-0d0384ae1392\",\"type\":\"ToolbarBox\"},{\"id\":\"b9cf50aa-7cc9-4bdc-bc1a-fc7f15e73aa7\",\"type\":\"Column\"}]},\"id\":\"7ed36865-7b90-45ab-af12-382bcf7b543c\",\"type\":\"Column\"},{\"attributes\":{\"callback\":null},\"id\":\"960d196f-8579-4184-bbc6-bd883efa4d49\",\"type\":\"DataRange1d\"},{\"attributes\":{\"callback\":null,\"column_names\":[\"y\",\"x\"],\"data\":{\"x\":[3.0,4.0,5.0,6.0,7.0,8.0,9.0],\"y\":[0.466,0.4745000000000001,0.47613496932515353,0.4822031571722726,0.4862285714285713,0.4911055505004552,0.5031022727272721]}},\"id\":\"7030f6f6-ed84-466a-a614-fde4689efb71\",\"type\":\"ColumnDataSource\"},{\"attributes\":{\"active_drag\":\"auto\",\"active_scroll\":\"auto\",\"active_tap\":\"auto\",\"tools\":[{\"id\":\"bab31882-b40c-42dc-9094-c3ba804473bf\",\"type\":\"HoverTool\"},{\"id\":\"c7bb9f15-80fe-4a9c-b7e3-83b1e74f469e\",\"type\":\"ResetTool\"},{\"id\":\"db178138-13f9-458a-a117-f46fe034ff97\",\"type\":\"CrosshairTool\"}]},\"id\":\"e4fc45de-0de0-4fa6-83fe-ac33b7e96c5d\",\"type\":\"Toolbar\"},{\"attributes\":{\"active_drag\":\"auto\",\"active_scroll\":\"auto\",\"active_tap\":\"auto\",\"tools\":[{\"id\":\"f47575d2-79b9-421d-813c-c360422701e4\",\"type\":\"HoverTool\"},{\"id\":\"c7f1a8c5-c48c-4463-9947-297fae619246\",\"type\":\"ResetTool\"},{\"id\":\"c706e9f1-0696-448e-97d5-47307ad9fde0\",\"type\":\"CrosshairTool\"}]},\"id\":\"fddf41dc-9dc6-42a4-81c2-34d45b0a1212\",\"type\":\"Toolbar\"},{\"attributes\":{\"data_source\":{\"id\":\"5753ecd8-35df-46a2-872a-3d9eaea7ed9b\",\"type\":\"ColumnDataSource\"},\"glyph\":{\"id\":\"7a8ae077-56aa-4f81-a5d3-4fb382aea007\",\"type\":\"Line\"},\"hover_glyph\":null,\"nonselection_glyph\":{\"id\":\"60b5be50-428f-4033-985a-8e1b74d42339\",\"type\":\"Line\"},\"selection_glyph\":null},\"id\":\"22831985-dd05-4376-a871-fa21e1e083b2\",\"type\":\"GlyphRenderer\"},{\"attributes\":{},\"id\":\"eab8ff33-5057-4b55-bd88-cb7241542c53\",\"type\":\"BasicTickFormatter\"},{\"attributes\":{\"dimension\":1,\"plot\":{\"id\":\"824490eb-96df-4417-ba9d-4df625bb2f3c\",\"subtype\":\"Figure\",\"type\":\"Plot\"},\"ticker\":{\"id\":\"b8cb5556-182e-405e-874b-8af82c579815\",\"type\":\"BasicTicker\"}},\"id\":\"fabe97c0-45ee-46da-bb03-efd70050499a\",\"type\":\"Grid\"},{\"attributes\":{\"legends\":[[\"white\",[{\"id\":\"22831985-dd05-4376-a871-fa21e1e083b2\",\"type\":\"GlyphRenderer\"}]],[\"red\",[{\"id\":\"cfc59e77-0acc-4484-b09f-a6d61b9ed1de\",\"type\":\"GlyphRenderer\"}]]],\"location\":\"top_left\",\"plot\":{\"id\":\"aa38bf69-6a43-4566-844b-626bd9609531\",\"subtype\":\"Figure\",\"type\":\"Plot\"}},\"id\":\"c46f595e-f400-4637-af9a-6f5fdf5fb268\",\"type\":\"Legend\"},{\"attributes\":{\"callback\":null},\"id\":\"446714ab-6c2d-4e24-a0cf-8b5eb24b8185\",\"type\":\"DataRange1d\"},{\"attributes\":{\"active_drag\":\"auto\",\"active_scroll\":\"auto\",\"active_tap\":\"auto\",\"tools\":[{\"id\":\"69738381-a038-4fb0-9130-98f6d132e282\",\"type\":\"HoverTool\"},{\"id\":\"871f3aae-c05e-4680-b21f-96973c7e1d49\",\"type\":\"ResetTool\"},{\"id\":\"8d645f7a-7dce-4827-9197-8642f69d391b\",\"type\":\"CrosshairTool\"}]},\"id\":\"58193c02-2003-49c9-9155-b39f58b9ac63\",\"type\":\"Toolbar\"},{\"attributes\":{\"children\":[{\"id\":\"a0bb22ca-bff4-4727-894c-1896a0e8edc2\",\"type\":\"Row\"},{\"id\":\"3470e2f9-1a93-40da-a726-7960fbe7b1e0\",\"type\":\"Row\"}]},\"id\":\"b9cf50aa-7cc9-4bdc-bc1a-fc7f15e73aa7\",\"type\":\"Column\"},{\"attributes\":{\"children\":[{\"id\":\"ba3fa385-115d-445f-96bc-52914d6e1d7a\",\"subtype\":\"Figure\",\"type\":\"Plot\"},{\"id\":\"87e97dee-6961-48f9-a1c6-a3a7986b3466\",\"subtype\":\"Figure\",\"type\":\"Plot\"},{\"id\":\"aa38bf69-6a43-4566-844b-626bd9609531\",\"subtype\":\"Figure\",\"type\":\"Plot\"}]},\"id\":\"a0bb22ca-bff4-4727-894c-1896a0e8edc2\",\"type\":\"Row\"},{\"attributes\":{\"line_alpha\":{\"value\":0.1},\"line_color\":{\"value\":\"#1f77b4\"},\"x\":{\"field\":\"x\"},\"y\":{\"field\":\"y\"}},\"id\":\"a5a864c1-cc18-45f4-ae79-8e7c2c4bf3b1\",\"type\":\"Line\"},{\"attributes\":{\"callback\":null},\"id\":\"6ecfa40f-169a-4911-993c-2df3591135cf\",\"type\":\"DataRange1d\"},{\"attributes\":{\"line_alpha\":{\"value\":0.1},\"line_color\":{\"value\":\"#1f77b4\"},\"x\":{\"field\":\"x\"},\"y\":{\"field\":\"y\"}},\"id\":\"38c1ece4-e180-4cdb-8382-889ccc8706c0\",\"type\":\"Line\"},{\"attributes\":{\"below\":[{\"id\":\"7f046803-eef3-4917-9998-93cf579ca062\",\"type\":\"LinearAxis\"}],\"left\":[{\"id\":\"45d17fe6-9859-43af-b083-13be519fec88\",\"type\":\"LinearAxis\"}],\"plot_height\":300,\"plot_width\":300,\"renderers\":[{\"id\":\"7f046803-eef3-4917-9998-93cf579ca062\",\"type\":\"LinearAxis\"},{\"id\":\"fd1196f6-44e9-4af8-9fea-ae520c4350d2\",\"type\":\"Grid\"},{\"id\":\"45d17fe6-9859-43af-b083-13be519fec88\",\"type\":\"LinearAxis\"},{\"id\":\"ce52f0fc-9f7f-4a5d-91c3-a265807b5956\",\"type\":\"Grid\"},{\"id\":\"9cfb07a3-6d33-48b9-a08a-c9d1b2b940f5\",\"type\":\"Legend\"},{\"id\":\"e77b1b22-6a32-4f82-91bd-e92c89393575\",\"type\":\"GlyphRenderer\"},{\"id\":\"60d11e64-3f1d-4a3d-8840-37ddd9d08e3f\",\"type\":\"GlyphRenderer\"}],\"title\":{\"id\":\"2c1f6534-3a08-4cb6-b5df-91b5e129ce2b\",\"type\":\"Title\"},\"tool_events\":{\"id\":\"195f5d1f-9c22-4153-acc8-e034e19a6090\",\"type\":\"ToolEvents\"},\"toolbar\":{\"id\":\"fddf41dc-9dc6-42a4-81c2-34d45b0a1212\",\"type\":\"Toolbar\"},\"toolbar_location\":null,\"x_range\":{\"id\":\"446714ab-6c2d-4e24-a0cf-8b5eb24b8185\",\"type\":\"DataRange1d\"},\"y_range\":{\"id\":\"2dffedc1-36b9-4bcd-a00c-1f0e2f4ca4bf\",\"type\":\"DataRange1d\"}},\"id\":\"ff34bcac-fa2a-44c4-ad1c-db63ded5953c\",\"subtype\":\"Figure\",\"type\":\"Plot\"},{\"attributes\":{\"below\":[{\"id\":\"ed52280f-ef57-4df5-8e11-09b0fee4baa6\",\"type\":\"LinearAxis\"}],\"left\":[{\"id\":\"53b9d92b-506f-41f6-9a2e-b5b4d868b0b5\",\"type\":\"LinearAxis\"}],\"plot_height\":300,\"plot_width\":300,\"renderers\":[{\"id\":\"ed52280f-ef57-4df5-8e11-09b0fee4baa6\",\"type\":\"LinearAxis\"},{\"id\":\"e2a5ba20-872b-4f38-9b97-4aa81f14317c\",\"type\":\"Grid\"},{\"id\":\"53b9d92b-506f-41f6-9a2e-b5b4d868b0b5\",\"type\":\"LinearAxis\"},{\"id\":\"fabe97c0-45ee-46da-bb03-efd70050499a\",\"type\":\"Grid\"},{\"id\":\"cef20c1b-0a09-4f86-b344-0e7e8c26215d\",\"type\":\"Legend\"},{\"id\":\"fb96638c-a447-4c04-bb36-fa299c468c90\",\"type\":\"GlyphRenderer\"},{\"id\":\"1809e32a-d4fe-46af-b49c-19760d7997b8\",\"type\":\"GlyphRenderer\"}],\"title\":{\"id\":\"5c72d030-eb60-4644-aac0-7b71bf4d9025\",\"type\":\"Title\"},\"tool_events\":{\"id\":\"08e557fd-448a-44aa-8454-048e9a51d05d\",\"type\":\"ToolEvents\"},\"toolbar\":{\"id\":\"58193c02-2003-49c9-9155-b39f58b9ac63\",\"type\":\"Toolbar\"},\"toolbar_location\":null,\"x_range\":{\"id\":\"4a9fc777-7b52-4671-940d-9dac90769348\",\"type\":\"DataRange1d\"},\"y_range\":{\"id\":\"54834c66-8b18-4c6e-826c-013ed5d01bfb\",\"type\":\"DataRange1d\"}},\"id\":\"824490eb-96df-4417-ba9d-4df625bb2f3c\",\"subtype\":\"Figure\",\"type\":\"Plot\"},{\"attributes\":{\"plot\":null,\"text\":\"mean density vs. quality\"},\"id\":\"ab4743ef-e8c5-4ec5-ac71-ee7ced6ee785\",\"type\":\"Title\"},{\"attributes\":{\"line_color\":{\"value\":\"red\"},\"x\":{\"field\":\"x\"},\"y\":{\"field\":\"y\"}},\"id\":\"5629912a-0341-49b3-a392-c3af6cb9ac92\",\"type\":\"Line\"},{\"attributes\":{\"data_source\":{\"id\":\"c269d09e-a69e-4b63-94c5-c805fe10a081\",\"type\":\"ColumnDataSource\"},\"glyph\":{\"id\":\"e39716bc-8504-4a3b-924b-4b72059cae78\",\"type\":\"Line\"},\"hover_glyph\":null,\"nonselection_glyph\":{\"id\":\"a8a09619-6fdf-47ea-85bd-4b4b3f458643\",\"type\":\"Line\"},\"selection_glyph\":null},\"id\":\"60d11e64-3f1d-4a3d-8840-37ddd9d08e3f\",\"type\":\"GlyphRenderer\"},{\"attributes\":{},\"id\":\"90d9051a-2d64-4ef9-abac-377e0f89b5da\",\"type\":\"BasicTicker\"},{\"attributes\":{\"dimension\":1,\"plot\":{\"id\":\"87e97dee-6961-48f9-a1c6-a3a7986b3466\",\"subtype\":\"Figure\",\"type\":\"Plot\"},\"ticker\":{\"id\":\"af8f5ebb-9bf2-47a7-aeb5-b84205df98eb\",\"type\":\"BasicTicker\"}},\"id\":\"780ca8d7-407a-4715-9f7d-3ea50f7947ec\",\"type\":\"Grid\"},{\"attributes\":{\"plot\":null,\"text\":\"mean pH vs. quality\"},\"id\":\"741925e9-d2a9-4b77-bb6b-08b436699fc4\",\"type\":\"Title\"},{\"attributes\":{\"line_color\":{\"value\":\"red\"},\"x\":{\"field\":\"x\"},\"y\":{\"field\":\"y\"}},\"id\":\"188c6f74-bbd1-44c5-aa31-0a0c343c1d1b\",\"type\":\"Line\"},{\"attributes\":{\"plot\":{\"id\":\"824490eb-96df-4417-ba9d-4df625bb2f3c\",\"subtype\":\"Figure\",\"type\":\"Plot\"}},\"id\":\"8d645f7a-7dce-4827-9197-8642f69d391b\",\"type\":\"CrosshairTool\"},{\"attributes\":{\"callback\":null,\"column_names\":[\"y\",\"x\"],\"data\":{\"x\":[3.0,4.0,5.0,6.0,7.0,8.0,9.0],\"y\":[3.168833218943034,3.1828834355828244,3.1874999999999996,3.1885987261146482,3.2138977272727316,3.2186857142857175,3.308]}},\"id\":\"5753ecd8-35df-46a2-872a-3d9eaea7ed9b\",\"type\":\"ColumnDataSource\"},{\"attributes\":{\"plot\":null,\"text\":\"mean total sulfur dioxide vs. quality\"},\"id\":\"83339c66-8080-4ff0-8b53-42dd419f74f5\",\"type\":\"Title\"},{\"attributes\":{\"plot\":{\"id\":\"824490eb-96df-4417-ba9d-4df625bb2f3c\",\"subtype\":\"Figure\",\"type\":\"Plot\"}},\"id\":\"871f3aae-c05e-4680-b21f-96973c7e1d49\",\"type\":\"ResetTool\"},{\"attributes\":{\"line_color\":{\"value\":\"red\"},\"x\":{\"field\":\"x\"},\"y\":{\"field\":\"y\"}},\"id\":\"e39716bc-8504-4a3b-924b-4b72059cae78\",\"type\":\"Line\"},{\"attributes\":{\"line_alpha\":{\"value\":0.1},\"line_color\":{\"value\":\"#1f77b4\"},\"x\":{\"field\":\"x\"},\"y\":{\"field\":\"y\"}},\"id\":\"fa8679c2-7e2f-4963-a036-2a741477bcfc\",\"type\":\"Line\"},{\"attributes\":{\"legends\":[[\"white\",[{\"id\":\"2e103d6e-ad35-40ac-964e-b7685196de32\",\"type\":\"GlyphRenderer\"}]],[\"red\",[{\"id\":\"ed300153-11a4-43f9-b454-1abb2caff0f6\",\"type\":\"GlyphRenderer\"}]]],\"location\":\"top_left\",\"plot\":{\"id\":\"ba3fa385-115d-445f-96bc-52914d6e1d7a\",\"subtype\":\"Figure\",\"type\":\"Plot\"}},\"id\":\"08c23a37-5e13-4d61-bfc7-9fe588d7b536\",\"type\":\"Legend\"},{\"attributes\":{\"plot\":{\"id\":\"aa38bf69-6a43-4566-844b-626bd9609531\",\"subtype\":\"Figure\",\"type\":\"Plot\"},\"ticker\":{\"id\":\"504ba99e-bbbb-407e-8cf2-75dbdf8095cb\",\"type\":\"BasicTicker\"}},\"id\":\"dc066ab3-4c72-480f-a3e6-60b277de7be7\",\"type\":\"Grid\"},{\"attributes\":{\"line_alpha\":{\"value\":0.1},\"line_color\":{\"value\":\"#1f77b4\"},\"x\":{\"field\":\"x\"},\"y\":{\"field\":\"y\"}},\"id\":\"a8a09619-6fdf-47ea-85bd-4b4b3f458643\",\"type\":\"Line\"},{\"attributes\":{\"callback\":null},\"id\":\"5a0a5179-5b64-453e-bf24-f9ed5e67462d\",\"type\":\"DataRange1d\"},{\"attributes\":{\"plot\":{\"id\":\"ba3fa385-115d-445f-96bc-52914d6e1d7a\",\"subtype\":\"Figure\",\"type\":\"Plot\"}},\"id\":\"d31d53b3-b5b9-4e15-9224-c1c922b04935\",\"type\":\"CrosshairTool\"},{\"attributes\":{\"callback\":null,\"column_names\":[\"y\",\"x\"],\"data\":{\"x\":[3.0,4.0,5.0,6.0,7.0,8.0,9.0],\"y\":[24.9,33.44444444444444,35.02010050251256,36.24528301886792,40.86990595611285,56.51395007342144,\"NaN\"]}},\"id\":\"97905d3b-6e31-420d-a32a-89095a134743\",\"type\":\"ColumnDataSource\"},{\"attributes\":{\"data_source\":{\"id\":\"31969ce0-34e1-482a-9e8a-2d49967c063b\",\"type\":\"ColumnDataSource\"},\"glyph\":{\"id\":\"7582047c-6a28-4154-b912-cebdd953e68a\",\"type\":\"Line\"},\"hover_glyph\":null,\"nonselection_glyph\":{\"id\":\"2aba3b09-4d5c-4f42-b02b-adc5a225fb52\",\"type\":\"Line\"},\"selection_glyph\":null},\"id\":\"e77b1b22-6a32-4f82-91bd-e92c89393575\",\"type\":\"GlyphRenderer\"},{\"attributes\":{\"line_alpha\":{\"value\":0.1},\"line_color\":{\"value\":\"#1f77b4\"},\"x\":{\"field\":\"x\"},\"y\":{\"field\":\"y\"}},\"id\":\"60b5be50-428f-4033-985a-8e1b74d42339\",\"type\":\"Line\"},{\"attributes\":{},\"id\":\"6e3536b0-fd3f-4cee-bbc3-50b177ea3674\",\"type\":\"ToolEvents\"},{\"attributes\":{\"line_alpha\":{\"value\":0.1},\"line_color\":{\"value\":\"#1f77b4\"},\"x\":{\"field\":\"x\"},\"y\":{\"field\":\"y\"}},\"id\":\"a3ab8f2e-fd98-48cb-872b-e4229c0f1130\",\"type\":\"Line\"},{\"attributes\":{\"plot\":{\"id\":\"824490eb-96df-4417-ba9d-4df625bb2f3c\",\"subtype\":\"Figure\",\"type\":\"Plot\"},\"ticker\":{\"id\":\"cf9316b2-05e9-48b2-ae1d-f780cc6cce6b\",\"type\":\"BasicTicker\"}},\"id\":\"e2a5ba20-872b-4f38-9b97-4aa81f14317c\",\"type\":\"Grid\"},{\"attributes\":{\"active_drag\":\"auto\",\"active_scroll\":\"auto\",\"active_tap\":\"auto\",\"tools\":[{\"id\":\"248ea61b-c1ce-487e-a256-65e3fcdf6084\",\"type\":\"HoverTool\"},{\"id\":\"ad946d89-918c-4e64-a78a-e31fe0b63915\",\"type\":\"ResetTool\"},{\"id\":\"c766f585-98ec-49b9-a8ac-864fbc2df7d8\",\"type\":\"CrosshairTool\"}]},\"id\":\"0a4bcec0-7526-4fd1-bd91-2991abd85ebf\",\"type\":\"Toolbar\"},{\"attributes\":{\"plot\":null,\"text\":\"mean sulphates vs. quality\"},\"id\":\"5c72d030-eb60-4644-aac0-7b71bf4d9025\",\"type\":\"Title\"},{\"attributes\":{\"callback\":null,\"plot\":{\"id\":\"87e97dee-6961-48f9-a1c6-a3a7986b3466\",\"subtype\":\"Figure\",\"type\":\"Plot\"}},\"id\":\"248ea61b-c1ce-487e-a256-65e3fcdf6084\",\"type\":\"HoverTool\"},{\"attributes\":{\"plot\":{\"id\":\"ff34bcac-fa2a-44c4-ad1c-db63ded5953c\",\"subtype\":\"Figure\",\"type\":\"Plot\"},\"ticker\":{\"id\":\"42de344b-98aa-4186-af21-b7387a7f5478\",\"type\":\"BasicTicker\"}},\"id\":\"fd1196f6-44e9-4af8-9fea-ae520c4350d2\",\"type\":\"Grid\"},{\"attributes\":{},\"id\":\"fdeb5958-7142-41dc-ba68-2dcba3b9f7f7\",\"type\":\"BasicTicker\"},{\"attributes\":{},\"id\":\"cf9316b2-05e9-48b2-ae1d-f780cc6cce6b\",\"type\":\"BasicTicker\"},{\"attributes\":{\"callback\":null,\"column_names\":[\"y\",\"x\"],\"data\":{\"x\":[3.0,4.0,5.0,6.0,7.0,8.0,9.0],\"y\":[3.2672222222222214,3.290753768844219,3.3049486049926546,3.3180721003134837,3.381509433962264,3.3979999999999997,\"NaN\"]}},\"id\":\"71603c4a-00ce-4614-813e-1e3065470acb\",\"type\":\"ColumnDataSource\"},{\"attributes\":{},\"id\":\"195f5d1f-9c22-4153-acc8-e034e19a6090\",\"type\":\"ToolEvents\"},{\"attributes\":{\"axis_label\":\"quality\",\"formatter\":{\"id\":\"eab8ff33-5057-4b55-bd88-cb7241542c53\",\"type\":\"BasicTickFormatter\"},\"plot\":{\"id\":\"aa38bf69-6a43-4566-844b-626bd9609531\",\"subtype\":\"Figure\",\"type\":\"Plot\"},\"ticker\":{\"id\":\"504ba99e-bbbb-407e-8cf2-75dbdf8095cb\",\"type\":\"BasicTicker\"}},\"id\":\"2dce57ff-4dcb-4dd6-b2ef-f0d951280205\",\"type\":\"LinearAxis\"},{\"attributes\":{\"callback\":null},\"id\":\"4a9fc777-7b52-4671-940d-9dac90769348\",\"type\":\"DataRange1d\"},{\"attributes\":{\"plot\":{\"id\":\"ff34bcac-fa2a-44c4-ad1c-db63ded5953c\",\"subtype\":\"Figure\",\"type\":\"Plot\"}},\"id\":\"c706e9f1-0696-448e-97d5-47307ad9fde0\",\"type\":\"CrosshairTool\"},{\"attributes\":{},\"id\":\"5027e9a5-4e3b-48b5-9300-d6f1292f6bff\",\"type\":\"BasicTickFormatter\"},{\"attributes\":{\"callback\":null,\"plot\":{\"id\":\"824490eb-96df-4417-ba9d-4df625bb2f3c\",\"subtype\":\"Figure\",\"type\":\"Plot\"}},\"id\":\"69738381-a038-4fb0-9130-98f6d132e282\",\"type\":\"HoverTool\"},{\"attributes\":{\"data_source\":{\"id\":\"efe3cd44-f4b5-49b3-aacf-4fa6501d40a6\",\"type\":\"ColumnDataSource\"},\"glyph\":{\"id\":\"d64665a3-b4b4-4c99-b10e-37369e1ef421\",\"type\":\"Line\"},\"hover_glyph\":null,\"nonselection_glyph\":{\"id\":\"a3ab8f2e-fd98-48cb-872b-e4229c0f1130\",\"type\":\"Line\"},\"selection_glyph\":null},\"id\":\"1809e32a-d4fe-46af-b49c-19760d7997b8\",\"type\":\"GlyphRenderer\"},{\"attributes\":{\"callback\":null,\"column_names\":[\"y\",\"x\"],\"data\":{\"x\":[3.0,4.0,5.0,6.0,7.0,8.0,9.0],\"y\":[9.899706314243753,9.955000000000002,10.265094339622639,10.629519331243463,11.465912897822443,12.094444444444443,\"NaN\"]}},\"id\":\"c269d09e-a69e-4b63-94c5-c805fe10a081\",\"type\":\"ColumnDataSource\"},{\"attributes\":{},\"id\":\"42de344b-98aa-4186-af21-b7387a7f5478\",\"type\":\"BasicTicker\"},{\"attributes\":{},\"id\":\"94d0a926-de8b-4d5c-9724-0bb31bd4d430\",\"type\":\"BasicTickFormatter\"},{\"attributes\":{\"below\":[{\"id\":\"2dce57ff-4dcb-4dd6-b2ef-f0d951280205\",\"type\":\"LinearAxis\"}],\"left\":[{\"id\":\"d03b3a0c-f245-4a80-b7b9-527d86f2618d\",\"type\":\"LinearAxis\"}],\"plot_height\":300,\"plot_width\":300,\"renderers\":[{\"id\":\"2dce57ff-4dcb-4dd6-b2ef-f0d951280205\",\"type\":\"LinearAxis\"},{\"id\":\"dc066ab3-4c72-480f-a3e6-60b277de7be7\",\"type\":\"Grid\"},{\"id\":\"d03b3a0c-f245-4a80-b7b9-527d86f2618d\",\"type\":\"LinearAxis\"},{\"id\":\"f5bb6ee5-4e2f-4ee8-b94d-dce9a2d26b89\",\"type\":\"Grid\"},{\"id\":\"c46f595e-f400-4637-af9a-6f5fdf5fb268\",\"type\":\"Legend\"},{\"id\":\"22831985-dd05-4376-a871-fa21e1e083b2\",\"type\":\"GlyphRenderer\"},{\"id\":\"cfc59e77-0acc-4484-b09f-a6d61b9ed1de\",\"type\":\"GlyphRenderer\"}],\"title\":{\"id\":\"741925e9-d2a9-4b77-bb6b-08b436699fc4\",\"type\":\"Title\"},\"tool_events\":{\"id\":\"6e3536b0-fd3f-4cee-bbc3-50b177ea3674\",\"type\":\"ToolEvents\"},\"toolbar\":{\"id\":\"e4fc45de-0de0-4fa6-83fe-ac33b7e96c5d\",\"type\":\"Toolbar\"},\"toolbar_location\":null,\"x_range\":{\"id\":\"6ecfa40f-169a-4911-993c-2df3591135cf\",\"type\":\"DataRange1d\"},\"y_range\":{\"id\":\"6ae625e5-791f-4593-8076-37f20673eb41\",\"type\":\"DataRange1d\"}},\"id\":\"aa38bf69-6a43-4566-844b-626bd9609531\",\"subtype\":\"Figure\",\"type\":\"Plot\"},{\"attributes\":{\"axis_label\":\"sulphates\",\"formatter\":{\"id\":\"5027e9a5-4e3b-48b5-9300-d6f1292f6bff\",\"type\":\"BasicTickFormatter\"},\"plot\":{\"id\":\"824490eb-96df-4417-ba9d-4df625bb2f3c\",\"subtype\":\"Figure\",\"type\":\"Plot\"},\"ticker\":{\"id\":\"b8cb5556-182e-405e-874b-8af82c579815\",\"type\":\"BasicTicker\"}},\"id\":\"53b9d92b-506f-41f6-9a2e-b5b4d868b0b5\",\"type\":\"LinearAxis\"},{\"attributes\":{\"line_color\":{\"value\":\"green\"},\"x\":{\"field\":\"x\"},\"y\":{\"field\":\"y\"}},\"id\":\"7582047c-6a28-4154-b912-cebdd953e68a\",\"type\":\"Line\"},{\"attributes\":{\"data_source\":{\"id\":\"26f8e991-427a-48d6-9932-e0a721c56c31\",\"type\":\"ColumnDataSource\"},\"glyph\":{\"id\":\"5629912a-0341-49b3-a392-c3af6cb9ac92\",\"type\":\"Line\"},\"hover_glyph\":null,\"nonselection_glyph\":{\"id\":\"38c1ece4-e180-4cdb-8382-889ccc8706c0\",\"type\":\"Line\"},\"selection_glyph\":null},\"id\":\"de79f9d3-a505-46f9-aca6-288383fee547\",\"type\":\"GlyphRenderer\"},{\"attributes\":{\"callback\":null,\"plot\":{\"id\":\"ba3fa385-115d-445f-96bc-52914d6e1d7a\",\"subtype\":\"Figure\",\"type\":\"Plot\"}},\"id\":\"98e6850a-bc4f-4d19-85df-e20c791d3bdd\",\"type\":\"HoverTool\"},{\"attributes\":{\"axis_label\":\"quality\",\"formatter\":{\"id\":\"963be89e-b6fb-4a1d-a3f1-8255892c2f5d\",\"type\":\"BasicTickFormatter\"},\"plot\":{\"id\":\"ba3fa385-115d-445f-96bc-52914d6e1d7a\",\"subtype\":\"Figure\",\"type\":\"Plot\"},\"ticker\":{\"id\":\"5b04a7d7-a1f9-4964-8153-be958fd55e64\",\"type\":\"BasicTicker\"}},\"id\":\"1fb731ca-b99b-4400-a05d-17c0164dfd6f\",\"type\":\"LinearAxis\"},{\"attributes\":{\"axis_label\":\"quality\",\"formatter\":{\"id\":\"8254e401-9e1b-441e-aa13-16b7dc7d4886\",\"type\":\"BasicTickFormatter\"},\"plot\":{\"id\":\"ff34bcac-fa2a-44c4-ad1c-db63ded5953c\",\"subtype\":\"Figure\",\"type\":\"Plot\"},\"ticker\":{\"id\":\"42de344b-98aa-4186-af21-b7387a7f5478\",\"type\":\"BasicTicker\"}},\"id\":\"7f046803-eef3-4917-9998-93cf579ca062\",\"type\":\"LinearAxis\"},{\"attributes\":{\"callback\":null},\"id\":\"e9516ebb-785e-4a23-8ae6-d24603b83218\",\"type\":\"DataRange1d\"},{\"attributes\":{\"axis_label\":\"density\",\"formatter\":{\"id\":\"236d9174-9d1e-41c5-93c3-faf7e084ef33\",\"type\":\"BasicTickFormatter\"},\"plot\":{\"id\":\"87e97dee-6961-48f9-a1c6-a3a7986b3466\",\"subtype\":\"Figure\",\"type\":\"Plot\"},\"ticker\":{\"id\":\"af8f5ebb-9bf2-47a7-aeb5-b84205df98eb\",\"type\":\"BasicTicker\"}},\"id\":\"c2e181a5-a22a-4a6a-a516-f3a519625f3a\",\"type\":\"LinearAxis\"},{\"attributes\":{},\"id\":\"af8f5ebb-9bf2-47a7-aeb5-b84205df98eb\",\"type\":\"BasicTicker\"},{\"attributes\":{\"plot\":{\"id\":\"aa38bf69-6a43-4566-844b-626bd9609531\",\"subtype\":\"Figure\",\"type\":\"Plot\"}},\"id\":\"db178138-13f9-458a-a117-f46fe034ff97\",\"type\":\"CrosshairTool\"},{\"attributes\":{},\"id\":\"73329dde-f973-49b6-b4c6-42f7185631b6\",\"type\":\"BasicTicker\"},{\"attributes\":{\"callback\":null},\"id\":\"11103f83-3321-4a41-81ee-f75e3c93916a\",\"type\":\"DataRange1d\"},{\"attributes\":{\"sizing_mode\":\"scale_width\",\"toolbar_location\":\"above\",\"tools\":[{\"id\":\"98e6850a-bc4f-4d19-85df-e20c791d3bdd\",\"type\":\"HoverTool\"},{\"id\":\"06797470-8f19-4684-8f04-f6e873c446e5\",\"type\":\"ResetTool\"},{\"id\":\"d31d53b3-b5b9-4e15-9224-c1c922b04935\",\"type\":\"CrosshairTool\"},{\"id\":\"248ea61b-c1ce-487e-a256-65e3fcdf6084\",\"type\":\"HoverTool\"},{\"id\":\"ad946d89-918c-4e64-a78a-e31fe0b63915\",\"type\":\"ResetTool\"},{\"id\":\"c766f585-98ec-49b9-a8ac-864fbc2df7d8\",\"type\":\"CrosshairTool\"},{\"id\":\"bab31882-b40c-42dc-9094-c3ba804473bf\",\"type\":\"HoverTool\"},{\"id\":\"c7bb9f15-80fe-4a9c-b7e3-83b1e74f469e\",\"type\":\"ResetTool\"},{\"id\":\"db178138-13f9-458a-a117-f46fe034ff97\",\"type\":\"CrosshairTool\"},{\"id\":\"69738381-a038-4fb0-9130-98f6d132e282\",\"type\":\"HoverTool\"},{\"id\":\"871f3aae-c05e-4680-b21f-96973c7e1d49\",\"type\":\"ResetTool\"},{\"id\":\"8d645f7a-7dce-4827-9197-8642f69d391b\",\"type\":\"CrosshairTool\"},{\"id\":\"f47575d2-79b9-421d-813c-c360422701e4\",\"type\":\"HoverTool\"},{\"id\":\"c7f1a8c5-c48c-4463-9947-297fae619246\",\"type\":\"ResetTool\"},{\"id\":\"c706e9f1-0696-448e-97d5-47307ad9fde0\",\"type\":\"CrosshairTool\"}]},\"id\":\"ba77ba85-574f-4ed5-864b-0d0384ae1392\",\"type\":\"ToolbarBox\"},{\"attributes\":{\"legends\":[[\"white\",[{\"id\":\"d30cb3ef-2b0c-4850-99bc-3223d3f1feef\",\"type\":\"GlyphRenderer\"}]],[\"red\",[{\"id\":\"de79f9d3-a505-46f9-aca6-288383fee547\",\"type\":\"GlyphRenderer\"}]]],\"location\":\"top_left\",\"plot\":{\"id\":\"87e97dee-6961-48f9-a1c6-a3a7986b3466\",\"subtype\":\"Figure\",\"type\":\"Plot\"}},\"id\":\"fadb21b5-b9e8-4bdb-a48e-84e0d084227d\",\"type\":\"Legend\"}],\"root_ids\":[\"7ed36865-7b90-45ab-af12-382bcf7b543c\"]},\"title\":\"Bokeh Application\",\"version\":\"0.12.0\"}};\n",
       "            var render_items = [{\"docid\":\"b7135ec2-affe-42a3-bf36-a54b0b1adbb4\",\"elementid\":\"1f6f0b01-4ec0-42fd-afab-a0d82093ff4f\",\"modelid\":\"7ed36865-7b90-45ab-af12-382bcf7b543c\",\"notebook_comms_target\":\"be56749e-1ff9-433b-a97d-a2bc9d917c01\"}];\n",
       "            \n",
       "            Bokeh.embed.embed_items(docs_json, render_items);\n",
       "        });\n",
       "      },\n",
       "      function(Bokeh) {\n",
       "      }\n",
       "    ];\n",
       "  \n",
       "    function run_inline_js() {\n",
       "      for (var i = 0; i < inline_js.length; i++) {\n",
       "        inline_js[i](window.Bokeh);\n",
       "      }\n",
       "    }\n",
       "  \n",
       "    if (window._bokeh_is_loading === 0) {\n",
       "      console.log(\"Bokeh: BokehJS loaded, going straight to plotting\");\n",
       "      run_inline_js();\n",
       "    } else {\n",
       "      load_libs(js_urls, function() {\n",
       "        console.log(\"Bokeh: BokehJS plotting callback run at\", now());\n",
       "        run_inline_js();\n",
       "      });\n",
       "    }\n",
       "  }(this));\n",
       "</script>"
      ]
     },
     "metadata": {},
     "output_type": "display_data"
    },
    {
     "name": "stderr",
     "output_type": "stream",
     "text": [
      "/Users/ericalonas/anaconda/envs/py35/lib/python3.5/site-packages/bokeh/io.py:420: UserWarning: save() called but no resources were supplied and output_file(...) was never called, defaulting to resources.CDN\n",
      "  warnings.warn(\"save() called but no resources were supplied and output_file(...) was never called, defaulting to resources.CDN\")\n"
     ]
    },
    {
     "data": {
      "text/plain": [
       "'/Users/ericalonas/Documents/Insight-Interview/plot3'"
      ]
     },
     "execution_count": 24,
     "metadata": {},
     "output_type": "execute_result"
    }
   ],
   "source": [
    "p4=gridplot([plot_list[6:9], plot_list[9:12]])\n",
    "show(p4)\n",
    "bplt.save(p4,filename = 'plot3', title = 'Red/White Wine Paramter Graphs 2')"
   ]
  },
  {
   "cell_type": "code",
   "execution_count": null,
   "metadata": {
    "collapsed": false
   },
   "outputs": [],
   "source": []
  },
  {
   "cell_type": "markdown",
   "metadata": {
    "collapsed": true
   },
   "source": [
    "# Examining correlation"
   ]
  },
  {
   "cell_type": "code",
   "execution_count": 25,
   "metadata": {
    "collapsed": false
   },
   "outputs": [],
   "source": [
    "subset_red = comp_data[comp_data['white?']==0][key_subset]\n",
    "corr_red = subset_red.corr()\n",
    "\n",
    "subset_white = comp_data[comp_data['white?']==1][key_subset]\n",
    "corr_white = subset_white.corr()\n"
   ]
  },
  {
   "cell_type": "code",
   "execution_count": 26,
   "metadata": {
    "collapsed": false
   },
   "outputs": [
    {
     "data": {
      "text/html": [
       "<div>\n",
       "<table border=\"1\" class=\"dataframe\">\n",
       "  <thead>\n",
       "    <tr style=\"text-align: right;\">\n",
       "      <th></th>\n",
       "      <th>fixed acidity</th>\n",
       "      <th>volatile acidity</th>\n",
       "      <th>citric acid</th>\n",
       "      <th>residual sugar</th>\n",
       "      <th>chlorides</th>\n",
       "      <th>free sulfur dioxide</th>\n",
       "      <th>total sulfur dioxide</th>\n",
       "      <th>density</th>\n",
       "      <th>pH</th>\n",
       "      <th>sulphates</th>\n",
       "      <th>alcohol</th>\n",
       "    </tr>\n",
       "  </thead>\n",
       "  <tbody>\n",
       "    <tr>\n",
       "      <th>fixed acidity</th>\n",
       "      <td>NaN</td>\n",
       "      <td>NaN</td>\n",
       "      <td>0.671703</td>\n",
       "      <td>NaN</td>\n",
       "      <td>NaN</td>\n",
       "      <td>NaN</td>\n",
       "      <td>NaN</td>\n",
       "      <td>0.668047</td>\n",
       "      <td>-0.682978</td>\n",
       "      <td>NaN</td>\n",
       "      <td>NaN</td>\n",
       "    </tr>\n",
       "    <tr>\n",
       "      <th>volatile acidity</th>\n",
       "      <td>NaN</td>\n",
       "      <td>NaN</td>\n",
       "      <td>-0.552496</td>\n",
       "      <td>NaN</td>\n",
       "      <td>NaN</td>\n",
       "      <td>NaN</td>\n",
       "      <td>NaN</td>\n",
       "      <td>NaN</td>\n",
       "      <td>NaN</td>\n",
       "      <td>NaN</td>\n",
       "      <td>NaN</td>\n",
       "    </tr>\n",
       "    <tr>\n",
       "      <th>citric acid</th>\n",
       "      <td>0.671703</td>\n",
       "      <td>-0.552496</td>\n",
       "      <td>NaN</td>\n",
       "      <td>NaN</td>\n",
       "      <td>NaN</td>\n",
       "      <td>NaN</td>\n",
       "      <td>NaN</td>\n",
       "      <td>NaN</td>\n",
       "      <td>-0.541904</td>\n",
       "      <td>NaN</td>\n",
       "      <td>NaN</td>\n",
       "    </tr>\n",
       "    <tr>\n",
       "      <th>residual sugar</th>\n",
       "      <td>NaN</td>\n",
       "      <td>NaN</td>\n",
       "      <td>NaN</td>\n",
       "      <td>NaN</td>\n",
       "      <td>NaN</td>\n",
       "      <td>NaN</td>\n",
       "      <td>NaN</td>\n",
       "      <td>NaN</td>\n",
       "      <td>NaN</td>\n",
       "      <td>NaN</td>\n",
       "      <td>NaN</td>\n",
       "    </tr>\n",
       "    <tr>\n",
       "      <th>chlorides</th>\n",
       "      <td>NaN</td>\n",
       "      <td>NaN</td>\n",
       "      <td>NaN</td>\n",
       "      <td>NaN</td>\n",
       "      <td>NaN</td>\n",
       "      <td>NaN</td>\n",
       "      <td>NaN</td>\n",
       "      <td>NaN</td>\n",
       "      <td>NaN</td>\n",
       "      <td>NaN</td>\n",
       "      <td>NaN</td>\n",
       "    </tr>\n",
       "    <tr>\n",
       "      <th>free sulfur dioxide</th>\n",
       "      <td>NaN</td>\n",
       "      <td>NaN</td>\n",
       "      <td>NaN</td>\n",
       "      <td>NaN</td>\n",
       "      <td>NaN</td>\n",
       "      <td>NaN</td>\n",
       "      <td>0.667666</td>\n",
       "      <td>NaN</td>\n",
       "      <td>NaN</td>\n",
       "      <td>NaN</td>\n",
       "      <td>NaN</td>\n",
       "    </tr>\n",
       "    <tr>\n",
       "      <th>total sulfur dioxide</th>\n",
       "      <td>NaN</td>\n",
       "      <td>NaN</td>\n",
       "      <td>NaN</td>\n",
       "      <td>NaN</td>\n",
       "      <td>NaN</td>\n",
       "      <td>0.667666</td>\n",
       "      <td>NaN</td>\n",
       "      <td>NaN</td>\n",
       "      <td>NaN</td>\n",
       "      <td>NaN</td>\n",
       "      <td>NaN</td>\n",
       "    </tr>\n",
       "    <tr>\n",
       "      <th>density</th>\n",
       "      <td>0.668047</td>\n",
       "      <td>NaN</td>\n",
       "      <td>NaN</td>\n",
       "      <td>NaN</td>\n",
       "      <td>NaN</td>\n",
       "      <td>NaN</td>\n",
       "      <td>NaN</td>\n",
       "      <td>NaN</td>\n",
       "      <td>NaN</td>\n",
       "      <td>NaN</td>\n",
       "      <td>NaN</td>\n",
       "    </tr>\n",
       "    <tr>\n",
       "      <th>pH</th>\n",
       "      <td>-0.682978</td>\n",
       "      <td>NaN</td>\n",
       "      <td>-0.541904</td>\n",
       "      <td>NaN</td>\n",
       "      <td>NaN</td>\n",
       "      <td>NaN</td>\n",
       "      <td>NaN</td>\n",
       "      <td>NaN</td>\n",
       "      <td>NaN</td>\n",
       "      <td>NaN</td>\n",
       "      <td>NaN</td>\n",
       "    </tr>\n",
       "    <tr>\n",
       "      <th>sulphates</th>\n",
       "      <td>NaN</td>\n",
       "      <td>NaN</td>\n",
       "      <td>NaN</td>\n",
       "      <td>NaN</td>\n",
       "      <td>NaN</td>\n",
       "      <td>NaN</td>\n",
       "      <td>NaN</td>\n",
       "      <td>NaN</td>\n",
       "      <td>NaN</td>\n",
       "      <td>NaN</td>\n",
       "      <td>NaN</td>\n",
       "    </tr>\n",
       "    <tr>\n",
       "      <th>alcohol</th>\n",
       "      <td>NaN</td>\n",
       "      <td>NaN</td>\n",
       "      <td>NaN</td>\n",
       "      <td>NaN</td>\n",
       "      <td>NaN</td>\n",
       "      <td>NaN</td>\n",
       "      <td>NaN</td>\n",
       "      <td>NaN</td>\n",
       "      <td>NaN</td>\n",
       "      <td>NaN</td>\n",
       "      <td>NaN</td>\n",
       "    </tr>\n",
       "  </tbody>\n",
       "</table>\n",
       "</div>"
      ],
      "text/plain": [
       "                      fixed acidity  volatile acidity  citric acid  \\\n",
       "fixed acidity                   NaN               NaN     0.671703   \n",
       "volatile acidity                NaN               NaN    -0.552496   \n",
       "citric acid                0.671703         -0.552496          NaN   \n",
       "residual sugar                  NaN               NaN          NaN   \n",
       "chlorides                       NaN               NaN          NaN   \n",
       "free sulfur dioxide             NaN               NaN          NaN   \n",
       "total sulfur dioxide            NaN               NaN          NaN   \n",
       "density                    0.668047               NaN          NaN   \n",
       "pH                        -0.682978               NaN    -0.541904   \n",
       "sulphates                       NaN               NaN          NaN   \n",
       "alcohol                         NaN               NaN          NaN   \n",
       "\n",
       "                      residual sugar  chlorides  free sulfur dioxide  \\\n",
       "fixed acidity                    NaN        NaN                  NaN   \n",
       "volatile acidity                 NaN        NaN                  NaN   \n",
       "citric acid                      NaN        NaN                  NaN   \n",
       "residual sugar                   NaN        NaN                  NaN   \n",
       "chlorides                        NaN        NaN                  NaN   \n",
       "free sulfur dioxide              NaN        NaN                  NaN   \n",
       "total sulfur dioxide             NaN        NaN             0.667666   \n",
       "density                          NaN        NaN                  NaN   \n",
       "pH                               NaN        NaN                  NaN   \n",
       "sulphates                        NaN        NaN                  NaN   \n",
       "alcohol                          NaN        NaN                  NaN   \n",
       "\n",
       "                      total sulfur dioxide   density        pH  sulphates  \\\n",
       "fixed acidity                          NaN  0.668047 -0.682978        NaN   \n",
       "volatile acidity                       NaN       NaN       NaN        NaN   \n",
       "citric acid                            NaN       NaN -0.541904        NaN   \n",
       "residual sugar                         NaN       NaN       NaN        NaN   \n",
       "chlorides                              NaN       NaN       NaN        NaN   \n",
       "free sulfur dioxide               0.667666       NaN       NaN        NaN   \n",
       "total sulfur dioxide                   NaN       NaN       NaN        NaN   \n",
       "density                                NaN       NaN       NaN        NaN   \n",
       "pH                                     NaN       NaN       NaN        NaN   \n",
       "sulphates                              NaN       NaN       NaN        NaN   \n",
       "alcohol                                NaN       NaN       NaN        NaN   \n",
       "\n",
       "                      alcohol  \n",
       "fixed acidity             NaN  \n",
       "volatile acidity          NaN  \n",
       "citric acid               NaN  \n",
       "residual sugar            NaN  \n",
       "chlorides                 NaN  \n",
       "free sulfur dioxide       NaN  \n",
       "total sulfur dioxide      NaN  \n",
       "density                   NaN  \n",
       "pH                        NaN  \n",
       "sulphates                 NaN  \n",
       "alcohol                   NaN  "
      ]
     },
     "execution_count": 26,
     "metadata": {},
     "output_type": "execute_result"
    }
   ],
   "source": [
    "corr_red[(abs(corr_red)>=0.5)&(abs(corr_red)<1)]"
   ]
  },
  {
   "cell_type": "code",
   "execution_count": 27,
   "metadata": {
    "collapsed": false
   },
   "outputs": [
    {
     "data": {
      "text/html": [
       "<div>\n",
       "<table border=\"1\" class=\"dataframe\">\n",
       "  <thead>\n",
       "    <tr style=\"text-align: right;\">\n",
       "      <th></th>\n",
       "      <th>fixed acidity</th>\n",
       "      <th>volatile acidity</th>\n",
       "      <th>citric acid</th>\n",
       "      <th>residual sugar</th>\n",
       "      <th>chlorides</th>\n",
       "      <th>free sulfur dioxide</th>\n",
       "      <th>total sulfur dioxide</th>\n",
       "      <th>density</th>\n",
       "      <th>pH</th>\n",
       "      <th>sulphates</th>\n",
       "      <th>alcohol</th>\n",
       "    </tr>\n",
       "  </thead>\n",
       "  <tbody>\n",
       "    <tr>\n",
       "      <th>fixed acidity</th>\n",
       "      <td>NaN</td>\n",
       "      <td>NaN</td>\n",
       "      <td>NaN</td>\n",
       "      <td>NaN</td>\n",
       "      <td>NaN</td>\n",
       "      <td>NaN</td>\n",
       "      <td>NaN</td>\n",
       "      <td>NaN</td>\n",
       "      <td>NaN</td>\n",
       "      <td>NaN</td>\n",
       "      <td>NaN</td>\n",
       "    </tr>\n",
       "    <tr>\n",
       "      <th>volatile acidity</th>\n",
       "      <td>NaN</td>\n",
       "      <td>NaN</td>\n",
       "      <td>NaN</td>\n",
       "      <td>NaN</td>\n",
       "      <td>NaN</td>\n",
       "      <td>NaN</td>\n",
       "      <td>NaN</td>\n",
       "      <td>NaN</td>\n",
       "      <td>NaN</td>\n",
       "      <td>NaN</td>\n",
       "      <td>NaN</td>\n",
       "    </tr>\n",
       "    <tr>\n",
       "      <th>citric acid</th>\n",
       "      <td>NaN</td>\n",
       "      <td>NaN</td>\n",
       "      <td>NaN</td>\n",
       "      <td>NaN</td>\n",
       "      <td>NaN</td>\n",
       "      <td>NaN</td>\n",
       "      <td>NaN</td>\n",
       "      <td>NaN</td>\n",
       "      <td>NaN</td>\n",
       "      <td>NaN</td>\n",
       "      <td>NaN</td>\n",
       "    </tr>\n",
       "    <tr>\n",
       "      <th>residual sugar</th>\n",
       "      <td>NaN</td>\n",
       "      <td>NaN</td>\n",
       "      <td>NaN</td>\n",
       "      <td>NaN</td>\n",
       "      <td>NaN</td>\n",
       "      <td>NaN</td>\n",
       "      <td>NaN</td>\n",
       "      <td>0.838966</td>\n",
       "      <td>NaN</td>\n",
       "      <td>NaN</td>\n",
       "      <td>NaN</td>\n",
       "    </tr>\n",
       "    <tr>\n",
       "      <th>chlorides</th>\n",
       "      <td>NaN</td>\n",
       "      <td>NaN</td>\n",
       "      <td>NaN</td>\n",
       "      <td>NaN</td>\n",
       "      <td>NaN</td>\n",
       "      <td>NaN</td>\n",
       "      <td>NaN</td>\n",
       "      <td>NaN</td>\n",
       "      <td>NaN</td>\n",
       "      <td>NaN</td>\n",
       "      <td>NaN</td>\n",
       "    </tr>\n",
       "    <tr>\n",
       "      <th>free sulfur dioxide</th>\n",
       "      <td>NaN</td>\n",
       "      <td>NaN</td>\n",
       "      <td>NaN</td>\n",
       "      <td>NaN</td>\n",
       "      <td>NaN</td>\n",
       "      <td>NaN</td>\n",
       "      <td>0.615501</td>\n",
       "      <td>NaN</td>\n",
       "      <td>NaN</td>\n",
       "      <td>NaN</td>\n",
       "      <td>NaN</td>\n",
       "    </tr>\n",
       "    <tr>\n",
       "      <th>total sulfur dioxide</th>\n",
       "      <td>NaN</td>\n",
       "      <td>NaN</td>\n",
       "      <td>NaN</td>\n",
       "      <td>NaN</td>\n",
       "      <td>NaN</td>\n",
       "      <td>0.615501</td>\n",
       "      <td>NaN</td>\n",
       "      <td>0.529881</td>\n",
       "      <td>NaN</td>\n",
       "      <td>NaN</td>\n",
       "      <td>NaN</td>\n",
       "    </tr>\n",
       "    <tr>\n",
       "      <th>density</th>\n",
       "      <td>NaN</td>\n",
       "      <td>NaN</td>\n",
       "      <td>NaN</td>\n",
       "      <td>0.838966</td>\n",
       "      <td>NaN</td>\n",
       "      <td>NaN</td>\n",
       "      <td>0.529881</td>\n",
       "      <td>NaN</td>\n",
       "      <td>NaN</td>\n",
       "      <td>NaN</td>\n",
       "      <td>-0.780138</td>\n",
       "    </tr>\n",
       "    <tr>\n",
       "      <th>pH</th>\n",
       "      <td>NaN</td>\n",
       "      <td>NaN</td>\n",
       "      <td>NaN</td>\n",
       "      <td>NaN</td>\n",
       "      <td>NaN</td>\n",
       "      <td>NaN</td>\n",
       "      <td>NaN</td>\n",
       "      <td>NaN</td>\n",
       "      <td>NaN</td>\n",
       "      <td>NaN</td>\n",
       "      <td>NaN</td>\n",
       "    </tr>\n",
       "    <tr>\n",
       "      <th>sulphates</th>\n",
       "      <td>NaN</td>\n",
       "      <td>NaN</td>\n",
       "      <td>NaN</td>\n",
       "      <td>NaN</td>\n",
       "      <td>NaN</td>\n",
       "      <td>NaN</td>\n",
       "      <td>NaN</td>\n",
       "      <td>NaN</td>\n",
       "      <td>NaN</td>\n",
       "      <td>NaN</td>\n",
       "      <td>NaN</td>\n",
       "    </tr>\n",
       "    <tr>\n",
       "      <th>alcohol</th>\n",
       "      <td>NaN</td>\n",
       "      <td>NaN</td>\n",
       "      <td>NaN</td>\n",
       "      <td>NaN</td>\n",
       "      <td>NaN</td>\n",
       "      <td>NaN</td>\n",
       "      <td>NaN</td>\n",
       "      <td>-0.780138</td>\n",
       "      <td>NaN</td>\n",
       "      <td>NaN</td>\n",
       "      <td>NaN</td>\n",
       "    </tr>\n",
       "  </tbody>\n",
       "</table>\n",
       "</div>"
      ],
      "text/plain": [
       "                      fixed acidity  volatile acidity  citric acid  \\\n",
       "fixed acidity                   NaN               NaN          NaN   \n",
       "volatile acidity                NaN               NaN          NaN   \n",
       "citric acid                     NaN               NaN          NaN   \n",
       "residual sugar                  NaN               NaN          NaN   \n",
       "chlorides                       NaN               NaN          NaN   \n",
       "free sulfur dioxide             NaN               NaN          NaN   \n",
       "total sulfur dioxide            NaN               NaN          NaN   \n",
       "density                         NaN               NaN          NaN   \n",
       "pH                              NaN               NaN          NaN   \n",
       "sulphates                       NaN               NaN          NaN   \n",
       "alcohol                         NaN               NaN          NaN   \n",
       "\n",
       "                      residual sugar  chlorides  free sulfur dioxide  \\\n",
       "fixed acidity                    NaN        NaN                  NaN   \n",
       "volatile acidity                 NaN        NaN                  NaN   \n",
       "citric acid                      NaN        NaN                  NaN   \n",
       "residual sugar                   NaN        NaN                  NaN   \n",
       "chlorides                        NaN        NaN                  NaN   \n",
       "free sulfur dioxide              NaN        NaN                  NaN   \n",
       "total sulfur dioxide             NaN        NaN             0.615501   \n",
       "density                     0.838966        NaN                  NaN   \n",
       "pH                               NaN        NaN                  NaN   \n",
       "sulphates                        NaN        NaN                  NaN   \n",
       "alcohol                          NaN        NaN                  NaN   \n",
       "\n",
       "                      total sulfur dioxide   density  pH  sulphates   alcohol  \n",
       "fixed acidity                          NaN       NaN NaN        NaN       NaN  \n",
       "volatile acidity                       NaN       NaN NaN        NaN       NaN  \n",
       "citric acid                            NaN       NaN NaN        NaN       NaN  \n",
       "residual sugar                         NaN  0.838966 NaN        NaN       NaN  \n",
       "chlorides                              NaN       NaN NaN        NaN       NaN  \n",
       "free sulfur dioxide               0.615501       NaN NaN        NaN       NaN  \n",
       "total sulfur dioxide                   NaN  0.529881 NaN        NaN       NaN  \n",
       "density                           0.529881       NaN NaN        NaN -0.780138  \n",
       "pH                                     NaN       NaN NaN        NaN       NaN  \n",
       "sulphates                              NaN       NaN NaN        NaN       NaN  \n",
       "alcohol                                NaN -0.780138 NaN        NaN       NaN  "
      ]
     },
     "execution_count": 27,
     "metadata": {},
     "output_type": "execute_result"
    }
   ],
   "source": [
    "corr_white[(abs(corr_white)>=0.5)&(abs(corr_white)<1)]"
   ]
  },
  {
   "cell_type": "markdown",
   "metadata": {},
   "source": [
    "# Building Multiclass Classification Model for Quality"
   ]
  },
  {
   "cell_type": "code",
   "execution_count": 28,
   "metadata": {
    "collapsed": true
   },
   "outputs": [],
   "source": [
    "from sklearn import cross_validation\n",
    "from sklearn import linear_model\n",
    "from sklearn import metrics"
   ]
  },
  {
   "cell_type": "code",
   "execution_count": 29,
   "metadata": {
    "collapsed": false
   },
   "outputs": [],
   "source": [
    "xtrain, xtest, ytrain, ytest = cross_validation.train_test_split(subset_red, red2['quality'], train_size = 0.75)"
   ]
  },
  {
   "cell_type": "code",
   "execution_count": 30,
   "metadata": {
    "collapsed": false
   },
   "outputs": [
    {
     "data": {
      "text/plain": [
       "LogisticRegressionCV(Cs=10, class_weight=None, cv=None, dual=False,\n",
       "           fit_intercept=True, intercept_scaling=1.0, max_iter=100,\n",
       "           multi_class='multinomial', n_jobs=1, penalty='l2',\n",
       "           random_state=None, refit=True, scoring='accuracy',\n",
       "           solver='lbfgs', tol=0.0001, verbose=0)"
      ]
     },
     "execution_count": 30,
     "metadata": {},
     "output_type": "execute_result"
    }
   ],
   "source": [
    "rgr = linear_model.LogisticRegressionCV(solver='lbfgs',multi_class='multinomial', scoring='accuracy')\n",
    "rgr.fit(xtrain, ytrain)"
   ]
  },
  {
   "cell_type": "code",
   "execution_count": 31,
   "metadata": {
    "collapsed": false
   },
   "outputs": [],
   "source": [
    "pred=rgr.predict(xtest)"
   ]
  },
  {
   "cell_type": "code",
   "execution_count": 32,
   "metadata": {
    "collapsed": false
   },
   "outputs": [
    {
     "data": {
      "text/plain": [
       "0.59250000000000003"
      ]
     },
     "execution_count": 32,
     "metadata": {},
     "output_type": "execute_result"
    }
   ],
   "source": [
    "metrics.accuracy_score(pred, ytest)"
   ]
  },
  {
   "cell_type": "code",
   "execution_count": 33,
   "metadata": {
    "collapsed": true
   },
   "outputs": [],
   "source": [
    "from sklearn import svm"
   ]
  },
  {
   "cell_type": "code",
   "execution_count": 34,
   "metadata": {
    "collapsed": false
   },
   "outputs": [
    {
     "data": {
      "text/plain": [
       "SVC(C=1.0, cache_size=200, class_weight=None, coef0=0.0,\n",
       "  decision_function_shape=None, degree=3, gamma='auto', kernel='rbf',\n",
       "  max_iter=-1, probability=False, random_state=None, shrinking=True,\n",
       "  tol=0.001, verbose=False)"
      ]
     },
     "execution_count": 34,
     "metadata": {},
     "output_type": "execute_result"
    }
   ],
   "source": [
    "rgr2 = svm.SVC(kernel='rbf')\n",
    "rgr2.fit(xtrain, ytrain)"
   ]
  },
  {
   "cell_type": "code",
   "execution_count": 35,
   "metadata": {
    "collapsed": false
   },
   "outputs": [
    {
     "data": {
      "text/plain": [
       "0.55249999999999999"
      ]
     },
     "execution_count": 35,
     "metadata": {},
     "output_type": "execute_result"
    }
   ],
   "source": [
    "pred = rgr2.predict(xtest)\n",
    "metrics.accuracy_score(ytest, pred)"
   ]
  },
  {
   "cell_type": "code",
   "execution_count": 36,
   "metadata": {
    "collapsed": false
   },
   "outputs": [],
   "source": [
    "key_sub2 = xtrain.keys().drop(['residual sugar','fixed acidity','density'])\n",
    "\n",
    "subset_xtrain = xtrain[key_sub2]\n",
    "subset_xtest = xtest[key_sub2]"
   ]
  },
  {
   "cell_type": "code",
   "execution_count": 37,
   "metadata": {
    "collapsed": false
   },
   "outputs": [
    {
     "data": {
      "text/plain": [
       "LogisticRegressionCV(Cs=10, class_weight=None, cv=None, dual=False,\n",
       "           fit_intercept=True, intercept_scaling=1.0, max_iter=100,\n",
       "           multi_class='ovr', n_jobs=1, penalty='l2', random_state=None,\n",
       "           refit=True, scoring='accuracy', solver='lbfgs', tol=0.0001,\n",
       "           verbose=0)"
      ]
     },
     "execution_count": 37,
     "metadata": {},
     "output_type": "execute_result"
    }
   ],
   "source": [
    "rgr3 = linear_model.LogisticRegressionCV(scoring='accuracy')\n",
    "rgr3.fit(subset_xtrain, ytrain)"
   ]
  },
  {
   "cell_type": "code",
   "execution_count": 38,
   "metadata": {
    "collapsed": false
   },
   "outputs": [],
   "source": [
    "pred3 = rgr3.predict(subset_xtest)"
   ]
  },
  {
   "cell_type": "code",
   "execution_count": 39,
   "metadata": {
    "collapsed": false
   },
   "outputs": [
    {
     "data": {
      "text/plain": [
       "0.61750000000000005"
      ]
     },
     "execution_count": 39,
     "metadata": {},
     "output_type": "execute_result"
    }
   ],
   "source": [
    "metrics.accuracy_score(ytest, pred3)"
   ]
  },
  {
   "cell_type": "markdown",
   "metadata": {},
   "source": [
    "## White wine modeling"
   ]
  },
  {
   "cell_type": "code",
   "execution_count": 40,
   "metadata": {
    "collapsed": true
   },
   "outputs": [],
   "source": [
    "xtrain, xtest, ytrain, ytest = cross_validation.train_test_split(subset_white, white2['quality'], train_size = 0.75)"
   ]
  },
  {
   "cell_type": "code",
   "execution_count": 41,
   "metadata": {
    "collapsed": false
   },
   "outputs": [
    {
     "data": {
      "text/plain": [
       "LogisticRegressionCV(Cs=10, class_weight=None, cv=None, dual=False,\n",
       "           fit_intercept=True, intercept_scaling=1.0, max_iter=100,\n",
       "           multi_class='multinomial', n_jobs=1, penalty='l2',\n",
       "           random_state=None, refit=True, scoring=None, solver='lbfgs',\n",
       "           tol=0.0001, verbose=0)"
      ]
     },
     "execution_count": 41,
     "metadata": {},
     "output_type": "execute_result"
    }
   ],
   "source": [
    "rgr4 = linear_model.LogisticRegressionCV(solver='lbfgs',multi_class='multinomial')\n",
    "rgr4.fit(xtrain, ytrain)"
   ]
  },
  {
   "cell_type": "code",
   "execution_count": 42,
   "metadata": {
    "collapsed": true
   },
   "outputs": [],
   "source": [
    "pred=rgr4.predict(xtest)"
   ]
  },
  {
   "cell_type": "code",
   "execution_count": 43,
   "metadata": {
    "collapsed": false
   },
   "outputs": [
    {
     "data": {
      "text/plain": [
       "0.50693877551020405"
      ]
     },
     "execution_count": 43,
     "metadata": {},
     "output_type": "execute_result"
    }
   ],
   "source": [
    "metrics.accuracy_score(ytest, pred)"
   ]
  },
  {
   "cell_type": "code",
   "execution_count": null,
   "metadata": {
    "collapsed": true
   },
   "outputs": [],
   "source": []
  },
  {
   "cell_type": "code",
   "execution_count": null,
   "metadata": {
    "collapsed": true
   },
   "outputs": [],
   "source": []
  },
  {
   "cell_type": "code",
   "execution_count": null,
   "metadata": {
    "collapsed": true
   },
   "outputs": [],
   "source": []
  }
 ],
 "metadata": {
  "anaconda-cloud": {},
  "kernelspec": {
   "display_name": "Python [py35]",
   "language": "python",
   "name": "Python [py35]"
  },
  "language_info": {
   "codemirror_mode": {
    "name": "ipython",
    "version": 3
   },
   "file_extension": ".py",
   "mimetype": "text/x-python",
   "name": "python",
   "nbconvert_exporter": "python",
   "pygments_lexer": "ipython3",
   "version": "3.5.2"
  }
 },
 "nbformat": 4,
 "nbformat_minor": 0
}
