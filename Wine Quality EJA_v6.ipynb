{
 "cells": [
  {
   "cell_type": "markdown",
   "metadata": {},
   "source": [
    "# Importing data"
   ]
  },
  {
   "cell_type": "code",
   "execution_count": 9,
   "metadata": {
    "collapsed": true
   },
   "outputs": [],
   "source": [
    "import pandas as pd\n",
    "import numpy as np\n",
    "import sqlite3"
   ]
  },
  {
   "cell_type": "code",
   "execution_count": 10,
   "metadata": {
    "collapsed": false
   },
   "outputs": [],
   "source": [
    "db = sqlite3.connect('winequal.db')\n",
    "cur = db.cursor()\n",
    "\n",
    "\n",
    "cur.execute(\"ALTER TABLE red ADD COLUMN color INT DEFAULT 0\")\n",
    "cur.execute(\"ALTER TABLE white ADD COLUMN color INT DEFAULT 1\")\n",
    "\n",
    "cur.execute('SELECT * from red')\n",
    "red_data = cur.fetchall()\n",
    "\n",
    "db.commit()\n",
    "db.close()\n",
    "\n",
    "db = sqlite3.connect('winequal.db')\n",
    "cur = db.cursor()\n",
    "\n",
    "cur.execute('SELECT * from white')\n",
    "white_data = cur.fetchall()\n",
    "\n",
    "db.commit()\n",
    "db.close()\n",
    "\n",
    " "
   ]
  },
  {
   "cell_type": "code",
   "execution_count": 11,
   "metadata": {
    "collapsed": false
   },
   "outputs": [
    {
     "data": {
      "text/html": [
       "<div>\n",
       "<table border=\"1\" class=\"dataframe\">\n",
       "  <thead>\n",
       "    <tr style=\"text-align: right;\">\n",
       "      <th></th>\n",
       "      <th>fixed acidity</th>\n",
       "      <th>volatile acidity</th>\n",
       "      <th>citric acid</th>\n",
       "      <th>residual sugar</th>\n",
       "      <th>chlorides</th>\n",
       "      <th>free sulfur dioxide</th>\n",
       "      <th>total sulfur dioxide</th>\n",
       "      <th>density</th>\n",
       "      <th>pH</th>\n",
       "      <th>sulphates</th>\n",
       "      <th>alcohol</th>\n",
       "      <th>quality</th>\n",
       "      <th>white?</th>\n",
       "    </tr>\n",
       "  </thead>\n",
       "  <tbody>\n",
       "    <tr>\n",
       "      <th>0</th>\n",
       "      <td>7.4</td>\n",
       "      <td>0.70</td>\n",
       "      <td>0.00</td>\n",
       "      <td>1.9</td>\n",
       "      <td>0.076</td>\n",
       "      <td>11.0</td>\n",
       "      <td>34.0</td>\n",
       "      <td>0.9978</td>\n",
       "      <td>3.51</td>\n",
       "      <td>0.56</td>\n",
       "      <td>9.4</td>\n",
       "      <td>5</td>\n",
       "      <td>0</td>\n",
       "    </tr>\n",
       "    <tr>\n",
       "      <th>1</th>\n",
       "      <td>7.8</td>\n",
       "      <td>0.88</td>\n",
       "      <td>0.00</td>\n",
       "      <td>2.6</td>\n",
       "      <td>0.098</td>\n",
       "      <td>25.0</td>\n",
       "      <td>67.0</td>\n",
       "      <td>0.9968</td>\n",
       "      <td>3.20</td>\n",
       "      <td>0.68</td>\n",
       "      <td>9.8</td>\n",
       "      <td>5</td>\n",
       "      <td>0</td>\n",
       "    </tr>\n",
       "    <tr>\n",
       "      <th>2</th>\n",
       "      <td>7.8</td>\n",
       "      <td>0.76</td>\n",
       "      <td>0.04</td>\n",
       "      <td>2.3</td>\n",
       "      <td>0.092</td>\n",
       "      <td>15.0</td>\n",
       "      <td>54.0</td>\n",
       "      <td>0.9970</td>\n",
       "      <td>3.26</td>\n",
       "      <td>0.65</td>\n",
       "      <td>9.8</td>\n",
       "      <td>5</td>\n",
       "      <td>0</td>\n",
       "    </tr>\n",
       "    <tr>\n",
       "      <th>3</th>\n",
       "      <td>11.2</td>\n",
       "      <td>0.28</td>\n",
       "      <td>0.56</td>\n",
       "      <td>1.9</td>\n",
       "      <td>0.075</td>\n",
       "      <td>17.0</td>\n",
       "      <td>60.0</td>\n",
       "      <td>0.9980</td>\n",
       "      <td>3.16</td>\n",
       "      <td>0.58</td>\n",
       "      <td>9.8</td>\n",
       "      <td>6</td>\n",
       "      <td>0</td>\n",
       "    </tr>\n",
       "    <tr>\n",
       "      <th>4</th>\n",
       "      <td>7.4</td>\n",
       "      <td>0.70</td>\n",
       "      <td>0.00</td>\n",
       "      <td>1.9</td>\n",
       "      <td>0.076</td>\n",
       "      <td>11.0</td>\n",
       "      <td>34.0</td>\n",
       "      <td>0.9978</td>\n",
       "      <td>3.51</td>\n",
       "      <td>0.56</td>\n",
       "      <td>9.4</td>\n",
       "      <td>5</td>\n",
       "      <td>0</td>\n",
       "    </tr>\n",
       "  </tbody>\n",
       "</table>\n",
       "</div>"
      ],
      "text/plain": [
       "   fixed acidity  volatile acidity  citric acid  residual sugar  chlorides  \\\n",
       "0            7.4              0.70         0.00             1.9      0.076   \n",
       "1            7.8              0.88         0.00             2.6      0.098   \n",
       "2            7.8              0.76         0.04             2.3      0.092   \n",
       "3           11.2              0.28         0.56             1.9      0.075   \n",
       "4            7.4              0.70         0.00             1.9      0.076   \n",
       "\n",
       "   free sulfur dioxide  total sulfur dioxide  density    pH  sulphates  \\\n",
       "0                 11.0                  34.0   0.9978  3.51       0.56   \n",
       "1                 25.0                  67.0   0.9968  3.20       0.68   \n",
       "2                 15.0                  54.0   0.9970  3.26       0.65   \n",
       "3                 17.0                  60.0   0.9980  3.16       0.58   \n",
       "4                 11.0                  34.0   0.9978  3.51       0.56   \n",
       "\n",
       "   alcohol  quality  white?  \n",
       "0      9.4        5       0  \n",
       "1      9.8        5       0  \n",
       "2      9.8        5       0  \n",
       "3      9.8        6       0  \n",
       "4      9.4        5       0  "
      ]
     },
     "execution_count": 11,
     "metadata": {},
     "output_type": "execute_result"
    }
   ],
   "source": [
    "df = pd.DataFrame(red_data, columns=red_data[0])\n",
    "df = df.drop(df.index[0])\n",
    "df.head()\n",
    "red = df.rename(columns={0:'white?'});\n",
    "red.reset_index(drop=True, inplace=True)\n",
    "\n",
    "red2=pd.DataFrame()\n",
    "for key in red.keys():\n",
    "    red2[key]=pd.to_numeric(red[key])\n",
    "\n",
    "red2.head()"
   ]
  },
  {
   "cell_type": "code",
   "execution_count": 12,
   "metadata": {
    "collapsed": false
   },
   "outputs": [],
   "source": [
    "df2 = pd.DataFrame(white_data, columns=white_data[0])\n",
    "df2 = df2.drop(df2.index[0])\n",
    "white = df2.rename(columns={1:'white?'});\n",
    "white.reset_index(drop=True, inplace=True)\n",
    "\n",
    "white2=pd.DataFrame()\n",
    "for key in white.keys():\n",
    "    white2[key]=pd.to_numeric(white[key])\n"
   ]
  },
  {
   "cell_type": "code",
   "execution_count": 13,
   "metadata": {
    "collapsed": false
   },
   "outputs": [],
   "source": [
    "comp_data = pd.concat([white2, red2])\n",
    "comp_data.reset_index(drop=True, inplace=True)"
   ]
  },
  {
   "cell_type": "markdown",
   "metadata": {},
   "source": [
    "# Exploring data"
   ]
  },
  {
   "cell_type": "code",
   "execution_count": 14,
   "metadata": {
    "collapsed": false
   },
   "outputs": [
    {
     "data": {
      "text/html": [
       "\n",
       "    <div class=\"bk-root\">\n",
       "        <a href=\"http://bokeh.pydata.org\" target=\"_blank\" class=\"bk-logo bk-logo-small bk-logo-notebook\"></a>\n",
       "        <span id=\"61215c8f-06fb-4eff-86d4-b258959fbaa3\">Loading BokehJS ...</span>\n",
       "    </div>"
      ]
     },
     "metadata": {},
     "output_type": "display_data"
    },
    {
     "data": {
      "application/javascript": [
       "\n",
       "(function(global) {\n",
       "  function now() {\n",
       "    return new Date();\n",
       "  }\n",
       "\n",
       "  if (typeof (window._bokeh_onload_callbacks) === \"undefined\") {\n",
       "    window._bokeh_onload_callbacks = [];\n",
       "  }\n",
       "\n",
       "  function run_callbacks() {\n",
       "    window._bokeh_onload_callbacks.forEach(function(callback) { callback() });\n",
       "    delete window._bokeh_onload_callbacks\n",
       "    console.info(\"Bokeh: all callbacks have finished\");\n",
       "  }\n",
       "\n",
       "  function load_libs(js_urls, callback) {\n",
       "    window._bokeh_onload_callbacks.push(callback);\n",
       "    if (window._bokeh_is_loading > 0) {\n",
       "      console.log(\"Bokeh: BokehJS is being loaded, scheduling callback at\", now());\n",
       "      return null;\n",
       "    }\n",
       "    if (js_urls == null || js_urls.length === 0) {\n",
       "      run_callbacks();\n",
       "      return null;\n",
       "    }\n",
       "    console.log(\"Bokeh: BokehJS not loaded, scheduling load and callback at\", now());\n",
       "    window._bokeh_is_loading = js_urls.length;\n",
       "    for (var i = 0; i < js_urls.length; i++) {\n",
       "      var url = js_urls[i];\n",
       "      var s = document.createElement('script');\n",
       "      s.src = url;\n",
       "      s.async = false;\n",
       "      s.onreadystatechange = s.onload = function() {\n",
       "        window._bokeh_is_loading--;\n",
       "        if (window._bokeh_is_loading === 0) {\n",
       "          console.log(\"Bokeh: all BokehJS libraries loaded\");\n",
       "          run_callbacks()\n",
       "        }\n",
       "      };\n",
       "      s.onerror = function() {\n",
       "        console.warn(\"failed to load library \" + url);\n",
       "      };\n",
       "      console.log(\"Bokeh: injecting script tag for BokehJS library: \", url);\n",
       "      document.getElementsByTagName(\"head\")[0].appendChild(s);\n",
       "    }\n",
       "  };\n",
       "\n",
       "  var js_urls = ['https://cdn.pydata.org/bokeh/release/bokeh-0.12.0.min.js', 'https://cdn.pydata.org/bokeh/release/bokeh-widgets-0.12.0.min.js', 'https://cdn.pydata.org/bokeh/release/bokeh-compiler-0.12.0.min.js'];\n",
       "\n",
       "  var inline_js = [\n",
       "    function(Bokeh) {\n",
       "      Bokeh.set_log_level(\"info\");\n",
       "    },\n",
       "    \n",
       "    function(Bokeh) {\n",
       "      Bokeh.$(\"#61215c8f-06fb-4eff-86d4-b258959fbaa3\").text(\"BokehJS successfully loaded\");\n",
       "    },\n",
       "    function(Bokeh) {\n",
       "      console.log(\"Bokeh: injecting CSS: https://cdn.pydata.org/bokeh/release/bokeh-0.12.0.min.css\");\n",
       "      Bokeh.embed.inject_css(\"https://cdn.pydata.org/bokeh/release/bokeh-0.12.0.min.css\");\n",
       "      console.log(\"Bokeh: injecting CSS: https://cdn.pydata.org/bokeh/release/bokeh-widgets-0.12.0.min.css\");\n",
       "      Bokeh.embed.inject_css(\"https://cdn.pydata.org/bokeh/release/bokeh-widgets-0.12.0.min.css\");\n",
       "    }\n",
       "  ];\n",
       "\n",
       "  function run_inline_js() {\n",
       "    for (var i = 0; i < inline_js.length; i++) {\n",
       "      inline_js[i](window.Bokeh);\n",
       "    }\n",
       "  }\n",
       "\n",
       "  if (window._bokeh_is_loading === 0) {\n",
       "    console.log(\"Bokeh: BokehJS loaded, going straight to plotting\");\n",
       "    run_inline_js();\n",
       "  } else {\n",
       "    load_libs(js_urls, function() {\n",
       "      console.log(\"Bokeh: BokehJS plotting callback run at\", now());\n",
       "      run_inline_js();\n",
       "    });\n",
       "  }\n",
       "}(this));"
      ]
     },
     "metadata": {},
     "output_type": "display_data"
    }
   ],
   "source": [
    "from bokeh.charts import Histogram\n",
    "from bokeh.charts import Bar\n",
    "from bokeh.io import output_notebook, show\n",
    "from bokeh.layouts import gridplot\n",
    "from bokeh.plotting import figure\n",
    "from bokeh.charts import BoxPlot\n",
    "\n",
    "output_notebook()"
   ]
  },
  {
   "cell_type": "code",
   "execution_count": 15,
   "metadata": {
    "collapsed": false
   },
   "outputs": [
    {
     "data": {
      "text/html": [
       "\n",
       "\n",
       "    <div class=\"bk-root\">\n",
       "        <div class=\"plotdiv\" id=\"671a8038-5bd6-4d27-83d7-decd91dc68b2\"></div>\n",
       "    </div>\n",
       "<script type=\"text/javascript\">\n",
       "  \n",
       "  (function(global) {\n",
       "    function now() {\n",
       "      return new Date();\n",
       "    }\n",
       "  \n",
       "    if (typeof (window._bokeh_onload_callbacks) === \"undefined\") {\n",
       "      window._bokeh_onload_callbacks = [];\n",
       "    }\n",
       "  \n",
       "    function run_callbacks() {\n",
       "      window._bokeh_onload_callbacks.forEach(function(callback) { callback() });\n",
       "      delete window._bokeh_onload_callbacks\n",
       "      console.info(\"Bokeh: all callbacks have finished\");\n",
       "    }\n",
       "  \n",
       "    function load_libs(js_urls, callback) {\n",
       "      window._bokeh_onload_callbacks.push(callback);\n",
       "      if (window._bokeh_is_loading > 0) {\n",
       "        console.log(\"Bokeh: BokehJS is being loaded, scheduling callback at\", now());\n",
       "        return null;\n",
       "      }\n",
       "      if (js_urls == null || js_urls.length === 0) {\n",
       "        run_callbacks();\n",
       "        return null;\n",
       "      }\n",
       "      console.log(\"Bokeh: BokehJS not loaded, scheduling load and callback at\", now());\n",
       "      window._bokeh_is_loading = js_urls.length;\n",
       "      for (var i = 0; i < js_urls.length; i++) {\n",
       "        var url = js_urls[i];\n",
       "        var s = document.createElement('script');\n",
       "        s.src = url;\n",
       "        s.async = false;\n",
       "        s.onreadystatechange = s.onload = function() {\n",
       "          window._bokeh_is_loading--;\n",
       "          if (window._bokeh_is_loading === 0) {\n",
       "            console.log(\"Bokeh: all BokehJS libraries loaded\");\n",
       "            run_callbacks()\n",
       "          }\n",
       "        };\n",
       "        s.onerror = function() {\n",
       "          console.warn(\"failed to load library \" + url);\n",
       "        };\n",
       "        console.log(\"Bokeh: injecting script tag for BokehJS library: \", url);\n",
       "        document.getElementsByTagName(\"head\")[0].appendChild(s);\n",
       "      }\n",
       "    };var element = document.getElementById(\"671a8038-5bd6-4d27-83d7-decd91dc68b2\");\n",
       "    if (element == null) {\n",
       "      console.log(\"Bokeh: ERROR: autoload.js configured with elementid '671a8038-5bd6-4d27-83d7-decd91dc68b2' but no matching script tag was found. \")\n",
       "      return false;\n",
       "    }\n",
       "  \n",
       "    var js_urls = [];\n",
       "  \n",
       "    var inline_js = [\n",
       "      function(Bokeh) {\n",
       "        Bokeh.$(function() {\n",
       "            var docs_json = {\"ff92733c-3787-4131-b38c-a49144a426b7\":{\"roots\":{\"references\":[{\"attributes\":{\"overlay\":{\"id\":\"02493e49-1cfe-4898-bf77-44dd5ecc2f29\",\"type\":\"BoxAnnotation\"},\"plot\":{\"id\":\"b13f78dc-6857-4e56-9717-e7f14380f51d\",\"subtype\":\"Chart\",\"type\":\"Plot\"}},\"id\":\"dbce1c17-6396-48b5-ac8a-c248591fda55\",\"type\":\"BoxZoomTool\"},{\"attributes\":{\"data_source\":{\"id\":\"e4f7ffe4-058e-4620-b572-e5ee48cd8fb3\",\"type\":\"ColumnDataSource\"},\"glyph\":{\"id\":\"fdb0d47f-4724-4be0-b3b8-02c7d737f246\",\"type\":\"Rect\"},\"hover_glyph\":null,\"nonselection_glyph\":null,\"selection_glyph\":null},\"id\":\"d14965f3-7598-4087-a0d2-17216c4c8b8a\",\"type\":\"GlyphRenderer\"},{\"attributes\":{\"fill_alpha\":{\"field\":\"fill_alpha\"},\"fill_color\":{\"field\":\"color\"},\"height\":{\"field\":\"height\",\"units\":\"data\"},\"line_color\":{\"field\":\"line_color\"},\"width\":{\"field\":\"width\",\"units\":\"data\"},\"x\":{\"field\":\"x\"},\"y\":{\"field\":\"y\"}},\"id\":\"73b4ed34-ebd1-43ed-9d24-a9601562f385\",\"type\":\"Rect\"},{\"attributes\":{\"callback\":null,\"column_names\":[\"label\",\"line_alpha\",\"x\",\"width\",\"line_color\",\"y\",\"fill_alpha\",\"height\",\"color\"],\"data\":{\"chart_index\":[\"(8.6, 8.8]\"],\"color\":[\"#5ab738\"],\"fill_alpha\":[0.6],\"height\":[0.0],\"label\":[\"(8.6, 8.8]\"],\"line_alpha\":[1.0],\"line_color\":[\"black\"],\"width\":[0.11764705882353077],\"x\":[\"8.7\"],\"y\":[0.0]}},\"id\":\"656db47b-b125-4beb-a072-fa9ef791f732\",\"type\":\"ColumnDataSource\"},{\"attributes\":{\"callback\":null,\"column_names\":[\"label\",\"line_alpha\",\"x\",\"width\",\"line_color\",\"y\",\"fill_alpha\",\"height\",\"color\"],\"data\":{\"chart_index\":[\"(4.2, 4.3]\"],\"color\":[\"#5ab738\"],\"fill_alpha\":[0.6],\"height\":[0.0],\"label\":[\"(4.2, 4.3]\"],\"line_alpha\":[1.0],\"line_color\":[\"black\"],\"width\":[0.117647058823529],\"x\":[\"4.25\"],\"y\":[0.0]}},\"id\":\"bb58ac88-5445-4006-b2b2-d8053c956111\",\"type\":\"ColumnDataSource\"},{\"attributes\":{\"callback\":null,\"column_names\":[\"label\",\"line_alpha\",\"x\",\"width\",\"line_color\",\"y\",\"fill_alpha\",\"height\",\"color\"],\"data\":{\"chart_index\":[\"(3.5, 3.6]\"],\"color\":[\"#5ab738\"],\"fill_alpha\":[0.6],\"height\":[0.0],\"label\":[\"(3.5, 3.6]\"],\"line_alpha\":[1.0],\"line_color\":[\"black\"],\"width\":[0.11764705882352944],\"x\":[\"3.55\"],\"y\":[0.0]}},\"id\":\"b6cf52f6-4bda-4ed1-aec2-83d7cad1d12e\",\"type\":\"ColumnDataSource\"},{\"attributes\":{\"children\":[{\"id\":\"2eeb366c-8990-466c-aa43-25104fd4eb96\",\"type\":\"ToolbarBox\"},{\"id\":\"a6eec52a-3ca9-4258-8068-7d6900c9ff0a\",\"type\":\"Column\"}]},\"id\":\"a2363431-c54b-46cd-8c49-8856081f3639\",\"type\":\"Column\"},{\"attributes\":{\"callback\":null,\"column_names\":[\"label\",\"line_alpha\",\"x\",\"width\",\"line_color\",\"y\",\"fill_alpha\",\"height\",\"color\"],\"data\":{\"chart_index\":[\"(7.8, 7.9]\"],\"color\":[\"#5ab738\"],\"fill_alpha\":[0.6],\"height\":[0.0],\"label\":[\"(7.8, 7.9]\"],\"line_alpha\":[1.0],\"line_color\":[\"black\"],\"width\":[0.11764705882352988],\"x\":[\"7.85\"],\"y\":[0.0]}},\"id\":\"40348152-fe98-4ace-b7c9-0300db98b829\",\"type\":\"ColumnDataSource\"},{\"attributes\":{\"callback\":null,\"column_names\":[\"label\",\"line_alpha\",\"x\",\"width\",\"line_color\",\"y\",\"fill_alpha\",\"height\",\"color\"],\"data\":{\"chart_index\":[\"(7.0, 7.1]\"],\"color\":[\"#5ab738\"],\"fill_alpha\":[0.6],\"height\":[880.0],\"label\":[\"(7.0, 7.1]\"],\"line_alpha\":[1.0],\"line_color\":[\"black\"],\"width\":[0.117647058823529],\"x\":[\"7.05\"],\"y\":[440.0]}},\"id\":\"8396e860-0085-4e21-9f5d-01ef5d490f6d\",\"type\":\"ColumnDataSource\"},{\"attributes\":{\"data_source\":{\"id\":\"6bbb547f-7911-4744-84b4-378deb9bc2e0\",\"type\":\"ColumnDataSource\"},\"glyph\":{\"id\":\"1cfe9a6c-17dd-4fdd-b6b2-b67ddcae3fa2\",\"type\":\"Rect\"},\"hover_glyph\":null,\"nonselection_glyph\":null,\"selection_glyph\":null},\"id\":\"63a0a625-619d-4442-a854-dc68bd04526d\",\"type\":\"GlyphRenderer\"},{\"attributes\":{},\"id\":\"d4f77719-9589-4af0-ad28-bafe047353e3\",\"type\":\"BasicTicker\"},{\"attributes\":{\"fill_alpha\":{\"field\":\"fill_alpha\"},\"fill_color\":{\"field\":\"color\"},\"height\":{\"field\":\"height\",\"units\":\"data\"},\"line_color\":{\"field\":\"line_color\"},\"width\":{\"field\":\"width\",\"units\":\"data\"},\"x\":{\"field\":\"x\"},\"y\":{\"field\":\"y\"}},\"id\":\"aac6da68-0a17-4f61-abc4-1ecf6dea1daa\",\"type\":\"Rect\"},{\"attributes\":{\"fill_alpha\":{\"field\":\"fill_alpha\"},\"fill_color\":{\"field\":\"color\"},\"height\":{\"field\":\"height\",\"units\":\"data\"},\"line_color\":{\"field\":\"line_color\"},\"width\":{\"field\":\"width\",\"units\":\"data\"},\"x\":{\"field\":\"x\"},\"y\":{\"field\":\"y\"}},\"id\":\"d37b1051-7009-4835-aaa4-d8401e759ba3\",\"type\":\"Rect\"},{\"attributes\":{\"callback\":null,\"column_names\":[\"label\",\"line_alpha\",\"x\",\"width\",\"line_color\",\"y\",\"fill_alpha\",\"height\",\"color\"],\"data\":{\"chart_index\":[\"(7.7, 7.8]\"],\"color\":[\"#f22c40\"],\"fill_alpha\":[0.6],\"height\":[0.0],\"label\":[\"(7.7, 7.8]\"],\"line_alpha\":[1.0],\"line_color\":[\"black\"],\"width\":[0.16666666666666696],\"x\":[\"7.75\"],\"y\":[0.0]}},\"id\":\"dc377ccd-500b-4c19-8af1-92eea16f40b8\",\"type\":\"ColumnDataSource\"},{\"attributes\":{\"callback\":null,\"column_names\":[\"label\",\"line_alpha\",\"x\",\"width\",\"line_color\",\"y\",\"fill_alpha\",\"height\",\"color\"],\"data\":{\"chart_index\":[\"(5.4, 5.5]\"],\"color\":[\"#5ab738\"],\"fill_alpha\":[0.6],\"height\":[0.0],\"label\":[\"(5.4, 5.5]\"],\"line_alpha\":[1.0],\"line_color\":[\"black\"],\"width\":[0.117647058823529],\"x\":[\"5.45\"],\"y\":[0.0]}},\"id\":\"f4ac4b7f-8cd1-4c6d-94bd-998235b5b96a\",\"type\":\"ColumnDataSource\"},{\"attributes\":{\"active_drag\":\"auto\",\"active_scroll\":\"auto\",\"active_tap\":\"auto\",\"tools\":[{\"id\":\"69c58644-8cd8-4694-abad-a66017aa16f0\",\"type\":\"PanTool\"},{\"id\":\"102c9ccd-76a6-4168-b37e-c7acf2510bae\",\"type\":\"ResetTool\"},{\"id\":\"dbce1c17-6396-48b5-ac8a-c248591fda55\",\"type\":\"BoxZoomTool\"}]},\"id\":\"ca31244d-6503-49c1-ac9c-9d3b1bea3a47\",\"type\":\"Toolbar\"},{\"attributes\":{\"data_source\":{\"id\":\"656db47b-b125-4beb-a072-fa9ef791f732\",\"type\":\"ColumnDataSource\"},\"glyph\":{\"id\":\"123b1b5d-942d-4d54-ba34-82c5a70aa320\",\"type\":\"Rect\"},\"hover_glyph\":null,\"nonselection_glyph\":null,\"selection_glyph\":null},\"id\":\"a4aa4b21-a19e-4ad1-bbe4-541e10c126ff\",\"type\":\"GlyphRenderer\"},{\"attributes\":{\"data_source\":{\"id\":\"141a5f9f-0fdf-4d83-b7c9-f3e6f7a5a781\",\"type\":\"ColumnDataSource\"},\"glyph\":{\"id\":\"b6cb265e-7c58-4bb1-a45f-3a1e7ceb58e5\",\"type\":\"Rect\"},\"hover_glyph\":null,\"nonselection_glyph\":null,\"selection_glyph\":null},\"id\":\"b38be060-559a-4754-8a80-df1772217c82\",\"type\":\"GlyphRenderer\"},{\"attributes\":{\"fill_alpha\":{\"field\":\"fill_alpha\"},\"fill_color\":{\"field\":\"color\"},\"height\":{\"field\":\"height\",\"units\":\"data\"},\"line_color\":{\"field\":\"line_color\"},\"width\":{\"field\":\"width\",\"units\":\"data\"},\"x\":{\"field\":\"x\"},\"y\":{\"field\":\"y\"}},\"id\":\"66812b57-c8c4-4169-bbb0-d82afedf1494\",\"type\":\"Rect\"},{\"attributes\":{\"callback\":null,\"end\":2417.8},\"id\":\"75ab3540-eef8-4a3c-ae4d-29c8ed441508\",\"type\":\"Range1d\"},{\"attributes\":{\"callback\":null,\"column_names\":[\"label\",\"line_alpha\",\"x\",\"width\",\"line_color\",\"y\",\"fill_alpha\",\"height\",\"color\"],\"data\":{\"chart_index\":[\"(4.4, 4.5]\"],\"color\":[\"#5ab738\"],\"fill_alpha\":[0.6],\"height\":[0.0],\"label\":[\"(4.4, 4.5]\"],\"line_alpha\":[1.0],\"line_color\":[\"black\"],\"width\":[0.117647058823529],\"x\":[\"4.45\"],\"y\":[0.0]}},\"id\":\"3998cfd8-b08d-470e-90d4-c135c09f9e8c\",\"type\":\"ColumnDataSource\"},{\"attributes\":{\"fill_alpha\":{\"field\":\"fill_alpha\"},\"fill_color\":{\"field\":\"color\"},\"height\":{\"field\":\"height\",\"units\":\"data\"},\"line_color\":{\"field\":\"line_color\"},\"width\":{\"field\":\"width\",\"units\":\"data\"},\"x\":{\"field\":\"x\"},\"y\":{\"field\":\"y\"}},\"id\":\"8f009698-3c86-49bd-878d-50278fb15418\",\"type\":\"Rect\"},{\"attributes\":{\"fill_alpha\":{\"field\":\"fill_alpha\"},\"fill_color\":{\"field\":\"color\"},\"height\":{\"field\":\"height\",\"units\":\"data\"},\"line_color\":{\"field\":\"line_color\"},\"width\":{\"field\":\"width\",\"units\":\"data\"},\"x\":{\"field\":\"x\"},\"y\":{\"field\":\"y\"}},\"id\":\"9f1910f2-01d7-4125-ab89-d74131742dd2\",\"type\":\"Rect\"},{\"attributes\":{\"callback\":null,\"column_names\":[\"label\",\"line_alpha\",\"x\",\"width\",\"line_color\",\"y\",\"fill_alpha\",\"height\",\"color\"],\"data\":{\"chart_index\":[\"(5.5, 5.6]\"],\"color\":[\"#5ab738\"],\"fill_alpha\":[0.6],\"height\":[0.0],\"label\":[\"(5.5, 5.6]\"],\"line_alpha\":[1.0],\"line_color\":[\"black\"],\"width\":[0.117647058823529],\"x\":[\"5.55\"],\"y\":[0.0]}},\"id\":\"0446427e-0042-4508-9a0f-cb724bc53219\",\"type\":\"ColumnDataSource\"},{\"attributes\":{\"callback\":null,\"column_names\":[\"label\",\"line_alpha\",\"x\",\"width\",\"line_color\",\"y\",\"fill_alpha\",\"height\",\"color\"],\"data\":{\"chart_index\":[\"(7.4, 7.5]\"],\"color\":[\"#5ab738\"],\"fill_alpha\":[0.6],\"height\":[0.0],\"label\":[\"(7.4, 7.5]\"],\"line_alpha\":[1.0],\"line_color\":[\"black\"],\"width\":[0.11764705882352988],\"x\":[\"7.45\"],\"y\":[0.0]}},\"id\":\"f923afa0-3623-47dd-9c6f-4225f4c93b9c\",\"type\":\"ColumnDataSource\"},{\"attributes\":{\"callback\":null,\"column_names\":[\"label\",\"line_alpha\",\"x\",\"width\",\"line_color\",\"y\",\"fill_alpha\",\"height\",\"color\"],\"data\":{\"chart_index\":[\"(4.8, 4.9]\"],\"color\":[\"#5ab738\"],\"fill_alpha\":[0.6],\"height\":[0.0],\"label\":[\"(4.8, 4.9]\"],\"line_alpha\":[1.0],\"line_color\":[\"black\"],\"width\":[0.11764705882352988],\"x\":[\"4.85\"],\"y\":[0.0]}},\"id\":\"16dcf766-f815-43ce-9f26-c07a9589bb06\",\"type\":\"ColumnDataSource\"},{\"attributes\":{\"callback\":null,\"column_names\":[\"label\",\"line_alpha\",\"x\",\"width\",\"line_color\",\"y\",\"fill_alpha\",\"height\",\"color\"],\"data\":{\"chart_index\":[\"(8.2, 8.3]\"],\"color\":[\"#5ab738\"],\"fill_alpha\":[0.6],\"height\":[0.0],\"label\":[\"(8.2, 8.3]\"],\"line_alpha\":[1.0],\"line_color\":[\"black\"],\"width\":[0.117647058823529],\"x\":[\"8.25\"],\"y\":[0.0]}},\"id\":\"7a06a742-faea-46db-9e32-af69243ee93e\",\"type\":\"ColumnDataSource\"},{\"attributes\":{\"callback\":null,\"column_names\":[\"label\",\"line_alpha\",\"x\",\"width\",\"line_color\",\"y\",\"fill_alpha\",\"height\",\"color\"],\"data\":{\"chart_index\":[\"(4.3, 4.4]\"],\"color\":[\"#5ab738\"],\"fill_alpha\":[0.6],\"height\":[0.0],\"label\":[\"(4.3, 4.4]\"],\"line_alpha\":[1.0],\"line_color\":[\"black\"],\"width\":[0.11764705882352988],\"x\":[\"4.35\"],\"y\":[0.0]}},\"id\":\"56ee16b0-3278-4096-aab9-2a3e6cd9751b\",\"type\":\"ColumnDataSource\"},{\"attributes\":{\"callback\":null,\"column_names\":[\"label\",\"line_alpha\",\"x\",\"width\",\"line_color\",\"y\",\"fill_alpha\",\"height\",\"color\"],\"data\":{\"chart_index\":[\"(5.2, 5.3]\"],\"color\":[\"#f22c40\"],\"fill_alpha\":[0.6],\"height\":[0.0],\"label\":[\"(5.2, 5.3]\"],\"line_alpha\":[1.0],\"line_color\":[\"black\"],\"width\":[0.16666666666666696],\"x\":[\"5.25\"],\"y\":[0.0]}},\"id\":\"3cb92539-242b-4a74-9e91-1b07a6a441dd\",\"type\":\"ColumnDataSource\"},{\"attributes\":{\"fill_alpha\":{\"field\":\"fill_alpha\"},\"fill_color\":{\"field\":\"color\"},\"height\":{\"field\":\"height\",\"units\":\"data\"},\"line_color\":{\"field\":\"line_color\"},\"width\":{\"field\":\"width\",\"units\":\"data\"},\"x\":{\"field\":\"x\"},\"y\":{\"field\":\"y\"}},\"id\":\"d437f3c1-08fe-4c93-87aa-37df88b6744a\",\"type\":\"Rect\"},{\"attributes\":{\"callback\":null,\"column_names\":[\"label\",\"line_alpha\",\"x\",\"width\",\"line_color\",\"y\",\"fill_alpha\",\"height\",\"color\"],\"data\":{\"chart_index\":[{\"white?\":1}],\"color\":[\"#f22c40\"],\"fill_alpha\":[0.8],\"height\":[4898.0],\"label\":[{\"white?\":1}],\"line_alpha\":[1.0],\"line_color\":[\"white\"],\"white?\":[1],\"width\":[0.8],\"x\":[\"1\"],\"y\":[2449.0]}},\"id\":\"16eab609-783c-4cd8-bdb3-1268df9708cb\",\"type\":\"ColumnDataSource\"},{\"attributes\":{\"data_source\":{\"id\":\"9551684e-db23-4099-8aab-0ceb6368916c\",\"type\":\"ColumnDataSource\"},\"glyph\":{\"id\":\"22c9c7d9-77e2-4fec-876a-277a94343eb0\",\"type\":\"Rect\"},\"hover_glyph\":null,\"nonselection_glyph\":null,\"selection_glyph\":null},\"id\":\"aa3dd637-ee11-420c-9ba3-1f5272a3d79b\",\"type\":\"GlyphRenderer\"},{\"attributes\":{\"fill_alpha\":{\"field\":\"fill_alpha\"},\"fill_color\":{\"field\":\"color\"},\"height\":{\"field\":\"height\",\"units\":\"data\"},\"line_color\":{\"field\":\"line_color\"},\"width\":{\"field\":\"width\",\"units\":\"data\"},\"x\":{\"field\":\"x\"},\"y\":{\"field\":\"y\"}},\"id\":\"06820483-ee39-4acc-a1cc-673435028889\",\"type\":\"Rect\"},{\"attributes\":{\"fill_alpha\":{\"field\":\"fill_alpha\"},\"fill_color\":{\"field\":\"color\"},\"height\":{\"field\":\"height\",\"units\":\"data\"},\"line_color\":{\"field\":\"line_color\"},\"width\":{\"field\":\"width\",\"units\":\"data\"},\"x\":{\"field\":\"x\"},\"y\":{\"field\":\"y\"}},\"id\":\"edc63860-aefe-42ce-999d-33460e51eae5\",\"type\":\"Rect\"},{\"attributes\":{\"callback\":null,\"column_names\":[\"label\",\"line_alpha\",\"x\",\"width\",\"line_color\",\"y\",\"fill_alpha\",\"height\",\"color\"],\"data\":{\"chart_index\":[\"(7.5, 7.7]\"],\"color\":[\"#f22c40\"],\"fill_alpha\":[0.6],\"height\":[0.0],\"label\":[\"(7.5, 7.7]\"],\"line_alpha\":[1.0],\"line_color\":[\"black\"],\"width\":[0.16666666666666607],\"x\":[\"7.6\"],\"y\":[0.0]}},\"id\":\"ea65eca9-336f-468a-b615-30319405196b\",\"type\":\"ColumnDataSource\"},{\"attributes\":{\"fill_alpha\":{\"field\":\"fill_alpha\"},\"fill_color\":{\"field\":\"color\"},\"height\":{\"field\":\"height\",\"units\":\"data\"},\"line_color\":{\"field\":\"line_color\"},\"width\":{\"field\":\"width\",\"units\":\"data\"},\"x\":{\"field\":\"x\"},\"y\":{\"field\":\"y\"}},\"id\":\"006d662d-73ed-4a35-8c01-ffb4cdfa04ba\",\"type\":\"Rect\"},{\"attributes\":{\"fill_alpha\":{\"field\":\"fill_alpha\"},\"fill_color\":{\"field\":\"color\"},\"height\":{\"field\":\"height\",\"units\":\"data\"},\"line_color\":{\"field\":\"line_color\"},\"width\":{\"field\":\"width\",\"units\":\"data\"},\"x\":{\"field\":\"x\"},\"y\":{\"field\":\"y\"}},\"id\":\"ba0090de-3873-4e9f-9e35-e3fb01890d1b\",\"type\":\"Rect\"},{\"attributes\":{},\"id\":\"eb5ea7dd-4da6-4c1e-aff5-8c49cd602803\",\"type\":\"CategoricalTicker\"},{\"attributes\":{\"fill_alpha\":{\"field\":\"fill_alpha\"},\"fill_color\":{\"field\":\"color\"},\"height\":{\"field\":\"height\",\"units\":\"data\"},\"line_color\":{\"field\":\"line_color\"},\"width\":{\"field\":\"width\",\"units\":\"data\"},\"x\":{\"field\":\"x\"},\"y\":{\"field\":\"y\"}},\"id\":\"80e2f789-8998-4df6-8e62-7e011ee91b84\",\"type\":\"Rect\"},{\"attributes\":{\"callback\":null,\"column_names\":[\"label\",\"line_alpha\",\"x\",\"width\",\"line_color\",\"y\",\"fill_alpha\",\"height\",\"color\"],\"data\":{\"chart_index\":[\"(7.1, 7.2]\"],\"color\":[\"#5ab738\"],\"fill_alpha\":[0.6],\"height\":[0.0],\"label\":[\"(7.1, 7.2]\"],\"line_alpha\":[1.0],\"line_color\":[\"black\"],\"width\":[0.11764705882352988],\"x\":[\"7.15\"],\"y\":[0.0]}},\"id\":\"aa7f122a-6f27-465e-9460-72d6ae05f3cf\",\"type\":\"ColumnDataSource\"},{\"attributes\":{\"data_source\":{\"id\":\"5dfcb629-8ea5-41fa-b438-9fd4c7a80a22\",\"type\":\"ColumnDataSource\"},\"glyph\":{\"id\":\"06820483-ee39-4acc-a1cc-673435028889\",\"type\":\"Rect\"},\"hover_glyph\":null,\"nonselection_glyph\":null,\"selection_glyph\":null},\"id\":\"1c55811f-32ac-426c-a7a2-97c2eee6f81e\",\"type\":\"GlyphRenderer\"},{\"attributes\":{\"fill_alpha\":{\"field\":\"fill_alpha\"},\"fill_color\":{\"field\":\"color\"},\"height\":{\"field\":\"height\",\"units\":\"data\"},\"line_color\":{\"field\":\"line_color\"},\"width\":{\"field\":\"width\",\"units\":\"data\"},\"x\":{\"field\":\"x\"},\"y\":{\"field\":\"y\"}},\"id\":\"ffabcfb5-5c08-4062-9d41-21d238e20908\",\"type\":\"Rect\"},{\"attributes\":{\"fill_alpha\":{\"field\":\"fill_alpha\"},\"fill_color\":{\"field\":\"color\"},\"height\":{\"field\":\"height\",\"units\":\"data\"},\"line_color\":{\"field\":\"line_color\"},\"width\":{\"field\":\"width\",\"units\":\"data\"},\"x\":{\"field\":\"x\"},\"y\":{\"field\":\"y\"}},\"id\":\"b6cb265e-7c58-4bb1-a45f-3a1e7ceb58e5\",\"type\":\"Rect\"},{\"attributes\":{\"fill_alpha\":{\"field\":\"fill_alpha\"},\"fill_color\":{\"field\":\"color\"},\"height\":{\"field\":\"height\",\"units\":\"data\"},\"line_color\":{\"field\":\"line_color\"},\"width\":{\"field\":\"width\",\"units\":\"data\"},\"x\":{\"field\":\"x\"},\"y\":{\"field\":\"y\"}},\"id\":\"35c96653-d8a1-4eae-95d1-30bff8fe0ae2\",\"type\":\"Rect\"},{\"attributes\":{\"callback\":null,\"column_names\":[\"label\",\"line_alpha\",\"x\",\"width\",\"line_color\",\"y\",\"fill_alpha\",\"height\",\"color\"],\"data\":{\"chart_index\":[\"(4.3, 4.5]\"],\"color\":[\"#f22c40\"],\"fill_alpha\":[0.6],\"height\":[0.0],\"label\":[\"(4.3, 4.5]\"],\"line_alpha\":[1.0],\"line_color\":[\"black\"],\"width\":[0.16666666666666696],\"x\":[\"4.4\"],\"y\":[0.0]}},\"id\":\"59a719b5-0710-4015-a197-614e1ffd1921\",\"type\":\"ColumnDataSource\"},{\"attributes\":{\"data_source\":{\"id\":\"40348152-fe98-4ace-b7c9-0300db98b829\",\"type\":\"ColumnDataSource\"},\"glyph\":{\"id\":\"86817267-118b-492f-941d-d4c6f61f7fb0\",\"type\":\"Rect\"},\"hover_glyph\":null,\"nonselection_glyph\":null,\"selection_glyph\":null},\"id\":\"68164212-fc0f-4fcc-ab7a-baca32c63688\",\"type\":\"GlyphRenderer\"},{\"attributes\":{\"callback\":null,\"column_names\":[\"label\",\"line_alpha\",\"x\",\"width\",\"line_color\",\"y\",\"fill_alpha\",\"height\",\"color\"],\"data\":{\"chart_index\":[\"(3.8, 3.9]\"],\"color\":[\"#5ab738\"],\"fill_alpha\":[0.6],\"height\":[0.0],\"label\":[\"(3.8, 3.9]\"],\"line_alpha\":[1.0],\"line_color\":[\"black\"],\"width\":[0.11764705882352988],\"x\":[\"3.8499999999999996\"],\"y\":[0.0]}},\"id\":\"b387c6d5-df79-4582-8aaf-186affa03b32\",\"type\":\"ColumnDataSource\"},{\"attributes\":{\"data_source\":{\"id\":\"2369ccec-b41d-409b-8328-4215fc704fb3\",\"type\":\"ColumnDataSource\"},\"glyph\":{\"id\":\"e3699922-3e48-45e7-8e8d-055cecf2f00d\",\"type\":\"Rect\"},\"hover_glyph\":null,\"nonselection_glyph\":null,\"selection_glyph\":null},\"id\":\"e97e52e2-b8b7-4b74-93e9-7896a75baeeb\",\"type\":\"GlyphRenderer\"},{\"attributes\":{\"callback\":null,\"column_names\":[\"label\",\"line_alpha\",\"x\",\"width\",\"line_color\",\"y\",\"fill_alpha\",\"height\",\"color\"],\"data\":{\"chart_index\":[\"(4.8, 5.0]\"],\"color\":[\"#f22c40\"],\"fill_alpha\":[0.6],\"height\":[0.0],\"label\":[\"(4.8, 5.0]\"],\"line_alpha\":[1.0],\"line_color\":[\"black\"],\"width\":[0.16666666666666696],\"x\":[\"4.9\"],\"y\":[0.0]}},\"id\":\"68cd21ba-dab4-4532-a04b-f1dc8eed3987\",\"type\":\"ColumnDataSource\"},{\"attributes\":{\"fill_alpha\":{\"field\":\"fill_alpha\"},\"fill_color\":{\"field\":\"color\"},\"height\":{\"field\":\"height\",\"units\":\"data\"},\"line_color\":{\"field\":\"line_color\"},\"width\":{\"field\":\"width\",\"units\":\"data\"},\"x\":{\"field\":\"x\"},\"y\":{\"field\":\"y\"}},\"id\":\"22c9c7d9-77e2-4fec-876a-277a94343eb0\",\"type\":\"Rect\"},{\"attributes\":{\"fill_alpha\":{\"field\":\"fill_alpha\"},\"fill_color\":{\"field\":\"color\"},\"height\":{\"field\":\"height\",\"units\":\"data\"},\"line_color\":{\"field\":\"line_color\"},\"width\":{\"field\":\"width\",\"units\":\"data\"},\"x\":{\"field\":\"x\"},\"y\":{\"field\":\"y\"}},\"id\":\"22283e20-517f-4ed4-88a6-1616c7622a3e\",\"type\":\"Rect\"},{\"attributes\":{\"data_source\":{\"id\":\"af59c930-5c51-423d-9e9d-471b484a404a\",\"type\":\"ColumnDataSource\"},\"glyph\":{\"id\":\"35c96653-d8a1-4eae-95d1-30bff8fe0ae2\",\"type\":\"Rect\"},\"hover_glyph\":null,\"nonselection_glyph\":null,\"selection_glyph\":null},\"id\":\"b0d059c5-a053-4500-a72a-d65a17b7b284\",\"type\":\"GlyphRenderer\"},{\"attributes\":{\"fill_alpha\":{\"field\":\"fill_alpha\"},\"fill_color\":{\"field\":\"color\"},\"height\":{\"field\":\"height\",\"units\":\"data\"},\"line_color\":{\"field\":\"line_color\"},\"width\":{\"field\":\"width\",\"units\":\"data\"},\"x\":{\"field\":\"x\"},\"y\":{\"field\":\"y\"}},\"id\":\"f88c34e9-5863-4e02-b58b-2ff17b2603e2\",\"type\":\"Rect\"},{\"attributes\":{\"below\":[{\"id\":\"e3044871-8a6b-4081-8cbd-a9819110014b\",\"type\":\"CategoricalAxis\"}],\"left\":[{\"id\":\"0e135698-43d8-4d99-b1a0-54e905019237\",\"type\":\"LinearAxis\"}],\"plot_height\":400,\"plot_width\":400,\"renderers\":[{\"id\":\"02493e49-1cfe-4898-bf77-44dd5ecc2f29\",\"type\":\"BoxAnnotation\"},{\"id\":\"d21e9b87-ec40-47a7-9c56-3e4555a9ef36\",\"type\":\"GlyphRenderer\"},{\"id\":\"e97e52e2-b8b7-4b74-93e9-7896a75baeeb\",\"type\":\"GlyphRenderer\"},{\"id\":\"e3044871-8a6b-4081-8cbd-a9819110014b\",\"type\":\"CategoricalAxis\"},{\"id\":\"0e135698-43d8-4d99-b1a0-54e905019237\",\"type\":\"LinearAxis\"},{\"id\":\"60f89afc-806a-4b87-a18b-fcee46f6847d\",\"type\":\"Grid\"}],\"title\":{\"id\":\"cc5309dc-2bed-4169-9254-8341fc994f6d\",\"type\":\"Title\"},\"tool_events\":{\"id\":\"fbbb540d-ec88-40c6-830b-abe1781d3fe7\",\"type\":\"ToolEvents\"},\"toolbar\":{\"id\":\"ca31244d-6503-49c1-ac9c-9d3b1bea3a47\",\"type\":\"Toolbar\"},\"toolbar_location\":null,\"x_mapper_type\":\"auto\",\"x_range\":{\"id\":\"454e9673-f94b-4f39-b815-da4f23ad9dba\",\"type\":\"FactorRange\"},\"y_mapper_type\":\"auto\",\"y_range\":{\"id\":\"9d3879cb-49f3-4b63-a6f8-abe240b30260\",\"type\":\"Range1d\"}},\"id\":\"b13f78dc-6857-4e56-9717-e7f14380f51d\",\"subtype\":\"Chart\",\"type\":\"Plot\"},{\"attributes\":{\"callback\":null,\"column_names\":[\"label\",\"line_alpha\",\"x\",\"width\",\"line_color\",\"y\",\"fill_alpha\",\"height\",\"color\"],\"data\":{\"chart_index\":[\"(5.6, 5.7]\"],\"color\":[\"#5ab738\"],\"fill_alpha\":[0.6],\"height\":[0.0],\"label\":[\"(5.6, 5.7]\"],\"line_alpha\":[1.0],\"line_color\":[\"black\"],\"width\":[0.11764705882352988],\"x\":[\"5.65\"],\"y\":[0.0]}},\"id\":\"788f4961-e240-4d8e-9d86-12f68a7fe0e0\",\"type\":\"ColumnDataSource\"},{\"attributes\":{\"below\":[{\"id\":\"d73b9b68-cedd-4837-9321-a182fff2f6f1\",\"type\":\"LinearAxis\"}],\"left\":[{\"id\":\"f6d11717-b484-462c-9ec7-a7a2080e125b\",\"type\":\"LinearAxis\"}],\"plot_height\":400,\"plot_width\":400,\"renderers\":[{\"id\":\"d3b33f9c-23f1-4349-8535-2d2e24e59ac6\",\"type\":\"BoxAnnotation\"},{\"id\":\"ab18db1d-f45a-433d-bb5c-6a5b92786bc6\",\"type\":\"GlyphRenderer\"},{\"id\":\"b0d059c5-a053-4500-a72a-d65a17b7b284\",\"type\":\"GlyphRenderer\"},{\"id\":\"1a5cfe33-9137-48e9-93ec-b0908cc07e00\",\"type\":\"GlyphRenderer\"},{\"id\":\"150c5d25-e7ad-4efc-9163-336a97921835\",\"type\":\"GlyphRenderer\"},{\"id\":\"6d88a340-6087-4a3d-8181-dd21c9812fb2\",\"type\":\"GlyphRenderer\"},{\"id\":\"e6e0f08a-ec4d-4e66-ba5b-72abf00c1517\",\"type\":\"GlyphRenderer\"},{\"id\":\"66d5ad71-2ed4-480b-8e6d-edc442b6e751\",\"type\":\"GlyphRenderer\"},{\"id\":\"bae66caf-356d-4c5c-ae34-83b736d3b33b\",\"type\":\"GlyphRenderer\"},{\"id\":\"a4ad6f79-e8ca-46e5-b3e8-91d6412e3b26\",\"type\":\"GlyphRenderer\"},{\"id\":\"7d7d3aa4-9058-4d87-b293-b6b70eb8bb16\",\"type\":\"GlyphRenderer\"},{\"id\":\"a6e80d8a-27cf-4b2c-9627-4d5acf8b1a14\",\"type\":\"GlyphRenderer\"},{\"id\":\"a4cdcf79-6890-4c67-aab5-3e43c5b3d3a5\",\"type\":\"GlyphRenderer\"},{\"id\":\"a74b8a96-8b53-48b0-a27d-7b2fdd997f8e\",\"type\":\"GlyphRenderer\"},{\"id\":\"0b4b7b18-39ff-4402-be7a-d95dab7fc9fd\",\"type\":\"GlyphRenderer\"},{\"id\":\"eeade9e4-b7d1-4941-a5f9-e23430bfae31\",\"type\":\"GlyphRenderer\"},{\"id\":\"d9cc371d-cc09-4392-b68e-4c15d652e1be\",\"type\":\"GlyphRenderer\"},{\"id\":\"9a8f00b8-c791-438d-90b5-892a116bc272\",\"type\":\"GlyphRenderer\"},{\"id\":\"063cc22d-fde9-4d9e-b6ba-86b594488935\",\"type\":\"GlyphRenderer\"},{\"id\":\"b472ea6c-f254-4c10-84a9-f27ac9a8c012\",\"type\":\"GlyphRenderer\"},{\"id\":\"deb3c910-fe0f-43a7-96f5-8d05d3f12ff3\",\"type\":\"GlyphRenderer\"},{\"id\":\"738a73dd-d10e-4b5c-b4d4-2410429538df\",\"type\":\"GlyphRenderer\"},{\"id\":\"aa7bec5b-e79f-484b-a859-525805ba93b8\",\"type\":\"GlyphRenderer\"},{\"id\":\"a441604b-7c02-47dc-9df1-4031e6efa86a\",\"type\":\"GlyphRenderer\"},{\"id\":\"d14965f3-7598-4087-a0d2-17216c4c8b8a\",\"type\":\"GlyphRenderer\"},{\"id\":\"bba3ac89-abf8-40b6-b1eb-ee0d881c45ba\",\"type\":\"GlyphRenderer\"},{\"id\":\"a0ccff18-6158-41f8-ac42-27e0449a48d3\",\"type\":\"GlyphRenderer\"},{\"id\":\"2e676c05-fe11-479f-afa0-4c6c820da62a\",\"type\":\"GlyphRenderer\"},{\"id\":\"31c7c1fb-ad90-4271-8b59-8f9b74330c87\",\"type\":\"GlyphRenderer\"},{\"id\":\"1ed7a6ef-84b2-4249-b386-9de8bdbc40b2\",\"type\":\"GlyphRenderer\"},{\"id\":\"3a41f8a3-fc5f-4bfa-ba3b-cae78f584024\",\"type\":\"GlyphRenderer\"},{\"id\":\"63a0a625-619d-4442-a854-dc68bd04526d\",\"type\":\"GlyphRenderer\"},{\"id\":\"9dead404-5dff-40c0-9424-68d10108628d\",\"type\":\"GlyphRenderer\"},{\"id\":\"2ba2ca3a-f3f1-446b-a622-b657343fe074\",\"type\":\"GlyphRenderer\"},{\"id\":\"15ead87d-a72c-47c0-9d64-9594b3e3106a\",\"type\":\"GlyphRenderer\"},{\"id\":\"aa334723-154e-4414-afce-a015c8e235b8\",\"type\":\"GlyphRenderer\"},{\"id\":\"ea4b2c95-f41a-4018-89a4-7c952d05f8ae\",\"type\":\"GlyphRenderer\"},{\"id\":\"047870aa-2aa2-41e6-ab64-4227037ea8a6\",\"type\":\"GlyphRenderer\"},{\"id\":\"972c03bb-1381-417c-84b5-03c7d77411d9\",\"type\":\"GlyphRenderer\"},{\"id\":\"17b5872c-43dd-4d39-bc70-336cbae31ac4\",\"type\":\"GlyphRenderer\"},{\"id\":\"152fb1a7-d1fa-4f60-9612-549a5bc27264\",\"type\":\"GlyphRenderer\"},{\"id\":\"90d374e0-350f-4b9d-b967-c69c7889a0d8\",\"type\":\"GlyphRenderer\"},{\"id\":\"68164212-fc0f-4fcc-ab7a-baca32c63688\",\"type\":\"GlyphRenderer\"},{\"id\":\"ff7b30c4-8d77-4c4f-9388-158033643b20\",\"type\":\"GlyphRenderer\"},{\"id\":\"767657b8-30ca-4b8d-bfcf-8b62d4c5b52f\",\"type\":\"GlyphRenderer\"},{\"id\":\"c5b60815-8937-4255-866c-e6b5e50df943\",\"type\":\"GlyphRenderer\"},{\"id\":\"ff24595c-fe21-43b2-8830-6d403d51325b\",\"type\":\"GlyphRenderer\"},{\"id\":\"ea0246db-0755-4a41-9487-5e3b274d37bd\",\"type\":\"GlyphRenderer\"},{\"id\":\"d9f0a86c-3601-4c38-9f7a-0e92c9bfde2b\",\"type\":\"GlyphRenderer\"},{\"id\":\"a4aa4b21-a19e-4ad1-bbe4-541e10c126ff\",\"type\":\"GlyphRenderer\"},{\"id\":\"e6cb79f5-59da-4663-a55d-09fa1f10ccda\",\"type\":\"GlyphRenderer\"},{\"id\":\"b38be060-559a-4754-8a80-df1772217c82\",\"type\":\"GlyphRenderer\"},{\"id\":\"7effa3d4-5cd3-4407-a40e-d093d1ebcc93\",\"type\":\"GlyphRenderer\"},{\"id\":\"aa3dd637-ee11-420c-9ba3-1f5272a3d79b\",\"type\":\"GlyphRenderer\"},{\"id\":\"3aa7396c-8854-49a8-96dc-229820a35af5\",\"type\":\"GlyphRenderer\"},{\"id\":\"eddbcc1a-20ba-4397-be45-4836646b83e3\",\"type\":\"GlyphRenderer\"},{\"id\":\"dcc22601-3f13-4cb6-b5a1-965d33b636a5\",\"type\":\"GlyphRenderer\"},{\"id\":\"fbdb614f-9654-45a0-8fff-c27abf8e98d0\",\"type\":\"GlyphRenderer\"},{\"id\":\"b54e7387-f616-47f0-94ff-ed9551d342d3\",\"type\":\"GlyphRenderer\"},{\"id\":\"48086f3b-c3b8-48e2-8868-821e8054c54b\",\"type\":\"GlyphRenderer\"},{\"id\":\"16d58883-ae0d-46b9-8f21-5a0f6ef77325\",\"type\":\"GlyphRenderer\"},{\"id\":\"c3786afc-9f77-4404-b55b-f07db4ea786f\",\"type\":\"GlyphRenderer\"},{\"id\":\"0630471d-1eab-4316-a271-74ee7e22e6be\",\"type\":\"GlyphRenderer\"},{\"id\":\"12e173c2-c3e6-4076-ba9f-b53e68733e5c\",\"type\":\"GlyphRenderer\"},{\"id\":\"fdd24619-cde4-45fb-a0c7-4ef84c9ba2b6\",\"type\":\"GlyphRenderer\"},{\"id\":\"ebd66202-d993-4f4f-b6fc-bece7b0ea608\",\"type\":\"GlyphRenderer\"},{\"id\":\"ea2e6d84-d1c8-44c4-8c20-337812244a2c\",\"type\":\"GlyphRenderer\"},{\"id\":\"696a0e7c-ca70-4e11-aa23-ef184455145d\",\"type\":\"GlyphRenderer\"},{\"id\":\"71b9ff37-33bb-4054-85d9-faafb810f0c0\",\"type\":\"GlyphRenderer\"},{\"id\":\"027c6717-6b9d-41e2-b91c-7787a1166a60\",\"type\":\"GlyphRenderer\"},{\"id\":\"be101447-6fa2-47fa-aec8-e1c77e421775\",\"type\":\"GlyphRenderer\"},{\"id\":\"b36533c3-d1ed-4c69-8b36-25c1400c1cd3\",\"type\":\"GlyphRenderer\"},{\"id\":\"29900bb4-822b-4c5b-b71f-41414d56c986\",\"type\":\"GlyphRenderer\"},{\"id\":\"6bf96ac0-b27a-4fb1-b0fe-1cf0fecc916f\",\"type\":\"GlyphRenderer\"},{\"id\":\"6753ab31-cc0e-4ec8-988f-73292474d089\",\"type\":\"GlyphRenderer\"},{\"id\":\"75c65a05-399c-4f0c-94be-12cefa1701bb\",\"type\":\"GlyphRenderer\"},{\"id\":\"26578b84-88f8-429b-88e9-0959d985fa54\",\"type\":\"GlyphRenderer\"},{\"id\":\"1c55811f-32ac-426c-a7a2-97c2eee6f81e\",\"type\":\"GlyphRenderer\"},{\"id\":\"a516391c-ddb0-4985-af2d-4a06f86f9d16\",\"type\":\"GlyphRenderer\"},{\"id\":\"f9dc5992-c970-4828-a3f1-1dfacb1596c0\",\"type\":\"GlyphRenderer\"},{\"id\":\"5f688d3c-5f78-4382-a438-9273cc155eae\",\"type\":\"GlyphRenderer\"},{\"id\":\"0d1b5fc6-4d1e-4d41-99b9-662ab9512b7c\",\"type\":\"GlyphRenderer\"},{\"id\":\"045c5eb8-9d08-4b41-bbb0-7ac656b1e415\",\"type\":\"Legend\"},{\"id\":\"d73b9b68-cedd-4837-9321-a182fff2f6f1\",\"type\":\"LinearAxis\"},{\"id\":\"f6d11717-b484-462c-9ec7-a7a2080e125b\",\"type\":\"LinearAxis\"},{\"id\":\"08b3012f-64cc-4196-87f8-5eeecdee335d\",\"type\":\"Grid\"}],\"title\":{\"id\":\"1ae75eba-7d8c-42d3-819d-6c0418a03214\",\"type\":\"Title\"},\"tool_events\":{\"id\":\"9624ada9-66e7-4735-a0eb-3f1e620826cc\",\"type\":\"ToolEvents\"},\"toolbar\":{\"id\":\"47500c21-fd23-4a1a-b9e8-6d905757c78c\",\"type\":\"Toolbar\"},\"toolbar_location\":null,\"x_mapper_type\":\"auto\",\"x_range\":{\"id\":\"6d737054-d28e-4601-90ee-f03b1e68de21\",\"type\":\"Range1d\"},\"y_mapper_type\":\"auto\",\"y_range\":{\"id\":\"75ab3540-eef8-4a3c-ae4d-29c8ed441508\",\"type\":\"Range1d\"}},\"id\":\"43f34e99-46a3-4936-9afd-f46c0e7f2eb7\",\"subtype\":\"Chart\",\"type\":\"Plot\"},{\"attributes\":{\"children\":[{\"id\":\"b13f78dc-6857-4e56-9717-e7f14380f51d\",\"subtype\":\"Chart\",\"type\":\"Plot\"},{\"id\":\"43f34e99-46a3-4936-9afd-f46c0e7f2eb7\",\"subtype\":\"Chart\",\"type\":\"Plot\"}]},\"id\":\"ae421cac-14c4-4ca5-8561-c1a18a999949\",\"type\":\"Row\"},{\"attributes\":{\"fill_alpha\":{\"field\":\"fill_alpha\"},\"fill_color\":{\"field\":\"color\"},\"height\":{\"field\":\"height\",\"units\":\"data\"},\"line_color\":{\"field\":\"line_color\"},\"width\":{\"field\":\"width\",\"units\":\"data\"},\"x\":{\"field\":\"x\"},\"y\":{\"field\":\"y\"}},\"id\":\"1fe5022f-3ecc-4a36-a632-aa4d3a5c9ca0\",\"type\":\"Rect\"},{\"attributes\":{\"callback\":null,\"column_names\":[\"label\",\"line_alpha\",\"x\",\"width\",\"line_color\",\"y\",\"fill_alpha\",\"height\",\"color\"],\"data\":{\"chart_index\":[\"(3.1, 3.2]\"],\"color\":[\"#5ab738\"],\"fill_alpha\":[0.6],\"height\":[0.0],\"label\":[\"(3.1, 3.2]\"],\"line_alpha\":[1.0],\"line_color\":[\"black\"],\"width\":[0.11764705882352944],\"x\":[\"3.1500000000000004\"],\"y\":[0.0]}},\"id\":\"af59c930-5c51-423d-9e9d-471b484a404a\",\"type\":\"ColumnDataSource\"},{\"attributes\":{\"fill_alpha\":{\"field\":\"fill_alpha\"},\"fill_color\":{\"field\":\"color\"},\"height\":{\"field\":\"height\",\"units\":\"data\"},\"line_color\":{\"field\":\"line_color\"},\"width\":{\"field\":\"width\",\"units\":\"data\"},\"x\":{\"field\":\"x\"},\"y\":{\"field\":\"y\"}},\"id\":\"a55c095a-e7b6-4e55-9281-b9a503491216\",\"type\":\"Rect\"},{\"attributes\":{\"fill_alpha\":{\"field\":\"fill_alpha\"},\"fill_color\":{\"field\":\"color\"},\"height\":{\"field\":\"height\",\"units\":\"data\"},\"line_color\":{\"field\":\"line_color\"},\"width\":{\"field\":\"width\",\"units\":\"data\"},\"x\":{\"field\":\"x\"},\"y\":{\"field\":\"y\"}},\"id\":\"fdb0d47f-4724-4be0-b3b8-02c7d737f246\",\"type\":\"Rect\"},{\"attributes\":{\"callback\":null,\"column_names\":[\"label\",\"line_alpha\",\"x\",\"width\",\"line_color\",\"y\",\"fill_alpha\",\"height\",\"color\"],\"data\":{\"chart_index\":[{\"white?\":0}],\"color\":[\"#f22c40\"],\"fill_alpha\":[0.8],\"height\":[1599.0],\"label\":[{\"white?\":0}],\"line_alpha\":[1.0],\"line_color\":[\"white\"],\"white?\":[0],\"width\":[0.8],\"x\":[\"0\"],\"y\":[799.5]}},\"id\":\"2369ccec-b41d-409b-8328-4215fc704fb3\",\"type\":\"ColumnDataSource\"},{\"attributes\":{\"fill_alpha\":{\"field\":\"fill_alpha\"},\"fill_color\":{\"field\":\"color\"},\"height\":{\"field\":\"height\",\"units\":\"data\"},\"line_color\":{\"field\":\"line_color\"},\"width\":{\"field\":\"width\",\"units\":\"data\"},\"x\":{\"field\":\"x\"},\"y\":{\"field\":\"y\"}},\"id\":\"f8533081-c32f-4475-9930-24abcebf9e7b\",\"type\":\"Rect\"},{\"attributes\":{\"data_source\":{\"id\":\"64236b89-e9b3-43b9-9f0a-e5752069f925\",\"type\":\"ColumnDataSource\"},\"glyph\":{\"id\":\"87b83e8b-3313-44c2-9484-6394fe4d69db\",\"type\":\"Rect\"},\"hover_glyph\":null,\"nonselection_glyph\":null,\"selection_glyph\":null},\"id\":\"eddbcc1a-20ba-4397-be45-4836646b83e3\",\"type\":\"GlyphRenderer\"},{\"attributes\":{},\"id\":\"f27715fb-a9ed-4a37-8bf9-6bae034f0f81\",\"type\":\"BasicTicker\"},{\"attributes\":{\"fill_alpha\":{\"field\":\"fill_alpha\"},\"fill_color\":{\"field\":\"color\"},\"height\":{\"field\":\"height\",\"units\":\"data\"},\"line_color\":{\"field\":\"line_color\"},\"width\":{\"field\":\"width\",\"units\":\"data\"},\"x\":{\"field\":\"x\"},\"y\":{\"field\":\"y\"}},\"id\":\"e3699922-3e48-45e7-8e8d-055cecf2f00d\",\"type\":\"Rect\"},{\"attributes\":{\"data_source\":{\"id\":\"7e27f499-a431-47dc-81d1-6571b0cea714\",\"type\":\"ColumnDataSource\"},\"glyph\":{\"id\":\"5caf8d40-493f-407b-9597-4bc7cf076bfc\",\"type\":\"Rect\"},\"hover_glyph\":null,\"nonselection_glyph\":null,\"selection_glyph\":null},\"id\":\"1ed7a6ef-84b2-4249-b386-9de8bdbc40b2\",\"type\":\"GlyphRenderer\"},{\"attributes\":{\"callback\":null,\"column_names\":[\"label\",\"line_alpha\",\"x\",\"width\",\"line_color\",\"y\",\"fill_alpha\",\"height\",\"color\"],\"data\":{\"chart_index\":[\"(4.5, 4.7]\"],\"color\":[\"#f22c40\"],\"fill_alpha\":[0.6],\"height\":[0.0],\"label\":[\"(4.5, 4.7]\"],\"line_alpha\":[1.0],\"line_color\":[\"black\"],\"width\":[0.16666666666666607],\"x\":[\"4.6\"],\"y\":[0.0]}},\"id\":\"06c314c3-d959-42bd-ad94-27773c145196\",\"type\":\"ColumnDataSource\"},{\"attributes\":{\"fill_alpha\":{\"field\":\"fill_alpha\"},\"fill_color\":{\"field\":\"color\"},\"height\":{\"field\":\"height\",\"units\":\"data\"},\"line_color\":{\"field\":\"line_color\"},\"width\":{\"field\":\"width\",\"units\":\"data\"},\"x\":{\"field\":\"x\"},\"y\":{\"field\":\"y\"}},\"id\":\"482d3819-6ecf-42ef-a4b3-963753676b6a\",\"type\":\"Rect\"},{\"attributes\":{\"fill_alpha\":{\"field\":\"fill_alpha\"},\"fill_color\":{\"field\":\"color\"},\"height\":{\"field\":\"height\",\"units\":\"data\"},\"line_color\":{\"field\":\"line_color\"},\"width\":{\"field\":\"width\",\"units\":\"data\"},\"x\":{\"field\":\"x\"},\"y\":{\"field\":\"y\"}},\"id\":\"9250255e-b188-404d-a25f-dd2013b1dc06\",\"type\":\"Rect\"},{\"attributes\":{\"callback\":null,\"column_names\":[\"label\",\"line_alpha\",\"x\",\"width\",\"line_color\",\"y\",\"fill_alpha\",\"height\",\"color\"],\"data\":{\"chart_index\":[\"(6.4, 6.5]\"],\"color\":[\"#5ab738\"],\"fill_alpha\":[0.6],\"height\":[0.0],\"label\":[\"(6.4, 6.5]\"],\"line_alpha\":[1.0],\"line_color\":[\"black\"],\"width\":[0.117647058823529],\"x\":[\"6.45\"],\"y\":[0.0]}},\"id\":\"400e66c2-5d6e-4e64-8965-ee6f3cde2ef0\",\"type\":\"ColumnDataSource\"},{\"attributes\":{\"data_source\":{\"id\":\"120582a5-fbe9-4105-897a-28986c9c6358\",\"type\":\"ColumnDataSource\"},\"glyph\":{\"id\":\"9f1910f2-01d7-4125-ab89-d74131742dd2\",\"type\":\"Rect\"},\"hover_glyph\":null,\"nonselection_glyph\":null,\"selection_glyph\":null},\"id\":\"a516391c-ddb0-4985-af2d-4a06f86f9d16\",\"type\":\"GlyphRenderer\"},{\"attributes\":{\"data_source\":{\"id\":\"eb5ba82b-510d-4d7c-8890-f1ba3f397a72\",\"type\":\"ColumnDataSource\"},\"glyph\":{\"id\":\"482d3819-6ecf-42ef-a4b3-963753676b6a\",\"type\":\"Rect\"},\"hover_glyph\":null,\"nonselection_glyph\":null,\"selection_glyph\":null},\"id\":\"15ead87d-a72c-47c0-9d64-9594b3e3106a\",\"type\":\"GlyphRenderer\"},{\"attributes\":{\"callback\":null,\"column_names\":[\"label\",\"line_alpha\",\"x\",\"width\",\"line_color\",\"y\",\"fill_alpha\",\"height\",\"color\"],\"data\":{\"chart_index\":[\"(6.2, 6.3]\"],\"color\":[\"#5ab738\"],\"fill_alpha\":[0.6],\"height\":[0.0],\"label\":[\"(6.2, 6.3]\"],\"line_alpha\":[1.0],\"line_color\":[\"black\"],\"width\":[0.11764705882352988],\"x\":[\"6.25\"],\"y\":[0.0]}},\"id\":\"516b3186-5c71-4242-b5d8-e5b43bbed0b0\",\"type\":\"ColumnDataSource\"},{\"attributes\":{\"dimension\":1,\"plot\":{\"id\":\"b13f78dc-6857-4e56-9717-e7f14380f51d\",\"subtype\":\"Chart\",\"type\":\"Plot\"},\"ticker\":{\"id\":\"948aba8c-9703-4a21-9346-b53838d0493f\",\"type\":\"BasicTicker\"}},\"id\":\"60f89afc-806a-4b87-a18b-fcee46f6847d\",\"type\":\"Grid\"},{\"attributes\":{\"data_source\":{\"id\":\"516b3186-5c71-4242-b5d8-e5b43bbed0b0\",\"type\":\"ColumnDataSource\"},\"glyph\":{\"id\":\"d5f31640-3455-4b82-a173-334e12112e2f\",\"type\":\"Rect\"},\"hover_glyph\":null,\"nonselection_glyph\":null,\"selection_glyph\":null},\"id\":\"31c7c1fb-ad90-4271-8b59-8f9b74330c87\",\"type\":\"GlyphRenderer\"},{\"attributes\":{\"data_source\":{\"id\":\"eef1f1a8-81cc-460f-a07c-c0d319885a07\",\"type\":\"ColumnDataSource\"},\"glyph\":{\"id\":\"a07a04f4-5668-4f93-a69e-7859deb35da3\",\"type\":\"Rect\"},\"hover_glyph\":null,\"nonselection_glyph\":null,\"selection_glyph\":null},\"id\":\"26578b84-88f8-429b-88e9-0959d985fa54\",\"type\":\"GlyphRenderer\"},{\"attributes\":{\"data_source\":{\"id\":\"622a9271-36e5-4fdf-a75f-4cfb2b5fc7b0\",\"type\":\"ColumnDataSource\"},\"glyph\":{\"id\":\"d437f3c1-08fe-4c93-87aa-37df88b6744a\",\"type\":\"Rect\"},\"hover_glyph\":null,\"nonselection_glyph\":null,\"selection_glyph\":null},\"id\":\"1a5cfe33-9137-48e9-93ec-b0908cc07e00\",\"type\":\"GlyphRenderer\"},{\"attributes\":{\"callback\":null,\"column_names\":[\"label\",\"line_alpha\",\"x\",\"width\",\"line_color\",\"y\",\"fill_alpha\",\"height\",\"color\"],\"data\":{\"chart_index\":[\"(4.6, 4.8]\"],\"color\":[\"#5ab738\"],\"fill_alpha\":[0.6],\"height\":[0.0],\"label\":[\"(4.6, 4.8]\"],\"line_alpha\":[1.0],\"line_color\":[\"black\"],\"width\":[0.11764705882352988],\"x\":[\"4.699999999999999\"],\"y\":[0.0]}},\"id\":\"8da83059-dcd1-41f5-8657-a6b644524b69\",\"type\":\"ColumnDataSource\"},{\"attributes\":{\"callback\":null,\"column_names\":[\"label\",\"line_alpha\",\"x\",\"width\",\"line_color\",\"y\",\"fill_alpha\",\"height\",\"color\"],\"data\":{\"chart_index\":[\"(6.6, 6.8]\"],\"color\":[\"#5ab738\"],\"fill_alpha\":[0.6],\"height\":[0.0],\"label\":[\"(6.6, 6.8]\"],\"line_alpha\":[1.0],\"line_color\":[\"black\"],\"width\":[0.11764705882352988],\"x\":[\"6.699999999999999\"],\"y\":[0.0]}},\"id\":\"0738a8ed-100c-4aec-8cd7-46d7d06e0369\",\"type\":\"ColumnDataSource\"},{\"attributes\":{\"data_source\":{\"id\":\"bb58ac88-5445-4006-b2b2-d8053c956111\",\"type\":\"ColumnDataSource\"},\"glyph\":{\"id\":\"ea032ff7-f2f7-4383-a79e-31f99f550344\",\"type\":\"Rect\"},\"hover_glyph\":null,\"nonselection_glyph\":null,\"selection_glyph\":null},\"id\":\"a6e80d8a-27cf-4b2c-9627-4d5acf8b1a14\",\"type\":\"GlyphRenderer\"},{\"attributes\":{\"callback\":null,\"column_names\":[\"label\",\"line_alpha\",\"x\",\"width\",\"line_color\",\"y\",\"fill_alpha\",\"height\",\"color\"],\"data\":{\"chart_index\":[\"(7.9, 8.1]\"],\"color\":[\"#5ab738\"],\"fill_alpha\":[0.6],\"height\":[175.0],\"label\":[\"(7.9, 8.1]\"],\"line_alpha\":[1.0],\"line_color\":[\"black\"],\"width\":[0.117647058823529],\"x\":[\"8.0\"],\"y\":[87.5]}},\"id\":\"aedd389f-9bc2-4c1b-925e-0bde96d34903\",\"type\":\"ColumnDataSource\"},{\"attributes\":{\"data_source\":{\"id\":\"c8752449-45e0-4136-9738-3d5204e1161b\",\"type\":\"ColumnDataSource\"},\"glyph\":{\"id\":\"cf7a2927-4a9a-43fd-b775-f68b0ed0e863\",\"type\":\"Rect\"},\"hover_glyph\":null,\"nonselection_glyph\":null,\"selection_glyph\":null},\"id\":\"b472ea6c-f254-4c10-84a9-f27ac9a8c012\",\"type\":\"GlyphRenderer\"},{\"attributes\":{\"fill_alpha\":{\"field\":\"fill_alpha\"},\"fill_color\":{\"field\":\"color\"},\"height\":{\"field\":\"height\",\"units\":\"data\"},\"line_color\":{\"field\":\"line_color\"},\"width\":{\"field\":\"width\",\"units\":\"data\"},\"x\":{\"field\":\"x\"},\"y\":{\"field\":\"y\"}},\"id\":\"041edcfb-e90c-48bb-aab9-28fea637ab6f\",\"type\":\"Rect\"},{\"attributes\":{\"fill_alpha\":{\"field\":\"fill_alpha\"},\"fill_color\":{\"field\":\"color\"},\"height\":{\"field\":\"height\",\"units\":\"data\"},\"line_color\":{\"field\":\"line_color\"},\"width\":{\"field\":\"width\",\"units\":\"data\"},\"x\":{\"field\":\"x\"},\"y\":{\"field\":\"y\"}},\"id\":\"69d0f53e-aaef-46ae-b3dd-91b3c64c994b\",\"type\":\"Rect\"},{\"attributes\":{\"data_source\":{\"id\":\"90173f12-3680-4d72-b50b-7d5506479ff4\",\"type\":\"ColumnDataSource\"},\"glyph\":{\"id\":\"7d88eeeb-23d5-483d-99e8-ae47eed3d7cf\",\"type\":\"Rect\"},\"hover_glyph\":null,\"nonselection_glyph\":null,\"selection_glyph\":null},\"id\":\"71b9ff37-33bb-4054-85d9-faafb810f0c0\",\"type\":\"GlyphRenderer\"},{\"attributes\":{\"data_source\":{\"id\":\"e06e6936-390b-42a4-a73b-bf133b640e47\",\"type\":\"ColumnDataSource\"},\"glyph\":{\"id\":\"8bf137d8-5de4-474b-8aad-a84dc42c7d1e\",\"type\":\"Rect\"},\"hover_glyph\":null,\"nonselection_glyph\":null,\"selection_glyph\":null},\"id\":\"0b4b7b18-39ff-4402-be7a-d95dab7fc9fd\",\"type\":\"GlyphRenderer\"},{\"attributes\":{\"fill_alpha\":{\"field\":\"fill_alpha\"},\"fill_color\":{\"field\":\"color\"},\"height\":{\"field\":\"height\",\"units\":\"data\"},\"line_color\":{\"field\":\"line_color\"},\"width\":{\"field\":\"width\",\"units\":\"data\"},\"x\":{\"field\":\"x\"},\"y\":{\"field\":\"y\"}},\"id\":\"7abf29af-67a9-4f6a-aac0-a6b9e2bf6774\",\"type\":\"Rect\"},{\"attributes\":{\"data_source\":{\"id\":\"6e0ec479-e8b4-43d8-87db-b4eea159b2b0\",\"type\":\"ColumnDataSource\"},\"glyph\":{\"id\":\"7d0eab9a-a376-4e49-9265-e7a7b2c2480d\",\"type\":\"Rect\"},\"hover_glyph\":null,\"nonselection_glyph\":null,\"selection_glyph\":null},\"id\":\"fbdb614f-9654-45a0-8fff-c27abf8e98d0\",\"type\":\"GlyphRenderer\"},{\"attributes\":{\"plot\":{\"id\":\"43f34e99-46a3-4936-9afd-f46c0e7f2eb7\",\"subtype\":\"Chart\",\"type\":\"Plot\"}},\"id\":\"baa83eb8-001d-48af-928f-902d404e70ed\",\"type\":\"PanTool\"},{\"attributes\":{\"callback\":null,\"column_names\":[\"label\",\"line_alpha\",\"x\",\"width\",\"line_color\",\"y\",\"fill_alpha\",\"height\",\"color\"],\"data\":{\"chart_index\":[\"(7.7, 7.8]\"],\"color\":[\"#5ab738\"],\"fill_alpha\":[0.6],\"height\":[0.0],\"label\":[\"(7.7, 7.8]\"],\"line_alpha\":[1.0],\"line_color\":[\"black\"],\"width\":[0.117647058823529],\"x\":[\"7.75\"],\"y\":[0.0]}},\"id\":\"a1b85892-8316-4f86-a118-a11b39d69fa8\",\"type\":\"ColumnDataSource\"},{\"attributes\":{\"plot\":{\"id\":\"43f34e99-46a3-4936-9afd-f46c0e7f2eb7\",\"subtype\":\"Chart\",\"type\":\"Plot\"}},\"id\":\"95bfd0f8-0277-4850-af32-b90644490b6e\",\"type\":\"ResetTool\"},{\"attributes\":{\"data_source\":{\"id\":\"4a1a3ad2-e1c7-41f2-a7b2-c7f869579b10\",\"type\":\"ColumnDataSource\"},\"glyph\":{\"id\":\"ba0090de-3873-4e9f-9e35-e3fb01890d1b\",\"type\":\"Rect\"},\"hover_glyph\":null,\"nonselection_glyph\":null,\"selection_glyph\":null},\"id\":\"fdd24619-cde4-45fb-a0c7-4ef84c9ba2b6\",\"type\":\"GlyphRenderer\"},{\"attributes\":{\"callback\":null,\"column_names\":[\"label\",\"line_alpha\",\"x\",\"width\",\"line_color\",\"y\",\"fill_alpha\",\"height\",\"color\"],\"data\":{\"chart_index\":[\"(3.4, 3.5]\"],\"color\":[\"#5ab738\"],\"fill_alpha\":[0.6],\"height\":[0.0],\"label\":[\"(3.4, 3.5]\"],\"line_alpha\":[1.0],\"line_color\":[\"black\"],\"width\":[0.11764705882352944],\"x\":[\"3.45\"],\"y\":[0.0]}},\"id\":\"da734b75-b981-429e-a745-58f75d7ce56d\",\"type\":\"ColumnDataSource\"},{\"attributes\":{\"plot\":{\"id\":\"b13f78dc-6857-4e56-9717-e7f14380f51d\",\"subtype\":\"Chart\",\"type\":\"Plot\"}},\"id\":\"102c9ccd-76a6-4168-b37e-c7acf2510bae\",\"type\":\"ResetTool\"},{\"attributes\":{\"data_source\":{\"id\":\"16eab609-783c-4cd8-bdb3-1268df9708cb\",\"type\":\"ColumnDataSource\"},\"glyph\":{\"id\":\"aac6da68-0a17-4f61-abc4-1ecf6dea1daa\",\"type\":\"Rect\"},\"hover_glyph\":null,\"nonselection_glyph\":null,\"selection_glyph\":null},\"id\":\"d21e9b87-ec40-47a7-9c56-3e4555a9ef36\",\"type\":\"GlyphRenderer\"},{\"attributes\":{\"callback\":null,\"column_names\":[\"label\",\"line_alpha\",\"x\",\"width\",\"line_color\",\"y\",\"fill_alpha\",\"height\",\"color\"],\"data\":{\"chart_index\":[\"(3.7, 3.8]\"],\"color\":[\"#5ab738\"],\"fill_alpha\":[0.6],\"height\":[0.0],\"label\":[\"(3.7, 3.8]\"],\"line_alpha\":[1.0],\"line_color\":[\"black\"],\"width\":[0.117647058823529],\"x\":[\"3.75\"],\"y\":[0.0]}},\"id\":\"59acbb4f-e0fc-4242-9ecf-bf27db9c79e8\",\"type\":\"ColumnDataSource\"},{\"attributes\":{\"callback\":null,\"column_names\":[\"label\",\"line_alpha\",\"x\",\"width\",\"line_color\",\"y\",\"fill_alpha\",\"height\",\"color\"],\"data\":{\"chart_index\":[\"(4.1, 4.2]\"],\"color\":[\"#5ab738\"],\"fill_alpha\":[0.6],\"height\":[0.0],\"label\":[\"(4.1, 4.2]\"],\"line_alpha\":[1.0],\"line_color\":[\"black\"],\"width\":[0.11764705882352988],\"x\":[\"4.15\"],\"y\":[0.0]}},\"id\":\"2c8976b7-4f56-4dcc-b418-7345869fb068\",\"type\":\"ColumnDataSource\"},{\"attributes\":{\"data_source\":{\"id\":\"9e164538-397a-499a-b973-3cd5b46b4529\",\"type\":\"ColumnDataSource\"},\"glyph\":{\"id\":\"1fe5022f-3ecc-4a36-a632-aa4d3a5c9ca0\",\"type\":\"Rect\"},\"hover_glyph\":null,\"nonselection_glyph\":null,\"selection_glyph\":null},\"id\":\"b54e7387-f616-47f0-94ff-ed9551d342d3\",\"type\":\"GlyphRenderer\"},{\"attributes\":{},\"id\":\"0ce804fc-8a45-4722-b1e0-491f69d1031b\",\"type\":\"BasicTickFormatter\"},{\"attributes\":{\"fill_alpha\":{\"field\":\"fill_alpha\"},\"fill_color\":{\"field\":\"color\"},\"height\":{\"field\":\"height\",\"units\":\"data\"},\"line_color\":{\"field\":\"line_color\"},\"width\":{\"field\":\"width\",\"units\":\"data\"},\"x\":{\"field\":\"x\"},\"y\":{\"field\":\"y\"}},\"id\":\"9740361b-e4fa-4f4e-93ff-14c7fe8a761c\",\"type\":\"Rect\"},{\"attributes\":{\"data_source\":{\"id\":\"a1b85892-8316-4f86-a118-a11b39d69fa8\",\"type\":\"ColumnDataSource\"},\"glyph\":{\"id\":\"a55c095a-e7b6-4e55-9281-b9a503491216\",\"type\":\"Rect\"},\"hover_glyph\":null,\"nonselection_glyph\":null,\"selection_glyph\":null},\"id\":\"90d374e0-350f-4b9d-b967-c69c7889a0d8\",\"type\":\"GlyphRenderer\"},{\"attributes\":{\"fill_alpha\":{\"field\":\"fill_alpha\"},\"fill_color\":{\"field\":\"color\"},\"height\":{\"field\":\"height\",\"units\":\"data\"},\"line_color\":{\"field\":\"line_color\"},\"width\":{\"field\":\"width\",\"units\":\"data\"},\"x\":{\"field\":\"x\"},\"y\":{\"field\":\"y\"}},\"id\":\"1f6e83f3-92af-4015-b752-6926ccf402a1\",\"type\":\"Rect\"},{\"attributes\":{\"axis_label\":\"White?\",\"formatter\":{\"id\":\"13d8051f-6939-4444-889e-9d5ea575319e\",\"type\":\"CategoricalTickFormatter\"},\"major_label_orientation\":0.7853981633974483,\"plot\":{\"id\":\"b13f78dc-6857-4e56-9717-e7f14380f51d\",\"subtype\":\"Chart\",\"type\":\"Plot\"},\"ticker\":{\"id\":\"eb5ea7dd-4da6-4c1e-aff5-8c49cd602803\",\"type\":\"CategoricalTicker\"}},\"id\":\"e3044871-8a6b-4081-8cbd-a9819110014b\",\"type\":\"CategoricalAxis\"},{\"attributes\":{},\"id\":\"948aba8c-9703-4a21-9346-b53838d0493f\",\"type\":\"BasicTicker\"},{\"attributes\":{\"fill_alpha\":{\"field\":\"fill_alpha\"},\"fill_color\":{\"field\":\"color\"},\"height\":{\"field\":\"height\",\"units\":\"data\"},\"line_color\":{\"field\":\"line_color\"},\"width\":{\"field\":\"width\",\"units\":\"data\"},\"x\":{\"field\":\"x\"},\"y\":{\"field\":\"y\"}},\"id\":\"2f45ee69-ca64-4fcf-b630-eddc111f97e5\",\"type\":\"Rect\"},{\"attributes\":{\"callback\":null,\"column_names\":[\"label\",\"line_alpha\",\"x\",\"width\",\"line_color\",\"y\",\"fill_alpha\",\"height\",\"color\"],\"data\":{\"chart_index\":[\"(7.5, 7.6]\"],\"color\":[\"#5ab738\"],\"fill_alpha\":[0.6],\"height\":[0.0],\"label\":[\"(7.5, 7.6]\"],\"line_alpha\":[1.0],\"line_color\":[\"black\"],\"width\":[0.117647058823529],\"x\":[\"7.55\"],\"y\":[0.0]}},\"id\":\"6748dc00-0767-4fed-8844-5e75d6e0b446\",\"type\":\"ColumnDataSource\"},{\"attributes\":{\"callback\":null,\"column_names\":[\"label\",\"line_alpha\",\"x\",\"width\",\"line_color\",\"y\",\"fill_alpha\",\"height\",\"color\"],\"data\":{\"chart_index\":[\"(5.8, 6.0]\"],\"color\":[\"#f22c40\"],\"fill_alpha\":[0.6],\"height\":[0.0],\"label\":[\"(5.8, 6.0]\"],\"line_alpha\":[1.0],\"line_color\":[\"black\"],\"width\":[0.16666666666666696],\"x\":[\"5.9\"],\"y\":[0.0]}},\"id\":\"9d1fd77f-cb2a-4129-8324-f1e60fbdc8d7\",\"type\":\"ColumnDataSource\"},{\"attributes\":{\"data_source\":{\"id\":\"f8acb4e9-7b74-4888-bd8b-71ff682a526e\",\"type\":\"ColumnDataSource\"},\"glyph\":{\"id\":\"341bd452-bf8c-4e27-aa58-2588cb6488da\",\"type\":\"Rect\"},\"hover_glyph\":null,\"nonselection_glyph\":null,\"selection_glyph\":null},\"id\":\"9a8f00b8-c791-438d-90b5-892a116bc272\",\"type\":\"GlyphRenderer\"},{\"attributes\":{},\"id\":\"fbbb540d-ec88-40c6-830b-abe1781d3fe7\",\"type\":\"ToolEvents\"},{\"attributes\":{\"callback\":null,\"column_names\":[\"label\",\"line_alpha\",\"x\",\"width\",\"line_color\",\"y\",\"fill_alpha\",\"height\",\"color\"],\"data\":{\"chart_index\":[\"(5.7, 5.8]\"],\"color\":[\"#f22c40\"],\"fill_alpha\":[0.6],\"height\":[0.0],\"label\":[\"(5.7, 5.8]\"],\"line_alpha\":[1.0],\"line_color\":[\"black\"],\"width\":[0.16666666666666696],\"x\":[\"5.75\"],\"y\":[0.0]}},\"id\":\"90173f12-3680-4d72-b50b-7d5506479ff4\",\"type\":\"ColumnDataSource\"},{\"attributes\":{\"fill_alpha\":{\"field\":\"fill_alpha\"},\"fill_color\":{\"field\":\"color\"},\"height\":{\"field\":\"height\",\"units\":\"data\"},\"line_color\":{\"field\":\"line_color\"},\"width\":{\"field\":\"width\",\"units\":\"data\"},\"x\":{\"field\":\"x\"},\"y\":{\"field\":\"y\"}},\"id\":\"0a3f4aec-8cc6-4335-bbd6-70515b54f75e\",\"type\":\"Rect\"},{\"attributes\":{\"fill_alpha\":{\"field\":\"fill_alpha\"},\"fill_color\":{\"field\":\"color\"},\"height\":{\"field\":\"height\",\"units\":\"data\"},\"line_color\":{\"field\":\"line_color\"},\"width\":{\"field\":\"width\",\"units\":\"data\"},\"x\":{\"field\":\"x\"},\"y\":{\"field\":\"y\"}},\"id\":\"5caf8d40-493f-407b-9597-4bc7cf076bfc\",\"type\":\"Rect\"},{\"attributes\":{\"data_source\":{\"id\":\"788f4961-e240-4d8e-9d86-12f68a7fe0e0\",\"type\":\"ColumnDataSource\"},\"glyph\":{\"id\":\"b4848734-847c-4c51-8660-68c1b9b3c41d\",\"type\":\"Rect\"},\"hover_glyph\":null,\"nonselection_glyph\":null,\"selection_glyph\":null},\"id\":\"a441604b-7c02-47dc-9df1-4031e6efa86a\",\"type\":\"GlyphRenderer\"},{\"attributes\":{\"callback\":null,\"column_names\":[\"label\",\"line_alpha\",\"x\",\"width\",\"line_color\",\"y\",\"fill_alpha\",\"height\",\"color\"],\"data\":{\"chart_index\":[\"(7.8, 8.0]\"],\"color\":[\"#f22c40\"],\"fill_alpha\":[0.6],\"height\":[18.0],\"label\":[\"(7.8, 8.0]\"],\"line_alpha\":[1.0],\"line_color\":[\"black\"],\"width\":[0.16666666666666696],\"x\":[\"7.9\"],\"y\":[9.0]}},\"id\":\"8cda1112-a3ad-456e-86df-bb5446586b4d\",\"type\":\"ColumnDataSource\"},{\"attributes\":{\"data_source\":{\"id\":\"6748dc00-0767-4fed-8844-5e75d6e0b446\",\"type\":\"ColumnDataSource\"},\"glyph\":{\"id\":\"3fbf5f5c-ddba-4527-bf97-f571fb86dae1\",\"type\":\"Rect\"},\"hover_glyph\":null,\"nonselection_glyph\":null,\"selection_glyph\":null},\"id\":\"17b5872c-43dd-4d39-bc70-336cbae31ac4\",\"type\":\"GlyphRenderer\"},{\"attributes\":{\"data_source\":{\"id\":\"59a719b5-0710-4015-a197-614e1ffd1921\",\"type\":\"ColumnDataSource\"},\"glyph\":{\"id\":\"bfc4a5f0-91c5-4bcc-a219-1ee1c419d349\",\"type\":\"Rect\"},\"hover_glyph\":null,\"nonselection_glyph\":null,\"selection_glyph\":null},\"id\":\"16d58883-ae0d-46b9-8f21-5a0f6ef77325\",\"type\":\"GlyphRenderer\"},{\"attributes\":{\"data_source\":{\"id\":\"3998cfd8-b08d-470e-90d4-c135c09f9e8c\",\"type\":\"ColumnDataSource\"},\"glyph\":{\"id\":\"1e5d6d5a-e48b-4836-bde9-15e2e5d6aa74\",\"type\":\"Rect\"},\"hover_glyph\":null,\"nonselection_glyph\":null,\"selection_glyph\":null},\"id\":\"a74b8a96-8b53-48b0-a27d-7b2fdd997f8e\",\"type\":\"GlyphRenderer\"},{\"attributes\":{\"plot\":{\"id\":\"b13f78dc-6857-4e56-9717-e7f14380f51d\",\"subtype\":\"Chart\",\"type\":\"Plot\"}},\"id\":\"69c58644-8cd8-4694-abad-a66017aa16f0\",\"type\":\"PanTool\"},{\"attributes\":{\"active_drag\":\"auto\",\"active_scroll\":\"auto\",\"active_tap\":\"auto\",\"tools\":[{\"id\":\"baa83eb8-001d-48af-928f-902d404e70ed\",\"type\":\"PanTool\"},{\"id\":\"95bfd0f8-0277-4850-af32-b90644490b6e\",\"type\":\"ResetTool\"},{\"id\":\"6748f84e-b02e-44ee-b52b-8c81c6fe466c\",\"type\":\"BoxZoomTool\"}]},\"id\":\"47500c21-fd23-4a1a-b9e8-6d905757c78c\",\"type\":\"Toolbar\"},{\"attributes\":{\"fill_alpha\":{\"field\":\"fill_alpha\"},\"fill_color\":{\"field\":\"color\"},\"height\":{\"field\":\"height\",\"units\":\"data\"},\"line_color\":{\"field\":\"line_color\"},\"width\":{\"field\":\"width\",\"units\":\"data\"},\"x\":{\"field\":\"x\"},\"y\":{\"field\":\"y\"}},\"id\":\"34210c12-44af-4256-9d47-d011854ff5e4\",\"type\":\"Rect\"},{\"attributes\":{\"callback\":null,\"column_names\":[\"label\",\"line_alpha\",\"x\",\"width\",\"line_color\",\"y\",\"fill_alpha\",\"height\",\"color\"],\"data\":{\"chart_index\":[\"(8.4, 8.5]\"],\"color\":[\"#5ab738\"],\"fill_alpha\":[0.6],\"height\":[0.0],\"label\":[\"(8.4, 8.5]\"],\"line_alpha\":[1.0],\"line_color\":[\"black\"],\"width\":[0.117647058823529],\"x\":[\"8.45\"],\"y\":[0.0]}},\"id\":\"59783130-9165-4715-9644-131ebc207ff2\",\"type\":\"ColumnDataSource\"},{\"attributes\":{\"data_source\":{\"id\":\"dc377ccd-500b-4c19-8af1-92eea16f40b8\",\"type\":\"ColumnDataSource\"},\"glyph\":{\"id\":\"51227b16-a705-4a0f-b2ba-75f4cb4b4aae\",\"type\":\"Rect\"},\"hover_glyph\":null,\"nonselection_glyph\":null,\"selection_glyph\":null},\"id\":\"5f688d3c-5f78-4382-a438-9273cc155eae\",\"type\":\"GlyphRenderer\"},{\"attributes\":{\"data_source\":{\"id\":\"3fbf78db-e880-462c-bc77-480f3227cc94\",\"type\":\"ColumnDataSource\"},\"glyph\":{\"id\":\"80e2f789-8998-4df6-8e62-7e011ee91b84\",\"type\":\"Rect\"},\"hover_glyph\":null,\"nonselection_glyph\":null,\"selection_glyph\":null},\"id\":\"d9f0a86c-3601-4c38-9f7a-0e92c9bfde2b\",\"type\":\"GlyphRenderer\"},{\"attributes\":{\"fill_alpha\":{\"field\":\"fill_alpha\"},\"fill_color\":{\"field\":\"color\"},\"height\":{\"field\":\"height\",\"units\":\"data\"},\"line_color\":{\"field\":\"line_color\"},\"width\":{\"field\":\"width\",\"units\":\"data\"},\"x\":{\"field\":\"x\"},\"y\":{\"field\":\"y\"}},\"id\":\"8bf137d8-5de4-474b-8aad-a84dc42c7d1e\",\"type\":\"Rect\"},{\"attributes\":{\"callback\":null,\"column_names\":[\"label\",\"line_alpha\",\"x\",\"width\",\"line_color\",\"y\",\"fill_alpha\",\"height\",\"color\"],\"data\":{\"chart_index\":[\"(5.1, 5.2]\"],\"color\":[\"#5ab738\"],\"fill_alpha\":[0.6],\"height\":[0.0],\"label\":[\"(5.1, 5.2]\"],\"line_alpha\":[1.0],\"line_color\":[\"black\"],\"width\":[0.11764705882352988],\"x\":[\"5.15\"],\"y\":[0.0]}},\"id\":\"c8752449-45e0-4136-9738-3d5204e1161b\",\"type\":\"ColumnDataSource\"},{\"attributes\":{\"fill_alpha\":{\"field\":\"fill_alpha\"},\"fill_color\":{\"field\":\"color\"},\"height\":{\"field\":\"height\",\"units\":\"data\"},\"line_color\":{\"field\":\"line_color\"},\"width\":{\"field\":\"width\",\"units\":\"data\"},\"x\":{\"field\":\"x\"},\"y\":{\"field\":\"y\"}},\"id\":\"1e5d6d5a-e48b-4836-bde9-15e2e5d6aa74\",\"type\":\"Rect\"},{\"attributes\":{\"callback\":null,\"column_names\":[\"label\",\"line_alpha\",\"x\",\"width\",\"line_color\",\"y\",\"fill_alpha\",\"height\",\"color\"],\"data\":{\"chart_index\":[\"(3.2, 3.4]\"],\"color\":[\"#5ab738\"],\"fill_alpha\":[0.6],\"height\":[0.0],\"label\":[\"(3.2, 3.4]\"],\"line_alpha\":[1.0],\"line_color\":[\"black\"],\"width\":[0.11764705882352944],\"x\":[\"3.3\"],\"y\":[0.0]}},\"id\":\"622a9271-36e5-4fdf-a75f-4cfb2b5fc7b0\",\"type\":\"ColumnDataSource\"},{\"attributes\":{\"axis_label\":\"Count( Quality )\",\"formatter\":{\"id\":\"4d02a3ef-b191-4800-ae77-ebf459065c29\",\"type\":\"BasicTickFormatter\"},\"plot\":{\"id\":\"b13f78dc-6857-4e56-9717-e7f14380f51d\",\"subtype\":\"Chart\",\"type\":\"Plot\"},\"ticker\":{\"id\":\"948aba8c-9703-4a21-9346-b53838d0493f\",\"type\":\"BasicTicker\"}},\"id\":\"0e135698-43d8-4d99-b1a0-54e905019237\",\"type\":\"LinearAxis\"},{\"attributes\":{\"callback\":null,\"column_names\":[\"label\",\"line_alpha\",\"x\",\"width\",\"line_color\",\"y\",\"fill_alpha\",\"height\",\"color\"],\"data\":{\"chart_index\":[\"(5.7, 5.8]\"],\"color\":[\"#5ab738\"],\"fill_alpha\":[0.6],\"height\":[0.0],\"label\":[\"(5.7, 5.8]\"],\"line_alpha\":[1.0],\"line_color\":[\"black\"],\"width\":[0.117647058823529],\"x\":[\"5.75\"],\"y\":[0.0]}},\"id\":\"e4f7ffe4-058e-4620-b572-e5ee48cd8fb3\",\"type\":\"ColumnDataSource\"},{\"attributes\":{\"fill_alpha\":{\"field\":\"fill_alpha\"},\"fill_color\":{\"field\":\"color\"},\"height\":{\"field\":\"height\",\"units\":\"data\"},\"line_color\":{\"field\":\"line_color\"},\"width\":{\"field\":\"width\",\"units\":\"data\"},\"x\":{\"field\":\"x\"},\"y\":{\"field\":\"y\"}},\"id\":\"bfc4a5f0-91c5-4bcc-a219-1ee1c419d349\",\"type\":\"Rect\"},{\"attributes\":{\"callback\":null,\"column_names\":[\"label\",\"line_alpha\",\"x\",\"width\",\"line_color\",\"y\",\"fill_alpha\",\"height\",\"color\"],\"data\":{\"chart_index\":[\"(3.2, 3.3]\"],\"color\":[\"#f22c40\"],\"fill_alpha\":[0.6],\"height\":[0.0],\"label\":[\"(3.2, 3.3]\"],\"line_alpha\":[1.0],\"line_color\":[\"black\"],\"width\":[0.16666666666666696],\"x\":[\"3.25\"],\"y\":[0.0]}},\"id\":\"9551684e-db23-4099-8aab-0ceb6368916c\",\"type\":\"ColumnDataSource\"},{\"attributes\":{\"callback\":null,\"column_names\":[\"label\",\"line_alpha\",\"x\",\"width\",\"line_color\",\"y\",\"fill_alpha\",\"height\",\"color\"],\"data\":{\"chart_index\":[\"(5.0, 5.2]\"],\"color\":[\"#f22c40\"],\"fill_alpha\":[0.6],\"height\":[681.0],\"label\":[\"(5.0, 5.2]\"],\"line_alpha\":[1.0],\"line_color\":[\"black\"],\"width\":[0.16666666666666607],\"x\":[\"5.1\"],\"y\":[340.5]}},\"id\":\"4a1a3ad2-e1c7-41f2-a7b2-c7f869579b10\",\"type\":\"ColumnDataSource\"},{\"attributes\":{\"fill_alpha\":{\"field\":\"fill_alpha\"},\"fill_color\":{\"field\":\"color\"},\"height\":{\"field\":\"height\",\"units\":\"data\"},\"line_color\":{\"field\":\"line_color\"},\"width\":{\"field\":\"width\",\"units\":\"data\"},\"x\":{\"field\":\"x\"},\"y\":{\"field\":\"y\"}},\"id\":\"b4848734-847c-4c51-8660-68c1b9b3c41d\",\"type\":\"Rect\"},{\"attributes\":{\"data_source\":{\"id\":\"82409caf-b8f2-4269-9393-67e83ee928d7\",\"type\":\"ColumnDataSource\"},\"glyph\":{\"id\":\"406957d9-81cb-4da5-9468-73d593fef505\",\"type\":\"Rect\"},\"hover_glyph\":null,\"nonselection_glyph\":null,\"selection_glyph\":null},\"id\":\"e6e0f08a-ec4d-4e66-ba5b-72abf00c1517\",\"type\":\"GlyphRenderer\"},{\"attributes\":{\"fill_alpha\":{\"field\":\"fill_alpha\"},\"fill_color\":{\"field\":\"color\"},\"height\":{\"field\":\"height\",\"units\":\"data\"},\"line_color\":{\"field\":\"line_color\"},\"width\":{\"field\":\"width\",\"units\":\"data\"},\"x\":{\"field\":\"x\"},\"y\":{\"field\":\"y\"}},\"id\":\"5c4f5fa8-6c87-4ffa-ac04-df946db65deb\",\"type\":\"Rect\"},{\"attributes\":{\"fill_alpha\":{\"field\":\"fill_alpha\"},\"fill_color\":{\"field\":\"color\"},\"height\":{\"field\":\"height\",\"units\":\"data\"},\"line_color\":{\"field\":\"line_color\"},\"width\":{\"field\":\"width\",\"units\":\"data\"},\"x\":{\"field\":\"x\"},\"y\":{\"field\":\"y\"}},\"id\":\"cf7a2927-4a9a-43fd-b775-f68b0ed0e863\",\"type\":\"Rect\"},{\"attributes\":{},\"id\":\"13d8051f-6939-4444-889e-9d5ea575319e\",\"type\":\"CategoricalTickFormatter\"},{\"attributes\":{\"data_source\":{\"id\":\"06c314c3-d959-42bd-ad94-27773c145196\",\"type\":\"ColumnDataSource\"},\"glyph\":{\"id\":\"338e378b-fee3-4bed-9113-5cd7b14d47fb\",\"type\":\"Rect\"},\"hover_glyph\":null,\"nonselection_glyph\":null,\"selection_glyph\":null},\"id\":\"c3786afc-9f77-4404-b55b-f07db4ea786f\",\"type\":\"GlyphRenderer\"},{\"attributes\":{\"callback\":null,\"end\":9.308823529411764,\"start\":2.6911764705882355},\"id\":\"6d737054-d28e-4601-90ee-f03b1e68de21\",\"type\":\"Range1d\"},{\"attributes\":{\"callback\":null,\"column_names\":[\"label\",\"line_alpha\",\"x\",\"width\",\"line_color\",\"y\",\"fill_alpha\",\"height\",\"color\"],\"data\":{\"chart_index\":[\"(7.0, 7.2]\"],\"color\":[\"#f22c40\"],\"fill_alpha\":[0.6],\"height\":[199.0],\"label\":[\"(7.0, 7.2]\"],\"line_alpha\":[1.0],\"line_color\":[\"black\"],\"width\":[0.16666666666666607],\"x\":[\"7.1\"],\"y\":[99.5]}},\"id\":\"eef1f1a8-81cc-460f-a07c-c0d319885a07\",\"type\":\"ColumnDataSource\"},{\"attributes\":{\"callback\":null,\"column_names\":[\"label\",\"line_alpha\",\"x\",\"width\",\"line_color\",\"y\",\"fill_alpha\",\"height\",\"color\"],\"data\":{\"chart_index\":[\"(6.8, 7.0]\"],\"color\":[\"#f22c40\"],\"fill_alpha\":[0.6],\"height\":[0.0],\"label\":[\"(6.8, 7.0]\"],\"line_alpha\":[1.0],\"line_color\":[\"black\"],\"width\":[0.16666666666666696],\"x\":[\"6.9\"],\"y\":[0.0]}},\"id\":\"1dbd37c6-9752-4b0c-b6d8-c019e33edc41\",\"type\":\"ColumnDataSource\"},{\"attributes\":{\"callback\":null,\"column_names\":[\"label\",\"line_alpha\",\"x\",\"width\",\"line_color\",\"y\",\"fill_alpha\",\"height\",\"color\"],\"data\":{\"chart_index\":[\"(8.1, 8.2]\"],\"color\":[\"#5ab738\"],\"fill_alpha\":[0.6],\"height\":[0.0],\"label\":[\"(8.1, 8.2]\"],\"line_alpha\":[1.0],\"line_color\":[\"black\"],\"width\":[0.117647058823529],\"x\":[\"8.149999999999999\"],\"y\":[0.0]}},\"id\":\"5f1cda2d-fe4c-45b9-ac74-d281b45565f0\",\"type\":\"ColumnDataSource\"},{\"attributes\":{\"fill_alpha\":{\"field\":\"fill_alpha\"},\"fill_color\":{\"field\":\"color\"},\"height\":{\"field\":\"height\",\"units\":\"data\"},\"line_color\":{\"field\":\"line_color\"},\"width\":{\"field\":\"width\",\"units\":\"data\"},\"x\":{\"field\":\"x\"},\"y\":{\"field\":\"y\"}},\"id\":\"d5f31640-3455-4b82-a173-334e12112e2f\",\"type\":\"Rect\"},{\"attributes\":{\"data_source\":{\"id\":\"3cb92539-242b-4a74-9e91-1b07a6a441dd\",\"type\":\"ColumnDataSource\"},\"glyph\":{\"id\":\"34210c12-44af-4256-9d47-d011854ff5e4\",\"type\":\"Rect\"},\"hover_glyph\":null,\"nonselection_glyph\":null,\"selection_glyph\":null},\"id\":\"ebd66202-d993-4f4f-b6fc-bece7b0ea608\",\"type\":\"GlyphRenderer\"},{\"attributes\":{\"callback\":null,\"end\":5142.9},\"id\":\"9d3879cb-49f3-4b63-a6f8-abe240b30260\",\"type\":\"Range1d\"},{\"attributes\":{\"fill_alpha\":{\"field\":\"fill_alpha\"},\"fill_color\":{\"field\":\"color\"},\"height\":{\"field\":\"height\",\"units\":\"data\"},\"line_color\":{\"field\":\"line_color\"},\"width\":{\"field\":\"width\",\"units\":\"data\"},\"x\":{\"field\":\"x\"},\"y\":{\"field\":\"y\"}},\"id\":\"319e7482-f1f2-4bc5-9b69-218680a8d7ed\",\"type\":\"Rect\"},{\"attributes\":{\"callback\":null,\"column_names\":[\"label\",\"line_alpha\",\"x\",\"width\",\"line_color\",\"y\",\"fill_alpha\",\"height\",\"color\"],\"data\":{\"chart_index\":[\"[3.0, 3.2]\"],\"color\":[\"#f22c40\"],\"fill_alpha\":[0.6],\"height\":[10.0],\"label\":[\"[3.0, 3.2]\"],\"line_alpha\":[1.0],\"line_color\":[\"black\"],\"width\":[0.16666666666666652],\"x\":[\"3.1\"],\"y\":[5.0]}},\"id\":\"054d3a64-aede-46ff-9586-add4778d0805\",\"type\":\"ColumnDataSource\"},{\"attributes\":{\"callback\":null,\"column_names\":[\"label\",\"line_alpha\",\"x\",\"width\",\"line_color\",\"y\",\"fill_alpha\",\"height\",\"color\"],\"data\":{\"chart_index\":[\"(3.8, 4.0]\"],\"color\":[\"#f22c40\"],\"fill_alpha\":[0.6],\"height\":[0.0],\"label\":[\"(3.8, 4.0]\"],\"line_alpha\":[1.0],\"line_color\":[\"black\"],\"width\":[0.16666666666666696],\"x\":[\"3.9\"],\"y\":[0.0]}},\"id\":\"6e0ec479-e8b4-43d8-87db-b4eea159b2b0\",\"type\":\"ColumnDataSource\"},{\"attributes\":{\"fill_alpha\":{\"field\":\"fill_alpha\"},\"fill_color\":{\"field\":\"color\"},\"height\":{\"field\":\"height\",\"units\":\"data\"},\"line_color\":{\"field\":\"line_color\"},\"width\":{\"field\":\"width\",\"units\":\"data\"},\"x\":{\"field\":\"x\"},\"y\":{\"field\":\"y\"}},\"id\":\"d9dc813b-e853-44ad-b0bb-525d54b4f354\",\"type\":\"Rect\"},{\"attributes\":{\"fill_alpha\":{\"field\":\"fill_alpha\"},\"fill_color\":{\"field\":\"color\"},\"height\":{\"field\":\"height\",\"units\":\"data\"},\"line_color\":{\"field\":\"line_color\"},\"width\":{\"field\":\"width\",\"units\":\"data\"},\"x\":{\"field\":\"x\"},\"y\":{\"field\":\"y\"}},\"id\":\"64ddfdd9-df0b-4ead-b78d-0e3281ac0333\",\"type\":\"Rect\"},{\"attributes\":{\"fill_alpha\":{\"field\":\"fill_alpha\"},\"fill_color\":{\"field\":\"color\"},\"height\":{\"field\":\"height\",\"units\":\"data\"},\"line_color\":{\"field\":\"line_color\"},\"width\":{\"field\":\"width\",\"units\":\"data\"},\"x\":{\"field\":\"x\"},\"y\":{\"field\":\"y\"}},\"id\":\"a07a04f4-5668-4f93-a69e-7859deb35da3\",\"type\":\"Rect\"},{\"attributes\":{\"callback\":null,\"column_names\":[\"label\",\"line_alpha\",\"x\",\"width\",\"line_color\",\"y\",\"fill_alpha\",\"height\",\"color\"],\"data\":{\"chart_index\":[\"(6.3, 6.4]\"],\"color\":[\"#5ab738\"],\"fill_alpha\":[0.6],\"height\":[0.0],\"label\":[\"(6.3, 6.4]\"],\"line_alpha\":[1.0],\"line_color\":[\"black\"],\"width\":[0.11764705882352988],\"x\":[\"6.35\"],\"y\":[0.0]}},\"id\":\"7e27f499-a431-47dc-81d1-6571b0cea714\",\"type\":\"ColumnDataSource\"},{\"attributes\":{\"fill_alpha\":{\"field\":\"fill_alpha\"},\"fill_color\":{\"field\":\"color\"},\"height\":{\"field\":\"height\",\"units\":\"data\"},\"line_color\":{\"field\":\"line_color\"},\"width\":{\"field\":\"width\",\"units\":\"data\"},\"x\":{\"field\":\"x\"},\"y\":{\"field\":\"y\"}},\"id\":\"84af0676-a705-4e35-8aca-ecf529819bdc\",\"type\":\"Rect\"},{\"attributes\":{\"data_source\":{\"id\":\"2bb8c7c2-d3e7-455b-93c2-184e836c4057\",\"type\":\"ColumnDataSource\"},\"glyph\":{\"id\":\"b8e77ff7-420c-41ea-b7bb-93cb3bd23776\",\"type\":\"Rect\"},\"hover_glyph\":null,\"nonselection_glyph\":null,\"selection_glyph\":null},\"id\":\"dcc22601-3f13-4cb6-b5a1-965d33b636a5\",\"type\":\"GlyphRenderer\"},{\"attributes\":{\"axis_label\":\"Count( Quality )\",\"formatter\":{\"id\":\"0ce804fc-8a45-4722-b1e0-491f69d1031b\",\"type\":\"BasicTickFormatter\"},\"plot\":{\"id\":\"43f34e99-46a3-4936-9afd-f46c0e7f2eb7\",\"subtype\":\"Chart\",\"type\":\"Plot\"},\"ticker\":{\"id\":\"f27715fb-a9ed-4a37-8bf9-6bae034f0f81\",\"type\":\"BasicTicker\"}},\"id\":\"f6d11717-b484-462c-9ec7-a7a2080e125b\",\"type\":\"LinearAxis\"},{\"attributes\":{\"sizing_mode\":\"scale_width\",\"toolbar_location\":\"above\",\"tools\":[{\"id\":\"69c58644-8cd8-4694-abad-a66017aa16f0\",\"type\":\"PanTool\"},{\"id\":\"102c9ccd-76a6-4168-b37e-c7acf2510bae\",\"type\":\"ResetTool\"},{\"id\":\"dbce1c17-6396-48b5-ac8a-c248591fda55\",\"type\":\"BoxZoomTool\"},{\"id\":\"baa83eb8-001d-48af-928f-902d404e70ed\",\"type\":\"PanTool\"},{\"id\":\"95bfd0f8-0277-4850-af32-b90644490b6e\",\"type\":\"ResetTool\"},{\"id\":\"6748f84e-b02e-44ee-b52b-8c81c6fe466c\",\"type\":\"BoxZoomTool\"}]},\"id\":\"2eeb366c-8990-466c-aa43-25104fd4eb96\",\"type\":\"ToolbarBox\"},{\"attributes\":{\"fill_alpha\":{\"field\":\"fill_alpha\"},\"fill_color\":{\"field\":\"color\"},\"height\":{\"field\":\"height\",\"units\":\"data\"},\"line_color\":{\"field\":\"line_color\"},\"width\":{\"field\":\"width\",\"units\":\"data\"},\"x\":{\"field\":\"x\"},\"y\":{\"field\":\"y\"}},\"id\":\"123b1b5d-942d-4d54-ba34-82c5a70aa320\",\"type\":\"Rect\"},{\"attributes\":{\"callback\":null,\"column_names\":[\"label\",\"line_alpha\",\"x\",\"width\",\"line_color\",\"y\",\"fill_alpha\",\"height\",\"color\"],\"data\":{\"chart_index\":[\"(7.6, 7.7]\"],\"color\":[\"#5ab738\"],\"fill_alpha\":[0.6],\"height\":[0.0],\"label\":[\"(7.6, 7.7]\"],\"line_alpha\":[1.0],\"line_color\":[\"black\"],\"width\":[0.11764705882352988],\"x\":[\"7.65\"],\"y\":[0.0]}},\"id\":\"490163eb-95f7-4b82-82ef-f59c6cab95a7\",\"type\":\"ColumnDataSource\"},{\"attributes\":{\"fill_alpha\":{\"field\":\"fill_alpha\"},\"fill_color\":{\"field\":\"color\"},\"height\":{\"field\":\"height\",\"units\":\"data\"},\"line_color\":{\"field\":\"line_color\"},\"width\":{\"field\":\"width\",\"units\":\"data\"},\"x\":{\"field\":\"x\"},\"y\":{\"field\":\"y\"}},\"id\":\"94a1251d-0177-4cf0-aead-d271ae748d9e\",\"type\":\"Rect\"},{\"attributes\":{\"data_source\":{\"id\":\"5f1cda2d-fe4c-45b9-ac74-d281b45565f0\",\"type\":\"ColumnDataSource\"},\"glyph\":{\"id\":\"59f7bb7e-ae97-4e31-94eb-3a631721c9a5\",\"type\":\"Rect\"},\"hover_glyph\":null,\"nonselection_glyph\":null,\"selection_glyph\":null},\"id\":\"767657b8-30ca-4b8d-bfcf-8b62d4c5b52f\",\"type\":\"GlyphRenderer\"},{\"attributes\":{\"callback\":null,\"column_names\":[\"label\",\"line_alpha\",\"x\",\"width\",\"line_color\",\"y\",\"fill_alpha\",\"height\",\"color\"],\"data\":{\"chart_index\":[\"(8.8, 8.9]\"],\"color\":[\"#5ab738\"],\"fill_alpha\":[0.6],\"height\":[0.0],\"label\":[\"(8.8, 8.9]\"],\"line_alpha\":[1.0],\"line_color\":[\"black\"],\"width\":[0.117647058823529],\"x\":[\"8.850000000000001\"],\"y\":[0.0]}},\"id\":\"422f6fae-496f-49b9-84af-8de68c4fd7c6\",\"type\":\"ColumnDataSource\"},{\"attributes\":{\"callback\":null,\"column_names\":[\"label\",\"line_alpha\",\"x\",\"width\",\"line_color\",\"y\",\"fill_alpha\",\"height\",\"color\"],\"data\":{\"chart_index\":[\"(3.5, 3.7]\"],\"color\":[\"#f22c40\"],\"fill_alpha\":[0.6],\"height\":[0.0],\"label\":[\"(3.5, 3.7]\"],\"line_alpha\":[1.0],\"line_color\":[\"black\"],\"width\":[0.16666666666666652],\"x\":[\"3.6\"],\"y\":[0.0]}},\"id\":\"64236b89-e9b3-43b9-9f0a-e5752069f925\",\"type\":\"ColumnDataSource\"},{\"attributes\":{\"fill_alpha\":{\"field\":\"fill_alpha\"},\"fill_color\":{\"field\":\"color\"},\"height\":{\"field\":\"height\",\"units\":\"data\"},\"line_color\":{\"field\":\"line_color\"},\"width\":{\"field\":\"width\",\"units\":\"data\"},\"x\":{\"field\":\"x\"},\"y\":{\"field\":\"y\"}},\"id\":\"56c7707b-11c3-4c2a-ba65-7f679eaebe7c\",\"type\":\"Rect\"},{\"attributes\":{\"callback\":null,\"column_names\":[\"label\",\"line_alpha\",\"x\",\"width\",\"line_color\",\"y\",\"fill_alpha\",\"height\",\"color\"],\"data\":{\"chart_index\":[\"(5.0, 5.1]\"],\"color\":[\"#5ab738\"],\"fill_alpha\":[0.6],\"height\":[1457.0],\"label\":[\"(5.0, 5.1]\"],\"line_alpha\":[1.0],\"line_color\":[\"black\"],\"width\":[0.117647058823529],\"x\":[\"5.05\"],\"y\":[728.5]}},\"id\":\"ede8d60a-956c-4883-919d-4a2cbf5674ca\",\"type\":\"ColumnDataSource\"},{\"attributes\":{\"callback\":null,\"column_names\":[\"label\",\"line_alpha\",\"x\",\"width\",\"line_color\",\"y\",\"fill_alpha\",\"height\",\"color\"],\"data\":{\"chart_index\":[\"(6.9, 7.0]\"],\"color\":[\"#5ab738\"],\"fill_alpha\":[0.6],\"height\":[0.0],\"label\":[\"(6.9, 7.0]\"],\"line_alpha\":[1.0],\"line_color\":[\"black\"],\"width\":[0.117647058823529],\"x\":[\"6.95\"],\"y\":[0.0]}},\"id\":\"eb5ba82b-510d-4d7c-8890-f1ba3f397a72\",\"type\":\"ColumnDataSource\"},{\"attributes\":{\"data_source\":{\"id\":\"e6d0d9c2-ae0e-4c0f-968a-0f2875fe9b5f\",\"type\":\"ColumnDataSource\"},\"glyph\":{\"id\":\"64ddfdd9-df0b-4ead-b78d-0e3281ac0333\",\"type\":\"Rect\"},\"hover_glyph\":null,\"nonselection_glyph\":null,\"selection_glyph\":null},\"id\":\"b36533c3-d1ed-4c69-8b36-25c1400c1cd3\",\"type\":\"GlyphRenderer\"},{\"attributes\":{\"overlay\":{\"id\":\"d3b33f9c-23f1-4349-8535-2d2e24e59ac6\",\"type\":\"BoxAnnotation\"},\"plot\":{\"id\":\"43f34e99-46a3-4936-9afd-f46c0e7f2eb7\",\"subtype\":\"Chart\",\"type\":\"Plot\"}},\"id\":\"6748f84e-b02e-44ee-b52b-8c81c6fe466c\",\"type\":\"BoxZoomTool\"},{\"attributes\":{\"plot\":null,\"text\":null},\"id\":\"1ae75eba-7d8c-42d3-819d-6c0418a03214\",\"type\":\"Title\"},{\"attributes\":{\"data_source\":{\"id\":\"b6b69ba5-ddc9-4b7a-9f48-9b7cebd8de0d\",\"type\":\"ColumnDataSource\"},\"glyph\":{\"id\":\"d37b1051-7009-4835-aaa4-d8401e759ba3\",\"type\":\"Rect\"},\"hover_glyph\":null,\"nonselection_glyph\":null,\"selection_glyph\":null},\"id\":\"be101447-6fa2-47fa-aec8-e1c77e421775\",\"type\":\"GlyphRenderer\"},{\"attributes\":{\"data_source\":{\"id\":\"9d1fd77f-cb2a-4129-8324-f1e60fbdc8d7\",\"type\":\"ColumnDataSource\"},\"glyph\":{\"id\":\"ecfa14b0-b2fa-4dc6-838c-bd4aca3037f9\",\"type\":\"Rect\"},\"hover_glyph\":null,\"nonselection_glyph\":null,\"selection_glyph\":null},\"id\":\"027c6717-6b9d-41e2-b91c-7787a1166a60\",\"type\":\"GlyphRenderer\"},{\"attributes\":{\"data_source\":{\"id\":\"422f6fae-496f-49b9-84af-8de68c4fd7c6\",\"type\":\"ColumnDataSource\"},\"glyph\":{\"id\":\"91c49d34-7c52-43d2-91b9-56ef9ed4e2cf\",\"type\":\"Rect\"},\"hover_glyph\":null,\"nonselection_glyph\":null,\"selection_glyph\":null},\"id\":\"e6cb79f5-59da-4663-a55d-09fa1f10ccda\",\"type\":\"GlyphRenderer\"},{\"attributes\":{\"fill_alpha\":{\"field\":\"fill_alpha\"},\"fill_color\":{\"field\":\"color\"},\"height\":{\"field\":\"height\",\"units\":\"data\"},\"line_color\":{\"field\":\"line_color\"},\"width\":{\"field\":\"width\",\"units\":\"data\"},\"x\":{\"field\":\"x\"},\"y\":{\"field\":\"y\"}},\"id\":\"51227b16-a705-4a0f-b2ba-75f4cb4b4aae\",\"type\":\"Rect\"},{\"attributes\":{\"callback\":null,\"factors\":[\"0\",\"1\"]},\"id\":\"454e9673-f94b-4f39-b815-da4f23ad9dba\",\"type\":\"FactorRange\"},{\"attributes\":{\"data_source\":{\"id\":\"b6cf52f6-4bda-4ed1-aec2-83d7cad1d12e\",\"type\":\"ColumnDataSource\"},\"glyph\":{\"id\":\"f88c34e9-5863-4e02-b58b-2ff17b2603e2\",\"type\":\"Rect\"},\"hover_glyph\":null,\"nonselection_glyph\":null,\"selection_glyph\":null},\"id\":\"6d88a340-6087-4a3d-8181-dd21c9812fb2\",\"type\":\"GlyphRenderer\"},{\"attributes\":{\"fill_alpha\":{\"field\":\"fill_alpha\"},\"fill_color\":{\"field\":\"color\"},\"height\":{\"field\":\"height\",\"units\":\"data\"},\"line_color\":{\"field\":\"line_color\"},\"width\":{\"field\":\"width\",\"units\":\"data\"},\"x\":{\"field\":\"x\"},\"y\":{\"field\":\"y\"}},\"id\":\"b8e77ff7-420c-41ea-b7bb-93cb3bd23776\",\"type\":\"Rect\"},{\"attributes\":{\"data_source\":{\"id\":\"f923afa0-3623-47dd-9c6f-4225f4c93b9c\",\"type\":\"ColumnDataSource\"},\"glyph\":{\"id\":\"9740361b-e4fa-4f4e-93ff-14c7fe8a761c\",\"type\":\"Rect\"},\"hover_glyph\":null,\"nonselection_glyph\":null,\"selection_glyph\":null},\"id\":\"972c03bb-1381-417c-84b5-03c7d77411d9\",\"type\":\"GlyphRenderer\"},{\"attributes\":{\"callback\":null,\"column_names\":[\"label\",\"line_alpha\",\"x\",\"width\",\"line_color\",\"y\",\"fill_alpha\",\"height\",\"color\"],\"data\":{\"chart_index\":[\"(5.2, 5.4]\"],\"color\":[\"#5ab738\"],\"fill_alpha\":[0.6],\"height\":[0.0],\"label\":[\"(5.2, 5.4]\"],\"line_alpha\":[1.0],\"line_color\":[\"black\"],\"width\":[0.11764705882352988],\"x\":[\"5.300000000000001\"],\"y\":[0.0]}},\"id\":\"d810904e-7f08-48c4-9edb-7eca83edaea2\",\"type\":\"ColumnDataSource\"},{\"attributes\":{\"data_source\":{\"id\":\"7ad1a41b-d53d-4e32-ad55-618e1e7e5044\",\"type\":\"ColumnDataSource\"},\"glyph\":{\"id\":\"73b4ed34-ebd1-43ed-9d24-a9601562f385\",\"type\":\"Rect\"},\"hover_glyph\":null,\"nonselection_glyph\":null,\"selection_glyph\":null},\"id\":\"29900bb4-822b-4c5b-b71f-41414d56c986\",\"type\":\"GlyphRenderer\"},{\"attributes\":{\"fill_alpha\":{\"field\":\"fill_alpha\"},\"fill_color\":{\"field\":\"color\"},\"height\":{\"field\":\"height\",\"units\":\"data\"},\"line_color\":{\"field\":\"line_color\"},\"width\":{\"field\":\"width\",\"units\":\"data\"},\"x\":{\"field\":\"x\"},\"y\":{\"field\":\"y\"}},\"id\":\"59f7bb7e-ae97-4e31-94eb-3a631721c9a5\",\"type\":\"Rect\"},{\"attributes\":{\"fill_alpha\":{\"field\":\"fill_alpha\"},\"fill_color\":{\"field\":\"color\"},\"height\":{\"field\":\"height\",\"units\":\"data\"},\"line_color\":{\"field\":\"line_color\"},\"width\":{\"field\":\"width\",\"units\":\"data\"},\"x\":{\"field\":\"x\"},\"y\":{\"field\":\"y\"}},\"id\":\"e799ec73-fcd5-4f8f-9e7e-d92fd54f2ce7\",\"type\":\"Rect\"},{\"attributes\":{\"plot\":null,\"text\":null},\"id\":\"cc5309dc-2bed-4169-9254-8341fc994f6d\",\"type\":\"Title\"},{\"attributes\":{\"data_source\":{\"id\":\"aedd389f-9bc2-4c1b-925e-0bde96d34903\",\"type\":\"ColumnDataSource\"},\"glyph\":{\"id\":\"319e7482-f1f2-4bc5-9b69-218680a8d7ed\",\"type\":\"Rect\"},\"hover_glyph\":null,\"nonselection_glyph\":null,\"selection_glyph\":null},\"id\":\"ff7b30c4-8d77-4c4f-9388-158033643b20\",\"type\":\"GlyphRenderer\"},{\"attributes\":{\"fill_alpha\":{\"field\":\"fill_alpha\"},\"fill_color\":{\"field\":\"color\"},\"height\":{\"field\":\"height\",\"units\":\"data\"},\"line_color\":{\"field\":\"line_color\"},\"width\":{\"field\":\"width\",\"units\":\"data\"},\"x\":{\"field\":\"x\"},\"y\":{\"field\":\"y\"}},\"id\":\"f5b79009-5edd-4d31-bafa-0f2bb916cefd\",\"type\":\"Rect\"},{\"attributes\":{},\"id\":\"919b6c2c-eea6-45f0-b08e-d6ba03331e43\",\"type\":\"BasicTickFormatter\"},{\"attributes\":{\"callback\":null,\"column_names\":[\"label\",\"line_alpha\",\"x\",\"width\",\"line_color\",\"y\",\"fill_alpha\",\"height\",\"color\"],\"data\":{\"chart_index\":[\"(3.7, 3.8]\"],\"color\":[\"#f22c40\"],\"fill_alpha\":[0.6],\"height\":[0.0],\"label\":[\"(3.7, 3.8]\"],\"line_alpha\":[1.0],\"line_color\":[\"black\"],\"width\":[0.16666666666666652],\"x\":[\"3.75\"],\"y\":[0.0]}},\"id\":\"2bb8c7c2-d3e7-455b-93c2-184e836c4057\",\"type\":\"ColumnDataSource\"},{\"attributes\":{\"fill_alpha\":{\"field\":\"fill_alpha\"},\"fill_color\":{\"field\":\"color\"},\"height\":{\"field\":\"height\",\"units\":\"data\"},\"line_color\":{\"field\":\"line_color\"},\"width\":{\"field\":\"width\",\"units\":\"data\"},\"x\":{\"field\":\"x\"},\"y\":{\"field\":\"y\"}},\"id\":\"406957d9-81cb-4da5-9468-73d593fef505\",\"type\":\"Rect\"},{\"attributes\":{\"fill_alpha\":{\"field\":\"fill_alpha\"},\"fill_color\":{\"field\":\"color\"},\"height\":{\"field\":\"height\",\"units\":\"data\"},\"line_color\":{\"field\":\"line_color\"},\"width\":{\"field\":\"width\",\"units\":\"data\"},\"x\":{\"field\":\"x\"},\"y\":{\"field\":\"y\"}},\"id\":\"338e378b-fee3-4bed-9113-5cd7b14d47fb\",\"type\":\"Rect\"},{\"attributes\":{},\"id\":\"4d02a3ef-b191-4800-ae77-ebf459065c29\",\"type\":\"BasicTickFormatter\"},{\"attributes\":{\"callback\":null,\"column_names\":[\"label\",\"line_alpha\",\"x\",\"width\",\"line_color\",\"y\",\"fill_alpha\",\"height\",\"color\"],\"data\":{\"chart_index\":[\"(6.2, 6.3]\"],\"color\":[\"#f22c40\"],\"fill_alpha\":[0.6],\"height\":[0.0],\"label\":[\"(6.2, 6.3]\"],\"line_alpha\":[1.0],\"line_color\":[\"black\"],\"width\":[0.16666666666666696],\"x\":[\"6.25\"],\"y\":[0.0]}},\"id\":\"e6d0d9c2-ae0e-4c0f-968a-0f2875fe9b5f\",\"type\":\"ColumnDataSource\"},{\"attributes\":{\"fill_alpha\":{\"field\":\"fill_alpha\"},\"fill_color\":{\"field\":\"color\"},\"height\":{\"field\":\"height\",\"units\":\"data\"},\"line_color\":{\"field\":\"line_color\"},\"width\":{\"field\":\"width\",\"units\":\"data\"},\"x\":{\"field\":\"x\"},\"y\":{\"field\":\"y\"}},\"id\":\"87b83e8b-3313-44c2-9484-6394fe4d69db\",\"type\":\"Rect\"},{\"attributes\":{\"data_source\":{\"id\":\"a18382ec-f7c0-4123-8f48-b0815c06221d\",\"type\":\"ColumnDataSource\"},\"glyph\":{\"id\":\"3d412197-6f56-49ce-adb1-1e8df1e22d85\",\"type\":\"Rect\"},\"hover_glyph\":null,\"nonselection_glyph\":null,\"selection_glyph\":null},\"id\":\"a4ad6f79-e8ca-46e5-b3e8-91d6412e3b26\",\"type\":\"GlyphRenderer\"},{\"attributes\":{\"fill_alpha\":{\"field\":\"fill_alpha\"},\"fill_color\":{\"field\":\"color\"},\"height\":{\"field\":\"height\",\"units\":\"data\"},\"line_color\":{\"field\":\"line_color\"},\"width\":{\"field\":\"width\",\"units\":\"data\"},\"x\":{\"field\":\"x\"},\"y\":{\"field\":\"y\"}},\"id\":\"ecfa14b0-b2fa-4dc6-838c-bd4aca3037f9\",\"type\":\"Rect\"},{\"attributes\":{\"fill_alpha\":{\"field\":\"fill_alpha\"},\"fill_color\":{\"field\":\"color\"},\"height\":{\"field\":\"height\",\"units\":\"data\"},\"line_color\":{\"field\":\"line_color\"},\"width\":{\"field\":\"width\",\"units\":\"data\"},\"x\":{\"field\":\"x\"},\"y\":{\"field\":\"y\"}},\"id\":\"e739ad09-9441-4d27-8dc0-3ae94585d196\",\"type\":\"Rect\"},{\"attributes\":{\"fill_alpha\":{\"field\":\"fill_alpha\"},\"fill_color\":{\"field\":\"color\"},\"height\":{\"field\":\"height\",\"units\":\"data\"},\"line_color\":{\"field\":\"line_color\"},\"width\":{\"field\":\"width\",\"units\":\"data\"},\"x\":{\"field\":\"x\"},\"y\":{\"field\":\"y\"}},\"id\":\"df8b7f13-2145-4af0-b0be-f56ff3b46831\",\"type\":\"Rect\"},{\"attributes\":{\"callback\":null,\"column_names\":[\"label\",\"line_alpha\",\"x\",\"width\",\"line_color\",\"y\",\"fill_alpha\",\"height\",\"color\"],\"data\":{\"chart_index\":[\"(7.2, 7.3]\"],\"color\":[\"#f22c40\"],\"fill_alpha\":[0.6],\"height\":[0.0],\"label\":[\"(7.2, 7.3]\"],\"line_alpha\":[1.0],\"line_color\":[\"black\"],\"width\":[0.16666666666666696],\"x\":[\"7.25\"],\"y\":[0.0]}},\"id\":\"5dfcb629-8ea5-41fa-b438-9fd4c7a80a22\",\"type\":\"ColumnDataSource\"},{\"attributes\":{\"fill_alpha\":{\"field\":\"fill_alpha\"},\"fill_color\":{\"field\":\"color\"},\"height\":{\"field\":\"height\",\"units\":\"data\"},\"line_color\":{\"field\":\"line_color\"},\"width\":{\"field\":\"width\",\"units\":\"data\"},\"x\":{\"field\":\"x\"},\"y\":{\"field\":\"y\"}},\"id\":\"fc1f8ce0-acfb-47d3-a1c7-e4cae99f2c5e\",\"type\":\"Rect\"},{\"attributes\":{\"data_source\":{\"id\":\"1dbd37c6-9752-4b0c-b6d8-c019e33edc41\",\"type\":\"ColumnDataSource\"},\"glyph\":{\"id\":\"230175a2-f014-4f27-973c-10f0f9230936\",\"type\":\"Rect\"},\"hover_glyph\":null,\"nonselection_glyph\":null,\"selection_glyph\":null},\"id\":\"75c65a05-399c-4f0c-94be-12cefa1701bb\",\"type\":\"GlyphRenderer\"},{\"attributes\":{\"fill_alpha\":{\"field\":\"fill_alpha\"},\"fill_color\":{\"field\":\"color\"},\"height\":{\"field\":\"height\",\"units\":\"data\"},\"line_color\":{\"field\":\"line_color\"},\"width\":{\"field\":\"width\",\"units\":\"data\"},\"x\":{\"field\":\"x\"},\"y\":{\"field\":\"y\"}},\"id\":\"3d412197-6f56-49ce-adb1-1e8df1e22d85\",\"type\":\"Rect\"},{\"attributes\":{\"data_source\":{\"id\":\"b4061092-a22f-4d90-8791-fe16c1c2585f\",\"type\":\"ColumnDataSource\"},\"glyph\":{\"id\":\"0895b2ff-c72b-45ca-86ec-8c2069bddf68\",\"type\":\"Rect\"},\"hover_glyph\":null,\"nonselection_glyph\":null,\"selection_glyph\":null},\"id\":\"2ba2ca3a-f3f1-446b-a622-b657343fe074\",\"type\":\"GlyphRenderer\"},{\"attributes\":{\"children\":[{\"id\":\"ae421cac-14c4-4ca5-8561-c1a18a999949\",\"type\":\"Row\"}]},\"id\":\"a6eec52a-3ca9-4258-8068-7d6900c9ff0a\",\"type\":\"Column\"},{\"attributes\":{\"callback\":null,\"column_names\":[\"label\",\"line_alpha\",\"x\",\"width\",\"line_color\",\"y\",\"fill_alpha\",\"height\",\"color\"],\"data\":{\"chart_index\":[\"(6.5, 6.7]\"],\"color\":[\"#f22c40\"],\"fill_alpha\":[0.6],\"height\":[0.0],\"label\":[\"(6.5, 6.7]\"],\"line_alpha\":[1.0],\"line_color\":[\"black\"],\"width\":[0.16666666666666607],\"x\":[\"6.6\"],\"y\":[0.0]}},\"id\":\"1fe1a208-ea7b-4bd3-851d-ac22a0fa8df2\",\"type\":\"ColumnDataSource\"},{\"attributes\":{},\"id\":\"9624ada9-66e7-4735-a0eb-3f1e620826cc\",\"type\":\"ToolEvents\"},{\"attributes\":{\"data_source\":{\"id\":\"0446427e-0042-4508-9a0f-cb724bc53219\",\"type\":\"ColumnDataSource\"},\"glyph\":{\"id\":\"e8544ba9-d93f-4464-b813-b2ee5365bc80\",\"type\":\"Rect\"},\"hover_glyph\":null,\"nonselection_glyph\":null,\"selection_glyph\":null},\"id\":\"aa7bec5b-e79f-484b-a859-525805ba93b8\",\"type\":\"GlyphRenderer\"},{\"attributes\":{\"fill_alpha\":{\"field\":\"fill_alpha\"},\"fill_color\":{\"field\":\"color\"},\"height\":{\"field\":\"height\",\"units\":\"data\"},\"line_color\":{\"field\":\"line_color\"},\"width\":{\"field\":\"width\",\"units\":\"data\"},\"x\":{\"field\":\"x\"},\"y\":{\"field\":\"y\"}},\"id\":\"3a2e9135-4f79-44ee-b8a7-634415e46ade\",\"type\":\"Rect\"},{\"attributes\":{\"callback\":null,\"column_names\":[\"label\",\"line_alpha\",\"x\",\"width\",\"line_color\",\"y\",\"fill_alpha\",\"height\",\"color\"],\"data\":{\"chart_index\":[\"(6.5, 6.6]\"],\"color\":[\"#5ab738\"],\"fill_alpha\":[0.6],\"height\":[0.0],\"label\":[\"(6.5, 6.6]\"],\"line_alpha\":[1.0],\"line_color\":[\"black\"],\"width\":[0.117647058823529],\"x\":[\"6.55\"],\"y\":[0.0]}},\"id\":\"6bbb547f-7911-4744-84b4-378deb9bc2e0\",\"type\":\"ColumnDataSource\"},{\"attributes\":{\"callback\":null,\"column_names\":[\"label\",\"line_alpha\",\"x\",\"width\",\"line_color\",\"y\",\"fill_alpha\",\"height\",\"color\"],\"data\":{\"chart_index\":[\"(3.9, 4.1]\"],\"color\":[\"#5ab738\"],\"fill_alpha\":[0.6],\"height\":[163.0],\"label\":[\"(3.9, 4.1]\"],\"line_alpha\":[1.0],\"line_color\":[\"black\"],\"width\":[0.117647058823529],\"x\":[\"4.0\"],\"y\":[81.5]}},\"id\":\"a18382ec-f7c0-4123-8f48-b0815c06221d\",\"type\":\"ColumnDataSource\"},{\"attributes\":{\"fill_alpha\":{\"field\":\"fill_alpha\"},\"fill_color\":{\"field\":\"color\"},\"height\":{\"field\":\"height\",\"units\":\"data\"},\"line_color\":{\"field\":\"line_color\"},\"width\":{\"field\":\"width\",\"units\":\"data\"},\"x\":{\"field\":\"x\"},\"y\":{\"field\":\"y\"}},\"id\":\"679be552-c61d-4bd6-97f0-be63335e0bf6\",\"type\":\"Rect\"},{\"attributes\":{\"callback\":null,\"column_names\":[\"label\",\"line_alpha\",\"x\",\"width\",\"line_color\",\"y\",\"fill_alpha\",\"height\",\"color\"],\"data\":{\"chart_index\":[\"(4.2, 4.3]\"],\"color\":[\"#f22c40\"],\"fill_alpha\":[0.6],\"height\":[0.0],\"label\":[\"(4.2, 4.3]\"],\"line_alpha\":[1.0],\"line_color\":[\"black\"],\"width\":[0.16666666666666696],\"x\":[\"4.25\"],\"y\":[0.0]}},\"id\":\"98858cac-de01-4247-91dd-d3da1d2f84a7\",\"type\":\"ColumnDataSource\"},{\"attributes\":{\"fill_alpha\":{\"field\":\"fill_alpha\"},\"fill_color\":{\"field\":\"color\"},\"height\":{\"field\":\"height\",\"units\":\"data\"},\"line_color\":{\"field\":\"line_color\"},\"width\":{\"field\":\"width\",\"units\":\"data\"},\"x\":{\"field\":\"x\"},\"y\":{\"field\":\"y\"}},\"id\":\"3fbf5f5c-ddba-4527-bf97-f571fb86dae1\",\"type\":\"Rect\"},{\"attributes\":{\"callback\":null,\"column_names\":[\"label\",\"line_alpha\",\"x\",\"width\",\"line_color\",\"y\",\"fill_alpha\",\"height\",\"color\"],\"data\":{\"chart_index\":[\"(6.7, 6.8]\"],\"color\":[\"#f22c40\"],\"fill_alpha\":[0.6],\"height\":[0.0],\"label\":[\"(6.7, 6.8]\"],\"line_alpha\":[1.0],\"line_color\":[\"black\"],\"width\":[0.16666666666666696],\"x\":[\"6.75\"],\"y\":[0.0]}},\"id\":\"ca3a9e58-84e1-4493-8098-9c208b13e8dd\",\"type\":\"ColumnDataSource\"},{\"attributes\":{\"fill_alpha\":{\"field\":\"fill_alpha\"},\"fill_color\":{\"field\":\"color\"},\"height\":{\"field\":\"height\",\"units\":\"data\"},\"line_color\":{\"field\":\"line_color\"},\"width\":{\"field\":\"width\",\"units\":\"data\"},\"x\":{\"field\":\"x\"},\"y\":{\"field\":\"y\"}},\"id\":\"0beec0b5-0cab-4537-bc42-8433c4e31d0d\",\"type\":\"Rect\"},{\"attributes\":{\"callback\":null,\"column_names\":[\"label\",\"line_alpha\",\"x\",\"width\",\"line_color\",\"y\",\"fill_alpha\",\"height\",\"color\"],\"data\":{\"chart_index\":[\"(6.0, 6.2]\"],\"color\":[\"#f22c40\"],\"fill_alpha\":[0.6],\"height\":[638.0],\"label\":[\"(6.0, 6.2]\"],\"line_alpha\":[1.0],\"line_color\":[\"black\"],\"width\":[0.16666666666666607],\"x\":[\"6.1\"],\"y\":[319.0]}},\"id\":\"b6b69ba5-ddc9-4b7a-9f48-9b7cebd8de0d\",\"type\":\"ColumnDataSource\"},{\"attributes\":{\"callback\":null,\"column_names\":[\"label\",\"line_alpha\",\"x\",\"width\",\"line_color\",\"y\",\"fill_alpha\",\"height\",\"color\"],\"data\":{\"chart_index\":[\"(3.6, 3.7]\"],\"color\":[\"#5ab738\"],\"fill_alpha\":[0.6],\"height\":[0.0],\"label\":[\"(3.6, 3.7]\"],\"line_alpha\":[1.0],\"line_color\":[\"black\"],\"width\":[0.11764705882352944],\"x\":[\"3.6500000000000004\"],\"y\":[0.0]}},\"id\":\"82409caf-b8f2-4269-9393-67e83ee928d7\",\"type\":\"ColumnDataSource\"},{\"attributes\":{\"data_source\":{\"id\":\"d810904e-7f08-48c4-9edb-7eca83edaea2\",\"type\":\"ColumnDataSource\"},\"glyph\":{\"id\":\"ffabcfb5-5c08-4062-9d41-21d238e20908\",\"type\":\"Rect\"},\"hover_glyph\":null,\"nonselection_glyph\":null,\"selection_glyph\":null},\"id\":\"deb3c910-fe0f-43a7-96f5-8d05d3f12ff3\",\"type\":\"GlyphRenderer\"},{\"attributes\":{\"data_source\":{\"id\":\"8da83059-dcd1-41f5-8657-a6b644524b69\",\"type\":\"ColumnDataSource\"},\"glyph\":{\"id\":\"7fd8d2ab-de11-4208-ac0c-61c6ec75eba9\",\"type\":\"Rect\"},\"hover_glyph\":null,\"nonselection_glyph\":null,\"selection_glyph\":null},\"id\":\"eeade9e4-b7d1-4941-a5f9-e23430bfae31\",\"type\":\"GlyphRenderer\"},{\"attributes\":{\"data_source\":{\"id\":\"8cda1112-a3ad-456e-86df-bb5446586b4d\",\"type\":\"ColumnDataSource\"},\"glyph\":{\"id\":\"e799ec73-fcd5-4f8f-9e7e-d92fd54f2ce7\",\"type\":\"Rect\"},\"hover_glyph\":null,\"nonselection_glyph\":null,\"selection_glyph\":null},\"id\":\"0d1b5fc6-4d1e-4d41-99b9-662ab9512b7c\",\"type\":\"GlyphRenderer\"},{\"attributes\":{\"dimension\":1,\"plot\":{\"id\":\"43f34e99-46a3-4936-9afd-f46c0e7f2eb7\",\"subtype\":\"Chart\",\"type\":\"Plot\"},\"ticker\":{\"id\":\"f27715fb-a9ed-4a37-8bf9-6bae034f0f81\",\"type\":\"BasicTicker\"}},\"id\":\"08b3012f-64cc-4196-87f8-5eeecdee335d\",\"type\":\"Grid\"},{\"attributes\":{\"fill_alpha\":{\"field\":\"fill_alpha\"},\"fill_color\":{\"field\":\"color\"},\"height\":{\"field\":\"height\",\"units\":\"data\"},\"line_color\":{\"field\":\"line_color\"},\"width\":{\"field\":\"width\",\"units\":\"data\"},\"x\":{\"field\":\"x\"},\"y\":{\"field\":\"y\"}},\"id\":\"e8544ba9-d93f-4464-b813-b2ee5365bc80\",\"type\":\"Rect\"},{\"attributes\":{\"fill_alpha\":{\"field\":\"fill_alpha\"},\"fill_color\":{\"field\":\"color\"},\"height\":{\"field\":\"height\",\"units\":\"data\"},\"line_color\":{\"field\":\"line_color\"},\"width\":{\"field\":\"width\",\"units\":\"data\"},\"x\":{\"field\":\"x\"},\"y\":{\"field\":\"y\"}},\"id\":\"7fd8d2ab-de11-4208-ac0c-61c6ec75eba9\",\"type\":\"Rect\"},{\"attributes\":{\"callback\":null,\"column_names\":[\"label\",\"line_alpha\",\"x\",\"width\",\"line_color\",\"y\",\"fill_alpha\",\"height\",\"color\"],\"data\":{\"chart_index\":[\"(5.3, 5.5]\"],\"color\":[\"#f22c40\"],\"fill_alpha\":[0.6],\"height\":[0.0],\"label\":[\"(5.3, 5.5]\"],\"line_alpha\":[1.0],\"line_color\":[\"black\"],\"width\":[0.16666666666666696],\"x\":[\"5.4\"],\"y\":[0.0]}},\"id\":\"82e20969-32f7-4938-8776-23135746a02e\",\"type\":\"ColumnDataSource\"},{\"attributes\":{\"data_source\":{\"id\":\"400e66c2-5d6e-4e64-8965-ee6f3cde2ef0\",\"type\":\"ColumnDataSource\"},\"glyph\":{\"id\":\"df8b7f13-2145-4af0-b0be-f56ff3b46831\",\"type\":\"Rect\"},\"hover_glyph\":null,\"nonselection_glyph\":null,\"selection_glyph\":null},\"id\":\"3a41f8a3-fc5f-4bfa-ba3b-cae78f584024\",\"type\":\"GlyphRenderer\"},{\"attributes\":{\"data_source\":{\"id\":\"b387c6d5-df79-4582-8aaf-186affa03b32\",\"type\":\"ColumnDataSource\"},\"glyph\":{\"id\":\"fc1f8ce0-acfb-47d3-a1c7-e4cae99f2c5e\",\"type\":\"Rect\"},\"hover_glyph\":null,\"nonselection_glyph\":null,\"selection_glyph\":null},\"id\":\"bae66caf-356d-4c5c-ae34-83b736d3b33b\",\"type\":\"GlyphRenderer\"},{\"attributes\":{\"data_source\":{\"id\":\"59acbb4f-e0fc-4242-9ecf-bf27db9c79e8\",\"type\":\"ColumnDataSource\"},\"glyph\":{\"id\":\"5c4f5fa8-6c87-4ffa-ac04-df946db65deb\",\"type\":\"Rect\"},\"hover_glyph\":null,\"nonselection_glyph\":null,\"selection_glyph\":null},\"id\":\"66d5ad71-2ed4-480b-8e6d-edc442b6e751\",\"type\":\"GlyphRenderer\"},{\"attributes\":{\"callback\":null,\"column_names\":[\"label\",\"line_alpha\",\"x\",\"width\",\"line_color\",\"y\",\"fill_alpha\",\"height\",\"color\"],\"data\":{\"chart_index\":[\"(7.3, 7.5]\"],\"color\":[\"#f22c40\"],\"fill_alpha\":[0.6],\"height\":[0.0],\"label\":[\"(7.3, 7.5]\"],\"line_alpha\":[1.0],\"line_color\":[\"black\"],\"width\":[0.16666666666666696],\"x\":[\"7.4\"],\"y\":[0.0]}},\"id\":\"120582a5-fbe9-4105-897a-28986c9c6358\",\"type\":\"ColumnDataSource\"},{\"attributes\":{\"callback\":null,\"column_names\":[\"label\",\"line_alpha\",\"x\",\"width\",\"line_color\",\"y\",\"fill_alpha\",\"height\",\"color\"],\"data\":{\"chart_index\":[\"(6.1, 6.2]\"],\"color\":[\"#5ab738\"],\"fill_alpha\":[0.6],\"height\":[0.0],\"label\":[\"(6.1, 6.2]\"],\"line_alpha\":[1.0],\"line_color\":[\"black\"],\"width\":[0.117647058823529],\"x\":[\"6.15\"],\"y\":[0.0]}},\"id\":\"9421c4f2-a34a-4c34-b2c5-5562d1c67741\",\"type\":\"ColumnDataSource\"},{\"attributes\":{\"data_source\":{\"id\":\"9421c4f2-a34a-4c34-b2c5-5562d1c67741\",\"type\":\"ColumnDataSource\"},\"glyph\":{\"id\":\"e739ad09-9441-4d27-8dc0-3ae94585d196\",\"type\":\"Rect\"},\"hover_glyph\":null,\"nonselection_glyph\":null,\"selection_glyph\":null},\"id\":\"2e676c05-fe11-479f-afa0-4c6c820da62a\",\"type\":\"GlyphRenderer\"},{\"attributes\":{\"fill_alpha\":{\"field\":\"fill_alpha\"},\"fill_color\":{\"field\":\"color\"},\"height\":{\"field\":\"height\",\"units\":\"data\"},\"line_color\":{\"field\":\"line_color\"},\"width\":{\"field\":\"width\",\"units\":\"data\"},\"x\":{\"field\":\"x\"},\"y\":{\"field\":\"y\"}},\"id\":\"7d88eeeb-23d5-483d-99e8-ae47eed3d7cf\",\"type\":\"Rect\"},{\"attributes\":{\"callback\":null,\"column_names\":[\"label\",\"line_alpha\",\"x\",\"width\",\"line_color\",\"y\",\"fill_alpha\",\"height\",\"color\"],\"data\":{\"chart_index\":[\"(4.5, 4.6]\"],\"color\":[\"#5ab738\"],\"fill_alpha\":[0.6],\"height\":[0.0],\"label\":[\"(4.5, 4.6]\"],\"line_alpha\":[1.0],\"line_color\":[\"black\"],\"width\":[0.117647058823529],\"x\":[\"4.55\"],\"y\":[0.0]}},\"id\":\"e06e6936-390b-42a4-a73b-bf133b640e47\",\"type\":\"ColumnDataSource\"},{\"attributes\":{\"fill_alpha\":{\"field\":\"fill_alpha\"},\"fill_color\":{\"field\":\"color\"},\"height\":{\"field\":\"height\",\"units\":\"data\"},\"line_color\":{\"field\":\"line_color\"},\"width\":{\"field\":\"width\",\"units\":\"data\"},\"x\":{\"field\":\"x\"},\"y\":{\"field\":\"y\"}},\"id\":\"0fc46592-e560-4e1c-a59a-901efd140d23\",\"type\":\"Rect\"},{\"attributes\":{\"data_source\":{\"id\":\"ca3a9e58-84e1-4493-8098-9c208b13e8dd\",\"type\":\"ColumnDataSource\"},\"glyph\":{\"id\":\"679be552-c61d-4bd6-97f0-be63335e0bf6\",\"type\":\"Rect\"},\"hover_glyph\":null,\"nonselection_glyph\":null,\"selection_glyph\":null},\"id\":\"6753ab31-cc0e-4ec8-988f-73292474d089\",\"type\":\"GlyphRenderer\"},{\"attributes\":{\"callback\":null,\"column_names\":[\"label\",\"line_alpha\",\"x\",\"width\",\"line_color\",\"y\",\"fill_alpha\",\"height\",\"color\"],\"data\":{\"chart_index\":[\"(4.9, 5.0]\"],\"color\":[\"#5ab738\"],\"fill_alpha\":[0.6],\"height\":[0.0],\"label\":[\"(4.9, 5.0]\"],\"line_alpha\":[1.0],\"line_color\":[\"black\"],\"width\":[0.117647058823529],\"x\":[\"4.95\"],\"y\":[0.0]}},\"id\":\"f8acb4e9-7b74-4888-bd8b-71ff682a526e\",\"type\":\"ColumnDataSource\"},{\"attributes\":{\"callback\":null,\"column_names\":[\"label\",\"line_alpha\",\"x\",\"width\",\"line_color\",\"y\",\"fill_alpha\",\"height\",\"color\"],\"data\":{\"chart_index\":[\"(7.2, 7.4]\"],\"color\":[\"#5ab738\"],\"fill_alpha\":[0.6],\"height\":[0.0],\"label\":[\"(7.2, 7.4]\"],\"line_alpha\":[1.0],\"line_color\":[\"black\"],\"width\":[0.117647058823529],\"x\":[\"7.300000000000001\"],\"y\":[0.0]}},\"id\":\"9a45d4a6-4e45-4dd4-bef0-a047c7c012a6\",\"type\":\"ColumnDataSource\"},{\"attributes\":{\"data_source\":{\"id\":\"0738a8ed-100c-4aec-8cd7-46d7d06e0369\",\"type\":\"ColumnDataSource\"},\"glyph\":{\"id\":\"d9dc813b-e853-44ad-b0bb-525d54b4f354\",\"type\":\"Rect\"},\"hover_glyph\":null,\"nonselection_glyph\":null,\"selection_glyph\":null},\"id\":\"9dead404-5dff-40c0-9424-68d10108628d\",\"type\":\"GlyphRenderer\"},{\"attributes\":{\"callback\":null,\"column_names\":[\"label\",\"line_alpha\",\"x\",\"width\",\"line_color\",\"y\",\"fill_alpha\",\"height\",\"color\"],\"data\":{\"chart_index\":[\"(4.0, 4.2]\"],\"color\":[\"#f22c40\"],\"fill_alpha\":[0.6],\"height\":[53.0],\"label\":[\"(4.0, 4.2]\"],\"line_alpha\":[1.0],\"line_color\":[\"black\"],\"width\":[0.16666666666666607],\"x\":[\"4.1\"],\"y\":[26.5]}},\"id\":\"9e164538-397a-499a-b973-3cd5b46b4529\",\"type\":\"ColumnDataSource\"},{\"attributes\":{\"data_source\":{\"id\":\"1afbbafc-7554-4e90-97e3-8085e5d5c4ad\",\"type\":\"ColumnDataSource\"},\"glyph\":{\"id\":\"27deae9b-7791-47a6-906d-de09a7ea7019\",\"type\":\"Rect\"},\"hover_glyph\":null,\"nonselection_glyph\":null,\"selection_glyph\":null},\"id\":\"3aa7396c-8854-49a8-96dc-229820a35af5\",\"type\":\"GlyphRenderer\"},{\"attributes\":{\"data_source\":{\"id\":\"1fe1a208-ea7b-4bd3-851d-ac22a0fa8df2\",\"type\":\"ColumnDataSource\"},\"glyph\":{\"id\":\"edc63860-aefe-42ce-999d-33460e51eae5\",\"type\":\"Rect\"},\"hover_glyph\":null,\"nonselection_glyph\":null,\"selection_glyph\":null},\"id\":\"6bf96ac0-b27a-4fb1-b0fe-1cf0fecc916f\",\"type\":\"GlyphRenderer\"},{\"attributes\":{\"data_source\":{\"id\":\"aa7f122a-6f27-465e-9460-72d6ae05f3cf\",\"type\":\"ColumnDataSource\"},\"glyph\":{\"id\":\"9ac9baae-8d6e-44da-a8fe-6818e7e9c8c9\",\"type\":\"Rect\"},\"hover_glyph\":null,\"nonselection_glyph\":null,\"selection_glyph\":null},\"id\":\"ea4b2c95-f41a-4018-89a4-7c952d05f8ae\",\"type\":\"GlyphRenderer\"},{\"attributes\":{\"fill_alpha\":{\"field\":\"fill_alpha\"},\"fill_color\":{\"field\":\"color\"},\"height\":{\"field\":\"height\",\"units\":\"data\"},\"line_color\":{\"field\":\"line_color\"},\"width\":{\"field\":\"width\",\"units\":\"data\"},\"x\":{\"field\":\"x\"},\"y\":{\"field\":\"y\"}},\"id\":\"ea032ff7-f2f7-4383-a79e-31f99f550344\",\"type\":\"Rect\"},{\"attributes\":{\"data_source\":{\"id\":\"68cd21ba-dab4-4532-a04b-f1dc8eed3987\",\"type\":\"ColumnDataSource\"},\"glyph\":{\"id\":\"2f45ee69-ca64-4fcf-b630-eddc111f97e5\",\"type\":\"Rect\"},\"hover_glyph\":null,\"nonselection_glyph\":null,\"selection_glyph\":null},\"id\":\"12e173c2-c3e6-4076-ba9f-b53e68733e5c\",\"type\":\"GlyphRenderer\"},{\"attributes\":{\"callback\":null,\"column_names\":[\"label\",\"line_alpha\",\"x\",\"width\",\"line_color\",\"y\",\"fill_alpha\",\"height\",\"color\"],\"data\":{\"chart_index\":[\"(8.9, 9.0]\"],\"color\":[\"#5ab738\"],\"fill_alpha\":[0.6],\"height\":[5.0],\"label\":[\"(8.9, 9.0]\"],\"line_alpha\":[1.0],\"line_color\":[\"black\"],\"width\":[0.117647058823529],\"x\":[\"8.95\"],\"y\":[2.5]}},\"id\":\"141a5f9f-0fdf-4d83-b7c9-f3e6f7a5a781\",\"type\":\"ColumnDataSource\"},{\"attributes\":{\"data_source\":{\"id\":\"054d3a64-aede-46ff-9586-add4778d0805\",\"type\":\"ColumnDataSource\"},\"glyph\":{\"id\":\"56c7707b-11c3-4c2a-ba65-7f679eaebe7c\",\"type\":\"Rect\"},\"hover_glyph\":null,\"nonselection_glyph\":null,\"selection_glyph\":null},\"id\":\"7effa3d4-5cd3-4407-a40e-d093d1ebcc93\",\"type\":\"GlyphRenderer\"},{\"attributes\":{\"bottom_units\":\"screen\",\"fill_alpha\":{\"value\":0.5},\"fill_color\":{\"value\":\"lightgrey\"},\"left_units\":\"screen\",\"level\":\"overlay\",\"line_alpha\":{\"value\":1.0},\"line_color\":{\"value\":\"black\"},\"line_dash\":[4,4],\"line_width\":{\"value\":2},\"plot\":null,\"render_mode\":\"css\",\"right_units\":\"screen\",\"top_units\":\"screen\"},\"id\":\"02493e49-1cfe-4898-bf77-44dd5ecc2f29\",\"type\":\"BoxAnnotation\"},{\"attributes\":{\"callback\":null,\"column_names\":[\"label\",\"line_alpha\",\"x\",\"width\",\"line_color\",\"y\",\"fill_alpha\",\"height\",\"color\"],\"data\":{\"chart_index\":[\"(6.3, 6.5]\"],\"color\":[\"#f22c40\"],\"fill_alpha\":[0.6],\"height\":[0.0],\"label\":[\"(6.3, 6.5]\"],\"line_alpha\":[1.0],\"line_color\":[\"black\"],\"width\":[0.16666666666666696],\"x\":[\"6.4\"],\"y\":[0.0]}},\"id\":\"7ad1a41b-d53d-4e32-ad55-618e1e7e5044\",\"type\":\"ColumnDataSource\"},{\"attributes\":{\"data_source\":{\"id\":\"ea65eca9-336f-468a-b615-30319405196b\",\"type\":\"ColumnDataSource\"},\"glyph\":{\"id\":\"1f6e83f3-92af-4015-b752-6926ccf402a1\",\"type\":\"Rect\"},\"hover_glyph\":null,\"nonselection_glyph\":null,\"selection_glyph\":null},\"id\":\"f9dc5992-c970-4828-a3f1-1dfacb1596c0\",\"type\":\"GlyphRenderer\"},{\"attributes\":{\"fill_alpha\":{\"field\":\"fill_alpha\"},\"fill_color\":{\"field\":\"color\"},\"height\":{\"field\":\"height\",\"units\":\"data\"},\"line_color\":{\"field\":\"line_color\"},\"width\":{\"field\":\"width\",\"units\":\"data\"},\"x\":{\"field\":\"x\"},\"y\":{\"field\":\"y\"}},\"id\":\"91c49d34-7c52-43d2-91b9-56ef9ed4e2cf\",\"type\":\"Rect\"},{\"attributes\":{\"data_source\":{\"id\":\"15259afc-440a-4a58-bf2c-a9f17dc4da20\",\"type\":\"ColumnDataSource\"},\"glyph\":{\"id\":\"041edcfb-e90c-48bb-aab9-28fea637ab6f\",\"type\":\"Rect\"},\"hover_glyph\":null,\"nonselection_glyph\":null,\"selection_glyph\":null},\"id\":\"696a0e7c-ca70-4e11-aa23-ef184455145d\",\"type\":\"GlyphRenderer\"},{\"attributes\":{\"data_source\":{\"id\":\"d46f1df3-ab4b-4047-98f3-23661636efbe\",\"type\":\"ColumnDataSource\"},\"glyph\":{\"id\":\"84af0676-a705-4e35-8aca-ecf529819bdc\",\"type\":\"Rect\"},\"hover_glyph\":null,\"nonselection_glyph\":null,\"selection_glyph\":null},\"id\":\"bba3ac89-abf8-40b6-b1eb-ee0d881c45ba\",\"type\":\"GlyphRenderer\"},{\"attributes\":{\"callback\":null,\"column_names\":[\"label\",\"line_alpha\",\"x\",\"width\",\"line_color\",\"y\",\"fill_alpha\",\"height\",\"color\"],\"data\":{\"chart_index\":[\"(5.9, 6.1]\"],\"color\":[\"#5ab738\"],\"fill_alpha\":[0.6],\"height\":[2198.0],\"label\":[\"(5.9, 6.1]\"],\"line_alpha\":[1.0],\"line_color\":[\"black\"],\"width\":[0.117647058823529],\"x\":[\"6.0\"],\"y\":[1099.0]}},\"id\":\"8ee25a3a-fef0-4d6f-9e9c-2341f743d8d1\",\"type\":\"ColumnDataSource\"},{\"attributes\":{\"data_source\":{\"id\":\"56ee16b0-3278-4096-aab9-2a3e6cd9751b\",\"type\":\"ColumnDataSource\"},\"glyph\":{\"id\":\"079401ed-26eb-46af-863e-f2796b96babf\",\"type\":\"Rect\"},\"hover_glyph\":null,\"nonselection_glyph\":null,\"selection_glyph\":null},\"id\":\"a4cdcf79-6890-4c67-aab5-3e43c5b3d3a5\",\"type\":\"GlyphRenderer\"},{\"attributes\":{\"data_source\":{\"id\":\"98858cac-de01-4247-91dd-d3da1d2f84a7\",\"type\":\"ColumnDataSource\"},\"glyph\":{\"id\":\"0a3f4aec-8cc6-4335-bbd6-70515b54f75e\",\"type\":\"Rect\"},\"hover_glyph\":null,\"nonselection_glyph\":null,\"selection_glyph\":null},\"id\":\"48086f3b-c3b8-48e2-8868-821e8054c54b\",\"type\":\"GlyphRenderer\"},{\"attributes\":{\"legends\":[[\"1\",[{\"id\":\"ab18db1d-f45a-433d-bb5c-6a5b92786bc6\",\"type\":\"GlyphRenderer\"},{\"id\":\"b0d059c5-a053-4500-a72a-d65a17b7b284\",\"type\":\"GlyphRenderer\"},{\"id\":\"1a5cfe33-9137-48e9-93ec-b0908cc07e00\",\"type\":\"GlyphRenderer\"},{\"id\":\"150c5d25-e7ad-4efc-9163-336a97921835\",\"type\":\"GlyphRenderer\"},{\"id\":\"6d88a340-6087-4a3d-8181-dd21c9812fb2\",\"type\":\"GlyphRenderer\"},{\"id\":\"e6e0f08a-ec4d-4e66-ba5b-72abf00c1517\",\"type\":\"GlyphRenderer\"},{\"id\":\"66d5ad71-2ed4-480b-8e6d-edc442b6e751\",\"type\":\"GlyphRenderer\"},{\"id\":\"bae66caf-356d-4c5c-ae34-83b736d3b33b\",\"type\":\"GlyphRenderer\"},{\"id\":\"a4ad6f79-e8ca-46e5-b3e8-91d6412e3b26\",\"type\":\"GlyphRenderer\"},{\"id\":\"7d7d3aa4-9058-4d87-b293-b6b70eb8bb16\",\"type\":\"GlyphRenderer\"},{\"id\":\"a6e80d8a-27cf-4b2c-9627-4d5acf8b1a14\",\"type\":\"GlyphRenderer\"},{\"id\":\"a4cdcf79-6890-4c67-aab5-3e43c5b3d3a5\",\"type\":\"GlyphRenderer\"},{\"id\":\"a74b8a96-8b53-48b0-a27d-7b2fdd997f8e\",\"type\":\"GlyphRenderer\"},{\"id\":\"0b4b7b18-39ff-4402-be7a-d95dab7fc9fd\",\"type\":\"GlyphRenderer\"},{\"id\":\"eeade9e4-b7d1-4941-a5f9-e23430bfae31\",\"type\":\"GlyphRenderer\"},{\"id\":\"d9cc371d-cc09-4392-b68e-4c15d652e1be\",\"type\":\"GlyphRenderer\"},{\"id\":\"9a8f00b8-c791-438d-90b5-892a116bc272\",\"type\":\"GlyphRenderer\"},{\"id\":\"063cc22d-fde9-4d9e-b6ba-86b594488935\",\"type\":\"GlyphRenderer\"},{\"id\":\"b472ea6c-f254-4c10-84a9-f27ac9a8c012\",\"type\":\"GlyphRenderer\"},{\"id\":\"deb3c910-fe0f-43a7-96f5-8d05d3f12ff3\",\"type\":\"GlyphRenderer\"},{\"id\":\"738a73dd-d10e-4b5c-b4d4-2410429538df\",\"type\":\"GlyphRenderer\"},{\"id\":\"aa7bec5b-e79f-484b-a859-525805ba93b8\",\"type\":\"GlyphRenderer\"},{\"id\":\"a441604b-7c02-47dc-9df1-4031e6efa86a\",\"type\":\"GlyphRenderer\"},{\"id\":\"d14965f3-7598-4087-a0d2-17216c4c8b8a\",\"type\":\"GlyphRenderer\"},{\"id\":\"bba3ac89-abf8-40b6-b1eb-ee0d881c45ba\",\"type\":\"GlyphRenderer\"},{\"id\":\"a0ccff18-6158-41f8-ac42-27e0449a48d3\",\"type\":\"GlyphRenderer\"},{\"id\":\"2e676c05-fe11-479f-afa0-4c6c820da62a\",\"type\":\"GlyphRenderer\"},{\"id\":\"31c7c1fb-ad90-4271-8b59-8f9b74330c87\",\"type\":\"GlyphRenderer\"},{\"id\":\"1ed7a6ef-84b2-4249-b386-9de8bdbc40b2\",\"type\":\"GlyphRenderer\"},{\"id\":\"3a41f8a3-fc5f-4bfa-ba3b-cae78f584024\",\"type\":\"GlyphRenderer\"},{\"id\":\"63a0a625-619d-4442-a854-dc68bd04526d\",\"type\":\"GlyphRenderer\"},{\"id\":\"9dead404-5dff-40c0-9424-68d10108628d\",\"type\":\"GlyphRenderer\"},{\"id\":\"2ba2ca3a-f3f1-446b-a622-b657343fe074\",\"type\":\"GlyphRenderer\"},{\"id\":\"15ead87d-a72c-47c0-9d64-9594b3e3106a\",\"type\":\"GlyphRenderer\"},{\"id\":\"aa334723-154e-4414-afce-a015c8e235b8\",\"type\":\"GlyphRenderer\"},{\"id\":\"ea4b2c95-f41a-4018-89a4-7c952d05f8ae\",\"type\":\"GlyphRenderer\"},{\"id\":\"047870aa-2aa2-41e6-ab64-4227037ea8a6\",\"type\":\"GlyphRenderer\"},{\"id\":\"972c03bb-1381-417c-84b5-03c7d77411d9\",\"type\":\"GlyphRenderer\"},{\"id\":\"17b5872c-43dd-4d39-bc70-336cbae31ac4\",\"type\":\"GlyphRenderer\"},{\"id\":\"152fb1a7-d1fa-4f60-9612-549a5bc27264\",\"type\":\"GlyphRenderer\"},{\"id\":\"90d374e0-350f-4b9d-b967-c69c7889a0d8\",\"type\":\"GlyphRenderer\"},{\"id\":\"68164212-fc0f-4fcc-ab7a-baca32c63688\",\"type\":\"GlyphRenderer\"},{\"id\":\"ff7b30c4-8d77-4c4f-9388-158033643b20\",\"type\":\"GlyphRenderer\"},{\"id\":\"767657b8-30ca-4b8d-bfcf-8b62d4c5b52f\",\"type\":\"GlyphRenderer\"},{\"id\":\"c5b60815-8937-4255-866c-e6b5e50df943\",\"type\":\"GlyphRenderer\"},{\"id\":\"ff24595c-fe21-43b2-8830-6d403d51325b\",\"type\":\"GlyphRenderer\"},{\"id\":\"ea0246db-0755-4a41-9487-5e3b274d37bd\",\"type\":\"GlyphRenderer\"},{\"id\":\"d9f0a86c-3601-4c38-9f7a-0e92c9bfde2b\",\"type\":\"GlyphRenderer\"},{\"id\":\"a4aa4b21-a19e-4ad1-bbe4-541e10c126ff\",\"type\":\"GlyphRenderer\"},{\"id\":\"e6cb79f5-59da-4663-a55d-09fa1f10ccda\",\"type\":\"GlyphRenderer\"},{\"id\":\"b38be060-559a-4754-8a80-df1772217c82\",\"type\":\"GlyphRenderer\"}]],[\"0\",[{\"id\":\"7effa3d4-5cd3-4407-a40e-d093d1ebcc93\",\"type\":\"GlyphRenderer\"},{\"id\":\"aa3dd637-ee11-420c-9ba3-1f5272a3d79b\",\"type\":\"GlyphRenderer\"},{\"id\":\"3aa7396c-8854-49a8-96dc-229820a35af5\",\"type\":\"GlyphRenderer\"},{\"id\":\"eddbcc1a-20ba-4397-be45-4836646b83e3\",\"type\":\"GlyphRenderer\"},{\"id\":\"dcc22601-3f13-4cb6-b5a1-965d33b636a5\",\"type\":\"GlyphRenderer\"},{\"id\":\"fbdb614f-9654-45a0-8fff-c27abf8e98d0\",\"type\":\"GlyphRenderer\"},{\"id\":\"b54e7387-f616-47f0-94ff-ed9551d342d3\",\"type\":\"GlyphRenderer\"},{\"id\":\"48086f3b-c3b8-48e2-8868-821e8054c54b\",\"type\":\"GlyphRenderer\"},{\"id\":\"16d58883-ae0d-46b9-8f21-5a0f6ef77325\",\"type\":\"GlyphRenderer\"},{\"id\":\"c3786afc-9f77-4404-b55b-f07db4ea786f\",\"type\":\"GlyphRenderer\"},{\"id\":\"0630471d-1eab-4316-a271-74ee7e22e6be\",\"type\":\"GlyphRenderer\"},{\"id\":\"12e173c2-c3e6-4076-ba9f-b53e68733e5c\",\"type\":\"GlyphRenderer\"},{\"id\":\"fdd24619-cde4-45fb-a0c7-4ef84c9ba2b6\",\"type\":\"GlyphRenderer\"},{\"id\":\"ebd66202-d993-4f4f-b6fc-bece7b0ea608\",\"type\":\"GlyphRenderer\"},{\"id\":\"ea2e6d84-d1c8-44c4-8c20-337812244a2c\",\"type\":\"GlyphRenderer\"},{\"id\":\"696a0e7c-ca70-4e11-aa23-ef184455145d\",\"type\":\"GlyphRenderer\"},{\"id\":\"71b9ff37-33bb-4054-85d9-faafb810f0c0\",\"type\":\"GlyphRenderer\"},{\"id\":\"027c6717-6b9d-41e2-b91c-7787a1166a60\",\"type\":\"GlyphRenderer\"},{\"id\":\"be101447-6fa2-47fa-aec8-e1c77e421775\",\"type\":\"GlyphRenderer\"},{\"id\":\"b36533c3-d1ed-4c69-8b36-25c1400c1cd3\",\"type\":\"GlyphRenderer\"},{\"id\":\"29900bb4-822b-4c5b-b71f-41414d56c986\",\"type\":\"GlyphRenderer\"},{\"id\":\"6bf96ac0-b27a-4fb1-b0fe-1cf0fecc916f\",\"type\":\"GlyphRenderer\"},{\"id\":\"6753ab31-cc0e-4ec8-988f-73292474d089\",\"type\":\"GlyphRenderer\"},{\"id\":\"75c65a05-399c-4f0c-94be-12cefa1701bb\",\"type\":\"GlyphRenderer\"},{\"id\":\"26578b84-88f8-429b-88e9-0959d985fa54\",\"type\":\"GlyphRenderer\"},{\"id\":\"1c55811f-32ac-426c-a7a2-97c2eee6f81e\",\"type\":\"GlyphRenderer\"},{\"id\":\"a516391c-ddb0-4985-af2d-4a06f86f9d16\",\"type\":\"GlyphRenderer\"},{\"id\":\"f9dc5992-c970-4828-a3f1-1dfacb1596c0\",\"type\":\"GlyphRenderer\"},{\"id\":\"5f688d3c-5f78-4382-a438-9273cc155eae\",\"type\":\"GlyphRenderer\"},{\"id\":\"0d1b5fc6-4d1e-4d41-99b9-662ab9512b7c\",\"type\":\"GlyphRenderer\"}]]],\"location\":\"top_left\",\"plot\":{\"id\":\"43f34e99-46a3-4936-9afd-f46c0e7f2eb7\",\"subtype\":\"Chart\",\"type\":\"Plot\"}},\"id\":\"045c5eb8-9d08-4b41-bbb0-7ac656b1e415\",\"type\":\"Legend\"},{\"attributes\":{\"callback\":null,\"column_names\":[\"label\",\"line_alpha\",\"x\",\"width\",\"line_color\",\"y\",\"fill_alpha\",\"height\",\"color\"],\"data\":{\"chart_index\":[\"(6.8, 6.9]\"],\"color\":[\"#5ab738\"],\"fill_alpha\":[0.6],\"height\":[0.0],\"label\":[\"(6.8, 6.9]\"],\"line_alpha\":[1.0],\"line_color\":[\"black\"],\"width\":[0.11764705882352988],\"x\":[\"6.85\"],\"y\":[0.0]}},\"id\":\"b4061092-a22f-4d90-8791-fe16c1c2585f\",\"type\":\"ColumnDataSource\"},{\"attributes\":{\"data_source\":{\"id\":\"4d2fbf60-7807-4ff9-96a6-b9c03c1adf8d\",\"type\":\"ColumnDataSource\"},\"glyph\":{\"id\":\"66812b57-c8c4-4169-bbb0-d82afedf1494\",\"type\":\"Rect\"},\"hover_glyph\":null,\"nonselection_glyph\":null,\"selection_glyph\":null},\"id\":\"ab18db1d-f45a-433d-bb5c-6a5b92786bc6\",\"type\":\"GlyphRenderer\"},{\"attributes\":{\"fill_alpha\":{\"field\":\"fill_alpha\"},\"fill_color\":{\"field\":\"color\"},\"height\":{\"field\":\"height\",\"units\":\"data\"},\"line_color\":{\"field\":\"line_color\"},\"width\":{\"field\":\"width\",\"units\":\"data\"},\"x\":{\"field\":\"x\"},\"y\":{\"field\":\"y\"}},\"id\":\"6a101c2f-2459-4ef0-8e52-a21b265a351c\",\"type\":\"Rect\"},{\"attributes\":{\"callback\":null,\"column_names\":[\"label\",\"line_alpha\",\"x\",\"width\",\"line_color\",\"y\",\"fill_alpha\",\"height\",\"color\"],\"data\":{\"chart_index\":[\"(3.3, 3.5]\"],\"color\":[\"#f22c40\"],\"fill_alpha\":[0.6],\"height\":[0.0],\"label\":[\"(3.3, 3.5]\"],\"line_alpha\":[1.0],\"line_color\":[\"black\"],\"width\":[0.16666666666666652],\"x\":[\"3.4\"],\"y\":[0.0]}},\"id\":\"1afbbafc-7554-4e90-97e3-8085e5d5c4ad\",\"type\":\"ColumnDataSource\"},{\"attributes\":{\"data_source\":{\"id\":\"fa34839f-69e5-44ce-9539-51a9f9c44994\",\"type\":\"ColumnDataSource\"},\"glyph\":{\"id\":\"0beec0b5-0cab-4537-bc42-8433c4e31d0d\",\"type\":\"Rect\"},\"hover_glyph\":null,\"nonselection_glyph\":null,\"selection_glyph\":null},\"id\":\"ff24595c-fe21-43b2-8830-6d403d51325b\",\"type\":\"GlyphRenderer\"},{\"attributes\":{\"callback\":null,\"column_names\":[\"label\",\"line_alpha\",\"x\",\"width\",\"line_color\",\"y\",\"fill_alpha\",\"height\",\"color\"],\"data\":{\"chart_index\":[\"(5.5, 5.7]\"],\"color\":[\"#f22c40\"],\"fill_alpha\":[0.6],\"height\":[0.0],\"label\":[\"(5.5, 5.7]\"],\"line_alpha\":[1.0],\"line_color\":[\"black\"],\"width\":[0.16666666666666607],\"x\":[\"5.6\"],\"y\":[0.0]}},\"id\":\"15259afc-440a-4a58-bf2c-a9f17dc4da20\",\"type\":\"ColumnDataSource\"},{\"attributes\":{\"data_source\":{\"id\":\"7a06a742-faea-46db-9e32-af69243ee93e\",\"type\":\"ColumnDataSource\"},\"glyph\":{\"id\":\"7abf29af-67a9-4f6a-aac0-a6b9e2bf6774\",\"type\":\"Rect\"},\"hover_glyph\":null,\"nonselection_glyph\":null,\"selection_glyph\":null},\"id\":\"c5b60815-8937-4255-866c-e6b5e50df943\",\"type\":\"GlyphRenderer\"},{\"attributes\":{\"data_source\":{\"id\":\"f4ac4b7f-8cd1-4c6d-94bd-998235b5b96a\",\"type\":\"ColumnDataSource\"},\"glyph\":{\"id\":\"006d662d-73ed-4a35-8c01-ffb4cdfa04ba\",\"type\":\"Rect\"},\"hover_glyph\":null,\"nonselection_glyph\":null,\"selection_glyph\":null},\"id\":\"738a73dd-d10e-4b5c-b4d4-2410429538df\",\"type\":\"GlyphRenderer\"},{\"attributes\":{\"data_source\":{\"id\":\"8ee25a3a-fef0-4d6f-9e9c-2341f743d8d1\",\"type\":\"ColumnDataSource\"},\"glyph\":{\"id\":\"f8533081-c32f-4475-9930-24abcebf9e7b\",\"type\":\"Rect\"},\"hover_glyph\":null,\"nonselection_glyph\":null,\"selection_glyph\":null},\"id\":\"a0ccff18-6158-41f8-ac42-27e0449a48d3\",\"type\":\"GlyphRenderer\"},{\"attributes\":{\"data_source\":{\"id\":\"9a45d4a6-4e45-4dd4-bef0-a047c7c012a6\",\"type\":\"ColumnDataSource\"},\"glyph\":{\"id\":\"3a2e9135-4f79-44ee-b8a7-634415e46ade\",\"type\":\"Rect\"},\"hover_glyph\":null,\"nonselection_glyph\":null,\"selection_glyph\":null},\"id\":\"047870aa-2aa2-41e6-ab64-4227037ea8a6\",\"type\":\"GlyphRenderer\"},{\"attributes\":{\"data_source\":{\"id\":\"ede8d60a-956c-4883-919d-4a2cbf5674ca\",\"type\":\"ColumnDataSource\"},\"glyph\":{\"id\":\"69d0f53e-aaef-46ae-b3dd-91b3c64c994b\",\"type\":\"Rect\"},\"hover_glyph\":null,\"nonselection_glyph\":null,\"selection_glyph\":null},\"id\":\"063cc22d-fde9-4d9e-b6ba-86b594488935\",\"type\":\"GlyphRenderer\"},{\"attributes\":{\"data_source\":{\"id\":\"8396e860-0085-4e21-9f5d-01ef5d490f6d\",\"type\":\"ColumnDataSource\"},\"glyph\":{\"id\":\"f5b79009-5edd-4d31-bafa-0f2bb916cefd\",\"type\":\"Rect\"},\"hover_glyph\":null,\"nonselection_glyph\":null,\"selection_glyph\":null},\"id\":\"aa334723-154e-4414-afce-a015c8e235b8\",\"type\":\"GlyphRenderer\"},{\"attributes\":{\"data_source\":{\"id\":\"82e20969-32f7-4938-8776-23135746a02e\",\"type\":\"ColumnDataSource\"},\"glyph\":{\"id\":\"8f009698-3c86-49bd-878d-50278fb15418\",\"type\":\"Rect\"},\"hover_glyph\":null,\"nonselection_glyph\":null,\"selection_glyph\":null},\"id\":\"ea2e6d84-d1c8-44c4-8c20-337812244a2c\",\"type\":\"GlyphRenderer\"},{\"attributes\":{\"fill_alpha\":{\"field\":\"fill_alpha\"},\"fill_color\":{\"field\":\"color\"},\"height\":{\"field\":\"height\",\"units\":\"data\"},\"line_color\":{\"field\":\"line_color\"},\"width\":{\"field\":\"width\",\"units\":\"data\"},\"x\":{\"field\":\"x\"},\"y\":{\"field\":\"y\"}},\"id\":\"341bd452-bf8c-4e27-aa58-2588cb6488da\",\"type\":\"Rect\"},{\"attributes\":{\"bottom_units\":\"screen\",\"fill_alpha\":{\"value\":0.5},\"fill_color\":{\"value\":\"lightgrey\"},\"left_units\":\"screen\",\"level\":\"overlay\",\"line_alpha\":{\"value\":1.0},\"line_color\":{\"value\":\"black\"},\"line_dash\":[4,4],\"line_width\":{\"value\":2},\"plot\":null,\"render_mode\":\"css\",\"right_units\":\"screen\",\"top_units\":\"screen\"},\"id\":\"d3b33f9c-23f1-4349-8535-2d2e24e59ac6\",\"type\":\"BoxAnnotation\"},{\"attributes\":{\"fill_alpha\":{\"field\":\"fill_alpha\"},\"fill_color\":{\"field\":\"color\"},\"height\":{\"field\":\"height\",\"units\":\"data\"},\"line_color\":{\"field\":\"line_color\"},\"width\":{\"field\":\"width\",\"units\":\"data\"},\"x\":{\"field\":\"x\"},\"y\":{\"field\":\"y\"}},\"id\":\"27deae9b-7791-47a6-906d-de09a7ea7019\",\"type\":\"Rect\"},{\"attributes\":{\"callback\":null,\"column_names\":[\"label\",\"line_alpha\",\"x\",\"width\",\"line_color\",\"y\",\"fill_alpha\",\"height\",\"color\"],\"data\":{\"chart_index\":[\"[3.0, 3.1]\"],\"color\":[\"#5ab738\"],\"fill_alpha\":[0.6],\"height\":[20.0],\"label\":[\"[3.0, 3.1]\"],\"line_alpha\":[1.0],\"line_color\":[\"black\"],\"width\":[0.11764705882352944],\"x\":[\"3.05\"],\"y\":[10.0]}},\"id\":\"4d2fbf60-7807-4ff9-96a6-b9c03c1adf8d\",\"type\":\"ColumnDataSource\"},{\"attributes\":{\"fill_alpha\":{\"field\":\"fill_alpha\"},\"fill_color\":{\"field\":\"color\"},\"height\":{\"field\":\"height\",\"units\":\"data\"},\"line_color\":{\"field\":\"line_color\"},\"width\":{\"field\":\"width\",\"units\":\"data\"},\"x\":{\"field\":\"x\"},\"y\":{\"field\":\"y\"}},\"id\":\"1cfe9a6c-17dd-4fdd-b6b2-b67ddcae3fa2\",\"type\":\"Rect\"},{\"attributes\":{\"fill_alpha\":{\"field\":\"fill_alpha\"},\"fill_color\":{\"field\":\"color\"},\"height\":{\"field\":\"height\",\"units\":\"data\"},\"line_color\":{\"field\":\"line_color\"},\"width\":{\"field\":\"width\",\"units\":\"data\"},\"x\":{\"field\":\"x\"},\"y\":{\"field\":\"y\"}},\"id\":\"86817267-118b-492f-941d-d4c6f61f7fb0\",\"type\":\"Rect\"},{\"attributes\":{\"data_source\":{\"id\":\"dd9485f5-0d22-4d0c-9678-2333291bfc01\",\"type\":\"ColumnDataSource\"},\"glyph\":{\"id\":\"22283e20-517f-4ed4-88a6-1616c7622a3e\",\"type\":\"Rect\"},\"hover_glyph\":null,\"nonselection_glyph\":null,\"selection_glyph\":null},\"id\":\"0630471d-1eab-4316-a271-74ee7e22e6be\",\"type\":\"GlyphRenderer\"},{\"attributes\":{\"callback\":null,\"column_names\":[\"label\",\"line_alpha\",\"x\",\"width\",\"line_color\",\"y\",\"fill_alpha\",\"height\",\"color\"],\"data\":{\"chart_index\":[\"(4.7, 4.8]\"],\"color\":[\"#f22c40\"],\"fill_alpha\":[0.6],\"height\":[0.0],\"label\":[\"(4.7, 4.8]\"],\"line_alpha\":[1.0],\"line_color\":[\"black\"],\"width\":[0.16666666666666696],\"x\":[\"4.75\"],\"y\":[0.0]}},\"id\":\"dd9485f5-0d22-4d0c-9678-2333291bfc01\",\"type\":\"ColumnDataSource\"},{\"attributes\":{\"fill_alpha\":{\"field\":\"fill_alpha\"},\"fill_color\":{\"field\":\"color\"},\"height\":{\"field\":\"height\",\"units\":\"data\"},\"line_color\":{\"field\":\"line_color\"},\"width\":{\"field\":\"width\",\"units\":\"data\"},\"x\":{\"field\":\"x\"},\"y\":{\"field\":\"y\"}},\"id\":\"230175a2-f014-4f27-973c-10f0f9230936\",\"type\":\"Rect\"},{\"attributes\":{\"callback\":null,\"column_names\":[\"label\",\"line_alpha\",\"x\",\"width\",\"line_color\",\"y\",\"fill_alpha\",\"height\",\"color\"],\"data\":{\"chart_index\":[\"(8.5, 8.6]\"],\"color\":[\"#5ab738\"],\"fill_alpha\":[0.6],\"height\":[0.0],\"label\":[\"(8.5, 8.6]\"],\"line_alpha\":[1.0],\"line_color\":[\"black\"],\"width\":[0.117647058823529],\"x\":[\"8.55\"],\"y\":[0.0]}},\"id\":\"3fbf78db-e880-462c-bc77-480f3227cc94\",\"type\":\"ColumnDataSource\"},{\"attributes\":{\"data_source\":{\"id\":\"16dcf766-f815-43ce-9f26-c07a9589bb06\",\"type\":\"ColumnDataSource\"},\"glyph\":{\"id\":\"0fc46592-e560-4e1c-a59a-901efd140d23\",\"type\":\"Rect\"},\"hover_glyph\":null,\"nonselection_glyph\":null,\"selection_glyph\":null},\"id\":\"d9cc371d-cc09-4392-b68e-4c15d652e1be\",\"type\":\"GlyphRenderer\"},{\"attributes\":{\"callback\":null,\"column_names\":[\"label\",\"line_alpha\",\"x\",\"width\",\"line_color\",\"y\",\"fill_alpha\",\"height\",\"color\"],\"data\":{\"chart_index\":[\"(8.3, 8.4]\"],\"color\":[\"#5ab738\"],\"fill_alpha\":[0.6],\"height\":[0.0],\"label\":[\"(8.3, 8.4]\"],\"line_alpha\":[1.0],\"line_color\":[\"black\"],\"width\":[0.11764705882353077],\"x\":[\"8.350000000000001\"],\"y\":[0.0]}},\"id\":\"fa34839f-69e5-44ce-9539-51a9f9c44994\",\"type\":\"ColumnDataSource\"},{\"attributes\":{\"fill_alpha\":{\"field\":\"fill_alpha\"},\"fill_color\":{\"field\":\"color\"},\"height\":{\"field\":\"height\",\"units\":\"data\"},\"line_color\":{\"field\":\"line_color\"},\"width\":{\"field\":\"width\",\"units\":\"data\"},\"x\":{\"field\":\"x\"},\"y\":{\"field\":\"y\"}},\"id\":\"303b4947-8188-4c99-8297-da4237a88332\",\"type\":\"Rect\"},{\"attributes\":{\"data_source\":{\"id\":\"490163eb-95f7-4b82-82ef-f59c6cab95a7\",\"type\":\"ColumnDataSource\"},\"glyph\":{\"id\":\"9250255e-b188-404d-a25f-dd2013b1dc06\",\"type\":\"Rect\"},\"hover_glyph\":null,\"nonselection_glyph\":null,\"selection_glyph\":null},\"id\":\"152fb1a7-d1fa-4f60-9612-549a5bc27264\",\"type\":\"GlyphRenderer\"},{\"attributes\":{\"callback\":null,\"column_names\":[\"label\",\"line_alpha\",\"x\",\"width\",\"line_color\",\"y\",\"fill_alpha\",\"height\",\"color\"],\"data\":{\"chart_index\":[\"(5.8, 5.9]\"],\"color\":[\"#5ab738\"],\"fill_alpha\":[0.6],\"height\":[0.0],\"label\":[\"(5.8, 5.9]\"],\"line_alpha\":[1.0],\"line_color\":[\"black\"],\"width\":[0.11764705882352988],\"x\":[\"5.85\"],\"y\":[0.0]}},\"id\":\"d46f1df3-ab4b-4047-98f3-23661636efbe\",\"type\":\"ColumnDataSource\"},{\"attributes\":{\"axis_label\":\"quality\",\"formatter\":{\"id\":\"919b6c2c-eea6-45f0-b08e-d6ba03331e43\",\"type\":\"BasicTickFormatter\"},\"minor_tick_line_color\":{\"value\":null},\"plot\":{\"id\":\"43f34e99-46a3-4936-9afd-f46c0e7f2eb7\",\"subtype\":\"Chart\",\"type\":\"Plot\"},\"ticker\":{\"id\":\"d4f77719-9589-4af0-ad28-bafe047353e3\",\"type\":\"BasicTicker\"}},\"id\":\"d73b9b68-cedd-4837-9321-a182fff2f6f1\",\"type\":\"LinearAxis\"},{\"attributes\":{\"fill_alpha\":{\"field\":\"fill_alpha\"},\"fill_color\":{\"field\":\"color\"},\"height\":{\"field\":\"height\",\"units\":\"data\"},\"line_color\":{\"field\":\"line_color\"},\"width\":{\"field\":\"width\",\"units\":\"data\"},\"x\":{\"field\":\"x\"},\"y\":{\"field\":\"y\"}},\"id\":\"0895b2ff-c72b-45ca-86ec-8c2069bddf68\",\"type\":\"Rect\"},{\"attributes\":{\"data_source\":{\"id\":\"da734b75-b981-429e-a745-58f75d7ce56d\",\"type\":\"ColumnDataSource\"},\"glyph\":{\"id\":\"6a101c2f-2459-4ef0-8e52-a21b265a351c\",\"type\":\"Rect\"},\"hover_glyph\":null,\"nonselection_glyph\":null,\"selection_glyph\":null},\"id\":\"150c5d25-e7ad-4efc-9163-336a97921835\",\"type\":\"GlyphRenderer\"},{\"attributes\":{\"fill_alpha\":{\"field\":\"fill_alpha\"},\"fill_color\":{\"field\":\"color\"},\"height\":{\"field\":\"height\",\"units\":\"data\"},\"line_color\":{\"field\":\"line_color\"},\"width\":{\"field\":\"width\",\"units\":\"data\"},\"x\":{\"field\":\"x\"},\"y\":{\"field\":\"y\"}},\"id\":\"079401ed-26eb-46af-863e-f2796b96babf\",\"type\":\"Rect\"},{\"attributes\":{\"data_source\":{\"id\":\"2c8976b7-4f56-4dcc-b418-7345869fb068\",\"type\":\"ColumnDataSource\"},\"glyph\":{\"id\":\"303b4947-8188-4c99-8297-da4237a88332\",\"type\":\"Rect\"},\"hover_glyph\":null,\"nonselection_glyph\":null,\"selection_glyph\":null},\"id\":\"7d7d3aa4-9058-4d87-b293-b6b70eb8bb16\",\"type\":\"GlyphRenderer\"},{\"attributes\":{\"fill_alpha\":{\"field\":\"fill_alpha\"},\"fill_color\":{\"field\":\"color\"},\"height\":{\"field\":\"height\",\"units\":\"data\"},\"line_color\":{\"field\":\"line_color\"},\"width\":{\"field\":\"width\",\"units\":\"data\"},\"x\":{\"field\":\"x\"},\"y\":{\"field\":\"y\"}},\"id\":\"9ac9baae-8d6e-44da-a8fe-6818e7e9c8c9\",\"type\":\"Rect\"},{\"attributes\":{\"data_source\":{\"id\":\"59783130-9165-4715-9644-131ebc207ff2\",\"type\":\"ColumnDataSource\"},\"glyph\":{\"id\":\"94a1251d-0177-4cf0-aead-d271ae748d9e\",\"type\":\"Rect\"},\"hover_glyph\":null,\"nonselection_glyph\":null,\"selection_glyph\":null},\"id\":\"ea0246db-0755-4a41-9487-5e3b274d37bd\",\"type\":\"GlyphRenderer\"},{\"attributes\":{\"fill_alpha\":{\"field\":\"fill_alpha\"},\"fill_color\":{\"field\":\"color\"},\"height\":{\"field\":\"height\",\"units\":\"data\"},\"line_color\":{\"field\":\"line_color\"},\"width\":{\"field\":\"width\",\"units\":\"data\"},\"x\":{\"field\":\"x\"},\"y\":{\"field\":\"y\"}},\"id\":\"7d0eab9a-a376-4e49-9265-e7a7b2c2480d\",\"type\":\"Rect\"}],\"root_ids\":[\"a2363431-c54b-46cd-8c49-8856081f3639\"]},\"title\":\"Bokeh Application\",\"version\":\"0.12.0\"}};\n",
       "            var render_items = [{\"docid\":\"ff92733c-3787-4131-b38c-a49144a426b7\",\"elementid\":\"671a8038-5bd6-4d27-83d7-decd91dc68b2\",\"modelid\":\"a2363431-c54b-46cd-8c49-8856081f3639\",\"notebook_comms_target\":\"08462c57-5e21-4ff7-927a-6ff76faae2ad\"}];\n",
       "            \n",
       "            Bokeh.embed.embed_items(docs_json, render_items);\n",
       "        });\n",
       "      },\n",
       "      function(Bokeh) {\n",
       "      }\n",
       "    ];\n",
       "  \n",
       "    function run_inline_js() {\n",
       "      for (var i = 0; i < inline_js.length; i++) {\n",
       "        inline_js[i](window.Bokeh);\n",
       "      }\n",
       "    }\n",
       "  \n",
       "    if (window._bokeh_is_loading === 0) {\n",
       "      console.log(\"Bokeh: BokehJS loaded, going straight to plotting\");\n",
       "      run_inline_js();\n",
       "    } else {\n",
       "      load_libs(js_urls, function() {\n",
       "        console.log(\"Bokeh: BokehJS plotting callback run at\", now());\n",
       "        run_inline_js();\n",
       "      });\n",
       "    }\n",
       "  }(this));\n",
       "</script>"
      ]
     },
     "metadata": {},
     "output_type": "display_data"
    },
    {
     "data": {
      "text/html": [
       "<p><code>&lt;Bokeh Notebook handle for <strong>In[15]</strong>&gt;</code></p>"
      ],
      "text/plain": [
       "<bokeh.io._CommsHandle at 0x113987be0>"
      ]
     },
     "execution_count": 15,
     "metadata": {},
     "output_type": "execute_result"
    }
   ],
   "source": [
    "\n",
    "p1 =Histogram(comp_data, values='quality', color='white?',tools='pan, reset, box_zoom')\n",
    "p1.xaxis.minor_tick_line_color=None\n",
    "\n",
    "p2 = Bar(comp_data, values='quality', label='white?', agg='count',tools='pan, reset, box_zoom', legend=None)\n",
    "\n",
    "p = gridplot([[p2,p1]], plot_width=400, plot_height=400)\n",
    "show(p)"
   ]
  },
  {
   "cell_type": "markdown",
   "metadata": {
    "collapsed": false
   },
   "source": [
    "# In depth with each parameter"
   ]
  },
  {
   "cell_type": "code",
   "execution_count": 16,
   "metadata": {
    "collapsed": false
   },
   "outputs": [],
   "source": [
    "import itertools"
   ]
  },
  {
   "cell_type": "code",
   "execution_count": 17,
   "metadata": {
    "collapsed": false
   },
   "outputs": [
    {
     "data": {
      "text/html": [
       "\n",
       "\n",
       "    <div class=\"bk-root\">\n",
       "        <div class=\"plotdiv\" id=\"04998587-955f-40ba-8d31-db44735156db\"></div>\n",
       "    </div>\n",
       "<script type=\"text/javascript\">\n",
       "  \n",
       "  (function(global) {\n",
       "    function now() {\n",
       "      return new Date();\n",
       "    }\n",
       "  \n",
       "    if (typeof (window._bokeh_onload_callbacks) === \"undefined\") {\n",
       "      window._bokeh_onload_callbacks = [];\n",
       "    }\n",
       "  \n",
       "    function run_callbacks() {\n",
       "      window._bokeh_onload_callbacks.forEach(function(callback) { callback() });\n",
       "      delete window._bokeh_onload_callbacks\n",
       "      console.info(\"Bokeh: all callbacks have finished\");\n",
       "    }\n",
       "  \n",
       "    function load_libs(js_urls, callback) {\n",
       "      window._bokeh_onload_callbacks.push(callback);\n",
       "      if (window._bokeh_is_loading > 0) {\n",
       "        console.log(\"Bokeh: BokehJS is being loaded, scheduling callback at\", now());\n",
       "        return null;\n",
       "      }\n",
       "      if (js_urls == null || js_urls.length === 0) {\n",
       "        run_callbacks();\n",
       "        return null;\n",
       "      }\n",
       "      console.log(\"Bokeh: BokehJS not loaded, scheduling load and callback at\", now());\n",
       "      window._bokeh_is_loading = js_urls.length;\n",
       "      for (var i = 0; i < js_urls.length; i++) {\n",
       "        var url = js_urls[i];\n",
       "        var s = document.createElement('script');\n",
       "        s.src = url;\n",
       "        s.async = false;\n",
       "        s.onreadystatechange = s.onload = function() {\n",
       "          window._bokeh_is_loading--;\n",
       "          if (window._bokeh_is_loading === 0) {\n",
       "            console.log(\"Bokeh: all BokehJS libraries loaded\");\n",
       "            run_callbacks()\n",
       "          }\n",
       "        };\n",
       "        s.onerror = function() {\n",
       "          console.warn(\"failed to load library \" + url);\n",
       "        };\n",
       "        console.log(\"Bokeh: injecting script tag for BokehJS library: \", url);\n",
       "        document.getElementsByTagName(\"head\")[0].appendChild(s);\n",
       "      }\n",
       "    };var element = document.getElementById(\"04998587-955f-40ba-8d31-db44735156db\");\n",
       "    if (element == null) {\n",
       "      console.log(\"Bokeh: ERROR: autoload.js configured with elementid '04998587-955f-40ba-8d31-db44735156db' but no matching script tag was found. \")\n",
       "      return false;\n",
       "    }\n",
       "  \n",
       "    var js_urls = [];\n",
       "  \n",
       "    var inline_js = [\n",
       "      function(Bokeh) {\n",
       "        Bokeh.$(function() {\n",
       "            var docs_json = {\"db11bf65-824d-4e95-bb9c-a65024416c22\":{\"roots\":{\"references\":[{\"attributes\":{\"axis_label\":\"quality\",\"formatter\":{\"id\":\"a853de1b-0aa6-4fc9-ae20-2febae8d7a97\",\"type\":\"BasicTickFormatter\"},\"plot\":{\"id\":\"ee3e7fcd-6dc9-47c1-a4aa-44f9b28b5b50\",\"subtype\":\"Figure\",\"type\":\"Plot\"},\"ticker\":{\"id\":\"37b86649-b61c-4fbf-a425-a5a3b65226e8\",\"type\":\"BasicTicker\"}},\"id\":\"6a22be73-a437-41f9-9fe9-6ade770ce31c\",\"type\":\"LinearAxis\"},{\"attributes\":{\"callback\":null,\"column_names\":[\"x\",\"y\"],\"data\":{\"x\":[3.0,4.0,5.0,6.0,7.0,8.0,9.0],\"y\":[0.17099999999999999,0.1741509433962264,0.24368575624082198,0.2738244514106587,0.37517587939698493,0.39111111111111113,\"NaN\"]}},\"id\":\"7d1e207a-c1dd-47f1-9c92-37f913c05332\",\"type\":\"ColumnDataSource\"},{\"attributes\":{\"line_alpha\":{\"value\":0.1},\"line_color\":{\"value\":\"#1f77b4\"},\"x\":{\"field\":\"x\"},\"y\":{\"field\":\"y\"}},\"id\":\"de6d8135-c6a7-426f-9d62-a0f3f18ea88c\",\"type\":\"Line\"},{\"attributes\":{\"line_color\":{\"value\":\"red\"},\"x\":{\"field\":\"x\"},\"y\":{\"field\":\"y\"}},\"id\":\"86adf7f9-b7f7-44df-822d-631a07f9fab7\",\"type\":\"Line\"},{\"attributes\":{},\"id\":\"37b86649-b61c-4fbf-a425-a5a3b65226e8\",\"type\":\"BasicTicker\"},{\"attributes\":{\"callback\":null},\"id\":\"9d9a37c8-bfb3-4881-a4c3-22ba4846e8e9\",\"type\":\"DataRange1d\"},{\"attributes\":{\"plot\":{\"id\":\"ee3e7fcd-6dc9-47c1-a4aa-44f9b28b5b50\",\"subtype\":\"Figure\",\"type\":\"Plot\"}},\"id\":\"23f3d9c5-b4a3-4edd-bb35-119b9642c2d9\",\"type\":\"ResetTool\"},{\"attributes\":{\"plot\":{\"id\":\"252929fe-aa6c-4dcf-8684-9c6516755066\",\"subtype\":\"Figure\",\"type\":\"Plot\"}},\"id\":\"bd763393-0144-4abd-bf5e-c8c17002492a\",\"type\":\"ResetTool\"},{\"attributes\":{\"callback\":null},\"id\":\"0852ca71-df84-4a0d-957d-112728ccc8d6\",\"type\":\"DataRange1d\"},{\"attributes\":{},\"id\":\"8014a9c8-011b-4ea6-a4b5-9cce00153ca0\",\"type\":\"BasicTicker\"},{\"attributes\":{},\"id\":\"b64b7f6c-7564-4765-bdef-41bfc112169d\",\"type\":\"BasicTickFormatter\"},{\"attributes\":{\"axis_label\":\"quality\",\"formatter\":{\"id\":\"12d665b8-ef32-4835-90a2-ded4e8cace71\",\"type\":\"BasicTickFormatter\"},\"plot\":{\"id\":\"04975997-3953-49de-b9f8-1db153ede482\",\"subtype\":\"Figure\",\"type\":\"Plot\"},\"ticker\":{\"id\":\"0cb1613d-1299-44ec-b638-68769df6a965\",\"type\":\"BasicTicker\"}},\"id\":\"10cd4d26-8eaa-41c0-ad97-fab4dfc58f17\",\"type\":\"LinearAxis\"},{\"attributes\":{\"line_alpha\":{\"value\":0.1},\"line_color\":{\"value\":\"#1f77b4\"},\"x\":{\"field\":\"x\"},\"y\":{\"field\":\"y\"}},\"id\":\"bef8cd9d-80ee-42f1-a642-50229d595633\",\"type\":\"Line\"},{\"attributes\":{\"axis_label\":\"fixed acidity\",\"formatter\":{\"id\":\"ad2fc4d2-4ef8-47c4-89f2-0abf8d785f33\",\"type\":\"BasicTickFormatter\"},\"plot\":{\"id\":\"007e0aaf-c917-4cf9-824d-4f8896d1cc13\",\"subtype\":\"Figure\",\"type\":\"Plot\"},\"ticker\":{\"id\":\"a6686f27-fa4b-4efb-af30-e511d14fbb8b\",\"type\":\"BasicTicker\"}},\"id\":\"1ff905c4-be56-4a83-9261-9ea8b28c228b\",\"type\":\"LinearAxis\"},{\"attributes\":{\"line_alpha\":{\"value\":0.1},\"line_color\":{\"value\":\"#1f77b4\"},\"x\":{\"field\":\"x\"},\"y\":{\"field\":\"y\"}},\"id\":\"b4716091-8365-4010-b0a2-17746c3b06ae\",\"type\":\"Line\"},{\"attributes\":{},\"id\":\"14771d95-e5ea-40c9-85c6-e6de26a1f4eb\",\"type\":\"BasicTicker\"},{\"attributes\":{\"callback\":null,\"column_names\":[\"x\",\"y\"],\"data\":{\"x\":[3.0,4.0,5.0,6.0,7.0,8.0,9.0],\"y\":[7.779245283018868,8.167254038179149,8.347178683385575,8.36,8.566666666666665,8.872361809045225,\"NaN\"]}},\"id\":\"19411bf3-7be3-4880-bc44-59ea8d0fa97b\",\"type\":\"ColumnDataSource\"},{\"attributes\":{\"plot\":null,\"text\":\"mean residual sugar vs. quality\"},\"id\":\"da9645f6-c090-4c19-b839-3ad5fda624e7\",\"type\":\"Title\"},{\"attributes\":{\"legends\":[[\"white\",[{\"id\":\"3ba4e687-05ea-4289-9628-cc32114886d2\",\"type\":\"GlyphRenderer\"}]],[\"red\",[{\"id\":\"97c4bcbb-d153-47cb-b2a5-f1f26537b2a6\",\"type\":\"GlyphRenderer\"}]]],\"location\":\"top_left\",\"plot\":{\"id\":\"e0ec29f9-9019-44ac-85aa-d67583dd2f3e\",\"subtype\":\"Figure\",\"type\":\"Plot\"}},\"id\":\"544cdec4-dab9-4d85-997f-88ebc7395e84\",\"type\":\"Legend\"},{\"attributes\":{\"callback\":null,\"column_names\":[\"x\",\"y\"],\"data\":{\"x\":[3.0,4.0,5.0,6.0,7.0,8.0,9.0],\"y\":[0.2605641492265695,0.26276704545454554,0.27739999999999976,0.298,0.30201098146877126,0.3332500000000001,0.381226993865031]}},\"id\":\"1b183d55-cc2e-463c-9cd9-92505ca96103\",\"type\":\"ColumnDataSource\"},{\"attributes\":{\"callback\":null},\"id\":\"379962e9-61a3-4207-8152-b7eb1632c625\",\"type\":\"DataRange1d\"},{\"attributes\":{\"callback\":null,\"plot\":{\"id\":\"b5f8ed2d-7d86-41d7-9ca7-3948099f25dc\",\"subtype\":\"Figure\",\"type\":\"Plot\"}},\"id\":\"f6a6bf20-5d50-4e70-b8b0-585a74ca85aa\",\"type\":\"HoverTool\"},{\"attributes\":{\"callback\":null},\"id\":\"c56b807b-bf1f-4fca-b46a-79c415dc4e8e\",\"type\":\"DataRange1d\"},{\"attributes\":{\"below\":[{\"id\":\"cef1689a-b5bc-4242-88bd-cee558426194\",\"type\":\"LinearAxis\"}],\"left\":[{\"id\":\"8ce9132b-4cfb-4b77-9c99-21e81b961535\",\"type\":\"LinearAxis\"}],\"plot_height\":300,\"plot_width\":300,\"renderers\":[{\"id\":\"cef1689a-b5bc-4242-88bd-cee558426194\",\"type\":\"LinearAxis\"},{\"id\":\"99d4251c-a994-4c87-b207-01dae3c7d1e8\",\"type\":\"Grid\"},{\"id\":\"8ce9132b-4cfb-4b77-9c99-21e81b961535\",\"type\":\"LinearAxis\"},{\"id\":\"4d717479-0258-406a-983f-aa3535192500\",\"type\":\"Grid\"},{\"id\":\"dee8f78b-32e4-4031-8f08-b08514b9efe9\",\"type\":\"Legend\"},{\"id\":\"122063da-6fd6-422d-85a8-5742a1712c48\",\"type\":\"GlyphRenderer\"},{\"id\":\"69f6a46c-f8c3-411e-87b9-9fea017dd1a5\",\"type\":\"GlyphRenderer\"}],\"title\":{\"id\":\"a3139887-6e94-4390-983c-6da5e60588ee\",\"type\":\"Title\"},\"tool_events\":{\"id\":\"64a230ad-f104-4732-a3a1-7ae53442a849\",\"type\":\"ToolEvents\"},\"toolbar\":{\"id\":\"55849b02-eee7-4dad-bce7-fa23be29ea64\",\"type\":\"Toolbar\"},\"toolbar_location\":null,\"x_range\":{\"id\":\"f849184f-3c59-4802-b301-923dd346fad6\",\"type\":\"DataRange1d\"},\"y_range\":{\"id\":\"38b0e635-0f42-463a-9e81-24cae8720eb7\",\"type\":\"DataRange1d\"}},\"id\":\"252929fe-aa6c-4dcf-8684-9c6516755066\",\"subtype\":\"Figure\",\"type\":\"Plot\"},{\"attributes\":{},\"id\":\"748c2e2f-4160-4cee-bcc6-4a3a70790c0c\",\"type\":\"BasicTickFormatter\"},{\"attributes\":{\"legends\":[[\"white\",[{\"id\":\"901cddbc-50bb-4bbf-8dc8-5ff0069241da\",\"type\":\"GlyphRenderer\"}]],[\"red\",[{\"id\":\"ac1499bb-c8d8-4e1f-b4ed-95be1b4d8433\",\"type\":\"GlyphRenderer\"}]]],\"location\":\"top_left\",\"plot\":{\"id\":\"b5f8ed2d-7d86-41d7-9ca7-3948099f25dc\",\"subtype\":\"Figure\",\"type\":\"Plot\"}},\"id\":\"1b7752d6-a14e-460f-b06c-10797008f8c0\",\"type\":\"Legend\"},{\"attributes\":{\"active_drag\":\"auto\",\"active_scroll\":\"auto\",\"active_tap\":\"auto\",\"tools\":[{\"id\":\"03334909-f6c1-43a2-8dd3-abfb3ecc983f\",\"type\":\"HoverTool\"},{\"id\":\"49a54d4c-f597-4c4a-a904-0a7bc69b05df\",\"type\":\"ResetTool\"},{\"id\":\"1d89a22f-753b-456f-acdb-8678a2d55f90\",\"type\":\"CrosshairTool\"}]},\"id\":\"827db59f-e27d-4ce3-b261-06f7455d9c42\",\"type\":\"Toolbar\"},{\"attributes\":{\"callback\":null},\"id\":\"6b453c2c-0ff4-4136-8899-47162ce01153\",\"type\":\"DataRange1d\"},{\"attributes\":{},\"id\":\"5aec8c99-4375-406c-bdd9-a415ebb35127\",\"type\":\"BasicTicker\"},{\"attributes\":{\"plot\":{\"id\":\"252929fe-aa6c-4dcf-8684-9c6516755066\",\"subtype\":\"Figure\",\"type\":\"Plot\"},\"ticker\":{\"id\":\"047f0689-760d-464c-aef9-97d3264dfaa0\",\"type\":\"BasicTicker\"}},\"id\":\"99d4251c-a994-4c87-b207-01dae3c7d1e8\",\"type\":\"Grid\"},{\"attributes\":{\"callback\":null,\"plot\":{\"id\":\"252929fe-aa6c-4dcf-8684-9c6516755066\",\"subtype\":\"Figure\",\"type\":\"Plot\"}},\"id\":\"81b6035b-984a-456c-96f8-e1921e4d67ad\",\"type\":\"HoverTool\"},{\"attributes\":{\"plot\":null,\"text\":\"mean fixed acidity vs. quality\"},\"id\":\"ebb30a45-f287-467e-b7c3-596831b7fa98\",\"type\":\"Title\"},{\"attributes\":{\"children\":[{\"id\":\"93f10089-bb52-46b3-929b-c1f70ded91a7\",\"type\":\"Row\"},{\"id\":\"9d389ef0-64c0-4314-af80-d81be58ef0fd\",\"type\":\"Row\"}]},\"id\":\"755ad5bb-7495-4e75-880a-d5c37975c260\",\"type\":\"Column\"},{\"attributes\":{\"plot\":{\"id\":\"007e0aaf-c917-4cf9-824d-4f8896d1cc13\",\"subtype\":\"Figure\",\"type\":\"Plot\"}},\"id\":\"6a3f49db-5986-4c76-ba89-288d7a479ea3\",\"type\":\"CrosshairTool\"},{\"attributes\":{\"callback\":null},\"id\":\"38b0e635-0f42-463a-9e81-24cae8720eb7\",\"type\":\"DataRange1d\"},{\"attributes\":{\"callback\":null,\"column_names\":[\"x\",\"y\"],\"data\":{\"x\":[3.0,4.0,5.0,6.0,7.0,8.0,9.0],\"y\":[6.6571428571428575,6.7347159090909114,6.837670609645139,6.933973919011666,7.129447852760731,7.42,7.599999999999999]}},\"id\":\"1d2c8e5d-8e63-4668-b3f8-604a95e61a26\",\"type\":\"ColumnDataSource\"},{\"attributes\":{\"callback\":null},\"id\":\"f012a49b-b602-46f6-b578-191002add0e6\",\"type\":\"DataRange1d\"},{\"attributes\":{\"data_source\":{\"id\":\"1b183d55-cc2e-463c-9cd9-92505ca96103\",\"type\":\"ColumnDataSource\"},\"glyph\":{\"id\":\"8d74fa5e-acc8-48c3-a4fc-13f3693c2f18\",\"type\":\"Line\"},\"hover_glyph\":null,\"nonselection_glyph\":{\"id\":\"8b052eef-abbc-486a-ac31-dc472b9c15fd\",\"type\":\"Line\"},\"selection_glyph\":null},\"id\":\"901cddbc-50bb-4bbf-8dc8-5ff0069241da\",\"type\":\"GlyphRenderer\"},{\"attributes\":{\"plot\":null,\"text\":\"mean chlorides vs. quality\"},\"id\":\"c38dccf9-e3ce-4e9f-8aff-780da024f8c5\",\"type\":\"Title\"},{\"attributes\":{\"legends\":[[\"white\",[{\"id\":\"f9ee461e-6f72-47e1-ae0b-dfa7ef5d6800\",\"type\":\"GlyphRenderer\"}]],[\"red\",[{\"id\":\"fff47f05-9b08-49a8-b20e-7d361f7ccd66\",\"type\":\"GlyphRenderer\"}]]],\"location\":\"top_left\",\"plot\":{\"id\":\"ee3e7fcd-6dc9-47c1-a4aa-44f9b28b5b50\",\"subtype\":\"Figure\",\"type\":\"Plot\"}},\"id\":\"9d1db3d3-f73a-43f9-858a-a274a9ec81d2\",\"type\":\"Legend\"},{\"attributes\":{\"data_source\":{\"id\":\"7d1e207a-c1dd-47f1-9c92-37f913c05332\",\"type\":\"ColumnDataSource\"},\"glyph\":{\"id\":\"90fab1fc-a0b5-4060-b366-6f4edb2976eb\",\"type\":\"Line\"},\"hover_glyph\":null,\"nonselection_glyph\":{\"id\":\"88b54481-4b8b-42a4-a056-eb25b18a2e50\",\"type\":\"Line\"},\"selection_glyph\":null},\"id\":\"76b7b018-b34f-4a5d-bea9-579f678ccf39\",\"type\":\"GlyphRenderer\"},{\"attributes\":{\"dimension\":1,\"plot\":{\"id\":\"04975997-3953-49de-b9f8-1db153ede482\",\"subtype\":\"Figure\",\"type\":\"Plot\"},\"ticker\":{\"id\":\"8adda801-9081-48f2-b255-7cf7fac538f2\",\"type\":\"BasicTicker\"}},\"id\":\"5ddf4be0-caa4-49d6-8b23-232555c09335\",\"type\":\"Grid\"},{\"attributes\":{\"axis_label\":\"quality\",\"formatter\":{\"id\":\"ba5a01d5-ce90-42db-b72a-67a35c2f66a4\",\"type\":\"BasicTickFormatter\"},\"plot\":{\"id\":\"b5f8ed2d-7d86-41d7-9ca7-3948099f25dc\",\"subtype\":\"Figure\",\"type\":\"Plot\"},\"ticker\":{\"id\":\"14771d95-e5ea-40c9-85c6-e6de26a1f4eb\",\"type\":\"BasicTicker\"}},\"id\":\"f88ec32f-4464-4260-ab07-1ce1bbb49642\",\"type\":\"LinearAxis\"},{\"attributes\":{\"plot\":{\"id\":\"b5f8ed2d-7d86-41d7-9ca7-3948099f25dc\",\"subtype\":\"Figure\",\"type\":\"Plot\"},\"ticker\":{\"id\":\"14771d95-e5ea-40c9-85c6-e6de26a1f4eb\",\"type\":\"BasicTicker\"}},\"id\":\"6322e2cc-0336-4308-8824-663b503ac74a\",\"type\":\"Grid\"},{\"attributes\":{\"callback\":null},\"id\":\"3208a644-5a19-4e1a-b95b-3eb7a0fabd2c\",\"type\":\"DataRange1d\"},{\"attributes\":{\"plot\":{\"id\":\"ee3e7fcd-6dc9-47c1-a4aa-44f9b28b5b50\",\"subtype\":\"Figure\",\"type\":\"Plot\"}},\"id\":\"62217784-b6a1-43d9-945c-e035a349a6ca\",\"type\":\"CrosshairTool\"},{\"attributes\":{},\"id\":\"12db290d-7e3d-4b53-bb3f-ef26d3d2cb07\",\"type\":\"BasicTicker\"},{\"attributes\":{\"callback\":null,\"column_names\":[\"x\",\"y\"],\"data\":{\"x\":[3.0,4.0,5.0,6.0,7.0,8.0,9.0],\"y\":[0.0274,0.0381909090909091,0.03831428571428572,0.04521747042766181,0.05009815950920243,0.0515463280713795,0.054300000000000015]}},\"id\":\"675efcf7-bef0-4825-a630-672a9a1db976\",\"type\":\"ColumnDataSource\"},{\"attributes\":{\"line_color\":{\"value\":\"green\"},\"x\":{\"field\":\"x\"},\"y\":{\"field\":\"y\"}},\"id\":\"3347e697-bdae-4e9a-8d85-7a46a7a2a70e\",\"type\":\"Line\"},{\"attributes\":{\"data_source\":{\"id\":\"1d27555e-8fd1-49dc-8854-eae9dcbfae26\",\"type\":\"ColumnDataSource\"},\"glyph\":{\"id\":\"3347e697-bdae-4e9a-8d85-7a46a7a2a70e\",\"type\":\"Line\"},\"hover_glyph\":null,\"nonselection_glyph\":{\"id\":\"4143fe04-a74f-4f0e-b8f9-ca9fda989858\",\"type\":\"Line\"},\"selection_glyph\":null},\"id\":\"f9ee461e-6f72-47e1-ae0b-dfa7ef5d6800\",\"type\":\"GlyphRenderer\"},{\"attributes\":{\"axis_label\":\"residual sugar\",\"formatter\":{\"id\":\"400b8ad8-ee14-4413-ae48-c37bb4f8d98d\",\"type\":\"BasicTickFormatter\"},\"plot\":{\"id\":\"ee3e7fcd-6dc9-47c1-a4aa-44f9b28b5b50\",\"subtype\":\"Figure\",\"type\":\"Plot\"},\"ticker\":{\"id\":\"12db290d-7e3d-4b53-bb3f-ef26d3d2cb07\",\"type\":\"BasicTicker\"}},\"id\":\"c2fdaf47-b473-4010-996e-b8ebcb1a6077\",\"type\":\"LinearAxis\"},{\"attributes\":{\"plot\":null,\"text\":\"mean free sulfur dioxide vs. quality\"},\"id\":\"a3139887-6e94-4390-983c-6da5e60588ee\",\"type\":\"Title\"},{\"attributes\":{\"data_source\":{\"id\":\"f50508df-21b7-4348-ae38-7979feae8499\",\"type\":\"ColumnDataSource\"},\"glyph\":{\"id\":\"4c7e26bc-fbe2-4f1f-875c-04d98c62ccab\",\"type\":\"Line\"},\"hover_glyph\":null,\"nonselection_glyph\":{\"id\":\"04d9bb0d-dcc6-47d8-9638-88407bb4db5b\",\"type\":\"Line\"},\"selection_glyph\":null},\"id\":\"122063da-6fd6-422d-85a8-5742a1712c48\",\"type\":\"GlyphRenderer\"},{\"attributes\":{\"active_drag\":\"auto\",\"active_scroll\":\"auto\",\"active_tap\":\"auto\",\"tools\":[{\"id\":\"5db150e6-9aa8-455f-abee-79a7322438b8\",\"type\":\"HoverTool\"},{\"id\":\"72757a5e-0493-4ac6-be1b-017446cfb559\",\"type\":\"ResetTool\"},{\"id\":\"6a3f49db-5986-4c76-ba89-288d7a479ea3\",\"type\":\"CrosshairTool\"}]},\"id\":\"6f68bc0e-836c-4d64-8711-53da2a17cd06\",\"type\":\"Toolbar\"},{\"attributes\":{},\"id\":\"12c3813e-af84-4cfe-ad94-333fd9517fe8\",\"type\":\"BasicTickFormatter\"},{\"attributes\":{\"data_source\":{\"id\":\"852ac2e2-e348-4da7-85fc-6e913ccd8366\",\"type\":\"ColumnDataSource\"},\"glyph\":{\"id\":\"df35159e-7b86-4c7f-96bd-edf452bd7f9d\",\"type\":\"Line\"},\"hover_glyph\":null,\"nonselection_glyph\":{\"id\":\"b4716091-8365-4010-b0a2-17746c3b06ae\",\"type\":\"Line\"},\"selection_glyph\":null},\"id\":\"9895360f-a725-4d14-ba71-6a0c6b9e9fd3\",\"type\":\"GlyphRenderer\"},{\"attributes\":{\"below\":[{\"id\":\"6a22be73-a437-41f9-9fe9-6ade770ce31c\",\"type\":\"LinearAxis\"}],\"left\":[{\"id\":\"c2fdaf47-b473-4010-996e-b8ebcb1a6077\",\"type\":\"LinearAxis\"}],\"plot_height\":300,\"plot_width\":300,\"renderers\":[{\"id\":\"6a22be73-a437-41f9-9fe9-6ade770ce31c\",\"type\":\"LinearAxis\"},{\"id\":\"30983503-98e7-41d3-aab1-d6d2752d4455\",\"type\":\"Grid\"},{\"id\":\"c2fdaf47-b473-4010-996e-b8ebcb1a6077\",\"type\":\"LinearAxis\"},{\"id\":\"35923e0c-97c5-4219-965b-5b372d99bf4f\",\"type\":\"Grid\"},{\"id\":\"9d1db3d3-f73a-43f9-858a-a274a9ec81d2\",\"type\":\"Legend\"},{\"id\":\"f9ee461e-6f72-47e1-ae0b-dfa7ef5d6800\",\"type\":\"GlyphRenderer\"},{\"id\":\"fff47f05-9b08-49a8-b20e-7d361f7ccd66\",\"type\":\"GlyphRenderer\"}],\"title\":{\"id\":\"da9645f6-c090-4c19-b839-3ad5fda624e7\",\"type\":\"Title\"},\"tool_events\":{\"id\":\"f656fb5b-08b3-4f7c-830a-52aa8657b816\",\"type\":\"ToolEvents\"},\"toolbar\":{\"id\":\"dd7d1a1e-814f-446b-bf43-d0b4e250f1be\",\"type\":\"Toolbar\"},\"toolbar_location\":null,\"x_range\":{\"id\":\"f3d1c5dd-3cfd-4f71-8a12-9ba1867e3c97\",\"type\":\"DataRange1d\"},\"y_range\":{\"id\":\"c56b807b-bf1f-4fca-b46a-79c415dc4e8e\",\"type\":\"DataRange1d\"}},\"id\":\"ee3e7fcd-6dc9-47c1-a4aa-44f9b28b5b50\",\"subtype\":\"Figure\",\"type\":\"Plot\"},{\"attributes\":{\"sizing_mode\":\"scale_width\",\"toolbar_location\":\"above\",\"tools\":[{\"id\":\"5db150e6-9aa8-455f-abee-79a7322438b8\",\"type\":\"HoverTool\"},{\"id\":\"72757a5e-0493-4ac6-be1b-017446cfb559\",\"type\":\"ResetTool\"},{\"id\":\"6a3f49db-5986-4c76-ba89-288d7a479ea3\",\"type\":\"CrosshairTool\"},{\"id\":\"f6a6bf20-5d50-4e70-b8b0-585a74ca85aa\",\"type\":\"HoverTool\"},{\"id\":\"fd41d66e-66dd-4e3c-9bab-1523b62fb079\",\"type\":\"ResetTool\"},{\"id\":\"56096ccf-6284-437e-b918-eeb0a2b17cd2\",\"type\":\"CrosshairTool\"},{\"id\":\"77374e81-9bba-4fff-b790-2b9988c7d80f\",\"type\":\"HoverTool\"},{\"id\":\"469c0c9f-1e4b-4ca7-91a6-112a29651939\",\"type\":\"ResetTool\"},{\"id\":\"3cbb9cad-bf3c-49d3-812e-ed4f6ac43b6b\",\"type\":\"CrosshairTool\"},{\"id\":\"5ee01ec7-a275-4735-a318-424b38d51515\",\"type\":\"HoverTool\"},{\"id\":\"23f3d9c5-b4a3-4edd-bb35-119b9642c2d9\",\"type\":\"ResetTool\"},{\"id\":\"62217784-b6a1-43d9-945c-e035a349a6ca\",\"type\":\"CrosshairTool\"},{\"id\":\"03334909-f6c1-43a2-8dd3-abfb3ecc983f\",\"type\":\"HoverTool\"},{\"id\":\"49a54d4c-f597-4c4a-a904-0a7bc69b05df\",\"type\":\"ResetTool\"},{\"id\":\"1d89a22f-753b-456f-acdb-8678a2d55f90\",\"type\":\"CrosshairTool\"},{\"id\":\"81b6035b-984a-456c-96f8-e1921e4d67ad\",\"type\":\"HoverTool\"},{\"id\":\"bd763393-0144-4abd-bf5e-c8c17002492a\",\"type\":\"ResetTool\"},{\"id\":\"224e3a4c-83ad-4525-b127-d07899858b65\",\"type\":\"CrosshairTool\"}]},\"id\":\"b7f3d65b-5c49-45c7-aa76-4bbee31c656c\",\"type\":\"ToolbarBox\"},{\"attributes\":{\"below\":[{\"id\":\"f88ec32f-4464-4260-ab07-1ce1bbb49642\",\"type\":\"LinearAxis\"}],\"left\":[{\"id\":\"75ead46e-eece-434a-bff0-bbb3b3087f7d\",\"type\":\"LinearAxis\"}],\"plot_height\":300,\"plot_width\":300,\"renderers\":[{\"id\":\"f88ec32f-4464-4260-ab07-1ce1bbb49642\",\"type\":\"LinearAxis\"},{\"id\":\"6322e2cc-0336-4308-8824-663b503ac74a\",\"type\":\"Grid\"},{\"id\":\"75ead46e-eece-434a-bff0-bbb3b3087f7d\",\"type\":\"LinearAxis\"},{\"id\":\"6e8cbc41-5f03-4506-861d-c4b39e41c497\",\"type\":\"Grid\"},{\"id\":\"1b7752d6-a14e-460f-b06c-10797008f8c0\",\"type\":\"Legend\"},{\"id\":\"901cddbc-50bb-4bbf-8dc8-5ff0069241da\",\"type\":\"GlyphRenderer\"},{\"id\":\"ac1499bb-c8d8-4e1f-b4ed-95be1b4d8433\",\"type\":\"GlyphRenderer\"}],\"title\":{\"id\":\"d96a6d50-fbf2-48eb-b14b-b74d13284cd5\",\"type\":\"Title\"},\"tool_events\":{\"id\":\"e7a3d1be-833f-444f-aee9-f5595413bcef\",\"type\":\"ToolEvents\"},\"toolbar\":{\"id\":\"4bb57309-74cc-4c14-96fe-edbc0a77c2c1\",\"type\":\"Toolbar\"},\"toolbar_location\":null,\"x_range\":{\"id\":\"379962e9-61a3-4207-8152-b7eb1632c625\",\"type\":\"DataRange1d\"},\"y_range\":{\"id\":\"6b453c2c-0ff4-4136-8899-47162ce01153\",\"type\":\"DataRange1d\"}},\"id\":\"b5f8ed2d-7d86-41d7-9ca7-3948099f25dc\",\"subtype\":\"Figure\",\"type\":\"Plot\"},{\"attributes\":{\"plot\":null,\"text\":\"mean citric acid vs. quality\"},\"id\":\"82a4896b-1b6c-4c72-a739-b89656f36943\",\"type\":\"Title\"},{\"attributes\":{\"children\":[{\"id\":\"b7f3d65b-5c49-45c7-aa76-4bbee31c656c\",\"type\":\"ToolbarBox\"},{\"id\":\"755ad5bb-7495-4e75-880a-d5c37975c260\",\"type\":\"Column\"}]},\"id\":\"c07f4cd8-6ee7-43dc-91ba-66726d691091\",\"type\":\"Column\"},{\"attributes\":{\"line_alpha\":{\"value\":0.1},\"line_color\":{\"value\":\"#1f77b4\"},\"x\":{\"field\":\"x\"},\"y\":{\"field\":\"y\"}},\"id\":\"ff07d83b-1dde-4002-b848-d8df3ba4d9e1\",\"type\":\"Line\"},{\"attributes\":{\"line_alpha\":{\"value\":0.1},\"line_color\":{\"value\":\"#1f77b4\"},\"x\":{\"field\":\"x\"},\"y\":{\"field\":\"y\"}},\"id\":\"8b052eef-abbc-486a-ac31-dc472b9c15fd\",\"type\":\"Line\"},{\"attributes\":{},\"id\":\"e7a3d1be-833f-444f-aee9-f5595413bcef\",\"type\":\"ToolEvents\"},{\"attributes\":{\"active_drag\":\"auto\",\"active_scroll\":\"auto\",\"active_tap\":\"auto\",\"tools\":[{\"id\":\"77374e81-9bba-4fff-b790-2b9988c7d80f\",\"type\":\"HoverTool\"},{\"id\":\"469c0c9f-1e4b-4ca7-91a6-112a29651939\",\"type\":\"ResetTool\"},{\"id\":\"3cbb9cad-bf3c-49d3-812e-ed4f6ac43b6b\",\"type\":\"CrosshairTool\"}]},\"id\":\"9bc91563-a069-4f2e-bcce-859b1c8666d9\",\"type\":\"Toolbar\"},{\"attributes\":{\"plot\":{\"id\":\"04975997-3953-49de-b9f8-1db153ede482\",\"subtype\":\"Figure\",\"type\":\"Plot\"},\"ticker\":{\"id\":\"0cb1613d-1299-44ec-b638-68769df6a965\",\"type\":\"BasicTicker\"}},\"id\":\"66bb4aea-ac8e-4395-901b-c54747e95daf\",\"type\":\"Grid\"},{\"attributes\":{\"dimension\":1,\"plot\":{\"id\":\"007e0aaf-c917-4cf9-824d-4f8896d1cc13\",\"subtype\":\"Figure\",\"type\":\"Plot\"},\"ticker\":{\"id\":\"a6686f27-fa4b-4efb-af30-e511d14fbb8b\",\"type\":\"BasicTicker\"}},\"id\":\"689596e7-cb8a-4c19-b9c4-6a08e649f570\",\"type\":\"Grid\"},{\"attributes\":{\"axis_label\":\"citric acid\",\"formatter\":{\"id\":\"dad631bf-7651-4aa3-ae10-aa215276d558\",\"type\":\"BasicTickFormatter\"},\"plot\":{\"id\":\"04975997-3953-49de-b9f8-1db153ede482\",\"subtype\":\"Figure\",\"type\":\"Plot\"},\"ticker\":{\"id\":\"8adda801-9081-48f2-b255-7cf7fac538f2\",\"type\":\"BasicTicker\"}},\"id\":\"52eab53a-64e1-4ad4-98f3-67501bb7e8e7\",\"type\":\"LinearAxis\"},{\"attributes\":{\"plot\":{\"id\":\"ee3e7fcd-6dc9-47c1-a4aa-44f9b28b5b50\",\"subtype\":\"Figure\",\"type\":\"Plot\"},\"ticker\":{\"id\":\"37b86649-b61c-4fbf-a425-a5a3b65226e8\",\"type\":\"BasicTicker\"}},\"id\":\"30983503-98e7-41d3-aab1-d6d2752d4455\",\"type\":\"Grid\"},{\"attributes\":{\"callback\":null,\"column_names\":[\"x\",\"y\"],\"data\":{\"x\":[3.0,4.0,5.0,6.0,7.0,8.0,9.0],\"y\":[2.477194357366772,2.528854625550658,2.5777777777777775,2.6350000000000002,2.69433962264151,2.7206030150753793,\"NaN\"]}},\"id\":\"e3ac0caa-7541-4d16-a31a-324a2c73473a\",\"type\":\"ColumnDataSource\"},{\"attributes\":{\"below\":[{\"id\":\"f7aeb435-ed07-40d5-997b-bb7cc8a09b15\",\"type\":\"LinearAxis\"}],\"left\":[{\"id\":\"28853b1f-2c13-4f6f-9d63-a75d1a73a6e8\",\"type\":\"LinearAxis\"}],\"plot_height\":300,\"plot_width\":300,\"renderers\":[{\"id\":\"f7aeb435-ed07-40d5-997b-bb7cc8a09b15\",\"type\":\"LinearAxis\"},{\"id\":\"66f9c2d7-229f-41e9-86c8-30c1bbdc9ecb\",\"type\":\"Grid\"},{\"id\":\"28853b1f-2c13-4f6f-9d63-a75d1a73a6e8\",\"type\":\"LinearAxis\"},{\"id\":\"57c74bd6-9c97-4e76-8d36-d158ef345c40\",\"type\":\"Grid\"},{\"id\":\"544cdec4-dab9-4d85-997f-88ebc7395e84\",\"type\":\"Legend\"},{\"id\":\"3ba4e687-05ea-4289-9628-cc32114886d2\",\"type\":\"GlyphRenderer\"},{\"id\":\"97c4bcbb-d153-47cb-b2a5-f1f26537b2a6\",\"type\":\"GlyphRenderer\"}],\"title\":{\"id\":\"c38dccf9-e3ce-4e9f-8aff-780da024f8c5\",\"type\":\"Title\"},\"tool_events\":{\"id\":\"744ee081-73e3-4032-86d5-5231c7119320\",\"type\":\"ToolEvents\"},\"toolbar\":{\"id\":\"827db59f-e27d-4ce3-b261-06f7455d9c42\",\"type\":\"Toolbar\"},\"toolbar_location\":null,\"x_range\":{\"id\":\"3208a644-5a19-4e1a-b95b-3eb7a0fabd2c\",\"type\":\"DataRange1d\"},\"y_range\":{\"id\":\"ca8c8a20-a29b-4f2b-baa4-72f62ca8202a\",\"type\":\"DataRange1d\"}},\"id\":\"e0ec29f9-9019-44ac-85aa-d67583dd2f3e\",\"subtype\":\"Figure\",\"type\":\"Plot\"},{\"attributes\":{},\"id\":\"1f630108-5ec3-4242-a351-0915e4163fb0\",\"type\":\"ToolEvents\"},{\"attributes\":{\"below\":[{\"id\":\"efc3edd5-1078-4454-acde-942f65adf6d6\",\"type\":\"LinearAxis\"}],\"left\":[{\"id\":\"1ff905c4-be56-4a83-9261-9ea8b28c228b\",\"type\":\"LinearAxis\"}],\"plot_height\":300,\"plot_width\":300,\"renderers\":[{\"id\":\"efc3edd5-1078-4454-acde-942f65adf6d6\",\"type\":\"LinearAxis\"},{\"id\":\"5e4372d6-e438-408e-bc9c-6b00ed1d1db0\",\"type\":\"Grid\"},{\"id\":\"1ff905c4-be56-4a83-9261-9ea8b28c228b\",\"type\":\"LinearAxis\"},{\"id\":\"689596e7-cb8a-4c19-b9c4-6a08e649f570\",\"type\":\"Grid\"},{\"id\":\"f11f1fe8-a111-4532-86f3-7e5a3f289cdc\",\"type\":\"Legend\"},{\"id\":\"5c8c2c87-acce-430f-b683-54bd6bf6a251\",\"type\":\"GlyphRenderer\"},{\"id\":\"ca9331e0-bdc3-4a90-ab90-46aace228805\",\"type\":\"GlyphRenderer\"}],\"title\":{\"id\":\"ebb30a45-f287-467e-b7c3-596831b7fa98\",\"type\":\"Title\"},\"tool_events\":{\"id\":\"1f630108-5ec3-4242-a351-0915e4163fb0\",\"type\":\"ToolEvents\"},\"toolbar\":{\"id\":\"6f68bc0e-836c-4d64-8711-53da2a17cd06\",\"type\":\"Toolbar\"},\"toolbar_location\":null,\"x_range\":{\"id\":\"be5e20c6-8785-4120-8a73-d82fc803f705\",\"type\":\"DataRange1d\"},\"y_range\":{\"id\":\"9d9a37c8-bfb3-4881-a4c3-22ba4846e8e9\",\"type\":\"DataRange1d\"}},\"id\":\"007e0aaf-c917-4cf9-824d-4f8896d1cc13\",\"subtype\":\"Figure\",\"type\":\"Plot\"},{\"attributes\":{\"line_color\":{\"value\":\"red\"},\"x\":{\"field\":\"x\"},\"y\":{\"field\":\"y\"}},\"id\":\"90fab1fc-a0b5-4060-b366-6f4edb2976eb\",\"type\":\"Line\"},{\"attributes\":{\"active_drag\":\"auto\",\"active_scroll\":\"auto\",\"active_tap\":\"auto\",\"tools\":[{\"id\":\"5ee01ec7-a275-4735-a318-424b38d51515\",\"type\":\"HoverTool\"},{\"id\":\"23f3d9c5-b4a3-4edd-bb35-119b9642c2d9\",\"type\":\"ResetTool\"},{\"id\":\"62217784-b6a1-43d9-945c-e035a349a6ca\",\"type\":\"CrosshairTool\"}]},\"id\":\"dd7d1a1e-814f-446b-bf43-d0b4e250f1be\",\"type\":\"Toolbar\"},{\"attributes\":{\"axis_label\":\"free sulfur dioxide\",\"formatter\":{\"id\":\"94b2d0e5-278e-421b-93e8-6d224617e3db\",\"type\":\"BasicTickFormatter\"},\"plot\":{\"id\":\"252929fe-aa6c-4dcf-8684-9c6516755066\",\"subtype\":\"Figure\",\"type\":\"Plot\"},\"ticker\":{\"id\":\"8014a9c8-011b-4ea6-a4b5-9cce00153ca0\",\"type\":\"BasicTicker\"}},\"id\":\"8ce9132b-4cfb-4b77-9c99-21e81b961535\",\"type\":\"LinearAxis\"},{\"attributes\":{\"dimension\":1,\"plot\":{\"id\":\"252929fe-aa6c-4dcf-8684-9c6516755066\",\"subtype\":\"Figure\",\"type\":\"Plot\"},\"ticker\":{\"id\":\"8014a9c8-011b-4ea6-a4b5-9cce00153ca0\",\"type\":\"BasicTicker\"}},\"id\":\"4d717479-0258-406a-983f-aa3535192500\",\"type\":\"Grid\"},{\"attributes\":{\"callback\":null,\"column_names\":[\"x\",\"y\"],\"data\":{\"x\":[3.0,4.0,5.0,6.0,7.0,8.0,9.0],\"y\":[4.119999999999999,4.628220858895707,5.186477272727271,5.671428571428572,6.392499999999999,6.4416060054595095,7.3349691146190725]}},\"id\":\"1d27555e-8fd1-49dc-8854-eae9dcbfae26\",\"type\":\"ColumnDataSource\"},{\"attributes\":{\"callback\":null,\"column_names\":[\"x\",\"y\"],\"data\":{\"x\":[3.0,4.0,5.0,6.0,7.0,8.0,9.0],\"y\":[0.3042331288343557,0.3256250000000004,0.3265142857142858,0.33599999999999997,0.33765271105010347,0.33802547770700614,0.386]}},\"id\":\"852ac2e2-e348-4da7-85fc-6e913ccd8366\",\"type\":\"ColumnDataSource\"},{\"attributes\":{},\"id\":\"ad2fc4d2-4ef8-47c4-89f2-0abf8d785f33\",\"type\":\"BasicTickFormatter\"},{\"attributes\":{\"callback\":null,\"column_names\":[\"x\",\"y\"],\"data\":{\"x\":[3.0,4.0,5.0,6.0,7.0,8.0,9.0],\"y\":[0.06844444444444445,0.07658793969849244,0.08495611285266458,0.09067924528301885,0.09273568281938328,0.12250000000000001,\"NaN\"]}},\"id\":\"bdf6a8e5-112f-46df-b65c-39df029ecf4c\",\"type\":\"ColumnDataSource\"},{\"attributes\":{\"line_alpha\":{\"value\":0.1},\"line_color\":{\"value\":\"#1f77b4\"},\"x\":{\"field\":\"x\"},\"y\":{\"field\":\"y\"}},\"id\":\"4143fe04-a74f-4f0e-b8f9-ca9fda989858\",\"type\":\"Line\"},{\"attributes\":{\"plot\":{\"id\":\"b5f8ed2d-7d86-41d7-9ca7-3948099f25dc\",\"subtype\":\"Figure\",\"type\":\"Plot\"}},\"id\":\"56096ccf-6284-437e-b918-eeb0a2b17cd2\",\"type\":\"CrosshairTool\"},{\"attributes\":{\"line_color\":{\"value\":\"green\"},\"x\":{\"field\":\"x\"},\"y\":{\"field\":\"y\"}},\"id\":\"f98dca2e-a8ac-431b-b7c6-4f876834b017\",\"type\":\"Line\"},{\"attributes\":{},\"id\":\"499c4cee-4132-4292-a022-dfb0b8221459\",\"type\":\"BasicTicker\"},{\"attributes\":{},\"id\":\"a853de1b-0aa6-4fc9-ae20-2febae8d7a97\",\"type\":\"BasicTickFormatter\"},{\"attributes\":{\"line_alpha\":{\"value\":0.1},\"line_color\":{\"value\":\"#1f77b4\"},\"x\":{\"field\":\"x\"},\"y\":{\"field\":\"y\"}},\"id\":\"88b54481-4b8b-42a4-a056-eb25b18a2e50\",\"type\":\"Line\"},{\"attributes\":{\"plot\":{\"id\":\"b5f8ed2d-7d86-41d7-9ca7-3948099f25dc\",\"subtype\":\"Figure\",\"type\":\"Plot\"}},\"id\":\"fd41d66e-66dd-4e3c-9bab-1523b62fb079\",\"type\":\"ResetTool\"},{\"attributes\":{\"callback\":null},\"id\":\"f849184f-3c59-4802-b301-923dd346fad6\",\"type\":\"DataRange1d\"},{\"attributes\":{\"children\":[{\"id\":\"ee3e7fcd-6dc9-47c1-a4aa-44f9b28b5b50\",\"subtype\":\"Figure\",\"type\":\"Plot\"},{\"id\":\"e0ec29f9-9019-44ac-85aa-d67583dd2f3e\",\"subtype\":\"Figure\",\"type\":\"Plot\"},{\"id\":\"252929fe-aa6c-4dcf-8684-9c6516755066\",\"subtype\":\"Figure\",\"type\":\"Plot\"}]},\"id\":\"9d389ef0-64c0-4314-af80-d81be58ef0fd\",\"type\":\"Row\"},{\"attributes\":{\"data_source\":{\"id\":\"19411bf3-7be3-4880-bc44-59ea8d0fa97b\",\"type\":\"ColumnDataSource\"},\"glyph\":{\"id\":\"86adf7f9-b7f7-44df-822d-631a07f9fab7\",\"type\":\"Line\"},\"hover_glyph\":null,\"nonselection_glyph\":{\"id\":\"ff07d83b-1dde-4002-b848-d8df3ba4d9e1\",\"type\":\"Line\"},\"selection_glyph\":null},\"id\":\"ca9331e0-bdc3-4a90-ab90-46aace228805\",\"type\":\"GlyphRenderer\"},{\"attributes\":{\"plot\":{\"id\":\"252929fe-aa6c-4dcf-8684-9c6516755066\",\"subtype\":\"Figure\",\"type\":\"Plot\"}},\"id\":\"224e3a4c-83ad-4525-b127-d07899858b65\",\"type\":\"CrosshairTool\"},{\"attributes\":{},\"id\":\"ba5a01d5-ce90-42db-b72a-67a35c2f66a4\",\"type\":\"BasicTickFormatter\"},{\"attributes\":{\"line_color\":{\"value\":\"red\"},\"x\":{\"field\":\"x\"},\"y\":{\"field\":\"y\"}},\"id\":\"1aadc761-de5a-4abe-b916-109662287edc\",\"type\":\"Line\"},{\"attributes\":{\"data_source\":{\"id\":\"e3ac0caa-7541-4d16-a31a-324a2c73473a\",\"type\":\"ColumnDataSource\"},\"glyph\":{\"id\":\"1aadc761-de5a-4abe-b916-109662287edc\",\"type\":\"Line\"},\"hover_glyph\":null,\"nonselection_glyph\":{\"id\":\"de6d8135-c6a7-426f-9d62-a0f3f18ea88c\",\"type\":\"Line\"},\"selection_glyph\":null},\"id\":\"fff47f05-9b08-49a8-b20e-7d361f7ccd66\",\"type\":\"GlyphRenderer\"},{\"attributes\":{\"axis_label\":\"quality\",\"formatter\":{\"id\":\"748c2e2f-4160-4cee-bcc6-4a3a70790c0c\",\"type\":\"BasicTickFormatter\"},\"plot\":{\"id\":\"252929fe-aa6c-4dcf-8684-9c6516755066\",\"subtype\":\"Figure\",\"type\":\"Plot\"},\"ticker\":{\"id\":\"047f0689-760d-464c-aef9-97d3264dfaa0\",\"type\":\"BasicTicker\"}},\"id\":\"cef1689a-b5bc-4242-88bd-cee558426194\",\"type\":\"LinearAxis\"},{\"attributes\":{},\"id\":\"64a230ad-f104-4732-a3a1-7ae53442a849\",\"type\":\"ToolEvents\"},{\"attributes\":{\"dimension\":1,\"plot\":{\"id\":\"b5f8ed2d-7d86-41d7-9ca7-3948099f25dc\",\"subtype\":\"Figure\",\"type\":\"Plot\"},\"ticker\":{\"id\":\"499c4cee-4132-4292-a022-dfb0b8221459\",\"type\":\"BasicTicker\"}},\"id\":\"6e8cbc41-5f03-4506-861d-c4b39e41c497\",\"type\":\"Grid\"},{\"attributes\":{\"plot\":{\"id\":\"04975997-3953-49de-b9f8-1db153ede482\",\"subtype\":\"Figure\",\"type\":\"Plot\"}},\"id\":\"3cbb9cad-bf3c-49d3-812e-ed4f6ac43b6b\",\"type\":\"CrosshairTool\"},{\"attributes\":{},\"id\":\"dad631bf-7651-4aa3-ae10-aa215276d558\",\"type\":\"BasicTickFormatter\"},{\"attributes\":{\"callback\":null,\"plot\":{\"id\":\"007e0aaf-c917-4cf9-824d-4f8896d1cc13\",\"subtype\":\"Figure\",\"type\":\"Plot\"}},\"id\":\"5db150e6-9aa8-455f-abee-79a7322438b8\",\"type\":\"HoverTool\"},{\"attributes\":{\"callback\":null},\"id\":\"ca8c8a20-a29b-4f2b-baa4-72f62ca8202a\",\"type\":\"DataRange1d\"},{\"attributes\":{\"line_color\":{\"value\":\"red\"},\"x\":{\"field\":\"x\"},\"y\":{\"field\":\"y\"}},\"id\":\"162c892b-58cf-4a89-9dcd-5da77226598b\",\"type\":\"Line\"},{\"attributes\":{\"callback\":null,\"column_names\":[\"x\",\"y\"],\"data\":{\"x\":[3.0,4.0,5.0,6.0,7.0,8.0,9.0],\"y\":[11.0,12.264150943396226,13.277777777777779,14.045226130653266,15.711598746081505,16.983847283406753,\"NaN\"]}},\"id\":\"4387cabc-0bfc-44f6-a629-5c049a9a0809\",\"type\":\"ColumnDataSource\"},{\"attributes\":{\"plot\":{\"id\":\"e0ec29f9-9019-44ac-85aa-d67583dd2f3e\",\"subtype\":\"Figure\",\"type\":\"Plot\"}},\"id\":\"1d89a22f-753b-456f-acdb-8678a2d55f90\",\"type\":\"CrosshairTool\"},{\"attributes\":{},\"id\":\"f656fb5b-08b3-4f7c-830a-52aa8657b816\",\"type\":\"ToolEvents\"},{\"attributes\":{\"line_color\":{\"value\":\"green\"},\"x\":{\"field\":\"x\"},\"y\":{\"field\":\"y\"}},\"id\":\"df35159e-7b86-4c7f-96bd-edf452bd7f9d\",\"type\":\"Line\"},{\"attributes\":{},\"id\":\"dd9d6a20-3042-423c-bbcf-c784f4aacb78\",\"type\":\"BasicTickFormatter\"},{\"attributes\":{\"legends\":[[\"white\",[{\"id\":\"5c8c2c87-acce-430f-b683-54bd6bf6a251\",\"type\":\"GlyphRenderer\"}]],[\"red\",[{\"id\":\"ca9331e0-bdc3-4a90-ab90-46aace228805\",\"type\":\"GlyphRenderer\"}]]],\"location\":\"top_left\",\"plot\":{\"id\":\"007e0aaf-c917-4cf9-824d-4f8896d1cc13\",\"subtype\":\"Figure\",\"type\":\"Plot\"}},\"id\":\"f11f1fe8-a111-4532-86f3-7e5a3f289cdc\",\"type\":\"Legend\"},{\"attributes\":{\"plot\":{\"id\":\"e0ec29f9-9019-44ac-85aa-d67583dd2f3e\",\"subtype\":\"Figure\",\"type\":\"Plot\"},\"ticker\":{\"id\":\"8075ad6e-aa1b-4c5c-bdfc-33306d9e2d6a\",\"type\":\"BasicTicker\"}},\"id\":\"66f9c2d7-229f-41e9-86c8-30c1bbdc9ecb\",\"type\":\"Grid\"},{\"attributes\":{\"axis_label\":\"quality\",\"formatter\":{\"id\":\"b64b7f6c-7564-4765-bdef-41bfc112169d\",\"type\":\"BasicTickFormatter\"},\"plot\":{\"id\":\"e0ec29f9-9019-44ac-85aa-d67583dd2f3e\",\"subtype\":\"Figure\",\"type\":\"Plot\"},\"ticker\":{\"id\":\"8075ad6e-aa1b-4c5c-bdfc-33306d9e2d6a\",\"type\":\"BasicTicker\"}},\"id\":\"f7aeb435-ed07-40d5-997b-bb7cc8a09b15\",\"type\":\"LinearAxis\"},{\"attributes\":{},\"id\":\"400b8ad8-ee14-4413-ae48-c37bb4f8d98d\",\"type\":\"BasicTickFormatter\"},{\"attributes\":{\"active_drag\":\"auto\",\"active_scroll\":\"auto\",\"active_tap\":\"auto\",\"tools\":[{\"id\":\"81b6035b-984a-456c-96f8-e1921e4d67ad\",\"type\":\"HoverTool\"},{\"id\":\"bd763393-0144-4abd-bf5e-c8c17002492a\",\"type\":\"ResetTool\"},{\"id\":\"224e3a4c-83ad-4525-b127-d07899858b65\",\"type\":\"CrosshairTool\"}]},\"id\":\"55849b02-eee7-4dad-bce7-fa23be29ea64\",\"type\":\"Toolbar\"},{\"attributes\":{\"active_drag\":\"auto\",\"active_scroll\":\"auto\",\"active_tap\":\"auto\",\"tools\":[{\"id\":\"f6a6bf20-5d50-4e70-b8b0-585a74ca85aa\",\"type\":\"HoverTool\"},{\"id\":\"fd41d66e-66dd-4e3c-9bab-1523b62fb079\",\"type\":\"ResetTool\"},{\"id\":\"56096ccf-6284-437e-b918-eeb0a2b17cd2\",\"type\":\"CrosshairTool\"}]},\"id\":\"4bb57309-74cc-4c14-96fe-edbc0a77c2c1\",\"type\":\"Toolbar\"},{\"attributes\":{\"axis_label\":\"quality\",\"formatter\":{\"id\":\"dd9d6a20-3042-423c-bbcf-c784f4aacb78\",\"type\":\"BasicTickFormatter\"},\"plot\":{\"id\":\"007e0aaf-c917-4cf9-824d-4f8896d1cc13\",\"subtype\":\"Figure\",\"type\":\"Plot\"},\"ticker\":{\"id\":\"5aec8c99-4375-406c-bdd9-a415ebb35127\",\"type\":\"BasicTicker\"}},\"id\":\"efc3edd5-1078-4454-acde-942f65adf6d6\",\"type\":\"LinearAxis\"},{\"attributes\":{\"legends\":[[\"white\",[{\"id\":\"9895360f-a725-4d14-ba71-6a0c6b9e9fd3\",\"type\":\"GlyphRenderer\"}]],[\"red\",[{\"id\":\"76b7b018-b34f-4a5d-bea9-579f678ccf39\",\"type\":\"GlyphRenderer\"}]]],\"location\":\"top_left\",\"plot\":{\"id\":\"04975997-3953-49de-b9f8-1db153ede482\",\"subtype\":\"Figure\",\"type\":\"Plot\"}},\"id\":\"be250b81-41a2-44c0-a928-1087f14b8c93\",\"type\":\"Legend\"},{\"attributes\":{},\"id\":\"a6686f27-fa4b-4efb-af30-e511d14fbb8b\",\"type\":\"BasicTicker\"},{\"attributes\":{\"plot\":{\"id\":\"04975997-3953-49de-b9f8-1db153ede482\",\"subtype\":\"Figure\",\"type\":\"Plot\"}},\"id\":\"469c0c9f-1e4b-4ca7-91a6-112a29651939\",\"type\":\"ResetTool\"},{\"attributes\":{\"line_color\":{\"value\":\"green\"},\"x\":{\"field\":\"x\"},\"y\":{\"field\":\"y\"}},\"id\":\"7eb28f87-c428-4e37-8bf3-5befd9d00515\",\"type\":\"Line\"},{\"attributes\":{\"children\":[{\"id\":\"007e0aaf-c917-4cf9-824d-4f8896d1cc13\",\"subtype\":\"Figure\",\"type\":\"Plot\"},{\"id\":\"b5f8ed2d-7d86-41d7-9ca7-3948099f25dc\",\"subtype\":\"Figure\",\"type\":\"Plot\"},{\"id\":\"04975997-3953-49de-b9f8-1db153ede482\",\"subtype\":\"Figure\",\"type\":\"Plot\"}]},\"id\":\"93f10089-bb52-46b3-929b-c1f70ded91a7\",\"type\":\"Row\"},{\"attributes\":{},\"id\":\"047f0689-760d-464c-aef9-97d3264dfaa0\",\"type\":\"BasicTicker\"},{\"attributes\":{},\"id\":\"94b2d0e5-278e-421b-93e8-6d224617e3db\",\"type\":\"BasicTickFormatter\"},{\"attributes\":{\"callback\":null,\"column_names\":[\"x\",\"y\"],\"data\":{\"x\":[3.0,4.0,5.0,6.0,7.0,8.0,9.0],\"y\":[0.4039195979899498,0.4233333333333334,0.49748432601880965,0.5770411160058732,0.6939622641509429,0.8845000000000001,\"NaN\"]}},\"id\":\"2d280987-7cb9-471f-a4d1-318cedcee87e\",\"type\":\"ColumnDataSource\"},{\"attributes\":{\"plot\":null,\"text\":\"mean volatile acidity vs. quality\"},\"id\":\"d96a6d50-fbf2-48eb-b14b-b74d13284cd5\",\"type\":\"Title\"},{\"attributes\":{\"line_color\":{\"value\":\"red\"},\"x\":{\"field\":\"x\"},\"y\":{\"field\":\"y\"}},\"id\":\"5cbce899-cad6-4e46-b5fa-832ea9a71f8a\",\"type\":\"Line\"},{\"attributes\":{\"dimension\":1,\"plot\":{\"id\":\"e0ec29f9-9019-44ac-85aa-d67583dd2f3e\",\"subtype\":\"Figure\",\"type\":\"Plot\"},\"ticker\":{\"id\":\"de5e343e-1bbf-47f5-9f48-4f8477b97de0\",\"type\":\"BasicTicker\"}},\"id\":\"57c74bd6-9c97-4e76-8d36-d158ef345c40\",\"type\":\"Grid\"},{\"attributes\":{\"below\":[{\"id\":\"10cd4d26-8eaa-41c0-ad97-fab4dfc58f17\",\"type\":\"LinearAxis\"}],\"left\":[{\"id\":\"52eab53a-64e1-4ad4-98f3-67501bb7e8e7\",\"type\":\"LinearAxis\"}],\"plot_height\":300,\"plot_width\":300,\"renderers\":[{\"id\":\"10cd4d26-8eaa-41c0-ad97-fab4dfc58f17\",\"type\":\"LinearAxis\"},{\"id\":\"66bb4aea-ac8e-4395-901b-c54747e95daf\",\"type\":\"Grid\"},{\"id\":\"52eab53a-64e1-4ad4-98f3-67501bb7e8e7\",\"type\":\"LinearAxis\"},{\"id\":\"5ddf4be0-caa4-49d6-8b23-232555c09335\",\"type\":\"Grid\"},{\"id\":\"be250b81-41a2-44c0-a928-1087f14b8c93\",\"type\":\"Legend\"},{\"id\":\"9895360f-a725-4d14-ba71-6a0c6b9e9fd3\",\"type\":\"GlyphRenderer\"},{\"id\":\"76b7b018-b34f-4a5d-bea9-579f678ccf39\",\"type\":\"GlyphRenderer\"}],\"title\":{\"id\":\"82a4896b-1b6c-4c72-a739-b89656f36943\",\"type\":\"Title\"},\"tool_events\":{\"id\":\"e013bd23-5c79-491c-9b5f-320b1e6f42b2\",\"type\":\"ToolEvents\"},\"toolbar\":{\"id\":\"9bc91563-a069-4f2e-bcce-859b1c8666d9\",\"type\":\"Toolbar\"},\"toolbar_location\":null,\"x_range\":{\"id\":\"0852ca71-df84-4a0d-957d-112728ccc8d6\",\"type\":\"DataRange1d\"},\"y_range\":{\"id\":\"f012a49b-b602-46f6-b578-191002add0e6\",\"type\":\"DataRange1d\"}},\"id\":\"04975997-3953-49de-b9f8-1db153ede482\",\"subtype\":\"Figure\",\"type\":\"Plot\"},{\"attributes\":{\"dimension\":1,\"plot\":{\"id\":\"ee3e7fcd-6dc9-47c1-a4aa-44f9b28b5b50\",\"subtype\":\"Figure\",\"type\":\"Plot\"},\"ticker\":{\"id\":\"12db290d-7e3d-4b53-bb3f-ef26d3d2cb07\",\"type\":\"BasicTicker\"}},\"id\":\"35923e0c-97c5-4219-965b-5b372d99bf4f\",\"type\":\"Grid\"},{\"attributes\":{\"data_source\":{\"id\":\"bdf6a8e5-112f-46df-b65c-39df029ecf4c\",\"type\":\"ColumnDataSource\"},\"glyph\":{\"id\":\"2330395b-f678-4f1e-a900-2a29f3f584cf\",\"type\":\"Line\"},\"hover_glyph\":null,\"nonselection_glyph\":{\"id\":\"40163306-5b8d-4f68-90a0-e8638647cd7a\",\"type\":\"Line\"},\"selection_glyph\":null},\"id\":\"97c4bcbb-d153-47cb-b2a5-f1f26537b2a6\",\"type\":\"GlyphRenderer\"},{\"attributes\":{\"line_color\":{\"value\":\"green\"},\"x\":{\"field\":\"x\"},\"y\":{\"field\":\"y\"}},\"id\":\"4c7e26bc-fbe2-4f1f-875c-04d98c62ccab\",\"type\":\"Line\"},{\"attributes\":{\"callback\":null,\"plot\":{\"id\":\"04975997-3953-49de-b9f8-1db153ede482\",\"subtype\":\"Figure\",\"type\":\"Plot\"}},\"id\":\"77374e81-9bba-4fff-b790-2b9988c7d80f\",\"type\":\"HoverTool\"},{\"attributes\":{\"axis_label\":\"volatile acidity\",\"formatter\":{\"id\":\"12c3813e-af84-4cfe-ad94-333fd9517fe8\",\"type\":\"BasicTickFormatter\"},\"plot\":{\"id\":\"b5f8ed2d-7d86-41d7-9ca7-3948099f25dc\",\"subtype\":\"Figure\",\"type\":\"Plot\"},\"ticker\":{\"id\":\"499c4cee-4132-4292-a022-dfb0b8221459\",\"type\":\"BasicTicker\"}},\"id\":\"75ead46e-eece-434a-bff0-bbb3b3087f7d\",\"type\":\"LinearAxis\"},{\"attributes\":{},\"id\":\"e013bd23-5c79-491c-9b5f-320b1e6f42b2\",\"type\":\"ToolEvents\"},{\"attributes\":{},\"id\":\"12d665b8-ef32-4835-90a2-ded4e8cace71\",\"type\":\"BasicTickFormatter\"},{\"attributes\":{\"plot\":{\"id\":\"007e0aaf-c917-4cf9-824d-4f8896d1cc13\",\"subtype\":\"Figure\",\"type\":\"Plot\"},\"ticker\":{\"id\":\"5aec8c99-4375-406c-bdd9-a415ebb35127\",\"type\":\"BasicTicker\"}},\"id\":\"5e4372d6-e438-408e-bc9c-6b00ed1d1db0\",\"type\":\"Grid\"},{\"attributes\":{},\"id\":\"8adda801-9081-48f2-b255-7cf7fac538f2\",\"type\":\"BasicTicker\"},{\"attributes\":{\"data_source\":{\"id\":\"1d2c8e5d-8e63-4668-b3f8-604a95e61a26\",\"type\":\"ColumnDataSource\"},\"glyph\":{\"id\":\"f98dca2e-a8ac-431b-b7c6-4f876834b017\",\"type\":\"Line\"},\"hover_glyph\":null,\"nonselection_glyph\":{\"id\":\"463894e2-fb6c-4298-ab98-2b4726ff2d92\",\"type\":\"Line\"},\"selection_glyph\":null},\"id\":\"5c8c2c87-acce-430f-b683-54bd6bf6a251\",\"type\":\"GlyphRenderer\"},{\"attributes\":{\"legends\":[[\"white\",[{\"id\":\"122063da-6fd6-422d-85a8-5742a1712c48\",\"type\":\"GlyphRenderer\"}]],[\"red\",[{\"id\":\"69f6a46c-f8c3-411e-87b9-9fea017dd1a5\",\"type\":\"GlyphRenderer\"}]]],\"location\":\"top_left\",\"plot\":{\"id\":\"252929fe-aa6c-4dcf-8684-9c6516755066\",\"subtype\":\"Figure\",\"type\":\"Plot\"}},\"id\":\"dee8f78b-32e4-4031-8f08-b08514b9efe9\",\"type\":\"Legend\"},{\"attributes\":{\"callback\":null,\"column_names\":[\"x\",\"y\"],\"data\":{\"x\":[3.0,4.0,5.0,6.0,7.0,8.0,9.0],\"y\":[23.358895705521473,33.4,34.12556818181818,35.65059144676979,36.432052161976664,36.72,53.325]}},\"id\":\"f50508df-21b7-4348-ae38-7979feae8499\",\"type\":\"ColumnDataSource\"},{\"attributes\":{\"line_alpha\":{\"value\":0.1},\"line_color\":{\"value\":\"#1f77b4\"},\"x\":{\"field\":\"x\"},\"y\":{\"field\":\"y\"}},\"id\":\"7b4d3595-b001-4e6a-8854-3017819d02ea\",\"type\":\"Line\"},{\"attributes\":{\"plot\":{\"id\":\"e0ec29f9-9019-44ac-85aa-d67583dd2f3e\",\"subtype\":\"Figure\",\"type\":\"Plot\"}},\"id\":\"49a54d4c-f597-4c4a-a904-0a7bc69b05df\",\"type\":\"ResetTool\"},{\"attributes\":{\"data_source\":{\"id\":\"675efcf7-bef0-4825-a630-672a9a1db976\",\"type\":\"ColumnDataSource\"},\"glyph\":{\"id\":\"7eb28f87-c428-4e37-8bf3-5befd9d00515\",\"type\":\"Line\"},\"hover_glyph\":null,\"nonselection_glyph\":{\"id\":\"f8b47b0c-4cbe-4513-b47f-e7ffa3e921bc\",\"type\":\"Line\"},\"selection_glyph\":null},\"id\":\"3ba4e687-05ea-4289-9628-cc32114886d2\",\"type\":\"GlyphRenderer\"},{\"attributes\":{\"line_alpha\":{\"value\":0.1},\"line_color\":{\"value\":\"#1f77b4\"},\"x\":{\"field\":\"x\"},\"y\":{\"field\":\"y\"}},\"id\":\"f8b47b0c-4cbe-4513-b47f-e7ffa3e921bc\",\"type\":\"Line\"},{\"attributes\":{},\"id\":\"0cb1613d-1299-44ec-b638-68769df6a965\",\"type\":\"BasicTicker\"},{\"attributes\":{},\"id\":\"31cd4439-96d1-4067-91a8-64b4ce56f2ae\",\"type\":\"BasicTickFormatter\"},{\"attributes\":{\"data_source\":{\"id\":\"4387cabc-0bfc-44f6-a629-5c049a9a0809\",\"type\":\"ColumnDataSource\"},\"glyph\":{\"id\":\"5cbce899-cad6-4e46-b5fa-832ea9a71f8a\",\"type\":\"Line\"},\"hover_glyph\":null,\"nonselection_glyph\":{\"id\":\"bef8cd9d-80ee-42f1-a642-50229d595633\",\"type\":\"Line\"},\"selection_glyph\":null},\"id\":\"69f6a46c-f8c3-411e-87b9-9fea017dd1a5\",\"type\":\"GlyphRenderer\"},{\"attributes\":{\"line_color\":{\"value\":\"green\"},\"x\":{\"field\":\"x\"},\"y\":{\"field\":\"y\"}},\"id\":\"8d74fa5e-acc8-48c3-a4fc-13f3693c2f18\",\"type\":\"Line\"},{\"attributes\":{\"axis_label\":\"chlorides\",\"formatter\":{\"id\":\"31cd4439-96d1-4067-91a8-64b4ce56f2ae\",\"type\":\"BasicTickFormatter\"},\"plot\":{\"id\":\"e0ec29f9-9019-44ac-85aa-d67583dd2f3e\",\"subtype\":\"Figure\",\"type\":\"Plot\"},\"ticker\":{\"id\":\"de5e343e-1bbf-47f5-9f48-4f8477b97de0\",\"type\":\"BasicTicker\"}},\"id\":\"28853b1f-2c13-4f6f-9d63-a75d1a73a6e8\",\"type\":\"LinearAxis\"},{\"attributes\":{\"plot\":{\"id\":\"007e0aaf-c917-4cf9-824d-4f8896d1cc13\",\"subtype\":\"Figure\",\"type\":\"Plot\"}},\"id\":\"72757a5e-0493-4ac6-be1b-017446cfb559\",\"type\":\"ResetTool\"},{\"attributes\":{\"line_alpha\":{\"value\":0.1},\"line_color\":{\"value\":\"#1f77b4\"},\"x\":{\"field\":\"x\"},\"y\":{\"field\":\"y\"}},\"id\":\"463894e2-fb6c-4298-ab98-2b4726ff2d92\",\"type\":\"Line\"},{\"attributes\":{\"callback\":null},\"id\":\"f3d1c5dd-3cfd-4f71-8a12-9ba1867e3c97\",\"type\":\"DataRange1d\"},{\"attributes\":{},\"id\":\"744ee081-73e3-4032-86d5-5231c7119320\",\"type\":\"ToolEvents\"},{\"attributes\":{},\"id\":\"8075ad6e-aa1b-4c5c-bdfc-33306d9e2d6a\",\"type\":\"BasicTicker\"},{\"attributes\":{\"callback\":null},\"id\":\"be5e20c6-8785-4120-8a73-d82fc803f705\",\"type\":\"DataRange1d\"},{\"attributes\":{\"line_color\":{\"value\":\"red\"},\"x\":{\"field\":\"x\"},\"y\":{\"field\":\"y\"}},\"id\":\"2330395b-f678-4f1e-a900-2a29f3f584cf\",\"type\":\"Line\"},{\"attributes\":{\"data_source\":{\"id\":\"2d280987-7cb9-471f-a4d1-318cedcee87e\",\"type\":\"ColumnDataSource\"},\"glyph\":{\"id\":\"162c892b-58cf-4a89-9dcd-5da77226598b\",\"type\":\"Line\"},\"hover_glyph\":null,\"nonselection_glyph\":{\"id\":\"7b4d3595-b001-4e6a-8854-3017819d02ea\",\"type\":\"Line\"},\"selection_glyph\":null},\"id\":\"ac1499bb-c8d8-4e1f-b4ed-95be1b4d8433\",\"type\":\"GlyphRenderer\"},{\"attributes\":{\"line_alpha\":{\"value\":0.1},\"line_color\":{\"value\":\"#1f77b4\"},\"x\":{\"field\":\"x\"},\"y\":{\"field\":\"y\"}},\"id\":\"04d9bb0d-dcc6-47d8-9638-88407bb4db5b\",\"type\":\"Line\"},{\"attributes\":{},\"id\":\"de5e343e-1bbf-47f5-9f48-4f8477b97de0\",\"type\":\"BasicTicker\"},{\"attributes\":{\"callback\":null,\"plot\":{\"id\":\"ee3e7fcd-6dc9-47c1-a4aa-44f9b28b5b50\",\"subtype\":\"Figure\",\"type\":\"Plot\"}},\"id\":\"5ee01ec7-a275-4735-a318-424b38d51515\",\"type\":\"HoverTool\"},{\"attributes\":{\"line_alpha\":{\"value\":0.1},\"line_color\":{\"value\":\"#1f77b4\"},\"x\":{\"field\":\"x\"},\"y\":{\"field\":\"y\"}},\"id\":\"40163306-5b8d-4f68-90a0-e8638647cd7a\",\"type\":\"Line\"},{\"attributes\":{\"callback\":null,\"plot\":{\"id\":\"e0ec29f9-9019-44ac-85aa-d67583dd2f3e\",\"subtype\":\"Figure\",\"type\":\"Plot\"}},\"id\":\"03334909-f6c1-43a2-8dd3-abfb3ecc983f\",\"type\":\"HoverTool\"}],\"root_ids\":[\"c07f4cd8-6ee7-43dc-91ba-66726d691091\"]},\"title\":\"Bokeh Application\",\"version\":\"0.12.0\"}};\n",
       "            var render_items = [{\"docid\":\"db11bf65-824d-4e95-bb9c-a65024416c22\",\"elementid\":\"04998587-955f-40ba-8d31-db44735156db\",\"modelid\":\"c07f4cd8-6ee7-43dc-91ba-66726d691091\",\"notebook_comms_target\":\"e4479a39-b680-40d8-8ddb-66925d4f4ef2\"}];\n",
       "            \n",
       "            Bokeh.embed.embed_items(docs_json, render_items);\n",
       "        });\n",
       "      },\n",
       "      function(Bokeh) {\n",
       "      }\n",
       "    ];\n",
       "  \n",
       "    function run_inline_js() {\n",
       "      for (var i = 0; i < inline_js.length; i++) {\n",
       "        inline_js[i](window.Bokeh);\n",
       "      }\n",
       "    }\n",
       "  \n",
       "    if (window._bokeh_is_loading === 0) {\n",
       "      console.log(\"Bokeh: BokehJS loaded, going straight to plotting\");\n",
       "      run_inline_js();\n",
       "    } else {\n",
       "      load_libs(js_urls, function() {\n",
       "        console.log(\"Bokeh: BokehJS plotting callback run at\", now());\n",
       "        run_inline_js();\n",
       "      });\n",
       "    }\n",
       "  }(this));\n",
       "</script>"
      ]
     },
     "metadata": {},
     "output_type": "display_data"
    },
    {
     "data": {
      "text/html": [
       "<p><code>&lt;Bokeh Notebook handle for <strong>In[17]</strong>&gt;</code></p>"
      ],
      "text/plain": [
       "<bokeh.io._CommsHandle at 0x113b51dd8>"
      ]
     },
     "execution_count": 17,
     "metadata": {},
     "output_type": "execute_result"
    }
   ],
   "source": [
    "red_y = np.array([])\n",
    "white_y = np.array([])\n",
    "red_x = np.array([])\n",
    "white_x = np.array([])\n",
    "\n",
    "plot_list = list()\n",
    "\n",
    "key_subset = comp_data.keys().drop(['quality', 'white?'])\n",
    "\n",
    "for key_sub in key_subset:\n",
    "    red_y = np.array([])\n",
    "    white_y = np.array([])\n",
    "    red_x = np.array([])\n",
    "    white_x = np.array([])\n",
    "    for i,j in itertools.product(comp_data['white?'].unique(), comp_data['quality'].unique()):\n",
    "        subset=comp_data[(comp_data['white?']==i)&(comp_data['quality']==j)]\n",
    "        #print(subset.head())\n",
    "        if i==1:\n",
    "            mean=subset[key_sub].mean()\n",
    "            white_y=np.append(white_y,mean)\n",
    "            white_x=np.append(white_x,j)\n",
    "        if i==0:\n",
    "            mean=subset[key_sub].mean()\n",
    "            red_y=np.append(red_y,mean)\n",
    "            red_x=np.append(red_x,j)\n",
    "\n",
    "    sorted_white= np.sort([white_x, white_y])\n",
    "\n",
    "    sorted_red = np.sort([red_x, red_y])\n",
    "\n",
    "    TOOLS = 'hover, reset, crosshair'\n",
    "    p = figure(plot_width=300, plot_height=300, tools=TOOLS)\n",
    "    \n",
    "    p.line(sorted_white[0], sorted_white[1], color = 'green', legend = 'white')\n",
    "    p.line(sorted_red[0], sorted_red[1], color='red', legend = 'red')\n",
    "    p.axis[0].axis_label='quality'\n",
    "    p.axis[1].axis_label= key_sub\n",
    "    p.title.text = 'mean %s vs. quality' %(key_sub)\n",
    "    p.legend.location = 'top_left'\n",
    "    \n",
    "    plot_list.append(p)\n",
    "\n",
    "p3=gridplot([plot_list[0:3], plot_list[3:6]])\n",
    "show(p3)"
   ]
  },
  {
   "cell_type": "code",
   "execution_count": 18,
   "metadata": {
    "collapsed": false
   },
   "outputs": [
    {
     "data": {
      "text/html": [
       "\n",
       "\n",
       "    <div class=\"bk-root\">\n",
       "        <div class=\"plotdiv\" id=\"27e6567a-b8b0-4aaa-921b-47a638aa3747\"></div>\n",
       "    </div>\n",
       "<script type=\"text/javascript\">\n",
       "  \n",
       "  (function(global) {\n",
       "    function now() {\n",
       "      return new Date();\n",
       "    }\n",
       "  \n",
       "    if (typeof (window._bokeh_onload_callbacks) === \"undefined\") {\n",
       "      window._bokeh_onload_callbacks = [];\n",
       "    }\n",
       "  \n",
       "    function run_callbacks() {\n",
       "      window._bokeh_onload_callbacks.forEach(function(callback) { callback() });\n",
       "      delete window._bokeh_onload_callbacks\n",
       "      console.info(\"Bokeh: all callbacks have finished\");\n",
       "    }\n",
       "  \n",
       "    function load_libs(js_urls, callback) {\n",
       "      window._bokeh_onload_callbacks.push(callback);\n",
       "      if (window._bokeh_is_loading > 0) {\n",
       "        console.log(\"Bokeh: BokehJS is being loaded, scheduling callback at\", now());\n",
       "        return null;\n",
       "      }\n",
       "      if (js_urls == null || js_urls.length === 0) {\n",
       "        run_callbacks();\n",
       "        return null;\n",
       "      }\n",
       "      console.log(\"Bokeh: BokehJS not loaded, scheduling load and callback at\", now());\n",
       "      window._bokeh_is_loading = js_urls.length;\n",
       "      for (var i = 0; i < js_urls.length; i++) {\n",
       "        var url = js_urls[i];\n",
       "        var s = document.createElement('script');\n",
       "        s.src = url;\n",
       "        s.async = false;\n",
       "        s.onreadystatechange = s.onload = function() {\n",
       "          window._bokeh_is_loading--;\n",
       "          if (window._bokeh_is_loading === 0) {\n",
       "            console.log(\"Bokeh: all BokehJS libraries loaded\");\n",
       "            run_callbacks()\n",
       "          }\n",
       "        };\n",
       "        s.onerror = function() {\n",
       "          console.warn(\"failed to load library \" + url);\n",
       "        };\n",
       "        console.log(\"Bokeh: injecting script tag for BokehJS library: \", url);\n",
       "        document.getElementsByTagName(\"head\")[0].appendChild(s);\n",
       "      }\n",
       "    };var element = document.getElementById(\"27e6567a-b8b0-4aaa-921b-47a638aa3747\");\n",
       "    if (element == null) {\n",
       "      console.log(\"Bokeh: ERROR: autoload.js configured with elementid '27e6567a-b8b0-4aaa-921b-47a638aa3747' but no matching script tag was found. \")\n",
       "      return false;\n",
       "    }\n",
       "  \n",
       "    var js_urls = [];\n",
       "  \n",
       "    var inline_js = [\n",
       "      function(Bokeh) {\n",
       "        Bokeh.$(function() {\n",
       "            var docs_json = {\"3cbb38e6-917a-4bf9-b879-138ad8e0c49b\":{\"roots\":{\"references\":[{\"attributes\":{\"plot\":{\"id\":\"66e0034e-f9a7-4fd6-bf9a-0596f7432c24\",\"subtype\":\"Figure\",\"type\":\"Plot\"}},\"id\":\"882ba099-fdc4-4d45-89bf-5302ca4df626\",\"type\":\"CrosshairTool\"},{\"attributes\":{\"plot\":{\"id\":\"66e0034e-f9a7-4fd6-bf9a-0596f7432c24\",\"subtype\":\"Figure\",\"type\":\"Plot\"}},\"id\":\"cb4475ac-d088-4272-944c-fff2addac87f\",\"type\":\"ResetTool\"},{\"attributes\":{\"active_drag\":\"auto\",\"active_scroll\":\"auto\",\"active_tap\":\"auto\",\"tools\":[{\"id\":\"e1bfb8a8-48bb-49eb-9b21-a4d4f85c2f5f\",\"type\":\"HoverTool\"},{\"id\":\"578b62cf-ce4a-4244-8999-e908a8bd7e27\",\"type\":\"ResetTool\"},{\"id\":\"8dded89d-f0bd-454d-b179-a6e19917a155\",\"type\":\"CrosshairTool\"}]},\"id\":\"567c5ecb-e756-4f78-b535-5b3ac8c06788\",\"type\":\"Toolbar\"},{\"attributes\":{\"callback\":null,\"column_names\":[\"x\",\"y\"],\"data\":{\"x\":[3.0,4.0,5.0,6.0,7.0,8.0,9.0],\"y\":[0.5700000000000001,0.5964150943396227,0.6209691629955947,0.6753291536050158,0.7412562814070353,0.7677777777777778,\"NaN\"]}},\"id\":\"11976da6-8b4c-42b1-938a-7efbf8eb246e\",\"type\":\"ColumnDataSource\"},{\"attributes\":{\"data_source\":{\"id\":\"11976da6-8b4c-42b1-938a-7efbf8eb246e\",\"type\":\"ColumnDataSource\"},\"glyph\":{\"id\":\"1d9c5ee2-4a98-4396-ab02-7d68cced027b\",\"type\":\"Line\"},\"hover_glyph\":null,\"nonselection_glyph\":{\"id\":\"07dc6a8f-3118-42d9-a0e3-127ca413aa6b\",\"type\":\"Line\"},\"selection_glyph\":null},\"id\":\"acb0046e-2974-4aff-8c11-c5f834f52ca2\",\"type\":\"GlyphRenderer\"},{\"attributes\":{},\"id\":\"e96a1120-9bcd-4c52-84d0-6efd205345cb\",\"type\":\"BasicTicker\"},{\"attributes\":{},\"id\":\"3f24efb2-6829-4d0e-8adc-7e345a8f2821\",\"type\":\"BasicTickFormatter\"},{\"attributes\":{},\"id\":\"5d42c69f-3cfe-4156-ab11-f45f06af437f\",\"type\":\"BasicTickFormatter\"},{\"attributes\":{\"active_drag\":\"auto\",\"active_scroll\":\"auto\",\"active_tap\":\"auto\",\"tools\":[{\"id\":\"5ff891d8-b624-464f-9748-c9723038900d\",\"type\":\"HoverTool\"},{\"id\":\"0ef2d025-df57-4cc8-9d5b-0b6fe6674476\",\"type\":\"ResetTool\"},{\"id\":\"d76b49ca-40d6-488d-8d01-ca8758b645bb\",\"type\":\"CrosshairTool\"}]},\"id\":\"9a353a1f-369a-43ad-ad59-1569f71d32fd\",\"type\":\"Toolbar\"},{\"attributes\":{\"line_alpha\":{\"value\":0.1},\"line_color\":{\"value\":\"#1f77b4\"},\"x\":{\"field\":\"x\"},\"y\":{\"field\":\"y\"}},\"id\":\"01d7d64d-88e0-4615-bb6c-75032e9e31a9\",\"type\":\"Line\"},{\"attributes\":{\"plot\":{\"id\":\"06eada41-7215-44ec-81b9-dccd291b05b2\",\"subtype\":\"Figure\",\"type\":\"Plot\"}},\"id\":\"0ef2d025-df57-4cc8-9d5b-0b6fe6674476\",\"type\":\"ResetTool\"},{\"attributes\":{},\"id\":\"504ac0a3-c88c-4338-a1b2-0d5ebc7ff9c0\",\"type\":\"BasicTickFormatter\"},{\"attributes\":{\"children\":[{\"id\":\"66e0034e-f9a7-4fd6-bf9a-0596f7432c24\",\"subtype\":\"Figure\",\"type\":\"Plot\"},{\"id\":\"293be3d1-653d-4b20-ae70-19b7c9151a92\",\"subtype\":\"Figure\",\"type\":\"Plot\"}]},\"id\":\"92fa0ebf-9cca-43d0-8895-39cdab3f7962\",\"type\":\"Row\"},{\"attributes\":{},\"id\":\"2dd99b92-5393-41e1-8199-94bcf937bdb2\",\"type\":\"BasicTicker\"},{\"attributes\":{\"line_alpha\":{\"value\":0.1},\"line_color\":{\"value\":\"#1f77b4\"},\"x\":{\"field\":\"x\"},\"y\":{\"field\":\"y\"}},\"id\":\"76aa45b5-86c9-4079-90bc-5eb01d68626d\",\"type\":\"Line\"},{\"attributes\":{\"data_source\":{\"id\":\"f334062d-7221-40ec-8d66-7636d92fade9\",\"type\":\"ColumnDataSource\"},\"glyph\":{\"id\":\"9a7312ce-9794-40eb-9099-bc53c7a8a9bf\",\"type\":\"Line\"},\"hover_glyph\":null,\"nonselection_glyph\":{\"id\":\"d4acefd1-d142-456f-8b12-6449d049fe49\",\"type\":\"Line\"},\"selection_glyph\":null},\"id\":\"d3631a5b-396b-4c81-9a71-2869fd5c6cd7\",\"type\":\"GlyphRenderer\"},{\"attributes\":{\"line_alpha\":{\"value\":0.1},\"line_color\":{\"value\":\"#1f77b4\"},\"x\":{\"field\":\"x\"},\"y\":{\"field\":\"y\"}},\"id\":\"07dc6a8f-3118-42d9-a0e3-127ca413aa6b\",\"type\":\"Line\"},{\"attributes\":{},\"id\":\"93ed3269-c8a0-4acc-9123-dd69b44f91fc\",\"type\":\"BasicTicker\"},{\"attributes\":{\"legends\":[[\"white\",[{\"id\":\"5832455a-cb18-4c86-aa2f-f48ccc38c5e7\",\"type\":\"GlyphRenderer\"}]],[\"red\",[{\"id\":\"866885aa-5305-43e7-8935-501e46675024\",\"type\":\"GlyphRenderer\"}]]],\"location\":\"top_left\",\"plot\":{\"id\":\"293be3d1-653d-4b20-ae70-19b7c9151a92\",\"subtype\":\"Figure\",\"type\":\"Plot\"}},\"id\":\"4ea6f6b2-e88f-43a2-bcdf-135a59a983e7\",\"type\":\"Legend\"},{\"attributes\":{\"line_alpha\":{\"value\":0.1},\"line_color\":{\"value\":\"#1f77b4\"},\"x\":{\"field\":\"x\"},\"y\":{\"field\":\"y\"}},\"id\":\"3a1e5ba2-fa07-45d5-bc7e-5af5f6b8c8f8\",\"type\":\"Line\"},{\"attributes\":{\"axis_label\":\"alcohol\",\"formatter\":{\"id\":\"96ae3485-9455-47db-8954-94fdef4312b1\",\"type\":\"BasicTickFormatter\"},\"plot\":{\"id\":\"293be3d1-653d-4b20-ae70-19b7c9151a92\",\"subtype\":\"Figure\",\"type\":\"Plot\"},\"ticker\":{\"id\":\"034db9cb-3ede-4eb3-a316-279a5e851ee0\",\"type\":\"BasicTicker\"}},\"id\":\"d1dbbb58-f3be-4d10-84a8-797ccf081747\",\"type\":\"LinearAxis\"},{\"attributes\":{\"callback\":null,\"column_names\":[\"x\",\"y\"],\"data\":{\"x\":[3.0,4.0,5.0,6.0,7.0,8.0,9.0],\"y\":[24.9,33.44444444444444,35.02010050251256,36.24528301886792,40.86990595611285,56.51395007342144,\"NaN\"]}},\"id\":\"377a3897-3cab-4fea-ba4b-26d9b6bb3bde\",\"type\":\"ColumnDataSource\"},{\"attributes\":{\"callback\":null},\"id\":\"b7f4322a-afa5-4953-b4bc-f2b16e60110b\",\"type\":\"DataRange1d\"},{\"attributes\":{\"plot\":null,\"text\":\"mean alcohol vs. quality\"},\"id\":\"05e824d6-e7b5-4a7d-95e2-524c83d4c349\",\"type\":\"Title\"},{\"attributes\":{\"callback\":null,\"column_names\":[\"x\",\"y\"],\"data\":{\"x\":[3.0,4.0,5.0,6.0,7.0,8.0,9.0],\"y\":[9.808840082361009,10.15245398773007,10.345,10.575371549893866,11.367935606060604,11.636000000000003,12.18]}},\"id\":\"561a9f89-78b1-4fb2-be3b-53f9e70b12a1\",\"type\":\"ColumnDataSource\"},{\"attributes\":{\"active_drag\":\"auto\",\"active_scroll\":\"auto\",\"active_tap\":\"auto\",\"tools\":[{\"id\":\"eb471ab9-124c-4e52-a43d-c02b8079827b\",\"type\":\"HoverTool\"},{\"id\":\"cb4475ac-d088-4272-944c-fff2addac87f\",\"type\":\"ResetTool\"},{\"id\":\"882ba099-fdc4-4d45-89bf-5302ca4df626\",\"type\":\"CrosshairTool\"}]},\"id\":\"53bf5c66-2d06-450a-8cc0-0ba4776db7d9\",\"type\":\"Toolbar\"},{\"attributes\":{},\"id\":\"25717197-ebf9-4db6-8c44-d7a7875bd629\",\"type\":\"BasicTickFormatter\"},{\"attributes\":{\"plot\":{\"id\":\"06eada41-7215-44ec-81b9-dccd291b05b2\",\"subtype\":\"Figure\",\"type\":\"Plot\"}},\"id\":\"d76b49ca-40d6-488d-8d01-ca8758b645bb\",\"type\":\"CrosshairTool\"},{\"attributes\":{\"callback\":null},\"id\":\"f8c330ed-9c9c-4926-9abc-e7fb256c7b91\",\"type\":\"DataRange1d\"},{\"attributes\":{\"data_source\":{\"id\":\"44be8a57-91ff-4076-8816-4d786d3e4d7a\",\"type\":\"ColumnDataSource\"},\"glyph\":{\"id\":\"acb4a651-d4a4-41ad-b9b0-c09f0ee38af1\",\"type\":\"Line\"},\"hover_glyph\":null,\"nonselection_glyph\":{\"id\":\"01d7d64d-88e0-4615-bb6c-75032e9e31a9\",\"type\":\"Line\"},\"selection_glyph\":null},\"id\":\"74118289-6544-4140-8d1d-7a02b5fed620\",\"type\":\"GlyphRenderer\"},{\"attributes\":{\"line_color\":{\"value\":\"green\"},\"x\":{\"field\":\"x\"},\"y\":{\"field\":\"y\"}},\"id\":\"4b71fdb6-1dee-4c52-9226-d1c3589243b4\",\"type\":\"Line\"},{\"attributes\":{\"axis_label\":\"quality\",\"formatter\":{\"id\":\"eda03f91-4355-4fb4-983c-7b44a0927a97\",\"type\":\"BasicTickFormatter\"},\"plot\":{\"id\":\"293be3d1-653d-4b20-ae70-19b7c9151a92\",\"subtype\":\"Figure\",\"type\":\"Plot\"},\"ticker\":{\"id\":\"fa191d0a-b834-471e-af85-b820158a793d\",\"type\":\"BasicTicker\"}},\"id\":\"37907baa-a6e2-450b-aa78-36149ae512e4\",\"type\":\"LinearAxis\"},{\"attributes\":{\"line_alpha\":{\"value\":0.1},\"line_color\":{\"value\":\"#1f77b4\"},\"x\":{\"field\":\"x\"},\"y\":{\"field\":\"y\"}},\"id\":\"50cdd8a3-cfa5-4229-8499-314bc00b0ef7\",\"type\":\"Line\"},{\"attributes\":{\"callback\":null},\"id\":\"9dbb47ed-ebdb-4faa-8e9a-f32bf0baa669\",\"type\":\"DataRange1d\"},{\"attributes\":{\"legends\":[[\"white\",[{\"id\":\"0a68fd16-3eab-4ba7-962a-67bb6e01cbbe\",\"type\":\"GlyphRenderer\"}]],[\"red\",[{\"id\":\"acb0046e-2974-4aff-8c11-c5f834f52ca2\",\"type\":\"GlyphRenderer\"}]]],\"location\":\"top_left\",\"plot\":{\"id\":\"66e0034e-f9a7-4fd6-bf9a-0596f7432c24\",\"subtype\":\"Figure\",\"type\":\"Plot\"}},\"id\":\"65d94d8d-eefc-469b-bfd9-51b369f3f490\",\"type\":\"Legend\"},{\"attributes\":{\"line_alpha\":{\"value\":0.1},\"line_color\":{\"value\":\"#1f77b4\"},\"x\":{\"field\":\"x\"},\"y\":{\"field\":\"y\"}},\"id\":\"1392fcf5-33c8-4def-9dbc-0f94ed7eb210\",\"type\":\"Line\"},{\"attributes\":{\"axis_label\":\"pH\",\"formatter\":{\"id\":\"25717197-ebf9-4db6-8c44-d7a7875bd629\",\"type\":\"BasicTickFormatter\"},\"plot\":{\"id\":\"06eada41-7215-44ec-81b9-dccd291b05b2\",\"subtype\":\"Figure\",\"type\":\"Plot\"},\"ticker\":{\"id\":\"eecb0273-8ca6-4f13-b3aa-cac89c0bbd0a\",\"type\":\"BasicTicker\"}},\"id\":\"293c1d40-80b0-442d-8590-3160116d9f48\",\"type\":\"LinearAxis\"},{\"attributes\":{},\"id\":\"034db9cb-3ede-4eb3-a316-279a5e851ee0\",\"type\":\"BasicTicker\"},{\"attributes\":{\"line_alpha\":{\"value\":0.1},\"line_color\":{\"value\":\"#1f77b4\"},\"x\":{\"field\":\"x\"},\"y\":{\"field\":\"y\"}},\"id\":\"d4acefd1-d142-456f-8b12-6449d049fe49\",\"type\":\"Line\"},{\"attributes\":{\"callback\":null},\"id\":\"214d6777-215a-42b6-8e2b-b887ed404a08\",\"type\":\"DataRange1d\"},{\"attributes\":{\"below\":[{\"id\":\"c42759f9-5baf-4376-9a4b-1562455d1d4d\",\"type\":\"LinearAxis\"}],\"left\":[{\"id\":\"293c1d40-80b0-442d-8590-3160116d9f48\",\"type\":\"LinearAxis\"}],\"plot_height\":300,\"plot_width\":300,\"renderers\":[{\"id\":\"c42759f9-5baf-4376-9a4b-1562455d1d4d\",\"type\":\"LinearAxis\"},{\"id\":\"d99b0ae5-1d0b-44c1-9ac7-fe7c520975f5\",\"type\":\"Grid\"},{\"id\":\"293c1d40-80b0-442d-8590-3160116d9f48\",\"type\":\"LinearAxis\"},{\"id\":\"a3d518dd-75e9-439f-b4dc-1611ac37892c\",\"type\":\"Grid\"},{\"id\":\"8fa10905-4789-4cb3-97dc-a571998b16dc\",\"type\":\"Legend\"},{\"id\":\"74118289-6544-4140-8d1d-7a02b5fed620\",\"type\":\"GlyphRenderer\"},{\"id\":\"d3631a5b-396b-4c81-9a71-2869fd5c6cd7\",\"type\":\"GlyphRenderer\"}],\"title\":{\"id\":\"d8250b4e-def0-4bec-832e-24c120c2672e\",\"type\":\"Title\"},\"tool_events\":{\"id\":\"c01c70b6-6c52-492a-9e1b-e54c3c2d9262\",\"type\":\"ToolEvents\"},\"toolbar\":{\"id\":\"9a353a1f-369a-43ad-ad59-1569f71d32fd\",\"type\":\"Toolbar\"},\"toolbar_location\":null,\"x_range\":{\"id\":\"b7f4322a-afa5-4953-b4bc-f2b16e60110b\",\"type\":\"DataRange1d\"},\"y_range\":{\"id\":\"32bf17ce-6c70-4282-858f-cec71365cf8e\",\"type\":\"DataRange1d\"}},\"id\":\"06eada41-7215-44ec-81b9-dccd291b05b2\",\"subtype\":\"Figure\",\"type\":\"Plot\"},{\"attributes\":{\"data_source\":{\"id\":\"561a9f89-78b1-4fb2-be3b-53f9e70b12a1\",\"type\":\"ColumnDataSource\"},\"glyph\":{\"id\":\"c6aef580-f73d-4a20-9764-3d84d8aad229\",\"type\":\"Line\"},\"hover_glyph\":null,\"nonselection_glyph\":{\"id\":\"76aa45b5-86c9-4079-90bc-5eb01d68626d\",\"type\":\"Line\"},\"selection_glyph\":null},\"id\":\"5832455a-cb18-4c86-aa2f-f48ccc38c5e7\",\"type\":\"GlyphRenderer\"},{\"attributes\":{\"data_source\":{\"id\":\"f6e750f1-bc68-402a-9f37-1d035ff34288\",\"type\":\"ColumnDataSource\"},\"glyph\":{\"id\":\"887a87f5-6071-481a-a6e4-d9d18d9bac71\",\"type\":\"Line\"},\"hover_glyph\":null,\"nonselection_glyph\":{\"id\":\"1392fcf5-33c8-4def-9dbc-0f94ed7eb210\",\"type\":\"Line\"},\"selection_glyph\":null},\"id\":\"0a68fd16-3eab-4ba7-962a-67bb6e01cbbe\",\"type\":\"GlyphRenderer\"},{\"attributes\":{\"children\":[{\"id\":\"f6726fb3-c25e-4dc7-bc2d-1812fd9af6b2\",\"subtype\":\"Figure\",\"type\":\"Plot\"},{\"id\":\"ecb7e681-c2a4-4eb8-a79a-9d6be66d908c\",\"subtype\":\"Figure\",\"type\":\"Plot\"},{\"id\":\"06eada41-7215-44ec-81b9-dccd291b05b2\",\"subtype\":\"Figure\",\"type\":\"Plot\"}]},\"id\":\"7ef62554-d988-4071-92b3-c79d7baba71c\",\"type\":\"Row\"},{\"attributes\":{\"line_color\":{\"value\":\"red\"},\"x\":{\"field\":\"x\"},\"y\":{\"field\":\"y\"}},\"id\":\"270eaa73-7fa9-423f-9863-e966c930e659\",\"type\":\"Line\"},{\"attributes\":{},\"id\":\"23a93aaf-da02-4a24-b2fe-459bffaa4d40\",\"type\":\"BasicTicker\"},{\"attributes\":{\"callback\":null,\"column_names\":[\"x\",\"y\"],\"data\":{\"x\":[3.0,4.0,5.0,6.0,7.0,8.0,9.0],\"y\":[9.899706314243753,9.955000000000002,10.265094339622639,10.629519331243463,11.465912897822443,12.094444444444443,\"NaN\"]}},\"id\":\"4e67f233-e0b2-4799-83b6-16889893f0f2\",\"type\":\"ColumnDataSource\"},{\"attributes\":{\"callback\":null},\"id\":\"27abfa65-abc4-4c4d-9430-ea5053ca59af\",\"type\":\"DataRange1d\"},{\"attributes\":{\"dimension\":1,\"plot\":{\"id\":\"f6726fb3-c25e-4dc7-bc2d-1812fd9af6b2\",\"subtype\":\"Figure\",\"type\":\"Plot\"},\"ticker\":{\"id\":\"063d131b-cd8e-467d-9c12-73902795d6a3\",\"type\":\"BasicTicker\"}},\"id\":\"6e318e7d-3910-40c6-8a24-10050dba46c1\",\"type\":\"Grid\"},{\"attributes\":{\"callback\":null,\"plot\":{\"id\":\"ecb7e681-c2a4-4eb8-a79a-9d6be66d908c\",\"subtype\":\"Figure\",\"type\":\"Plot\"}},\"id\":\"d350d8e7-4142-476a-a595-05be51f7f455\",\"type\":\"HoverTool\"},{\"attributes\":{\"data_source\":{\"id\":\"3421b41c-e402-441f-b395-e3589409a9cd\",\"type\":\"ColumnDataSource\"},\"glyph\":{\"id\":\"4b71fdb6-1dee-4c52-9226-d1c3589243b4\",\"type\":\"Line\"},\"hover_glyph\":null,\"nonselection_glyph\":{\"id\":\"50cdd8a3-cfa5-4229-8499-314bc00b0ef7\",\"type\":\"Line\"},\"selection_glyph\":null},\"id\":\"58ced8f8-272e-4e88-bedc-beabd9517981\",\"type\":\"GlyphRenderer\"},{\"attributes\":{},\"id\":\"eda03f91-4355-4fb4-983c-7b44a0927a97\",\"type\":\"BasicTickFormatter\"},{\"attributes\":{},\"id\":\"96ae3485-9455-47db-8954-94fdef4312b1\",\"type\":\"BasicTickFormatter\"},{\"attributes\":{},\"id\":\"2332edd3-dd59-4551-b8d3-a12b2f2c6b1b\",\"type\":\"ToolEvents\"},{\"attributes\":{\"active_drag\":\"auto\",\"active_scroll\":\"auto\",\"active_tap\":\"auto\",\"tools\":[{\"id\":\"d350d8e7-4142-476a-a595-05be51f7f455\",\"type\":\"HoverTool\"},{\"id\":\"daacca14-7ff1-4e9a-8f26-d2cb6e95c928\",\"type\":\"ResetTool\"},{\"id\":\"7d9f95b8-091b-4708-aee8-f140760ca327\",\"type\":\"CrosshairTool\"}]},\"id\":\"86510340-4986-4940-8f74-620547ec722d\",\"type\":\"Toolbar\"},{\"attributes\":{\"children\":[{\"id\":\"fffb02cd-d51a-40e5-88eb-c10a396d500b\",\"type\":\"ToolbarBox\"},{\"id\":\"5a62413e-40fc-4eef-9fb5-c92882b882ab\",\"type\":\"Column\"}]},\"id\":\"6c8f9211-186c-4cfc-88d1-9e92420131d7\",\"type\":\"Column\"},{\"attributes\":{\"plot\":{\"id\":\"ecb7e681-c2a4-4eb8-a79a-9d6be66d908c\",\"subtype\":\"Figure\",\"type\":\"Plot\"},\"ticker\":{\"id\":\"2dd99b92-5393-41e1-8199-94bcf937bdb2\",\"type\":\"BasicTicker\"}},\"id\":\"50046aca-fd0a-404e-aa3c-65d394ac2999\",\"type\":\"Grid\"},{\"attributes\":{},\"id\":\"063d131b-cd8e-467d-9c12-73902795d6a3\",\"type\":\"BasicTicker\"},{\"attributes\":{\"line_color\":{\"value\":\"red\"},\"x\":{\"field\":\"x\"},\"y\":{\"field\":\"y\"}},\"id\":\"1d9c5ee2-4a98-4396-ab02-7d68cced027b\",\"type\":\"Line\"},{\"attributes\":{\"callback\":null,\"column_names\":[\"x\",\"y\"],\"data\":{\"x\":[3.0,4.0,5.0,6.0,7.0,8.0,9.0],\"y\":[116.0,125.11477272727272,125.27914110429448,126.16571428571429,137.04731574158325,150.90459849004804,170.6]}},\"id\":\"3421b41c-e402-441f-b395-e3589409a9cd\",\"type\":\"ColumnDataSource\"},{\"attributes\":{},\"id\":\"fc898957-ed8b-4342-ba4c-a621ea1b03ce\",\"type\":\"BasicTicker\"},{\"attributes\":{\"below\":[{\"id\":\"6d892767-dc83-4154-bb3d-a19106e9a116\",\"type\":\"LinearAxis\"}],\"left\":[{\"id\":\"1e273d2a-d2a2-4559-a742-1292c750f74b\",\"type\":\"LinearAxis\"}],\"plot_height\":300,\"plot_width\":300,\"renderers\":[{\"id\":\"6d892767-dc83-4154-bb3d-a19106e9a116\",\"type\":\"LinearAxis\"},{\"id\":\"50046aca-fd0a-404e-aa3c-65d394ac2999\",\"type\":\"Grid\"},{\"id\":\"1e273d2a-d2a2-4559-a742-1292c750f74b\",\"type\":\"LinearAxis\"},{\"id\":\"6c9d30e8-35fa-4584-952c-97950abde62b\",\"type\":\"Grid\"},{\"id\":\"9816852c-e93b-45c6-8981-e26514327822\",\"type\":\"Legend\"},{\"id\":\"b6875e91-540a-4bb1-8e57-89a70e4bc8f6\",\"type\":\"GlyphRenderer\"},{\"id\":\"ef9ca61a-e786-4990-bab9-eff286a4250c\",\"type\":\"GlyphRenderer\"}],\"title\":{\"id\":\"c26cbdb7-2d53-49e6-875a-cda73966deee\",\"type\":\"Title\"},\"tool_events\":{\"id\":\"fb3ee04e-65d9-43a6-a2ba-de1a480f4b7f\",\"type\":\"ToolEvents\"},\"toolbar\":{\"id\":\"86510340-4986-4940-8f74-620547ec722d\",\"type\":\"Toolbar\"},\"toolbar_location\":null,\"x_range\":{\"id\":\"1035c3fe-763e-4871-a00b-135847e61a58\",\"type\":\"DataRange1d\"},\"y_range\":{\"id\":\"9dbb47ed-ebdb-4faa-8e9a-f32bf0baa669\",\"type\":\"DataRange1d\"}},\"id\":\"ecb7e681-c2a4-4eb8-a79a-9d6be66d908c\",\"subtype\":\"Figure\",\"type\":\"Plot\"},{\"attributes\":{\"callback\":null,\"plot\":{\"id\":\"66e0034e-f9a7-4fd6-bf9a-0596f7432c24\",\"subtype\":\"Figure\",\"type\":\"Plot\"}},\"id\":\"eb471ab9-124c-4e52-a43d-c02b8079827b\",\"type\":\"HoverTool\"},{\"attributes\":{\"active_drag\":\"auto\",\"active_scroll\":\"auto\",\"active_tap\":\"auto\",\"tools\":[{\"id\":\"79132ffb-1f65-4777-82c7-aa1b65180a99\",\"type\":\"HoverTool\"},{\"id\":\"3fc333a5-912f-4513-868b-f40169dcda7c\",\"type\":\"ResetTool\"},{\"id\":\"902f3d42-0ff6-4867-8e31-9f7ccbc79fcc\",\"type\":\"CrosshairTool\"}]},\"id\":\"6b8541a7-d061-4830-9b00-abe9d811435e\",\"type\":\"Toolbar\"},{\"attributes\":{},\"id\":\"c01c70b6-6c52-492a-9e1b-e54c3c2d9262\",\"type\":\"ToolEvents\"},{\"attributes\":{\"children\":[{\"id\":\"7ef62554-d988-4071-92b3-c79d7baba71c\",\"type\":\"Row\"},{\"id\":\"92fa0ebf-9cca-43d0-8895-39cdab3f7962\",\"type\":\"Row\"}]},\"id\":\"5a62413e-40fc-4eef-9fb5-c92882b882ab\",\"type\":\"Column\"},{\"attributes\":{\"dimension\":1,\"plot\":{\"id\":\"ecb7e681-c2a4-4eb8-a79a-9d6be66d908c\",\"subtype\":\"Figure\",\"type\":\"Plot\"},\"ticker\":{\"id\":\"fc898957-ed8b-4342-ba4c-a621ea1b03ce\",\"type\":\"BasicTicker\"}},\"id\":\"6c9d30e8-35fa-4584-952c-97950abde62b\",\"type\":\"Grid\"},{\"attributes\":{\"dimension\":1,\"plot\":{\"id\":\"06eada41-7215-44ec-81b9-dccd291b05b2\",\"subtype\":\"Figure\",\"type\":\"Plot\"},\"ticker\":{\"id\":\"eecb0273-8ca6-4f13-b3aa-cac89c0bbd0a\",\"type\":\"BasicTicker\"}},\"id\":\"a3d518dd-75e9-439f-b4dc-1611ac37892c\",\"type\":\"Grid\"},{\"attributes\":{\"axis_label\":\"quality\",\"formatter\":{\"id\":\"f47d1a4c-9953-4d33-adbc-a77a5319cd83\",\"type\":\"BasicTickFormatter\"},\"plot\":{\"id\":\"06eada41-7215-44ec-81b9-dccd291b05b2\",\"subtype\":\"Figure\",\"type\":\"Plot\"},\"ticker\":{\"id\":\"e96a1120-9bcd-4c52-84d0-6efd205345cb\",\"type\":\"BasicTicker\"}},\"id\":\"c42759f9-5baf-4376-9a4b-1562455d1d4d\",\"type\":\"LinearAxis\"},{\"attributes\":{\"axis_label\":\"quality\",\"formatter\":{\"id\":\"5d42c69f-3cfe-4156-ab11-f45f06af437f\",\"type\":\"BasicTickFormatter\"},\"plot\":{\"id\":\"66e0034e-f9a7-4fd6-bf9a-0596f7432c24\",\"subtype\":\"Figure\",\"type\":\"Plot\"},\"ticker\":{\"id\":\"93ed3269-c8a0-4acc-9123-dd69b44f91fc\",\"type\":\"BasicTicker\"}},\"id\":\"de43e51d-bffc-47e9-ad3a-36435c8c00ae\",\"type\":\"LinearAxis\"},{\"attributes\":{\"sizing_mode\":\"scale_width\",\"toolbar_location\":\"above\",\"tools\":[{\"id\":\"79132ffb-1f65-4777-82c7-aa1b65180a99\",\"type\":\"HoverTool\"},{\"id\":\"3fc333a5-912f-4513-868b-f40169dcda7c\",\"type\":\"ResetTool\"},{\"id\":\"902f3d42-0ff6-4867-8e31-9f7ccbc79fcc\",\"type\":\"CrosshairTool\"},{\"id\":\"d350d8e7-4142-476a-a595-05be51f7f455\",\"type\":\"HoverTool\"},{\"id\":\"daacca14-7ff1-4e9a-8f26-d2cb6e95c928\",\"type\":\"ResetTool\"},{\"id\":\"7d9f95b8-091b-4708-aee8-f140760ca327\",\"type\":\"CrosshairTool\"},{\"id\":\"5ff891d8-b624-464f-9748-c9723038900d\",\"type\":\"HoverTool\"},{\"id\":\"0ef2d025-df57-4cc8-9d5b-0b6fe6674476\",\"type\":\"ResetTool\"},{\"id\":\"d76b49ca-40d6-488d-8d01-ca8758b645bb\",\"type\":\"CrosshairTool\"},{\"id\":\"eb471ab9-124c-4e52-a43d-c02b8079827b\",\"type\":\"HoverTool\"},{\"id\":\"cb4475ac-d088-4272-944c-fff2addac87f\",\"type\":\"ResetTool\"},{\"id\":\"882ba099-fdc4-4d45-89bf-5302ca4df626\",\"type\":\"CrosshairTool\"},{\"id\":\"e1bfb8a8-48bb-49eb-9b21-a4d4f85c2f5f\",\"type\":\"HoverTool\"},{\"id\":\"578b62cf-ce4a-4244-8999-e908a8bd7e27\",\"type\":\"ResetTool\"},{\"id\":\"8dded89d-f0bd-454d-b179-a6e19917a155\",\"type\":\"CrosshairTool\"}]},\"id\":\"fffb02cd-d51a-40e5-88eb-c10a396d500b\",\"type\":\"ToolbarBox\"},{\"attributes\":{},\"id\":\"e1bef974-4fc1-417e-8655-59b7a87c371e\",\"type\":\"ToolEvents\"},{\"attributes\":{\"line_color\":{\"value\":\"green\"},\"x\":{\"field\":\"x\"},\"y\":{\"field\":\"y\"}},\"id\":\"c6aef580-f73d-4a20-9764-3d84d8aad229\",\"type\":\"Line\"},{\"attributes\":{\"plot\":{\"id\":\"66e0034e-f9a7-4fd6-bf9a-0596f7432c24\",\"subtype\":\"Figure\",\"type\":\"Plot\"},\"ticker\":{\"id\":\"93ed3269-c8a0-4acc-9123-dd69b44f91fc\",\"type\":\"BasicTicker\"}},\"id\":\"35f961a8-488f-4715-b79f-eea3ba72234b\",\"type\":\"Grid\"},{\"attributes\":{\"axis_label\":\"sulphates\",\"formatter\":{\"id\":\"1ba52992-2055-4dcb-97b5-163ba7ab7196\",\"type\":\"BasicTickFormatter\"},\"plot\":{\"id\":\"66e0034e-f9a7-4fd6-bf9a-0596f7432c24\",\"subtype\":\"Figure\",\"type\":\"Plot\"},\"ticker\":{\"id\":\"290e57a2-5adf-45e6-bc3b-ec0451d02539\",\"type\":\"BasicTicker\"}},\"id\":\"cf087345-6ede-4eec-8ea7-639ce141c43c\",\"type\":\"LinearAxis\"},{\"attributes\":{},\"id\":\"1b0e5ba1-3b01-40b7-b350-31bcaff0af6d\",\"type\":\"BasicTickFormatter\"},{\"attributes\":{},\"id\":\"fb3ee04e-65d9-43a6-a2ba-de1a480f4b7f\",\"type\":\"ToolEvents\"},{\"attributes\":{\"axis_label\":\"quality\",\"formatter\":{\"id\":\"1b0e5ba1-3b01-40b7-b350-31bcaff0af6d\",\"type\":\"BasicTickFormatter\"},\"plot\":{\"id\":\"ecb7e681-c2a4-4eb8-a79a-9d6be66d908c\",\"subtype\":\"Figure\",\"type\":\"Plot\"},\"ticker\":{\"id\":\"2dd99b92-5393-41e1-8199-94bcf937bdb2\",\"type\":\"BasicTicker\"}},\"id\":\"6d892767-dc83-4154-bb3d-a19106e9a116\",\"type\":\"LinearAxis\"},{\"attributes\":{\"line_color\":{\"value\":\"red\"},\"x\":{\"field\":\"x\"},\"y\":{\"field\":\"y\"}},\"id\":\"03c6ff05-3a13-4cd6-ab05-aaef917ebe8e\",\"type\":\"Line\"},{\"attributes\":{\"plot\":{\"id\":\"ecb7e681-c2a4-4eb8-a79a-9d6be66d908c\",\"subtype\":\"Figure\",\"type\":\"Plot\"}},\"id\":\"7d9f95b8-091b-4708-aee8-f140760ca327\",\"type\":\"CrosshairTool\"},{\"attributes\":{},\"id\":\"5f23447f-262a-4b9f-8ca3-07d41f87efb4\",\"type\":\"BasicTickFormatter\"},{\"attributes\":{\"callback\":null,\"column_names\":[\"x\",\"y\"],\"data\":{\"x\":[3.0,4.0,5.0,6.0,7.0,8.0,9.0],\"y\":[3.2672222222222214,3.290753768844219,3.3049486049926546,3.3180721003134837,3.381509433962264,3.3979999999999997,\"NaN\"]}},\"id\":\"f334062d-7221-40ec-8d66-7636d92fade9\",\"type\":\"ColumnDataSource\"},{\"attributes\":{\"legends\":[[\"white\",[{\"id\":\"58ced8f8-272e-4e88-bedc-beabd9517981\",\"type\":\"GlyphRenderer\"}]],[\"red\",[{\"id\":\"c4251146-303f-4d4b-8323-3e663334395c\",\"type\":\"GlyphRenderer\"}]]],\"location\":\"top_left\",\"plot\":{\"id\":\"f6726fb3-c25e-4dc7-bc2d-1812fd9af6b2\",\"subtype\":\"Figure\",\"type\":\"Plot\"}},\"id\":\"d4eb8149-03aa-4071-b4e4-e487dde40d60\",\"type\":\"Legend\"},{\"attributes\":{\"callback\":null,\"plot\":{\"id\":\"f6726fb3-c25e-4dc7-bc2d-1812fd9af6b2\",\"subtype\":\"Figure\",\"type\":\"Plot\"}},\"id\":\"79132ffb-1f65-4777-82c7-aa1b65180a99\",\"type\":\"HoverTool\"},{\"attributes\":{\"below\":[{\"id\":\"f2a90ae1-f9ba-4704-bba2-c45ff6573f50\",\"type\":\"LinearAxis\"}],\"left\":[{\"id\":\"91edde2d-8185-4c34-92ec-74b582968b61\",\"type\":\"LinearAxis\"}],\"plot_height\":300,\"plot_width\":300,\"renderers\":[{\"id\":\"f2a90ae1-f9ba-4704-bba2-c45ff6573f50\",\"type\":\"LinearAxis\"},{\"id\":\"5032fd5d-6760-4f14-8047-cc229f6ea43a\",\"type\":\"Grid\"},{\"id\":\"91edde2d-8185-4c34-92ec-74b582968b61\",\"type\":\"LinearAxis\"},{\"id\":\"6e318e7d-3910-40c6-8a24-10050dba46c1\",\"type\":\"Grid\"},{\"id\":\"d4eb8149-03aa-4071-b4e4-e487dde40d60\",\"type\":\"Legend\"},{\"id\":\"58ced8f8-272e-4e88-bedc-beabd9517981\",\"type\":\"GlyphRenderer\"},{\"id\":\"c4251146-303f-4d4b-8323-3e663334395c\",\"type\":\"GlyphRenderer\"}],\"title\":{\"id\":\"c7be98c5-aaef-43bf-9c0f-857d713b6d98\",\"type\":\"Title\"},\"tool_events\":{\"id\":\"e1bef974-4fc1-417e-8655-59b7a87c371e\",\"type\":\"ToolEvents\"},\"toolbar\":{\"id\":\"6b8541a7-d061-4830-9b00-abe9d811435e\",\"type\":\"Toolbar\"},\"toolbar_location\":null,\"x_range\":{\"id\":\"214d6777-215a-42b6-8e2b-b887ed404a08\",\"type\":\"DataRange1d\"},\"y_range\":{\"id\":\"bdc438a8-f643-47b6-b121-cf0f0164c937\",\"type\":\"DataRange1d\"}},\"id\":\"f6726fb3-c25e-4dc7-bc2d-1812fd9af6b2\",\"subtype\":\"Figure\",\"type\":\"Plot\"},{\"attributes\":{\"callback\":null,\"column_names\":[\"x\",\"y\"],\"data\":{\"x\":[3.0,4.0,5.0,6.0,7.0,8.0,9.0],\"y\":[3.168833218943034,3.1828834355828244,3.1874999999999996,3.1885987261146482,3.2138977272727316,3.2186857142857175,3.308]}},\"id\":\"44be8a57-91ff-4076-8816-4d786d3e4d7a\",\"type\":\"ColumnDataSource\"},{\"attributes\":{\"below\":[{\"id\":\"de43e51d-bffc-47e9-ad3a-36435c8c00ae\",\"type\":\"LinearAxis\"}],\"left\":[{\"id\":\"cf087345-6ede-4eec-8ea7-639ce141c43c\",\"type\":\"LinearAxis\"}],\"plot_height\":300,\"plot_width\":300,\"renderers\":[{\"id\":\"de43e51d-bffc-47e9-ad3a-36435c8c00ae\",\"type\":\"LinearAxis\"},{\"id\":\"35f961a8-488f-4715-b79f-eea3ba72234b\",\"type\":\"Grid\"},{\"id\":\"cf087345-6ede-4eec-8ea7-639ce141c43c\",\"type\":\"LinearAxis\"},{\"id\":\"daebe389-74bc-43ea-8686-edfe0787692b\",\"type\":\"Grid\"},{\"id\":\"65d94d8d-eefc-469b-bfd9-51b369f3f490\",\"type\":\"Legend\"},{\"id\":\"0a68fd16-3eab-4ba7-962a-67bb6e01cbbe\",\"type\":\"GlyphRenderer\"},{\"id\":\"acb0046e-2974-4aff-8c11-c5f834f52ca2\",\"type\":\"GlyphRenderer\"}],\"title\":{\"id\":\"c83c03cd-96c0-432a-a9db-5c15590135b7\",\"type\":\"Title\"},\"tool_events\":{\"id\":\"577e05e9-1a6b-433d-96b0-2e72adb060a8\",\"type\":\"ToolEvents\"},\"toolbar\":{\"id\":\"53bf5c66-2d06-450a-8cc0-0ba4776db7d9\",\"type\":\"Toolbar\"},\"toolbar_location\":null,\"x_range\":{\"id\":\"51a66481-9db9-4e25-95e3-ca85c9242e44\",\"type\":\"DataRange1d\"},\"y_range\":{\"id\":\"024ce3ed-16b9-4dfd-b306-9a63deff81e7\",\"type\":\"DataRange1d\"}},\"id\":\"66e0034e-f9a7-4fd6-bf9a-0596f7432c24\",\"subtype\":\"Figure\",\"type\":\"Plot\"},{\"attributes\":{\"callback\":null,\"plot\":{\"id\":\"06eada41-7215-44ec-81b9-dccd291b05b2\",\"subtype\":\"Figure\",\"type\":\"Plot\"}},\"id\":\"5ff891d8-b624-464f-9748-c9723038900d\",\"type\":\"HoverTool\"},{\"attributes\":{\"callback\":null},\"id\":\"1035c3fe-763e-4871-a00b-135847e61a58\",\"type\":\"DataRange1d\"},{\"attributes\":{\"line_color\":{\"value\":\"red\"},\"x\":{\"field\":\"x\"},\"y\":{\"field\":\"y\"}},\"id\":\"f886cafa-b616-489a-bca0-7812c2f7896f\",\"type\":\"Line\"},{\"attributes\":{\"plot\":{\"id\":\"06eada41-7215-44ec-81b9-dccd291b05b2\",\"subtype\":\"Figure\",\"type\":\"Plot\"},\"ticker\":{\"id\":\"e96a1120-9bcd-4c52-84d0-6efd205345cb\",\"type\":\"BasicTicker\"}},\"id\":\"d99b0ae5-1d0b-44c1-9ac7-fe7c520975f5\",\"type\":\"Grid\"},{\"attributes\":{\"axis_label\":\"density\",\"formatter\":{\"id\":\"3f24efb2-6829-4d0e-8adc-7e345a8f2821\",\"type\":\"BasicTickFormatter\"},\"plot\":{\"id\":\"ecb7e681-c2a4-4eb8-a79a-9d6be66d908c\",\"subtype\":\"Figure\",\"type\":\"Plot\"},\"ticker\":{\"id\":\"fc898957-ed8b-4342-ba4c-a621ea1b03ce\",\"type\":\"BasicTicker\"}},\"id\":\"1e273d2a-d2a2-4559-a742-1292c750f74b\",\"type\":\"LinearAxis\"},{\"attributes\":{\"legends\":[[\"white\",[{\"id\":\"b6875e91-540a-4bb1-8e57-89a70e4bc8f6\",\"type\":\"GlyphRenderer\"}]],[\"red\",[{\"id\":\"ef9ca61a-e786-4990-bab9-eff286a4250c\",\"type\":\"GlyphRenderer\"}]]],\"location\":\"top_left\",\"plot\":{\"id\":\"ecb7e681-c2a4-4eb8-a79a-9d6be66d908c\",\"subtype\":\"Figure\",\"type\":\"Plot\"}},\"id\":\"9816852c-e93b-45c6-8981-e26514327822\",\"type\":\"Legend\"},{\"attributes\":{\"plot\":null,\"text\":\"mean sulphates vs. quality\"},\"id\":\"c83c03cd-96c0-432a-a9db-5c15590135b7\",\"type\":\"Title\"},{\"attributes\":{},\"id\":\"290e57a2-5adf-45e6-bc3b-ec0451d02539\",\"type\":\"BasicTicker\"},{\"attributes\":{\"data_source\":{\"id\":\"152889e2-0f0d-4dd7-b715-44779e3ab98b\",\"type\":\"ColumnDataSource\"},\"glyph\":{\"id\":\"270eaa73-7fa9-423f-9863-e966c930e659\",\"type\":\"Line\"},\"hover_glyph\":null,\"nonselection_glyph\":{\"id\":\"3a1e5ba2-fa07-45d5-bc7e-5af5f6b8c8f8\",\"type\":\"Line\"},\"selection_glyph\":null},\"id\":\"ef9ca61a-e786-4990-bab9-eff286a4250c\",\"type\":\"GlyphRenderer\"},{\"attributes\":{},\"id\":\"fa191d0a-b834-471e-af85-b820158a793d\",\"type\":\"BasicTicker\"},{\"attributes\":{\"axis_label\":\"total sulfur dioxide\",\"formatter\":{\"id\":\"5f23447f-262a-4b9f-8ca3-07d41f87efb4\",\"type\":\"BasicTickFormatter\"},\"plot\":{\"id\":\"f6726fb3-c25e-4dc7-bc2d-1812fd9af6b2\",\"subtype\":\"Figure\",\"type\":\"Plot\"},\"ticker\":{\"id\":\"063d131b-cd8e-467d-9c12-73902795d6a3\",\"type\":\"BasicTicker\"}},\"id\":\"91edde2d-8185-4c34-92ec-74b582968b61\",\"type\":\"LinearAxis\"},{\"attributes\":{\"plot\":{\"id\":\"f6726fb3-c25e-4dc7-bc2d-1812fd9af6b2\",\"subtype\":\"Figure\",\"type\":\"Plot\"}},\"id\":\"3fc333a5-912f-4513-868b-f40169dcda7c\",\"type\":\"ResetTool\"},{\"attributes\":{\"line_alpha\":{\"value\":0.1},\"line_color\":{\"value\":\"#1f77b4\"},\"x\":{\"field\":\"x\"},\"y\":{\"field\":\"y\"}},\"id\":\"6047426d-40a0-48ed-95fa-9f7450387c5a\",\"type\":\"Line\"},{\"attributes\":{},\"id\":\"1ba52992-2055-4dcb-97b5-163ba7ab7196\",\"type\":\"BasicTickFormatter\"},{\"attributes\":{\"line_color\":{\"value\":\"green\"},\"x\":{\"field\":\"x\"},\"y\":{\"field\":\"y\"}},\"id\":\"887a87f5-6071-481a-a6e4-d9d18d9bac71\",\"type\":\"Line\"},{\"attributes\":{\"line_color\":{\"value\":\"green\"},\"x\":{\"field\":\"x\"},\"y\":{\"field\":\"y\"}},\"id\":\"acb4a651-d4a4-41ad-b9b0-c09f0ee38af1\",\"type\":\"Line\"},{\"attributes\":{\"callback\":null},\"id\":\"32bf17ce-6c70-4282-858f-cec71365cf8e\",\"type\":\"DataRange1d\"},{\"attributes\":{\"data_source\":{\"id\":\"4e67f233-e0b2-4799-83b6-16889893f0f2\",\"type\":\"ColumnDataSource\"},\"glyph\":{\"id\":\"03c6ff05-3a13-4cd6-ab05-aaef917ebe8e\",\"type\":\"Line\"},\"hover_glyph\":null,\"nonselection_glyph\":{\"id\":\"e5727b50-17d6-45d4-9fab-2440d429f2b5\",\"type\":\"Line\"},\"selection_glyph\":null},\"id\":\"866885aa-5305-43e7-8935-501e46675024\",\"type\":\"GlyphRenderer\"},{\"attributes\":{\"callback\":null,\"column_names\":[\"x\",\"y\"],\"data\":{\"x\":[3.0,4.0,5.0,6.0,7.0,8.0,9.0],\"y\":[0.99146,0.9922359428571438,0.9924523977272738,0.9939613489535942,0.9942766871165644,0.9948840000000002,0.9952625703500351]}},\"id\":\"83fa352d-7825-4f69-a2bc-c22af0ed48e1\",\"type\":\"ColumnDataSource\"},{\"attributes\":{\"callback\":null,\"column_names\":[\"x\",\"y\"],\"data\":{\"x\":[3.0,4.0,5.0,6.0,7.0,8.0,9.0],\"y\":[0.466,0.4745000000000001,0.47613496932515353,0.4822031571722726,0.4862285714285713,0.4911055505004552,0.5031022727272721]}},\"id\":\"f6e750f1-bc68-402a-9f37-1d035ff34288\",\"type\":\"ColumnDataSource\"},{\"attributes\":{\"dimension\":1,\"plot\":{\"id\":\"66e0034e-f9a7-4fd6-bf9a-0596f7432c24\",\"subtype\":\"Figure\",\"type\":\"Plot\"},\"ticker\":{\"id\":\"290e57a2-5adf-45e6-bc3b-ec0451d02539\",\"type\":\"BasicTicker\"}},\"id\":\"daebe389-74bc-43ea-8686-edfe0787692b\",\"type\":\"Grid\"},{\"attributes\":{\"plot\":{\"id\":\"293be3d1-653d-4b20-ae70-19b7c9151a92\",\"subtype\":\"Figure\",\"type\":\"Plot\"}},\"id\":\"578b62cf-ce4a-4244-8999-e908a8bd7e27\",\"type\":\"ResetTool\"},{\"attributes\":{\"plot\":null,\"text\":\"mean total sulfur dioxide vs. quality\"},\"id\":\"c7be98c5-aaef-43bf-9c0f-857d713b6d98\",\"type\":\"Title\"},{\"attributes\":{\"plot\":{\"id\":\"293be3d1-653d-4b20-ae70-19b7c9151a92\",\"subtype\":\"Figure\",\"type\":\"Plot\"},\"ticker\":{\"id\":\"fa191d0a-b834-471e-af85-b820158a793d\",\"type\":\"BasicTicker\"}},\"id\":\"5f97ee6d-757a-47dc-996f-f9778ab6a2f7\",\"type\":\"Grid\"},{\"attributes\":{\"callback\":null},\"id\":\"51a66481-9db9-4e25-95e3-ca85c9242e44\",\"type\":\"DataRange1d\"},{\"attributes\":{\"plot\":{\"id\":\"ecb7e681-c2a4-4eb8-a79a-9d6be66d908c\",\"subtype\":\"Figure\",\"type\":\"Plot\"}},\"id\":\"daacca14-7ff1-4e9a-8f26-d2cb6e95c928\",\"type\":\"ResetTool\"},{\"attributes\":{\"callback\":null},\"id\":\"024ce3ed-16b9-4dfd-b306-9a63deff81e7\",\"type\":\"DataRange1d\"},{\"attributes\":{\"plot\":{\"id\":\"293be3d1-653d-4b20-ae70-19b7c9151a92\",\"subtype\":\"Figure\",\"type\":\"Plot\"}},\"id\":\"8dded89d-f0bd-454d-b179-a6e19917a155\",\"type\":\"CrosshairTool\"},{\"attributes\":{},\"id\":\"f47d1a4c-9953-4d33-adbc-a77a5319cd83\",\"type\":\"BasicTickFormatter\"},{\"attributes\":{\"line_color\":{\"value\":\"red\"},\"x\":{\"field\":\"x\"},\"y\":{\"field\":\"y\"}},\"id\":\"9a7312ce-9794-40eb-9099-bc53c7a8a9bf\",\"type\":\"Line\"},{\"attributes\":{\"line_alpha\":{\"value\":0.1},\"line_color\":{\"value\":\"#1f77b4\"},\"x\":{\"field\":\"x\"},\"y\":{\"field\":\"y\"}},\"id\":\"487a20e7-fd20-4729-8206-1987313ccee1\",\"type\":\"Line\"},{\"attributes\":{\"legends\":[[\"white\",[{\"id\":\"74118289-6544-4140-8d1d-7a02b5fed620\",\"type\":\"GlyphRenderer\"}]],[\"red\",[{\"id\":\"d3631a5b-396b-4c81-9a71-2869fd5c6cd7\",\"type\":\"GlyphRenderer\"}]]],\"location\":\"top_left\",\"plot\":{\"id\":\"06eada41-7215-44ec-81b9-dccd291b05b2\",\"subtype\":\"Figure\",\"type\":\"Plot\"}},\"id\":\"8fa10905-4789-4cb3-97dc-a571998b16dc\",\"type\":\"Legend\"},{\"attributes\":{\"below\":[{\"id\":\"37907baa-a6e2-450b-aa78-36149ae512e4\",\"type\":\"LinearAxis\"}],\"left\":[{\"id\":\"d1dbbb58-f3be-4d10-84a8-797ccf081747\",\"type\":\"LinearAxis\"}],\"plot_height\":300,\"plot_width\":300,\"renderers\":[{\"id\":\"37907baa-a6e2-450b-aa78-36149ae512e4\",\"type\":\"LinearAxis\"},{\"id\":\"5f97ee6d-757a-47dc-996f-f9778ab6a2f7\",\"type\":\"Grid\"},{\"id\":\"d1dbbb58-f3be-4d10-84a8-797ccf081747\",\"type\":\"LinearAxis\"},{\"id\":\"ccd0ecaf-12d3-4b59-ac85-f2030c7dc494\",\"type\":\"Grid\"},{\"id\":\"4ea6f6b2-e88f-43a2-bcdf-135a59a983e7\",\"type\":\"Legend\"},{\"id\":\"5832455a-cb18-4c86-aa2f-f48ccc38c5e7\",\"type\":\"GlyphRenderer\"},{\"id\":\"866885aa-5305-43e7-8935-501e46675024\",\"type\":\"GlyphRenderer\"}],\"title\":{\"id\":\"05e824d6-e7b5-4a7d-95e2-524c83d4c349\",\"type\":\"Title\"},\"tool_events\":{\"id\":\"2332edd3-dd59-4551-b8d3-a12b2f2c6b1b\",\"type\":\"ToolEvents\"},\"toolbar\":{\"id\":\"567c5ecb-e756-4f78-b535-5b3ac8c06788\",\"type\":\"Toolbar\"},\"toolbar_location\":null,\"x_range\":{\"id\":\"f8c330ed-9c9c-4926-9abc-e7fb256c7b91\",\"type\":\"DataRange1d\"},\"y_range\":{\"id\":\"27abfa65-abc4-4c4d-9430-ea5053ca59af\",\"type\":\"DataRange1d\"}},\"id\":\"293be3d1-653d-4b20-ae70-19b7c9151a92\",\"subtype\":\"Figure\",\"type\":\"Plot\"},{\"attributes\":{\"axis_label\":\"quality\",\"formatter\":{\"id\":\"504ac0a3-c88c-4338-a1b2-0d5ebc7ff9c0\",\"type\":\"BasicTickFormatter\"},\"plot\":{\"id\":\"f6726fb3-c25e-4dc7-bc2d-1812fd9af6b2\",\"subtype\":\"Figure\",\"type\":\"Plot\"},\"ticker\":{\"id\":\"23a93aaf-da02-4a24-b2fe-459bffaa4d40\",\"type\":\"BasicTicker\"}},\"id\":\"f2a90ae1-f9ba-4704-bba2-c45ff6573f50\",\"type\":\"LinearAxis\"},{\"attributes\":{\"data_source\":{\"id\":\"377a3897-3cab-4fea-ba4b-26d9b6bb3bde\",\"type\":\"ColumnDataSource\"},\"glyph\":{\"id\":\"f886cafa-b616-489a-bca0-7812c2f7896f\",\"type\":\"Line\"},\"hover_glyph\":null,\"nonselection_glyph\":{\"id\":\"487a20e7-fd20-4729-8206-1987313ccee1\",\"type\":\"Line\"},\"selection_glyph\":null},\"id\":\"c4251146-303f-4d4b-8323-3e663334395c\",\"type\":\"GlyphRenderer\"},{\"attributes\":{\"plot\":null,\"text\":\"mean density vs. quality\"},\"id\":\"c26cbdb7-2d53-49e6-875a-cda73966deee\",\"type\":\"Title\"},{\"attributes\":{},\"id\":\"577e05e9-1a6b-433d-96b0-2e72adb060a8\",\"type\":\"ToolEvents\"},{\"attributes\":{\"callback\":null},\"id\":\"bdc438a8-f643-47b6-b121-cf0f0164c937\",\"type\":\"DataRange1d\"},{\"attributes\":{\"plot\":null,\"text\":\"mean pH vs. quality\"},\"id\":\"d8250b4e-def0-4bec-832e-24c120c2672e\",\"type\":\"Title\"},{\"attributes\":{\"data_source\":{\"id\":\"83fa352d-7825-4f69-a2bc-c22af0ed48e1\",\"type\":\"ColumnDataSource\"},\"glyph\":{\"id\":\"ac7715fb-1eb7-417f-a9d0-3bd860e29222\",\"type\":\"Line\"},\"hover_glyph\":null,\"nonselection_glyph\":{\"id\":\"6047426d-40a0-48ed-95fa-9f7450387c5a\",\"type\":\"Line\"},\"selection_glyph\":null},\"id\":\"b6875e91-540a-4bb1-8e57-89a70e4bc8f6\",\"type\":\"GlyphRenderer\"},{\"attributes\":{\"plot\":{\"id\":\"f6726fb3-c25e-4dc7-bc2d-1812fd9af6b2\",\"subtype\":\"Figure\",\"type\":\"Plot\"},\"ticker\":{\"id\":\"23a93aaf-da02-4a24-b2fe-459bffaa4d40\",\"type\":\"BasicTicker\"}},\"id\":\"5032fd5d-6760-4f14-8047-cc229f6ea43a\",\"type\":\"Grid\"},{\"attributes\":{\"line_color\":{\"value\":\"green\"},\"x\":{\"field\":\"x\"},\"y\":{\"field\":\"y\"}},\"id\":\"ac7715fb-1eb7-417f-a9d0-3bd860e29222\",\"type\":\"Line\"},{\"attributes\":{\"line_alpha\":{\"value\":0.1},\"line_color\":{\"value\":\"#1f77b4\"},\"x\":{\"field\":\"x\"},\"y\":{\"field\":\"y\"}},\"id\":\"e5727b50-17d6-45d4-9fab-2440d429f2b5\",\"type\":\"Line\"},{\"attributes\":{\"plot\":{\"id\":\"f6726fb3-c25e-4dc7-bc2d-1812fd9af6b2\",\"subtype\":\"Figure\",\"type\":\"Plot\"}},\"id\":\"902f3d42-0ff6-4867-8e31-9f7ccbc79fcc\",\"type\":\"CrosshairTool\"},{\"attributes\":{\"dimension\":1,\"plot\":{\"id\":\"293be3d1-653d-4b20-ae70-19b7c9151a92\",\"subtype\":\"Figure\",\"type\":\"Plot\"},\"ticker\":{\"id\":\"034db9cb-3ede-4eb3-a316-279a5e851ee0\",\"type\":\"BasicTicker\"}},\"id\":\"ccd0ecaf-12d3-4b59-ac85-f2030c7dc494\",\"type\":\"Grid\"},{\"attributes\":{\"callback\":null,\"plot\":{\"id\":\"293be3d1-653d-4b20-ae70-19b7c9151a92\",\"subtype\":\"Figure\",\"type\":\"Plot\"}},\"id\":\"e1bfb8a8-48bb-49eb-9b21-a4d4f85c2f5f\",\"type\":\"HoverTool\"},{\"attributes\":{},\"id\":\"eecb0273-8ca6-4f13-b3aa-cac89c0bbd0a\",\"type\":\"BasicTicker\"},{\"attributes\":{\"callback\":null,\"column_names\":[\"x\",\"y\"],\"data\":{\"x\":[3.0,4.0,5.0,6.0,7.0,8.0,9.0],\"y\":[0.9952122222222223,0.9961042713567828,0.9965424528301888,0.9966150626959255,0.9971036270190888,0.9974640000000001,\"NaN\"]}},\"id\":\"152889e2-0f0d-4dd7-b715-44779e3ab98b\",\"type\":\"ColumnDataSource\"}],\"root_ids\":[\"6c8f9211-186c-4cfc-88d1-9e92420131d7\"]},\"title\":\"Bokeh Application\",\"version\":\"0.12.0\"}};\n",
       "            var render_items = [{\"docid\":\"3cbb38e6-917a-4bf9-b879-138ad8e0c49b\",\"elementid\":\"27e6567a-b8b0-4aaa-921b-47a638aa3747\",\"modelid\":\"6c8f9211-186c-4cfc-88d1-9e92420131d7\",\"notebook_comms_target\":\"88f8d16e-b445-4bc7-a62c-d517cdc0ea09\"}];\n",
       "            \n",
       "            Bokeh.embed.embed_items(docs_json, render_items);\n",
       "        });\n",
       "      },\n",
       "      function(Bokeh) {\n",
       "      }\n",
       "    ];\n",
       "  \n",
       "    function run_inline_js() {\n",
       "      for (var i = 0; i < inline_js.length; i++) {\n",
       "        inline_js[i](window.Bokeh);\n",
       "      }\n",
       "    }\n",
       "  \n",
       "    if (window._bokeh_is_loading === 0) {\n",
       "      console.log(\"Bokeh: BokehJS loaded, going straight to plotting\");\n",
       "      run_inline_js();\n",
       "    } else {\n",
       "      load_libs(js_urls, function() {\n",
       "        console.log(\"Bokeh: BokehJS plotting callback run at\", now());\n",
       "        run_inline_js();\n",
       "      });\n",
       "    }\n",
       "  }(this));\n",
       "</script>"
      ]
     },
     "metadata": {},
     "output_type": "display_data"
    },
    {
     "data": {
      "text/html": [
       "<p><code>&lt;Bokeh Notebook handle for <strong>In[18]</strong>&gt;</code></p>"
      ],
      "text/plain": [
       "<bokeh.io._CommsHandle at 0x113b882e8>"
      ]
     },
     "execution_count": 18,
     "metadata": {},
     "output_type": "execute_result"
    }
   ],
   "source": [
    "p4=gridplot([plot_list[6:9], plot_list[9:12]])\n",
    "show(p4)"
   ]
  },
  {
   "cell_type": "code",
   "execution_count": null,
   "metadata": {
    "collapsed": false
   },
   "outputs": [],
   "source": []
  },
  {
   "cell_type": "markdown",
   "metadata": {
    "collapsed": true
   },
   "source": [
    "# Examining correlation"
   ]
  },
  {
   "cell_type": "code",
   "execution_count": 19,
   "metadata": {
    "collapsed": false
   },
   "outputs": [],
   "source": [
    "subset_red = comp_data[comp_data['white?']==0][key_subset]\n",
    "corr_red = subset_red.corr()\n",
    "\n",
    "subset_white = comp_data[comp_data['white?']==1][key_subset]\n",
    "corr_white = subset_white.corr()\n"
   ]
  },
  {
   "cell_type": "code",
   "execution_count": 20,
   "metadata": {
    "collapsed": false
   },
   "outputs": [
    {
     "data": {
      "text/html": [
       "<div>\n",
       "<table border=\"1\" class=\"dataframe\">\n",
       "  <thead>\n",
       "    <tr style=\"text-align: right;\">\n",
       "      <th></th>\n",
       "      <th>fixed acidity</th>\n",
       "      <th>volatile acidity</th>\n",
       "      <th>citric acid</th>\n",
       "      <th>residual sugar</th>\n",
       "      <th>chlorides</th>\n",
       "      <th>free sulfur dioxide</th>\n",
       "      <th>total sulfur dioxide</th>\n",
       "      <th>density</th>\n",
       "      <th>pH</th>\n",
       "      <th>sulphates</th>\n",
       "      <th>alcohol</th>\n",
       "    </tr>\n",
       "  </thead>\n",
       "  <tbody>\n",
       "    <tr>\n",
       "      <th>fixed acidity</th>\n",
       "      <td>NaN</td>\n",
       "      <td>NaN</td>\n",
       "      <td>0.671703</td>\n",
       "      <td>NaN</td>\n",
       "      <td>NaN</td>\n",
       "      <td>NaN</td>\n",
       "      <td>NaN</td>\n",
       "      <td>0.668047</td>\n",
       "      <td>-0.682978</td>\n",
       "      <td>NaN</td>\n",
       "      <td>NaN</td>\n",
       "    </tr>\n",
       "    <tr>\n",
       "      <th>volatile acidity</th>\n",
       "      <td>NaN</td>\n",
       "      <td>NaN</td>\n",
       "      <td>-0.552496</td>\n",
       "      <td>NaN</td>\n",
       "      <td>NaN</td>\n",
       "      <td>NaN</td>\n",
       "      <td>NaN</td>\n",
       "      <td>NaN</td>\n",
       "      <td>NaN</td>\n",
       "      <td>NaN</td>\n",
       "      <td>NaN</td>\n",
       "    </tr>\n",
       "    <tr>\n",
       "      <th>citric acid</th>\n",
       "      <td>0.671703</td>\n",
       "      <td>-0.552496</td>\n",
       "      <td>NaN</td>\n",
       "      <td>NaN</td>\n",
       "      <td>NaN</td>\n",
       "      <td>NaN</td>\n",
       "      <td>NaN</td>\n",
       "      <td>NaN</td>\n",
       "      <td>-0.541904</td>\n",
       "      <td>NaN</td>\n",
       "      <td>NaN</td>\n",
       "    </tr>\n",
       "    <tr>\n",
       "      <th>residual sugar</th>\n",
       "      <td>NaN</td>\n",
       "      <td>NaN</td>\n",
       "      <td>NaN</td>\n",
       "      <td>NaN</td>\n",
       "      <td>NaN</td>\n",
       "      <td>NaN</td>\n",
       "      <td>NaN</td>\n",
       "      <td>NaN</td>\n",
       "      <td>NaN</td>\n",
       "      <td>NaN</td>\n",
       "      <td>NaN</td>\n",
       "    </tr>\n",
       "    <tr>\n",
       "      <th>chlorides</th>\n",
       "      <td>NaN</td>\n",
       "      <td>NaN</td>\n",
       "      <td>NaN</td>\n",
       "      <td>NaN</td>\n",
       "      <td>NaN</td>\n",
       "      <td>NaN</td>\n",
       "      <td>NaN</td>\n",
       "      <td>NaN</td>\n",
       "      <td>NaN</td>\n",
       "      <td>NaN</td>\n",
       "      <td>NaN</td>\n",
       "    </tr>\n",
       "    <tr>\n",
       "      <th>free sulfur dioxide</th>\n",
       "      <td>NaN</td>\n",
       "      <td>NaN</td>\n",
       "      <td>NaN</td>\n",
       "      <td>NaN</td>\n",
       "      <td>NaN</td>\n",
       "      <td>NaN</td>\n",
       "      <td>0.667666</td>\n",
       "      <td>NaN</td>\n",
       "      <td>NaN</td>\n",
       "      <td>NaN</td>\n",
       "      <td>NaN</td>\n",
       "    </tr>\n",
       "    <tr>\n",
       "      <th>total sulfur dioxide</th>\n",
       "      <td>NaN</td>\n",
       "      <td>NaN</td>\n",
       "      <td>NaN</td>\n",
       "      <td>NaN</td>\n",
       "      <td>NaN</td>\n",
       "      <td>0.667666</td>\n",
       "      <td>NaN</td>\n",
       "      <td>NaN</td>\n",
       "      <td>NaN</td>\n",
       "      <td>NaN</td>\n",
       "      <td>NaN</td>\n",
       "    </tr>\n",
       "    <tr>\n",
       "      <th>density</th>\n",
       "      <td>0.668047</td>\n",
       "      <td>NaN</td>\n",
       "      <td>NaN</td>\n",
       "      <td>NaN</td>\n",
       "      <td>NaN</td>\n",
       "      <td>NaN</td>\n",
       "      <td>NaN</td>\n",
       "      <td>NaN</td>\n",
       "      <td>NaN</td>\n",
       "      <td>NaN</td>\n",
       "      <td>NaN</td>\n",
       "    </tr>\n",
       "    <tr>\n",
       "      <th>pH</th>\n",
       "      <td>-0.682978</td>\n",
       "      <td>NaN</td>\n",
       "      <td>-0.541904</td>\n",
       "      <td>NaN</td>\n",
       "      <td>NaN</td>\n",
       "      <td>NaN</td>\n",
       "      <td>NaN</td>\n",
       "      <td>NaN</td>\n",
       "      <td>NaN</td>\n",
       "      <td>NaN</td>\n",
       "      <td>NaN</td>\n",
       "    </tr>\n",
       "    <tr>\n",
       "      <th>sulphates</th>\n",
       "      <td>NaN</td>\n",
       "      <td>NaN</td>\n",
       "      <td>NaN</td>\n",
       "      <td>NaN</td>\n",
       "      <td>NaN</td>\n",
       "      <td>NaN</td>\n",
       "      <td>NaN</td>\n",
       "      <td>NaN</td>\n",
       "      <td>NaN</td>\n",
       "      <td>NaN</td>\n",
       "      <td>NaN</td>\n",
       "    </tr>\n",
       "    <tr>\n",
       "      <th>alcohol</th>\n",
       "      <td>NaN</td>\n",
       "      <td>NaN</td>\n",
       "      <td>NaN</td>\n",
       "      <td>NaN</td>\n",
       "      <td>NaN</td>\n",
       "      <td>NaN</td>\n",
       "      <td>NaN</td>\n",
       "      <td>NaN</td>\n",
       "      <td>NaN</td>\n",
       "      <td>NaN</td>\n",
       "      <td>NaN</td>\n",
       "    </tr>\n",
       "  </tbody>\n",
       "</table>\n",
       "</div>"
      ],
      "text/plain": [
       "                      fixed acidity  volatile acidity  citric acid  \\\n",
       "fixed acidity                   NaN               NaN     0.671703   \n",
       "volatile acidity                NaN               NaN    -0.552496   \n",
       "citric acid                0.671703         -0.552496          NaN   \n",
       "residual sugar                  NaN               NaN          NaN   \n",
       "chlorides                       NaN               NaN          NaN   \n",
       "free sulfur dioxide             NaN               NaN          NaN   \n",
       "total sulfur dioxide            NaN               NaN          NaN   \n",
       "density                    0.668047               NaN          NaN   \n",
       "pH                        -0.682978               NaN    -0.541904   \n",
       "sulphates                       NaN               NaN          NaN   \n",
       "alcohol                         NaN               NaN          NaN   \n",
       "\n",
       "                      residual sugar  chlorides  free sulfur dioxide  \\\n",
       "fixed acidity                    NaN        NaN                  NaN   \n",
       "volatile acidity                 NaN        NaN                  NaN   \n",
       "citric acid                      NaN        NaN                  NaN   \n",
       "residual sugar                   NaN        NaN                  NaN   \n",
       "chlorides                        NaN        NaN                  NaN   \n",
       "free sulfur dioxide              NaN        NaN                  NaN   \n",
       "total sulfur dioxide             NaN        NaN             0.667666   \n",
       "density                          NaN        NaN                  NaN   \n",
       "pH                               NaN        NaN                  NaN   \n",
       "sulphates                        NaN        NaN                  NaN   \n",
       "alcohol                          NaN        NaN                  NaN   \n",
       "\n",
       "                      total sulfur dioxide   density        pH  sulphates  \\\n",
       "fixed acidity                          NaN  0.668047 -0.682978        NaN   \n",
       "volatile acidity                       NaN       NaN       NaN        NaN   \n",
       "citric acid                            NaN       NaN -0.541904        NaN   \n",
       "residual sugar                         NaN       NaN       NaN        NaN   \n",
       "chlorides                              NaN       NaN       NaN        NaN   \n",
       "free sulfur dioxide               0.667666       NaN       NaN        NaN   \n",
       "total sulfur dioxide                   NaN       NaN       NaN        NaN   \n",
       "density                                NaN       NaN       NaN        NaN   \n",
       "pH                                     NaN       NaN       NaN        NaN   \n",
       "sulphates                              NaN       NaN       NaN        NaN   \n",
       "alcohol                                NaN       NaN       NaN        NaN   \n",
       "\n",
       "                      alcohol  \n",
       "fixed acidity             NaN  \n",
       "volatile acidity          NaN  \n",
       "citric acid               NaN  \n",
       "residual sugar            NaN  \n",
       "chlorides                 NaN  \n",
       "free sulfur dioxide       NaN  \n",
       "total sulfur dioxide      NaN  \n",
       "density                   NaN  \n",
       "pH                        NaN  \n",
       "sulphates                 NaN  \n",
       "alcohol                   NaN  "
      ]
     },
     "execution_count": 20,
     "metadata": {},
     "output_type": "execute_result"
    }
   ],
   "source": [
    "corr_red[(abs(corr_red)>=0.5)&(abs(corr_red)<1)]"
   ]
  },
  {
   "cell_type": "code",
   "execution_count": 21,
   "metadata": {
    "collapsed": false
   },
   "outputs": [
    {
     "data": {
      "text/html": [
       "<div>\n",
       "<table border=\"1\" class=\"dataframe\">\n",
       "  <thead>\n",
       "    <tr style=\"text-align: right;\">\n",
       "      <th></th>\n",
       "      <th>fixed acidity</th>\n",
       "      <th>volatile acidity</th>\n",
       "      <th>citric acid</th>\n",
       "      <th>residual sugar</th>\n",
       "      <th>chlorides</th>\n",
       "      <th>free sulfur dioxide</th>\n",
       "      <th>total sulfur dioxide</th>\n",
       "      <th>density</th>\n",
       "      <th>pH</th>\n",
       "      <th>sulphates</th>\n",
       "      <th>alcohol</th>\n",
       "    </tr>\n",
       "  </thead>\n",
       "  <tbody>\n",
       "    <tr>\n",
       "      <th>fixed acidity</th>\n",
       "      <td>NaN</td>\n",
       "      <td>NaN</td>\n",
       "      <td>NaN</td>\n",
       "      <td>NaN</td>\n",
       "      <td>NaN</td>\n",
       "      <td>NaN</td>\n",
       "      <td>NaN</td>\n",
       "      <td>NaN</td>\n",
       "      <td>NaN</td>\n",
       "      <td>NaN</td>\n",
       "      <td>NaN</td>\n",
       "    </tr>\n",
       "    <tr>\n",
       "      <th>volatile acidity</th>\n",
       "      <td>NaN</td>\n",
       "      <td>NaN</td>\n",
       "      <td>NaN</td>\n",
       "      <td>NaN</td>\n",
       "      <td>NaN</td>\n",
       "      <td>NaN</td>\n",
       "      <td>NaN</td>\n",
       "      <td>NaN</td>\n",
       "      <td>NaN</td>\n",
       "      <td>NaN</td>\n",
       "      <td>NaN</td>\n",
       "    </tr>\n",
       "    <tr>\n",
       "      <th>citric acid</th>\n",
       "      <td>NaN</td>\n",
       "      <td>NaN</td>\n",
       "      <td>NaN</td>\n",
       "      <td>NaN</td>\n",
       "      <td>NaN</td>\n",
       "      <td>NaN</td>\n",
       "      <td>NaN</td>\n",
       "      <td>NaN</td>\n",
       "      <td>NaN</td>\n",
       "      <td>NaN</td>\n",
       "      <td>NaN</td>\n",
       "    </tr>\n",
       "    <tr>\n",
       "      <th>residual sugar</th>\n",
       "      <td>NaN</td>\n",
       "      <td>NaN</td>\n",
       "      <td>NaN</td>\n",
       "      <td>NaN</td>\n",
       "      <td>NaN</td>\n",
       "      <td>NaN</td>\n",
       "      <td>NaN</td>\n",
       "      <td>0.838966</td>\n",
       "      <td>NaN</td>\n",
       "      <td>NaN</td>\n",
       "      <td>NaN</td>\n",
       "    </tr>\n",
       "    <tr>\n",
       "      <th>chlorides</th>\n",
       "      <td>NaN</td>\n",
       "      <td>NaN</td>\n",
       "      <td>NaN</td>\n",
       "      <td>NaN</td>\n",
       "      <td>NaN</td>\n",
       "      <td>NaN</td>\n",
       "      <td>NaN</td>\n",
       "      <td>NaN</td>\n",
       "      <td>NaN</td>\n",
       "      <td>NaN</td>\n",
       "      <td>NaN</td>\n",
       "    </tr>\n",
       "    <tr>\n",
       "      <th>free sulfur dioxide</th>\n",
       "      <td>NaN</td>\n",
       "      <td>NaN</td>\n",
       "      <td>NaN</td>\n",
       "      <td>NaN</td>\n",
       "      <td>NaN</td>\n",
       "      <td>NaN</td>\n",
       "      <td>0.615501</td>\n",
       "      <td>NaN</td>\n",
       "      <td>NaN</td>\n",
       "      <td>NaN</td>\n",
       "      <td>NaN</td>\n",
       "    </tr>\n",
       "    <tr>\n",
       "      <th>total sulfur dioxide</th>\n",
       "      <td>NaN</td>\n",
       "      <td>NaN</td>\n",
       "      <td>NaN</td>\n",
       "      <td>NaN</td>\n",
       "      <td>NaN</td>\n",
       "      <td>0.615501</td>\n",
       "      <td>NaN</td>\n",
       "      <td>0.529881</td>\n",
       "      <td>NaN</td>\n",
       "      <td>NaN</td>\n",
       "      <td>NaN</td>\n",
       "    </tr>\n",
       "    <tr>\n",
       "      <th>density</th>\n",
       "      <td>NaN</td>\n",
       "      <td>NaN</td>\n",
       "      <td>NaN</td>\n",
       "      <td>0.838966</td>\n",
       "      <td>NaN</td>\n",
       "      <td>NaN</td>\n",
       "      <td>0.529881</td>\n",
       "      <td>NaN</td>\n",
       "      <td>NaN</td>\n",
       "      <td>NaN</td>\n",
       "      <td>-0.780138</td>\n",
       "    </tr>\n",
       "    <tr>\n",
       "      <th>pH</th>\n",
       "      <td>NaN</td>\n",
       "      <td>NaN</td>\n",
       "      <td>NaN</td>\n",
       "      <td>NaN</td>\n",
       "      <td>NaN</td>\n",
       "      <td>NaN</td>\n",
       "      <td>NaN</td>\n",
       "      <td>NaN</td>\n",
       "      <td>NaN</td>\n",
       "      <td>NaN</td>\n",
       "      <td>NaN</td>\n",
       "    </tr>\n",
       "    <tr>\n",
       "      <th>sulphates</th>\n",
       "      <td>NaN</td>\n",
       "      <td>NaN</td>\n",
       "      <td>NaN</td>\n",
       "      <td>NaN</td>\n",
       "      <td>NaN</td>\n",
       "      <td>NaN</td>\n",
       "      <td>NaN</td>\n",
       "      <td>NaN</td>\n",
       "      <td>NaN</td>\n",
       "      <td>NaN</td>\n",
       "      <td>NaN</td>\n",
       "    </tr>\n",
       "    <tr>\n",
       "      <th>alcohol</th>\n",
       "      <td>NaN</td>\n",
       "      <td>NaN</td>\n",
       "      <td>NaN</td>\n",
       "      <td>NaN</td>\n",
       "      <td>NaN</td>\n",
       "      <td>NaN</td>\n",
       "      <td>NaN</td>\n",
       "      <td>-0.780138</td>\n",
       "      <td>NaN</td>\n",
       "      <td>NaN</td>\n",
       "      <td>NaN</td>\n",
       "    </tr>\n",
       "  </tbody>\n",
       "</table>\n",
       "</div>"
      ],
      "text/plain": [
       "                      fixed acidity  volatile acidity  citric acid  \\\n",
       "fixed acidity                   NaN               NaN          NaN   \n",
       "volatile acidity                NaN               NaN          NaN   \n",
       "citric acid                     NaN               NaN          NaN   \n",
       "residual sugar                  NaN               NaN          NaN   \n",
       "chlorides                       NaN               NaN          NaN   \n",
       "free sulfur dioxide             NaN               NaN          NaN   \n",
       "total sulfur dioxide            NaN               NaN          NaN   \n",
       "density                         NaN               NaN          NaN   \n",
       "pH                              NaN               NaN          NaN   \n",
       "sulphates                       NaN               NaN          NaN   \n",
       "alcohol                         NaN               NaN          NaN   \n",
       "\n",
       "                      residual sugar  chlorides  free sulfur dioxide  \\\n",
       "fixed acidity                    NaN        NaN                  NaN   \n",
       "volatile acidity                 NaN        NaN                  NaN   \n",
       "citric acid                      NaN        NaN                  NaN   \n",
       "residual sugar                   NaN        NaN                  NaN   \n",
       "chlorides                        NaN        NaN                  NaN   \n",
       "free sulfur dioxide              NaN        NaN                  NaN   \n",
       "total sulfur dioxide             NaN        NaN             0.615501   \n",
       "density                     0.838966        NaN                  NaN   \n",
       "pH                               NaN        NaN                  NaN   \n",
       "sulphates                        NaN        NaN                  NaN   \n",
       "alcohol                          NaN        NaN                  NaN   \n",
       "\n",
       "                      total sulfur dioxide   density  pH  sulphates   alcohol  \n",
       "fixed acidity                          NaN       NaN NaN        NaN       NaN  \n",
       "volatile acidity                       NaN       NaN NaN        NaN       NaN  \n",
       "citric acid                            NaN       NaN NaN        NaN       NaN  \n",
       "residual sugar                         NaN  0.838966 NaN        NaN       NaN  \n",
       "chlorides                              NaN       NaN NaN        NaN       NaN  \n",
       "free sulfur dioxide               0.615501       NaN NaN        NaN       NaN  \n",
       "total sulfur dioxide                   NaN  0.529881 NaN        NaN       NaN  \n",
       "density                           0.529881       NaN NaN        NaN -0.780138  \n",
       "pH                                     NaN       NaN NaN        NaN       NaN  \n",
       "sulphates                              NaN       NaN NaN        NaN       NaN  \n",
       "alcohol                                NaN -0.780138 NaN        NaN       NaN  "
      ]
     },
     "execution_count": 21,
     "metadata": {},
     "output_type": "execute_result"
    }
   ],
   "source": [
    "corr_white[(abs(corr_white)>=0.5)&(abs(corr_white)<1)]"
   ]
  },
  {
   "cell_type": "markdown",
   "metadata": {},
   "source": [
    "# Building Multiclass Classification Model for Quality"
   ]
  },
  {
   "cell_type": "code",
   "execution_count": 16,
   "metadata": {
    "collapsed": true
   },
   "outputs": [],
   "source": [
    "from sklearn import cross_validation\n",
    "from sklearn import linear_model\n",
    "from sklearn import metrics"
   ]
  },
  {
   "cell_type": "code",
   "execution_count": 1,
   "metadata": {
    "collapsed": false
   },
   "outputs": [
    {
     "ename": "NameError",
     "evalue": "name 'cross_validation' is not defined",
     "output_type": "error",
     "traceback": [
      "\u001b[0;31m---------------------------------------------------------------------------\u001b[0m",
      "\u001b[0;31mNameError\u001b[0m                                 Traceback (most recent call last)",
      "\u001b[0;32m<ipython-input-1-1a49227c7324>\u001b[0m in \u001b[0;36m<module>\u001b[0;34m()\u001b[0m\n\u001b[0;32m----> 1\u001b[0;31m \u001b[0mxtrain\u001b[0m\u001b[0;34m,\u001b[0m \u001b[0mxtest\u001b[0m\u001b[0;34m,\u001b[0m \u001b[0mytrain\u001b[0m\u001b[0;34m,\u001b[0m \u001b[0mytest\u001b[0m \u001b[0;34m=\u001b[0m \u001b[0mcross_validation\u001b[0m\u001b[0;34m.\u001b[0m\u001b[0mtrain_test_split\u001b[0m\u001b[0;34m(\u001b[0m\u001b[0msubset_red\u001b[0m\u001b[0;34m,\u001b[0m \u001b[0mred2\u001b[0m\u001b[0;34m[\u001b[0m\u001b[0;34m'quality'\u001b[0m\u001b[0;34m]\u001b[0m\u001b[0;34m,\u001b[0m \u001b[0mtrain_size\u001b[0m \u001b[0;34m=\u001b[0m \u001b[0;36m0.75\u001b[0m\u001b[0;34m)\u001b[0m\u001b[0;34m\u001b[0m\u001b[0m\n\u001b[0m",
      "\u001b[0;31mNameError\u001b[0m: name 'cross_validation' is not defined"
     ]
    }
   ],
   "source": [
    "xtrain, xtest, ytrain, ytest = cross_validation.train_test_split(subset_red, red2['quality'], train_size = 0.75)"
   ]
  },
  {
   "cell_type": "code",
   "execution_count": 24,
   "metadata": {
    "collapsed": false
   },
   "outputs": [
    {
     "name": "stderr",
     "output_type": "stream",
     "text": [
      "/Users/ericalonas/anaconda/envs/py35/lib/python3.5/site-packages/sklearn/utils/validation.py:386: DeprecationWarning: Passing 1d arrays as data is deprecated in 0.17 and willraise ValueError in 0.19. Reshape your data either using X.reshape(-1, 1) if your data has a single feature or X.reshape(1, -1) if it contains a single sample.\n",
      "  DeprecationWarning)\n"
     ]
    },
    {
     "ename": "ValueError",
     "evalue": "Found arrays with inconsistent numbers of samples: [   1 1199]",
     "output_type": "error",
     "traceback": [
      "\u001b[0;31m---------------------------------------------------------------------------\u001b[0m",
      "\u001b[0;31mValueError\u001b[0m                                Traceback (most recent call last)",
      "\u001b[0;32m<ipython-input-24-178dfcbea086>\u001b[0m in \u001b[0;36m<module>\u001b[0;34m()\u001b[0m\n\u001b[1;32m      1\u001b[0m \u001b[0mrgr\u001b[0m \u001b[0;34m=\u001b[0m \u001b[0mlinear_model\u001b[0m\u001b[0;34m.\u001b[0m\u001b[0mLogisticRegressionCV\u001b[0m\u001b[0;34m(\u001b[0m\u001b[0msolver\u001b[0m\u001b[0;34m=\u001b[0m\u001b[0;34m'lbfgs'\u001b[0m\u001b[0;34m,\u001b[0m\u001b[0mmulti_class\u001b[0m\u001b[0;34m=\u001b[0m\u001b[0;34m'multinomial'\u001b[0m\u001b[0;34m,\u001b[0m \u001b[0mscoring\u001b[0m\u001b[0;34m=\u001b[0m\u001b[0;34m'accuracy'\u001b[0m\u001b[0;34m)\u001b[0m\u001b[0;34m\u001b[0m\u001b[0m\n\u001b[0;32m----> 2\u001b[0;31m \u001b[0mrgr\u001b[0m\u001b[0;34m.\u001b[0m\u001b[0mfit\u001b[0m\u001b[0;34m(\u001b[0m\u001b[0mxtrain\u001b[0m\u001b[0;34m,\u001b[0m \u001b[0mytrain\u001b[0m\u001b[0;34m)\u001b[0m\u001b[0;34m\u001b[0m\u001b[0m\n\u001b[0m",
      "\u001b[0;32m/Users/ericalonas/anaconda/envs/py35/lib/python3.5/site-packages/sklearn/linear_model/logistic.py\u001b[0m in \u001b[0;36mfit\u001b[0;34m(self, X, y, sample_weight)\u001b[0m\n\u001b[1;32m   1507\u001b[0m \u001b[0;34m\u001b[0m\u001b[0m\n\u001b[1;32m   1508\u001b[0m         X, y = check_X_y(X, y, accept_sparse='csr', dtype=np.float64,\n\u001b[0;32m-> 1509\u001b[0;31m                          order=\"C\")\n\u001b[0m\u001b[1;32m   1510\u001b[0m         \u001b[0mmax_squared_sum\u001b[0m \u001b[0;34m=\u001b[0m \u001b[0mget_max_squared_sum\u001b[0m\u001b[0;34m(\u001b[0m\u001b[0mX\u001b[0m\u001b[0;34m)\u001b[0m \u001b[0;32mif\u001b[0m \u001b[0mself\u001b[0m\u001b[0;34m.\u001b[0m\u001b[0msolver\u001b[0m \u001b[0;34m==\u001b[0m \u001b[0;34m'sag'\u001b[0m\u001b[0;31m \u001b[0m\u001b[0;31m\\\u001b[0m\u001b[0;34m\u001b[0m\u001b[0m\n\u001b[1;32m   1511\u001b[0m             \u001b[0;32melse\u001b[0m \u001b[0;32mNone\u001b[0m\u001b[0;34m\u001b[0m\u001b[0m\n",
      "\u001b[0;32m/Users/ericalonas/anaconda/envs/py35/lib/python3.5/site-packages/sklearn/utils/validation.py\u001b[0m in \u001b[0;36mcheck_X_y\u001b[0;34m(X, y, accept_sparse, dtype, order, copy, force_all_finite, ensure_2d, allow_nd, multi_output, ensure_min_samples, ensure_min_features, y_numeric, warn_on_dtype, estimator)\u001b[0m\n\u001b[1;32m    518\u001b[0m         \u001b[0my\u001b[0m \u001b[0;34m=\u001b[0m \u001b[0my\u001b[0m\u001b[0;34m.\u001b[0m\u001b[0mastype\u001b[0m\u001b[0;34m(\u001b[0m\u001b[0mnp\u001b[0m\u001b[0;34m.\u001b[0m\u001b[0mfloat64\u001b[0m\u001b[0;34m)\u001b[0m\u001b[0;34m\u001b[0m\u001b[0m\n\u001b[1;32m    519\u001b[0m \u001b[0;34m\u001b[0m\u001b[0m\n\u001b[0;32m--> 520\u001b[0;31m     \u001b[0mcheck_consistent_length\u001b[0m\u001b[0;34m(\u001b[0m\u001b[0mX\u001b[0m\u001b[0;34m,\u001b[0m \u001b[0my\u001b[0m\u001b[0;34m)\u001b[0m\u001b[0;34m\u001b[0m\u001b[0m\n\u001b[0m\u001b[1;32m    521\u001b[0m \u001b[0;34m\u001b[0m\u001b[0m\n\u001b[1;32m    522\u001b[0m     \u001b[0;32mreturn\u001b[0m \u001b[0mX\u001b[0m\u001b[0;34m,\u001b[0m \u001b[0my\u001b[0m\u001b[0;34m\u001b[0m\u001b[0m\n",
      "\u001b[0;32m/Users/ericalonas/anaconda/envs/py35/lib/python3.5/site-packages/sklearn/utils/validation.py\u001b[0m in \u001b[0;36mcheck_consistent_length\u001b[0;34m(*arrays)\u001b[0m\n\u001b[1;32m    174\u001b[0m     \u001b[0;32mif\u001b[0m \u001b[0mlen\u001b[0m\u001b[0;34m(\u001b[0m\u001b[0muniques\u001b[0m\u001b[0;34m)\u001b[0m \u001b[0;34m>\u001b[0m \u001b[0;36m1\u001b[0m\u001b[0;34m:\u001b[0m\u001b[0;34m\u001b[0m\u001b[0m\n\u001b[1;32m    175\u001b[0m         raise ValueError(\"Found arrays with inconsistent numbers of samples: \"\n\u001b[0;32m--> 176\u001b[0;31m                          \"%s\" % str(uniques))\n\u001b[0m\u001b[1;32m    177\u001b[0m \u001b[0;34m\u001b[0m\u001b[0m\n\u001b[1;32m    178\u001b[0m \u001b[0;34m\u001b[0m\u001b[0m\n",
      "\u001b[0;31mValueError\u001b[0m: Found arrays with inconsistent numbers of samples: [   1 1199]"
     ]
    }
   ],
   "source": [
    "rgr = linear_model.LogisticRegressionCV(solver='lbfgs',multi_class='multinomial', scoring='accuracy')\n",
    "rgr.fit(xtrain, ytrain)"
   ]
  },
  {
   "cell_type": "code",
   "execution_count": 19,
   "metadata": {
    "collapsed": false
   },
   "outputs": [],
   "source": [
    "pred=rgr.predict(xtest)"
   ]
  },
  {
   "cell_type": "code",
   "execution_count": 20,
   "metadata": {
    "collapsed": false
   },
   "outputs": [
    {
     "data": {
      "text/plain": [
       "0.59250000000000003"
      ]
     },
     "execution_count": 20,
     "metadata": {},
     "output_type": "execute_result"
    }
   ],
   "source": [
    "metrics.accuracy_score(pred, ytest)"
   ]
  },
  {
   "cell_type": "code",
   "execution_count": 49,
   "metadata": {
    "collapsed": true
   },
   "outputs": [],
   "source": [
    "from sklearn import svm"
   ]
  },
  {
   "cell_type": "code",
   "execution_count": 50,
   "metadata": {
    "collapsed": false
   },
   "outputs": [
    {
     "data": {
      "text/plain": [
       "SVC(C=1.0, cache_size=200, class_weight=None, coef0=0.0,\n",
       "  decision_function_shape=None, degree=3, gamma='auto', kernel='rbf',\n",
       "  max_iter=-1, probability=False, random_state=None, shrinking=True,\n",
       "  tol=0.001, verbose=False)"
      ]
     },
     "execution_count": 50,
     "metadata": {},
     "output_type": "execute_result"
    }
   ],
   "source": [
    "rgr2 = svm.SVC(kernel='rbf')\n",
    "rgr2.fit(xtrain, ytrain)"
   ]
  },
  {
   "cell_type": "code",
   "execution_count": 51,
   "metadata": {
    "collapsed": false
   },
   "outputs": [
    {
     "data": {
      "text/plain": [
       "0.57250000000000001"
      ]
     },
     "execution_count": 51,
     "metadata": {},
     "output_type": "execute_result"
    }
   ],
   "source": [
    "pred = rgr2.predict(xtest)\n",
    "metrics.accuracy_score(ytest, pred)"
   ]
  },
  {
   "cell_type": "code",
   "execution_count": 59,
   "metadata": {
    "collapsed": false
   },
   "outputs": [],
   "source": [
    "key_sub2 = xtrain.keys().drop(['residual sugar','fixed acidity','density'])\n",
    "\n",
    "subset_xtrain = xtrain[key_sub2]\n",
    "subset_xtest = xtest[key_sub2]"
   ]
  },
  {
   "cell_type": "code",
   "execution_count": 90,
   "metadata": {
    "collapsed": false
   },
   "outputs": [
    {
     "data": {
      "text/plain": [
       "LogisticRegressionCV(Cs=10, class_weight=None, cv=None, dual=False,\n",
       "           fit_intercept=True, intercept_scaling=1.0, max_iter=100,\n",
       "           multi_class='ovr', n_jobs=1, penalty='l2', random_state=None,\n",
       "           refit=True, scoring='accuracy', solver='lbfgs', tol=0.0001,\n",
       "           verbose=0)"
      ]
     },
     "execution_count": 90,
     "metadata": {},
     "output_type": "execute_result"
    }
   ],
   "source": [
    "rgr3 = linear_model.LogisticRegressionCV(scoring='accuracy')\n",
    "rgr3.fit(subset_xtrain, ytrain)"
   ]
  },
  {
   "cell_type": "code",
   "execution_count": 91,
   "metadata": {
    "collapsed": false
   },
   "outputs": [],
   "source": [
    "pred3 = rgr3.predict(subset_xtest)"
   ]
  },
  {
   "cell_type": "code",
   "execution_count": 92,
   "metadata": {
    "collapsed": false
   },
   "outputs": [
    {
     "data": {
      "text/plain": [
       "0.56999999999999995"
      ]
     },
     "execution_count": 92,
     "metadata": {},
     "output_type": "execute_result"
    }
   ],
   "source": [
    "metrics.accuracy_score(ytest, pred3)"
   ]
  },
  {
   "cell_type": "markdown",
   "metadata": {},
   "source": [
    "## White wine modeling"
   ]
  },
  {
   "cell_type": "code",
   "execution_count": 104,
   "metadata": {
    "collapsed": true
   },
   "outputs": [],
   "source": [
    "xtrain, xtest, ytrain, ytest = cross_validation.train_test_split(subset_white, white2['quality'], train_size = 0.75)"
   ]
  },
  {
   "cell_type": "code",
   "execution_count": 108,
   "metadata": {
    "collapsed": false
   },
   "outputs": [
    {
     "data": {
      "text/plain": [
       "LogisticRegressionCV(Cs=10, class_weight=None, cv=None, dual=False,\n",
       "           fit_intercept=True, intercept_scaling=1.0, max_iter=100,\n",
       "           multi_class='multinomial', n_jobs=1, penalty='l2',\n",
       "           random_state=None, refit=True, scoring=None, solver='lbfgs',\n",
       "           tol=0.0001, verbose=0)"
      ]
     },
     "execution_count": 108,
     "metadata": {},
     "output_type": "execute_result"
    }
   ],
   "source": [
    "rgr4 = linear_model.LogisticRegressionCV(solver='lbfgs',multi_class='multinomial')\n",
    "rgr4.fit(xtrain, ytrain)"
   ]
  },
  {
   "cell_type": "code",
   "execution_count": 109,
   "metadata": {
    "collapsed": true
   },
   "outputs": [],
   "source": [
    "pred=rgr4.predict(xtest)"
   ]
  },
  {
   "cell_type": "code",
   "execution_count": 110,
   "metadata": {
    "collapsed": false
   },
   "outputs": [
    {
     "data": {
      "text/plain": [
       "0.51755102040816325"
      ]
     },
     "execution_count": 110,
     "metadata": {},
     "output_type": "execute_result"
    }
   ],
   "source": [
    "metrics.accuracy_score(ytest, pred)"
   ]
  },
  {
   "cell_type": "code",
   "execution_count": null,
   "metadata": {
    "collapsed": true
   },
   "outputs": [],
   "source": []
  }
 ],
 "metadata": {
  "anaconda-cloud": {},
  "kernelspec": {
   "display_name": "Python [py35]",
   "language": "python",
   "name": "Python [py35]"
  },
  "language_info": {
   "codemirror_mode": {
    "name": "ipython",
    "version": 3
   },
   "file_extension": ".py",
   "mimetype": "text/x-python",
   "name": "python",
   "nbconvert_exporter": "python",
   "pygments_lexer": "ipython3",
   "version": "3.5.2"
  }
 },
 "nbformat": 4,
 "nbformat_minor": 0
}
